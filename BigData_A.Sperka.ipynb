{
  "nbformat": 4,
  "nbformat_minor": 0,
  "metadata": {
    "kernelspec": {
      "language": "python",
      "display_name": "Python 3",
      "name": "python3"
    },
    "language_info": {
      "name": "python",
      "version": "3.7.6",
      "mimetype": "text/x-python",
      "codemirror_mode": {
        "name": "ipython",
        "version": 3
      },
      "pygments_lexer": "ipython3",
      "nbconvert_exporter": "python",
      "file_extension": ".py"
    },
    "colab": {
      "name": "BigData_A.Sperka.ipynb",
      "provenance": []
    }
  },
  "cells": [
    {
      "cell_type": "markdown",
      "metadata": {
        "id": "HRInq5gOmSuC"
      },
      "source": [
        "# NYC fare prediction using Rapids and XG Boost running on GPU\n",
        "\n",
        "[This notebook](TBD) shows my approach for predicting the fare amount for a taxi ride in NYC when given the pickup and dropoff locations of the passangers regarding the [New York City Taxi Fare Prediction Challange]( https://www.kaggle.com/c/new-york-city-taxi-fare-prediction).\n",
        "\n",
        "\n",
        "\n",
        "---\n",
        "\n",
        "This notebook is seperated into different sections, relating to the common data science workflow (except the hypothesis and data collection where already done). I tested different models to get used to Rapids and Cudf by starting with simple linear models and ended up with XG Boost and Light GBM. The best performant results are deffinitely the XG Boost ones. Different other Kernels state that they achieve similar results with LGBM hence I had problems with running the model on the GPU although I installed the right version (some bug reports also suggest there is a problem with the model).\n",
        "\n",
        "\n",
        "0.   Previous Commits\n",
        "1.   Setup and Check Infrastructure\n",
        "2.   Having a first look at the Data (EDA)\n",
        "3.   Data Cleaning (Feature Engineering)\n",
        "4.   Linear Regression GPU\n",
        "5.   Ridge Regression GPU\n",
        "6.   K-Nearest Neighbor Regression GPU\n",
        "7.   Random Forest GPU\n",
        "8.   XG Boost on GPU\n",
        "9.   Light GBM on GPU (not running on Colab)\n",
        "10.   Stacked Ensemble XGB and LGBM\n",
        "11.   Evaulation\n",
        "\n",
        "---\n",
        "\n",
        "## Approach:\n",
        "\n",
        "I started with this project by getting used to the Rapids environment and the Cuda librarys and went on for more advanced models (XGB and LGBM) with testing them on common parameters mentioned in different notebooks on kaggle (see inspiration in first section) to get a feeling what influences what and how does it generelly work. After gaining some experience I combined several data cleaning approaches from differnt notebooks and general information from the internet. The most promising score yet was 3.19347 which would result in rank 432 of the public leaderboard (if the competition would still run). My kaggle notebook can be found [here, user handle: AlexS2020](https://www.kaggle.comrapdis-and-xg-boost-running-on-gpu)\n",
        "\n",
        "\n",
        "## Evaluation:\n",
        "As will be mentioned in the last section, I used to compare the different RMSE and R2 score values of different models as well as uploading the submission files to get a direct comperision via the score. Last step to evaluate are the confusion_matrices to see how many false positive/negative and true postivie/negative there are.\n",
        "\n",
        "## Conclusion:\n",
        "Overall it was an interesting project / competition which enabled me to learn new stuff and try out several tools. It is interesting to see, that the same code running on the GPU is so much faster compared to CPU implementations when looking at XGB for example. Interesting to me was also that relatively simple models like the KNN or Random Forest performed quite well in relation to the training runtime and ressource consumption. It would have been nice to directly compare the LBGM model against XGB since I read quite a bit about both. Unfortunately this was not possible within the desired scope due to runtime issues mostly. \n",
        "\n",
        "Another interesting aspect was to see the huge difference a properly cleaned dataset can make when using the same model.\n",
        "\n",
        "\n",
        "## Outlook:\n",
        "There are several ways how to improve these scores from my point of view. Some of them can be seen in other notebooks already (especially the larger ones).\n",
        "\n",
        "1.   Run the code on several GPUs to figure out how well Rapids really performs in combination with DASK compared to one GPU or CPU.\n",
        "2.   Ensemble different models based on their R2 score to test if the gap can be reduced this way (depending on the strength of the used models) An initial implementation for this is given in section 10. but I could not test it yet,\n",
        "3.   Use larger grid searches to find better parameters for the given models\n",
        "4.   An adaptive learning rate could also help with optimizing the results\n",
        "\n",
        "## Limitations:\n",
        "- It was possible to install the LBGM Version for GPU and the memory was consumed by the data but it did not run on the GPU somehow. So it was quite slow to do some training on this model and I could not compare it directly to XGB (or combine these two as intended in section 10)\n",
        "- Some of the points mentioned in Outlook were not possible since running code in browser + only 36h GPU-time per week is hardly enough\n",
        "- Automation of parameter search on large scale not feasible (not even with the GPU)\n"
      ]
    },
    {
      "cell_type": "markdown",
      "metadata": {
        "id": "5UoPjqvXe8cF"
      },
      "source": [
        "##References:\n",
        "Inspirations for implementation and design:\n",
        "\n",
        "- https://github.com/rapidsai/cuml/tree/branch-0.13/notebooks \n",
        "- https://www.kaggle.com/beniel/rapids-cudf-tutorial\n",
        "- https://www.kaggle.com/aerdem4/rapids-svm-on-trends-neuroimaging\n",
        "- https://www.kaggle.com/confirm/xfeat-cudf-lightgbm-catboost-wip\n",
        "- https://www.kaggle.com/aiswaryaramachandran/baseline-model-xgboost-3-03-rmse/data?select=train_cleaned.csv\n",
        "- https://www.kaggle.com/aiswaryaramachandran/eda-and-feature-engineering/comments\n",
        "- https://www.kaggle.com/btyuhas/bayesian-optimization-with-xgboost\n",
        "- https://www.kaggle.com/pnprabakaran/ny-city-taxi-fare-exploration-with-dask-and-dxgb\n",
        "- https://www.kaggle.com/dsaichand3/lgbm-gpu\n",
        "- https://www.kaggle.com/amar09/fare-prediction-stacked-ensemble-xgboost-lgbm/log\n",
        "- https://www.kaggle.com/nicapotato/taxi-rides-time-analysis-and-oof-lgbm\n",
        "\n",
        "Thanks to anyone whos code I have used!\n",
        "\n",
        "\n"
      ]
    },
    {
      "cell_type": "markdown",
      "metadata": {
        "id": "fVXtwXAHLD44"
      },
      "source": [
        "# 0. Previous Commits - Comparison of different Models and Scores\n",
        "\n"
      ]
    },
    {
      "cell_type": "markdown",
      "metadata": {
        "id": "-fEoMZTsLSd7"
      },
      "source": [
        "Predictions are done when using the whole data set\n",
        "\n",
        "### Linear Regression\n",
        "\n",
        "**Commit 30 (Baseline) Score: 5.15497**\n",
        "  - R2 score = 0.7166260480880737\n",
        "\n",
        "### Ridge Regression\n",
        "\n",
        "**Commit 31 Score: 5.15489**\n",
        "\n",
        "params_ridge\n",
        "  - alpha = loguniform(1e-5, 1e0)\n",
        "  - solver = ['eig', 'cd']\n",
        "  - n_iter = 100\n",
        "  - cv = 5\n",
        "  - verbose = 0\n",
        "  - n_jobs = 1\n",
        "\n",
        "ridge_params\n",
        "  - alpha = 0.240960447726532\n",
        "  - fit_intercept = True\n",
        "  - normalize = False\n",
        "  - solver = 'eig'\n",
        "\n",
        "  - R2 score = 0.7166244983673096\n",
        "\n",
        "### K-Nearest Neighbor \n",
        "**Commit 33 Score: 4.67805**\n",
        "  - n_neighbors = 4\n",
        "  - data_size = 55 Mio rows\n",
        "  - R2 score = 0.7047221660614014\n",
        "\n",
        "### Random Forest \n",
        "**Commit 34 Score: 3.96958**\n",
        "  - n_estimators=10\n",
        "  - n_jobs=-1\n",
        "  - data_size = 55 Mio rows\n",
        "  - R2 score = 0.6802817583084106\n",
        "\n",
        "### XG Boost (GPU)\n",
        "**Commit 5 Score: 3.98546**\n",
        "  - n_estimators':500,\n",
        "  - max_depth':7,\n",
        "  - learning_rate':0.0005,\n",
        "  - subsample':0.9,\n",
        "  - colsample_bytree':0.9,\n",
        "  - missing':-999,\n",
        "  - random_state':2020,\n",
        "  - objective':'reg:linear',\n",
        "  - gamma':0.3,\n",
        "  - reg_alpha':0.01,\n",
        "  - tree_method':'gpu_hist'\n",
        "\n",
        "  - data_size = 7 Mio. rows\n",
        "\n",
        "### XG Boost (GPU) BEST\n",
        "**Commit 23 Score: 3.19116**\n",
        "  - n_estimators':350,\n",
        "  - max_depth':7,\n",
        "  - learning_rate':0.003,\n",
        "  - subsample':0.9,\n",
        "  - colsample_bytree':0.9,\n",
        "  - missing':-999,\n",
        "  - random_state':2020,\n",
        "  - objective':'reg:linear',\n",
        "  - gamma':0.3,\n",
        "  - reg_alpha':0.01,\n",
        "  - tree_method':'gpu_hist'  \n",
        "\n",
        "  - rounds = 80000\n",
        "  - early stopping = 250\n",
        "  - R2 score = 0.832559\n",
        "  - Test-rmse = 3.64371\n",
        "  - Wall time = 49 min\n",
        "  - data_size = 55 Mio. rows, cleaned dataset"
      ]
    },
    {
      "cell_type": "markdown",
      "metadata": {
        "id": "m_g3Zj-nHUeR"
      },
      "source": [
        "# 1. Setup and Check Infrastructure\n",
        "The first step is to get the infrastructure up and running. Important to mention here is that it is strongly recommended to use a GPU for calculation purpose.\n"
      ]
    },
    {
      "cell_type": "markdown",
      "metadata": {
        "id": "jw7sbM1_ukTi"
      },
      "source": [
        "If you find yourself running these notebooks on Colab as well as on Kaggle you might find this placeholder thing helpful. Only thing to touch is the environment you are running on (Kaggle or Colab).\n",
        "\n",
        "Optional parameters:\n",
        "- cleaned_dataset when you are running on Kaggle an use a precleaned one\n",
        "- debug_mode for enabling a minimal row number\n",
        "- rows_datasample defining how many rows will be used in the training (irrelevant when debug_mode=True)"
      ]
    },
    {
      "cell_type": "code",
      "metadata": {
        "id": "qKBQtZzV2zNL",
        "trusted": true
      },
      "source": [
        "## Switch from Kaggle to Colab easily\n",
        "environment='Kaggle' ## Kaggle / Colab\n",
        "\n",
        "## Using Cleaned dataset? This can be useful when running into crashes or Cudf incompatibility, just add this to the kaggle input: https://www.kaggle.com/aiswaryaramachandran/baseline-model-xgboost-3-03-rmse/data?select=train_cleaned.csv\n",
        "cleaned_dataset=True ## Change to True or False\n",
        "\n",
        "## when True only 50.000 rows are used for debugging purpose. Set to False when doing real training\n",
        "debug_mode=False ## Change to True or False\n",
        "\n",
        "## choose how many rows of the training data sample you would like to use (only works when debug_mode=False ), max is 55423480\n",
        "rows_datasample=5542348"
      ],
      "execution_count": null,
      "outputs": []
    },
    {
      "cell_type": "markdown",
      "metadata": {
        "id": "rtUnslYKFldR"
      },
      "source": [
        "### Installing all necessary librarys and tools"
      ]
    },
    {
      "cell_type": "markdown",
      "metadata": {
        "id": "97GsQdKHCr-8"
      },
      "source": [
        "Setting up the environment path accordingly to your choice of environment"
      ]
    },
    {
      "cell_type": "code",
      "metadata": {
        "id": "lF1XfHZiw0-e",
        "trusted": true,
        "outputId": "2daed232-3e49-4a30-e255-ccea7adb741e"
      },
      "source": [
        "if environment == 'Kaggle':\n",
        "  env_submission_path='./'\n",
        "  env_path='../input/new-york-city-taxi-fare-prediction/'\n",
        "  print('The environment and paths were successfully setup for Kaggle')\n",
        "elif environment == 'Colab':\n",
        "  env_submission_path='/content/drive/My Drive/Colab Notebooks/'\n",
        "  env_path='/content/drive/My Drive/Colab Notebooks/'\n",
        "\n",
        "  from google.colab import drive\n",
        "  drive.mount('/content/drive')\n",
        "\n",
        "  print('The environment and paths were successfully setup for Colab')\n",
        "\n",
        "else:\n",
        "  print('Something went wrong here, please choose one of the options for path completion: Kaggle or Colab (or implement your own thing)')\n"
      ],
      "execution_count": null,
      "outputs": [
        {
          "output_type": "stream",
          "text": [
            "The environment and paths were successfully setup for Kaggle\n"
          ],
          "name": "stdout"
        }
      ]
    },
    {
      "cell_type": "markdown",
      "metadata": {
        "id": "-Ri5Sq2eHPp7"
      },
      "source": [
        "Check for GPU"
      ]
    },
    {
      "cell_type": "code",
      "metadata": {
        "id": "Ix7egkMuVbLC",
        "trusted": true,
        "outputId": "f97ae1d8-054f-46c7-cdde-a0e4194b21f8"
      },
      "source": [
        "!nvidia-smi"
      ],
      "execution_count": null,
      "outputs": [
        {
          "output_type": "stream",
          "text": [
            "Wed Sep 30 20:14:31 2020       \r\n",
            "+-----------------------------------------------------------------------------+\r\n",
            "| NVIDIA-SMI 418.67       Driver Version: 418.67       CUDA Version: 10.1     |\r\n",
            "|-------------------------------+----------------------+----------------------+\r\n",
            "| GPU  Name        Persistence-M| Bus-Id        Disp.A | Volatile Uncorr. ECC |\r\n",
            "| Fan  Temp  Perf  Pwr:Usage/Cap|         Memory-Usage | GPU-Util  Compute M. |\r\n",
            "|===============================+======================+======================|\r\n",
            "|   0  Tesla P100-PCIE...  Off  | 00000000:00:04.0 Off |                    0 |\r\n",
            "| N/A   51C    P0    31W / 250W |      0MiB / 16280MiB |      0%      Default |\r\n",
            "+-------------------------------+----------------------+----------------------+\r\n",
            "                                                                               \r\n",
            "+-----------------------------------------------------------------------------+\r\n",
            "| Processes:                                                       GPU Memory |\r\n",
            "|  GPU       PID   Type   Process name                             Usage      |\r\n",
            "|=============================================================================|\r\n",
            "|  No running processes found                                                 |\r\n",
            "+-----------------------------------------------------------------------------+\r\n"
          ],
          "name": "stdout"
        }
      ]
    },
    {
      "cell_type": "code",
      "metadata": {
        "id": "X70pCtE_c066",
        "trusted": true,
        "outputId": "fc5a0ac4-c9c3-4b22-bbaf-6c557a161e5f"
      },
      "source": [
        "!lscpu | grep \"Model name:\"\n",
        "!lscpu | grep \"CPU(s)\""
      ],
      "execution_count": null,
      "outputs": [
        {
          "output_type": "stream",
          "text": [
            "Model name:          Intel(R) Xeon(R) CPU @ 2.00GHz\n",
            "CPU(s):              2\n",
            "On-line CPU(s) list: 0,1\n",
            "NUMA node0 CPU(s):   0,1\n"
          ],
          "name": "stdout"
        }
      ]
    },
    {
      "cell_type": "markdown",
      "metadata": {
        "id": "6B6hTGa8C0EY"
      },
      "source": [
        "Depending on the environment you might want to install different packages (or just link to them)"
      ]
    },
    {
      "cell_type": "code",
      "metadata": {
        "id": "SY8-qcVuVguX",
        "trusted": true,
        "outputId": "cd0ce703-49d9-4a04-e57b-106b5d48db5e"
      },
      "source": [
        "%%time\n",
        "if environment == 'Kaggle':\n",
        "  import sys\n",
        "  !cp ../input/rapids/rapids.0.14.0 /opt/conda/envs/rapids.tar.gz\n",
        "  !cd /opt/conda/envs/ && tar -xzvf rapids.tar.gz > /dev/null\n",
        "  sys.path = [\"/opt/conda/envs/rapids/lib/python3.7/site-packages\"] + sys.path\n",
        "  sys.path = [\"/opt/conda/envs/rapids/lib/python3.7\"] + sys.path\n",
        "  sys.path = [\"/opt/conda/envs/rapids/lib\"] + sys.path \n",
        "  !cp /opt/conda/envs/rapids/lib/libxgboost.so /opt/conda/lib/\n",
        "  print('You are all set for the kaggle rapids environment')\n",
        "\n",
        "elif environment == 'Colab':\n",
        "  # Install RAPIDS and Dask_ml\n",
        "  !pip install dask_ml\n",
        "  !pip install dask_cuda\n",
        "  !git clone https://github.com/rapidsai/rapidsai-csp-utils.git\n",
        "  !bash rapidsai-csp-utils/colab/rapids-colab.sh stable\n",
        "\n",
        "  import sys, os\n",
        "  dist_package_index = sys.path.index('/usr/local/lib/python3.6/dist-packages')\n",
        "  sys.path = sys.path[:dist_package_index] + ['/usr/local/lib/python3.6/site-packages'] + sys.path[dist_package_index:]\n",
        "  sys.path\n",
        "  exec(open('rapidsai-csp-utils/colab/update_modules.py').read(), globals())\n",
        "  print('You are all set for the colab rapids environment')\n",
        "\n",
        "else:\n",
        "  print('Something went wrong here, please choose one of the options for path completion: Kaggle or Colab (or implement your own thing). If Kaggle failed please make sure you added the RAPIDS file on Kaggle to your Input!')"
      ],
      "execution_count": null,
      "outputs": [
        {
          "output_type": "stream",
          "text": [
            "You are all set for the kaggle rapids environment\n",
            "CPU times: user 1.73 s, sys: 297 ms, total: 2.03 s\n",
            "Wall time: 1min 21s\n"
          ],
          "name": "stdout"
        }
      ]
    },
    {
      "cell_type": "markdown",
      "metadata": {
        "id": "OVCRVg_XC6vd"
      },
      "source": [
        "Library import, important to notice here is we are using mostly cuml librarys for GPU access"
      ]
    },
    {
      "cell_type": "code",
      "metadata": {
        "id": "BTWeyn2qYyl5",
        "trusted": true,
        "outputId": "c2a98ca5-309e-475f-d690-99433b02932a"
      },
      "source": [
        "import nvstrings\n",
        "import numpy as np\n",
        "import cudf, cuml\n",
        "import dask_cudf\n",
        "import io, requests\n",
        "import math\n",
        "import gc\n",
        "import cupy as cp\n",
        "import pandas as pd\n",
        "\n",
        "import time \n",
        "import itertools\n",
        "\n",
        "#Plotting\n",
        "import matplotlib.pyplot as plt\n",
        "import seaborn as sns \n",
        "\n",
        "#Learning\n",
        "from cuml.preprocessing.model_selection import train_test_split\n",
        "from scipy.stats import uniform\n",
        "\n",
        "# Linear Models https://github.com/rapidsai/cuml/tree/branch-0.13/notebooks\n",
        "from cuml.linear_model import LinearRegression # Linear\n",
        "from cuml.linear_model import LogisticRegression # Logisitc\n",
        "from cuml.linear_model import ElasticNet # Elastic\n",
        "from cuml.linear_model import Ridge # Ridge\n",
        "from cuml.linear_model import Lasso # Lasso\n",
        "from cuml.linear_model import MBSGDRegressor as cumlMBSGDRegressor # Mini Batch SGD Regressor\n",
        "\n",
        "from cuml.solvers import SGD as cumlSGD # Stochastic Gradient Descent\n",
        "from cuml.ensemble import RandomForestRegressor as cuRF # Random Forest\n",
        "from cuml.dask.ensemble import RandomForestClassifier as cumlDaskRF # RandomForest\n",
        "\n",
        "from cuml.neighbors import KNeighborsRegressor as cumlKNR # Nearest Neighbours\n",
        "from cuml.svm import SVC # Support Vector Machines\n",
        "\n",
        "from cuml import ForestInference\n",
        "import xgboost as xgb\n",
        "\n",
        "from sklearn.model_selection import RandomizedSearchCV\n",
        "from sklearn.model_selection import GridSearchCV\n",
        "\n",
        "from cuml.metrics.regression import r2_score\n",
        "from cuml.metrics.accuracy import accuracy_score\n",
        "from sklearn.metrics import make_scorer\n",
        "from sklearn.metrics import accuracy_score as sk_acc\n",
        "from sklearn.utils.fixes import loguniform"
      ],
      "execution_count": null,
      "outputs": [
        {
          "output_type": "stream",
          "text": [
            "/opt/conda/lib/python3.7/site-packages/ipykernel_launcher.py:1: DeprecationWarning: nvstrings will be removed in 0.15. Please use equivalent from libcudf\n",
            "  \"\"\"Entry point for launching an IPython kernel.\n"
          ],
          "name": "stderr"
        }
      ]
    },
    {
      "cell_type": "markdown",
      "metadata": {
        "id": "EdLK3KjiDF9v"
      },
      "source": [
        "When running XG Boost distributed on several GPUs you need to install Dask_xgboost. Did this for some benchmarking, although it did not run on one GPU. You can spare this installation if you only have one GPU."
      ]
    },
    {
      "cell_type": "code",
      "metadata": {
        "id": "em2GLYc-FnAx",
        "trusted": true,
        "outputId": "26e1a75c-17dc-42b6-935c-572e4e8218ca"
      },
      "source": [
        "#!pip install -U xgboost\n",
        "!pip install dask-xgboost\n",
        "import dask_xgboost as dxgb\n",
        "\n",
        "import dask; print('Dask Version:', dask.__version__)\n",
        "\n",
        "from dask.distributed import Client\n",
        "from dask_cuda import LocalCUDACluster\n",
        "\n",
        "# create a local cluster with 4 workers\n",
        "n_workers = 1\n",
        "# create a local CUDA cluster\n",
        "cluster = LocalCUDACluster()\n",
        "client = Client(cluster)\n",
        "client\n",
        "\n",
        "from dask.delayed import delayed\n",
        "\n",
        "import dask.dataframe as dd\n",
        "import dask.array as da\n",
        "\n",
        "import cudf; print('cuDF Version:', cudf.__version__)\n",
        "import numpy as np; print('NumPy Version:', np.__version__)"
      ],
      "execution_count": null,
      "outputs": [
        {
          "output_type": "stream",
          "text": [
            "Requirement already satisfied: dask-xgboost in /opt/conda/lib/python3.7/site-packages (0.1.11)\n",
            "Requirement already satisfied: distributed>=1.15.2 in /opt/conda/lib/python3.7/site-packages (from dask-xgboost) (2.14.0)\n",
            "Requirement already satisfied: xgboost<=0.90 in /opt/conda/lib/python3.7/site-packages (from dask-xgboost) (0.90)\n",
            "Requirement already satisfied: dask in /opt/conda/lib/python3.7/site-packages (from dask-xgboost) (2.25.0)\n",
            "Requirement already satisfied: tblib>=1.6.0 in /opt/conda/lib/python3.7/site-packages (from distributed>=1.15.2->dask-xgboost) (1.6.0)\n",
            "Requirement already satisfied: tornado>=5; python_version < \"3.8\" in /opt/conda/lib/python3.7/site-packages (from distributed>=1.15.2->dask-xgboost) (5.0.2)\n",
            "Requirement already satisfied: zict>=0.1.3 in /opt/conda/lib/python3.7/site-packages (from distributed>=1.15.2->dask-xgboost) (2.0.0)\n",
            "Requirement already satisfied: sortedcontainers!=2.0.0,!=2.0.1 in /opt/conda/lib/python3.7/site-packages (from distributed>=1.15.2->dask-xgboost) (2.1.0)\n",
            "Requirement already satisfied: cloudpickle>=0.2.2 in /opt/conda/lib/python3.7/site-packages (from distributed>=1.15.2->dask-xgboost) (1.3.0)\n",
            "Requirement already satisfied: click>=6.6 in /opt/conda/lib/python3.7/site-packages (from distributed>=1.15.2->dask-xgboost) (7.1.1)\n",
            "Requirement already satisfied: psutil>=5.0 in /opt/conda/lib/python3.7/site-packages (from distributed>=1.15.2->dask-xgboost) (5.7.0)\n",
            "Requirement already satisfied: setuptools in /opt/conda/lib/python3.7/site-packages (from distributed>=1.15.2->dask-xgboost) (46.1.3.post20200325)\n",
            "Requirement already satisfied: toolz>=0.8.2 in /opt/conda/lib/python3.7/site-packages (from distributed>=1.15.2->dask-xgboost) (0.10.0)\n",
            "Requirement already satisfied: pyyaml in /opt/conda/lib/python3.7/site-packages (from distributed>=1.15.2->dask-xgboost) (5.3.1)\n",
            "Requirement already satisfied: msgpack>=0.6.0 in /opt/conda/lib/python3.7/site-packages (from distributed>=1.15.2->dask-xgboost) (1.0.0)\n",
            "Requirement already satisfied: scipy in /opt/conda/lib/python3.7/site-packages (from xgboost<=0.90->dask-xgboost) (1.4.1)\n",
            "Requirement already satisfied: numpy in /opt/conda/lib/python3.7/site-packages (from xgboost<=0.90->dask-xgboost) (1.18.5)\n",
            "Requirement already satisfied: heapdict in /opt/conda/lib/python3.7/site-packages (from zict>=0.1.3->distributed>=1.15.2->dask-xgboost) (1.0.1)\n",
            "\u001b[33mWARNING: You are using pip version 20.2.2; however, version 20.2.3 is available.\n",
            "You should consider upgrading via the '/opt/conda/bin/python3.7 -m pip install --upgrade pip' command.\u001b[0m\n",
            "Dask Version: 2.25.0\n",
            "cuDF Version: 0.14.0\n",
            "NumPy Version: 1.18.5\n"
          ],
          "name": "stdout"
        },
        {
          "output_type": "stream",
          "text": [
            "/opt/conda/envs/rapids/lib/python3.7/site-packages/distributed/client.py:1137: VersionMismatchWarning: Mismatched versions found\n",
            "\n",
            "+---------+--------+-----------+---------+\n",
            "| Package | client | scheduler | workers |\n",
            "+---------+--------+-----------+---------+\n",
            "| numpy   | 1.18.5 | 1.18.5    | 1.19.1  |\n",
            "| tornado | 5.0.2  | 5.0.2     | 6.0.4   |\n",
            "+---------+--------+-----------+---------+\n",
            "  warnings.warn(version_module.VersionMismatchWarning(msg[0][\"warning\"]))\n"
          ],
          "name": "stderr"
        }
      ]
    },
    {
      "cell_type": "markdown",
      "metadata": {
        "id": "YzPMX0svDfuM"
      },
      "source": [
        "### Helper Functions\n",
        "\n",
        "Since the save to CSV file and the calculation of the R2 score show up quite often during this kernel I decided to place them in small functions for an easy and reusable approach."
      ]
    },
    {
      "cell_type": "code",
      "metadata": {
        "id": "gvenGtnaBI66",
        "trusted": true
      },
      "source": [
        "def save_model_csv(y_pred, csv_name):\n",
        "  save_submission = submission\n",
        "  save_submission['fare_amount']=y_pred\n",
        "  save_submission.to_csv(env_submission_path+csv_name, index=False)\n",
        "  return save_submission.head(2)"
      ],
      "execution_count": null,
      "outputs": []
    },
    {
      "cell_type": "code",
      "metadata": {
        "id": "K1_w-_sks9sY",
        "trusted": true
      },
      "source": [
        "def calc_R2(y_pred, model_name):\n",
        "  score = r2_score(y_pred, y_test)\n",
        "  print(\"R2 Score for the \"+model_name+\" model is: \",score)\n",
        "  return score"
      ],
      "execution_count": null,
      "outputs": []
    },
    {
      "cell_type": "code",
      "metadata": {
        "id": "3_XnscokeAc4",
        "trusted": true
      },
      "source": [
        "## initializing the r2 scores so there will be no errors at the end when comparing them even if we do not run all models\n",
        "score_linear_reg=0\n",
        "score_ridge_reg=0\n",
        "score_KNN=0\n",
        "score_Rand_For=0\n",
        "score_XGB_GPU=0\n",
        "score_LGBM=0"
      ],
      "execution_count": null,
      "outputs": []
    },
    {
      "cell_type": "markdown",
      "metadata": {
        "id": "ysZh0eaaHZT4"
      },
      "source": [
        "# 2. First look at the Data (EDA)\n",
        "\n",
        "The inital step to getting used to the data is having a look at it and loading it in a useable structure."
      ]
    },
    {
      "cell_type": "markdown",
      "metadata": {
        "id": "lQL3PBsOEoA7"
      },
      "source": [
        "Before we can train something which predicts the taxi fares we first have to take a look what data we have available. We start by loading the data into cudf dataframes by selecting the relevant columns first. \n",
        "\n",
        "---\n",
        "It happens that the system crashes if you choose a row number which is too large so that the data overflows your RAM / GPU (especially on colab, max 5 Mio rows). On Kaggle you can go up to max. 41 Mio. rows. If you choose to use the precleaned dataset you can use all the available data."
      ]
    },
    {
      "cell_type": "code",
      "metadata": {
        "id": "N9AE7Djfw8uN",
        "trusted": true
      },
      "source": [
        "cudf.set_allocator(\"managed\")\n",
        "\n",
        "## Check if using cleaned dataset or not\n",
        "if cleaned_dataset==False:\n",
        "    dtype = {     \n",
        "        'key':'str',\n",
        "        'fare_amount': 'float32',\n",
        "        'pickup_datetime':'str',\n",
        "        'pickup_longitude': 'float32',\n",
        "        'pickup_latitude': 'float32',\n",
        "        'dropoff_longitude': 'float32',\n",
        "        'dropoff_latitude': 'float32',\n",
        "        'passenger_count': 'int8'}\n",
        "else:\n",
        "    dtype = {     \n",
        "        'key':'str',\n",
        "        'fare_amount': 'float32',\n",
        "        'pickup_datetime':'str',\n",
        "        'pickup_longitude': 'float32',\n",
        "        'pickup_latitude': 'float32',\n",
        "        'dropoff_longitude': 'float32',\n",
        "        'dropoff_latitude': 'float32',\n",
        "        'passenger_count': 'int8',\n",
        "        'pickup_latitude_round3': 'float32',\n",
        "        'pickup_longitude_round3': 'float32',\n",
        "        'dropoff_latitude_round3': 'float32',\n",
        "        'dropoff_longitude_round3': 'float32',\n",
        "        'is_pickup_JFK': 'int8',\n",
        "        'is_dropoff_JFK': 'int8',\n",
        "        'is_pickup_EWR': 'int8',\n",
        "        'is_dropoff_EWR': 'int8',\n",
        "        'is_pickup_la_guardia': 'int8',\n",
        "        'is_dropoff_la_guardia': 'int8',\n",
        "        'is_pickup_lower_manhattan': 'int8',\n",
        "        'is_dropoff_lower_manhattan': 'int8'\n",
        "    }\n",
        "\n",
        "usecols = list(dtype.keys())"
      ],
      "execution_count": null,
      "outputs": []
    },
    {
      "cell_type": "markdown",
      "metadata": {
        "id": "QkuiqTqmGNmR"
      },
      "source": [
        "Load the data using cudf. Path variables are adjusted accordingly "
      ]
    },
    {
      "cell_type": "code",
      "metadata": {
        "id": "VlQ0urKVpLfB",
        "trusted": true,
        "outputId": "6132b840-44e7-4c09-f277-d9f5cf8f9a47"
      },
      "source": [
        "%%time\n",
        "# use a subset with 50.000 rows, max is nrows = 55423480\n",
        "\n",
        "if debug_mode == True:\n",
        "  ## using 1% (or how much you like)\n",
        "  nrows = 50000\n",
        "    \n",
        "#del X_train, X_test, y_train, y_test\n",
        "#gc.collect()\n",
        "\n",
        "## Check if using cleaned dataset or not and adjusting the links accordingly\n",
        "if cleaned_dataset==False:\n",
        "    test = cudf.read_csv(env_path+'test.csv', usecols=usecols, dtype=dtype)\n",
        "    train = cudf.read_csv(env_path+'train.csv', nrows=nrows, usecols=usecols, dtype=dtype)\n",
        "else:\n",
        "    nrows=55000000\n",
        "    test = cudf.read_csv('../input/eda-and-feature-engineering/test_cleaned.csv', usecols=usecols, dtype=dtype)\n",
        "    train = cudf.read_csv('../input/eda-and-feature-engineering/train_cleaned.csv', nrows=nrows, usecols=usecols, dtype=dtype)\n",
        "    \n",
        "submission = cudf.read_csv(env_path+'sample_submission.csv', usecols=usecols, dtype=dtype)"
      ],
      "execution_count": null,
      "outputs": [
        {
          "output_type": "stream",
          "text": [
            "CPU times: user 2.13 s, sys: 1.21 s, total: 3.34 s\n",
            "Wall time: 3.32 s\n"
          ],
          "name": "stdout"
        }
      ]
    },
    {
      "cell_type": "code",
      "metadata": {
        "id": "Eij2FPF2vuTF",
        "trusted": true,
        "outputId": "405857c7-d190-418b-a2e5-82702d25a94c"
      },
      "source": [
        "train.head(5)"
      ],
      "execution_count": null,
      "outputs": [
        {
          "output_type": "execute_result",
          "data": {
            "text/plain": [
              "                             key  fare_amount      pickup_datetime  \\\n",
              "0    2009-06-15 17:26:21.0000001          4.5  2009-06-15 17:26:21   \n",
              "1    2010-01-05 16:52:16.0000002         16.9  2010-01-05 16:52:16   \n",
              "2   2011-08-18 00:35:00.00000049          5.7  2011-08-18 00:35:00   \n",
              "3    2012-04-21 04:30:42.0000001          7.7  2012-04-21 04:30:42   \n",
              "4  2010-03-09 07:51:00.000000135          5.3  2010-03-09 07:51:00   \n",
              "\n",
              "   pickup_longitude  pickup_latitude  dropoff_longitude  dropoff_latitude  \\\n",
              "0        -73.844307        40.721321         -73.841614         40.712273   \n",
              "1        -74.016045        40.711304         -73.979271         40.782005   \n",
              "2        -73.982742        40.761269         -73.991234         40.750565   \n",
              "3        -73.987137        40.733139         -73.991570         40.758095   \n",
              "4        -73.968102        40.768009         -73.956665         40.783768   \n",
              "\n",
              "   passenger_count  pickup_latitude_round3  pickup_longitude_round3  \\\n",
              "0                1               40.721001               -73.844002   \n",
              "1                1               40.710999               -74.015999   \n",
              "2                2               40.761002               -73.983002   \n",
              "3                1               40.732998               -73.987007   \n",
              "4                1               40.768002               -73.968002   \n",
              "\n",
              "   dropoff_latitude_round3  dropoff_longitude_round3  is_pickup_JFK  \\\n",
              "0                40.711998                -73.842003              0   \n",
              "1                40.782001                -73.979004              0   \n",
              "2                40.750999                -73.990997              0   \n",
              "3                40.757999                -73.991997              0   \n",
              "4                40.784004                -73.957008              0   \n",
              "\n",
              "   is_dropoff_JFK  is_pickup_EWR  is_dropoff_EWR  is_pickup_la_guardia  \\\n",
              "0               0              0               0                     0   \n",
              "1               0              0               0                     0   \n",
              "2               0              0               0                     0   \n",
              "3               0              0               0                     0   \n",
              "4               0              0               0                     0   \n",
              "\n",
              "   is_dropoff_la_guardia  is_pickup_lower_manhattan  \\\n",
              "0                      0                          0   \n",
              "1                      0                          1   \n",
              "2                      0                          0   \n",
              "3                      0                          1   \n",
              "4                      0                          0   \n",
              "\n",
              "   is_dropoff_lower_manhattan  \n",
              "0                           0  \n",
              "1                           0  \n",
              "2                           0  \n",
              "3                           0  \n",
              "4                           0  "
            ],
            "text/html": [
              "<div>\n",
              "<style scoped>\n",
              "    .dataframe tbody tr th:only-of-type {\n",
              "        vertical-align: middle;\n",
              "    }\n",
              "\n",
              "    .dataframe tbody tr th {\n",
              "        vertical-align: top;\n",
              "    }\n",
              "\n",
              "    .dataframe thead th {\n",
              "        text-align: right;\n",
              "    }\n",
              "</style>\n",
              "<table border=\"1\" class=\"dataframe\">\n",
              "  <thead>\n",
              "    <tr style=\"text-align: right;\">\n",
              "      <th></th>\n",
              "      <th>key</th>\n",
              "      <th>fare_amount</th>\n",
              "      <th>pickup_datetime</th>\n",
              "      <th>pickup_longitude</th>\n",
              "      <th>pickup_latitude</th>\n",
              "      <th>dropoff_longitude</th>\n",
              "      <th>dropoff_latitude</th>\n",
              "      <th>passenger_count</th>\n",
              "      <th>pickup_latitude_round3</th>\n",
              "      <th>pickup_longitude_round3</th>\n",
              "      <th>dropoff_latitude_round3</th>\n",
              "      <th>dropoff_longitude_round3</th>\n",
              "      <th>is_pickup_JFK</th>\n",
              "      <th>is_dropoff_JFK</th>\n",
              "      <th>is_pickup_EWR</th>\n",
              "      <th>is_dropoff_EWR</th>\n",
              "      <th>is_pickup_la_guardia</th>\n",
              "      <th>is_dropoff_la_guardia</th>\n",
              "      <th>is_pickup_lower_manhattan</th>\n",
              "      <th>is_dropoff_lower_manhattan</th>\n",
              "    </tr>\n",
              "  </thead>\n",
              "  <tbody>\n",
              "    <tr>\n",
              "      <th>0</th>\n",
              "      <td>2009-06-15 17:26:21.0000001</td>\n",
              "      <td>4.5</td>\n",
              "      <td>2009-06-15 17:26:21</td>\n",
              "      <td>-73.844307</td>\n",
              "      <td>40.721321</td>\n",
              "      <td>-73.841614</td>\n",
              "      <td>40.712273</td>\n",
              "      <td>1</td>\n",
              "      <td>40.721001</td>\n",
              "      <td>-73.844002</td>\n",
              "      <td>40.711998</td>\n",
              "      <td>-73.842003</td>\n",
              "      <td>0</td>\n",
              "      <td>0</td>\n",
              "      <td>0</td>\n",
              "      <td>0</td>\n",
              "      <td>0</td>\n",
              "      <td>0</td>\n",
              "      <td>0</td>\n",
              "      <td>0</td>\n",
              "    </tr>\n",
              "    <tr>\n",
              "      <th>1</th>\n",
              "      <td>2010-01-05 16:52:16.0000002</td>\n",
              "      <td>16.9</td>\n",
              "      <td>2010-01-05 16:52:16</td>\n",
              "      <td>-74.016045</td>\n",
              "      <td>40.711304</td>\n",
              "      <td>-73.979271</td>\n",
              "      <td>40.782005</td>\n",
              "      <td>1</td>\n",
              "      <td>40.710999</td>\n",
              "      <td>-74.015999</td>\n",
              "      <td>40.782001</td>\n",
              "      <td>-73.979004</td>\n",
              "      <td>0</td>\n",
              "      <td>0</td>\n",
              "      <td>0</td>\n",
              "      <td>0</td>\n",
              "      <td>0</td>\n",
              "      <td>0</td>\n",
              "      <td>1</td>\n",
              "      <td>0</td>\n",
              "    </tr>\n",
              "    <tr>\n",
              "      <th>2</th>\n",
              "      <td>2011-08-18 00:35:00.00000049</td>\n",
              "      <td>5.7</td>\n",
              "      <td>2011-08-18 00:35:00</td>\n",
              "      <td>-73.982742</td>\n",
              "      <td>40.761269</td>\n",
              "      <td>-73.991234</td>\n",
              "      <td>40.750565</td>\n",
              "      <td>2</td>\n",
              "      <td>40.761002</td>\n",
              "      <td>-73.983002</td>\n",
              "      <td>40.750999</td>\n",
              "      <td>-73.990997</td>\n",
              "      <td>0</td>\n",
              "      <td>0</td>\n",
              "      <td>0</td>\n",
              "      <td>0</td>\n",
              "      <td>0</td>\n",
              "      <td>0</td>\n",
              "      <td>0</td>\n",
              "      <td>0</td>\n",
              "    </tr>\n",
              "    <tr>\n",
              "      <th>3</th>\n",
              "      <td>2012-04-21 04:30:42.0000001</td>\n",
              "      <td>7.7</td>\n",
              "      <td>2012-04-21 04:30:42</td>\n",
              "      <td>-73.987137</td>\n",
              "      <td>40.733139</td>\n",
              "      <td>-73.991570</td>\n",
              "      <td>40.758095</td>\n",
              "      <td>1</td>\n",
              "      <td>40.732998</td>\n",
              "      <td>-73.987007</td>\n",
              "      <td>40.757999</td>\n",
              "      <td>-73.991997</td>\n",
              "      <td>0</td>\n",
              "      <td>0</td>\n",
              "      <td>0</td>\n",
              "      <td>0</td>\n",
              "      <td>0</td>\n",
              "      <td>0</td>\n",
              "      <td>1</td>\n",
              "      <td>0</td>\n",
              "    </tr>\n",
              "    <tr>\n",
              "      <th>4</th>\n",
              "      <td>2010-03-09 07:51:00.000000135</td>\n",
              "      <td>5.3</td>\n",
              "      <td>2010-03-09 07:51:00</td>\n",
              "      <td>-73.968102</td>\n",
              "      <td>40.768009</td>\n",
              "      <td>-73.956665</td>\n",
              "      <td>40.783768</td>\n",
              "      <td>1</td>\n",
              "      <td>40.768002</td>\n",
              "      <td>-73.968002</td>\n",
              "      <td>40.784004</td>\n",
              "      <td>-73.957008</td>\n",
              "      <td>0</td>\n",
              "      <td>0</td>\n",
              "      <td>0</td>\n",
              "      <td>0</td>\n",
              "      <td>0</td>\n",
              "      <td>0</td>\n",
              "      <td>0</td>\n",
              "      <td>0</td>\n",
              "    </tr>\n",
              "  </tbody>\n",
              "</table>\n",
              "</div>"
            ]
          },
          "metadata": {
            "tags": []
          },
          "execution_count": 14
        }
      ]
    },
    {
      "cell_type": "code",
      "metadata": {
        "id": "T5631wMlv9FY",
        "trusted": true,
        "outputId": "8155b831-fdef-4a46-fc83-5934a59f80b1"
      },
      "source": [
        "test.head(5)"
      ],
      "execution_count": null,
      "outputs": [
        {
          "output_type": "execute_result",
          "data": {
            "text/plain": [
              "                           key      pickup_datetime  pickup_longitude  \\\n",
              "0  2015-01-27 13:08:24.0000002  2015-01-27 13:08:24        -73.973320   \n",
              "1  2015-01-27 13:08:24.0000003  2015-01-27 13:08:24        -73.986862   \n",
              "2  2011-10-08 11:53:44.0000002  2011-10-08 11:53:44        -73.982536   \n",
              "3  2012-12-01 21:12:12.0000002  2012-12-01 21:12:12        -73.981163   \n",
              "4  2012-12-01 21:12:12.0000003  2012-12-01 21:12:12        -73.966042   \n",
              "\n",
              "   pickup_latitude  dropoff_longitude  dropoff_latitude  passenger_count  \\\n",
              "0        40.763805         -73.981430         40.743835                1   \n",
              "1        40.719383         -73.998886         40.739197                1   \n",
              "2        40.751255         -73.979668         40.746140                1   \n",
              "3        40.767811         -73.990440         40.751633                1   \n",
              "4        40.789776         -73.988579         40.744431                1   \n",
              "\n",
              "   is_pickup_JFK  is_dropoff_JFK  is_pickup_EWR  is_dropoff_EWR  \\\n",
              "0              0               0              0               0   \n",
              "1              0               0              0               0   \n",
              "2              0               0              0               0   \n",
              "3              0               0              0               0   \n",
              "4              0               0              0               0   \n",
              "\n",
              "   is_pickup_la_guardia  is_dropoff_la_guardia  pickup_latitude_round3  \\\n",
              "0                     0                      0               40.764004   \n",
              "1                     0                      0               40.718998   \n",
              "2                     0                      0               40.750999   \n",
              "3                     0                      0               40.768002   \n",
              "4                     0                      0               40.790001   \n",
              "\n",
              "   pickup_longitude_round3  dropoff_latitude_round3  dropoff_longitude_round3  \\\n",
              "0               -73.973000                40.744003                -73.981003   \n",
              "1               -73.987007                40.738998                -73.999001   \n",
              "2               -73.983002                40.746002                -73.980003   \n",
              "3               -73.981003                40.751999                -73.989998   \n",
              "4               -73.965996                40.744003                -73.989006   \n",
              "\n",
              "   is_pickup_lower_manhattan  is_dropoff_lower_manhattan  \n",
              "0                          0                           0  \n",
              "1                          1                           1  \n",
              "2                          0                           0  \n",
              "3                          0                           0  \n",
              "4                          0                           0  "
            ],
            "text/html": [
              "<div>\n",
              "<style scoped>\n",
              "    .dataframe tbody tr th:only-of-type {\n",
              "        vertical-align: middle;\n",
              "    }\n",
              "\n",
              "    .dataframe tbody tr th {\n",
              "        vertical-align: top;\n",
              "    }\n",
              "\n",
              "    .dataframe thead th {\n",
              "        text-align: right;\n",
              "    }\n",
              "</style>\n",
              "<table border=\"1\" class=\"dataframe\">\n",
              "  <thead>\n",
              "    <tr style=\"text-align: right;\">\n",
              "      <th></th>\n",
              "      <th>key</th>\n",
              "      <th>pickup_datetime</th>\n",
              "      <th>pickup_longitude</th>\n",
              "      <th>pickup_latitude</th>\n",
              "      <th>dropoff_longitude</th>\n",
              "      <th>dropoff_latitude</th>\n",
              "      <th>passenger_count</th>\n",
              "      <th>is_pickup_JFK</th>\n",
              "      <th>is_dropoff_JFK</th>\n",
              "      <th>is_pickup_EWR</th>\n",
              "      <th>is_dropoff_EWR</th>\n",
              "      <th>is_pickup_la_guardia</th>\n",
              "      <th>is_dropoff_la_guardia</th>\n",
              "      <th>pickup_latitude_round3</th>\n",
              "      <th>pickup_longitude_round3</th>\n",
              "      <th>dropoff_latitude_round3</th>\n",
              "      <th>dropoff_longitude_round3</th>\n",
              "      <th>is_pickup_lower_manhattan</th>\n",
              "      <th>is_dropoff_lower_manhattan</th>\n",
              "    </tr>\n",
              "  </thead>\n",
              "  <tbody>\n",
              "    <tr>\n",
              "      <th>0</th>\n",
              "      <td>2015-01-27 13:08:24.0000002</td>\n",
              "      <td>2015-01-27 13:08:24</td>\n",
              "      <td>-73.973320</td>\n",
              "      <td>40.763805</td>\n",
              "      <td>-73.981430</td>\n",
              "      <td>40.743835</td>\n",
              "      <td>1</td>\n",
              "      <td>0</td>\n",
              "      <td>0</td>\n",
              "      <td>0</td>\n",
              "      <td>0</td>\n",
              "      <td>0</td>\n",
              "      <td>0</td>\n",
              "      <td>40.764004</td>\n",
              "      <td>-73.973000</td>\n",
              "      <td>40.744003</td>\n",
              "      <td>-73.981003</td>\n",
              "      <td>0</td>\n",
              "      <td>0</td>\n",
              "    </tr>\n",
              "    <tr>\n",
              "      <th>1</th>\n",
              "      <td>2015-01-27 13:08:24.0000003</td>\n",
              "      <td>2015-01-27 13:08:24</td>\n",
              "      <td>-73.986862</td>\n",
              "      <td>40.719383</td>\n",
              "      <td>-73.998886</td>\n",
              "      <td>40.739197</td>\n",
              "      <td>1</td>\n",
              "      <td>0</td>\n",
              "      <td>0</td>\n",
              "      <td>0</td>\n",
              "      <td>0</td>\n",
              "      <td>0</td>\n",
              "      <td>0</td>\n",
              "      <td>40.718998</td>\n",
              "      <td>-73.987007</td>\n",
              "      <td>40.738998</td>\n",
              "      <td>-73.999001</td>\n",
              "      <td>1</td>\n",
              "      <td>1</td>\n",
              "    </tr>\n",
              "    <tr>\n",
              "      <th>2</th>\n",
              "      <td>2011-10-08 11:53:44.0000002</td>\n",
              "      <td>2011-10-08 11:53:44</td>\n",
              "      <td>-73.982536</td>\n",
              "      <td>40.751255</td>\n",
              "      <td>-73.979668</td>\n",
              "      <td>40.746140</td>\n",
              "      <td>1</td>\n",
              "      <td>0</td>\n",
              "      <td>0</td>\n",
              "      <td>0</td>\n",
              "      <td>0</td>\n",
              "      <td>0</td>\n",
              "      <td>0</td>\n",
              "      <td>40.750999</td>\n",
              "      <td>-73.983002</td>\n",
              "      <td>40.746002</td>\n",
              "      <td>-73.980003</td>\n",
              "      <td>0</td>\n",
              "      <td>0</td>\n",
              "    </tr>\n",
              "    <tr>\n",
              "      <th>3</th>\n",
              "      <td>2012-12-01 21:12:12.0000002</td>\n",
              "      <td>2012-12-01 21:12:12</td>\n",
              "      <td>-73.981163</td>\n",
              "      <td>40.767811</td>\n",
              "      <td>-73.990440</td>\n",
              "      <td>40.751633</td>\n",
              "      <td>1</td>\n",
              "      <td>0</td>\n",
              "      <td>0</td>\n",
              "      <td>0</td>\n",
              "      <td>0</td>\n",
              "      <td>0</td>\n",
              "      <td>0</td>\n",
              "      <td>40.768002</td>\n",
              "      <td>-73.981003</td>\n",
              "      <td>40.751999</td>\n",
              "      <td>-73.989998</td>\n",
              "      <td>0</td>\n",
              "      <td>0</td>\n",
              "    </tr>\n",
              "    <tr>\n",
              "      <th>4</th>\n",
              "      <td>2012-12-01 21:12:12.0000003</td>\n",
              "      <td>2012-12-01 21:12:12</td>\n",
              "      <td>-73.966042</td>\n",
              "      <td>40.789776</td>\n",
              "      <td>-73.988579</td>\n",
              "      <td>40.744431</td>\n",
              "      <td>1</td>\n",
              "      <td>0</td>\n",
              "      <td>0</td>\n",
              "      <td>0</td>\n",
              "      <td>0</td>\n",
              "      <td>0</td>\n",
              "      <td>0</td>\n",
              "      <td>40.790001</td>\n",
              "      <td>-73.965996</td>\n",
              "      <td>40.744003</td>\n",
              "      <td>-73.989006</td>\n",
              "      <td>0</td>\n",
              "      <td>0</td>\n",
              "    </tr>\n",
              "  </tbody>\n",
              "</table>\n",
              "</div>"
            ]
          },
          "metadata": {
            "tags": []
          },
          "execution_count": 15
        }
      ]
    },
    {
      "cell_type": "markdown",
      "metadata": {
        "id": "o_WXW01AHlC4"
      },
      "source": [
        "# 3. Data Cleaning\n",
        "\n",
        "Before being able to start with the predictions, the data should be cleaned up and extended/enriched by relevant columns to achieve better results. For this, we are splitting the key (date & time) into seperate columns and add new features like the driven distance. This approch showed the best results so far. There are some limitations given that cudf and pandas are partly incompatible so I decided to test it out with a precleaned dataset as well to see the improvements later."
      ]
    },
    {
      "cell_type": "code",
      "metadata": {
        "id": "6Ka9ezhECWv0",
        "trusted": true
      },
      "source": [
        "#Drop Nan Values\n",
        "train.nans_to_nulls()\n",
        "train = train.dropna()"
      ],
      "execution_count": null,
      "outputs": []
    },
    {
      "cell_type": "code",
      "metadata": {
        "id": "J3ZMKboWCGD1",
        "trusted": true,
        "outputId": "a395d467-43ec-4b59-d1f0-e56c691559e4"
      },
      "source": [
        "#Checking shape of the data\n",
        "print(\"Train: \" + str(train.shape))\n",
        "print(\"Test: \" + str(test.shape))"
      ],
      "execution_count": null,
      "outputs": [
        {
          "output_type": "stream",
          "text": [
            "Train: (5871290, 20)\n",
            "Test: (9914, 19)\n"
          ],
          "name": "stdout"
        }
      ]
    },
    {
      "cell_type": "markdown",
      "metadata": {
        "id": "eeUIVIjUZSt2"
      },
      "source": [
        "Not available in Cudf datetime which could have improved results:\n",
        "- Dayofyear, Weekofyear, Weekday, Quarter, day of month"
      ]
    },
    {
      "cell_type": "code",
      "metadata": {
        "id": "Xko9RCA4v_Hc",
        "trusted": true
      },
      "source": [
        "#Changing the data format of pickup_datetime and adding additional information about pickup time\n",
        "train['pickup_datetime'] = train['pickup_datetime'].astype('datetime64[ns]')\n",
        "\n",
        "train[\"hour\"] = train.pickup_datetime.dt.hour\n",
        "train[\"weekday\"] = train.pickup_datetime.dt.weekday\n",
        "train[\"month\"] = train.pickup_datetime.dt.month\n",
        "train[\"year\"] = train.pickup_datetime.dt.year\n",
        "\n",
        "\n",
        "test['pickup_datetime'] = test['pickup_datetime'].astype('datetime64[ns]')\n",
        "\n",
        "test[\"hour\"] = test.pickup_datetime.dt.hour\n",
        "test[\"weekday\"] = test.pickup_datetime.dt.weekday\n",
        "test[\"month\"] = test.pickup_datetime.dt.month\n",
        "test[\"year\"] = test.pickup_datetime.dt.year"
      ],
      "execution_count": null,
      "outputs": []
    },
    {
      "cell_type": "markdown",
      "metadata": {
        "id": "ZP0BBWszZjlU"
      },
      "source": [
        "Adding distances to airports does not work using cudf due to data type error (Series, Float) although the normal distance function (as below) works well. Tried different converting approaches including .astype(...) as you can see below at one example."
      ]
    },
    {
      "cell_type": "code",
      "metadata": {
        "id": "4iUREXQ5CEzn",
        "trusted": true
      },
      "source": [
        "def dist(pickup_lat, pickup_long, dropoff_lat, dropoff_long):  \n",
        "    distance = np.abs(dropoff_lat - 40.7141667) + np.abs(dropoff_long - -74.0063889) ## not even working when putting the coordinates right in\n",
        "    return distance\n",
        "\n",
        "#calculate trip distance in miles\n",
        "def calc_distance(data):\n",
        "\n",
        "    # Distances to nearby airports, and city center\n",
        "    # By reporting distances to these points, the model can somewhat triangulate other locations of interest\n",
        "    nyc = (-74.0063889, 40.7141667)\n",
        "    jfk = (-73.7822222222, 40.6441666667)\n",
        "    ewr = (-74.175, 40.69)\n",
        "    lgr = (-73.87, 40.77)\n",
        "    data['distance_to_center'] = dist(40.7141667, -74.0063889, data['pickup_latitude'].astype(float, copy=False, errors='ignore'), data['pickup_longitude'].astype(float, copy=False, errors='ignore'))\n",
        "    #data['pickup_distance_to_jfk'] = dist(jfk[1], jfk[0], data['pickup_latitude'], data['pickup_longitude'])\n",
        "    #data['dropoff_distance_to_jfk'] = dist(jfk[1], jfk[0], data['dropoff_latitude'], data['dropoff_longitude'])\n",
        "    #data['pickup_distance_to_ewr'] = dist(ewr[1], ewr[0],  data['pickup_latitude'], data['pickup_longitude'])\n",
        "    #data['dropoff_distance_to_ewr'] = dist(ewr[1], ewr[0], data['dropoff_latitude'], data['dropoff_longitude'])\n",
        "    #data['pickup_distance_to_lgr'] = dist(lgr[1], lgr[0],  data['pickup_latitude'], data['pickup_longitude'])\n",
        "    #data['dropoff_distance_to_lgr'] = dist(lgr[1], lgr[0], data['dropoff_latitude'], data['dropoff_longitude'])\n",
        "    \n",
        "    data['long_dist'] = data['pickup_longitude'] - data['dropoff_longitude']\n",
        "    data['lat_dist'] = data['pickup_latitude'] - data['dropoff_latitude']\n",
        "    \n",
        "    data['dist'] = dist(data['pickup_latitude'], data['pickup_longitude'],\n",
        "                        data['dropoff_latitude'], data['dropoff_longitude'])\n",
        "    \n",
        "    return data\n",
        "\n",
        "#calc_distance(train)\n",
        "#train.head(2)"
      ],
      "execution_count": null,
      "outputs": []
    },
    {
      "cell_type": "code",
      "metadata": {
        "id": "_-hqvFJnhi_s",
        "trusted": true
      },
      "source": [
        "#calculate trip distance in miles\n",
        "def distance(lat1, lon1, lat2, lon2):\n",
        "    p = 0.017453292519943295 # Pi/180\n",
        "    a = 0.5 - np.cos((lat2 - lat1) * p)/2 + np.cos(lat1 * p) * np.cos(lat2 * p) * (1 - np.cos((lon2 - lon1) * p)) / 2\n",
        "    return 0.6213712 * 12742 * np.arcsin(np.sqrt(a))"
      ],
      "execution_count": null,
      "outputs": []
    },
    {
      "cell_type": "code",
      "metadata": {
        "id": "ymO-WYlaCGS3",
        "trusted": true,
        "outputId": "00114204-abc9-4464-e664-39d5e2deb76a"
      },
      "source": [
        "train['distance'] = distance(train['pickup_latitude'], train['pickup_longitude'], train['dropoff_latitude'], train['dropoff_longitude'] )\n",
        "test['distance'] = distance(test['pickup_latitude'], test['pickup_longitude'], test['dropoff_latitude'], test['dropoff_longitude'] )\n",
        "train['distance'].describe()"
      ],
      "execution_count": null,
      "outputs": [
        {
          "output_type": "execute_result",
          "data": {
            "text/plain": [
              "count    5.871290e+06\n",
              "mean     1.857717e+00\n",
              "std      2.474125e+00\n",
              "min      0.000000e+00\n",
              "25%      0.000000e+00\n",
              "50%      1.366828e+00\n",
              "75%      2.424838e+00\n",
              "max      7.182740e+01\n",
              "Name: distance, dtype: float64"
            ]
          },
          "metadata": {
            "tags": []
          },
          "execution_count": 21
        }
      ]
    },
    {
      "cell_type": "code",
      "metadata": {
        "id": "oZliSrMSwyJW",
        "trusted": true,
        "outputId": "56c939a0-f1b4-4be4-f851-173c0401ea30"
      },
      "source": [
        "#check if everything worked\n",
        "train.head(10)"
      ],
      "execution_count": null,
      "outputs": [
        {
          "output_type": "execute_result",
          "data": {
            "text/plain": [
              "                             key  fare_amount     pickup_datetime  \\\n",
              "0    2009-06-15 17:26:21.0000001          4.5 2009-06-15 17:26:21   \n",
              "1    2010-01-05 16:52:16.0000002         16.9 2010-01-05 16:52:16   \n",
              "2   2011-08-18 00:35:00.00000049          5.7 2011-08-18 00:35:00   \n",
              "3    2012-04-21 04:30:42.0000001          7.7 2012-04-21 04:30:42   \n",
              "4  2010-03-09 07:51:00.000000135          5.3 2010-03-09 07:51:00   \n",
              "5    2011-01-06 09:50:45.0000002         12.1 2011-01-06 09:50:45   \n",
              "6    2012-11-20 20:35:00.0000001          7.5 2012-11-20 20:35:00   \n",
              "7   2012-01-04 17:22:00.00000081         16.5 2012-01-04 17:22:00   \n",
              "8  2012-12-03 13:10:00.000000125          9.0 2012-12-03 13:10:00   \n",
              "9   2009-09-02 01:11:00.00000083          8.9 2009-09-02 01:11:00   \n",
              "\n",
              "   pickup_longitude  pickup_latitude  dropoff_longitude  dropoff_latitude  \\\n",
              "0        -73.844307        40.721321         -73.841614         40.712273   \n",
              "1        -74.016045        40.711304         -73.979271         40.782005   \n",
              "2        -73.982742        40.761269         -73.991234         40.750565   \n",
              "3        -73.987137        40.733139         -73.991570         40.758095   \n",
              "4        -73.968102        40.768009         -73.956665         40.783768   \n",
              "5        -74.000969        40.731628         -73.972893         40.758232   \n",
              "6        -73.980003        40.751663         -73.973801         40.764847   \n",
              "7        -73.951302        40.774139         -73.990097         40.751045   \n",
              "8        -74.006454        40.726719         -73.993073         40.731625   \n",
              "9        -73.980667        40.733871         -73.991539         40.758137   \n",
              "\n",
              "   passenger_count  pickup_latitude_round3  pickup_longitude_round3  ...  \\\n",
              "0                1               40.721001               -73.844002  ...   \n",
              "1                1               40.710999               -74.015999  ...   \n",
              "2                2               40.761002               -73.983002  ...   \n",
              "3                1               40.732998               -73.987007  ...   \n",
              "4                1               40.768002               -73.968002  ...   \n",
              "5                1               40.731998               -74.000999  ...   \n",
              "6                1               40.751999               -73.980003  ...   \n",
              "7                1               40.774002               -73.951004  ...   \n",
              "8                1               40.727001               -74.005997  ...   \n",
              "9                2               40.734001               -73.981003  ...   \n",
              "\n",
              "   is_dropoff_EWR  is_pickup_la_guardia  is_dropoff_la_guardia  \\\n",
              "0               0                     0                      0   \n",
              "1               0                     0                      0   \n",
              "2               0                     0                      0   \n",
              "3               0                     0                      0   \n",
              "4               0                     0                      0   \n",
              "5               0                     0                      0   \n",
              "6               0                     0                      0   \n",
              "7               0                     0                      0   \n",
              "8               0                     0                      0   \n",
              "9               0                     0                      0   \n",
              "\n",
              "   is_pickup_lower_manhattan  is_dropoff_lower_manhattan  hour  weekday  \\\n",
              "0                          0                           0    17        0   \n",
              "1                          1                           0    16        1   \n",
              "2                          0                           0     0        3   \n",
              "3                          1                           0     4        5   \n",
              "4                          0                           0     7        1   \n",
              "5                          1                           0     9        3   \n",
              "6                          0                           0    20        1   \n",
              "7                          0                           0    17        2   \n",
              "8                          1                           1    13        0   \n",
              "9                          1                           0     1        2   \n",
              "\n",
              "   month  year  distance  \n",
              "0      6  2009  0.000000  \n",
              "1      1  2010  5.244397  \n",
              "2      8  2011  0.000000  \n",
              "3      4  2012  1.932986  \n",
              "4      3  2010  1.366828  \n",
              "5      1  2011  2.425102  \n",
              "6     11  2012  0.000000  \n",
              "7      1  2012  2.480990  \n",
              "8     12  2012  0.000000  \n",
              "9      9  2009  1.932986  \n",
              "\n",
              "[10 rows x 25 columns]"
            ],
            "text/html": [
              "<div>\n",
              "<style scoped>\n",
              "    .dataframe tbody tr th:only-of-type {\n",
              "        vertical-align: middle;\n",
              "    }\n",
              "\n",
              "    .dataframe tbody tr th {\n",
              "        vertical-align: top;\n",
              "    }\n",
              "\n",
              "    .dataframe thead th {\n",
              "        text-align: right;\n",
              "    }\n",
              "</style>\n",
              "<table border=\"1\" class=\"dataframe\">\n",
              "  <thead>\n",
              "    <tr style=\"text-align: right;\">\n",
              "      <th></th>\n",
              "      <th>key</th>\n",
              "      <th>fare_amount</th>\n",
              "      <th>pickup_datetime</th>\n",
              "      <th>pickup_longitude</th>\n",
              "      <th>pickup_latitude</th>\n",
              "      <th>dropoff_longitude</th>\n",
              "      <th>dropoff_latitude</th>\n",
              "      <th>passenger_count</th>\n",
              "      <th>pickup_latitude_round3</th>\n",
              "      <th>pickup_longitude_round3</th>\n",
              "      <th>...</th>\n",
              "      <th>is_dropoff_EWR</th>\n",
              "      <th>is_pickup_la_guardia</th>\n",
              "      <th>is_dropoff_la_guardia</th>\n",
              "      <th>is_pickup_lower_manhattan</th>\n",
              "      <th>is_dropoff_lower_manhattan</th>\n",
              "      <th>hour</th>\n",
              "      <th>weekday</th>\n",
              "      <th>month</th>\n",
              "      <th>year</th>\n",
              "      <th>distance</th>\n",
              "    </tr>\n",
              "  </thead>\n",
              "  <tbody>\n",
              "    <tr>\n",
              "      <th>0</th>\n",
              "      <td>2009-06-15 17:26:21.0000001</td>\n",
              "      <td>4.5</td>\n",
              "      <td>2009-06-15 17:26:21</td>\n",
              "      <td>-73.844307</td>\n",
              "      <td>40.721321</td>\n",
              "      <td>-73.841614</td>\n",
              "      <td>40.712273</td>\n",
              "      <td>1</td>\n",
              "      <td>40.721001</td>\n",
              "      <td>-73.844002</td>\n",
              "      <td>...</td>\n",
              "      <td>0</td>\n",
              "      <td>0</td>\n",
              "      <td>0</td>\n",
              "      <td>0</td>\n",
              "      <td>0</td>\n",
              "      <td>17</td>\n",
              "      <td>0</td>\n",
              "      <td>6</td>\n",
              "      <td>2009</td>\n",
              "      <td>0.000000</td>\n",
              "    </tr>\n",
              "    <tr>\n",
              "      <th>1</th>\n",
              "      <td>2010-01-05 16:52:16.0000002</td>\n",
              "      <td>16.9</td>\n",
              "      <td>2010-01-05 16:52:16</td>\n",
              "      <td>-74.016045</td>\n",
              "      <td>40.711304</td>\n",
              "      <td>-73.979271</td>\n",
              "      <td>40.782005</td>\n",
              "      <td>1</td>\n",
              "      <td>40.710999</td>\n",
              "      <td>-74.015999</td>\n",
              "      <td>...</td>\n",
              "      <td>0</td>\n",
              "      <td>0</td>\n",
              "      <td>0</td>\n",
              "      <td>1</td>\n",
              "      <td>0</td>\n",
              "      <td>16</td>\n",
              "      <td>1</td>\n",
              "      <td>1</td>\n",
              "      <td>2010</td>\n",
              "      <td>5.244397</td>\n",
              "    </tr>\n",
              "    <tr>\n",
              "      <th>2</th>\n",
              "      <td>2011-08-18 00:35:00.00000049</td>\n",
              "      <td>5.7</td>\n",
              "      <td>2011-08-18 00:35:00</td>\n",
              "      <td>-73.982742</td>\n",
              "      <td>40.761269</td>\n",
              "      <td>-73.991234</td>\n",
              "      <td>40.750565</td>\n",
              "      <td>2</td>\n",
              "      <td>40.761002</td>\n",
              "      <td>-73.983002</td>\n",
              "      <td>...</td>\n",
              "      <td>0</td>\n",
              "      <td>0</td>\n",
              "      <td>0</td>\n",
              "      <td>0</td>\n",
              "      <td>0</td>\n",
              "      <td>0</td>\n",
              "      <td>3</td>\n",
              "      <td>8</td>\n",
              "      <td>2011</td>\n",
              "      <td>0.000000</td>\n",
              "    </tr>\n",
              "    <tr>\n",
              "      <th>3</th>\n",
              "      <td>2012-04-21 04:30:42.0000001</td>\n",
              "      <td>7.7</td>\n",
              "      <td>2012-04-21 04:30:42</td>\n",
              "      <td>-73.987137</td>\n",
              "      <td>40.733139</td>\n",
              "      <td>-73.991570</td>\n",
              "      <td>40.758095</td>\n",
              "      <td>1</td>\n",
              "      <td>40.732998</td>\n",
              "      <td>-73.987007</td>\n",
              "      <td>...</td>\n",
              "      <td>0</td>\n",
              "      <td>0</td>\n",
              "      <td>0</td>\n",
              "      <td>1</td>\n",
              "      <td>0</td>\n",
              "      <td>4</td>\n",
              "      <td>5</td>\n",
              "      <td>4</td>\n",
              "      <td>2012</td>\n",
              "      <td>1.932986</td>\n",
              "    </tr>\n",
              "    <tr>\n",
              "      <th>4</th>\n",
              "      <td>2010-03-09 07:51:00.000000135</td>\n",
              "      <td>5.3</td>\n",
              "      <td>2010-03-09 07:51:00</td>\n",
              "      <td>-73.968102</td>\n",
              "      <td>40.768009</td>\n",
              "      <td>-73.956665</td>\n",
              "      <td>40.783768</td>\n",
              "      <td>1</td>\n",
              "      <td>40.768002</td>\n",
              "      <td>-73.968002</td>\n",
              "      <td>...</td>\n",
              "      <td>0</td>\n",
              "      <td>0</td>\n",
              "      <td>0</td>\n",
              "      <td>0</td>\n",
              "      <td>0</td>\n",
              "      <td>7</td>\n",
              "      <td>1</td>\n",
              "      <td>3</td>\n",
              "      <td>2010</td>\n",
              "      <td>1.366828</td>\n",
              "    </tr>\n",
              "    <tr>\n",
              "      <th>5</th>\n",
              "      <td>2011-01-06 09:50:45.0000002</td>\n",
              "      <td>12.1</td>\n",
              "      <td>2011-01-06 09:50:45</td>\n",
              "      <td>-74.000969</td>\n",
              "      <td>40.731628</td>\n",
              "      <td>-73.972893</td>\n",
              "      <td>40.758232</td>\n",
              "      <td>1</td>\n",
              "      <td>40.731998</td>\n",
              "      <td>-74.000999</td>\n",
              "      <td>...</td>\n",
              "      <td>0</td>\n",
              "      <td>0</td>\n",
              "      <td>0</td>\n",
              "      <td>1</td>\n",
              "      <td>0</td>\n",
              "      <td>9</td>\n",
              "      <td>3</td>\n",
              "      <td>1</td>\n",
              "      <td>2011</td>\n",
              "      <td>2.425102</td>\n",
              "    </tr>\n",
              "    <tr>\n",
              "      <th>6</th>\n",
              "      <td>2012-11-20 20:35:00.0000001</td>\n",
              "      <td>7.5</td>\n",
              "      <td>2012-11-20 20:35:00</td>\n",
              "      <td>-73.980003</td>\n",
              "      <td>40.751663</td>\n",
              "      <td>-73.973801</td>\n",
              "      <td>40.764847</td>\n",
              "      <td>1</td>\n",
              "      <td>40.751999</td>\n",
              "      <td>-73.980003</td>\n",
              "      <td>...</td>\n",
              "      <td>0</td>\n",
              "      <td>0</td>\n",
              "      <td>0</td>\n",
              "      <td>0</td>\n",
              "      <td>0</td>\n",
              "      <td>20</td>\n",
              "      <td>1</td>\n",
              "      <td>11</td>\n",
              "      <td>2012</td>\n",
              "      <td>0.000000</td>\n",
              "    </tr>\n",
              "    <tr>\n",
              "      <th>7</th>\n",
              "      <td>2012-01-04 17:22:00.00000081</td>\n",
              "      <td>16.5</td>\n",
              "      <td>2012-01-04 17:22:00</td>\n",
              "      <td>-73.951302</td>\n",
              "      <td>40.774139</td>\n",
              "      <td>-73.990097</td>\n",
              "      <td>40.751045</td>\n",
              "      <td>1</td>\n",
              "      <td>40.774002</td>\n",
              "      <td>-73.951004</td>\n",
              "      <td>...</td>\n",
              "      <td>0</td>\n",
              "      <td>0</td>\n",
              "      <td>0</td>\n",
              "      <td>0</td>\n",
              "      <td>0</td>\n",
              "      <td>17</td>\n",
              "      <td>2</td>\n",
              "      <td>1</td>\n",
              "      <td>2012</td>\n",
              "      <td>2.480990</td>\n",
              "    </tr>\n",
              "    <tr>\n",
              "      <th>8</th>\n",
              "      <td>2012-12-03 13:10:00.000000125</td>\n",
              "      <td>9.0</td>\n",
              "      <td>2012-12-03 13:10:00</td>\n",
              "      <td>-74.006454</td>\n",
              "      <td>40.726719</td>\n",
              "      <td>-73.993073</td>\n",
              "      <td>40.731625</td>\n",
              "      <td>1</td>\n",
              "      <td>40.727001</td>\n",
              "      <td>-74.005997</td>\n",
              "      <td>...</td>\n",
              "      <td>0</td>\n",
              "      <td>0</td>\n",
              "      <td>0</td>\n",
              "      <td>1</td>\n",
              "      <td>1</td>\n",
              "      <td>13</td>\n",
              "      <td>0</td>\n",
              "      <td>12</td>\n",
              "      <td>2012</td>\n",
              "      <td>0.000000</td>\n",
              "    </tr>\n",
              "    <tr>\n",
              "      <th>9</th>\n",
              "      <td>2009-09-02 01:11:00.00000083</td>\n",
              "      <td>8.9</td>\n",
              "      <td>2009-09-02 01:11:00</td>\n",
              "      <td>-73.980667</td>\n",
              "      <td>40.733871</td>\n",
              "      <td>-73.991539</td>\n",
              "      <td>40.758137</td>\n",
              "      <td>2</td>\n",
              "      <td>40.734001</td>\n",
              "      <td>-73.981003</td>\n",
              "      <td>...</td>\n",
              "      <td>0</td>\n",
              "      <td>0</td>\n",
              "      <td>0</td>\n",
              "      <td>1</td>\n",
              "      <td>0</td>\n",
              "      <td>1</td>\n",
              "      <td>2</td>\n",
              "      <td>9</td>\n",
              "      <td>2009</td>\n",
              "      <td>1.932986</td>\n",
              "    </tr>\n",
              "  </tbody>\n",
              "</table>\n",
              "<p>10 rows × 25 columns</p>\n",
              "</div>"
            ]
          },
          "metadata": {
            "tags": []
          },
          "execution_count": 22
        }
      ]
    },
    {
      "cell_type": "code",
      "metadata": {
        "id": "9FpQJz9Zxxd2",
        "trusted": true,
        "outputId": "92ac558b-e230-4e94-9c31-b61287e7a3f1"
      },
      "source": [
        "test.head(2)"
      ],
      "execution_count": null,
      "outputs": [
        {
          "output_type": "execute_result",
          "data": {
            "text/plain": [
              "                           key     pickup_datetime  pickup_longitude  \\\n",
              "0  2015-01-27 13:08:24.0000002 2015-01-27 13:08:24        -73.973320   \n",
              "1  2015-01-27 13:08:24.0000003 2015-01-27 13:08:24        -73.986862   \n",
              "\n",
              "   pickup_latitude  dropoff_longitude  dropoff_latitude  passenger_count  \\\n",
              "0        40.763805         -73.981430         40.743835                1   \n",
              "1        40.719383         -73.998886         40.739197                1   \n",
              "\n",
              "   is_pickup_JFK  is_dropoff_JFK  is_pickup_EWR  ...  pickup_longitude_round3  \\\n",
              "0              0               0              0  ...               -73.973000   \n",
              "1              0               0              0  ...               -73.987007   \n",
              "\n",
              "   dropoff_latitude_round3  dropoff_longitude_round3  \\\n",
              "0                40.744003                -73.981003   \n",
              "1                40.738998                -73.999001   \n",
              "\n",
              "   is_pickup_lower_manhattan  is_dropoff_lower_manhattan  hour  weekday  \\\n",
              "0                          0                           0    13        1   \n",
              "1                          1                           1    13        1   \n",
              "\n",
              "   month  year  distance  \n",
              "0      1  2015  1.366828  \n",
              "1      1  2015  1.366828  \n",
              "\n",
              "[2 rows x 24 columns]"
            ],
            "text/html": [
              "<div>\n",
              "<style scoped>\n",
              "    .dataframe tbody tr th:only-of-type {\n",
              "        vertical-align: middle;\n",
              "    }\n",
              "\n",
              "    .dataframe tbody tr th {\n",
              "        vertical-align: top;\n",
              "    }\n",
              "\n",
              "    .dataframe thead th {\n",
              "        text-align: right;\n",
              "    }\n",
              "</style>\n",
              "<table border=\"1\" class=\"dataframe\">\n",
              "  <thead>\n",
              "    <tr style=\"text-align: right;\">\n",
              "      <th></th>\n",
              "      <th>key</th>\n",
              "      <th>pickup_datetime</th>\n",
              "      <th>pickup_longitude</th>\n",
              "      <th>pickup_latitude</th>\n",
              "      <th>dropoff_longitude</th>\n",
              "      <th>dropoff_latitude</th>\n",
              "      <th>passenger_count</th>\n",
              "      <th>is_pickup_JFK</th>\n",
              "      <th>is_dropoff_JFK</th>\n",
              "      <th>is_pickup_EWR</th>\n",
              "      <th>...</th>\n",
              "      <th>pickup_longitude_round3</th>\n",
              "      <th>dropoff_latitude_round3</th>\n",
              "      <th>dropoff_longitude_round3</th>\n",
              "      <th>is_pickup_lower_manhattan</th>\n",
              "      <th>is_dropoff_lower_manhattan</th>\n",
              "      <th>hour</th>\n",
              "      <th>weekday</th>\n",
              "      <th>month</th>\n",
              "      <th>year</th>\n",
              "      <th>distance</th>\n",
              "    </tr>\n",
              "  </thead>\n",
              "  <tbody>\n",
              "    <tr>\n",
              "      <th>0</th>\n",
              "      <td>2015-01-27 13:08:24.0000002</td>\n",
              "      <td>2015-01-27 13:08:24</td>\n",
              "      <td>-73.973320</td>\n",
              "      <td>40.763805</td>\n",
              "      <td>-73.981430</td>\n",
              "      <td>40.743835</td>\n",
              "      <td>1</td>\n",
              "      <td>0</td>\n",
              "      <td>0</td>\n",
              "      <td>0</td>\n",
              "      <td>...</td>\n",
              "      <td>-73.973000</td>\n",
              "      <td>40.744003</td>\n",
              "      <td>-73.981003</td>\n",
              "      <td>0</td>\n",
              "      <td>0</td>\n",
              "      <td>13</td>\n",
              "      <td>1</td>\n",
              "      <td>1</td>\n",
              "      <td>2015</td>\n",
              "      <td>1.366828</td>\n",
              "    </tr>\n",
              "    <tr>\n",
              "      <th>1</th>\n",
              "      <td>2015-01-27 13:08:24.0000003</td>\n",
              "      <td>2015-01-27 13:08:24</td>\n",
              "      <td>-73.986862</td>\n",
              "      <td>40.719383</td>\n",
              "      <td>-73.998886</td>\n",
              "      <td>40.739197</td>\n",
              "      <td>1</td>\n",
              "      <td>0</td>\n",
              "      <td>0</td>\n",
              "      <td>0</td>\n",
              "      <td>...</td>\n",
              "      <td>-73.987007</td>\n",
              "      <td>40.738998</td>\n",
              "      <td>-73.999001</td>\n",
              "      <td>1</td>\n",
              "      <td>1</td>\n",
              "      <td>13</td>\n",
              "      <td>1</td>\n",
              "      <td>1</td>\n",
              "      <td>2015</td>\n",
              "      <td>1.366828</td>\n",
              "    </tr>\n",
              "  </tbody>\n",
              "</table>\n",
              "<p>2 rows × 24 columns</p>\n",
              "</div>"
            ]
          },
          "metadata": {
            "tags": []
          },
          "execution_count": 23
        }
      ]
    },
    {
      "cell_type": "code",
      "metadata": {
        "id": "CFYnmMIiDfyJ",
        "trusted": true,
        "outputId": "057ee898-926a-44dc-9fc2-ec5dda10e579"
      },
      "source": [
        "print(\"Ararage fare amount: \" + str(train['fare_amount'].mean()))\n",
        "print(\"Standard deviation fare amount: \" + str(train['fare_amount'].std()))\n",
        "print(\"Ararage distance: \" + str(train['distance'].mean()) + \" miles\")\n",
        "print(\"Standard deviation distance: \" + str(train['distance'].std()) + \" miles\")"
      ],
      "execution_count": null,
      "outputs": [
        {
          "output_type": "stream",
          "text": [
            "Ararage fare amount: 11.31209818785667\n",
            "Standard deviation fare amount: 9.637003183245294\n",
            "Ararage distance: 1.8577174967594605 miles\n",
            "Standard deviation distance: 2.4741254668927306 miles\n"
          ],
          "name": "stdout"
        }
      ]
    },
    {
      "cell_type": "code",
      "metadata": {
        "id": "KB5A0x0iPBkA",
        "trusted": true,
        "outputId": "4ec44787-1a85-45ae-8c3f-13ddc00148ba"
      },
      "source": [
        "train.describe()"
      ],
      "execution_count": null,
      "outputs": [
        {
          "output_type": "execute_result",
          "data": {
            "text/plain": [
              "        fare_amount  pickup_longitude  pickup_latitude  dropoff_longitude  \\\n",
              "count  5.871290e+06      5.871290e+06     5.871290e+06       5.871290e+06   \n",
              "mean   1.131210e+01     -7.397513e+01     4.075110e+01      -7.397425e+01   \n",
              "std    9.637003e+00      3.825800e-02     2.946000e-02       3.734400e-02   \n",
              "min    0.000000e+00     -7.426320e+01     4.057325e+01      -7.426319e+01   \n",
              "25%    6.000000e+00     -7.399227e+01     4.073657e+01      -7.399158e+01   \n",
              "50%    8.500000e+00     -7.398210e+01     4.075336e+01      -7.398061e+01   \n",
              "75%    1.250000e+01     -7.396833e+01     4.076754e+01      -7.396535e+01   \n",
              "max    9.520000e+02     -7.299715e+01     4.169685e+01      -7.301178e+01   \n",
              "\n",
              "       dropoff_latitude  passenger_count  pickup_latitude_round3  \\\n",
              "count      5.871290e+06     5.871290e+06            5.871290e+06   \n",
              "mean       4.075148e+01     1.684443e+00            4.075110e+01   \n",
              "std        3.264400e-02     1.307532e+00            2.945700e-02   \n",
              "min        4.057318e+01     0.000000e+00            4.057300e+01   \n",
              "25%        4.073562e+01     1.000000e+00            4.073700e+01   \n",
              "50%        4.075388e+01     1.000000e+00            4.075300e+01   \n",
              "75%        4.076841e+01     2.000000e+00            4.076800e+01   \n",
              "max        4.170632e+01     7.000000e+00            4.169700e+01   \n",
              "\n",
              "       pickup_longitude_round3  dropoff_latitude_round3  \\\n",
              "count             5.871290e+06             5.871290e+06   \n",
              "mean             -7.397513e+01             4.075148e+01   \n",
              "std               3.825700e-02             3.264300e-02   \n",
              "min              -7.426299e+01             4.057300e+01   \n",
              "25%              -7.399200e+01             4.073600e+01   \n",
              "50%              -7.398200e+01             4.075400e+01   \n",
              "75%              -7.396800e+01             4.076800e+01   \n",
              "max              -7.299700e+01             4.170600e+01   \n",
              "\n",
              "       dropoff_longitude_round3  ...  is_dropoff_EWR  is_pickup_la_guardia  \\\n",
              "count              5.871290e+06  ...    5.871290e+06          5.871290e+06   \n",
              "mean              -7.397425e+01  ...    1.338000e-03          2.013400e-02   \n",
              "std                3.734900e-02  ...    3.654800e-02          1.404580e-01   \n",
              "min               -7.426299e+01  ...    0.000000e+00          0.000000e+00   \n",
              "25%               -7.399200e+01  ...    0.000000e+00          0.000000e+00   \n",
              "50%               -7.398100e+01  ...    0.000000e+00          0.000000e+00   \n",
              "75%               -7.396500e+01  ...    0.000000e+00          0.000000e+00   \n",
              "max               -7.301200e+01  ...    1.000000e+00          1.000000e+00   \n",
              "\n",
              "       is_dropoff_la_guardia  is_pickup_lower_manhattan  \\\n",
              "count           5.871290e+06               5.871290e+06   \n",
              "mean            1.297500e-02               2.915190e-01   \n",
              "std             1.131660e-01               4.544620e-01   \n",
              "min             0.000000e+00               0.000000e+00   \n",
              "25%             0.000000e+00               0.000000e+00   \n",
              "50%             0.000000e+00               0.000000e+00   \n",
              "75%             0.000000e+00               1.000000e+00   \n",
              "max             1.000000e+00               1.000000e+00   \n",
              "\n",
              "       is_dropoff_lower_manhattan          hour       weekday         month  \\\n",
              "count                5.871290e+06  5.871290e+06  5.871290e+06  5.871290e+06   \n",
              "mean                 2.642710e-01  1.351162e+01  3.041393e+00  6.267889e+00   \n",
              "std                  4.409440e-01  6.514062e+00  1.949491e+00  3.436372e+00   \n",
              "min                  0.000000e+00  0.000000e+00  0.000000e+00  1.000000e+00   \n",
              "25%                  0.000000e+00  9.000000e+00  1.000000e+00  3.000000e+00   \n",
              "50%                  0.000000e+00  1.400000e+01  3.000000e+00  6.000000e+00   \n",
              "75%                  1.000000e+00  1.900000e+01  5.000000e+00  9.000000e+00   \n",
              "max                  1.000000e+00  2.300000e+01  6.000000e+00  1.200000e+01   \n",
              "\n",
              "               year      distance  \n",
              "count  5.871290e+06  5.871290e+06  \n",
              "mean   2.011737e+03  1.857717e+00  \n",
              "std    1.863041e+00  2.474125e+00  \n",
              "min    2.009000e+03  0.000000e+00  \n",
              "25%    2.010000e+03  0.000000e+00  \n",
              "50%    2.012000e+03  1.366828e+00  \n",
              "75%    2.013000e+03  2.424838e+00  \n",
              "max    2.015000e+03  7.182740e+01  \n",
              "\n",
              "[8 rows x 23 columns]"
            ],
            "text/html": [
              "<div>\n",
              "<style scoped>\n",
              "    .dataframe tbody tr th:only-of-type {\n",
              "        vertical-align: middle;\n",
              "    }\n",
              "\n",
              "    .dataframe tbody tr th {\n",
              "        vertical-align: top;\n",
              "    }\n",
              "\n",
              "    .dataframe thead th {\n",
              "        text-align: right;\n",
              "    }\n",
              "</style>\n",
              "<table border=\"1\" class=\"dataframe\">\n",
              "  <thead>\n",
              "    <tr style=\"text-align: right;\">\n",
              "      <th></th>\n",
              "      <th>fare_amount</th>\n",
              "      <th>pickup_longitude</th>\n",
              "      <th>pickup_latitude</th>\n",
              "      <th>dropoff_longitude</th>\n",
              "      <th>dropoff_latitude</th>\n",
              "      <th>passenger_count</th>\n",
              "      <th>pickup_latitude_round3</th>\n",
              "      <th>pickup_longitude_round3</th>\n",
              "      <th>dropoff_latitude_round3</th>\n",
              "      <th>dropoff_longitude_round3</th>\n",
              "      <th>...</th>\n",
              "      <th>is_dropoff_EWR</th>\n",
              "      <th>is_pickup_la_guardia</th>\n",
              "      <th>is_dropoff_la_guardia</th>\n",
              "      <th>is_pickup_lower_manhattan</th>\n",
              "      <th>is_dropoff_lower_manhattan</th>\n",
              "      <th>hour</th>\n",
              "      <th>weekday</th>\n",
              "      <th>month</th>\n",
              "      <th>year</th>\n",
              "      <th>distance</th>\n",
              "    </tr>\n",
              "  </thead>\n",
              "  <tbody>\n",
              "    <tr>\n",
              "      <th>count</th>\n",
              "      <td>5.871290e+06</td>\n",
              "      <td>5.871290e+06</td>\n",
              "      <td>5.871290e+06</td>\n",
              "      <td>5.871290e+06</td>\n",
              "      <td>5.871290e+06</td>\n",
              "      <td>5.871290e+06</td>\n",
              "      <td>5.871290e+06</td>\n",
              "      <td>5.871290e+06</td>\n",
              "      <td>5.871290e+06</td>\n",
              "      <td>5.871290e+06</td>\n",
              "      <td>...</td>\n",
              "      <td>5.871290e+06</td>\n",
              "      <td>5.871290e+06</td>\n",
              "      <td>5.871290e+06</td>\n",
              "      <td>5.871290e+06</td>\n",
              "      <td>5.871290e+06</td>\n",
              "      <td>5.871290e+06</td>\n",
              "      <td>5.871290e+06</td>\n",
              "      <td>5.871290e+06</td>\n",
              "      <td>5.871290e+06</td>\n",
              "      <td>5.871290e+06</td>\n",
              "    </tr>\n",
              "    <tr>\n",
              "      <th>mean</th>\n",
              "      <td>1.131210e+01</td>\n",
              "      <td>-7.397513e+01</td>\n",
              "      <td>4.075110e+01</td>\n",
              "      <td>-7.397425e+01</td>\n",
              "      <td>4.075148e+01</td>\n",
              "      <td>1.684443e+00</td>\n",
              "      <td>4.075110e+01</td>\n",
              "      <td>-7.397513e+01</td>\n",
              "      <td>4.075148e+01</td>\n",
              "      <td>-7.397425e+01</td>\n",
              "      <td>...</td>\n",
              "      <td>1.338000e-03</td>\n",
              "      <td>2.013400e-02</td>\n",
              "      <td>1.297500e-02</td>\n",
              "      <td>2.915190e-01</td>\n",
              "      <td>2.642710e-01</td>\n",
              "      <td>1.351162e+01</td>\n",
              "      <td>3.041393e+00</td>\n",
              "      <td>6.267889e+00</td>\n",
              "      <td>2.011737e+03</td>\n",
              "      <td>1.857717e+00</td>\n",
              "    </tr>\n",
              "    <tr>\n",
              "      <th>std</th>\n",
              "      <td>9.637003e+00</td>\n",
              "      <td>3.825800e-02</td>\n",
              "      <td>2.946000e-02</td>\n",
              "      <td>3.734400e-02</td>\n",
              "      <td>3.264400e-02</td>\n",
              "      <td>1.307532e+00</td>\n",
              "      <td>2.945700e-02</td>\n",
              "      <td>3.825700e-02</td>\n",
              "      <td>3.264300e-02</td>\n",
              "      <td>3.734900e-02</td>\n",
              "      <td>...</td>\n",
              "      <td>3.654800e-02</td>\n",
              "      <td>1.404580e-01</td>\n",
              "      <td>1.131660e-01</td>\n",
              "      <td>4.544620e-01</td>\n",
              "      <td>4.409440e-01</td>\n",
              "      <td>6.514062e+00</td>\n",
              "      <td>1.949491e+00</td>\n",
              "      <td>3.436372e+00</td>\n",
              "      <td>1.863041e+00</td>\n",
              "      <td>2.474125e+00</td>\n",
              "    </tr>\n",
              "    <tr>\n",
              "      <th>min</th>\n",
              "      <td>0.000000e+00</td>\n",
              "      <td>-7.426320e+01</td>\n",
              "      <td>4.057325e+01</td>\n",
              "      <td>-7.426319e+01</td>\n",
              "      <td>4.057318e+01</td>\n",
              "      <td>0.000000e+00</td>\n",
              "      <td>4.057300e+01</td>\n",
              "      <td>-7.426299e+01</td>\n",
              "      <td>4.057300e+01</td>\n",
              "      <td>-7.426299e+01</td>\n",
              "      <td>...</td>\n",
              "      <td>0.000000e+00</td>\n",
              "      <td>0.000000e+00</td>\n",
              "      <td>0.000000e+00</td>\n",
              "      <td>0.000000e+00</td>\n",
              "      <td>0.000000e+00</td>\n",
              "      <td>0.000000e+00</td>\n",
              "      <td>0.000000e+00</td>\n",
              "      <td>1.000000e+00</td>\n",
              "      <td>2.009000e+03</td>\n",
              "      <td>0.000000e+00</td>\n",
              "    </tr>\n",
              "    <tr>\n",
              "      <th>25%</th>\n",
              "      <td>6.000000e+00</td>\n",
              "      <td>-7.399227e+01</td>\n",
              "      <td>4.073657e+01</td>\n",
              "      <td>-7.399158e+01</td>\n",
              "      <td>4.073562e+01</td>\n",
              "      <td>1.000000e+00</td>\n",
              "      <td>4.073700e+01</td>\n",
              "      <td>-7.399200e+01</td>\n",
              "      <td>4.073600e+01</td>\n",
              "      <td>-7.399200e+01</td>\n",
              "      <td>...</td>\n",
              "      <td>0.000000e+00</td>\n",
              "      <td>0.000000e+00</td>\n",
              "      <td>0.000000e+00</td>\n",
              "      <td>0.000000e+00</td>\n",
              "      <td>0.000000e+00</td>\n",
              "      <td>9.000000e+00</td>\n",
              "      <td>1.000000e+00</td>\n",
              "      <td>3.000000e+00</td>\n",
              "      <td>2.010000e+03</td>\n",
              "      <td>0.000000e+00</td>\n",
              "    </tr>\n",
              "    <tr>\n",
              "      <th>50%</th>\n",
              "      <td>8.500000e+00</td>\n",
              "      <td>-7.398210e+01</td>\n",
              "      <td>4.075336e+01</td>\n",
              "      <td>-7.398061e+01</td>\n",
              "      <td>4.075388e+01</td>\n",
              "      <td>1.000000e+00</td>\n",
              "      <td>4.075300e+01</td>\n",
              "      <td>-7.398200e+01</td>\n",
              "      <td>4.075400e+01</td>\n",
              "      <td>-7.398100e+01</td>\n",
              "      <td>...</td>\n",
              "      <td>0.000000e+00</td>\n",
              "      <td>0.000000e+00</td>\n",
              "      <td>0.000000e+00</td>\n",
              "      <td>0.000000e+00</td>\n",
              "      <td>0.000000e+00</td>\n",
              "      <td>1.400000e+01</td>\n",
              "      <td>3.000000e+00</td>\n",
              "      <td>6.000000e+00</td>\n",
              "      <td>2.012000e+03</td>\n",
              "      <td>1.366828e+00</td>\n",
              "    </tr>\n",
              "    <tr>\n",
              "      <th>75%</th>\n",
              "      <td>1.250000e+01</td>\n",
              "      <td>-7.396833e+01</td>\n",
              "      <td>4.076754e+01</td>\n",
              "      <td>-7.396535e+01</td>\n",
              "      <td>4.076841e+01</td>\n",
              "      <td>2.000000e+00</td>\n",
              "      <td>4.076800e+01</td>\n",
              "      <td>-7.396800e+01</td>\n",
              "      <td>4.076800e+01</td>\n",
              "      <td>-7.396500e+01</td>\n",
              "      <td>...</td>\n",
              "      <td>0.000000e+00</td>\n",
              "      <td>0.000000e+00</td>\n",
              "      <td>0.000000e+00</td>\n",
              "      <td>1.000000e+00</td>\n",
              "      <td>1.000000e+00</td>\n",
              "      <td>1.900000e+01</td>\n",
              "      <td>5.000000e+00</td>\n",
              "      <td>9.000000e+00</td>\n",
              "      <td>2.013000e+03</td>\n",
              "      <td>2.424838e+00</td>\n",
              "    </tr>\n",
              "    <tr>\n",
              "      <th>max</th>\n",
              "      <td>9.520000e+02</td>\n",
              "      <td>-7.299715e+01</td>\n",
              "      <td>4.169685e+01</td>\n",
              "      <td>-7.301178e+01</td>\n",
              "      <td>4.170632e+01</td>\n",
              "      <td>7.000000e+00</td>\n",
              "      <td>4.169700e+01</td>\n",
              "      <td>-7.299700e+01</td>\n",
              "      <td>4.170600e+01</td>\n",
              "      <td>-7.301200e+01</td>\n",
              "      <td>...</td>\n",
              "      <td>1.000000e+00</td>\n",
              "      <td>1.000000e+00</td>\n",
              "      <td>1.000000e+00</td>\n",
              "      <td>1.000000e+00</td>\n",
              "      <td>1.000000e+00</td>\n",
              "      <td>2.300000e+01</td>\n",
              "      <td>6.000000e+00</td>\n",
              "      <td>1.200000e+01</td>\n",
              "      <td>2.015000e+03</td>\n",
              "      <td>7.182740e+01</td>\n",
              "    </tr>\n",
              "  </tbody>\n",
              "</table>\n",
              "<p>8 rows × 23 columns</p>\n",
              "</div>"
            ]
          },
          "metadata": {
            "tags": []
          },
          "execution_count": 25
        }
      ]
    },
    {
      "cell_type": "markdown",
      "metadata": {
        "id": "2F3ZtZtgCt87"
      },
      "source": [
        "Visualization of the data <br>\n",
        "\n",
        "The following things were noticed (while using 500k datapoints):\n",
        "*   The minimal fare_amount is negative. As this does not seem to be realistic I will drop them from the dataset.\n",
        "*   Some of the minimum and maximum longitude/lattitude coordinates are way off. These  will also be remove from the dataset. (bounding box will be defined)\n",
        "*   The average fare_amount is about 9.79 USD with a standard deviation of 7.48 USD. When building a predictive model we want to be better than 7.48 USD.\n",
        "\n"
      ]
    },
    {
      "cell_type": "code",
      "metadata": {
        "id": "T-Wu8kZoB-0s",
        "trusted": true
      },
      "source": [
        "train = train[train.fare_amount>=0]\n",
        "train = train[(train['distance'] < 30) & (train['distance'] >=0 )]"
      ],
      "execution_count": null,
      "outputs": []
    },
    {
      "cell_type": "code",
      "metadata": {
        "id": "u7Bp_uZoGIqU",
        "trusted": true
      },
      "source": [
        "fare_amount = train['fare_amount'].to_array()\n",
        "passenger_count = train['passenger_count'].to_array()\n",
        "distance = train['distance'].to_array()"
      ],
      "execution_count": null,
      "outputs": []
    },
    {
      "cell_type": "code",
      "metadata": {
        "id": "4JcWhshbET0g",
        "trusted": true,
        "outputId": "2085396d-c701-4b8e-da83-c6fc2b773a5e"
      },
      "source": [
        "plt.figure(figsize=(8,5))\n",
        "sns.kdeplot(fare_amount).set_title(\"Verteilung des Fahrpreises\")"
      ],
      "execution_count": null,
      "outputs": [
        {
          "output_type": "execute_result",
          "data": {
            "text/plain": [
              "Text(0.5, 1.0, 'Verteilung des Fahrpreises')"
            ]
          },
          "metadata": {
            "tags": []
          },
          "execution_count": 28
        },
        {
          "output_type": "display_data",
          "data": {
            "text/plain": [
              "<Figure size 576x360 with 1 Axes>"
            ],
            "image/png": "[encoded data removed]"
          },
          "metadata": {
            "tags": [],
            "needs_background": "light"
          }
        }
      ]
    },
    {
      "cell_type": "code",
      "metadata": {
        "id": "LQuUhTOR_xj2",
        "trusted": true,
        "outputId": "0d22822b-b2e6-4013-a39a-d9877d8ceee0"
      },
      "source": [
        "plt.figure(figsize=(8,5))\n",
        "sns.kdeplot(distance).set_title(\"Distanz\")"
      ],
      "execution_count": null,
      "outputs": [
        {
          "output_type": "execute_result",
          "data": {
            "text/plain": [
              "Text(0.5, 1.0, 'Distanz')"
            ]
          },
          "metadata": {
            "tags": []
          },
          "execution_count": 29
        },
        {
          "output_type": "display_data",
          "data": {
            "text/plain": [
              "<Figure size 576x360 with 1 Axes>"
            ],
            "image/png": "[encoded data removed]"
          },
          "metadata": {
            "tags": [],
            "needs_background": "light"
          }
        }
      ]
    },
    {
      "cell_type": "code",
      "metadata": {
        "id": "ctVL7b6XQr6i",
        "trusted": true,
        "outputId": "2e2e75bf-dd50-4899-b405-2e1444975e3e"
      },
      "source": [
        "#check max latitude und max longitude of test data\n",
        "print(\"Max lat pickup: \" + str(test['pickup_latitude'].max()))\n",
        "print(\"Max lat dropoff: \" + str(test['dropoff_latitude'].max()))\n",
        "print(\"Max lon pickup: \" + str(test['pickup_longitude'].max()))\n",
        "print(\"Max lon dropoff: \" + str(test['dropoff_longitude'].max()))\n",
        "print(\"\")\n",
        "print(\"Min lat pickup: \" + str(test['pickup_latitude'].min()))\n",
        "print(\"Min lat dropoff: \" + str(test['dropoff_latitude'].min()))\n",
        "print(\"Min lon pickup: \" + str(test['pickup_longitude'].min()))\n",
        "print(\"Min lon dropoff: \" + str(test['dropoff_longitude'].min()))"
      ],
      "execution_count": null,
      "outputs": [
        {
          "output_type": "stream",
          "text": [
            "Max lat pickup: 41.709553\n",
            "Max lat dropoff: 41.696682\n",
            "Max lon pickup: -72.986534\n",
            "Max lon dropoff: -72.99096\n",
            "\n",
            "Min lat pickup: 40.57314\n",
            "Min lat dropoff: 40.568974\n",
            "Min lon pickup: -74.25219\n",
            "Min lon dropoff: -74.26323\n"
          ],
          "name": "stdout"
        }
      ]
    },
    {
      "cell_type": "markdown",
      "metadata": {
        "id": "3p3pPHX4Hada"
      },
      "source": [
        "Bounding Box New York\n",
        "<table>\n",
        "  <tr>\n",
        "    <th></th>\n",
        "    <th>Dropoff</th>\n",
        "    <th>Pickup</th>\n",
        "  </tr>\n",
        "  <tr>\n",
        "    <td>Max Long</td>\n",
        "    <td>-72.99096</td>\n",
        "    <td>-72.986534</td>\n",
        "   </tr>\n",
        "   <tr>\n",
        "    <td>Max Lat</td>\n",
        "    <td>41.696682</td>\n",
        "    <td>41.709553</td>\n",
        "   </tr>\n",
        "   <tr>\n",
        "    <td>Min Long</td>\n",
        "    <td>-74.26323</td>\n",
        "    <td>-74.25219</td>\n",
        "    </tr>\n",
        "   <tr>\n",
        "    <td>Min Lat</td>\n",
        "    <td>40.568974</td>\n",
        "    <td>40.57314</td>\n",
        "   </tr>\n",
        "</table>\n",
        "\n"
      ]
    },
    {
      "cell_type": "code",
      "metadata": {
        "id": "gMZUYAcDVO1x",
        "trusted": true,
        "outputId": "12ec5d8d-ffef-4b23-d9b7-49c9996425e4"
      },
      "source": [
        "train.head(2)"
      ],
      "execution_count": null,
      "outputs": [
        {
          "output_type": "execute_result",
          "data": {
            "text/plain": [
              "                           key  fare_amount     pickup_datetime  \\\n",
              "0  2009-06-15 17:26:21.0000001          4.5 2009-06-15 17:26:21   \n",
              "1  2010-01-05 16:52:16.0000002         16.9 2010-01-05 16:52:16   \n",
              "\n",
              "   pickup_longitude  pickup_latitude  dropoff_longitude  dropoff_latitude  \\\n",
              "0        -73.844307        40.721321         -73.841614         40.712273   \n",
              "1        -74.016045        40.711304         -73.979271         40.782005   \n",
              "\n",
              "   passenger_count  pickup_latitude_round3  pickup_longitude_round3  ...  \\\n",
              "0                1               40.721001               -73.844002  ...   \n",
              "1                1               40.710999               -74.015999  ...   \n",
              "\n",
              "   is_dropoff_EWR  is_pickup_la_guardia  is_dropoff_la_guardia  \\\n",
              "0               0                     0                      0   \n",
              "1               0                     0                      0   \n",
              "\n",
              "   is_pickup_lower_manhattan  is_dropoff_lower_manhattan  hour  weekday  \\\n",
              "0                          0                           0    17        0   \n",
              "1                          1                           0    16        1   \n",
              "\n",
              "   month  year  distance  \n",
              "0      6  2009  0.000000  \n",
              "1      1  2010  5.244397  \n",
              "\n",
              "[2 rows x 25 columns]"
            ],
            "text/html": [
              "<div>\n",
              "<style scoped>\n",
              "    .dataframe tbody tr th:only-of-type {\n",
              "        vertical-align: middle;\n",
              "    }\n",
              "\n",
              "    .dataframe tbody tr th {\n",
              "        vertical-align: top;\n",
              "    }\n",
              "\n",
              "    .dataframe thead th {\n",
              "        text-align: right;\n",
              "    }\n",
              "</style>\n",
              "<table border=\"1\" class=\"dataframe\">\n",
              "  <thead>\n",
              "    <tr style=\"text-align: right;\">\n",
              "      <th></th>\n",
              "      <th>key</th>\n",
              "      <th>fare_amount</th>\n",
              "      <th>pickup_datetime</th>\n",
              "      <th>pickup_longitude</th>\n",
              "      <th>pickup_latitude</th>\n",
              "      <th>dropoff_longitude</th>\n",
              "      <th>dropoff_latitude</th>\n",
              "      <th>passenger_count</th>\n",
              "      <th>pickup_latitude_round3</th>\n",
              "      <th>pickup_longitude_round3</th>\n",
              "      <th>...</th>\n",
              "      <th>is_dropoff_EWR</th>\n",
              "      <th>is_pickup_la_guardia</th>\n",
              "      <th>is_dropoff_la_guardia</th>\n",
              "      <th>is_pickup_lower_manhattan</th>\n",
              "      <th>is_dropoff_lower_manhattan</th>\n",
              "      <th>hour</th>\n",
              "      <th>weekday</th>\n",
              "      <th>month</th>\n",
              "      <th>year</th>\n",
              "      <th>distance</th>\n",
              "    </tr>\n",
              "  </thead>\n",
              "  <tbody>\n",
              "    <tr>\n",
              "      <th>0</th>\n",
              "      <td>2009-06-15 17:26:21.0000001</td>\n",
              "      <td>4.5</td>\n",
              "      <td>2009-06-15 17:26:21</td>\n",
              "      <td>-73.844307</td>\n",
              "      <td>40.721321</td>\n",
              "      <td>-73.841614</td>\n",
              "      <td>40.712273</td>\n",
              "      <td>1</td>\n",
              "      <td>40.721001</td>\n",
              "      <td>-73.844002</td>\n",
              "      <td>...</td>\n",
              "      <td>0</td>\n",
              "      <td>0</td>\n",
              "      <td>0</td>\n",
              "      <td>0</td>\n",
              "      <td>0</td>\n",
              "      <td>17</td>\n",
              "      <td>0</td>\n",
              "      <td>6</td>\n",
              "      <td>2009</td>\n",
              "      <td>0.000000</td>\n",
              "    </tr>\n",
              "    <tr>\n",
              "      <th>1</th>\n",
              "      <td>2010-01-05 16:52:16.0000002</td>\n",
              "      <td>16.9</td>\n",
              "      <td>2010-01-05 16:52:16</td>\n",
              "      <td>-74.016045</td>\n",
              "      <td>40.711304</td>\n",
              "      <td>-73.979271</td>\n",
              "      <td>40.782005</td>\n",
              "      <td>1</td>\n",
              "      <td>40.710999</td>\n",
              "      <td>-74.015999</td>\n",
              "      <td>...</td>\n",
              "      <td>0</td>\n",
              "      <td>0</td>\n",
              "      <td>0</td>\n",
              "      <td>1</td>\n",
              "      <td>0</td>\n",
              "      <td>16</td>\n",
              "      <td>1</td>\n",
              "      <td>1</td>\n",
              "      <td>2010</td>\n",
              "      <td>5.244397</td>\n",
              "    </tr>\n",
              "  </tbody>\n",
              "</table>\n",
              "<p>2 rows × 25 columns</p>\n",
              "</div>"
            ]
          },
          "metadata": {
            "tags": []
          },
          "execution_count": 31
        }
      ]
    },
    {
      "cell_type": "code",
      "metadata": {
        "id": "6nu3O1o0HkkC",
        "trusted": true
      },
      "source": [
        "#Parts of train data are too far away, so they can be dropped\n",
        "train = train[(train['pickup_longitude'] > -74.25) & (train['pickup_longitude'] < -72.98)]\n",
        "train = train[(train['pickup_latitude'] > 40.57) & (train['pickup_latitude'] < 41.70)]\n",
        "train = train[(train['dropoff_longitude'] < -72.99) & (train['dropoff_longitude'] > -74.26)]\n",
        "train = train[(train['dropoff_latitude'] > 40.56) & (train['dropoff_latitude'] < 41.69)]"
      ],
      "execution_count": null,
      "outputs": []
    },
    {
      "cell_type": "code",
      "metadata": {
        "id": "Lh8BCPIjGDkx",
        "trusted": true,
        "outputId": "0f0c56a5-ea1b-424f-d78d-634143f2b94c"
      },
      "source": [
        "dropoff_longitude = train['dropoff_longitude'].to_array()\n",
        "dropoff_latitude = train['dropoff_latitude'].to_array()\n",
        "\n",
        "city_long_border = (-74.03, -73.75)\n",
        "city_lat_border = (40.63, 40.85)\n",
        "\n",
        "plt.figure(figsize=(10,6))\n",
        "plt.scatter(dropoff_longitude, dropoff_latitude,\n",
        "                color='green', \n",
        "                s=.02, alpha=.6)\n",
        "plt.title(\"Dropoffs\")\n",
        "\n",
        "plt.ylim(city_lat_border)\n",
        "plt.xlim(city_long_border)"
      ],
      "execution_count": null,
      "outputs": [
        {
          "output_type": "execute_result",
          "data": {
            "text/plain": [
              "(-74.03, -73.75)"
            ]
          },
          "metadata": {
            "tags": []
          },
          "execution_count": 33
        },
        {
          "output_type": "display_data",
          "data": {
            "text/plain": [
              "<Figure size 720x432 with 1 Axes>"
            ],
            "image/png": "[encoded data removed]"
          },
          "metadata": {
            "tags": [],
            "needs_background": "light"
          }
        }
      ]
    },
    {
      "cell_type": "markdown",
      "metadata": {
        "id": "U2dpIvoAIe33"
      },
      "source": [
        "Tested different columns to see which have the most impact. Pickup_datetime seems to be irrelevant for the predictions so dropping it together with key."
      ]
    },
    {
      "cell_type": "code",
      "metadata": {
        "id": "7ZqQoFPuGrYN",
        "trusted": true
      },
      "source": [
        "## Kicking out unrelevant columns\n",
        "unnecessary_columns=['key','pickup_datetime']\n",
        "train=train.drop(unnecessary_columns,axis=1)\n",
        "test=test.drop(unnecessary_columns,axis=1)"
      ],
      "execution_count": null,
      "outputs": []
    },
    {
      "cell_type": "code",
      "metadata": {
        "id": "zR9cNfz9ITCh",
        "trusted": true,
        "outputId": "d07017cd-5cc9-4639-87f9-2337574a8d22"
      },
      "source": [
        "train.head(2)"
      ],
      "execution_count": null,
      "outputs": [
        {
          "output_type": "execute_result",
          "data": {
            "text/plain": [
              "   fare_amount  pickup_longitude  pickup_latitude  dropoff_longitude  \\\n",
              "0          4.5        -73.844307        40.721321         -73.841614   \n",
              "1         16.9        -74.016045        40.711304         -73.979271   \n",
              "\n",
              "   dropoff_latitude  passenger_count  pickup_latitude_round3  \\\n",
              "0         40.712273                1               40.721001   \n",
              "1         40.782005                1               40.710999   \n",
              "\n",
              "   pickup_longitude_round3  dropoff_latitude_round3  dropoff_longitude_round3  \\\n",
              "0               -73.844002                40.711998                -73.842003   \n",
              "1               -74.015999                40.782001                -73.979004   \n",
              "\n",
              "   ...  is_dropoff_EWR  is_pickup_la_guardia  is_dropoff_la_guardia  \\\n",
              "0  ...               0                     0                      0   \n",
              "1  ...               0                     0                      0   \n",
              "\n",
              "   is_pickup_lower_manhattan  is_dropoff_lower_manhattan  hour  weekday  \\\n",
              "0                          0                           0    17        0   \n",
              "1                          1                           0    16        1   \n",
              "\n",
              "   month  year  distance  \n",
              "0      6  2009  0.000000  \n",
              "1      1  2010  5.244397  \n",
              "\n",
              "[2 rows x 23 columns]"
            ],
            "text/html": [
              "<div>\n",
              "<style scoped>\n",
              "    .dataframe tbody tr th:only-of-type {\n",
              "        vertical-align: middle;\n",
              "    }\n",
              "\n",
              "    .dataframe tbody tr th {\n",
              "        vertical-align: top;\n",
              "    }\n",
              "\n",
              "    .dataframe thead th {\n",
              "        text-align: right;\n",
              "    }\n",
              "</style>\n",
              "<table border=\"1\" class=\"dataframe\">\n",
              "  <thead>\n",
              "    <tr style=\"text-align: right;\">\n",
              "      <th></th>\n",
              "      <th>fare_amount</th>\n",
              "      <th>pickup_longitude</th>\n",
              "      <th>pickup_latitude</th>\n",
              "      <th>dropoff_longitude</th>\n",
              "      <th>dropoff_latitude</th>\n",
              "      <th>passenger_count</th>\n",
              "      <th>pickup_latitude_round3</th>\n",
              "      <th>pickup_longitude_round3</th>\n",
              "      <th>dropoff_latitude_round3</th>\n",
              "      <th>dropoff_longitude_round3</th>\n",
              "      <th>...</th>\n",
              "      <th>is_dropoff_EWR</th>\n",
              "      <th>is_pickup_la_guardia</th>\n",
              "      <th>is_dropoff_la_guardia</th>\n",
              "      <th>is_pickup_lower_manhattan</th>\n",
              "      <th>is_dropoff_lower_manhattan</th>\n",
              "      <th>hour</th>\n",
              "      <th>weekday</th>\n",
              "      <th>month</th>\n",
              "      <th>year</th>\n",
              "      <th>distance</th>\n",
              "    </tr>\n",
              "  </thead>\n",
              "  <tbody>\n",
              "    <tr>\n",
              "      <th>0</th>\n",
              "      <td>4.5</td>\n",
              "      <td>-73.844307</td>\n",
              "      <td>40.721321</td>\n",
              "      <td>-73.841614</td>\n",
              "      <td>40.712273</td>\n",
              "      <td>1</td>\n",
              "      <td>40.721001</td>\n",
              "      <td>-73.844002</td>\n",
              "      <td>40.711998</td>\n",
              "      <td>-73.842003</td>\n",
              "      <td>...</td>\n",
              "      <td>0</td>\n",
              "      <td>0</td>\n",
              "      <td>0</td>\n",
              "      <td>0</td>\n",
              "      <td>0</td>\n",
              "      <td>17</td>\n",
              "      <td>0</td>\n",
              "      <td>6</td>\n",
              "      <td>2009</td>\n",
              "      <td>0.000000</td>\n",
              "    </tr>\n",
              "    <tr>\n",
              "      <th>1</th>\n",
              "      <td>16.9</td>\n",
              "      <td>-74.016045</td>\n",
              "      <td>40.711304</td>\n",
              "      <td>-73.979271</td>\n",
              "      <td>40.782005</td>\n",
              "      <td>1</td>\n",
              "      <td>40.710999</td>\n",
              "      <td>-74.015999</td>\n",
              "      <td>40.782001</td>\n",
              "      <td>-73.979004</td>\n",
              "      <td>...</td>\n",
              "      <td>0</td>\n",
              "      <td>0</td>\n",
              "      <td>0</td>\n",
              "      <td>1</td>\n",
              "      <td>0</td>\n",
              "      <td>16</td>\n",
              "      <td>1</td>\n",
              "      <td>1</td>\n",
              "      <td>2010</td>\n",
              "      <td>5.244397</td>\n",
              "    </tr>\n",
              "  </tbody>\n",
              "</table>\n",
              "<p>2 rows × 23 columns</p>\n",
              "</div>"
            ]
          },
          "metadata": {
            "tags": []
          },
          "execution_count": 35
        }
      ]
    },
    {
      "cell_type": "code",
      "metadata": {
        "id": "TNd_cXuNg3yL",
        "trusted": true,
        "outputId": "544f5ce5-6213-49fc-8d39-a817f94c5b40"
      },
      "source": [
        "test.head(2)"
      ],
      "execution_count": null,
      "outputs": [
        {
          "output_type": "execute_result",
          "data": {
            "text/plain": [
              "   pickup_longitude  pickup_latitude  dropoff_longitude  dropoff_latitude  \\\n",
              "0        -73.973320        40.763805         -73.981430         40.743835   \n",
              "1        -73.986862        40.719383         -73.998886         40.739197   \n",
              "\n",
              "   passenger_count  is_pickup_JFK  is_dropoff_JFK  is_pickup_EWR  \\\n",
              "0                1              0               0              0   \n",
              "1                1              0               0              0   \n",
              "\n",
              "   is_dropoff_EWR  is_pickup_la_guardia  ...  pickup_longitude_round3  \\\n",
              "0               0                     0  ...               -73.973000   \n",
              "1               0                     0  ...               -73.987007   \n",
              "\n",
              "   dropoff_latitude_round3  dropoff_longitude_round3  \\\n",
              "0                40.744003                -73.981003   \n",
              "1                40.738998                -73.999001   \n",
              "\n",
              "   is_pickup_lower_manhattan  is_dropoff_lower_manhattan  hour  weekday  \\\n",
              "0                          0                           0    13        1   \n",
              "1                          1                           1    13        1   \n",
              "\n",
              "   month  year  distance  \n",
              "0      1  2015  1.366828  \n",
              "1      1  2015  1.366828  \n",
              "\n",
              "[2 rows x 22 columns]"
            ],
            "text/html": [
              "<div>\n",
              "<style scoped>\n",
              "    .dataframe tbody tr th:only-of-type {\n",
              "        vertical-align: middle;\n",
              "    }\n",
              "\n",
              "    .dataframe tbody tr th {\n",
              "        vertical-align: top;\n",
              "    }\n",
              "\n",
              "    .dataframe thead th {\n",
              "        text-align: right;\n",
              "    }\n",
              "</style>\n",
              "<table border=\"1\" class=\"dataframe\">\n",
              "  <thead>\n",
              "    <tr style=\"text-align: right;\">\n",
              "      <th></th>\n",
              "      <th>pickup_longitude</th>\n",
              "      <th>pickup_latitude</th>\n",
              "      <th>dropoff_longitude</th>\n",
              "      <th>dropoff_latitude</th>\n",
              "      <th>passenger_count</th>\n",
              "      <th>is_pickup_JFK</th>\n",
              "      <th>is_dropoff_JFK</th>\n",
              "      <th>is_pickup_EWR</th>\n",
              "      <th>is_dropoff_EWR</th>\n",
              "      <th>is_pickup_la_guardia</th>\n",
              "      <th>...</th>\n",
              "      <th>pickup_longitude_round3</th>\n",
              "      <th>dropoff_latitude_round3</th>\n",
              "      <th>dropoff_longitude_round3</th>\n",
              "      <th>is_pickup_lower_manhattan</th>\n",
              "      <th>is_dropoff_lower_manhattan</th>\n",
              "      <th>hour</th>\n",
              "      <th>weekday</th>\n",
              "      <th>month</th>\n",
              "      <th>year</th>\n",
              "      <th>distance</th>\n",
              "    </tr>\n",
              "  </thead>\n",
              "  <tbody>\n",
              "    <tr>\n",
              "      <th>0</th>\n",
              "      <td>-73.973320</td>\n",
              "      <td>40.763805</td>\n",
              "      <td>-73.981430</td>\n",
              "      <td>40.743835</td>\n",
              "      <td>1</td>\n",
              "      <td>0</td>\n",
              "      <td>0</td>\n",
              "      <td>0</td>\n",
              "      <td>0</td>\n",
              "      <td>0</td>\n",
              "      <td>...</td>\n",
              "      <td>-73.973000</td>\n",
              "      <td>40.744003</td>\n",
              "      <td>-73.981003</td>\n",
              "      <td>0</td>\n",
              "      <td>0</td>\n",
              "      <td>13</td>\n",
              "      <td>1</td>\n",
              "      <td>1</td>\n",
              "      <td>2015</td>\n",
              "      <td>1.366828</td>\n",
              "    </tr>\n",
              "    <tr>\n",
              "      <th>1</th>\n",
              "      <td>-73.986862</td>\n",
              "      <td>40.719383</td>\n",
              "      <td>-73.998886</td>\n",
              "      <td>40.739197</td>\n",
              "      <td>1</td>\n",
              "      <td>0</td>\n",
              "      <td>0</td>\n",
              "      <td>0</td>\n",
              "      <td>0</td>\n",
              "      <td>0</td>\n",
              "      <td>...</td>\n",
              "      <td>-73.987007</td>\n",
              "      <td>40.738998</td>\n",
              "      <td>-73.999001</td>\n",
              "      <td>1</td>\n",
              "      <td>1</td>\n",
              "      <td>13</td>\n",
              "      <td>1</td>\n",
              "      <td>1</td>\n",
              "      <td>2015</td>\n",
              "      <td>1.366828</td>\n",
              "    </tr>\n",
              "  </tbody>\n",
              "</table>\n",
              "<p>2 rows × 22 columns</p>\n",
              "</div>"
            ]
          },
          "metadata": {
            "tags": []
          },
          "execution_count": 36
        }
      ]
    },
    {
      "cell_type": "markdown",
      "metadata": {
        "id": "SwKEOq2fI963"
      },
      "source": [
        "Splitting the train data here"
      ]
    },
    {
      "cell_type": "code",
      "metadata": {
        "id": "NdDCPESrIYfo",
        "trusted": true,
        "outputId": "64b0cc0f-c6b1-49ee-bf84-424739b8b08a"
      },
      "source": [
        "X=train.drop(['fare_amount'],axis=1)\n",
        "y=train['fare_amount']\n",
        "\n",
        "## getting the columns into the same order since XGB and LGBM seems to have a problem if they are not aligned\n",
        "test = test[train.columns.drop(['fare_amount'])]\n",
        "\n",
        "X_train, X_test, y_train, y_test = train_test_split(X,y, test_size=0.2)\n",
        "print(\"Number of records in training data \",X_train.shape[0])\n",
        "print(\"Number of records in validation data \",X_test.shape[0])\n",
        "print(X_train.shape)\n",
        "print(X_test.shape)\n",
        "print(y_train.shape)\n",
        "print(y_test.shape)\n",
        "\n",
        "## free some storage by cleaning up the previous unneeded variables\n",
        "del X, y\n",
        "gc.collect()"
      ],
      "execution_count": null,
      "outputs": [
        {
          "output_type": "stream",
          "text": [
            "Number of records in training data  4696184\n",
            "Number of records in validation data  1174045\n",
            "(4696184, 22)\n",
            "(1174045, 22)\n",
            "(4696184,)\n",
            "(1174045,)\n"
          ],
          "name": "stdout"
        },
        {
          "output_type": "execute_result",
          "data": {
            "text/plain": [
              "2436"
            ]
          },
          "metadata": {
            "tags": []
          },
          "execution_count": 37
        }
      ]
    },
    {
      "cell_type": "markdown",
      "metadata": {
        "id": "ASbJyvwrLXEA"
      },
      "source": [
        "# 4. Linear Regression\n",
        "This counts as our baseline model and showcases the most simple model here."
      ]
    },
    {
      "cell_type": "code",
      "metadata": {
        "id": "6oVWER31Ikbs",
        "trusted": true,
        "outputId": "cf78d0a3-c890-417c-806e-4270e9434ad5"
      },
      "source": [
        "lm = LinearRegression(fit_intercept = True, \n",
        "                      normalize = False,\n",
        "                      algorithm = \"eig\")\n",
        "lm.fit(X_train,y_train)"
      ],
      "execution_count": null,
      "outputs": [
        {
          "output_type": "execute_result",
          "data": {
            "text/plain": [
              "LinearRegression(algorithm='eig', fit_intercept=True, normalize=False, handle=<cuml.common.handle.Handle object at 0x7f683ed14810>, verbose=2, output_type='cudf')"
            ]
          },
          "metadata": {
            "tags": []
          },
          "execution_count": 142
        }
      ]
    },
    {
      "cell_type": "code",
      "metadata": {
        "id": "Bnc_Qa9StqWa",
        "trusted": true,
        "outputId": "696f9867-74d0-4361-ae3c-374be533104b"
      },
      "source": [
        "y_test_pred=lm.predict(X_test)\n",
        "score_linear_reg = calc_R2(y_test_pred, 'Linear Regression')"
      ],
      "execution_count": null,
      "outputs": [
        {
          "output_type": "stream",
          "text": [
            "R2 Score for the Linear Regression model is:  0.713481068611145\n"
          ],
          "name": "stdout"
        }
      ]
    },
    {
      "cell_type": "code",
      "metadata": {
        "id": "L85j0kDWI2fH",
        "trusted": true,
        "outputId": "c9602aad-e4ba-44bc-f596-73fb149b6104"
      },
      "source": [
        "y_pred_LR=lm.predict(test)\n",
        "\n",
        "save_model_csv(y_pred_LR, 'submission_LinearReg')"
      ],
      "execution_count": null,
      "outputs": [
        {
          "output_type": "execute_result",
          "data": {
            "text/plain": [
              "                           key  fare_amount\n",
              "0  2015-01-27 13:08:24.0000002    11.222260\n",
              "1  2015-01-27 13:08:24.0000003    10.584808"
            ],
            "text/html": [
              "<div>\n",
              "<style scoped>\n",
              "    .dataframe tbody tr th:only-of-type {\n",
              "        vertical-align: middle;\n",
              "    }\n",
              "\n",
              "    .dataframe tbody tr th {\n",
              "        vertical-align: top;\n",
              "    }\n",
              "\n",
              "    .dataframe thead th {\n",
              "        text-align: right;\n",
              "    }\n",
              "</style>\n",
              "<table border=\"1\" class=\"dataframe\">\n",
              "  <thead>\n",
              "    <tr style=\"text-align: right;\">\n",
              "      <th></th>\n",
              "      <th>key</th>\n",
              "      <th>fare_amount</th>\n",
              "    </tr>\n",
              "  </thead>\n",
              "  <tbody>\n",
              "    <tr>\n",
              "      <th>0</th>\n",
              "      <td>2015-01-27 13:08:24.0000002</td>\n",
              "      <td>11.222260</td>\n",
              "    </tr>\n",
              "    <tr>\n",
              "      <th>1</th>\n",
              "      <td>2015-01-27 13:08:24.0000003</td>\n",
              "      <td>10.584808</td>\n",
              "    </tr>\n",
              "  </tbody>\n",
              "</table>\n",
              "</div>"
            ]
          },
          "metadata": {
            "tags": []
          },
          "execution_count": 144
        }
      ]
    },
    {
      "cell_type": "markdown",
      "metadata": {
        "id": "I8q2_b90LUju"
      },
      "source": [
        "# 5. Ridge Regression\n",
        "\n",
        "This model is a little buggy and fails every second time to load. The results compared to the linear regression are not really an improvement here with R2 values and submission score being pretty much identical and still having longer training time."
      ]
    },
    {
      "cell_type": "code",
      "metadata": {
        "id": "jusciUoQP0_Z",
        "trusted": true
      },
      "source": [
        "params_ridge = {\n",
        "    \"alpha\": loguniform(1e-5, 1e0), # default 1.0\n",
        "    \"solver\": ['eig', 'cd'], \n",
        "}\n",
        "ridge = Ridge()\n",
        "clf = RandomizedSearchCV(ridge, params_ridge, random_state=1, n_iter=100, cv=5, verbose=0, n_jobs=1)\n",
        "best_model = clf.fit(X_train,y_train)"
      ],
      "execution_count": null,
      "outputs": []
    },
    {
      "cell_type": "code",
      "metadata": {
        "id": "_wUP1Kc9P71y",
        "trusted": true,
        "outputId": "2b799440-bef3-4f7d-c496-4a78ac0e1d6b"
      },
      "source": [
        "best_model.best_estimator_.get_params()"
      ],
      "execution_count": null,
      "outputs": [
        {
          "output_type": "execute_result",
          "data": {
            "text/plain": [
              "{'solver': 'eig',\n",
              " 'fit_intercept': True,\n",
              " 'normalize': False,\n",
              " 'alpha': 0.20783049538538184}"
            ]
          },
          "metadata": {
            "tags": []
          },
          "execution_count": 146
        }
      ]
    },
    {
      "cell_type": "code",
      "metadata": {
        "id": "uVSS1oaeP-hk",
        "trusted": true
      },
      "source": [
        "ridge_params = {\n",
        " 'alpha': 0.240960447726532,\n",
        " 'fit_intercept': True,\n",
        " 'normalize': False,\n",
        " 'solver': 'eig'\n",
        "}\n",
        "\n",
        "ridge = Ridge(**ridge_params)\n",
        "result_ridge = ridge.fit(X_train,y_train)"
      ],
      "execution_count": null,
      "outputs": []
    },
    {
      "cell_type": "code",
      "metadata": {
        "id": "QbKIojsO2zmv",
        "trusted": true,
        "outputId": "eb0490c7-3804-4509-93fb-a08958ba7804"
      },
      "source": [
        "y_test_pred = result_ridge.predict(X_test)\n",
        "score_ridge_reg =calc_R2(y_test_pred, 'Ridge Regression')"
      ],
      "execution_count": null,
      "outputs": [
        {
          "output_type": "stream",
          "text": [
            "R2 Score for the Ridge Regression model is:  0.7134790420532227\n"
          ],
          "name": "stdout"
        }
      ]
    },
    {
      "cell_type": "code",
      "metadata": {
        "id": "UiacUjg6QDfu",
        "trusted": true,
        "outputId": "ffde4b84-74d7-495e-d04c-5766bbf854c2"
      },
      "source": [
        "y_pred_RR = result_ridge.predict(test)\n",
        "save_model_csv(y_pred_RR, 'submission_RidgeReg')"
      ],
      "execution_count": null,
      "outputs": [
        {
          "output_type": "execute_result",
          "data": {
            "text/plain": [
              "                           key  fare_amount\n",
              "0  2015-01-27 13:08:24.0000002    11.227203\n",
              "1  2015-01-27 13:08:24.0000003    10.589142"
            ],
            "text/html": [
              "<div>\n",
              "<style scoped>\n",
              "    .dataframe tbody tr th:only-of-type {\n",
              "        vertical-align: middle;\n",
              "    }\n",
              "\n",
              "    .dataframe tbody tr th {\n",
              "        vertical-align: top;\n",
              "    }\n",
              "\n",
              "    .dataframe thead th {\n",
              "        text-align: right;\n",
              "    }\n",
              "</style>\n",
              "<table border=\"1\" class=\"dataframe\">\n",
              "  <thead>\n",
              "    <tr style=\"text-align: right;\">\n",
              "      <th></th>\n",
              "      <th>key</th>\n",
              "      <th>fare_amount</th>\n",
              "    </tr>\n",
              "  </thead>\n",
              "  <tbody>\n",
              "    <tr>\n",
              "      <th>0</th>\n",
              "      <td>2015-01-27 13:08:24.0000002</td>\n",
              "      <td>11.227203</td>\n",
              "    </tr>\n",
              "    <tr>\n",
              "      <th>1</th>\n",
              "      <td>2015-01-27 13:08:24.0000003</td>\n",
              "      <td>10.589142</td>\n",
              "    </tr>\n",
              "  </tbody>\n",
              "</table>\n",
              "</div>"
            ]
          },
          "metadata": {
            "tags": []
          },
          "execution_count": 149
        }
      ]
    },
    {
      "cell_type": "markdown",
      "metadata": {
        "id": "KhmGe2pIH8bs"
      },
      "source": [
        "# 6. K-Nearest Neighbors Regression\n",
        "\n"
      ]
    },
    {
      "cell_type": "markdown",
      "metadata": {
        "id": "Wdt0rWylZ8Zx"
      },
      "source": [
        "https://github.com/rapidsai/cuml/blob/branch-0.13/notebooks/kneighbors_regressor_demo.ipynb\n",
        "\n"
      ]
    },
    {
      "cell_type": "code",
      "metadata": {
        "id": "hlIw0FgjaKgP",
        "trusted": true
      },
      "source": [
        "## params\n",
        "n_neighbors=4"
      ],
      "execution_count": null,
      "outputs": []
    },
    {
      "cell_type": "markdown",
      "metadata": {
        "id": "U_wb1epTjqW4"
      },
      "source": [
        "inspiration: https://www.kaggle.com/cdeotte/rapids-knn-30-seconds-0-938/notebook"
      ]
    },
    {
      "cell_type": "code",
      "metadata": {
        "id": "kmdzooShH-MM",
        "trusted": true,
        "outputId": "62c723e1-c1a6-44b7-84cb-de84857fa4b1"
      },
      "source": [
        "%%time\n",
        "knn_cuml = cumlKNR(n_neighbors=n_neighbors)\n",
        "knn_cuml.fit(X_train, y_train)"
      ],
      "execution_count": null,
      "outputs": [
        {
          "output_type": "stream",
          "text": [
            "CPU times: user 93.5 ms, sys: 61.1 ms, total: 155 ms\n",
            "Wall time: 157 ms\n"
          ],
          "name": "stdout"
        },
        {
          "output_type": "execute_result",
          "data": {
            "text/plain": [
              "KNeighborsRegressor(weights='uniform')"
            ]
          },
          "metadata": {
            "tags": []
          },
          "execution_count": 151
        }
      ]
    },
    {
      "cell_type": "code",
      "metadata": {
        "id": "kjWTGwu_aqNH",
        "trusted": true,
        "outputId": "e567b011-2e5c-4ee9-de68-bd8e416fb826"
      },
      "source": [
        "y_test_pred = knn_cuml.predict(X_test)\n",
        "score_KNN = calc_R2(y_test_pred, 'K-nearest Neigbors Regression')"
      ],
      "execution_count": null,
      "outputs": [
        {
          "output_type": "stream",
          "text": [
            "R2 Score for the K-nearest Neigbors Regression model is:  0.7044384479522705\n"
          ],
          "name": "stdout"
        }
      ]
    },
    {
      "cell_type": "code",
      "metadata": {
        "id": "fzP6K_03ZYyR",
        "trusted": true,
        "outputId": "37ea0b17-4469-4885-85d1-61ab77f3407b"
      },
      "source": [
        "y_pred_KNN = knn_cuml.predict(test)\n",
        "\n",
        "save_model_csv(y_pred_KNN, 'submission_KNN')"
      ],
      "execution_count": null,
      "outputs": [
        {
          "output_type": "execute_result",
          "data": {
            "text/plain": [
              "                           key  fare_amount\n",
              "0  2015-01-27 13:08:24.0000002        9.875\n",
              "1  2015-01-27 13:08:24.0000003        7.625"
            ],
            "text/html": [
              "<div>\n",
              "<style scoped>\n",
              "    .dataframe tbody tr th:only-of-type {\n",
              "        vertical-align: middle;\n",
              "    }\n",
              "\n",
              "    .dataframe tbody tr th {\n",
              "        vertical-align: top;\n",
              "    }\n",
              "\n",
              "    .dataframe thead th {\n",
              "        text-align: right;\n",
              "    }\n",
              "</style>\n",
              "<table border=\"1\" class=\"dataframe\">\n",
              "  <thead>\n",
              "    <tr style=\"text-align: right;\">\n",
              "      <th></th>\n",
              "      <th>key</th>\n",
              "      <th>fare_amount</th>\n",
              "    </tr>\n",
              "  </thead>\n",
              "  <tbody>\n",
              "    <tr>\n",
              "      <th>0</th>\n",
              "      <td>2015-01-27 13:08:24.0000002</td>\n",
              "      <td>9.875</td>\n",
              "    </tr>\n",
              "    <tr>\n",
              "      <th>1</th>\n",
              "      <td>2015-01-27 13:08:24.0000003</td>\n",
              "      <td>7.625</td>\n",
              "    </tr>\n",
              "  </tbody>\n",
              "</table>\n",
              "</div>"
            ]
          },
          "metadata": {
            "tags": []
          },
          "execution_count": 153
        }
      ]
    },
    {
      "cell_type": "markdown",
      "metadata": {
        "id": "T0nLQZe2zzv_"
      },
      "source": [
        "# 7. Random Forest GPU\n"
      ]
    },
    {
      "cell_type": "code",
      "metadata": {
        "id": "nTlFRIbi1hly",
        "trusted": true
      },
      "source": [
        "## params\n",
        "n_estimators=10\n",
        "n_jobs=-1"
      ],
      "execution_count": null,
      "outputs": []
    },
    {
      "cell_type": "code",
      "metadata": {
        "id": "7aJAo-cM0F3C",
        "trusted": true,
        "outputId": "1af19e1f-4a8d-4e26-a900-0b65a15851af"
      },
      "source": [
        "%%time\n",
        "rf_cuml = cuRF(n_estimators=n_estimators)\n",
        "rf_cuml.fit(X_train, y_train)"
      ],
      "execution_count": null,
      "outputs": [
        {
          "output_type": "stream",
          "text": [
            "CPU times: user 12.5 s, sys: 8.33 s, total: 20.9 s\n",
            "Wall time: 12.9 s\n"
          ],
          "name": "stdout"
        },
        {
          "output_type": "execute_result",
          "data": {
            "text/plain": [
              "RandomForestRegressor(n_estimators=10, max_depth=16, handle=<cuml.common.handle.Handle object at 0x7f683c05a750>, max_features='auto', n_bins=8, n_streams=8, split_algo=1, split_criterion=2, bootstrap=True, bootstrap_features=False, verbose=2, min_rows_per_node=2, rows_sample=1.0, max_leaves=-1, accuracy_metric='mse', output_type='cudf', dtype=float32, min_impurity_decrease=0.0, quantile_per_tree=False, seed=None)"
            ]
          },
          "metadata": {
            "tags": []
          },
          "execution_count": 155
        }
      ]
    },
    {
      "cell_type": "code",
      "metadata": {
        "id": "JopZ4B2P1vh7",
        "trusted": true,
        "outputId": "f1d3492e-2ce9-4519-b6d7-d29fec4f1357"
      },
      "source": [
        "y_test_pred = rf_cuml.predict(X_test)\n",
        "score_Rand_For =calc_R2(y_test_pred, 'Random Forest')"
      ],
      "execution_count": null,
      "outputs": [
        {
          "output_type": "stream",
          "text": [
            "R2 Score for the Random Forest model is:  0.6746182441711426\n"
          ],
          "name": "stdout"
        }
      ]
    },
    {
      "cell_type": "code",
      "metadata": {
        "id": "B0tAnJJv4T-x",
        "trusted": true,
        "outputId": "b5888bcc-ebd6-49c3-8d24-cb00c9b6c831"
      },
      "source": [
        "y_pred_RF = rf_cuml.predict(test)\n",
        "save_model_csv(y_pred_RF, 'submission_RandomForest')"
      ],
      "execution_count": null,
      "outputs": [
        {
          "output_type": "execute_result",
          "data": {
            "text/plain": [
              "                           key  fare_amount\n",
              "0  2015-01-27 13:08:24.0000002    10.275451\n",
              "1  2015-01-27 13:08:24.0000003     9.137488"
            ],
            "text/html": [
              "<div>\n",
              "<style scoped>\n",
              "    .dataframe tbody tr th:only-of-type {\n",
              "        vertical-align: middle;\n",
              "    }\n",
              "\n",
              "    .dataframe tbody tr th {\n",
              "        vertical-align: top;\n",
              "    }\n",
              "\n",
              "    .dataframe thead th {\n",
              "        text-align: right;\n",
              "    }\n",
              "</style>\n",
              "<table border=\"1\" class=\"dataframe\">\n",
              "  <thead>\n",
              "    <tr style=\"text-align: right;\">\n",
              "      <th></th>\n",
              "      <th>key</th>\n",
              "      <th>fare_amount</th>\n",
              "    </tr>\n",
              "  </thead>\n",
              "  <tbody>\n",
              "    <tr>\n",
              "      <th>0</th>\n",
              "      <td>2015-01-27 13:08:24.0000002</td>\n",
              "      <td>10.275451</td>\n",
              "    </tr>\n",
              "    <tr>\n",
              "      <th>1</th>\n",
              "      <td>2015-01-27 13:08:24.0000003</td>\n",
              "      <td>9.137488</td>\n",
              "    </tr>\n",
              "  </tbody>\n",
              "</table>\n",
              "</div>"
            ]
          },
          "metadata": {
            "tags": []
          },
          "execution_count": 157
        }
      ]
    },
    {
      "cell_type": "markdown",
      "metadata": {
        "id": "pAxqf2LObvT4"
      },
      "source": [
        "# 8. XG Boost"
      ]
    },
    {
      "cell_type": "code",
      "metadata": {
        "id": "nfzVFTriPIEY",
        "trusted": true
      },
      "source": [
        "params_gpu = {\n",
        "    'n_estimators':350,  \n",
        "    'max_depth':7,    \n",
        "    'learning_rate':0.003, \n",
        "    'subsample':0.9,    \n",
        "    'colsample_bytree':0.9,    \n",
        "    'missing':-999,    \n",
        "    'random_state':2020,    \n",
        "    'objective':'reg:linear',    \n",
        "    'gamma':0.3,    \n",
        "    'reg_alpha':0.01,    \n",
        "    'tree_method':'gpu_hist'  # THE MAGICAL PARAMETER\n",
        "}\n",
        "\n",
        "## if you would like to compare runtime on CPU choose this one:\n",
        "params_cpu = {\n",
        "    'n_estimators':500,\n",
        "    'max_depth':7,\n",
        "    'learning_rate':0.0005,\n",
        "    'subsample':0.9,\n",
        "    'colsample_bytree':0.9,\n",
        "    'missing':-999,\n",
        "    'random_state':2020,\n",
        "    'objective':'reg:linear',\n",
        "    'gamma':0.3,\n",
        "    'reg_alpha':0.01,\n",
        "}"
      ],
      "execution_count": null,
      "outputs": []
    },
    {
      "cell_type": "markdown",
      "metadata": {
        "id": "WJYL-gIrbYZ0"
      },
      "source": [
        "## XG Boost model GPU"
      ]
    },
    {
      "cell_type": "code",
      "metadata": {
        "id": "iQeDs79peA7C",
        "trusted": true,
        "outputId": "b4b05815-73b2-46bc-fbe0-dc745722feaf"
      },
      "source": [
        "start_time=time.time()\n",
        "timetaken_gpu_xgb=time.time()-start_time\n",
        "timetaken_gpu_xgb"
      ],
      "execution_count": null,
      "outputs": [
        {
          "output_type": "execute_result",
          "data": {
            "text/plain": [
              "5.53131103515625e-05"
            ]
          },
          "metadata": {
            "tags": []
          },
          "execution_count": 39
        }
      ]
    },
    {
      "cell_type": "markdown",
      "metadata": {
        "id": "T-V-WY0qxxRg"
      },
      "source": [
        "Running nicely in Kaggle but not in Colab\n",
        "- TypeError: can not initialize DMatrix from DataFrame"
      ]
    },
    {
      "cell_type": "code",
      "metadata": {
        "id": "TpLZNVFIPH5o",
        "trusted": true,
        "outputId": "c899caac-cf67-4193-e5e9-f02d8c71e77d"
      },
      "source": [
        "%%time\n",
        "def XGBmodel(X_train,X_test,y_train,y_test,params):\n",
        "    matrix_train = xgb.DMatrix(X_train,label=y_train)\n",
        "    matrix_test = xgb.DMatrix(X_test,label=y_test)\n",
        "    model=xgb.train(params=params,\n",
        "                    dtrain=matrix_train,num_boost_round=1000, \n",
        "                    early_stopping_rounds=100,evals=[(matrix_test,'test')])\n",
        "    return model\n",
        "\n",
        "XGB_model = XGBmodel(X_train,X_test,y_train,y_test,params_gpu)"
      ],
      "execution_count": null,
      "outputs": [
        {
          "output_type": "stream",
          "text": [
            "[20:18:42] WARNING: /conda/conda-bld/xgboost_1591204502249/work/src/objective/regression_obj.cu:168: reg:linear is now deprecated in favor of reg:squarederror.\n",
            "[20:18:42] WARNING: /conda/conda-bld/xgboost_1591204502249/work/src/learner.cc:480: \n",
            "Parameters: { missing, n_estimators } might not be used.\n",
            "\n",
            "  This may not be accurate due to some parameters are only used in language bindings but\n",
            "  passed down to XGBoost core.  Or some parameters are not used but slip through this\n",
            "  verification. Please open an issue if you find above cases.\n",
            "\n",
            "\n",
            "[0]\ttest-rmse:14.38833\n",
            "Will train until test-rmse hasn't improved in 100 rounds.\n",
            "[1]\ttest-rmse:14.34877\n",
            "[2]\ttest-rmse:14.30935\n",
            "[3]\ttest-rmse:14.27006\n",
            "[4]\ttest-rmse:14.23090\n",
            "[5]\ttest-rmse:14.19215\n",
            "[6]\ttest-rmse:14.15324\n",
            "[7]\ttest-rmse:14.11659\n",
            "[8]\ttest-rmse:14.07792\n",
            "[9]\ttest-rmse:14.03938\n",
            "[10]\ttest-rmse:14.00096\n",
            "[11]\ttest-rmse:13.96268\n",
            "[12]\ttest-rmse:13.92452\n",
            "[13]\ttest-rmse:13.88674\n",
            "[14]\ttest-rmse:13.84884\n",
            "[15]\ttest-rmse:13.81105\n",
            "[16]\ttest-rmse:13.77337\n",
            "[17]\ttest-rmse:13.73791\n",
            "[18]\ttest-rmse:13.70046\n",
            "[19]\ttest-rmse:13.66522\n",
            "[20]\ttest-rmse:13.62801\n",
            "[21]\ttest-rmse:13.59096\n",
            "[22]\ttest-rmse:13.55400\n",
            "[23]\ttest-rmse:13.51717\n",
            "[24]\ttest-rmse:13.48045\n",
            "[25]\ttest-rmse:13.44387\n",
            "[26]\ttest-rmse:13.40738\n",
            "[27]\ttest-rmse:13.37305\n",
            "[28]\ttest-rmse:13.33884\n",
            "[29]\ttest-rmse:13.30269\n",
            "[30]\ttest-rmse:13.26666\n",
            "[31]\ttest-rmse:13.23102\n",
            "[32]\ttest-rmse:13.19523\n",
            "[33]\ttest-rmse:13.15957\n",
            "[34]\ttest-rmse:13.12403\n",
            "[35]\ttest-rmse:13.08860\n",
            "[36]\ttest-rmse:13.05332\n",
            "[37]\ttest-rmse:13.01814\n",
            "[38]\ttest-rmse:12.98306\n",
            "[39]\ttest-rmse:12.94809\n",
            "[40]\ttest-rmse:12.91325\n",
            "[41]\ttest-rmse:12.87851\n",
            "[42]\ttest-rmse:12.84389\n",
            "[43]\ttest-rmse:12.80959\n",
            "[44]\ttest-rmse:12.77521\n",
            "[45]\ttest-rmse:12.74095\n",
            "[46]\ttest-rmse:12.70680\n",
            "[47]\ttest-rmse:12.67273\n",
            "[48]\ttest-rmse:12.63877\n",
            "[49]\ttest-rmse:12.60494\n",
            "[50]\ttest-rmse:12.57302\n",
            "[51]\ttest-rmse:12.53942\n",
            "[52]\ttest-rmse:12.50592\n",
            "[53]\ttest-rmse:12.47253\n",
            "[54]\ttest-rmse:12.44107\n",
            "[55]\ttest-rmse:12.40969\n",
            "[56]\ttest-rmse:12.37664\n",
            "[57]\ttest-rmse:12.34365\n",
            "[58]\ttest-rmse:12.31080\n",
            "[59]\ttest-rmse:12.27803\n",
            "[60]\ttest-rmse:12.24541\n",
            "[61]\ttest-rmse:12.21465\n",
            "[62]\ttest-rmse:12.18221\n",
            "[63]\ttest-rmse:12.14989\n",
            "[64]\ttest-rmse:12.11945\n",
            "[65]\ttest-rmse:12.08757\n",
            "[66]\ttest-rmse:12.05557\n",
            "[67]\ttest-rmse:12.02368\n",
            "[68]\ttest-rmse:11.99188\n",
            "[69]\ttest-rmse:11.96021\n",
            "[70]\ttest-rmse:11.92863\n",
            "[71]\ttest-rmse:11.89716\n",
            "[72]\ttest-rmse:11.86762\n",
            "[73]\ttest-rmse:11.83635\n",
            "[74]\ttest-rmse:11.80518\n",
            "[75]\ttest-rmse:11.77412\n",
            "[76]\ttest-rmse:11.74316\n",
            "[77]\ttest-rmse:11.71251\n",
            "[78]\ttest-rmse:11.68175\n",
            "[79]\ttest-rmse:11.65108\n",
            "[80]\ttest-rmse:11.62050\n",
            "[81]\ttest-rmse:11.59173\n",
            "[82]\ttest-rmse:11.56306\n",
            "[83]\ttest-rmse:11.53281\n",
            "[84]\ttest-rmse:11.50267\n",
            "[85]\ttest-rmse:11.47263\n",
            "[86]\ttest-rmse:11.44268\n",
            "[87]\ttest-rmse:11.41284\n",
            "[88]\ttest-rmse:11.38311\n",
            "[89]\ttest-rmse:11.35510\n",
            "[90]\ttest-rmse:11.32556\n",
            "[91]\ttest-rmse:11.29786\n",
            "[92]\ttest-rmse:11.26871\n",
            "[93]\ttest-rmse:11.23946\n",
            "[94]\ttest-rmse:11.21051\n",
            "[95]\ttest-rmse:11.18144\n",
            "[96]\ttest-rmse:11.15266\n",
            "[97]\ttest-rmse:11.12380\n",
            "[98]\ttest-rmse:11.09504\n",
            "[99]\ttest-rmse:11.06636\n",
            "[100]\ttest-rmse:11.03779\n",
            "[101]\ttest-rmse:11.00952\n",
            "[102]\ttest-rmse:10.98113\n",
            "[103]\ttest-rmse:10.95443\n",
            "[104]\ttest-rmse:10.92625\n",
            "[105]\ttest-rmse:10.89836\n",
            "[106]\ttest-rmse:10.87035\n",
            "[107]\ttest-rmse:10.84262\n",
            "[108]\ttest-rmse:10.81481\n",
            "[109]\ttest-rmse:10.78709\n",
            "[110]\ttest-rmse:10.75947\n",
            "[111]\ttest-rmse:10.73214\n",
            "[112]\ttest-rmse:10.70490\n",
            "[113]\ttest-rmse:10.67906\n",
            "[114]\ttest-rmse:10.65181\n",
            "[115]\ttest-rmse:10.62617\n",
            "[116]\ttest-rmse:10.59910\n",
            "[117]\ttest-rmse:10.57211\n",
            "[118]\ttest-rmse:10.54520\n",
            "[119]\ttest-rmse:10.51841\n",
            "[120]\ttest-rmse:10.49170\n",
            "[121]\ttest-rmse:10.46527\n",
            "[122]\ttest-rmse:10.43875\n",
            "[123]\ttest-rmse:10.41230\n",
            "[124]\ttest-rmse:10.38593\n",
            "[125]\ttest-rmse:10.35965\n",
            "[126]\ttest-rmse:10.33349\n",
            "[127]\ttest-rmse:10.30886\n",
            "[128]\ttest-rmse:10.28287\n",
            "[129]\ttest-rmse:10.25715\n",
            "[130]\ttest-rmse:10.23132\n",
            "[131]\ttest-rmse:10.20561\n",
            "[132]\ttest-rmse:10.18143\n",
            "[133]\ttest-rmse:10.15588\n",
            "[134]\ttest-rmse:10.13182\n",
            "[135]\ttest-rmse:10.10662\n",
            "[136]\ttest-rmse:10.08133\n",
            "[137]\ttest-rmse:10.05755\n",
            "[138]\ttest-rmse:10.03244\n",
            "[139]\ttest-rmse:10.00758\n",
            "[140]\ttest-rmse:9.98263\n",
            "[141]\ttest-rmse:9.95778\n",
            "[142]\ttest-rmse:9.93439\n",
            "[143]\ttest-rmse:9.90970\n",
            "[144]\ttest-rmse:9.88508\n",
            "[145]\ttest-rmse:9.86054\n",
            "[146]\ttest-rmse:9.83609\n",
            "[147]\ttest-rmse:9.81174\n",
            "[148]\ttest-rmse:9.78748\n",
            "[149]\ttest-rmse:9.76329\n",
            "[150]\ttest-rmse:9.73920\n",
            "[151]\ttest-rmse:9.71653\n",
            "[152]\ttest-rmse:9.69260\n",
            "[153]\ttest-rmse:9.66874\n",
            "[154]\ttest-rmse:9.64494\n",
            "[155]\ttest-rmse:9.62125\n",
            "[156]\ttest-rmse:9.59764\n",
            "[157]\ttest-rmse:9.57545\n",
            "[158]\ttest-rmse:9.55199\n",
            "[159]\ttest-rmse:9.52996\n",
            "[160]\ttest-rmse:9.50667\n",
            "[161]\ttest-rmse:9.48345\n",
            "[162]\ttest-rmse:9.46033\n",
            "[163]\ttest-rmse:9.43730\n",
            "[164]\ttest-rmse:9.41434\n",
            "[165]\ttest-rmse:9.39147\n",
            "[166]\ttest-rmse:9.36866\n",
            "[167]\ttest-rmse:9.34728\n",
            "[168]\ttest-rmse:9.32465\n",
            "[169]\ttest-rmse:9.30208\n",
            "[170]\ttest-rmse:9.27959\n",
            "[171]\ttest-rmse:9.25717\n",
            "[172]\ttest-rmse:9.23484\n",
            "[173]\ttest-rmse:9.21258\n",
            "[174]\ttest-rmse:9.19040\n",
            "[175]\ttest-rmse:9.16832\n",
            "[176]\ttest-rmse:9.14633\n",
            "[177]\ttest-rmse:9.12454\n",
            "[178]\ttest-rmse:9.10284\n",
            "[179]\ttest-rmse:9.08106\n",
            "[180]\ttest-rmse:9.05937\n",
            "[181]\ttest-rmse:9.03776\n",
            "[182]\ttest-rmse:9.01636\n",
            "[183]\ttest-rmse:8.99488\n",
            "[184]\ttest-rmse:8.97363\n",
            "[185]\ttest-rmse:8.95234\n",
            "[186]\ttest-rmse:8.93111\n",
            "[187]\ttest-rmse:8.90995\n",
            "[188]\ttest-rmse:8.88885\n",
            "[189]\ttest-rmse:8.86783\n",
            "[190]\ttest-rmse:8.84702\n",
            "[191]\ttest-rmse:8.82734\n",
            "[192]\ttest-rmse:8.80653\n",
            "[193]\ttest-rmse:8.78582\n",
            "[194]\ttest-rmse:8.76534\n",
            "[195]\ttest-rmse:8.74594\n",
            "[196]\ttest-rmse:8.72543\n",
            "[197]\ttest-rmse:8.70501\n",
            "[198]\ttest-rmse:8.68465\n",
            "[199]\ttest-rmse:8.66437\n",
            "[200]\ttest-rmse:8.64430\n",
            "[201]\ttest-rmse:8.62534\n",
            "[202]\ttest-rmse:8.60541\n",
            "[203]\ttest-rmse:8.58660\n",
            "[204]\ttest-rmse:8.56666\n",
            "[205]\ttest-rmse:8.54680\n",
            "[206]\ttest-rmse:8.52717\n",
            "[207]\ttest-rmse:8.50746\n",
            "[208]\ttest-rmse:8.48781\n",
            "[209]\ttest-rmse:8.46825\n",
            "[210]\ttest-rmse:8.44875\n",
            "[211]\ttest-rmse:8.42932\n",
            "[212]\ttest-rmse:8.40996\n",
            "[213]\ttest-rmse:8.39067\n",
            "[214]\ttest-rmse:8.37147\n",
            "[215]\ttest-rmse:8.35233\n",
            "[216]\ttest-rmse:8.33326\n",
            "[217]\ttest-rmse:8.31538\n",
            "[218]\ttest-rmse:8.29643\n",
            "[219]\ttest-rmse:8.27757\n",
            "[220]\ttest-rmse:8.25990\n",
            "[221]\ttest-rmse:8.24117\n",
            "[222]\ttest-rmse:8.22252\n",
            "[223]\ttest-rmse:8.20509\n",
            "[224]\ttest-rmse:8.18778\n",
            "[225]\ttest-rmse:8.16932\n",
            "[226]\ttest-rmse:8.15203\n",
            "[227]\ttest-rmse:8.13368\n",
            "[228]\ttest-rmse:8.11649\n",
            "[229]\ttest-rmse:8.09828\n",
            "[230]\ttest-rmse:8.08025\n",
            "[231]\ttest-rmse:8.06330\n",
            "[232]\ttest-rmse:8.04529\n",
            "[233]\ttest-rmse:8.02747\n",
            "[234]\ttest-rmse:8.00960\n",
            "[235]\ttest-rmse:7.99178\n",
            "[236]\ttest-rmse:7.97402\n",
            "[237]\ttest-rmse:7.95645\n",
            "[238]\ttest-rmse:7.93897\n",
            "[239]\ttest-rmse:7.92142\n",
            "[240]\ttest-rmse:7.90396\n",
            "[241]\ttest-rmse:7.88656\n",
            "[242]\ttest-rmse:7.86922\n",
            "[243]\ttest-rmse:7.85194\n",
            "[244]\ttest-rmse:7.83472\n",
            "[245]\ttest-rmse:7.81757\n",
            "[246]\ttest-rmse:7.80046\n",
            "[247]\ttest-rmse:7.78451\n",
            "[248]\ttest-rmse:7.76757\n",
            "[249]\ttest-rmse:7.75067\n",
            "[250]\ttest-rmse:7.73384\n",
            "[251]\ttest-rmse:7.71708\n",
            "[252]\ttest-rmse:7.70036\n",
            "[253]\ttest-rmse:7.68369\n",
            "[254]\ttest-rmse:7.66711\n",
            "[255]\ttest-rmse:7.65058\n",
            "[256]\ttest-rmse:7.63412\n",
            "[257]\ttest-rmse:7.61784\n",
            "[258]\ttest-rmse:7.60262\n",
            "[259]\ttest-rmse:7.58635\n",
            "[260]\ttest-rmse:7.57014\n",
            "[261]\ttest-rmse:7.55508\n",
            "[262]\ttest-rmse:7.54000\n",
            "[263]\ttest-rmse:7.52396\n",
            "[264]\ttest-rmse:7.50796\n",
            "[265]\ttest-rmse:7.49204\n",
            "[266]\ttest-rmse:7.47619\n",
            "[267]\ttest-rmse:7.46038\n",
            "[268]\ttest-rmse:7.44465\n",
            "[269]\ttest-rmse:7.43007\n",
            "[270]\ttest-rmse:7.41444\n",
            "[271]\ttest-rmse:7.39899\n",
            "[272]\ttest-rmse:7.38348\n",
            "[273]\ttest-rmse:7.36891\n",
            "[274]\ttest-rmse:7.35364\n",
            "[275]\ttest-rmse:7.33831\n",
            "[276]\ttest-rmse:7.32300\n",
            "[277]\ttest-rmse:7.30780\n",
            "[278]\ttest-rmse:7.29357\n",
            "[279]\ttest-rmse:7.27846\n",
            "[280]\ttest-rmse:7.26341\n",
            "[281]\ttest-rmse:7.24843\n",
            "[282]\ttest-rmse:7.23350\n",
            "[283]\ttest-rmse:7.21863\n",
            "[284]\ttest-rmse:7.20382\n",
            "[285]\ttest-rmse:7.18907\n",
            "[286]\ttest-rmse:7.17436\n",
            "[287]\ttest-rmse:7.15971\n",
            "[288]\ttest-rmse:7.14524\n",
            "[289]\ttest-rmse:7.13073\n",
            "[290]\ttest-rmse:7.11626\n",
            "[291]\ttest-rmse:7.10184\n",
            "[292]\ttest-rmse:7.08758\n",
            "[293]\ttest-rmse:7.07339\n",
            "[294]\ttest-rmse:7.05914\n",
            "[295]\ttest-rmse:7.04491\n",
            "[296]\ttest-rmse:7.03079\n",
            "[297]\ttest-rmse:7.01752\n",
            "[298]\ttest-rmse:7.00347\n",
            "[299]\ttest-rmse:6.98949\n",
            "[300]\ttest-rmse:6.97637\n",
            "[301]\ttest-rmse:6.96250\n",
            "[302]\ttest-rmse:6.94871\n",
            "[303]\ttest-rmse:6.93495\n",
            "[304]\ttest-rmse:6.92205\n",
            "[305]\ttest-rmse:6.90848\n",
            "[306]\ttest-rmse:6.89489\n",
            "[307]\ttest-rmse:6.88212\n",
            "[308]\ttest-rmse:6.86864\n",
            "[309]\ttest-rmse:6.85520\n",
            "[310]\ttest-rmse:6.84181\n",
            "[311]\ttest-rmse:6.82847\n",
            "[312]\ttest-rmse:6.81521\n",
            "[313]\ttest-rmse:6.80198\n",
            "[314]\ttest-rmse:6.78880\n",
            "[315]\ttest-rmse:6.77568\n"
          ],
          "name": "stdout"
        },
        {
          "output_type": "stream",
          "text": [
            "[316]\ttest-rmse:6.76262\n",
            "[317]\ttest-rmse:6.74957\n",
            "[318]\ttest-rmse:6.73663\n",
            "[319]\ttest-rmse:6.72371\n",
            "[320]\ttest-rmse:6.71169\n",
            "[321]\ttest-rmse:6.69961\n",
            "[322]\ttest-rmse:6.68683\n",
            "[323]\ttest-rmse:6.67410\n",
            "[324]\ttest-rmse:6.66143\n",
            "[325]\ttest-rmse:6.64882\n",
            "[326]\ttest-rmse:6.63625\n",
            "[327]\ttest-rmse:6.62373\n",
            "[328]\ttest-rmse:6.61124\n",
            "[329]\ttest-rmse:6.59965\n",
            "[330]\ttest-rmse:6.58727\n",
            "[331]\ttest-rmse:6.57492\n",
            "[332]\ttest-rmse:6.56264\n",
            "[333]\ttest-rmse:6.55043\n",
            "[334]\ttest-rmse:6.53825\n",
            "[335]\ttest-rmse:6.52612\n",
            "[336]\ttest-rmse:6.51405\n",
            "[337]\ttest-rmse:6.50211\n",
            "[338]\ttest-rmse:6.49012\n",
            "[339]\ttest-rmse:6.47888\n",
            "[340]\ttest-rmse:6.46700\n",
            "[341]\ttest-rmse:6.45586\n",
            "[342]\ttest-rmse:6.44412\n",
            "[343]\ttest-rmse:6.43239\n",
            "[344]\ttest-rmse:6.42070\n",
            "[345]\ttest-rmse:6.40904\n",
            "[346]\ttest-rmse:6.39744\n",
            "[347]\ttest-rmse:6.38591\n",
            "[348]\ttest-rmse:6.37443\n",
            "[349]\ttest-rmse:6.36306\n",
            "[350]\ttest-rmse:6.35162\n",
            "[351]\ttest-rmse:6.34025\n",
            "[352]\ttest-rmse:6.32957\n",
            "[353]\ttest-rmse:6.31829\n",
            "[354]\ttest-rmse:6.30706\n",
            "[355]\ttest-rmse:6.29588\n",
            "[356]\ttest-rmse:6.28475\n",
            "[357]\ttest-rmse:6.27366\n",
            "[358]\ttest-rmse:6.26262\n",
            "[359]\ttest-rmse:6.25171\n",
            "[360]\ttest-rmse:6.24078\n",
            "[361]\ttest-rmse:6.23052\n",
            "[362]\ttest-rmse:6.22027\n",
            "[363]\ttest-rmse:6.20945\n",
            "[364]\ttest-rmse:6.19869\n",
            "[365]\ttest-rmse:6.18796\n",
            "[366]\ttest-rmse:6.17728\n",
            "[367]\ttest-rmse:6.16666\n",
            "[368]\ttest-rmse:6.15606\n",
            "[369]\ttest-rmse:6.14552\n",
            "[370]\ttest-rmse:6.13500\n",
            "[371]\ttest-rmse:6.12462\n",
            "[372]\ttest-rmse:6.11418\n",
            "[373]\ttest-rmse:6.10383\n",
            "[374]\ttest-rmse:6.09351\n",
            "[375]\ttest-rmse:6.08383\n",
            "[376]\ttest-rmse:6.07360\n",
            "[377]\ttest-rmse:6.06339\n",
            "[378]\ttest-rmse:6.05321\n",
            "[379]\ttest-rmse:6.04315\n",
            "[380]\ttest-rmse:6.03307\n",
            "[381]\ttest-rmse:6.02357\n",
            "[382]\ttest-rmse:6.01416\n",
            "[383]\ttest-rmse:6.00474\n",
            "[384]\ttest-rmse:5.99489\n",
            "[385]\ttest-rmse:5.98559\n",
            "[386]\ttest-rmse:5.97573\n",
            "[387]\ttest-rmse:5.96648\n",
            "[388]\ttest-rmse:5.95670\n",
            "[389]\ttest-rmse:5.94698\n",
            "[390]\ttest-rmse:5.93737\n",
            "[391]\ttest-rmse:5.92775\n",
            "[392]\ttest-rmse:5.91812\n",
            "[393]\ttest-rmse:5.90855\n",
            "[394]\ttest-rmse:5.89903\n",
            "[395]\ttest-rmse:5.89005\n",
            "[396]\ttest-rmse:5.88061\n",
            "[397]\ttest-rmse:5.87122\n",
            "[398]\ttest-rmse:5.86186\n",
            "[399]\ttest-rmse:5.85312\n",
            "[400]\ttest-rmse:5.84384\n",
            "[401]\ttest-rmse:5.83512\n",
            "[402]\ttest-rmse:5.82594\n",
            "[403]\ttest-rmse:5.81675\n",
            "[404]\ttest-rmse:5.80769\n",
            "[405]\ttest-rmse:5.79864\n",
            "[406]\ttest-rmse:5.78965\n",
            "[407]\ttest-rmse:5.78071\n",
            "[408]\ttest-rmse:5.77182\n",
            "[409]\ttest-rmse:5.76289\n",
            "[410]\ttest-rmse:5.75399\n",
            "[411]\ttest-rmse:5.74513\n",
            "[412]\ttest-rmse:5.73681\n",
            "[413]\ttest-rmse:5.72851\n",
            "[414]\ttest-rmse:5.71977\n",
            "[415]\ttest-rmse:5.71107\n",
            "[416]\ttest-rmse:5.70240\n",
            "[417]\ttest-rmse:5.69424\n",
            "[418]\ttest-rmse:5.68564\n",
            "[419]\ttest-rmse:5.67711\n",
            "[420]\ttest-rmse:5.66868\n",
            "[421]\ttest-rmse:5.66019\n",
            "[422]\ttest-rmse:5.65176\n",
            "[423]\ttest-rmse:5.64336\n",
            "[424]\ttest-rmse:5.63498\n",
            "[425]\ttest-rmse:5.62665\n",
            "[426]\ttest-rmse:5.61836\n",
            "[427]\ttest-rmse:5.61008\n",
            "[428]\ttest-rmse:5.60187\n",
            "[429]\ttest-rmse:5.59369\n",
            "[430]\ttest-rmse:5.58559\n",
            "[431]\ttest-rmse:5.57745\n",
            "[432]\ttest-rmse:5.56937\n",
            "[433]\ttest-rmse:5.56129\n",
            "[434]\ttest-rmse:5.55328\n",
            "[435]\ttest-rmse:5.54572\n",
            "[436]\ttest-rmse:5.53778\n",
            "[437]\ttest-rmse:5.52986\n",
            "[438]\ttest-rmse:5.52240\n",
            "[439]\ttest-rmse:5.51460\n",
            "[440]\ttest-rmse:5.50680\n",
            "[441]\ttest-rmse:5.49908\n",
            "[442]\ttest-rmse:5.49136\n",
            "[443]\ttest-rmse:5.48364\n",
            "[444]\ttest-rmse:5.47598\n",
            "[445]\ttest-rmse:5.46837\n",
            "[446]\ttest-rmse:5.46074\n",
            "[447]\ttest-rmse:5.45358\n",
            "[448]\ttest-rmse:5.44602\n",
            "[449]\ttest-rmse:5.43851\n",
            "[450]\ttest-rmse:5.43103\n",
            "[451]\ttest-rmse:5.42399\n",
            "[452]\ttest-rmse:5.41660\n",
            "[453]\ttest-rmse:5.40925\n",
            "[454]\ttest-rmse:5.40229\n",
            "[455]\ttest-rmse:5.39497\n",
            "[456]\ttest-rmse:5.38771\n",
            "[457]\ttest-rmse:5.38047\n",
            "[458]\ttest-rmse:5.37325\n",
            "[459]\ttest-rmse:5.36611\n",
            "[460]\ttest-rmse:5.35897\n",
            "[461]\ttest-rmse:5.35224\n",
            "[462]\ttest-rmse:5.34514\n",
            "[463]\ttest-rmse:5.33849\n",
            "[464]\ttest-rmse:5.33149\n",
            "[465]\ttest-rmse:5.32450\n",
            "[466]\ttest-rmse:5.31751\n",
            "[467]\ttest-rmse:5.31059\n",
            "[468]\ttest-rmse:5.30369\n",
            "[469]\ttest-rmse:5.29684\n",
            "[470]\ttest-rmse:5.29001\n",
            "[471]\ttest-rmse:5.28368\n",
            "[472]\ttest-rmse:5.27692\n",
            "[473]\ttest-rmse:5.27015\n",
            "[474]\ttest-rmse:5.26344\n",
            "[475]\ttest-rmse:5.25676\n",
            "[476]\ttest-rmse:5.25009\n",
            "[477]\ttest-rmse:5.24352\n",
            "[478]\ttest-rmse:5.23691\n",
            "[479]\ttest-rmse:5.23033\n",
            "[480]\ttest-rmse:5.22378\n",
            "[481]\ttest-rmse:5.21728\n",
            "[482]\ttest-rmse:5.21083\n",
            "[483]\ttest-rmse:5.20474\n",
            "[484]\ttest-rmse:5.19831\n",
            "[485]\ttest-rmse:5.19193\n",
            "[486]\ttest-rmse:5.18590\n",
            "[487]\ttest-rmse:5.17956\n",
            "[488]\ttest-rmse:5.17329\n",
            "[489]\ttest-rmse:5.16735\n",
            "[490]\ttest-rmse:5.16114\n",
            "[491]\ttest-rmse:5.15493\n",
            "[492]\ttest-rmse:5.14874\n",
            "[493]\ttest-rmse:5.14256\n",
            "[494]\ttest-rmse:5.13639\n",
            "[495]\ttest-rmse:5.13027\n",
            "[496]\ttest-rmse:5.12423\n",
            "[497]\ttest-rmse:5.11822\n",
            "[498]\ttest-rmse:5.11219\n",
            "[499]\ttest-rmse:5.10622\n",
            "[500]\ttest-rmse:5.10027\n",
            "[501]\ttest-rmse:5.09463\n",
            "[502]\ttest-rmse:5.08875\n",
            "[503]\ttest-rmse:5.08289\n",
            "[504]\ttest-rmse:5.07700\n",
            "[505]\ttest-rmse:5.07148\n",
            "[506]\ttest-rmse:5.06566\n",
            "[507]\ttest-rmse:5.05985\n",
            "[508]\ttest-rmse:5.05408\n",
            "[509]\ttest-rmse:5.04837\n",
            "[510]\ttest-rmse:5.04270\n",
            "[511]\ttest-rmse:5.03701\n",
            "[512]\ttest-rmse:5.03165\n",
            "[513]\ttest-rmse:5.02631\n",
            "[514]\ttest-rmse:5.02102\n",
            "[515]\ttest-rmse:5.01544\n",
            "[516]\ttest-rmse:5.00985\n",
            "[517]\ttest-rmse:5.00432\n",
            "[518]\ttest-rmse:4.99887\n",
            "[519]\ttest-rmse:4.99368\n",
            "[520]\ttest-rmse:4.98828\n",
            "[521]\ttest-rmse:4.98317\n",
            "[522]\ttest-rmse:4.97806\n",
            "[523]\ttest-rmse:4.97298\n",
            "[524]\ttest-rmse:4.96761\n",
            "[525]\ttest-rmse:4.96225\n",
            "[526]\ttest-rmse:4.95693\n",
            "[527]\ttest-rmse:4.95169\n",
            "[528]\ttest-rmse:4.94642\n",
            "[529]\ttest-rmse:4.94118\n",
            "[530]\ttest-rmse:4.93602\n",
            "[531]\ttest-rmse:4.93087\n",
            "[532]\ttest-rmse:4.92570\n",
            "[533]\ttest-rmse:4.92062\n",
            "[534]\ttest-rmse:4.91549\n",
            "[535]\ttest-rmse:4.91042\n",
            "[536]\ttest-rmse:4.90563\n",
            "[537]\ttest-rmse:4.90059\n",
            "[538]\ttest-rmse:4.89556\n",
            "[539]\ttest-rmse:4.89055\n",
            "[540]\ttest-rmse:4.88560\n",
            "[541]\ttest-rmse:4.88067\n",
            "[542]\ttest-rmse:4.87574\n",
            "[543]\ttest-rmse:4.87083\n",
            "[544]\ttest-rmse:4.86599\n",
            "[545]\ttest-rmse:4.86115\n",
            "[546]\ttest-rmse:4.85632\n",
            "[547]\ttest-rmse:4.85150\n",
            "[548]\ttest-rmse:4.84672\n",
            "[549]\ttest-rmse:4.84198\n",
            "[550]\ttest-rmse:4.83723\n",
            "[551]\ttest-rmse:4.83253\n",
            "[552]\ttest-rmse:4.82809\n",
            "[553]\ttest-rmse:4.82343\n",
            "[554]\ttest-rmse:4.81878\n",
            "[555]\ttest-rmse:4.81417\n",
            "[556]\ttest-rmse:4.80959\n",
            "[557]\ttest-rmse:4.80501\n",
            "[558]\ttest-rmse:4.80048\n",
            "[559]\ttest-rmse:4.79594\n",
            "[560]\ttest-rmse:4.79140\n",
            "[561]\ttest-rmse:4.78692\n",
            "[562]\ttest-rmse:4.78245\n",
            "[563]\ttest-rmse:4.77805\n",
            "[564]\ttest-rmse:4.77365\n",
            "[565]\ttest-rmse:4.76924\n",
            "[566]\ttest-rmse:4.76487\n",
            "[567]\ttest-rmse:4.76049\n",
            "[568]\ttest-rmse:4.75635\n",
            "[569]\ttest-rmse:4.75206\n",
            "[570]\ttest-rmse:4.74775\n",
            "[571]\ttest-rmse:4.74344\n",
            "[572]\ttest-rmse:4.73939\n",
            "[573]\ttest-rmse:4.73515\n",
            "[574]\ttest-rmse:4.73113\n",
            "[575]\ttest-rmse:4.72693\n",
            "[576]\ttest-rmse:4.72275\n",
            "[577]\ttest-rmse:4.71862\n",
            "[578]\ttest-rmse:4.71447\n",
            "[579]\ttest-rmse:4.71036\n",
            "[580]\ttest-rmse:4.70627\n",
            "[581]\ttest-rmse:4.70217\n",
            "[582]\ttest-rmse:4.69809\n",
            "[583]\ttest-rmse:4.69402\n",
            "[584]\ttest-rmse:4.68998\n",
            "[585]\ttest-rmse:4.68597\n",
            "[586]\ttest-rmse:4.68198\n",
            "[587]\ttest-rmse:4.67803\n",
            "[588]\ttest-rmse:4.67409\n",
            "[589]\ttest-rmse:4.67016\n",
            "[590]\ttest-rmse:4.66626\n",
            "[591]\ttest-rmse:4.66237\n",
            "[592]\ttest-rmse:4.65848\n",
            "[593]\ttest-rmse:4.65464\n",
            "[594]\ttest-rmse:4.65099\n",
            "[595]\ttest-rmse:4.64720\n",
            "[596]\ttest-rmse:4.64341\n",
            "[597]\ttest-rmse:4.63963\n",
            "[598]\ttest-rmse:4.63585\n",
            "[599]\ttest-rmse:4.63211\n",
            "[600]\ttest-rmse:4.62840\n",
            "[601]\ttest-rmse:4.62488\n",
            "[602]\ttest-rmse:4.62120\n",
            "[603]\ttest-rmse:4.61753\n",
            "[604]\ttest-rmse:4.61389\n",
            "[605]\ttest-rmse:4.61026\n",
            "[606]\ttest-rmse:4.60666\n",
            "[607]\ttest-rmse:4.60307\n",
            "[608]\ttest-rmse:4.59949\n",
            "[609]\ttest-rmse:4.59592\n",
            "[610]\ttest-rmse:4.59234\n",
            "[611]\ttest-rmse:4.58881\n",
            "[612]\ttest-rmse:4.58530\n",
            "[613]\ttest-rmse:4.58182\n",
            "[614]\ttest-rmse:4.57838\n",
            "[615]\ttest-rmse:4.57491\n",
            "[616]\ttest-rmse:4.57145\n",
            "[617]\ttest-rmse:4.56802\n",
            "[618]\ttest-rmse:4.56463\n",
            "[619]\ttest-rmse:4.56125\n",
            "[620]\ttest-rmse:4.55800\n",
            "[621]\ttest-rmse:4.55463\n",
            "[622]\ttest-rmse:4.55130\n",
            "[623]\ttest-rmse:4.54796\n",
            "[624]\ttest-rmse:4.54465\n",
            "[625]\ttest-rmse:4.54136\n",
            "[626]\ttest-rmse:4.53807\n",
            "[627]\ttest-rmse:4.53495\n",
            "[628]\ttest-rmse:4.53168\n",
            "[629]\ttest-rmse:4.52845\n",
            "[630]\ttest-rmse:4.52524\n",
            "[631]\ttest-rmse:4.52204\n",
            "[632]\ttest-rmse:4.51884\n",
            "[633]\ttest-rmse:4.51577\n",
            "[634]\ttest-rmse:4.51262\n",
            "[635]\ttest-rmse:4.50950\n",
            "[636]\ttest-rmse:4.50640\n",
            "[637]\ttest-rmse:4.50329\n",
            "[638]\ttest-rmse:4.50020\n",
            "[639]\ttest-rmse:4.49710\n",
            "[640]\ttest-rmse:4.49406\n",
            "[641]\ttest-rmse:4.49113\n",
            "[642]\ttest-rmse:4.48811\n",
            "[643]\ttest-rmse:4.48505\n",
            "[644]\ttest-rmse:4.48207\n",
            "[645]\ttest-rmse:4.47905\n",
            "[646]\ttest-rmse:4.47608\n",
            "[647]\ttest-rmse:4.47310\n",
            "[648]\ttest-rmse:4.47012\n",
            "[649]\ttest-rmse:4.46717\n",
            "[650]\ttest-rmse:4.46428\n",
            "[651]\ttest-rmse:4.46137\n",
            "[652]\ttest-rmse:4.45842\n",
            "[653]\ttest-rmse:4.45553\n",
            "[654]\ttest-rmse:4.45267\n",
            "[655]\ttest-rmse:4.44981\n",
            "[656]\ttest-rmse:4.44697\n",
            "[657]\ttest-rmse:4.44419\n"
          ],
          "name": "stdout"
        },
        {
          "output_type": "stream",
          "text": [
            "[658]\ttest-rmse:4.44140\n",
            "[659]\ttest-rmse:4.43856\n",
            "[660]\ttest-rmse:4.43579\n",
            "[661]\ttest-rmse:4.43301\n",
            "[662]\ttest-rmse:4.43029\n",
            "[663]\ttest-rmse:4.42751\n",
            "[664]\ttest-rmse:4.42475\n",
            "[665]\ttest-rmse:4.42204\n",
            "[666]\ttest-rmse:4.41932\n",
            "[667]\ttest-rmse:4.41673\n",
            "[668]\ttest-rmse:4.41405\n",
            "[669]\ttest-rmse:4.41134\n",
            "[670]\ttest-rmse:4.40870\n",
            "[671]\ttest-rmse:4.40604\n",
            "[672]\ttest-rmse:4.40340\n",
            "[673]\ttest-rmse:4.40078\n",
            "[674]\ttest-rmse:4.39817\n",
            "[675]\ttest-rmse:4.39560\n",
            "[676]\ttest-rmse:4.39304\n",
            "[677]\ttest-rmse:4.39051\n",
            "[678]\ttest-rmse:4.38797\n",
            "[679]\ttest-rmse:4.38540\n",
            "[680]\ttest-rmse:4.38286\n",
            "[681]\ttest-rmse:4.38036\n",
            "[682]\ttest-rmse:4.37788\n",
            "[683]\ttest-rmse:4.37537\n",
            "[684]\ttest-rmse:4.37288\n",
            "[685]\ttest-rmse:4.37039\n",
            "[686]\ttest-rmse:4.36796\n",
            "[687]\ttest-rmse:4.36547\n",
            "[688]\ttest-rmse:4.36306\n",
            "[689]\ttest-rmse:4.36066\n",
            "[690]\ttest-rmse:4.35827\n",
            "[691]\ttest-rmse:4.35591\n",
            "[692]\ttest-rmse:4.35358\n",
            "[693]\ttest-rmse:4.35124\n",
            "[694]\ttest-rmse:4.34886\n",
            "[695]\ttest-rmse:4.34654\n",
            "[696]\ttest-rmse:4.34423\n",
            "[697]\ttest-rmse:4.34189\n",
            "[698]\ttest-rmse:4.33961\n",
            "[699]\ttest-rmse:4.33732\n",
            "[700]\ttest-rmse:4.33502\n",
            "[701]\ttest-rmse:4.33278\n",
            "[702]\ttest-rmse:4.33053\n",
            "[703]\ttest-rmse:4.32825\n",
            "[704]\ttest-rmse:4.32605\n",
            "[705]\ttest-rmse:4.32388\n",
            "[706]\ttest-rmse:4.32168\n",
            "[707]\ttest-rmse:4.31947\n",
            "[708]\ttest-rmse:4.31730\n",
            "[709]\ttest-rmse:4.31509\n",
            "[710]\ttest-rmse:4.31293\n",
            "[711]\ttest-rmse:4.31074\n",
            "[712]\ttest-rmse:4.30856\n",
            "[713]\ttest-rmse:4.30639\n",
            "[714]\ttest-rmse:4.30428\n",
            "[715]\ttest-rmse:4.30214\n",
            "[716]\ttest-rmse:4.30006\n",
            "[717]\ttest-rmse:4.29800\n",
            "[718]\ttest-rmse:4.29591\n",
            "[719]\ttest-rmse:4.29384\n",
            "[720]\ttest-rmse:4.29175\n",
            "[721]\ttest-rmse:4.28974\n",
            "[722]\ttest-rmse:4.28777\n",
            "[723]\ttest-rmse:4.28581\n",
            "[724]\ttest-rmse:4.28386\n",
            "[725]\ttest-rmse:4.28185\n",
            "[726]\ttest-rmse:4.27992\n",
            "[727]\ttest-rmse:4.27791\n",
            "[728]\ttest-rmse:4.27589\n",
            "[729]\ttest-rmse:4.27392\n",
            "[730]\ttest-rmse:4.27192\n",
            "[731]\ttest-rmse:4.26997\n",
            "[732]\ttest-rmse:4.26800\n",
            "[733]\ttest-rmse:4.26608\n",
            "[734]\ttest-rmse:4.26422\n",
            "[735]\ttest-rmse:4.26227\n",
            "[736]\ttest-rmse:4.26034\n",
            "[737]\ttest-rmse:4.25841\n",
            "[738]\ttest-rmse:4.25654\n",
            "[739]\ttest-rmse:4.25465\n",
            "[740]\ttest-rmse:4.25273\n",
            "[741]\ttest-rmse:4.25086\n",
            "[742]\ttest-rmse:4.24899\n",
            "[743]\ttest-rmse:4.24713\n",
            "[744]\ttest-rmse:4.24530\n",
            "[745]\ttest-rmse:4.24352\n",
            "[746]\ttest-rmse:4.24172\n",
            "[747]\ttest-rmse:4.23998\n",
            "[748]\ttest-rmse:4.23818\n",
            "[749]\ttest-rmse:4.23646\n",
            "[750]\ttest-rmse:4.23473\n",
            "[751]\ttest-rmse:4.23294\n",
            "[752]\ttest-rmse:4.23118\n",
            "[753]\ttest-rmse:4.22949\n",
            "[754]\ttest-rmse:4.22776\n",
            "[755]\ttest-rmse:4.22600\n",
            "[756]\ttest-rmse:4.22424\n",
            "[757]\ttest-rmse:4.22249\n",
            "[758]\ttest-rmse:4.22074\n",
            "[759]\ttest-rmse:4.21904\n",
            "[760]\ttest-rmse:4.21732\n",
            "[761]\ttest-rmse:4.21561\n",
            "[762]\ttest-rmse:4.21395\n",
            "[763]\ttest-rmse:4.21226\n",
            "[764]\ttest-rmse:4.21060\n",
            "[765]\ttest-rmse:4.20900\n",
            "[766]\ttest-rmse:4.20736\n",
            "[767]\ttest-rmse:4.20575\n",
            "[768]\ttest-rmse:4.20415\n",
            "[769]\ttest-rmse:4.20255\n",
            "[770]\ttest-rmse:4.20089\n",
            "[771]\ttest-rmse:4.19931\n",
            "[772]\ttest-rmse:4.19765\n",
            "[773]\ttest-rmse:4.19611\n",
            "[774]\ttest-rmse:4.19451\n",
            "[775]\ttest-rmse:4.19293\n",
            "[776]\ttest-rmse:4.19134\n",
            "[777]\ttest-rmse:4.18979\n",
            "[778]\ttest-rmse:4.18828\n",
            "[779]\ttest-rmse:4.18675\n",
            "[780]\ttest-rmse:4.18516\n",
            "[781]\ttest-rmse:4.18363\n",
            "[782]\ttest-rmse:4.18212\n",
            "[783]\ttest-rmse:4.18062\n",
            "[784]\ttest-rmse:4.17908\n",
            "[785]\ttest-rmse:4.17758\n",
            "[786]\ttest-rmse:4.17612\n",
            "[787]\ttest-rmse:4.17456\n",
            "[788]\ttest-rmse:4.17311\n",
            "[789]\ttest-rmse:4.17166\n",
            "[790]\ttest-rmse:4.17023\n",
            "[791]\ttest-rmse:4.16876\n",
            "[792]\ttest-rmse:4.16736\n",
            "[793]\ttest-rmse:4.16594\n",
            "[794]\ttest-rmse:4.16451\n",
            "[795]\ttest-rmse:4.16304\n",
            "[796]\ttest-rmse:4.16162\n",
            "[797]\ttest-rmse:4.16020\n",
            "[798]\ttest-rmse:4.15877\n",
            "[799]\ttest-rmse:4.15740\n",
            "[800]\ttest-rmse:4.15598\n",
            "[801]\ttest-rmse:4.15458\n",
            "[802]\ttest-rmse:4.15317\n",
            "[803]\ttest-rmse:4.15176\n",
            "[804]\ttest-rmse:4.15039\n",
            "[805]\ttest-rmse:4.14904\n",
            "[806]\ttest-rmse:4.14773\n",
            "[807]\ttest-rmse:4.14634\n",
            "[808]\ttest-rmse:4.14500\n",
            "[809]\ttest-rmse:4.14366\n",
            "[810]\ttest-rmse:4.14236\n",
            "[811]\ttest-rmse:4.14106\n",
            "[812]\ttest-rmse:4.13977\n",
            "[813]\ttest-rmse:4.13847\n",
            "[814]\ttest-rmse:4.13720\n",
            "[815]\ttest-rmse:4.13592\n",
            "[816]\ttest-rmse:4.13462\n",
            "[817]\ttest-rmse:4.13339\n",
            "[818]\ttest-rmse:4.13211\n",
            "[819]\ttest-rmse:4.13083\n",
            "[820]\ttest-rmse:4.12960\n",
            "[821]\ttest-rmse:4.12829\n",
            "[822]\ttest-rmse:4.12705\n",
            "[823]\ttest-rmse:4.12576\n",
            "[824]\ttest-rmse:4.12449\n",
            "[825]\ttest-rmse:4.12322\n",
            "[826]\ttest-rmse:4.12197\n",
            "[827]\ttest-rmse:4.12073\n",
            "[828]\ttest-rmse:4.11948\n",
            "[829]\ttest-rmse:4.11824\n",
            "[830]\ttest-rmse:4.11705\n",
            "[831]\ttest-rmse:4.11586\n",
            "[832]\ttest-rmse:4.11466\n",
            "[833]\ttest-rmse:4.11349\n",
            "[834]\ttest-rmse:4.11226\n",
            "[835]\ttest-rmse:4.11105\n",
            "[836]\ttest-rmse:4.10993\n",
            "[837]\ttest-rmse:4.10880\n",
            "[838]\ttest-rmse:4.10763\n",
            "[839]\ttest-rmse:4.10649\n",
            "[840]\ttest-rmse:4.10539\n",
            "[841]\ttest-rmse:4.10421\n",
            "[842]\ttest-rmse:4.10310\n",
            "[843]\ttest-rmse:4.10196\n",
            "[844]\ttest-rmse:4.10087\n",
            "[845]\ttest-rmse:4.09977\n",
            "[846]\ttest-rmse:4.09863\n",
            "[847]\ttest-rmse:4.09753\n",
            "[848]\ttest-rmse:4.09646\n",
            "[849]\ttest-rmse:4.09535\n",
            "[850]\ttest-rmse:4.09424\n",
            "[851]\ttest-rmse:4.09318\n",
            "[852]\ttest-rmse:4.09205\n",
            "[853]\ttest-rmse:4.09096\n",
            "[854]\ttest-rmse:4.08990\n",
            "[855]\ttest-rmse:4.08890\n",
            "[856]\ttest-rmse:4.08784\n",
            "[857]\ttest-rmse:4.08675\n",
            "[858]\ttest-rmse:4.08570\n",
            "[859]\ttest-rmse:4.08464\n",
            "[860]\ttest-rmse:4.08359\n",
            "[861]\ttest-rmse:4.08256\n",
            "[862]\ttest-rmse:4.08155\n",
            "[863]\ttest-rmse:4.08053\n",
            "[864]\ttest-rmse:4.07954\n",
            "[865]\ttest-rmse:4.07855\n",
            "[866]\ttest-rmse:4.07752\n",
            "[867]\ttest-rmse:4.07654\n",
            "[868]\ttest-rmse:4.07548\n",
            "[869]\ttest-rmse:4.07447\n",
            "[870]\ttest-rmse:4.07346\n",
            "[871]\ttest-rmse:4.07243\n",
            "[872]\ttest-rmse:4.07149\n",
            "[873]\ttest-rmse:4.07053\n",
            "[874]\ttest-rmse:4.06956\n",
            "[875]\ttest-rmse:4.06856\n",
            "[876]\ttest-rmse:4.06760\n",
            "[877]\ttest-rmse:4.06663\n",
            "[878]\ttest-rmse:4.06569\n",
            "[879]\ttest-rmse:4.06473\n",
            "[880]\ttest-rmse:4.06380\n",
            "[881]\ttest-rmse:4.06288\n",
            "[882]\ttest-rmse:4.06195\n",
            "[883]\ttest-rmse:4.06099\n",
            "[884]\ttest-rmse:4.06006\n",
            "[885]\ttest-rmse:4.05913\n",
            "[886]\ttest-rmse:4.05822\n",
            "[887]\ttest-rmse:4.05730\n",
            "[888]\ttest-rmse:4.05644\n",
            "[889]\ttest-rmse:4.05551\n",
            "[890]\ttest-rmse:4.05459\n",
            "[891]\ttest-rmse:4.05365\n",
            "[892]\ttest-rmse:4.05279\n",
            "[893]\ttest-rmse:4.05191\n",
            "[894]\ttest-rmse:4.05102\n",
            "[895]\ttest-rmse:4.05010\n",
            "[896]\ttest-rmse:4.04921\n",
            "[897]\ttest-rmse:4.04833\n",
            "[898]\ttest-rmse:4.04746\n",
            "[899]\ttest-rmse:4.04659\n",
            "[900]\ttest-rmse:4.04573\n",
            "[901]\ttest-rmse:4.04488\n",
            "[902]\ttest-rmse:4.04402\n",
            "[903]\ttest-rmse:4.04314\n",
            "[904]\ttest-rmse:4.04230\n",
            "[905]\ttest-rmse:4.04143\n",
            "[906]\ttest-rmse:4.04055\n",
            "[907]\ttest-rmse:4.03965\n",
            "[908]\ttest-rmse:4.03885\n",
            "[909]\ttest-rmse:4.03797\n",
            "[910]\ttest-rmse:4.03716\n",
            "[911]\ttest-rmse:4.03634\n",
            "[912]\ttest-rmse:4.03547\n",
            "[913]\ttest-rmse:4.03463\n",
            "[914]\ttest-rmse:4.03382\n",
            "[915]\ttest-rmse:4.03304\n",
            "[916]\ttest-rmse:4.03226\n",
            "[917]\ttest-rmse:4.03144\n",
            "[918]\ttest-rmse:4.03063\n",
            "[919]\ttest-rmse:4.02986\n",
            "[920]\ttest-rmse:4.02909\n",
            "[921]\ttest-rmse:4.02825\n",
            "[922]\ttest-rmse:4.02748\n",
            "[923]\ttest-rmse:4.02669\n",
            "[924]\ttest-rmse:4.02585\n",
            "[925]\ttest-rmse:4.02507\n",
            "[926]\ttest-rmse:4.02433\n",
            "[927]\ttest-rmse:4.02360\n",
            "[928]\ttest-rmse:4.02286\n",
            "[929]\ttest-rmse:4.02211\n",
            "[930]\ttest-rmse:4.02135\n",
            "[931]\ttest-rmse:4.02055\n",
            "[932]\ttest-rmse:4.01977\n",
            "[933]\ttest-rmse:4.01905\n",
            "[934]\ttest-rmse:4.01833\n",
            "[935]\ttest-rmse:4.01762\n",
            "[936]\ttest-rmse:4.01678\n",
            "[937]\ttest-rmse:4.01603\n",
            "[938]\ttest-rmse:4.01532\n",
            "[939]\ttest-rmse:4.01455\n",
            "[940]\ttest-rmse:4.01384\n",
            "[941]\ttest-rmse:4.01312\n",
            "[942]\ttest-rmse:4.01239\n",
            "[943]\ttest-rmse:4.01169\n",
            "[944]\ttest-rmse:4.01104\n",
            "[945]\ttest-rmse:4.01034\n",
            "[946]\ttest-rmse:4.00957\n",
            "[947]\ttest-rmse:4.00883\n",
            "[948]\ttest-rmse:4.00814\n",
            "[949]\ttest-rmse:4.00742\n",
            "[950]\ttest-rmse:4.00675\n",
            "[951]\ttest-rmse:4.00604\n",
            "[952]\ttest-rmse:4.00534\n",
            "[953]\ttest-rmse:4.00466\n",
            "[954]\ttest-rmse:4.00397\n",
            "[955]\ttest-rmse:4.00334\n",
            "[956]\ttest-rmse:4.00266\n",
            "[957]\ttest-rmse:4.00197\n",
            "[958]\ttest-rmse:4.00125\n",
            "[959]\ttest-rmse:4.00056\n",
            "[960]\ttest-rmse:3.99990\n",
            "[961]\ttest-rmse:3.99922\n",
            "[962]\ttest-rmse:3.99852\n",
            "[963]\ttest-rmse:3.99789\n",
            "[964]\ttest-rmse:3.99720\n",
            "[965]\ttest-rmse:3.99654\n",
            "[966]\ttest-rmse:3.99585\n",
            "[967]\ttest-rmse:3.99518\n",
            "[968]\ttest-rmse:3.99451\n",
            "[969]\ttest-rmse:3.99386\n",
            "[970]\ttest-rmse:3.99315\n",
            "[971]\ttest-rmse:3.99251\n",
            "[972]\ttest-rmse:3.99181\n",
            "[973]\ttest-rmse:3.99114\n",
            "[974]\ttest-rmse:3.99048\n",
            "[975]\ttest-rmse:3.98984\n",
            "[976]\ttest-rmse:3.98922\n",
            "[977]\ttest-rmse:3.98861\n",
            "[978]\ttest-rmse:3.98799\n",
            "[979]\ttest-rmse:3.98729\n",
            "[980]\ttest-rmse:3.98665\n",
            "[981]\ttest-rmse:3.98597\n",
            "[982]\ttest-rmse:3.98535\n",
            "[983]\ttest-rmse:3.98477\n",
            "[984]\ttest-rmse:3.98414\n",
            "[985]\ttest-rmse:3.98353\n",
            "[986]\ttest-rmse:3.98290\n",
            "[987]\ttest-rmse:3.98225\n",
            "[988]\ttest-rmse:3.98165\n",
            "[989]\ttest-rmse:3.98107\n",
            "[990]\ttest-rmse:3.98053\n",
            "[991]\ttest-rmse:3.97991\n",
            "[992]\ttest-rmse:3.97931\n",
            "[993]\ttest-rmse:3.97876\n",
            "[994]\ttest-rmse:3.97822\n",
            "[995]\ttest-rmse:3.97768\n",
            "[996]\ttest-rmse:3.97709\n",
            "[997]\ttest-rmse:3.97656\n",
            "[998]\ttest-rmse:3.97604\n",
            "[999]\ttest-rmse:3.97547\n"
          ],
          "name": "stdout"
        },
        {
          "output_type": "stream",
          "text": [
            "[20:19:30] WARNING: /conda/conda-bld/xgboost_1591204502249/work/src/objective/regression_obj.cu:168: reg:linear is now deprecated in favor of reg:squarederror.\n",
            "CPU times: user 33.8 s, sys: 15.8 s, total: 49.6 s\n",
            "Wall time: 48.4 s\n"
          ],
          "name": "stdout"
        }
      ]
    },
    {
      "cell_type": "markdown",
      "metadata": {
        "id": "TiLcYHdhPrM9"
      },
      "source": [
        "- https://docs.dask.org/en/latest/dataframe-api.html#dask.dataframe.DataFrame.to_delayed\n",
        "\n",
        "- https://github.com/dask/dask-ml/issues/521"
      ]
    },
    {
      "cell_type": "code",
      "metadata": {
        "id": "ZRx5rkVTeCLV",
        "trusted": true,
        "outputId": "0c636d8c-04ac-4ccf-8d38-66e082de2dd3"
      },
      "source": [
        "timetaken_gpu=time.time()-start_time\n",
        "print(\"GPU time taken for XG Boost model: \",timetaken_gpu_xgb)"
      ],
      "execution_count": null,
      "outputs": [
        {
          "output_type": "stream",
          "text": [
            "GPU time taken for XG Boost model:  5.53131103515625e-05\n"
          ],
          "name": "stdout"
        }
      ]
    },
    {
      "cell_type": "code",
      "metadata": {
        "id": "Ng3ZjuQbxPlR",
        "trusted": true,
        "outputId": "43d21e9a-9dd5-4979-b897-359f3a8af49c"
      },
      "source": [
        "y_test_pred = XGB_model.predict(xgb.DMatrix(X_test))\n",
        "score_XGB_GPU = calc_R2(y_test_pred, 'XGBoost GPU')\n",
        "\n",
        "y_test_pred_xgb = y_test_pred"
      ],
      "execution_count": null,
      "outputs": [
        {
          "output_type": "stream",
          "text": [
            "R2 Score for the XGBoost GPU model is:  0.7632008790969849\n"
          ],
          "name": "stdout"
        }
      ]
    },
    {
      "cell_type": "code",
      "metadata": {
        "id": "NYIYJvOpP3Py",
        "trusted": true,
        "outputId": "94060613-80c0-478a-fc97-01b50ba16746"
      },
      "source": [
        "y_pred_XGB = XGB_model.predict(xgb.DMatrix(test), ntree_limit = XGB_model.best_ntree_limit).tolist()\n",
        "\n",
        "save_model_csv(y_pred_XGB, 'submission_XGboost_GPU')"
      ],
      "execution_count": null,
      "outputs": [
        {
          "output_type": "execute_result",
          "data": {
            "text/plain": [
              "                           key  fare_amount\n",
              "0  2015-01-27 13:08:24.0000002     9.221011\n",
              "1  2015-01-27 13:08:24.0000003     9.100527"
            ],
            "text/html": [
              "<div>\n",
              "<style scoped>\n",
              "    .dataframe tbody tr th:only-of-type {\n",
              "        vertical-align: middle;\n",
              "    }\n",
              "\n",
              "    .dataframe tbody tr th {\n",
              "        vertical-align: top;\n",
              "    }\n",
              "\n",
              "    .dataframe thead th {\n",
              "        text-align: right;\n",
              "    }\n",
              "</style>\n",
              "<table border=\"1\" class=\"dataframe\">\n",
              "  <thead>\n",
              "    <tr style=\"text-align: right;\">\n",
              "      <th></th>\n",
              "      <th>key</th>\n",
              "      <th>fare_amount</th>\n",
              "    </tr>\n",
              "  </thead>\n",
              "  <tbody>\n",
              "    <tr>\n",
              "      <th>0</th>\n",
              "      <td>2015-01-27 13:08:24.0000002</td>\n",
              "      <td>9.221011</td>\n",
              "    </tr>\n",
              "    <tr>\n",
              "      <th>1</th>\n",
              "      <td>2015-01-27 13:08:24.0000003</td>\n",
              "      <td>9.100527</td>\n",
              "    </tr>\n",
              "  </tbody>\n",
              "</table>\n",
              "</div>"
            ]
          },
          "metadata": {
            "tags": []
          },
          "execution_count": 49
        }
      ]
    },
    {
      "cell_type": "markdown",
      "metadata": {
        "id": "BiCY_q1uPEyD"
      },
      "source": [
        "## XG Boost Dask model for distributed clients (Not running with one client)\n",
        "\n",
        "- https://www.kaggle.com/sandeepkumar121995/eda-data-cleaning-xg-boost\n",
        "- https://www.kaggle.com/gunbl4d3/xgboost-ing-taxi-fares\n",
        "- https://www.kaggle.com/aerdem4/m5-lofo-importance-on-gpu-via-rapids-xgboost\n",
        "- https://www.kaggle.com/xhlulu/ieee-fraud-xgboost-with-gpu-fit-in-40s\n",
        "\n"
      ]
    },
    {
      "cell_type": "markdown",
      "metadata": {
        "id": "oCWFrhxye0Aw"
      },
      "source": [
        "Running into several problems with XG Boost. Python Kernel stops witout error message \t\n",
        "- what(): parallel_for failed: cudaErrorNoKernelImageForDevice: no kernel image is available for execution on the device\n",
        "- https://www.kaggle.com/c/otto-group-product-classification-challenge/discussion/13308\n",
        "- https://github.com/CannyLab/tsne-cuda/issues/18\n",
        "\n",
        "Hypothesis: There could be an error when loading a cudf dataset in XGBoost. Seems to not happen when using pandas"
      ]
    },
    {
      "cell_type": "markdown",
      "metadata": {
        "id": "AoOH4NOySqS8"
      },
      "source": [
        "Error when using evals, turning it off results in Value Error. Not possible to convert matrix_test to something running, tested with pandas df, cudf, numpy. NaN cleanup again, still...\n",
        "- https://github.com/dmlc/xgboost/issues/2274\n",
        "- https://github.com/rapidsai/cudf/issues/2892"
      ]
    },
    {
      "cell_type": "code",
      "metadata": {
        "id": "_iGPi7zcEEjD",
        "trusted": false
      },
      "source": [
        "%%time\n",
        "def dask_XGBmodel(X_train,X_test,y_train,y_test,params):\n",
        "    #matrix_test = xgb.DMatrix(data=dd.from_pandas(X_test.to_pandas(),1), label=dd.from_pandas(y_test.to_pandas(), 1))\n",
        "\n",
        "    #Drop Nan Values\n",
        "    X_test.nans_to_nulls()\n",
        "    X_test = X_test.dropna()\n",
        "\n",
        "    matrix_test = xgb.DMatrix(X_test,label=y_test)\n",
        "    model = dxgb.train(client, params=params, \n",
        "                       data=dd.from_pandas(X_train, 1), \n",
        "                       labels=dd.from_pandas(y_train, 1), \n",
        "                       num_boost_round=5000,\n",
        "                       early_stopping_rounds=10,\n",
        "                       evals=[(matrix_test,'test')]\n",
        "                      )\n",
        "    return model\n",
        "\n",
        "dask_XGB_model = dask_XGBmodel(X_train,X_test,y_train,y_test,params)\n",
        "\n",
        "#y_pred = dask_XGB_model.predict(testDGX)"
      ],
      "execution_count": null,
      "outputs": []
    },
    {
      "cell_type": "markdown",
      "metadata": {
        "id": "dXgn5i-9r2Ih"
      },
      "source": [
        "> # 9. LGBM model (only runs on Kaggle and not really on GPU)"
      ]
    },
    {
      "cell_type": "markdown",
      "metadata": {
        "id": "awLaNNrur6tD"
      },
      "source": [
        "This section is just for showing that it runs. Due to the runtime bug that the training is not really running on the GPU it takes forever to train 1000 rounds and there is still a huge RMSE difference to XGB so I decided to focus more on XGB.\n",
        "\n",
        "- https://medium.com/@pushkarmandot/https-medium-com-pushkarmandot-what-is-lightgbm-how-to-implement-it-how-to-fine-tune-the-parameters-60347819b7fc\n",
        "\n",
        "- https://www.kaggle.com/nicapotato/taxi-rides-time-analysis-and-oof-lgbm\n",
        "\n",
        "- https://www.kaggle.com/dsaichand3/lgbm-gpu\n",
        "\n",
        "- https://www.kaggle.com/aerdem4/rapids-svm-on-trends-neuroimaging\n",
        "\n",
        "\n",
        "Compared CPU vs GPU:\n",
        "- https://www.kaggle.com/ishivinal/sklearn-rapids-pandas\n"
      ]
    },
    {
      "cell_type": "markdown",
      "metadata": {
        "id": "Br4cxQ_dhhOd"
      },
      "source": [
        "## Setup LGBM with GPU Support (only working on Kaggle, not Colab)\n",
        "\n",
        "How to setup LGBM GPU Beta:\n",
        "- https://www.kaggle.com/vinhnguyen/gpu-acceleration-for-lightgbm\n",
        "\n"
      ]
    },
    {
      "cell_type": "code",
      "metadata": {
        "id": "LCEtHPjI3L68",
        "trusted": false
      },
      "source": [
        "!rm -r /opt/conda/lib/python3.6/site-packages/lightgbm\n",
        "!git clone --recursive https://github.com/Microsoft/LightGBM\n",
        "!apt-get install -y -qq libboost-all-dev"
      ],
      "execution_count": null,
      "outputs": []
    },
    {
      "cell_type": "code",
      "metadata": {
        "id": "55cYhd8bfvff",
        "trusted": false
      },
      "source": [
        "%%bash\n",
        "cd LightGBM\n",
        "rm -r build\n",
        "mkdir build\n",
        "cd build\n",
        "cmake -DUSE_GPU=1 -DOpenCL_LIBRARY=/usr/local/cuda/lib64/libOpenCL.so -DOpenCL_INCLUDE_DIR=/usr/local/cuda/include/ ..\n",
        "make -j$(nproc)"
      ],
      "execution_count": null,
      "outputs": []
    },
    {
      "cell_type": "code",
      "metadata": {
        "id": "xAb6mTwwqps-",
        "trusted": false
      },
      "source": [
        "!cd LightGBM/python-package/;python3 setup.py install --precompile\n",
        "!mkdir -p /etc/OpenCL/vendors && echo \"libnvidia-opencl.so.1\" > /etc/OpenCL/vendors/nvidia.icd\n",
        "!rm -r LightGBM"
      ],
      "execution_count": null,
      "outputs": []
    },
    {
      "cell_type": "code",
      "metadata": {
        "id": "JlFpAHIgjZwF",
        "trusted": false
      },
      "source": [
        "%%bash\n",
        "cd .."
      ],
      "execution_count": null,
      "outputs": []
    },
    {
      "cell_type": "code",
      "metadata": {
        "id": "0V8mfpqxktdZ",
        "trusted": false
      },
      "source": [
        "#!pip install lightgbm --install-option=--gpu --force-reinstall"
      ],
      "execution_count": null,
      "outputs": []
    },
    {
      "cell_type": "code",
      "metadata": {
        "id": "eVlid4GMsy2W",
        "trusted": false
      },
      "source": [
        "import lightgbm as lgbm"
      ],
      "execution_count": null,
      "outputs": []
    },
    {
      "cell_type": "code",
      "metadata": {
        "id": "bS403xD2hqTa",
        "trusted": false
      },
      "source": [
        "## Inspiration from https://www.kaggle.com/dsaichand3/lgbm-gpu\n",
        "params = {\n",
        "        'boosting_type':'gbdt',\n",
        "        'objective': 'regression',\n",
        "        'nthread': 4,\n",
        "        'num_leaves': 31,\n",
        "        'learning_rate': 0.15,\n",
        "        'max_depth': -1,\n",
        "        'subsample': 0.8,\n",
        "        'bagging_fraction' : 1,\n",
        "        'max_bin' : 15,\n",
        "        'bagging_freq': 20,\n",
        "        'colsample_bytree': 0.6,\n",
        "        'metric': 'rmse',\n",
        "        'min_split_gain': 0.5,\n",
        "        'min_child_weight': 1,\n",
        "        'min_child_samples': 10,\n",
        "        'scale_pos_weight':1,\n",
        "        'zero_as_missing': True,\n",
        "        'seed':0,\n",
        "        'num_rounds':50000,\n",
        "        'device': 'gpu',\n",
        "        'gpu_platform_id': 0,\n",
        "        'gpu_device_id': 0\n",
        "    }"
      ],
      "execution_count": null,
      "outputs": []
    },
    {
      "cell_type": "code",
      "metadata": {
        "id": "-YpUXS4JUBlj",
        "trusted": false
      },
      "source": [
        "col_cat = X_train.select_dtypes('object').columns.tolist()\n",
        "\n",
        "d_train = lgbm.Dataset(X_train.to_pandas(), label = y_train.to_pandas(), categorical_feature = col_cat, free_raw_data=False)\n",
        "d_valid = lgbm.Dataset(X_test.to_pandas(), label = y_test.to_pandas(), categorical_feature = col_cat, free_raw_data=False)"
      ],
      "execution_count": null,
      "outputs": []
    },
    {
      "cell_type": "markdown",
      "metadata": {
        "id": "lz9YxT4jURRU"
      },
      "source": [
        "Strange thing is, \"GPU Memory consumption\" is almost at limit with 41 Mio rows (15.1 GB, max. 15.9 GB) but \"Cumulative GPU usage\" still shows 0.00 %\"."
      ]
    },
    {
      "cell_type": "code",
      "metadata": {
        "id": "F4ihZhGkip44",
        "trusted": false
      },
      "source": [
        "%%time\n",
        "model = lgbm.train(params_1, train_set = d_train, num_boost_round=10000, early_stopping_rounds=100, verbose_eval=10, valid_sets=d_valid)"
      ],
      "execution_count": null,
      "outputs": []
    },
    {
      "cell_type": "code",
      "metadata": {
        "id": "RTtrGcjXyqbc",
        "trusted": false
      },
      "source": [
        "y_test_pred = model.predict(X_test, num_iteration = model.best_iteration)\n",
        "\n",
        "score_LGBM = calc_R2(y_test_pred, 'LGBM GPU')\n",
        "\n",
        "y_test_pred_lgbm = y_test_pred"
      ],
      "execution_count": null,
      "outputs": []
    },
    {
      "cell_type": "code",
      "metadata": {
        "id": "RpiQu9UqtgzG",
        "trusted": false
      },
      "source": [
        "y_pred_LGBM = model.predict(test, num_iteration = model.best_iteration)\n",
        "\n",
        "save_model_csv(y_pred_LGBM, 'submission_LGBM_GPU')"
      ],
      "execution_count": null,
      "outputs": []
    },
    {
      "cell_type": "markdown",
      "metadata": {
        "id": "Vw6a5lCQVWwV"
      },
      "source": [
        "# 10. Stacked Ensemble XGB and LGBM"
      ]
    },
    {
      "cell_type": "markdown",
      "metadata": {
        "id": "rCtBZjlSWWr4"
      },
      "source": [
        "In my approach to further improve the predictions I tried to combine the two most advanced models as suggested by https://www.kaggle.com/amar09/fare-prediction-stacked-ensemble-xgboost-lgbm/log."
      ]
    },
    {
      "cell_type": "code",
      "metadata": {
        "id": "cn1vn7fxVVEC",
        "trusted": false
      },
      "source": [
        "## ensembled prediction over splitted test data, 50 / 50 split between XGB and LGBM\n",
        "ensembled_prediction = (0.5*np.expm1(y_test_pred_xgb))+(0.5*np.expm1(y_test_pred_lgbm))\n",
        "\n",
        "score_LGBM_XGB = =calc_R2(ensembled_prediction, 'LGBM XGB ensemble')"
      ],
      "execution_count": null,
      "outputs": []
    },
    {
      "cell_type": "code",
      "metadata": {
        "id": "MnNzkk8TWjpf",
        "trusted": false
      },
      "source": [
        "## submitting the combined prediction, weighted 50 / 50\n",
        "ensembled_prediction = (0.5*y_pred_XGB)+(0.5*y_pred_LGBM)\n",
        "\n",
        "save_model_csv(ensembled_prediction, 'submission_ensemble.csv')"
      ],
      "execution_count": null,
      "outputs": []
    },
    {
      "cell_type": "markdown",
      "metadata": {
        "id": "Qz1vk8UNVeAv"
      },
      "source": [
        "# 11. Evaluation\n",
        "\n",
        "Show R2 Scores of the different models, makes it more convenient to compare in one graph.\n"
      ]
    },
    {
      "cell_type": "code",
      "metadata": {
        "id": "cz0YAjbPVhMu",
        "trusted": false
      },
      "source": [
        "r2_score=[\n",
        "    score_linear_reg,\n",
        "    score_ridge_reg,\n",
        "    score_KNN,\n",
        "    score_Rand_For,\n",
        "    score_XGB_GPU,\n",
        "    score_LGBM,\n",
        "    #score_LGBM_XGB\n",
        "]\n",
        "\n",
        "col={'R2 score':r2_score}\n",
        "models=[\n",
        "    'Linear Regression',\n",
        "    'Ridge Regression',\n",
        "    'KNN',\n",
        "    'Random Forest',\n",
        "    'XGB',\n",
        "    'LGBM',\n",
        "    #'LGBM & XGB'\n",
        "]\n",
        "df=pd.DataFrame(data=col,index=models)\n",
        "df\n",
        "\n",
        "df.plot(kind='bar')"
      ],
      "execution_count": null,
      "outputs": []
    }
  ]
}
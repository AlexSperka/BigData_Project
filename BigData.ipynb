{
  "nbformat": 4,
  "nbformat_minor": 0,
  "metadata": {
    "colab": {
      "name": "BigData.ipynb",
      "provenance": [],
      "collapsed_sections": [],
      "toc_visible": true
    },
    "kernelspec": {
      "name": "python3",
      "display_name": "Python 3"
    },
    "accelerator": "GPU"
  },
  "cells": [
    {
      "cell_type": "markdown",
      "metadata": {
        "id": "HRInq5gOmSuC",
        "colab_type": "text"
      },
      "source": [
        "# NYC fare prediction\n",
        "\n",
        "[This notebook](TBD) shows my approach for predicting the fare amount for a taxi ride in NYC when given the pickup and dropoff locations of the passangers regarding the [New York City Taxi Fare Prediction Challange]( https://www.kaggle.com/c/new-york-city-taxi-fare-prediction).\n",
        "\n",
        "\n",
        "\n",
        "---\n",
        "\n",
        "This notebook is seperated into different sections, relating to the common data science workflow (except the hypothesis and data collection where already done).\n",
        "\n",
        "\n",
        "0.   Previous Commits\n",
        "1.   Setup and Check Infrastructure\n",
        "2.   Having a first look at the Data (EDA)\n",
        "3.   Data Cleaning (Feature Engineering)\n",
        "4.   Linear Regression\n",
        "5.   Ridge Regression\n",
        "6.   Model ...\n",
        "7.   Evaulation and Discussion\n",
        "\n",
        "---\n",
        "\n"
      ]
    },
    {
      "cell_type": "markdown",
      "metadata": {
        "id": "fVXtwXAHLD44",
        "colab_type": "text"
      },
      "source": [
        "# 0. Previous Commits - Comparison of different Models:\n",
        "\n"
      ]
    },
    {
      "cell_type": "markdown",
      "metadata": {
        "id": "-fEoMZTsLSd7",
        "colab_type": "text"
      },
      "source": [
        "Predictions are done when using the whole data set\n",
        "\n",
        "### Linear Regression\n",
        "\n",
        "**Commit 1 (Baseline) Score: 5.67093**\n",
        "- 5.67093\n",
        " \n",
        "\n",
        "### Ridge Regression\n",
        "\n",
        "**Commit 2 Score: 12.54277**\n",
        "\n",
        "params_ridge\n",
        "  - alpha = loguniform(1e-5, 1e0)\n",
        "  - solver = ['eig', 'cd']\n",
        "  - n_iter = 100\n",
        "  - cv = 5\n",
        "  - verbose = 0\n",
        "  - n_jobs = 1\n",
        "\n",
        "ridge_params\n",
        "  - alpha = 0.240960447726532\n",
        "  - fit_intercept = True\n",
        "  - normalize = False\n",
        "  - solver = 'eig'\n",
        "\n",
        "RMSE for Ridge_rmse Regression is  -7.212150573730469\n",
        "\n",
        "\n",
        "### K-Nearest Neighbor \n",
        "**Commit 3 Score: 4.86790**\n",
        "  - n_neighbors = 4\n",
        "  - data_size = 5.5 Mio rows (1 %)\n",
        "\n",
        "### Random Forest \n",
        "**Commit 4 Score: 5.95518**\n",
        "  - n_estimators=10\n",
        "  - n_jobs=-1\n",
        "  - data_size = 1 Mio. rows\n",
        "\n"
      ]
    },
    {
      "cell_type": "markdown",
      "metadata": {
        "id": "m_g3Zj-nHUeR",
        "colab_type": "text"
      },
      "source": [
        "# 1. Setup and Check Infrastructure"
      ]
    },
    {
      "cell_type": "code",
      "metadata": {
        "id": "qKBQtZzV2zNL",
        "colab_type": "code",
        "colab": {}
      },
      "source": [
        "## Switch from Kaggle to Colab easily\n",
        "environment='Colab'\n",
        "\n",
        "## when True only 50.000 rows are used for debugging purpose. Set to False when doing real training\n",
        "debug_mode=True \n",
        "\n",
        "## choose how many rows of the training data sample you would like to use (only works when debug_mode=False ), max is 55423480\n",
        "rows_datasample=5542348"
      ],
      "execution_count": 2,
      "outputs": []
    },
    {
      "cell_type": "code",
      "metadata": {
        "id": "lF1XfHZiw0-e",
        "colab_type": "code",
        "colab": {
          "base_uri": "https://localhost:8080/",
          "height": 54
        },
        "outputId": "161a0937-3360-4902-9617-3f157c923074"
      },
      "source": [
        "if environment == 'Kaggle':\n",
        "  env_submission_path='./'\n",
        "  env_path='../input/new-york-city-taxi-fare-prediction/'\n",
        "  print('The environment and paths were successfully setup for Kaggle')\n",
        "elif environment == 'Colab':\n",
        "  env_submission_path='/content/drive/My Drive/Colab Notebooks/'\n",
        "  env_path='/content/drive/My Drive/Colab Notebooks/'\n",
        "\n",
        "  from google.colab import drive\n",
        "  drive.mount('/content/drive')\n",
        "\n",
        "  print('The environment and paths were successfully setup for Colab')\n",
        "\n",
        "else:\n",
        "  print('Something went wrong here, please choose one of the options for path completion: Kaggle or Colab (or implement your own thing)')\n"
      ],
      "execution_count": 3,
      "outputs": [
        {
          "output_type": "stream",
          "text": [
            "Mounted at /content/drive\n",
            "The environment and paths were successfully setup for Colab\n"
          ],
          "name": "stdout"
        }
      ]
    },
    {
      "cell_type": "markdown",
      "metadata": {
        "id": "-Ri5Sq2eHPp7",
        "colab_type": "text"
      },
      "source": [
        "Check for GPU"
      ]
    },
    {
      "cell_type": "code",
      "metadata": {
        "id": "Ix7egkMuVbLC",
        "colab_type": "code",
        "colab": {
          "base_uri": "https://localhost:8080/",
          "height": 384
        },
        "outputId": "3dfb16be-378e-4426-d520-6ac7733fe93c"
      },
      "source": [
        "!nvidia-smi"
      ],
      "execution_count": 4,
      "outputs": [
        {
          "output_type": "stream",
          "text": [
            "Mon Sep 21 15:28:38 2020       \n",
            "+-----------------------------------------------------------------------------+\n",
            "| NVIDIA-SMI 450.66       Driver Version: 418.67       CUDA Version: 10.1     |\n",
            "|-------------------------------+----------------------+----------------------+\n",
            "| GPU  Name        Persistence-M| Bus-Id        Disp.A | Volatile Uncorr. ECC |\n",
            "| Fan  Temp  Perf  Pwr:Usage/Cap|         Memory-Usage | GPU-Util  Compute M. |\n",
            "|                               |                      |               MIG M. |\n",
            "|===============================+======================+======================|\n",
            "|   0  Tesla K80           Off  | 00000000:00:04.0 Off |                    0 |\n",
            "| N/A   34C    P8    28W / 149W |      0MiB / 11441MiB |      0%      Default |\n",
            "|                               |                      |                 ERR! |\n",
            "+-------------------------------+----------------------+----------------------+\n",
            "                                                                               \n",
            "+-----------------------------------------------------------------------------+\n",
            "| Processes:                                                                  |\n",
            "|  GPU   GI   CI        PID   Type   Process name                  GPU Memory |\n",
            "|        ID   ID                                                   Usage      |\n",
            "|=============================================================================|\n",
            "|  No running processes found                                                 |\n",
            "+-----------------------------------------------------------------------------+\n"
          ],
          "name": "stdout"
        }
      ]
    },
    {
      "cell_type": "code",
      "metadata": {
        "id": "SY8-qcVuVguX",
        "colab_type": "code",
        "colab": {
          "base_uri": "https://localhost:8080/",
          "height": 1000
        },
        "outputId": "6743ff8e-ccd5-4950-d771-bf9f529fb892"
      },
      "source": [
        "if environment == 'Kaggle':\n",
        "  import sys\n",
        "  !cp ../input/rapids/rapids.0.14.0 /opt/conda/envs/rapids.tar.gz\n",
        "  !cd /opt/conda/envs/ && tar -xzvf rapids.tar.gz > /dev/null\n",
        "  sys.path = [\"/opt/conda/envs/rapids/lib/python3.7/site-packages\"] + sys.path\n",
        "  sys.path = [\"/opt/conda/envs/rapids/lib/python3.7\"] + sys.path\n",
        "  sys.path = [\"/opt/conda/envs/rapids/lib\"] + sys.path \n",
        "  !cp /opt/conda/envs/rapids/lib/libxgboost.so /opt/conda/lib/\n",
        "\n",
        "\n",
        "elif environment == 'Colab':\n",
        "  # Install RAPIDS and Dask_ml\n",
        "  !pip install dask_ml\n",
        "  !pip install dask_cuda\n",
        "\n",
        "  !git clone https://github.com/rapidsai/rapidsai-csp-utils.git\n",
        "  !bash rapidsai-csp-utils/colab/rapids-colab.sh stable\n",
        "\n",
        "\n",
        "  import sys, os\n",
        "\n",
        "  dist_package_index = sys.path.index('/usr/local/lib/python3.6/dist-packages')\n",
        "  sys.path = sys.path[:dist_package_index] + ['/usr/local/lib/python3.6/site-packages'] + sys.path[dist_package_index:]\n",
        "  sys.path\n",
        "  exec(open('rapidsai-csp-utils/colab/update_modules.py').read(), globals())\n",
        "\n",
        "else:\n",
        "  print('Something went wrong here, please choose one of the options for path completion: Kaggle or Colab (or implement your own thing). If Kaggle failed please make sure you added the RAPIDS file on Kaggle to your Input!')"
      ],
      "execution_count": 5,
      "outputs": [
        {
          "output_type": "stream",
          "text": [
            "Collecting dask_ml\n",
            "\u001b[?25l  Downloading https://files.pythonhosted.org/packages/fb/68/03a7bc7ff2378c865b7a5c6344947d790e4c69c0b38b5c7fa4fd1fb939e0/dask_ml-1.6.0-py3-none-any.whl (140kB)\n",
            "\u001b[K     |████████████████████████████████| 143kB 2.8MB/s \n",
            "\u001b[?25hCollecting distributed>=2.4.0\n",
            "\u001b[?25l  Downloading https://files.pythonhosted.org/packages/bf/e4/ee17c167321d95bc35e7e379eea9257663509c95327a379c927fb5486565/distributed-2.27.0-py3-none-any.whl (652kB)\n",
            "\u001b[K     |████████████████████████████████| 655kB 11.2MB/s \n",
            "\u001b[?25hCollecting multipledispatch>=0.4.9\n",
            "  Downloading https://files.pythonhosted.org/packages/89/79/429ecef45fd5e4504f7474d4c3c3c4668c267be3370e4c2fd33e61506833/multipledispatch-0.6.0-py3-none-any.whl\n",
            "Requirement already satisfied: pandas>=0.23.4 in /usr/local/lib/python3.6/dist-packages (from dask_ml) (1.0.5)\n",
            "Requirement already satisfied: numba in /usr/local/lib/python3.6/dist-packages (from dask_ml) (0.48.0)\n",
            "Requirement already satisfied: scipy in /usr/local/lib/python3.6/dist-packages (from dask_ml) (1.4.1)\n",
            "Collecting scikit-learn>=0.23\n",
            "\u001b[?25l  Downloading https://files.pythonhosted.org/packages/5c/a1/273def87037a7fb010512bbc5901c31cfddfca8080bc63b42b26e3cc55b3/scikit_learn-0.23.2-cp36-cp36m-manylinux1_x86_64.whl (6.8MB)\n",
            "\u001b[K     |████████████████████████████████| 6.8MB 15.6MB/s \n",
            "\u001b[?25hCollecting dask-glm>=0.2.0\n",
            "  Downloading https://files.pythonhosted.org/packages/cb/ee/36c6e0e7b51e08406e5c3bb036f35adb77bd0a89335437b2e6f03c948f1a/dask_glm-0.2.0-py2.py3-none-any.whl\n",
            "Requirement already satisfied: packaging in /usr/local/lib/python3.6/dist-packages (from dask_ml) (20.4)\n",
            "Requirement already satisfied: numpy>=1.17.3 in /usr/local/lib/python3.6/dist-packages (from dask_ml) (1.18.5)\n",
            "Requirement already satisfied: dask[array,dataframe]>=2.4.0 in /usr/local/lib/python3.6/dist-packages (from dask_ml) (2.12.0)\n",
            "Collecting contextvars; python_version < \"3.7\"\n",
            "  Downloading https://files.pythonhosted.org/packages/83/96/55b82d9f13763be9d672622e1b8106c85acb83edd7cc2fa5bc67cd9877e9/contextvars-2.4.tar.gz\n",
            "Collecting cloudpickle>=1.5.0\n",
            "  Downloading https://files.pythonhosted.org/packages/e7/e3/898487e5dbeb612054cf2e0c188463acb358167fef749c53c8bb8918cea1/cloudpickle-1.6.0-py3-none-any.whl\n",
            "Requirement already satisfied: zict>=0.1.3 in /usr/local/lib/python3.6/dist-packages (from distributed>=2.4.0->dask_ml) (2.0.0)\n",
            "Requirement already satisfied: psutil>=5.0 in /usr/local/lib/python3.6/dist-packages (from distributed>=2.4.0->dask_ml) (5.4.8)\n",
            "Requirement already satisfied: sortedcontainers!=2.0.0,!=2.0.1 in /usr/local/lib/python3.6/dist-packages (from distributed>=2.4.0->dask_ml) (2.2.2)\n",
            "Requirement already satisfied: setuptools in /usr/local/lib/python3.6/dist-packages (from distributed>=2.4.0->dask_ml) (50.3.0)\n",
            "Requirement already satisfied: tornado>=5; python_version < \"3.8\" in /usr/local/lib/python3.6/dist-packages (from distributed>=2.4.0->dask_ml) (5.1.1)\n",
            "Requirement already satisfied: click>=6.6 in /usr/local/lib/python3.6/dist-packages (from distributed>=2.4.0->dask_ml) (7.1.2)\n",
            "Requirement already satisfied: tblib>=1.6.0 in /usr/local/lib/python3.6/dist-packages (from distributed>=2.4.0->dask_ml) (1.7.0)\n",
            "Requirement already satisfied: msgpack>=0.6.0 in /usr/local/lib/python3.6/dist-packages (from distributed>=2.4.0->dask_ml) (1.0.0)\n",
            "Requirement already satisfied: pyyaml in /usr/local/lib/python3.6/dist-packages (from distributed>=2.4.0->dask_ml) (3.13)\n",
            "Requirement already satisfied: toolz>=0.8.2 in /usr/local/lib/python3.6/dist-packages (from distributed>=2.4.0->dask_ml) (0.10.0)\n",
            "Requirement already satisfied: six in /usr/local/lib/python3.6/dist-packages (from multipledispatch>=0.4.9->dask_ml) (1.15.0)\n",
            "Requirement already satisfied: pytz>=2017.2 in /usr/local/lib/python3.6/dist-packages (from pandas>=0.23.4->dask_ml) (2018.9)\n",
            "Requirement already satisfied: python-dateutil>=2.6.1 in /usr/local/lib/python3.6/dist-packages (from pandas>=0.23.4->dask_ml) (2.8.1)\n",
            "Requirement already satisfied: llvmlite<0.32.0,>=0.31.0dev0 in /usr/local/lib/python3.6/dist-packages (from numba->dask_ml) (0.31.0)\n",
            "Requirement already satisfied: joblib>=0.11 in /usr/local/lib/python3.6/dist-packages (from scikit-learn>=0.23->dask_ml) (0.16.0)\n",
            "Collecting threadpoolctl>=2.0.0\n",
            "  Downloading https://files.pythonhosted.org/packages/f7/12/ec3f2e203afa394a149911729357aa48affc59c20e2c1c8297a60f33f133/threadpoolctl-2.1.0-py3-none-any.whl\n",
            "Requirement already satisfied: pyparsing>=2.0.2 in /usr/local/lib/python3.6/dist-packages (from packaging->dask_ml) (2.4.7)\n",
            "Collecting partd>=0.3.10; extra == \"dataframe\"\n",
            "  Downloading https://files.pythonhosted.org/packages/44/e1/68dbe731c9c067655bff1eca5b7d40c20ca4b23fd5ec9f3d17e201a6f36b/partd-1.1.0-py3-none-any.whl\n",
            "Collecting fsspec>=0.6.0; extra == \"dataframe\"\n",
            "\u001b[?25l  Downloading https://files.pythonhosted.org/packages/e3/3d/f2762411c4b15a4c8391a182a3ace7ade3d861f686af90dcd0a336d4df2e/fsspec-0.8.2-py3-none-any.whl (87kB)\n",
            "\u001b[K     |████████████████████████████████| 92kB 9.1MB/s \n",
            "\u001b[?25hCollecting immutables>=0.9\n",
            "\u001b[?25l  Downloading https://files.pythonhosted.org/packages/99/e0/ea6fd4697120327d26773b5a84853f897a68e33d3f9376b00a8ff96e4f63/immutables-0.14-cp36-cp36m-manylinux1_x86_64.whl (98kB)\n",
            "\u001b[K     |████████████████████████████████| 102kB 9.3MB/s \n",
            "\u001b[?25hRequirement already satisfied: heapdict in /usr/local/lib/python3.6/dist-packages (from zict>=0.1.3->distributed>=2.4.0->dask_ml) (1.0.1)\n",
            "Collecting locket\n",
            "  Downloading https://files.pythonhosted.org/packages/d0/22/3c0f97614e0be8386542facb3a7dcfc2584f7b83608c02333bced641281c/locket-0.2.0.tar.gz\n",
            "Building wheels for collected packages: contextvars, locket\n",
            "  Building wheel for contextvars (setup.py) ... \u001b[?25l\u001b[?25hdone\n",
            "  Created wheel for contextvars: filename=contextvars-2.4-cp36-none-any.whl size=7666 sha256=f7dfc058c14b2c918786238346e30ac51729ebd8743345dd22d8bedfac24f0c3\n",
            "  Stored in directory: /root/.cache/pip/wheels/a5/7d/68/1ebae2668bda2228686e3c1cf16f2c2384cea6e9334ad5f6de\n",
            "  Building wheel for locket (setup.py) ... \u001b[?25l\u001b[?25hdone\n",
            "  Created wheel for locket: filename=locket-0.2.0-cp36-none-any.whl size=4040 sha256=2ac894000b7c1e048c5d6c825552a1da82c35bfda43ad4f0e4c1a8ed7badfc7f\n",
            "  Stored in directory: /root/.cache/pip/wheels/26/1e/e8/4fa236ec931b1a0cdd61578e20d4934d7bf188858723b84698\n",
            "Successfully built contextvars locket\n",
            "\u001b[31mERROR: tensorflow-probability 0.11.0 has requirement cloudpickle==1.3, but you'll have cloudpickle 1.6.0 which is incompatible.\u001b[0m\n",
            "\u001b[31mERROR: gym 0.17.2 has requirement cloudpickle<1.4.0,>=1.2.0, but you'll have cloudpickle 1.6.0 which is incompatible.\u001b[0m\n",
            "Installing collected packages: immutables, contextvars, cloudpickle, distributed, multipledispatch, threadpoolctl, scikit-learn, dask-glm, dask-ml, locket, partd, fsspec\n",
            "  Found existing installation: cloudpickle 1.3.0\n",
            "    Uninstalling cloudpickle-1.3.0:\n",
            "      Successfully uninstalled cloudpickle-1.3.0\n",
            "  Found existing installation: distributed 1.25.3\n",
            "    Uninstalling distributed-1.25.3:\n",
            "      Successfully uninstalled distributed-1.25.3\n",
            "  Found existing installation: scikit-learn 0.22.2.post1\n",
            "    Uninstalling scikit-learn-0.22.2.post1:\n",
            "      Successfully uninstalled scikit-learn-0.22.2.post1\n",
            "Successfully installed cloudpickle-1.6.0 contextvars-2.4 dask-glm-0.2.0 dask-ml-1.6.0 distributed-2.27.0 fsspec-0.8.2 immutables-0.14 locket-0.2.0 multipledispatch-0.6.0 partd-1.1.0 scikit-learn-0.23.2 threadpoolctl-2.1.0\n",
            "Collecting dask_cuda\n",
            "\u001b[?25l  Downloading https://files.pythonhosted.org/packages/10/d1/0736d90a97c9aff4c52e6fbc441f41ef76ac8513c10c1fb048b1192eac51/dask_cuda-0.15.0-py3-none-any.whl (44kB)\n",
            "\u001b[K     |████████████████████████████████| 51kB 1.8MB/s \n",
            "\u001b[?25hRequirement already satisfied: distributed>=2.18.0 in /usr/local/lib/python3.6/dist-packages (from dask_cuda) (2.27.0)\n",
            "Requirement already satisfied: numpy>=1.16.0 in /usr/local/lib/python3.6/dist-packages (from dask_cuda) (1.18.5)\n",
            "Collecting pynvml>=8.0.3\n",
            "  Downloading https://files.pythonhosted.org/packages/1b/1a/a25c143e1d2f873d67edf534b269d028dd3c20be69737cca56bf28911d02/pynvml-8.0.4-py3-none-any.whl\n",
            "Requirement already satisfied: numba>=0.40.1 in /usr/local/lib/python3.6/dist-packages (from dask_cuda) (0.48.0)\n",
            "Requirement already satisfied: dask>=2.9.0 in /usr/local/lib/python3.6/dist-packages (from dask_cuda) (2.12.0)\n",
            "Requirement already satisfied: sortedcontainers!=2.0.0,!=2.0.1 in /usr/local/lib/python3.6/dist-packages (from distributed>=2.18.0->dask_cuda) (2.2.2)\n",
            "Requirement already satisfied: toolz>=0.8.2 in /usr/local/lib/python3.6/dist-packages (from distributed>=2.18.0->dask_cuda) (0.10.0)\n",
            "Requirement already satisfied: zict>=0.1.3 in /usr/local/lib/python3.6/dist-packages (from distributed>=2.18.0->dask_cuda) (2.0.0)\n",
            "Requirement already satisfied: msgpack>=0.6.0 in /usr/local/lib/python3.6/dist-packages (from distributed>=2.18.0->dask_cuda) (1.0.0)\n",
            "Requirement already satisfied: contextvars; python_version < \"3.7\" in /usr/local/lib/python3.6/dist-packages (from distributed>=2.18.0->dask_cuda) (2.4)\n",
            "Requirement already satisfied: psutil>=5.0 in /usr/local/lib/python3.6/dist-packages (from distributed>=2.18.0->dask_cuda) (5.4.8)\n",
            "Requirement already satisfied: pyyaml in /usr/local/lib/python3.6/dist-packages (from distributed>=2.18.0->dask_cuda) (3.13)\n",
            "Requirement already satisfied: tblib>=1.6.0 in /usr/local/lib/python3.6/dist-packages (from distributed>=2.18.0->dask_cuda) (1.7.0)\n",
            "Requirement already satisfied: cloudpickle>=1.5.0 in /usr/local/lib/python3.6/dist-packages (from distributed>=2.18.0->dask_cuda) (1.6.0)\n",
            "Requirement already satisfied: click>=6.6 in /usr/local/lib/python3.6/dist-packages (from distributed>=2.18.0->dask_cuda) (7.1.2)\n",
            "Requirement already satisfied: setuptools in /usr/local/lib/python3.6/dist-packages (from distributed>=2.18.0->dask_cuda) (50.3.0)\n",
            "Requirement already satisfied: tornado>=5; python_version < \"3.8\" in /usr/local/lib/python3.6/dist-packages (from distributed>=2.18.0->dask_cuda) (5.1.1)\n",
            "Requirement already satisfied: llvmlite<0.32.0,>=0.31.0dev0 in /usr/local/lib/python3.6/dist-packages (from numba>=0.40.1->dask_cuda) (0.31.0)\n",
            "Requirement already satisfied: heapdict in /usr/local/lib/python3.6/dist-packages (from zict>=0.1.3->distributed>=2.18.0->dask_cuda) (1.0.1)\n",
            "Requirement already satisfied: immutables>=0.9 in /usr/local/lib/python3.6/dist-packages (from contextvars; python_version < \"3.7\"->distributed>=2.18.0->dask_cuda) (0.14)\n",
            "Installing collected packages: pynvml, dask-cuda\n",
            "Successfully installed dask-cuda-0.15.0 pynvml-8.0.4\n",
            "Cloning into 'rapidsai-csp-utils'...\n",
            "remote: Enumerating objects: 14, done.\u001b[K\n",
            "remote: Counting objects: 100% (14/14), done.\u001b[K\n",
            "remote: Compressing objects: 100% (14/14), done.\u001b[K\n",
            "remote: Total 185 (delta 5), reused 0 (delta 0), pack-reused 171\u001b[K\n",
            "Receiving objects: 100% (185/185), 57.14 KiB | 334.00 KiB/s, done.\n",
            "Resolving deltas: 100% (67/67), done.\n",
            "PLEASE READ\n",
            "********************************************************************************************************\n",
            "Changes:\n",
            "1. IMPORTANT CHANGES: RAPIDS on Colab will be pegged to 0.14 Stable until further notice.\n",
            "2. Default stable version is now 0.14.  Nightly will redirect to 0.14.\n",
            "3. You can now declare your RAPIDSAI version as a CLI option and skip the user prompts (ex: '0.14' or '0.15', between 0.13 to 0.14, without the quotes): \n",
            "        \"!bash rapidsai-csp-utils/colab/rapids-colab.sh <version/label>\"\n",
            "        Examples: '!bash rapidsai-csp-utils/colab/rapids-colab.sh 0.14', or '!bash rapidsai-csp-utils/colab/rapids-colab.sh stable', or '!bash rapidsai-csp-utils/colab/rapids-colab.sh s'\n",
            "                  '!bash rapidsai-csp-utils/colab/rapids-colab.sh 0.15, or '!bash rapidsai-csp-utils/colab/rapids-colab.sh nightly', or '!bash rapidsai-csp-utils/colab/rapids-colab.sh n'\n",
            "Enjoy using RAPIDS!  If you have any issues with or suggestions for RAPIDSAI on Colab, please create a bug request on https://github.com/rapidsai/rapidsai-csp-utils/issues/new.  Thanks!\n",
            "Starting to prep Colab for install RAPIDS Version 0.14 stable\n",
            "Checking for GPU type:\n",
            "Traceback (most recent call last):\n",
            "  File \"rapidsai-csp-utils/colab/env-check.py\", line 25, in <module>\n",
            "    \"\"\")\n",
            "Exception: \n",
            "    Unfortunately Colab didn't give you a T4, P4, or P100 GPU.\n",
            "    \n",
            "    Make sure you've configured Colab to request a GPU instance type.\n",
            "    \n",
            "    If you get a different GPU, try Runtime -> Reset all runtimes...\n",
            "  \n",
            "Removing conflicting packages, will replace with RAPIDS compatible versions\n",
            "Uninstalling xgboost-0.90:\n",
            "  Successfully uninstalled xgboost-0.90\n",
            "Uninstalling dask-2.12.0:\n",
            "  Successfully uninstalled dask-2.12.0\n",
            "Uninstalling distributed-2.27.0:\n",
            "  Successfully uninstalled distributed-2.27.0\n",
            "Installing conda\n",
            "--2020-09-21 15:29:07--  https://repo.continuum.io/miniconda/Miniconda3-4.5.4-Linux-x86_64.sh\n",
            "Resolving repo.continuum.io (repo.continuum.io)... 104.18.201.79, 104.18.200.79, 2606:4700::6812:c84f, ...\n",
            "Connecting to repo.continuum.io (repo.continuum.io)|104.18.201.79|:443... connected.\n",
            "HTTP request sent, awaiting response... 301 Moved Permanently\n",
            "Location: https://repo.anaconda.com/miniconda/Miniconda3-4.5.4-Linux-x86_64.sh [following]\n",
            "--2020-09-21 15:29:07--  https://repo.anaconda.com/miniconda/Miniconda3-4.5.4-Linux-x86_64.sh\n",
            "Resolving repo.anaconda.com (repo.anaconda.com)... 104.16.131.3, 104.16.130.3, 2606:4700::6810:8303, ...\n",
            "Connecting to repo.anaconda.com (repo.anaconda.com)|104.16.131.3|:443... connected.\n",
            "HTTP request sent, awaiting response... 200 OK\n",
            "Length: 58468498 (56M) [application/x-sh]\n",
            "Saving to: ‘Miniconda3-4.5.4-Linux-x86_64.sh’\n",
            "\n",
            "Miniconda3-4.5.4-Li 100%[===================>]  55.76M   193MB/s    in 0.3s    \n",
            "\n",
            "2020-09-21 15:29:07 (193 MB/s) - ‘Miniconda3-4.5.4-Linux-x86_64.sh’ saved [58468498/58468498]\n",
            "\n",
            "PREFIX=/usr/local\n",
            "installing: python-3.6.5-hc3d631a_2 ...\n",
            "Python 3.6.5 :: Anaconda, Inc.\n",
            "installing: ca-certificates-2018.03.07-0 ...\n",
            "installing: conda-env-2.6.0-h36134e3_1 ...\n",
            "installing: libgcc-ng-7.2.0-hdf63c60_3 ...\n",
            "installing: libstdcxx-ng-7.2.0-hdf63c60_3 ...\n",
            "installing: libffi-3.2.1-hd88cf55_4 ...\n",
            "installing: ncurses-6.1-hf484d3e_0 ...\n",
            "installing: openssl-1.0.2o-h20670df_0 ...\n",
            "installing: tk-8.6.7-hc745277_3 ...\n",
            "installing: xz-5.2.4-h14c3975_4 ...\n",
            "installing: yaml-0.1.7-had09818_2 ...\n",
            "installing: zlib-1.2.11-ha838bed_2 ...\n",
            "installing: libedit-3.1.20170329-h6b74fdf_2 ...\n",
            "installing: readline-7.0-ha6073c6_4 ...\n",
            "installing: sqlite-3.23.1-he433501_0 ...\n",
            "installing: asn1crypto-0.24.0-py36_0 ...\n",
            "installing: certifi-2018.4.16-py36_0 ...\n",
            "installing: chardet-3.0.4-py36h0f667ec_1 ...\n",
            "installing: idna-2.6-py36h82fb2a8_1 ...\n",
            "installing: pycosat-0.6.3-py36h0a5515d_0 ...\n",
            "installing: pycparser-2.18-py36hf9f622e_1 ...\n",
            "installing: pysocks-1.6.8-py36_0 ...\n",
            "installing: ruamel_yaml-0.15.37-py36h14c3975_2 ...\n",
            "installing: six-1.11.0-py36h372c433_1 ...\n",
            "installing: cffi-1.11.5-py36h9745a5d_0 ...\n",
            "installing: setuptools-39.2.0-py36_0 ...\n",
            "installing: cryptography-2.2.2-py36h14c3975_0 ...\n",
            "installing: wheel-0.31.1-py36_0 ...\n",
            "installing: pip-10.0.1-py36_0 ...\n",
            "installing: pyopenssl-18.0.0-py36_0 ...\n",
            "installing: urllib3-1.22-py36hbe7ace6_0 ...\n",
            "installing: requests-2.18.4-py36he2e5f8d_1 ...\n",
            "installing: conda-4.5.4-py36_0 ...\n",
            "installation finished.\n",
            "WARNING:\n",
            "    You currently have a PYTHONPATH environment variable set. This may cause\n",
            "    unexpected behavior when running the Python interpreter in Miniconda3.\n",
            "    For best results, please verify that your PYTHONPATH only points to\n",
            "    directories of packages that are compatible with the Python interpreter\n",
            "    in Miniconda3: /usr/local\n",
            "Solving environment: - \b\b\\ \b\b| \b\b/ \b\b- \b\b\\ \b\b| \b\b/ \b\b- \b\b\\ \b\b| \b\b/ \b\b- \b\b\\ \b\b| \b\b/ \b\b- \b\b\\ \b\b| \b\b/ \b\b- \b\b\\ \b\b| \b\b/ \b\b- \b\b\\ \b\b| \b\b/ \b\b- \b\b\\ \b\b| \b\b/ \b\b- \b\b\\ \b\b| \b\b/ \b\b- \b\b\\ \b\b| \b\b/ \b\b- \b\b\\ \b\b| \b\b/ \b\b- \b\b\\ \b\b| \b\b/ \b\b- \b\b\\ \b\b| \b\b/ \b\b- \b\b\\ \b\b| \b\b/ \b\b- \b\b\\ \b\b| \b\b/ \b\b- \b\b\\ \b\b| \b\b/ \b\b- \b\b\\ \b\b| \b\b/ \b\b- \b\b\\ \b\b| \b\b/ \b\b- \b\b\\ \b\b| \b\b/ \b\b- \b\b\\ \b\b| \b\b/ \b\b- \b\b\\ \b\b| \b\b/ \b\b- \b\b\\ \b\b| \b\b/ \b\b- \b\b\\ \b\b| \b\b/ \b\b- \b\b\\ \b\b| \b\b/ \b\b- \b\b\\ \b\b| \b\b/ \b\b- \b\b\\ \b\b| \b\b/ \b\b- \b\b\\ \b\b| \b\b/ \b\b- \b\b\\ \b\b| \b\b/ \b\b- \b\b\\ \b\b| \b\b/ \b\b- \b\b\\ \b\b| \b\b/ \b\b- \b\b\\ \b\b| \b\b/ \b\b- \b\b\\ \b\b| \b\b/ \b\b- \b\b\\ \b\b| \b\b/ \b\b- \b\b\\ \b\b| \b\b/ \b\b- \b\b\\ \b\b| \b\b/ \b\b- \b\bdone\n",
            "\n",
            "## Package Plan ##\n",
            "\n",
            "  environment location: /usr/local\n",
            "\n",
            "  added / updated specs: \n",
            "    - conda\n",
            "    - python=3.6\n",
            "\n",
            "\n",
            "The following packages will be downloaded:\n",
            "\n",
            "    package                    |            build\n",
            "    ---------------------------|-----------------\n",
            "    chardet-3.0.4              |        py36_1003         197 KB\n",
            "    ld_impl_linux-64-2.33.1    |       h53a641e_7         645 KB\n",
            "    sqlite-3.33.0              |       h62c20be_0         2.0 MB\n",
            "    brotlipy-0.7.0             |py36h7b6447c_1000         348 KB\n",
            "    pycparser-2.20             |             py_2          94 KB\n",
            "    pyopenssl-19.1.0           |             py_1          47 KB\n",
            "    certifi-2020.6.20          |           py36_0         160 KB\n",
            "    ruamel_yaml-0.15.87        |   py36h7b6447c_1         256 KB\n",
            "    yaml-0.2.5                 |       h7b6447c_0          87 KB\n",
            "    setuptools-49.6.0          |           py36_0         927 KB\n",
            "    libgcc-ng-9.1.0            |       hdf63c60_0         8.1 MB\n",
            "    xz-5.2.5                   |       h7b6447c_0         438 KB\n",
            "    cffi-1.14.2                |   py36he30daa8_0         228 KB\n",
            "    six-1.15.0                 |             py_0          13 KB\n",
            "    zlib-1.2.11                |       h7b6447c_3         120 KB\n",
            "    urllib3-1.25.10            |             py_0          93 KB\n",
            "    _libgcc_mutex-0.1          |             main           3 KB\n",
            "    libedit-3.1.20191231       |       h14c3975_1         121 KB\n",
            "    pysocks-1.7.1              |           py36_0          30 KB\n",
            "    openssl-1.1.1g             |       h7b6447c_0         3.8 MB\n",
            "    libstdcxx-ng-9.1.0         |       hdf63c60_0         4.0 MB\n",
            "    ncurses-6.2                |       he6710b0_1         1.1 MB\n",
            "    tk-8.6.10                  |       hbc83047_0         3.2 MB\n",
            "    wheel-0.35.1               |             py_0          36 KB\n",
            "    ca-certificates-2020.7.22  |                0         132 KB\n",
            "    conda-package-handling-1.6.1|   py36h7b6447c_0         886 KB\n",
            "    python-3.6.12              |       hcff3b4d_2        34.0 MB\n",
            "    pycosat-0.6.3              |   py36h7b6447c_0         107 KB\n",
            "    readline-8.0               |       h7b6447c_0         428 KB\n",
            "    pip-20.2.2                 |           py36_0         2.0 MB\n",
            "    conda-4.8.4                |           py36_0         3.0 MB\n",
            "    cryptography-3.1           |   py36h1ba5d50_0         622 KB\n",
            "    tqdm-4.48.2                |             py_0          63 KB\n",
            "    requests-2.24.0            |             py_0          54 KB\n",
            "    idna-2.10                  |             py_0          56 KB\n",
            "    libffi-3.3                 |       he6710b0_2          54 KB\n",
            "    ------------------------------------------------------------\n",
            "                                           Total:        67.5 MB\n",
            "\n",
            "The following NEW packages will be INSTALLED:\n",
            "\n",
            "    _libgcc_mutex:          0.1-main               \n",
            "    brotlipy:               0.7.0-py36h7b6447c_1000\n",
            "    conda-package-handling: 1.6.1-py36h7b6447c_0   \n",
            "    ld_impl_linux-64:       2.33.1-h53a641e_7      \n",
            "    tqdm:                   4.48.2-py_0            \n",
            "\n",
            "The following packages will be UPDATED:\n",
            "\n",
            "    ca-certificates:        2018.03.07-0            --> 2020.7.22-0            \n",
            "    certifi:                2018.4.16-py36_0        --> 2020.6.20-py36_0       \n",
            "    cffi:                   1.11.5-py36h9745a5d_0   --> 1.14.2-py36he30daa8_0  \n",
            "    chardet:                3.0.4-py36h0f667ec_1    --> 3.0.4-py36_1003        \n",
            "    conda:                  4.5.4-py36_0            --> 4.8.4-py36_0           \n",
            "    cryptography:           2.2.2-py36h14c3975_0    --> 3.1-py36h1ba5d50_0     \n",
            "    idna:                   2.6-py36h82fb2a8_1      --> 2.10-py_0              \n",
            "    libedit:                3.1.20170329-h6b74fdf_2 --> 3.1.20191231-h14c3975_1\n",
            "    libffi:                 3.2.1-hd88cf55_4        --> 3.3-he6710b0_2         \n",
            "    libgcc-ng:              7.2.0-hdf63c60_3        --> 9.1.0-hdf63c60_0       \n",
            "    libstdcxx-ng:           7.2.0-hdf63c60_3        --> 9.1.0-hdf63c60_0       \n",
            "    ncurses:                6.1-hf484d3e_0          --> 6.2-he6710b0_1         \n",
            "    openssl:                1.0.2o-h20670df_0       --> 1.1.1g-h7b6447c_0      \n",
            "    pip:                    10.0.1-py36_0           --> 20.2.2-py36_0          \n",
            "    pycosat:                0.6.3-py36h0a5515d_0    --> 0.6.3-py36h7b6447c_0   \n",
            "    pycparser:              2.18-py36hf9f622e_1     --> 2.20-py_2              \n",
            "    pyopenssl:              18.0.0-py36_0           --> 19.1.0-py_1            \n",
            "    pysocks:                1.6.8-py36_0            --> 1.7.1-py36_0           \n",
            "    python:                 3.6.5-hc3d631a_2        --> 3.6.12-hcff3b4d_2      \n",
            "    readline:               7.0-ha6073c6_4          --> 8.0-h7b6447c_0         \n",
            "    requests:               2.18.4-py36he2e5f8d_1   --> 2.24.0-py_0            \n",
            "    ruamel_yaml:            0.15.37-py36h14c3975_2  --> 0.15.87-py36h7b6447c_1 \n",
            "    setuptools:             39.2.0-py36_0           --> 49.6.0-py36_0          \n",
            "    six:                    1.11.0-py36h372c433_1   --> 1.15.0-py_0            \n",
            "    sqlite:                 3.23.1-he433501_0       --> 3.33.0-h62c20be_0      \n",
            "    tk:                     8.6.7-hc745277_3        --> 8.6.10-hbc83047_0      \n",
            "    urllib3:                1.22-py36hbe7ace6_0     --> 1.25.10-py_0           \n",
            "    wheel:                  0.31.1-py36_0           --> 0.35.1-py_0            \n",
            "    xz:                     5.2.4-h14c3975_4        --> 5.2.5-h7b6447c_0       \n",
            "    yaml:                   0.1.7-had09818_2        --> 0.2.5-h7b6447c_0       \n",
            "    zlib:                   1.2.11-ha838bed_2       --> 1.2.11-h7b6447c_3      \n",
            "\n",
            "\n",
            "Downloading and Extracting Packages\n",
            "chardet-3.0.4        |  197 KB | : 100% 1.0/1 [00:00<00:00,  9.65it/s]\n",
            "ld_impl_linux-64-2.3 |  645 KB | : 100% 1.0/1 [00:00<00:00,  5.89it/s]              \n",
            "sqlite-3.33.0        |  2.0 MB | : 100% 1.0/1 [00:00<00:00,  2.84it/s]               \n",
            "brotlipy-0.7.0       |  348 KB | : 100% 1.0/1 [00:00<00:00, 13.29it/s]\n",
            "pycparser-2.20       |   94 KB | : 100% 1.0/1 [00:00<00:00,  9.72it/s]\n",
            "pyopenssl-19.1.0     |   47 KB | : 100% 1.0/1 [00:00<00:00, 24.62it/s]\n",
            "certifi-2020.6.20    |  160 KB | : 100% 1.0/1 [00:00<00:00, 20.06it/s]\n",
            "ruamel_yaml-0.15.87  |  256 KB | : 100% 1.0/1 [00:00<00:00, 10.99it/s]\n",
            "yaml-0.2.5           |   87 KB | : 100% 1.0/1 [00:00<00:00, 24.42it/s]\n",
            "setuptools-49.6.0    |  927 KB | : 100% 1.0/1 [00:00<00:00,  3.10it/s]               \n",
            "libgcc-ng-9.1.0      |  8.1 MB | : 100% 1.0/1 [00:01<00:00,  1.40s/it]               \n",
            "xz-5.2.5             |  438 KB | : 100% 1.0/1 [00:00<00:00,  7.01it/s]               \n",
            "cffi-1.14.2          |  228 KB | : 100% 1.0/1 [00:00<00:00, 12.88it/s]\n",
            "six-1.15.0           |   13 KB | : 100% 1.0/1 [00:00<00:00, 42.00it/s]\n",
            "zlib-1.2.11          |  120 KB | : 100% 1.0/1 [00:00<00:00, 22.84it/s]\n",
            "urllib3-1.25.10      |   93 KB | : 100% 1.0/1 [00:00<00:00, 12.44it/s]\n",
            "_libgcc_mutex-0.1    |    3 KB | : 100% 1.0/1 [00:00<00:00, 57.47it/s]\n",
            "libedit-3.1.20191231 |  121 KB | : 100% 1.0/1 [00:00<00:00, 19.32it/s]\n",
            "pysocks-1.7.1        |   30 KB | : 100% 1.0/1 [00:00<00:00, 35.42it/s]\n",
            "openssl-1.1.1g       |  3.8 MB | : 100% 1.0/1 [00:00<00:00,  1.43it/s]             \n",
            "libstdcxx-ng-9.1.0   |  4.0 MB | : 100% 1.0/1 [00:00<00:00,  1.44it/s]               \n",
            "ncurses-6.2          |  1.1 MB | : 100% 1.0/1 [00:01<00:00,  1.02s/it]               \n",
            "tk-8.6.10            |  3.2 MB | : 100% 1.0/1 [00:00<00:00,  1.36it/s]               \n",
            "wheel-0.35.1         |   36 KB | : 100% 1.0/1 [00:00<00:00, 29.85it/s]\n",
            "ca-certificates-2020 |  132 KB | : 100% 1.0/1 [00:00<00:00, 27.14it/s]\n",
            "conda-package-handli |  886 KB | : 100% 1.0/1 [00:00<00:00,  6.12it/s]               \n",
            "python-3.6.12        | 34.0 MB | : 100% 1.0/1 [00:05<00:00,  5.42s/it]               \n",
            "pycosat-0.6.3        |  107 KB | : 100% 1.0/1 [00:00<00:00, 15.84it/s]\n",
            "readline-8.0         |  428 KB | : 100% 1.0/1 [00:00<00:00,  8.47it/s]\n",
            "pip-20.2.2           |  2.0 MB | : 100% 1.0/1 [00:00<00:00,  1.42it/s]               \n",
            "conda-4.8.4          |  3.0 MB | : 100% 1.0/1 [00:00<00:00,  1.24it/s]               \n",
            "cryptography-3.1     |  622 KB | : 100% 1.0/1 [00:00<00:00,  3.51it/s]               \n",
            "tqdm-4.48.2          |   63 KB | : 100% 1.0/1 [00:00<00:00, 21.69it/s]\n",
            "requests-2.24.0      |   54 KB | : 100% 1.0/1 [00:00<00:00, 24.27it/s]\n",
            "idna-2.10            |   56 KB | : 100% 1.0/1 [00:00<00:00, 26.13it/s]\n",
            "libffi-3.3           |   54 KB | : 100% 1.0/1 [00:00<00:00, 29.66it/s]\n",
            "Preparing transaction: | \b\b/ \b\b- \b\b\\ \b\b| \b\bdone\n",
            "Verifying transaction: - \b\b\\ \b\b| \b\b/ \b\b- \b\b\\ \b\b| \b\b/ \b\b- \b\b\\ \b\b| \b\b/ \b\b- \b\b\\ \b\b| \b\b/ \b\b- \b\b\\ \b\b| \b\b/ \b\b- \b\b\\ \b\b| \b\b/ \b\bdone\n",
            "Executing transaction: \\ \b\b| \b\b/ \b\b- \b\b\\ \b\b| \b\b/ \b\b- \b\b\\ \b\b| \b\b/ \b\b- \b\b\\ \b\b| \b\b/ \b\b- \b\b\\ \b\b| \b\b/ \b\b- \b\b\\ \b\b| \b\b/ \b\b- \b\b\\ \b\b| \b\b/ \b\b- \b\b\\ \b\b| \b\b/ \b\b- \b\b\\ \b\b| \b\b/ \b\b- \b\b\\ \b\b| \b\b/ \b\b- \b\b\\ \b\b| \b\b/ \b\b- \b\b\\ \b\b| \b\b/ \b\b- \b\b\\ \b\b| \b\b/ \b\b- \b\b\\ \b\b| \b\b/ \b\b- \b\b\\ \b\b| \b\b/ \b\b- \b\b\\ \b\b| \b\b/ \b\b- \b\b\\ \b\b| \b\b/ \b\b- \b\b\\ \b\b| \b\b/ \b\b- \b\b\\ \b\b| \b\b/ \b\b- \b\b\\ \b\b| \b\bdone\n",
            "Collecting package metadata (current_repodata.json): - \b\b\\ \b\b| \b\b/ \b\b- \b\b\\ \b\b| \b\b/ \b\b- \b\b\\ \b\b| \b\b/ \b\b- \b\b\\ \b\b| \b\b/ \b\b- \b\b\\ \b\b| \b\b/ \b\b- \b\b\\ \b\b| \b\b/ \b\b- \b\b\\ \b\b| \b\b/ \b\b- \b\b\\ \b\b| \b\b/ \b\b- \b\b\\ \b\b| \b\b/ \b\b- \b\b\\ \b\b| \b\b/ \b\b- \b\b\\ \b\b| \b\b/ \b\b- \b\b\\ \b\b| \b\b/ \b\b- \b\b\\ \b\b| \b\b/ \b\b- \b\b\\ \b\b| \b\b/ \b\b- \b\b\\ \b\b| \b\b/ \b\b- \b\b\\ \b\b| \b\b/ \b\b- \b\b\\ \b\b| \b\b/ \b\b- \b\b\\ \b\b| \b\b/ \b\bdone\n",
            "Solving environment: \\ \b\b| \b\b/ \b\b- \b\b\\ \b\b| \b\b/ \b\b- \b\b\\ \b\b| \b\b/ \b\b- \b\b\\ \b\b| \b\b/ \b\b- \b\bdone\n",
            "\n",
            "## Package Plan ##\n",
            "\n",
            "  environment location: /usr/local\n",
            "\n",
            "\n",
            "The following packages will be downloaded:\n",
            "\n",
            "    package                    |            build\n",
            "    ---------------------------|-----------------\n",
            "    _libgcc_mutex-0.1          |      conda_forge           3 KB  conda-forge\n",
            "    _openmp_mutex-4.5          |            1_gnu          22 KB  conda-forge\n",
            "    brotlipy-0.7.0             |py36h8c4c3a4_1000         346 KB  conda-forge\n",
            "    ca-certificates-2020.6.20  |       hecda079_0         145 KB  conda-forge\n",
            "    certifi-2020.6.20          |   py36h9f0ad1d_0         151 KB  conda-forge\n",
            "    cffi-1.11.5                |           py36_0         406 KB  conda-forge\n",
            "    chardet-3.0.4              |py36h9f0ad1d_1007         187 KB  conda-forge\n",
            "    conda-4.8.5                |   py36h9f0ad1d_1         3.0 MB  conda-forge\n",
            "    conda-package-handling-1.7.0|   py36h8c4c3a4_5         934 KB  conda-forge\n",
            "    cryptography-3.1           |   py36h45558ae_0         615 KB  conda-forge\n",
            "    idna-2.10                  |     pyh9f0ad1d_0          52 KB  conda-forge\n",
            "    ld_impl_linux-64-2.35      |       h769bd43_9         617 KB  conda-forge\n",
            "    libgcc-ng-9.3.0            |      h24d8f2e_16         7.8 MB  conda-forge\n",
            "    libgomp-9.3.0              |      h24d8f2e_16         378 KB  conda-forge\n",
            "    libstdcxx-ng-9.3.0         |      hdf63c60_16         4.0 MB  conda-forge\n",
            "    ncurses-6.2                |       he1b5a44_1         993 KB  conda-forge\n",
            "    openssl-1.1.1g             |       h516909a_1         2.1 MB  conda-forge\n",
            "    pip-20.2.3                 |             py_0         1.1 MB  conda-forge\n",
            "    pycosat-0.6.3              |py36h8c4c3a4_1004         107 KB  conda-forge\n",
            "    pycparser-2.20             |     pyh9f0ad1d_2          94 KB  conda-forge\n",
            "    pyopenssl-19.1.0           |             py_1          47 KB  conda-forge\n",
            "    pysocks-1.7.1              |   py36h9f0ad1d_1          27 KB  conda-forge\n",
            "    python_abi-3.6             |          1_cp36m           4 KB  conda-forge\n",
            "    readline-8.0               |       he28a2e2_2         281 KB  conda-forge\n",
            "    requests-2.24.0            |     pyh9f0ad1d_0          47 KB  conda-forge\n",
            "    ruamel_yaml-0.15.80        |py36h8c4c3a4_1002         254 KB  conda-forge\n",
            "    setuptools-49.6.0          |   py36h9f0ad1d_1         934 KB  conda-forge\n",
            "    six-1.15.0                 |     pyh9f0ad1d_0          14 KB  conda-forge\n",
            "    sqlite-3.33.0              |       h4cf870e_0         1.4 MB  conda-forge\n",
            "    tk-8.6.10                  |       hed695b0_0         3.2 MB  conda-forge\n",
            "    tqdm-4.49.0                |     pyh9f0ad1d_0          54 KB  conda-forge\n",
            "    urllib3-1.25.10            |             py_0          92 KB  conda-forge\n",
            "    wheel-0.35.1               |     pyh9f0ad1d_0          29 KB  conda-forge\n",
            "    xz-5.2.5                   |       h516909a_1         343 KB  conda-forge\n",
            "    yaml-0.2.5                 |       h516909a_0          82 KB  conda-forge\n",
            "    zlib-1.2.11                |    h516909a_1009         106 KB  conda-forge\n",
            "    ------------------------------------------------------------\n",
            "                                           Total:        29.9 MB\n",
            "\n",
            "The following NEW packages will be INSTALLED:\n",
            "\n",
            "  _openmp_mutex      conda-forge/linux-64::_openmp_mutex-4.5-1_gnu\n",
            "  libgomp            conda-forge/linux-64::libgomp-9.3.0-h24d8f2e_16\n",
            "  python_abi         conda-forge/linux-64::python_abi-3.6-1_cp36m\n",
            "\n",
            "The following packages will be REMOVED:\n",
            "\n",
            "  asn1crypto-0.24.0-py36_0\n",
            "  conda-env-2.6.0-h36134e3_1\n",
            "  libedit-3.1.20191231-h14c3975_1\n",
            "\n",
            "The following packages will be UPDATED:\n",
            "\n",
            "  chardet                pkgs/main::chardet-3.0.4-py36_1003 --> conda-forge::chardet-3.0.4-py36h9f0ad1d_1007\n",
            "  conda                       pkgs/main::conda-4.8.4-py36_0 --> conda-forge::conda-4.8.5-py36h9f0ad1d_1\n",
            "  conda-package-han~ pkgs/main::conda-package-handling-1.6~ --> conda-forge::conda-package-handling-1.7.0-py36h8c4c3a4_5\n",
            "  ld_impl_linux-64   pkgs/main::ld_impl_linux-64-2.33.1-h5~ --> conda-forge::ld_impl_linux-64-2.35-h769bd43_9\n",
            "  libgcc-ng           pkgs/main::libgcc-ng-9.1.0-hdf63c60_0 --> conda-forge::libgcc-ng-9.3.0-h24d8f2e_16\n",
            "  libstdcxx-ng       pkgs/main::libstdcxx-ng-9.1.0-hdf63c6~ --> conda-forge::libstdcxx-ng-9.3.0-hdf63c60_16\n",
            "  openssl              pkgs/main::openssl-1.1.1g-h7b6447c_0 --> conda-forge::openssl-1.1.1g-h516909a_1\n",
            "  pip                 pkgs/main/linux-64::pip-20.2.2-py36_0 --> conda-forge/noarch::pip-20.2.3-py_0\n",
            "  pycosat            pkgs/main::pycosat-0.6.3-py36h7b6447c~ --> conda-forge::pycosat-0.6.3-py36h8c4c3a4_1004\n",
            "  pysocks                   pkgs/main::pysocks-1.7.1-py36_0 --> conda-forge::pysocks-1.7.1-py36h9f0ad1d_1\n",
            "  readline               pkgs/main::readline-8.0-h7b6447c_0 --> conda-forge::readline-8.0-he28a2e2_2\n",
            "  setuptools            pkgs/main::setuptools-49.6.0-py36_0 --> conda-forge::setuptools-49.6.0-py36h9f0ad1d_1\n",
            "  tqdm                          pkgs/main::tqdm-4.48.2-py_0 --> conda-forge::tqdm-4.49.0-pyh9f0ad1d_0\n",
            "  xz                         pkgs/main::xz-5.2.5-h7b6447c_0 --> conda-forge::xz-5.2.5-h516909a_1\n",
            "  zlib                    pkgs/main::zlib-1.2.11-h7b6447c_3 --> conda-forge::zlib-1.2.11-h516909a_1009\n",
            "\n",
            "The following packages will be SUPERSEDED by a higher-priority channel:\n",
            "\n",
            "  _libgcc_mutex           pkgs/main::_libgcc_mutex-0.1-main --> conda-forge::_libgcc_mutex-0.1-conda_forge\n",
            "  brotlipy           pkgs/main::brotlipy-0.7.0-py36h7b6447~ --> conda-forge::brotlipy-0.7.0-py36h8c4c3a4_1000\n",
            "  ca-certificates    pkgs/main::ca-certificates-2020.7.22-0 --> conda-forge::ca-certificates-2020.6.20-hecda079_0\n",
            "  certifi               pkgs/main::certifi-2020.6.20-py36_0 --> conda-forge::certifi-2020.6.20-py36h9f0ad1d_0\n",
            "  cffi                pkgs/main::cffi-1.14.2-py36he30daa8_0 --> conda-forge::cffi-1.11.5-py36_0\n",
            "  cryptography       pkgs/main::cryptography-3.1-py36h1ba5~ --> conda-forge::cryptography-3.1-py36h45558ae_0\n",
            "  idna                            pkgs/main::idna-2.10-py_0 --> conda-forge::idna-2.10-pyh9f0ad1d_0\n",
            "  ncurses                 pkgs/main::ncurses-6.2-he6710b0_1 --> conda-forge::ncurses-6.2-he1b5a44_1\n",
            "  pycparser                  pkgs/main::pycparser-2.20-py_2 --> conda-forge::pycparser-2.20-pyh9f0ad1d_2\n",
            "  pyopenssl                                       pkgs/main --> conda-forge\n",
            "  requests                  pkgs/main::requests-2.24.0-py_0 --> conda-forge::requests-2.24.0-pyh9f0ad1d_0\n",
            "  ruamel_yaml        pkgs/main::ruamel_yaml-0.15.87-py36h7~ --> conda-forge::ruamel_yaml-0.15.80-py36h8c4c3a4_1002\n",
            "  six                            pkgs/main::six-1.15.0-py_0 --> conda-forge::six-1.15.0-pyh9f0ad1d_0\n",
            "  sqlite                pkgs/main::sqlite-3.33.0-h62c20be_0 --> conda-forge::sqlite-3.33.0-h4cf870e_0\n",
            "  tk                        pkgs/main::tk-8.6.10-hbc83047_0 --> conda-forge::tk-8.6.10-hed695b0_0\n",
            "  urllib3                                         pkgs/main --> conda-forge\n",
            "  wheel                        pkgs/main::wheel-0.35.1-py_0 --> conda-forge::wheel-0.35.1-pyh9f0ad1d_0\n",
            "  yaml                     pkgs/main::yaml-0.2.5-h7b6447c_0 --> conda-forge::yaml-0.2.5-h516909a_0\n",
            "\n",
            "\n",
            "\n",
            "Downloading and Extracting Packages\n",
            "tqdm-4.49.0          | 54 KB     | : 100% 1.0/1 [00:00<00:00, 10.97it/s]\n",
            "chardet-3.0.4        | 187 KB    | : 100% 1.0/1 [00:00<00:00, 12.94it/s]\n",
            "pycparser-2.20       | 94 KB     | : 100% 1.0/1 [00:00<00:00, 16.51it/s]\n",
            "xz-5.2.5             | 343 KB    | : 100% 1.0/1 [00:00<00:00, 10.55it/s]\n",
            "pyopenssl-19.1.0     | 47 KB     | : 100% 1.0/1 [00:00<00:00, 16.51it/s]\n",
            "libstdcxx-ng-9.3.0   | 4.0 MB    | : 100% 1.0/1 [00:00<00:00,  1.51it/s]\n",
            "brotlipy-0.7.0       | 346 KB    | : 100% 1.0/1 [00:00<00:00, 12.21it/s]\n",
            "setuptools-49.6.0    | 934 KB    | : 100% 1.0/1 [00:00<00:00,  4.19it/s]\n",
            "ncurses-6.2          | 993 KB    | : 100% 1.0/1 [00:00<00:00,  2.49it/s]\n",
            "sqlite-3.33.0        | 1.4 MB    | : 100% 1.0/1 [00:00<00:00,  4.28it/s]\n",
            "six-1.15.0           | 14 KB     | : 100% 1.0/1 [00:00<00:00, 19.12it/s]\n",
            "idna-2.10            | 52 KB     | : 100% 1.0/1 [00:00<00:00, 29.11it/s]\n",
            "openssl-1.1.1g       | 2.1 MB    | : 100% 1.0/1 [00:00<00:00,  2.80it/s]\n",
            "wheel-0.35.1         | 29 KB     | : 100% 1.0/1 [00:00<00:00, 35.14it/s]\n",
            "zlib-1.2.11          | 106 KB    | : 100% 1.0/1 [00:00<00:00, 22.72it/s]\n",
            "certifi-2020.6.20    | 151 KB    | : 100% 1.0/1 [00:00<00:00, 22.82it/s]\n",
            "conda-package-handli | 934 KB    | : 100% 1.0/1 [00:00<00:00,  6.38it/s]\n",
            "urllib3-1.25.10      | 92 KB     | : 100% 1.0/1 [00:00<00:00, 16.15it/s]\n",
            "_libgcc_mutex-0.1    | 3 KB      | : 100% 1.0/1 [00:00<00:00, 43.09it/s]\n",
            "ld_impl_linux-64-2.3 | 617 KB    | : 100% 1.0/1 [00:00<00:00,  5.47it/s]\n",
            "pip-20.2.3           | 1.1 MB    | : 100% 1.0/1 [00:00<00:00,  3.75it/s]\n",
            "pycosat-0.6.3        | 107 KB    | : 100% 1.0/1 [00:00<00:00, 22.65it/s]\n",
            "conda-4.8.5          | 3.0 MB    | : 100% 1.0/1 [00:00<00:00,  1.69it/s]\n",
            "pysocks-1.7.1        | 27 KB     | : 100% 1.0/1 [00:00<00:00, 27.25it/s]\n",
            "yaml-0.2.5           | 82 KB     | : 100% 1.0/1 [00:00<00:00, 26.06it/s]\n",
            "libgomp-9.3.0        | 378 KB    | : 100% 1.0/1 [00:00<00:00, 12.26it/s]\n",
            "cryptography-3.1     | 615 KB    | : 100% 1.0/1 [00:00<00:00,  5.46it/s]\n",
            "_openmp_mutex-4.5    | 22 KB     | : 100% 1.0/1 [00:00<00:00, 30.48it/s]\n",
            "cffi-1.11.5          | 406 KB    | : 100% 1.0/1 [00:00<00:00, 10.20it/s]\n",
            "requests-2.24.0      | 47 KB     | : 100% 1.0/1 [00:00<00:00, 24.27it/s]\n",
            "tk-8.6.10            | 3.2 MB    | : 100% 1.0/1 [00:00<00:00,  1.72it/s]\n",
            "ruamel_yaml-0.15.80  | 254 KB    | : 100% 1.0/1 [00:00<00:00, 13.69it/s]\n",
            "python_abi-3.6       | 4 KB      | : 100% 1.0/1 [00:00<00:00, 43.57it/s]\n",
            "readline-8.0         | 281 KB    | : 100% 1.0/1 [00:00<00:00, 12.00it/s]\n",
            "libgcc-ng-9.3.0      | 7.8 MB    | : 100% 1.0/1 [00:01<00:00,  1.22s/it]\n",
            "ca-certificates-2020 | 145 KB    | : 100% 1.0/1 [00:00<00:00, 23.92it/s]\n",
            "Preparing transaction: | \b\b/ \b\b- \b\bdone\n",
            "Verifying transaction: | \b\b/ \b\b- \b\b\\ \b\b| \b\b/ \b\b- \b\b\\ \b\b| \b\b/ \b\bdone\n",
            "Executing transaction: \\ \b\b| \b\b/ \b\b- \b\b\\ \b\b| \b\b/ \b\b- \b\b\\ \b\b| \b\b/ \b\b- \b\b\\ \b\b| \b\b/ \b\b- \b\b\\ \b\b| \b\b/ \b\b- \b\b\\ \b\b| \b\b/ \b\b- \b\b\\ \b\bdone\n",
            "Collecting package metadata (current_repodata.json): - \b\b\\ \b\b| \b\b/ \b\b- \b\b\\ \b\b| \b\b/ \b\b- \b\b\\ \b\b| \b\b/ \b\b- \b\bdone\n",
            "Solving environment: | \b\b/ \b\b- \b\b\\ \b\b| \b\b/ \b\b- \b\b\\ \b\b| \b\bdone\n",
            "\n",
            "# All requested packages already installed.\n",
            "\n",
            "Installing RAPIDS 0.14 packages from the stable release channel\n",
            "Please standby, this will take a few minutes...\n",
            "Collecting package metadata (current_repodata.json): - \b\b\\ \b\b| \b\b/ \b\b- \b\b\\ \b\b| \b\b/ \b\b- \b\b\\ \b\b| \b\b/ \b\b- \b\b\\ \b\b| \b\b/ \b\b- \b\b\\ \b\b| \b\b/ \b\b- \b\b\\ \b\b| \b\b/ \b\b- \b\b\\ \b\b| \b\b/ \b\b- \b\b\\ \b\b| \b\b/ \b\b- \b\b\\ \b\b| \b\b/ \b\b- \b\b\\ \b\b| \b\b/ \b\b- \b\b\\ \b\b| \b\b/ \b\b- \b\b\\ \b\b| \b\b/ \b\b- \b\b\\ \b\b| \b\b/ \b\b- \b\bdone\n",
            "Solving environment: | \b\b/ \b\b- \b\b\\ \b\b| \b\b/ \b\b- \b\b\\ \b\b| \b\b/ \b\b- \b\b\\ \b\b| \b\b/ \b\b- \b\b\\ \b\b| \b\b/ \b\b- \b\b\\ \b\b| \b\b/ \b\b- \b\b\\ \b\b| \b\b/ \b\b- \b\b\\ \b\b| \b\b/ \b\b- \b\b\\ \b\b| \b\b/ \b\b- \b\b\\ \b\b| \b\b/ \b\b- \b\b\\ \b\b| \b\b/ \b\b- \b\b\\ \b\b| \b\b/ \b\b- \b\b\\ \b\b| \b\b/ \b\b- \b\b\\ \b\b| \b\b/ \b\b- \b\b\\ \b\b| \b\b/ \b\b- \b\b\\ \b\b| \b\b/ \b\b- \b\b\\ \b\b| \b\b/ \b\b- \b\b\\ \b\b| \b\b/ \b\b- \b\b\\ \b\b| \b\b/ \b\b- \b\b\\ \b\b| \b\b/ \b\b- \b\b\\ \b\b| \b\b/ \b\b- \b\b\\ \b\b| \b\b/ \b\b- \b\b\\ \b\b| \b\b/ \b\b- \b\b\\ \b\b| \b\b/ \b\b- \b\b\\ \b\b| \b\b/ \b\b- \b\b\\ \b\b| \b\b/ \b\b- \b\b\\ \b\b| \b\b/ \b\b- \b\b\\ \b\b| \b\b/ \b\b- \b\b\\ \b\b| \b\b/ \b\b- \b\b\\ \b\b| \b\b/ \b\b- \b\b\\ \b\b| \b\b/ \b\b- \b\bfailed with initial frozen solve. Retrying with flexible solve.\n",
            "Solving environment: | \b\b/ \b\b- \b\b\\ \b\b| \b\b/ \b\b- \b\b\\ \b\b| \b\b/ \b\b- \b\b\\ \b\b| \b\b/ \b\b- \b\b\\ \b\b| \b\b/ \b\b- \b\b\\ \b\b| \b\b/ \b\b- \b\b\\ \b\b| \b\b/ \b\b- \b\b\\ \b\b| \b\b/ \b\b- \b\b\\ \b\b| \b\b/ \b\b- \b\b\\ \b\b| \b\b/ \b\b- \b\b\\ \b\b| \b\b/ \b\b- \b\b\\ \b\b| \b\b/ \b\b- \b\b\\ \b\b| \b\b/ \b\b- \b\b\\ \b\b| \b\b/ \b\b- \b\b\\ \b\b| \b\b/ \b\b- \b\b\\ \b\b| \b\b/ \b\b- \b\b\\ \b\b| \b\b/ \b\b- \b\b\\ \b\b| \b\b/ \b\b- \b\b\\ \b\b| \b\b/ \b\b- \b\b\\ \b\b| \b\b/ \b\b- \b\b\\ \b\b| \b\b/ \b\b- \b\b\\ \b\b| \b\b/ \b\b- \b\b\\ \b\b| \b\b/ \b\b- \b\b\\ \b\b| \b\b/ \b\b- \b\b\\ \b\b| \b\b/ \b\b- \b\b\\ \b\b| \b\b/ \b\b- \b\b\\ \b\b| \b\b/ \b\b- \b\b\\ \b\b| \b\b/ \b\b- \b\b\\ \b\b| \b\b/ \b\b- \b\b\\ \b\b| \b\b/ \b\b- \b\b\\ \b\b| \b\b/ \b\b- \b\b\\ \b\b| \b\b/ \b\b- \b\b\\ \b\b| \b\b/ \b\b- \b\b\\ \b\b| \b\b/ \b\b- \b\b\\ \b\b| \b\b/ \b\b- \b\b\\ \b\b| \b\b/ \b\b- \b\b\\ \b\b| \b\b/ \b\b- \b\b\\ \b\b| \b\b/ \b\b- \b\b\\ \b\b| \b\b/ \b\b- \b\b\\ \b\b| \b\b/ \b\b- \b\b\\ \b\b| \b\b/ \b\b- \b\b\\ \b\b| \b\b/ \b\b- \b\b\\ \b\b| \b\b/ \b\b- \b\b\\ \b\bfailed with repodata from current_repodata.json, will retry with next repodata source.\n",
            "Collecting package metadata (repodata.json): / \b\b- \b\b\\ \b\b| \b\b/ \b\b- \b\b\\ \b\b| \b\b/ \b\b- \b\b\\ \b\b| \b\b/ \b\b- \b\b\\ \b\b| \b\b/ \b\b- \b\b\\ \b\b| \b\b/ \b\b- \b\b\\ \b\b| \b\b/ \b\b- \b\b\\ \b\b| \b\b/ \b\b- \b\b\\ \b\b| \b\b/ \b\b- \b\b\\ \b\b| \b\b/ \b\b- \b\b\\ \b\b| \b\b/ \b\b- \b\b\\ \b\b| \b\b/ \b\b- \b\b\\ \b\b| \b\b/ \b\b- \b\b\\ \b\b| \b\b/ \b\b- \b\b\\ \b\b| \b\b/ \b\b- \b\b\\ \b\b| \b\b/ \b\b- \b\b\\ \b\b| \b\b/ \b\b- \b\b\\ \b\b| \b\b/ \b\b- \b\b\\ \b\b| \b\b/ \b\b- \b\b\\ \b\b| \b\b/ \b\b- \b\b\\ \b\b| \b\b/ \b\b- \b\b\\ \b\b| \b\b/ \b\b- \b\b\\ \b\b| \b\b/ \b\b- \b\b\\ \b\b| \b\b/ \b\b- \b\b\\ \b\b| \b\b/ \b\b- \b\b\\ \b\b| \b\b/ \b\b- \b\b\\ \b\b| \b\b/ \b\b- \b\b\\ \b\b| \b\b/ \b\b- \b\b\\ \b\b| \b\b/ \b\b- \b\b\\ \b\b| \b\b/ \b\b- \b\b\\ \b\b| \b\b/ \b\b- \b\b\\ \b\b| \b\b/ \b\b- \b\b\\ \b\b| \b\b/ \b\b- \b\b\\ \b\b| \b\b/ \b\b- \b\b\\ \b\b| \b\b/ \b\b- \b\b\\ \b\b| \b\b/ \b\b- \b\b\\ \b\b| \b\b/ \b\b- \b\b\\ \b\b| \b\b/ \b\b- \b\b\\ \b\b| \b\b/ \b\b- \b\b\\ \b\b| \b\b/ \b\b- \b\b\\ \b\b| \b\b/ \b\b- \b\b\\ \b\b| \b\b/ \b\b- \b\b\\ \b\b| \b\b/ \b\b- \b\b\\ \b\b| \b\b/ \b\b- \b\b\\ \b\b| \b\b/ \b\b- \b\b\\ \b\b| \b\b/ \b\b- \b\b\\ \b\b| \b\b/ \b\b- \b\b\\ \b\b| \b\b/ \b\b- \b\b\\ \b\b| \b\b/ \b\b- \b\b\\ \b\b| \b\b/ \b\b- \b\b\\ \b\b| \b\b/ \b\b- \b\b\\ \b\b| \b\b/ \b\b- \b\b\\ \b\b| \b\b/ \b\b- \b\b\\ \b\b| \b\b/ \b\b- \b\b\\ \b\b| \b\b/ \b\b- \b\b\\ \b\b| \b\b/ \b\b- \b\b\\ \b\b| \b\b/ \b\b- \b\b\\ \b\b| \b\b/ \b\b- \b\b\\ \b\b| \b\b/ \b\b- \b\b\\ \b\b| \b\b/ \b\b- \b\b\\ \b\b| \b\b/ \b\b- \b\b\\ \b\b| \b\b/ \b\b- \b\b\\ \b\b| \b\b/ \b\b- \b\b\\ \b\b| \b\b/ \b\b- \b\b\\ \b\b| \b\b/ \b\b- \b\b\\ \b\b| \b\b/ \b\b- \b\b\\ \b\bdone\n",
            "Solving environment: / \b\b- \b\b\\ \b\b| \b\b/ \b\b- \b\b\\ \b\b| \b\b/ \b\b- \b\b\\ \b\b| \b\b/ \b\b- \b\b\\ \b\b| \b\b/ \b\b- \b\b\\ \b\b| \b\b/ \b\b- \b\b\\ \b\b| \b\b/ \b\b- \b\b\\ \b\b| \b\b/ \b\b- \b\b\\ \b\b| \b\b/ \b\b- \b\b\\ \b\b| \b\b/ \b\b- \b\b\\ \b\b| \b\b/ \b\b- \b\b\\ \b\b| \b\b/ \b\b- \b\b\\ \b\b| \b\b/ \b\b- \b\b\\ \b\b| \b\b/ \b\b- \b\b\\ \b\b| \b\b/ \b\b- \b\b\\ \b\b| \b\b/ \b\b- \b\b\\ \b\b| \b\b/ \b\b- \b\b\\ \b\b| \b\b/ \b\b- \b\b\\ \b\b| \b\b/ \b\b- \b\b\\ \b\b| \b\b/ \b\b- \b\b\\ \b\b| \b\b/ \b\b- \b\b\\ \b\b| \b\b/ \b\b- \b\b\\ \b\b| \b\b/ \b\b- \b\b\\ \b\b| \b\b/ \b\b- \b\b\\ \b\b| \b\b/ \b\b- \b\b\\ \b\b| \b\b/ \b\b- \b\b\\ \b\b| \b\b/ \b\b- \b\b\\ \b\b| \b\b/ \b\b- \b\b\\ \b\b| \b\b/ \b\b- \b\b\\ \b\b| \b\b/ \b\b- \b\b\\ \b\b| \b\b/ \b\b- \b\b\\ \b\b| \b\b/ \b\b- \b\b\\ \b\b| \b\b/ \b\b- \b\b\\ \b\b| \b\b/ \b\b- \b\b\\ \b\b| \b\b/ \b\b- \b\b\\ \b\b| \b\b/ \b\b- \b\b\\ \b\b| \b\b/ \b\b- \b\b\\ \b\b| \b\b/ \b\b- \b\b\\ \b\b| \b\b/ \b\b- \b\b\\ \b\b| \b\b/ \b\b- \b\b\\ \b\b| \b\b/ \b\b- \b\b\\ \b\b| \b\b/ \b\b- \b\b\\ \b\b| \b\b/ \b\b- \b\b\\ \b\b| \b\b/ \b\b- \b\b\\ \b\b| \b\b/ \b\b- \b\b\\ \b\b| \b\b/ \b\b- \b\b\\ \b\b| \b\b/ \b\b- \b\b\\ \b\b| \b\b/ \b\b- \b\b\\ \b\b| \b\b/ \b\b- \b\b\\ \b\b| \b\b/ \b\b- \b\b\\ \b\b| \b\b/ \b\b- \b\b\\ \b\b| \b\b/ \b\b- \b\b\\ \b\b| \b\b/ \b\b- \b\b\\ \b\b| \b\b/ \b\b- \b\b\\ \b\b| \b\b/ \b\b- \b\b\\ \b\b| \b\b/ \b\b- \b\b\\ \b\b| \b\b/ \b\b- \b\b\\ \b\b| \b\b/ \b\b- \b\b\\ \b\b| \b\b/ \b\b- \b\b\\ \b\bdone\n",
            "\n",
            "## Package Plan ##\n",
            "\n",
            "  environment location: /usr/local\n",
            "\n",
            "  added / updated specs:\n",
            "    - cudatoolkit=10.1\n",
            "    - cudf=0.14\n",
            "    - cugraph\n",
            "    - cuml\n",
            "    - cusignal\n",
            "    - cuspatial\n",
            "    - dask-cudf\n",
            "    - gcsfs\n",
            "    - gdal=3.0.4\n",
            "    - pynvml\n",
            "    - python=3.6\n",
            "    - xgboost=1.1.0dev.rapidsai0.14\n",
            "\n",
            "\n",
            "The following packages will be downloaded:\n",
            "\n",
            "    package                    |            build\n",
            "    ---------------------------|-----------------\n",
            "    aiohttp-3.6.2              |   py36h516909a_0         605 KB  conda-forge\n",
            "    arrow-cpp-0.15.0           |   py36h090bef1_2        18.1 MB  conda-forge\n",
            "    async-timeout-3.0.1        |          py_1000          11 KB  conda-forge\n",
            "    attrs-20.2.0               |     pyh9f0ad1d_0          41 KB  conda-forge\n",
            "    blinker-1.4                |             py_1          13 KB  conda-forge\n",
            "    bokeh-2.2.1                |   py36h9f0ad1d_0         6.9 MB  conda-forge\n",
            "    boost-1.70.0               |   py36h9de70de_1         337 KB  conda-forge\n",
            "    boost-cpp-1.70.0           |       h8e57a91_2        21.1 MB  conda-forge\n",
            "    brotli-1.0.9               |       he1b5a44_0         394 KB  conda-forge\n",
            "    bzip2-1.0.8                |       h516909a_3         398 KB  conda-forge\n",
            "    c-ares-1.16.1              |       h516909a_3         107 KB  conda-forge\n",
            "    cachetools-4.1.1           |             py_0          12 KB  conda-forge\n",
            "    cairo-1.16.0               |    hcf35c78_1003         1.5 MB  conda-forge\n",
            "    cfitsio-3.470              |       hce51eda_6         1.3 MB  conda-forge\n",
            "    click-7.1.2                |     pyh9f0ad1d_0          64 KB  conda-forge\n",
            "    cloudpickle-1.6.0          |             py_0          22 KB  conda-forge\n",
            "    contextvars-2.4            |             py_0          11 KB  conda-forge\n",
            "    cudatoolkit-10.1.243       |       h6bb024c_0       513.2 MB  nvidia\n",
            "    cudf-0.14.0                |           py36_0        25.7 MB  rapidsai/label/main\n",
            "    cudnn-7.6.0                |       cuda10.1_0       240.9 MB  nvidia\n",
            "    cugraph-0.14.0             |           py36_0         6.9 MB  rapidsai/label/main\n",
            "    cuml-0.14.0                |  cuda10.1_py36_0         9.6 MB  rapidsai/label/main\n",
            "    cupy-7.8.0                 |   py36h5c369b2_1        20.6 MB  conda-forge\n",
            "    curl-7.71.1                |       he644dc0_6         139 KB  conda-forge\n",
            "    cusignal-0.14.1            |           py36_0          87 KB  rapidsai/label/main\n",
            "    cuspatial-0.14.0           |           py36_0         3.6 MB  rapidsai/label/main\n",
            "    cytoolz-0.10.1             |   py36h516909a_0         431 KB  conda-forge\n",
            "    dask-2.27.0                |             py_0           4 KB  conda-forge\n",
            "    dask-core-2.27.0           |             py_0         636 KB  conda-forge\n",
            "    dask-cudf-0.14.0           |           py36_0          81 KB  rapidsai/label/main\n",
            "    distributed-2.27.0         |   py36h9f0ad1d_0         1.0 MB  conda-forge\n",
            "    dlpack-0.3                 |       he1b5a44_1          13 KB  conda-forge\n",
            "    double-conversion-3.1.5    |       he1b5a44_2          85 KB  conda-forge\n",
            "    expat-2.2.9                |       he1b5a44_2         191 KB  conda-forge\n",
            "    fastavro-1.0.0.post1       |   py36h8c4c3a4_0         395 KB  conda-forge\n",
            "    fastrlock-0.5              |   py36h831f99a_0          31 KB  conda-forge\n",
            "    fontconfig-2.13.1          |    h86ecdb6_1001         340 KB  conda-forge\n",
            "    freetype-2.10.2            |       he06d7ca_0         905 KB  conda-forge\n",
            "    freexl-1.0.5               |    h516909a_1002          46 KB  conda-forge\n",
            "    fsspec-0.8.2               |             py_0          63 KB  conda-forge\n",
            "    gcsfs-0.7.1                |             py_0          22 KB  conda-forge\n",
            "    gdal-3.0.4                 |  py36hd60729c_10         1.3 MB  conda-forge\n",
            "    geos-3.8.1                 |       he1b5a44_0         1.0 MB  conda-forge\n",
            "    geotiff-1.6.0              |       h05acad5_0         280 KB  conda-forge\n",
            "    gflags-2.2.2               |    he1b5a44_1004         114 KB  conda-forge\n",
            "    giflib-5.2.1               |       h516909a_2          80 KB  conda-forge\n",
            "    glib-2.65.0                |       h3eb4bd4_0         2.9 MB\n",
            "    glog-0.4.0                 |       h49b9bf7_3         104 KB  conda-forge\n",
            "    google-auth-1.21.2         |             py_0          56 KB  conda-forge\n",
            "    google-auth-oauthlib-0.4.1 |             py_2          18 KB  conda-forge\n",
            "    grpc-cpp-1.23.0            |       h18db393_0         4.5 MB  conda-forge\n",
            "    hdf4-4.2.13                |    hf30be14_1003         964 KB  conda-forge\n",
            "    hdf5-1.10.6                |nompi_h3c11f04_101         3.0 MB  conda-forge\n",
            "    heapdict-1.0.1             |             py_0           7 KB  conda-forge\n",
            "    icu-64.2                   |       he1b5a44_1        12.6 MB  conda-forge\n",
            "    idna_ssl-1.1.0             |        py36_1000           6 KB  conda-forge\n",
            "    immutables-0.14            |   py36h8c4c3a4_0          68 KB  conda-forge\n",
            "    jinja2-2.11.2              |     pyh9f0ad1d_0          93 KB  conda-forge\n",
            "    joblib-0.16.0              |             py_0         203 KB  conda-forge\n",
            "    jpeg-9d                    |       h516909a_0         266 KB  conda-forge\n",
            "    json-c-0.13.1              |    hbfbb72e_1002          76 KB  conda-forge\n",
            "    kealib-1.4.13              |       h33137a7_1         172 KB  conda-forge\n",
            "    krb5-1.17.1                |       hfafb76e_3         1.5 MB  conda-forge\n",
            "    lcms2-2.11                 |       hbd6801e_0         431 KB  conda-forge\n",
            "    libblas-3.8.0              |      17_openblas          11 KB  conda-forge\n",
            "    libcblas-3.8.0             |      17_openblas          11 KB  conda-forge\n",
            "    libcudf-0.14.0             |       cuda10.1_0       101.5 MB  rapidsai/label/main\n",
            "    libcugraph-0.14.0          |       cuda10.1_0        14.3 MB  rapidsai/label/main\n",
            "    libcuml-0.14.0             |       cuda10.1_0        42.4 MB  rapidsai/label/main\n",
            "    libcumlprims-0.14.1        |       cuda10.1_0         6.0 MB  nvidia\n",
            "    libcurl-7.71.1             |       hcdd3856_6         312 KB  conda-forge\n",
            "    libcuspatial-0.14.0        |       cuda10.1_0         3.4 MB  rapidsai/label/main\n",
            "    libdap4-3.20.6             |       h1d1bd15_1         7.9 MB  conda-forge\n",
            "    libedit-3.1.20191231       |       he28a2e2_2         121 KB  conda-forge\n",
            "    libev-4.33                 |       h516909a_1         104 KB  conda-forge\n",
            "    libevent-2.1.10            |       hcdb4288_2         1.1 MB  conda-forge\n",
            "    libgdal-3.0.4              |      he6a97d6_10        18.8 MB  conda-forge\n",
            "    libgfortran-ng-7.5.0       |      hdf63c60_16         1.3 MB  conda-forge\n",
            "    libhwloc-2.1.0             |       h3c4fd83_0         2.7 MB  conda-forge\n",
            "    libiconv-1.16              |       h516909a_0         1.4 MB  conda-forge\n",
            "    libkml-1.3.0               |    h4fcabce_1010         643 KB  conda-forge\n",
            "    liblapack-3.8.0            |      17_openblas          11 KB  conda-forge\n",
            "    libllvm9-9.0.1             |       he513fc3_1        25.1 MB  conda-forge\n",
            "    libnetcdf-4.7.4            |nompi_h84807e1_105         1.3 MB  conda-forge\n",
            "    libnghttp2-1.41.0          |       h8cfc5f6_2         774 KB  conda-forge\n",
            "    libnvstrings-0.14.0        |       cuda10.1_0        30.1 MB  rapidsai/label/main\n",
            "    libopenblas-0.3.10         |pthreads_hb3c22a3_4         7.8 MB  conda-forge\n",
            "    libpng-1.6.37              |       hed695b0_2         359 KB  conda-forge\n",
            "    libpq-12.3                 |       h5513abc_0         2.6 MB  conda-forge\n",
            "    libprotobuf-3.8.0          |       h8b12597_0         4.7 MB  conda-forge\n",
            "    librmm-0.14.0              |       cuda10.1_0         189 KB  rapidsai/label/main\n",
            "    libspatialite-4.3.0a       |    h2482549_1038         3.1 MB  conda-forge\n",
            "    libssh2-1.9.0              |       hab1572f_5         225 KB  conda-forge\n",
            "    libtiff-4.1.0              |       hc7e4089_6         668 KB  conda-forge\n",
            "    libuuid-2.32.1             |    h14c3975_1000          26 KB  conda-forge\n",
            "    libwebp-base-1.1.0         |       h516909a_3         845 KB  conda-forge\n",
            "    libxcb-1.13                |    h14c3975_1002         396 KB  conda-forge\n",
            "    libxgboost-1.1.0dev.rapidsai0.14|       cuda10.1_0        31.1 MB  rapidsai/label/main\n",
            "    libxml2-2.9.10             |       hee79883_0         1.3 MB  conda-forge\n",
            "    llvmlite-0.33.0            |   py36hfa65bc7_1         329 KB  conda-forge\n",
            "    locket-0.2.0               |             py_2           6 KB  conda-forge\n",
            "    lz4-c-1.8.3                |    he1b5a44_1001         187 KB  conda-forge\n",
            "    markupsafe-1.1.1           |   py36h8c4c3a4_1          26 KB  conda-forge\n",
            "    msgpack-python-1.0.0       |   py36hdb11119_1          91 KB  conda-forge\n",
            "    multidict-4.7.5            |   py36h8c4c3a4_1          69 KB  conda-forge\n",
            "    nccl-2.5.7.1               |       h51cf6c1_0        98.4 MB  conda-forge\n",
            "    numba-0.50.1               |   py36h0573a6f_1         3.1 MB\n",
            "    numpy-1.19.1               |   py36h3849536_2         5.2 MB  conda-forge\n",
            "    nvstrings-0.14.0           |           py36_0         129 KB  rapidsai/label/main\n",
            "    oauthlib-3.0.1             |             py_0          82 KB  conda-forge\n",
            "    olefile-0.46               |             py_0          31 KB  conda-forge\n",
            "    openjpeg-2.3.1             |       h981e76c_3         475 KB  conda-forge\n",
            "    packaging-20.4             |     pyh9f0ad1d_0          32 KB  conda-forge\n",
            "    pandas-0.25.3              |   py36hb3f55d8_0        11.4 MB  conda-forge\n",
            "    parquet-cpp-1.5.1          |                2           3 KB  conda-forge\n",
            "    partd-1.1.0                |             py_0          17 KB  conda-forge\n",
            "    pcre-8.44                  |       he1b5a44_0         261 KB  conda-forge\n",
            "    pillow-7.2.0               |   py36h8328e55_1         670 KB  conda-forge\n",
            "    pixman-0.38.0              |    h516909a_1003         594 KB  conda-forge\n",
            "    poppler-0.87.0             |       h4190859_1        12.9 MB  conda-forge\n",
            "    poppler-data-0.4.9         |                1         3.4 MB  conda-forge\n",
            "    postgresql-12.3            |       h8573dbc_0         5.0 MB  conda-forge\n",
            "    proj-7.0.0                 |       h966b41f_5         3.7 MB  conda-forge\n",
            "    psutil-5.7.2               |   py36h8c4c3a4_0         336 KB  conda-forge\n",
            "    pthread-stubs-0.4          |    h14c3975_1001           5 KB  conda-forge\n",
            "    py-xgboost-1.1.0dev.rapidsai0.14|   cuda10.1py36_0         106 KB  rapidsai/label/main\n",
            "    pyarrow-0.15.0             |   py36h8b68381_1         3.2 MB  conda-forge\n",
            "    pyasn1-0.4.8               |             py_0          53 KB  conda-forge\n",
            "    pyasn1-modules-0.2.7       |             py_0          60 KB  conda-forge\n",
            "    pyjwt-1.7.1                |             py_0          17 KB  conda-forge\n",
            "    pynvml-8.0.4               |             py_1          31 KB  conda-forge\n",
            "    pyparsing-2.4.7            |     pyh9f0ad1d_0          60 KB  conda-forge\n",
            "    python-dateutil-2.8.1      |             py_0         220 KB  conda-forge\n",
            "    pytz-2020.1                |     pyh9f0ad1d_0         227 KB  conda-forge\n",
            "    pyyaml-5.3.1               |   py36h8c4c3a4_0         186 KB  conda-forge\n",
            "    re2-2020.04.01             |       he1b5a44_0         438 KB  conda-forge\n",
            "    requests-oauthlib-1.3.0    |     pyh9f0ad1d_0          21 KB  conda-forge\n",
            "    rmm-0.14.0                 |           py36_0         684 KB  rapidsai/label/main\n",
            "    rsa-4.6                    |     pyh9f0ad1d_0          27 KB  conda-forge\n",
            "    scikit-learn-0.23.2        |   py36hfb379a7_0         6.8 MB  conda-forge\n",
            "    scipy-1.4.1                |   py36h2d22cac_3        18.9 MB  conda-forge\n",
            "    snappy-1.1.8               |       he1b5a44_3          32 KB  conda-forge\n",
            "    sortedcontainers-2.2.2     |     pyh9f0ad1d_0          25 KB  conda-forge\n",
            "    spdlog-1.8.0               |       hc9558a2_0         316 KB  conda-forge\n",
            "    tbb-2018.0.5               |       h2d50403_0         1.1 MB  conda-forge\n",
            "    tblib-1.6.0                |             py_0          14 KB  conda-forge\n",
            "    threadpoolctl-2.1.0        |     pyh5ca1d4c_0          15 KB  conda-forge\n",
            "    thrift-cpp-0.12.0          |    hf3afdfd_1004         2.4 MB  conda-forge\n",
            "    tiledb-1.7.7               |       hcde45ca_0         2.0 MB  conda-forge\n",
            "    toolz-0.10.0               |             py_0          46 KB  conda-forge\n",
            "    tornado-6.0.4              |   py36h8c4c3a4_1         639 KB  conda-forge\n",
            "    typing_extensions-3.7.4.2  |             py_0          25 KB  conda-forge\n",
            "    tzcode-2020a               |       h516909a_0         425 KB  conda-forge\n",
            "    ucx-1.8.0+gf6ec8d4         |      cuda10.1_20         8.9 MB  rapidsai/label/main\n",
            "    ucx-py-0.14.0+gf6ec8d4     |           py36_0         137 KB  rapidsai/label/main\n",
            "    uriparser-0.9.3            |       he1b5a44_1          49 KB  conda-forge\n",
            "    xerces-c-3.2.2             |    h8412b87_1004         1.7 MB  conda-forge\n",
            "    xgboost-1.1.0dev.rapidsai0.14|   cuda10.1py36_0          12 KB  rapidsai/label/main\n",
            "    xorg-kbproto-1.0.7         |    h14c3975_1002          26 KB  conda-forge\n",
            "    xorg-libice-1.0.10         |       h516909a_0          57 KB  conda-forge\n",
            "    xorg-libsm-1.2.3           |    h84519dc_1000          25 KB  conda-forge\n",
            "    xorg-libx11-1.6.12         |       h516909a_0         917 KB  conda-forge\n",
            "    xorg-libxau-1.0.9          |       h14c3975_0          13 KB  conda-forge\n",
            "    xorg-libxdmcp-1.1.3        |       h516909a_0          18 KB  conda-forge\n",
            "    xorg-libxext-1.3.4         |       h516909a_0          51 KB  conda-forge\n",
            "    xorg-libxrender-0.9.10     |    h516909a_1002          31 KB  conda-forge\n",
            "    xorg-renderproto-0.11.1    |    h14c3975_1002           8 KB  conda-forge\n",
            "    xorg-xextproto-7.3.0       |    h14c3975_1002          27 KB  conda-forge\n",
            "    xorg-xproto-7.0.31         |    h14c3975_1007          72 KB  conda-forge\n",
            "    yarl-1.4.2                 |   py36h516909a_0         135 KB  conda-forge\n",
            "    zict-2.0.0                 |             py_0          10 KB  conda-forge\n",
            "    zstd-1.4.4                 |       h3b9ef0a_2         982 KB  conda-forge\n",
            "    ------------------------------------------------------------\n",
            "                                           Total:        1.38 GB\n",
            "\n",
            "The following NEW packages will be INSTALLED:\n",
            "\n",
            "  aiohttp            conda-forge/linux-64::aiohttp-3.6.2-py36h516909a_0\n",
            "  arrow-cpp          conda-forge/linux-64::arrow-cpp-0.15.0-py36h090bef1_2\n",
            "  async-timeout      conda-forge/noarch::async-timeout-3.0.1-py_1000\n",
            "  attrs              conda-forge/noarch::attrs-20.2.0-pyh9f0ad1d_0\n",
            "  blinker            conda-forge/noarch::blinker-1.4-py_1\n",
            "  bokeh              conda-forge/linux-64::bokeh-2.2.1-py36h9f0ad1d_0\n",
            "  boost              conda-forge/linux-64::boost-1.70.0-py36h9de70de_1\n",
            "  boost-cpp          conda-forge/linux-64::boost-cpp-1.70.0-h8e57a91_2\n",
            "  brotli             conda-forge/linux-64::brotli-1.0.9-he1b5a44_0\n",
            "  bzip2              conda-forge/linux-64::bzip2-1.0.8-h516909a_3\n",
            "  c-ares             conda-forge/linux-64::c-ares-1.16.1-h516909a_3\n",
            "  cachetools         conda-forge/noarch::cachetools-4.1.1-py_0\n",
            "  cairo              conda-forge/linux-64::cairo-1.16.0-hcf35c78_1003\n",
            "  cfitsio            conda-forge/linux-64::cfitsio-3.470-hce51eda_6\n",
            "  click              conda-forge/noarch::click-7.1.2-pyh9f0ad1d_0\n",
            "  cloudpickle        conda-forge/noarch::cloudpickle-1.6.0-py_0\n",
            "  contextvars        conda-forge/noarch::contextvars-2.4-py_0\n",
            "  cudatoolkit        nvidia/linux-64::cudatoolkit-10.1.243-h6bb024c_0\n",
            "  cudf               rapidsai/label/main/linux-64::cudf-0.14.0-py36_0\n",
            "  cudnn              nvidia/linux-64::cudnn-7.6.0-cuda10.1_0\n",
            "  cugraph            rapidsai/label/main/linux-64::cugraph-0.14.0-py36_0\n",
            "  cuml               rapidsai/label/main/linux-64::cuml-0.14.0-cuda10.1_py36_0\n",
            "  cupy               conda-forge/linux-64::cupy-7.8.0-py36h5c369b2_1\n",
            "  curl               conda-forge/linux-64::curl-7.71.1-he644dc0_6\n",
            "  cusignal           rapidsai/label/main/noarch::cusignal-0.14.1-py36_0\n",
            "  cuspatial          rapidsai/label/main/linux-64::cuspatial-0.14.0-py36_0\n",
            "  cytoolz            conda-forge/linux-64::cytoolz-0.10.1-py36h516909a_0\n",
            "  dask               conda-forge/noarch::dask-2.27.0-py_0\n",
            "  dask-core          conda-forge/noarch::dask-core-2.27.0-py_0\n",
            "  dask-cudf          rapidsai/label/main/linux-64::dask-cudf-0.14.0-py36_0\n",
            "  distributed        conda-forge/linux-64::distributed-2.27.0-py36h9f0ad1d_0\n",
            "  dlpack             conda-forge/linux-64::dlpack-0.3-he1b5a44_1\n",
            "  double-conversion  conda-forge/linux-64::double-conversion-3.1.5-he1b5a44_2\n",
            "  expat              conda-forge/linux-64::expat-2.2.9-he1b5a44_2\n",
            "  fastavro           conda-forge/linux-64::fastavro-1.0.0.post1-py36h8c4c3a4_0\n",
            "  fastrlock          conda-forge/linux-64::fastrlock-0.5-py36h831f99a_0\n",
            "  fontconfig         conda-forge/linux-64::fontconfig-2.13.1-h86ecdb6_1001\n",
            "  freetype           conda-forge/linux-64::freetype-2.10.2-he06d7ca_0\n",
            "  freexl             conda-forge/linux-64::freexl-1.0.5-h516909a_1002\n",
            "  fsspec             conda-forge/noarch::fsspec-0.8.2-py_0\n",
            "  gcsfs              conda-forge/noarch::gcsfs-0.7.1-py_0\n",
            "  gdal               conda-forge/linux-64::gdal-3.0.4-py36hd60729c_10\n",
            "  geos               conda-forge/linux-64::geos-3.8.1-he1b5a44_0\n",
            "  geotiff            conda-forge/linux-64::geotiff-1.6.0-h05acad5_0\n",
            "  gflags             conda-forge/linux-64::gflags-2.2.2-he1b5a44_1004\n",
            "  giflib             conda-forge/linux-64::giflib-5.2.1-h516909a_2\n",
            "  glib               pkgs/main/linux-64::glib-2.65.0-h3eb4bd4_0\n",
            "  glog               conda-forge/linux-64::glog-0.4.0-h49b9bf7_3\n",
            "  google-auth        conda-forge/noarch::google-auth-1.21.2-py_0\n",
            "  google-auth-oauth~ conda-forge/noarch::google-auth-oauthlib-0.4.1-py_2\n",
            "  grpc-cpp           conda-forge/linux-64::grpc-cpp-1.23.0-h18db393_0\n",
            "  hdf4               conda-forge/linux-64::hdf4-4.2.13-hf30be14_1003\n",
            "  hdf5               conda-forge/linux-64::hdf5-1.10.6-nompi_h3c11f04_101\n",
            "  heapdict           conda-forge/noarch::heapdict-1.0.1-py_0\n",
            "  icu                conda-forge/linux-64::icu-64.2-he1b5a44_1\n",
            "  idna_ssl           conda-forge/linux-64::idna_ssl-1.1.0-py36_1000\n",
            "  immutables         conda-forge/linux-64::immutables-0.14-py36h8c4c3a4_0\n",
            "  jinja2             conda-forge/noarch::jinja2-2.11.2-pyh9f0ad1d_0\n",
            "  joblib             conda-forge/noarch::joblib-0.16.0-py_0\n",
            "  jpeg               conda-forge/linux-64::jpeg-9d-h516909a_0\n",
            "  json-c             conda-forge/linux-64::json-c-0.13.1-hbfbb72e_1002\n",
            "  kealib             conda-forge/linux-64::kealib-1.4.13-h33137a7_1\n",
            "  krb5               conda-forge/linux-64::krb5-1.17.1-hfafb76e_3\n",
            "  lcms2              conda-forge/linux-64::lcms2-2.11-hbd6801e_0\n",
            "  libblas            conda-forge/linux-64::libblas-3.8.0-17_openblas\n",
            "  libcblas           conda-forge/linux-64::libcblas-3.8.0-17_openblas\n",
            "  libcudf            rapidsai/label/main/linux-64::libcudf-0.14.0-cuda10.1_0\n",
            "  libcugraph         rapidsai/label/main/linux-64::libcugraph-0.14.0-cuda10.1_0\n",
            "  libcuml            rapidsai/label/main/linux-64::libcuml-0.14.0-cuda10.1_0\n",
            "  libcumlprims       nvidia/linux-64::libcumlprims-0.14.1-cuda10.1_0\n",
            "  libcurl            conda-forge/linux-64::libcurl-7.71.1-hcdd3856_6\n",
            "  libcuspatial       rapidsai/label/main/linux-64::libcuspatial-0.14.0-cuda10.1_0\n",
            "  libdap4            conda-forge/linux-64::libdap4-3.20.6-h1d1bd15_1\n",
            "  libedit            conda-forge/linux-64::libedit-3.1.20191231-he28a2e2_2\n",
            "  libev              conda-forge/linux-64::libev-4.33-h516909a_1\n",
            "  libevent           conda-forge/linux-64::libevent-2.1.10-hcdb4288_2\n",
            "  libgdal            conda-forge/linux-64::libgdal-3.0.4-he6a97d6_10\n",
            "  libgfortran-ng     conda-forge/linux-64::libgfortran-ng-7.5.0-hdf63c60_16\n",
            "  libhwloc           conda-forge/linux-64::libhwloc-2.1.0-h3c4fd83_0\n",
            "  libiconv           conda-forge/linux-64::libiconv-1.16-h516909a_0\n",
            "  libkml             conda-forge/linux-64::libkml-1.3.0-h4fcabce_1010\n",
            "  liblapack          conda-forge/linux-64::liblapack-3.8.0-17_openblas\n",
            "  libllvm9           conda-forge/linux-64::libllvm9-9.0.1-he513fc3_1\n",
            "  libnetcdf          conda-forge/linux-64::libnetcdf-4.7.4-nompi_h84807e1_105\n",
            "  libnghttp2         conda-forge/linux-64::libnghttp2-1.41.0-h8cfc5f6_2\n",
            "  libnvstrings       rapidsai/label/main/linux-64::libnvstrings-0.14.0-cuda10.1_0\n",
            "  libopenblas        conda-forge/linux-64::libopenblas-0.3.10-pthreads_hb3c22a3_4\n",
            "  libpng             conda-forge/linux-64::libpng-1.6.37-hed695b0_2\n",
            "  libpq              conda-forge/linux-64::libpq-12.3-h5513abc_0\n",
            "  libprotobuf        conda-forge/linux-64::libprotobuf-3.8.0-h8b12597_0\n",
            "  librmm             rapidsai/label/main/linux-64::librmm-0.14.0-cuda10.1_0\n",
            "  libspatialite      conda-forge/linux-64::libspatialite-4.3.0a-h2482549_1038\n",
            "  libssh2            conda-forge/linux-64::libssh2-1.9.0-hab1572f_5\n",
            "  libtiff            conda-forge/linux-64::libtiff-4.1.0-hc7e4089_6\n",
            "  libuuid            conda-forge/linux-64::libuuid-2.32.1-h14c3975_1000\n",
            "  libwebp-base       conda-forge/linux-64::libwebp-base-1.1.0-h516909a_3\n",
            "  libxcb             conda-forge/linux-64::libxcb-1.13-h14c3975_1002\n",
            "  libxgboost         rapidsai/label/main/linux-64::libxgboost-1.1.0dev.rapidsai0.14-cuda10.1_0\n",
            "  libxml2            conda-forge/linux-64::libxml2-2.9.10-hee79883_0\n",
            "  llvmlite           conda-forge/linux-64::llvmlite-0.33.0-py36hfa65bc7_1\n",
            "  locket             conda-forge/noarch::locket-0.2.0-py_2\n",
            "  lz4-c              conda-forge/linux-64::lz4-c-1.8.3-he1b5a44_1001\n",
            "  markupsafe         conda-forge/linux-64::markupsafe-1.1.1-py36h8c4c3a4_1\n",
            "  msgpack-python     conda-forge/linux-64::msgpack-python-1.0.0-py36hdb11119_1\n",
            "  multidict          conda-forge/linux-64::multidict-4.7.5-py36h8c4c3a4_1\n",
            "  nccl               conda-forge/linux-64::nccl-2.5.7.1-h51cf6c1_0\n",
            "  numba              pkgs/main/linux-64::numba-0.50.1-py36h0573a6f_1\n",
            "  numpy              conda-forge/linux-64::numpy-1.19.1-py36h3849536_2\n",
            "  nvstrings          rapidsai/label/main/linux-64::nvstrings-0.14.0-py36_0\n",
            "  oauthlib           conda-forge/noarch::oauthlib-3.0.1-py_0\n",
            "  olefile            conda-forge/noarch::olefile-0.46-py_0\n",
            "  openjpeg           conda-forge/linux-64::openjpeg-2.3.1-h981e76c_3\n",
            "  packaging          conda-forge/noarch::packaging-20.4-pyh9f0ad1d_0\n",
            "  pandas             conda-forge/linux-64::pandas-0.25.3-py36hb3f55d8_0\n",
            "  parquet-cpp        conda-forge/noarch::parquet-cpp-1.5.1-2\n",
            "  partd              conda-forge/noarch::partd-1.1.0-py_0\n",
            "  pcre               conda-forge/linux-64::pcre-8.44-he1b5a44_0\n",
            "  pillow             conda-forge/linux-64::pillow-7.2.0-py36h8328e55_1\n",
            "  pixman             conda-forge/linux-64::pixman-0.38.0-h516909a_1003\n",
            "  poppler            conda-forge/linux-64::poppler-0.87.0-h4190859_1\n",
            "  poppler-data       conda-forge/noarch::poppler-data-0.4.9-1\n",
            "  postgresql         conda-forge/linux-64::postgresql-12.3-h8573dbc_0\n",
            "  proj               conda-forge/linux-64::proj-7.0.0-h966b41f_5\n",
            "  psutil             conda-forge/linux-64::psutil-5.7.2-py36h8c4c3a4_0\n",
            "  pthread-stubs      conda-forge/linux-64::pthread-stubs-0.4-h14c3975_1001\n",
            "  py-xgboost         rapidsai/label/main/linux-64::py-xgboost-1.1.0dev.rapidsai0.14-cuda10.1py36_0\n",
            "  pyarrow            conda-forge/linux-64::pyarrow-0.15.0-py36h8b68381_1\n",
            "  pyasn1             conda-forge/noarch::pyasn1-0.4.8-py_0\n",
            "  pyasn1-modules     conda-forge/noarch::pyasn1-modules-0.2.7-py_0\n",
            "  pyjwt              conda-forge/noarch::pyjwt-1.7.1-py_0\n",
            "  pynvml             conda-forge/noarch::pynvml-8.0.4-py_1\n",
            "  pyparsing          conda-forge/noarch::pyparsing-2.4.7-pyh9f0ad1d_0\n",
            "  python-dateutil    conda-forge/noarch::python-dateutil-2.8.1-py_0\n",
            "  pytz               conda-forge/noarch::pytz-2020.1-pyh9f0ad1d_0\n",
            "  pyyaml             conda-forge/linux-64::pyyaml-5.3.1-py36h8c4c3a4_0\n",
            "  re2                conda-forge/linux-64::re2-2020.04.01-he1b5a44_0\n",
            "  requests-oauthlib  conda-forge/noarch::requests-oauthlib-1.3.0-pyh9f0ad1d_0\n",
            "  rmm                rapidsai/label/main/linux-64::rmm-0.14.0-py36_0\n",
            "  rsa                conda-forge/noarch::rsa-4.6-pyh9f0ad1d_0\n",
            "  scikit-learn       conda-forge/linux-64::scikit-learn-0.23.2-py36hfb379a7_0\n",
            "  scipy              conda-forge/linux-64::scipy-1.4.1-py36h2d22cac_3\n",
            "  snappy             conda-forge/linux-64::snappy-1.1.8-he1b5a44_3\n",
            "  sortedcontainers   conda-forge/noarch::sortedcontainers-2.2.2-pyh9f0ad1d_0\n",
            "  spdlog             conda-forge/linux-64::spdlog-1.8.0-hc9558a2_0\n",
            "  tbb                conda-forge/linux-64::tbb-2018.0.5-h2d50403_0\n",
            "  tblib              conda-forge/noarch::tblib-1.6.0-py_0\n",
            "  threadpoolctl      conda-forge/noarch::threadpoolctl-2.1.0-pyh5ca1d4c_0\n",
            "  thrift-cpp         conda-forge/linux-64::thrift-cpp-0.12.0-hf3afdfd_1004\n",
            "  tiledb             conda-forge/linux-64::tiledb-1.7.7-hcde45ca_0\n",
            "  toolz              conda-forge/noarch::toolz-0.10.0-py_0\n",
            "  tornado            conda-forge/linux-64::tornado-6.0.4-py36h8c4c3a4_1\n",
            "  typing_extensions  conda-forge/noarch::typing_extensions-3.7.4.2-py_0\n",
            "  tzcode             conda-forge/linux-64::tzcode-2020a-h516909a_0\n",
            "  ucx                rapidsai/label/main/linux-64::ucx-1.8.0+gf6ec8d4-cuda10.1_20\n",
            "  ucx-py             rapidsai/label/main/linux-64::ucx-py-0.14.0+gf6ec8d4-py36_0\n",
            "  uriparser          conda-forge/linux-64::uriparser-0.9.3-he1b5a44_1\n",
            "  xerces-c           conda-forge/linux-64::xerces-c-3.2.2-h8412b87_1004\n",
            "  xgboost            rapidsai/label/main/linux-64::xgboost-1.1.0dev.rapidsai0.14-cuda10.1py36_0\n",
            "  xorg-kbproto       conda-forge/linux-64::xorg-kbproto-1.0.7-h14c3975_1002\n",
            "  xorg-libice        conda-forge/linux-64::xorg-libice-1.0.10-h516909a_0\n",
            "  xorg-libsm         conda-forge/linux-64::xorg-libsm-1.2.3-h84519dc_1000\n",
            "  xorg-libx11        conda-forge/linux-64::xorg-libx11-1.6.12-h516909a_0\n",
            "  xorg-libxau        conda-forge/linux-64::xorg-libxau-1.0.9-h14c3975_0\n",
            "  xorg-libxdmcp      conda-forge/linux-64::xorg-libxdmcp-1.1.3-h516909a_0\n",
            "  xorg-libxext       conda-forge/linux-64::xorg-libxext-1.3.4-h516909a_0\n",
            "  xorg-libxrender    conda-forge/linux-64::xorg-libxrender-0.9.10-h516909a_1002\n",
            "  xorg-renderproto   conda-forge/linux-64::xorg-renderproto-0.11.1-h14c3975_1002\n",
            "  xorg-xextproto     conda-forge/linux-64::xorg-xextproto-7.3.0-h14c3975_1002\n",
            "  xorg-xproto        conda-forge/linux-64::xorg-xproto-7.0.31-h14c3975_1007\n",
            "  yarl               conda-forge/linux-64::yarl-1.4.2-py36h516909a_0\n",
            "  zict               conda-forge/noarch::zict-2.0.0-py_0\n",
            "  zstd               conda-forge/linux-64::zstd-1.4.4-h3b9ef0a_2\n",
            "\n",
            "\n",
            "\n",
            "Downloading and Extracting Packages\n",
            "hdf4-4.2.13          | 964 KB    | : 100% 1.0/1 [00:00<00:00,  4.09it/s]\n",
            "fastrlock-0.5        | 31 KB     | : 100% 1.0/1 [00:00<00:00, 20.64it/s]\n",
            "libgdal-3.0.4        | 18.8 MB   | : 100% 1.0/1 [00:03<00:00,  3.22s/it]\n",
            "json-c-0.13.1        | 76 KB     | : 100% 1.0/1 [00:00<00:00, 24.88it/s]\n",
            "pillow-7.2.0         | 670 KB    | : 100% 1.0/1 [00:00<00:00,  5.81it/s]\n",
            "libxcb-1.13          | 396 KB    | : 100% 1.0/1 [00:00<00:00,  7.35it/s]\n",
            "tiledb-1.7.7         | 2.0 MB    | : 100% 1.0/1 [00:00<00:00,  2.01it/s]\n",
            "xorg-libsm-1.2.3     | 25 KB     | : 100% 1.0/1 [00:00<00:00, 34.90it/s]\n",
            "libkml-1.3.0         | 643 KB    | : 100% 1.0/1 [00:00<00:00,  6.44it/s]\n",
            "blinker-1.4          | 13 KB     | : 100% 1.0/1 [00:00<00:00, 42.47it/s]\n",
            "cytoolz-0.10.1       | 431 KB    | : 100% 1.0/1 [00:00<00:00,  9.82it/s]\n",
            "double-conversion-3. | 85 KB     | : 100% 1.0/1 [00:00<00:00, 24.67it/s]\n",
            "kealib-1.4.13        | 172 KB    | : 100% 1.0/1 [00:00<00:00, 17.89it/s]\n",
            "cfitsio-3.470        | 1.3 MB    | : 100% 1.0/1 [00:00<00:00,  3.89it/s]\n",
            "snappy-1.1.8         | 32 KB     | : 100% 1.0/1 [00:00<00:00, 29.82it/s]\n",
            "lcms2-2.11           | 431 KB    | : 100% 1.0/1 [00:00<00:00, 10.79it/s]\n",
            "postgresql-12.3      | 5.0 MB    | : 100% 1.0/1 [00:00<00:00,  1.21it/s]\n",
            "xorg-libxau-1.0.9    | 13 KB     | : 100% 1.0/1 [00:00<00:00, 36.08it/s]\n",
            "python-dateutil-2.8. | 220 KB    | : 100% 1.0/1 [00:00<00:00, 18.08it/s]\n",
            "re2-2020.04.01       | 438 KB    | : 100% 1.0/1 [00:00<00:00, 10.28it/s]\n",
            "rsa-4.6              | 27 KB     | : 100% 1.0/1 [00:00<00:00, 36.55it/s]\n",
            "tbb-2018.0.5         | 1.1 MB    | : 100% 1.0/1 [00:00<00:00,  5.02it/s]\n",
            "libwebp-base-1.1.0   | 845 KB    | : 100% 1.0/1 [00:00<00:00,  5.84it/s]\n",
            "libuuid-2.32.1       | 26 KB     | : 100% 1.0/1 [00:00<00:00, 38.61it/s]\n",
            "click-7.1.2          | 64 KB     | : 100% 1.0/1 [00:00<00:00, 29.40it/s]\n",
            "cudf-0.14.0          | 25.7 MB   | : 100% 1.0/1 [00:08<00:00,  8.74s/it]\n",
            "pyyaml-5.3.1         | 186 KB    | : 100% 1.0/1 [00:00<00:00, 17.54it/s]\n",
            "c-ares-1.16.1        | 107 KB    | : 100% 1.0/1 [00:00<00:00,  9.56it/s]\n",
            "tblib-1.6.0          | 14 KB     | : 100% 1.0/1 [00:00<00:00, 31.06it/s]\n",
            "boost-cpp-1.70.0     | 21.1 MB   | : 100% 1.0/1 [00:06<00:00,  6.80s/it]               \n",
            "gcsfs-0.7.1          | 22 KB     | : 100% 1.0/1 [00:00<00:00, 32.02it/s]\n",
            "openjpeg-2.3.1       | 475 KB    | : 100% 1.0/1 [00:00<00:00,  9.12it/s]\n",
            "xorg-xproto-7.0.31   | 72 KB     | : 100% 1.0/1 [00:00<00:00, 22.59it/s]\n",
            "brotli-1.0.9         | 394 KB    | : 100% 1.0/1 [00:00<00:00, 11.83it/s]\n",
            "cuml-0.14.0          | 9.6 MB    | : 100% 1.0/1 [00:05<00:00,  5.11s/it]\n",
            "gdal-3.0.4           | 1.3 MB    | : 100% 1.0/1 [00:00<00:00,  4.18it/s]\n",
            "libgfortran-ng-7.5.0 | 1.3 MB    | : 100% 1.0/1 [00:00<00:00,  3.81it/s]\n",
            "geos-3.8.1           | 1.0 MB    | : 100% 1.0/1 [00:00<00:00,  4.08it/s]\n",
            "idna_ssl-1.1.0       | 6 KB      | : 100% 1.0/1 [00:00<00:00, 38.91it/s]\n",
            "libtiff-4.1.0        | 668 KB    | : 100% 1.0/1 [00:00<00:00,  7.93it/s]\n",
            "libspatialite-4.3.0a | 3.1 MB    | : 100% 1.0/1 [00:00<00:00,  1.78it/s]\n",
            "libhwloc-2.1.0       | 2.7 MB    | : 100% 1.0/1 [00:00<00:00,  2.73it/s]\n",
            "py-xgboost-1.1.0dev. | 106 KB    | : 100% 1.0/1 [00:01<00:00,  1.22s/it]                \n",
            "jinja2-2.11.2        | 93 KB     | : 100% 1.0/1 [00:00<00:00, 21.27it/s]\n",
            "xgboost-1.1.0dev.rap | 12 KB     | : 100% 1.0/1 [00:01<00:00,  1.05s/it]\n",
            "pandas-0.25.3        | 11.4 MB   | : 100% 1.0/1 [00:02<00:00,  2.24s/it]\n",
            "tzcode-2020a         | 425 KB    | : 100% 1.0/1 [00:00<00:00,  5.24it/s]\n",
            "dask-2.27.0          | 4 KB      | : 100% 1.0/1 [00:00<00:00, 41.82it/s]\n",
            "typing_extensions-3. | 25 KB     | : 100% 1.0/1 [00:00<00:00, 35.32it/s]\n",
            "cupy-7.8.0           | 20.6 MB   | : 100% 1.0/1 [00:03<00:00,  3.21s/it]\n",
            "libblas-3.8.0        | 11 KB     | : 100% 1.0/1 [00:00<00:00, 38.61it/s]\n",
            "pyasn1-modules-0.2.7 | 60 KB     | : 100% 1.0/1 [00:00<00:00, 21.24it/s]\n",
            "numpy-1.19.1         | 5.2 MB    | : 100% 1.0/1 [00:01<00:00,  1.01s/it]\n",
            "distributed-2.27.0   | 1.0 MB    | : 100% 1.0/1 [00:00<00:00,  3.80it/s]\n",
            "glog-0.4.0           | 104 KB    | : 100% 1.0/1 [00:00<00:00, 26.61it/s]\n",
            "xorg-libxext-1.3.4   | 51 KB     | : 100% 1.0/1 [00:00<00:00, 31.13it/s]\n",
            "joblib-0.16.0        | 203 KB    | : 100% 1.0/1 [00:00<00:00, 13.68it/s]\n",
            "pyjwt-1.7.1          | 17 KB     | : 100% 1.0/1 [00:00<00:00, 35.67it/s]\n",
            "libcumlprims-0.14.1  | 6.0 MB    | : 100% 1.0/1 [00:02<00:00,  2.29s/it]\n",
            "libcblas-3.8.0       | 11 KB     | : 100% 1.0/1 [00:00<00:00, 39.79it/s]\n",
            "libnvstrings-0.14.0  | 30.1 MB   | : 100% 1.0/1 [00:11<00:00, 11.38s/it]               \n",
            "libpq-12.3           | 2.6 MB    | : 100% 1.0/1 [00:00<00:00,  1.87it/s]\n",
            "pixman-0.38.0        | 594 KB    | : 100% 1.0/1 [00:00<00:00,  8.91it/s]\n",
            "libcuspatial-0.14.0  | 3.4 MB    | : 100% 1.0/1 [00:03<00:00,  3.07s/it]\n",
            "expat-2.2.9          | 191 KB    | : 100% 1.0/1 [00:00<00:00, 16.89it/s]\n",
            "cuspatial-0.14.0     | 3.6 MB    | : 100% 1.0/1 [00:01<00:00,  1.27s/it]\n",
            "giflib-5.2.1         | 80 KB     | : 100% 1.0/1 [00:00<00:00, 27.29it/s]\n",
            "lz4-c-1.8.3          | 187 KB    | : 100% 1.0/1 [00:00<00:00, 16.11it/s]\n",
            "libedit-3.1.20191231 | 121 KB    | : 100% 1.0/1 [00:00<00:00, 22.83it/s]\n",
            "xorg-libxdmcp-1.1.3  | 18 KB     | : 100% 1.0/1 [00:00<00:00, 31.15it/s]\n",
            "pynvml-8.0.4         | 31 KB     | : 100% 1.0/1 [00:00<00:00, 36.00it/s]\n",
            "nvstrings-0.14.0     | 129 KB    | : 100% 1.0/1 [00:01<00:00,  1.12s/it]                \n",
            "libllvm9-9.0.1       | 25.1 MB   | : 100% 1.0/1 [00:04<00:00,  4.13s/it]               \n",
            "zstd-1.4.4           | 982 KB    | : 100% 1.0/1 [00:00<00:00,  5.63it/s]\n",
            "dlpack-0.3           | 13 KB     | : 100% 1.0/1 [00:00<00:00, 35.78it/s]\n",
            "nccl-2.5.7.1         | 98.4 MB   | : 100% 1.0/1 [00:12<00:00, 12.75s/it]\n",
            "xorg-libxrender-0.9. | 31 KB     | : 100% 1.0/1 [00:00<00:00, 29.75it/s]\n",
            "threadpoolctl-2.1.0  | 15 KB     | : 100% 1.0/1 [00:00<00:00, 41.50it/s]\n",
            "llvmlite-0.33.0      | 329 KB    | : 100% 1.0/1 [00:00<00:00, 11.97it/s]\n",
            "thrift-cpp-0.12.0    | 2.4 MB    | : 100% 1.0/1 [00:00<00:00,  2.25it/s]\n",
            "libev-4.33           | 104 KB    | : 100% 1.0/1 [00:00<00:00, 22.36it/s]\n",
            "cairo-1.16.0         | 1.5 MB    | : 100% 1.0/1 [00:00<00:00,  3.22it/s]\n",
            "heapdict-1.0.1       | 7 KB      | : 100% 1.0/1 [00:00<00:00, 37.40it/s]\n",
            "cugraph-0.14.0       | 6.9 MB    | : 100% 1.0/1 [00:04<00:00,  4.40s/it]\n",
            "pyarrow-0.15.0       | 3.2 MB    | : 100% 1.0/1 [00:00<00:00,  1.14it/s]\n",
            "numba-0.50.1         | 3.1 MB    | : 100% 1.0/1 [00:00<00:00,  2.37it/s]               \n",
            "proj-7.0.0           | 3.7 MB    | : 100% 1.0/1 [00:00<00:00,  1.39it/s]\n",
            "immutables-0.14      | 68 KB     | : 100% 1.0/1 [00:00<00:00, 27.41it/s]\n",
            "psutil-5.7.2         | 336 KB    | : 100% 1.0/1 [00:00<00:00, 10.09it/s]\n",
            "attrs-20.2.0         | 41 KB     | : 100% 1.0/1 [00:00<00:00, 27.95it/s]\n",
            "dask-cudf-0.14.0     | 81 KB     | : 100% 1.0/1 [00:01<00:00,  1.60s/it]               \n",
            "markupsafe-1.1.1     | 26 KB     | : 100% 1.0/1 [00:00<00:00, 34.27it/s]\n",
            "xorg-libx11-1.6.12   | 917 KB    | : 100% 1.0/1 [00:00<00:00,  5.74it/s]\n",
            "ucx-py-0.14.0+gf6ec8 | 137 KB    | : 100% 1.0/1 [00:01<00:00,  1.15s/it]               \n",
            "pyparsing-2.4.7      | 60 KB     | : 100% 1.0/1 [00:00<00:00, 26.97it/s]\n",
            "libssh2-1.9.0        | 225 KB    | : 100% 1.0/1 [00:00<00:00, 13.48it/s]\n",
            "xorg-libice-1.0.10   | 57 KB     | : 100% 1.0/1 [00:00<00:00, 31.04it/s]\n",
            "pytz-2020.1          | 227 KB    | : 100% 1.0/1 [00:00<00:00,  8.25it/s]\n",
            "spdlog-1.8.0         | 316 KB    | : 100% 1.0/1 [00:00<00:00, 10.49it/s]\n",
            "requests-oauthlib-1. | 21 KB     | : 100% 1.0/1 [00:00<00:00, 32.93it/s]\n",
            "pthread-stubs-0.4    | 5 KB      | : 100% 1.0/1 [00:00<00:00, 35.53it/s]\n",
            "libiconv-1.16        | 1.4 MB    | : 100% 1.0/1 [00:00<00:00,  4.94it/s]\n",
            "krb5-1.17.1          | 1.5 MB    | : 100% 1.0/1 [00:00<00:00,  3.75it/s]\n",
            "libxgboost-1.1.0dev. | 31.1 MB   | : 100% 1.0/1 [00:08<00:00,  8.83s/it]\n",
            "curl-7.71.1          | 139 KB    | : 100% 1.0/1 [00:00<00:00, 21.78it/s]\n",
            "scikit-learn-0.23.2  | 6.8 MB    | : 100% 1.0/1 [00:01<00:00,  1.38s/it]\n",
            "boost-1.70.0         | 337 KB    | : 100% 1.0/1 [00:00<00:00,  9.45it/s]\n",
            "packaging-20.4       | 32 KB     | : 100% 1.0/1 [00:00<00:00, 32.96it/s]\n",
            "multidict-4.7.5      | 69 KB     | : 100% 1.0/1 [00:00<00:00, 22.19it/s]\n",
            "libpng-1.6.37        | 359 KB    | : 100% 1.0/1 [00:00<00:00, 11.84it/s]\n",
            "fontconfig-2.13.1    | 340 KB    | : 100% 1.0/1 [00:00<00:00, 11.15it/s]\n",
            "locket-0.2.0         | 6 KB      | : 100% 1.0/1 [00:00<00:00, 42.18it/s]\n",
            "uriparser-0.9.3      | 49 KB     | : 100% 1.0/1 [00:00<00:00, 30.05it/s]\n",
            "scipy-1.4.1          | 18.9 MB   | : 100% 1.0/1 [00:03<00:00,  3.27s/it]\n",
            "xerces-c-3.2.2       | 1.7 MB    | : 100% 1.0/1 [00:00<00:00,  2.43it/s]\n",
            "pyasn1-0.4.8         | 53 KB     | : 100% 1.0/1 [00:00<00:00, 22.82it/s]\n",
            "olefile-0.46         | 31 KB     | : 100% 1.0/1 [00:00<00:00, 34.58it/s]\n",
            "libcudf-0.14.0       | 101.5 MB  | : 100% 1.0/1 [00:33<00:00, 33.68s/it]               \n",
            "cloudpickle-1.6.0    | 22 KB     | : 100% 1.0/1 [00:00<00:00, 30.86it/s]\n",
            "pcre-8.44            | 261 KB    | : 100% 1.0/1 [00:00<00:00, 12.32it/s]\n",
            "libxml2-2.9.10       | 1.3 MB    | : 100% 1.0/1 [00:00<00:00,  2.71it/s]\n",
            "bzip2-1.0.8          | 398 KB    | : 100% 1.0/1 [00:00<00:00, 10.24it/s]\n",
            "cusignal-0.14.1      | 87 KB     | : 100% 1.0/1 [00:02<00:00,  2.03s/it]               \n",
            "libcurl-7.71.1       | 312 KB    | : 100% 1.0/1 [00:00<00:00, 13.71it/s]\n",
            "freetype-2.10.2      | 905 KB    | : 100% 1.0/1 [00:00<00:00,  5.74it/s]\n",
            "parquet-cpp-1.5.1    | 3 KB      | : 100% 1.0/1 [00:00<00:00, 36.20it/s]\n",
            "icu-64.2             | 12.6 MB   | : 100% 1.0/1 [00:01<00:00,  1.92s/it]\n",
            "xorg-renderproto-0.1 | 8 KB      | : 100% 1.0/1 [00:00<00:00, 36.42it/s]\n",
            "poppler-0.87.0       | 12.9 MB   | : 100% 1.0/1 [00:02<00:00,  2.08s/it]\n",
            "libcugraph-0.14.0    | 14.3 MB   | : 100% 1.0/1 [00:04<00:00,  4.94s/it]\n",
            "libcuml-0.14.0       | 42.4 MB   | : 100% 1.0/1 [00:11<00:00, 11.77s/it]              \n",
            "aiohttp-3.6.2        | 605 KB    | : 100% 1.0/1 [00:00<00:00,  6.12it/s]\n",
            "librmm-0.14.0        | 189 KB    | : 100% 1.0/1 [00:02<00:00,  2.64s/it]               \n",
            "fastavro-1.0.0.post1 | 395 KB    | : 100% 1.0/1 [00:00<00:00, 10.62it/s]\n",
            "cudnn-7.6.0          | 240.9 MB  | : 100% 1.0/1 [00:56<00:00, 56.51s/it]\n",
            "toolz-0.10.0         | 46 KB     | : 100% 1.0/1 [00:00<00:00, 22.89it/s]\n",
            "yarl-1.4.2           | 135 KB    | : 100% 1.0/1 [00:00<00:00, 18.30it/s]\n",
            "ucx-1.8.0+gf6ec8d4   | 8.9 MB    | : 100% 1.0/1 [00:04<00:00,  4.13s/it]\n",
            "arrow-cpp-0.15.0     | 18.1 MB   | : 100% 1.0/1 [00:03<00:00,  3.18s/it]               \n",
            "fsspec-0.8.2         | 63 KB     | : 100% 1.0/1 [00:00<00:00, 22.13it/s]\n",
            "grpc-cpp-1.23.0      | 4.5 MB    | : 100% 1.0/1 [00:00<00:00,  1.05it/s]\n",
            "poppler-data-0.4.9   | 3.4 MB    | : 100% 1.0/1 [00:00<00:00,  1.76it/s]\n",
            "google-auth-1.21.2   | 56 KB     | : 100% 1.0/1 [00:00<00:00, 24.35it/s]\n",
            "jpeg-9d              | 266 KB    | : 100% 1.0/1 [00:00<00:00, 12.60it/s]\n",
            "contextvars-2.4      | 11 KB     | : 100% 1.0/1 [00:00<00:00, 29.20it/s]\n",
            "xorg-kbproto-1.0.7   | 26 KB     | : 100% 1.0/1 [00:00<00:00, 31.08it/s]\n",
            "msgpack-python-1.0.0 | 91 KB     | : 100% 1.0/1 [00:00<00:00, 20.36it/s]\n",
            "glib-2.65.0          | 2.9 MB    | : 100% 1.0/1 [00:00<00:00,  4.76it/s]\n",
            "zict-2.0.0           | 10 KB     | : 100% 1.0/1 [00:00<00:00, 36.63it/s]\n",
            "google-auth-oauthlib | 18 KB     | : 100% 1.0/1 [00:00<00:00, 36.47it/s]\n",
            "libopenblas-0.3.10   | 7.8 MB    | : 100% 1.0/1 [00:01<00:00,  1.40s/it]\n",
            "gflags-2.2.2         | 114 KB    | : 100% 1.0/1 [00:00<00:00, 21.24it/s]\n",
            "cudatoolkit-10.1.243 | 513.2 MB  | : 100% 1.0/1 [01:06<00:00, 66.76s/it]\n",
            "async-timeout-3.0.1  | 11 KB     | : 100% 1.0/1 [00:00<00:00, 31.15it/s]\n",
            "sortedcontainers-2.2 | 25 KB     | : 100% 1.0/1 [00:00<00:00, 29.82it/s]\n",
            "libnetcdf-4.7.4      | 1.3 MB    | : 100% 1.0/1 [00:00<00:00,  3.96it/s]\n",
            "tornado-6.0.4        | 639 KB    | : 100% 1.0/1 [00:00<00:00,  5.01it/s]\n",
            "oauthlib-3.0.1       | 82 KB     | : 100% 1.0/1 [00:00<00:00, 19.59it/s]\n",
            "liblapack-3.8.0      | 11 KB     | : 100% 1.0/1 [00:00<00:00, 20.62it/s]\n",
            "dask-core-2.27.0     | 636 KB    | : 100% 1.0/1 [00:00<00:00,  4.31it/s]\n",
            "hdf5-1.10.6          | 3.0 MB    | : 100% 1.0/1 [00:00<00:00,  1.97it/s]\n",
            "libnghttp2-1.41.0    | 774 KB    | : 100% 1.0/1 [00:00<00:00,  6.14it/s]\n",
            "partd-1.1.0          | 17 KB     | : 100% 1.0/1 [00:00<00:00, 37.28it/s]\n",
            "bokeh-2.2.1          | 6.9 MB    | : 100% 1.0/1 [00:01<00:00,  1.81s/it]\n",
            "geotiff-1.6.0        | 280 KB    | : 100% 1.0/1 [00:00<00:00, 10.63it/s]\n",
            "rmm-0.14.0           | 684 KB    | : 100% 1.0/1 [00:02<00:00,  2.24s/it]               \n",
            "libprotobuf-3.8.0    | 4.7 MB    | : 100% 1.0/1 [00:00<00:00,  1.05it/s]\n",
            "cachetools-4.1.1     | 12 KB     | : 100% 1.0/1 [00:00<00:00, 38.24it/s]\n",
            "libevent-2.1.10      | 1.1 MB    | : 100% 1.0/1 [00:00<00:00,  3.55it/s]\n",
            "freexl-1.0.5         | 46 KB     | : 100% 1.0/1 [00:00<00:00, 29.87it/s]\n",
            "xorg-xextproto-7.3.0 | 27 KB     | : 100% 1.0/1 [00:00<00:00, 29.97it/s]\n",
            "libdap4-3.20.6       | 7.9 MB    | : 100% 1.0/1 [00:01<00:00,  1.21s/it]\n",
            "Preparing transaction: / \b\b- \b\b\\ \b\b| \b\b/ \b\b- \b\b\\ \b\b| \b\b/ \b\b- \b\b\\ \b\b| \b\b/ \b\b- \b\b\\ \b\b| \b\b/ \b\b- \b\b\\ \b\bdone\n",
            "Verifying transaction: / \b\b- \b\b\\ \b\b| \b\b/ \b\b- \b\b\\ \b\b| \b\b/ \b\b- \b\b\\ \b\b| \b\b/ \b\b- \b\b\\ \b\b| \b\b/ \b\b- \b\b\\ \b\b| \b\b/ \b\b- \b\b\\ \b\b| \b\b/ \b\b- \b\b\\ \b\b| \b\b/ \b\b- \b\b\\ \b\b| \b\b/ \b\b- \b\b\\ \b\b| \b\b/ \b\b- \b\b\\ \b\b| \b\b/ \b\b- \b\b\\ \b\b| \b\b/ \b\b- \b\b\\ \b\b| \b\b/ \b\b- \b\b\\ \b\b| \b\b/ \b\b- \b\b\\ \b\b| \b\b/ \b\b- \b\b\\ \b\b| \b\b/ \b\b- \b\b\\ \b\b| \b\b/ \b\b- \b\b\\ \b\b| \b\b/ \b\b- \b\b\\ \b\b| \b\b/ \b\b- \b\b\\ \b\b| \b\b/ \b\b- \b\b\\ \b\b| \b\b/ \b\b- \b\b\\ \b\b| \b\b/ \b\b- \b\b\\ \b\b| \b\b/ \b\b- \b\b\\ \b\b| \b\b/ \b\b- \b\b\\ \b\b| \b\b/ \b\b- \b\b\\ \b\b| \b\b/ \b\b- \b\b\\ \b\b| \b\b/ \b\b- \b\b\\ \b\b| \b\b/ \b\b- \b\b\\ \b\b| \b\b/ \b\b- \b\b\\ \b\b| \b\b/ \b\b- \b\b\\ \b\b| \b\b/ \b\b- \b\b\\ \b\b| \b\b/ \b\b- \b\b\\ \b\b| \b\b/ \b\b- \b\b\\ \b\b| \b\b/ \b\b- \b\b\\ \b\b| \b\b/ \b\b- \b\b\\ \b\b| \b\b/ \b\b- \b\b\\ \b\b| \b\b/ \b\b- \b\b\\ \b\b| \b\b/ \b\b- \b\b\\ \b\b| \b\b/ \b\b- \b\b\\ \b\b| \b\b/ \b\b- \b\b\\ \b\b| \b\b/ \b\b- \b\b\\ \b\b| \b\b/ \b\b- \b\b\\ \b\b| \b\b/ \b\b- \b\b\\ \b\b| \b\b/ \b\b- \b\b\\ \b\b| \b\b/ \b\b- \b\b\\ \b\b| \b\b/ \b\b- \b\b\\ \b\b| \b\b/ \b\b- \b\b\\ \b\b| \b\b/ \b\b- \b\b\\ \b\b| \b\b/ \b\b- \b\b\\ \b\b| \b\b/ \b\b- \b\b\\ \b\b| \b\b/ \b\b- \b\b\\ \b\b| \b\b/ \b\b- \b\b\\ \b\b| \b\b/ \b\b- \b\b\\ \b\b| \b\b/ \b\b- \b\b\\ \b\b| \b\b/ \b\b- \b\b\\ \b\b| \b\b/ \b\b- \b\b\\ \b\b| \b\b/ \b\b- \b\b\\ \b\b| \b\b/ \b\b- \b\b\\ \b\b| \b\b/ \b\b- \b\b\\ \b\b| \b\b/ \b\b- \b\b\\ \b\b| \b\b/ \b\b- \b\b\\ \b\b| \b\b/ \b\b- \b\b\\ \b\b| \b\b/ \b\b- \b\b\\ \b\b| \b\b/ \b\b- \b\b\\ \b\b| \b\b/ \b\b- \b\b\\ \b\b| \b\b/ \b\b- \b\b\\ \b\b| \b\b/ \b\b- \b\b\\ \b\b| \b\b/ \b\b- \b\b\\ \b\b| \b\b/ \b\b- \b\b\\ \b\b| \b\b/ \b\b- \b\b\\ \b\b| \b\b/ \b\b- \b\b\\ \b\b| \b\b/ \b\b- \b\b\\ \b\b| \b\b/ \b\b- \b\b\\ \b\b| \b\b/ \b\b- \b\b\\ \b\b| \b\b/ \b\b- \b\b\\ \b\b| \b\b/ \b\b- \b\b\\ \b\b| \b\b/ \b\b- \b\b\\ \b\b| \b\b/ \b\b- \b\b\\ \b\b| \b\b/ \b\b- \b\b\\ \b\b| \b\b/ \b\b- \b\b\\ \b\b| \b\b/ \b\b- \b\b\\ \b\b| \b\b/ \b\b- \b\b\\ \b\b| \b\b/ \b\b- \b\b\\ \b\b| \b\b/ \b\b- \b\b\\ \b\b| \b\b/ \b\b- \b\b\\ \b\b| \b\b/ \b\b- \b\b\\ \b\b| \b\b/ \b\b- \b\b\\ \b\b| \b\b/ \b\b- \b\b\\ \b\b| \b\b/ \b\b- \b\b\\ \b\b| \b\b/ \b\b- \b\b\\ \b\b| \b\b/ \b\b- \b\b\\ \b\b| \b\b/ \b\b- \b\b\\ \b\b| \b\b/ \b\b- \b\b\\ \b\b| \b\b/ \b\b- \b\b\\ \b\b| \b\b/ \b\b- \b\b\\ \b\b| \b\b/ \b\b- \b\b\\ \b\b| \b\b/ \b\b- \b\b\\ \b\b| \b\b/ \b\b- \b\b\\ \b\b| \b\b/ \b\b- \b\b\\ \b\bdone\n",
            "Executing transaction: / \b\b- \b\b\\ \b\b| \b\b/ \b\b- \b\b\\ \b\b| \b\b/ \b\b- \b\b\\ \b\b| \b\b/ \b\b- \b\b\\ \b\b| \b\b/ \b\b- \b\b\\ \b\b| \b\b/ \b\b- \b\b\\ \b\b| \b\b/ \b\b- \b\b\\ \b\b| \b\b/ \b\b- \b\b\\ \b\b| \b\b/ \b\b- \b\b\\ \b\b| \b\b/ \b\b- \b\b\\ \b\b| \b\b/ \b\b- \b\b\\ \b\b| \b\b/ \b\b- \b\b\\ \b\b| \b\b/ \b\b- \b\b\\ \b\b| \b\b/ \b\b- \b\b\\ \b\b| \b\b/ \b\b- \b\b\\ \b\b| \b\b/ \b\b- \b\b\\ \b\b| \b\b/ \b\b- \b\b\\ \b\b| \b\b/ \b\b- \b\b\\ \b\bdone\n",
            "Copying shared object files to /usr/lib\n",
            "Copying RAPIDS compatible xgboost\n",
            "\n",
            "************************************************\n",
            "Your Google Colab instance has RAPIDS installed!\n",
            "************************************************\n",
            "***********************************************************************\n",
            "Let us check on those pyarrow and cffi versions...\n",
            "***********************************************************************\n",
            "\n",
            "You're don't have pyarrow.\n",
            "unloaded cffi 1.14.2\n",
            "loaded cffi 1.11.5\n"
          ],
          "name": "stdout"
        }
      ]
    },
    {
      "cell_type": "code",
      "metadata": {
        "id": "BTWeyn2qYyl5",
        "colab_type": "code",
        "colab": {
          "base_uri": "https://localhost:8080/",
          "height": 184
        },
        "outputId": "60a5b30e-ea6a-4b5d-edcd-57f549504285"
      },
      "source": [
        "import nvstrings\n",
        "import numpy as np\n",
        "import cudf, cuml\n",
        "import dask_cudf\n",
        "import io, requests\n",
        "import math\n",
        "import gc\n",
        "import cupy as cp\n",
        "import pandas as pd\n",
        "\n",
        "#Plotting\n",
        "import matplotlib.pyplot as plt\n",
        "import seaborn as sns \n",
        "\n",
        "#Learning\n",
        "from cuml.preprocessing.model_selection import train_test_split\n",
        "from scipy.stats import uniform\n",
        "\n",
        "# Linear Models https://github.com/rapidsai/cuml/tree/branch-0.13/notebooks\n",
        "from cuml.linear_model import LinearRegression # Linear\n",
        "from cuml.linear_model import LogisticRegression # Logisitc\n",
        "from cuml.linear_model import ElasticNet # Elastic\n",
        "from cuml.linear_model import Ridge # Ridge\n",
        "from cuml.linear_model import Lasso # Lasso\n",
        "from cuml.linear_model import MBSGDRegressor as cumlMBSGDRegressor # Mini Batch SGD Regressor\n",
        "\n",
        "from cuml.solvers import SGD as cumlSGD # Stochastic Gradient Descent\n",
        "from cuml.ensemble import RandomForestRegressor as cuRF # Random Forest\n",
        "from cuml.dask.ensemble import RandomForestClassifier as cumlDaskRF # RandomForest\n",
        "\n",
        "from cuml.neighbors import KNeighborsRegressor as cumlKNR # Nearest Neighbours\n",
        "from cuml.svm import SVC # Support Vector Machines\n",
        "\n",
        "from cuml import ForestInference\n",
        "import xgboost as xgb\n",
        "\n",
        "from sklearn.model_selection import RandomizedSearchCV\n",
        "from sklearn.model_selection import GridSearchCV\n",
        "\n",
        "from cuml.metrics.regression import r2_score\n",
        "from cuml.metrics.accuracy import accuracy_score\n",
        "from sklearn.metrics import make_scorer\n",
        "from sklearn.metrics import accuracy_score as sk_acc\n",
        "from sklearn.utils.fixes import loguniform"
      ],
      "execution_count": 6,
      "outputs": [
        {
          "output_type": "stream",
          "text": [
            "/usr/local/lib/python3.6/dist-packages/ipykernel_launcher.py:1: DeprecationWarning: nvstrings will be removed in 0.15. Please use equivalent from libcudf\n",
            "  \"\"\"Entry point for launching an IPython kernel.\n",
            "/usr/local/lib/python3.6/site-packages/cudf/utils/gpu_utils.py:58: UserWarning: You will need a GPU with NVIDIA Pascal™ or newer architecture\n",
            "Detected GPU 0: Tesla K80\n",
            "Detected Compute Capability: 3.7\n",
            "  + str(minor_version)\n",
            "/usr/local/lib/python3.6/dist-packages/statsmodels/tools/_testing.py:19: FutureWarning: pandas.util.testing is deprecated. Use the functions in the public API at pandas.testing instead.\n",
            "  import pandas.util.testing as tm\n"
          ],
          "name": "stderr"
        }
      ]
    },
    {
      "cell_type": "markdown",
      "metadata": {
        "id": "jw7sbM1_ukTi",
        "colab_type": "text"
      },
      "source": [
        "If you find yourself running these notebooks on Colab as well as on Kaggle you might find this placeholder thing helpful. Only thing to touch ist the environment you are running on (Kaggle or Colab)"
      ]
    },
    {
      "cell_type": "markdown",
      "metadata": {
        "id": "ysZh0eaaHZT4",
        "colab_type": "text"
      },
      "source": [
        "# 2. First look at the Data"
      ]
    },
    {
      "cell_type": "code",
      "metadata": {
        "id": "N9AE7Djfw8uN",
        "colab_type": "code",
        "colab": {}
      },
      "source": [
        "cudf.set_allocator(\"managed\")\n",
        "dtype = {'fare_amount': 'float32',\n",
        "              'pickup_datetime':'str',\n",
        "              'pickup_longitude': 'float32',\n",
        "              'pickup_latitude': 'float32',\n",
        "              'dropoff_longitude': 'float32',\n",
        "              'dropoff_latitude': 'float32',\n",
        "              'passenger_count': 'int8'}\n",
        "\n",
        "usecols = list(dtype.keys())"
      ],
      "execution_count": 8,
      "outputs": []
    },
    {
      "cell_type": "code",
      "metadata": {
        "id": "VlQ0urKVpLfB",
        "colab_type": "code",
        "colab": {
          "base_uri": "https://localhost:8080/",
          "height": 453
        },
        "outputId": "33728a81-8e0f-4633-d0ba-a46e59d41281"
      },
      "source": [
        "%%time\n",
        "# use a subset with 50.000 rows, max is nrows = 55423480\n",
        "\n",
        "if debug_mode != True:\n",
        "  ## using 1% (or how much you like)\n",
        "  nrwos=rows_datasample\n",
        "else:\n",
        "  ## using a very small sample just for testing\n",
        "  nrows = 50000\n",
        "\n",
        "test = cudf.read_csv(env_path+'test_taxi.csv', usecols=usecols, dtype=dtype)\n",
        "train = cudf.read_csv(env_path+'train.csv', nrows=nrows, usecols=usecols, dtype=dtype)\n",
        "submission = cudf.read_csv(env_path+'sample_submission.csv', usecols=usecols, dtype=dtype)"
      ],
      "execution_count": 3,
      "outputs": [
        {
          "output_type": "error",
          "ename": "NameError",
          "evalue": "ignored",
          "traceback": [
            "\u001b[0;31m---------------------------------------------------------------------------\u001b[0m",
            "\u001b[0;31mNameError\u001b[0m                                 Traceback (most recent call last)",
            "\u001b[0;32m<ipython-input-3-420bf658af6f>\u001b[0m in \u001b[0;36m<module>\u001b[0;34m()\u001b[0m\n\u001b[0;32m----> 1\u001b[0;31m \u001b[0mget_ipython\u001b[0m\u001b[0;34m(\u001b[0m\u001b[0;34m)\u001b[0m\u001b[0;34m.\u001b[0m\u001b[0mrun_cell_magic\u001b[0m\u001b[0;34m(\u001b[0m\u001b[0;34m'time'\u001b[0m\u001b[0;34m,\u001b[0m \u001b[0;34m''\u001b[0m\u001b[0;34m,\u001b[0m \u001b[0;34m\"# use a subset with 50.000 rows, max is nrows = 55423480\\n\\nif debug_mode != True:\\n  ## using 1% (or how much you like)\\n  nrwos=rows_datasample\\nelse:\\n  ## using a very small sample just for testing\\n  nrows = 50000\\n\\ntest = cudf.read_csv(env_path+'test_taxi.csv', usecols=usecols, dtype=dtype)\\ntrain = cudf.read_csv(env_path+'train.csv', nrows=nrows, usecols=usecols, dtype=dtype)\\nsubmission = cudf.read_csv(env_path+'sample_submission.csv', usecols=usecols, dtype=dtype)\"\u001b[0m\u001b[0;34m)\u001b[0m\u001b[0;34m\u001b[0m\u001b[0;34m\u001b[0m\u001b[0m\n\u001b[0m",
            "\u001b[0;32m/usr/local/lib/python3.6/dist-packages/IPython/core/interactiveshell.py\u001b[0m in \u001b[0;36mrun_cell_magic\u001b[0;34m(self, magic_name, line, cell)\u001b[0m\n\u001b[1;32m   2115\u001b[0m             \u001b[0mmagic_arg_s\u001b[0m \u001b[0;34m=\u001b[0m \u001b[0mself\u001b[0m\u001b[0;34m.\u001b[0m\u001b[0mvar_expand\u001b[0m\u001b[0;34m(\u001b[0m\u001b[0mline\u001b[0m\u001b[0;34m,\u001b[0m \u001b[0mstack_depth\u001b[0m\u001b[0;34m)\u001b[0m\u001b[0;34m\u001b[0m\u001b[0;34m\u001b[0m\u001b[0m\n\u001b[1;32m   2116\u001b[0m             \u001b[0;32mwith\u001b[0m \u001b[0mself\u001b[0m\u001b[0;34m.\u001b[0m\u001b[0mbuiltin_trap\u001b[0m\u001b[0;34m:\u001b[0m\u001b[0;34m\u001b[0m\u001b[0;34m\u001b[0m\u001b[0m\n\u001b[0;32m-> 2117\u001b[0;31m                 \u001b[0mresult\u001b[0m \u001b[0;34m=\u001b[0m \u001b[0mfn\u001b[0m\u001b[0;34m(\u001b[0m\u001b[0mmagic_arg_s\u001b[0m\u001b[0;34m,\u001b[0m \u001b[0mcell\u001b[0m\u001b[0;34m)\u001b[0m\u001b[0;34m\u001b[0m\u001b[0;34m\u001b[0m\u001b[0m\n\u001b[0m\u001b[1;32m   2118\u001b[0m             \u001b[0;32mreturn\u001b[0m \u001b[0mresult\u001b[0m\u001b[0;34m\u001b[0m\u001b[0;34m\u001b[0m\u001b[0m\n\u001b[1;32m   2119\u001b[0m \u001b[0;34m\u001b[0m\u001b[0m\n",
            "\u001b[0;32m<decorator-gen-60>\u001b[0m in \u001b[0;36mtime\u001b[0;34m(self, line, cell, local_ns)\u001b[0m\n",
            "\u001b[0;32m/usr/local/lib/python3.6/dist-packages/IPython/core/magic.py\u001b[0m in \u001b[0;36m<lambda>\u001b[0;34m(f, *a, **k)\u001b[0m\n\u001b[1;32m    186\u001b[0m     \u001b[0;31m# but it's overkill for just that one bit of state.\u001b[0m\u001b[0;34m\u001b[0m\u001b[0;34m\u001b[0m\u001b[0;34m\u001b[0m\u001b[0m\n\u001b[1;32m    187\u001b[0m     \u001b[0;32mdef\u001b[0m \u001b[0mmagic_deco\u001b[0m\u001b[0;34m(\u001b[0m\u001b[0marg\u001b[0m\u001b[0;34m)\u001b[0m\u001b[0;34m:\u001b[0m\u001b[0;34m\u001b[0m\u001b[0;34m\u001b[0m\u001b[0m\n\u001b[0;32m--> 188\u001b[0;31m         \u001b[0mcall\u001b[0m \u001b[0;34m=\u001b[0m \u001b[0;32mlambda\u001b[0m \u001b[0mf\u001b[0m\u001b[0;34m,\u001b[0m \u001b[0;34m*\u001b[0m\u001b[0ma\u001b[0m\u001b[0;34m,\u001b[0m \u001b[0;34m**\u001b[0m\u001b[0mk\u001b[0m\u001b[0;34m:\u001b[0m \u001b[0mf\u001b[0m\u001b[0;34m(\u001b[0m\u001b[0;34m*\u001b[0m\u001b[0ma\u001b[0m\u001b[0;34m,\u001b[0m \u001b[0;34m**\u001b[0m\u001b[0mk\u001b[0m\u001b[0;34m)\u001b[0m\u001b[0;34m\u001b[0m\u001b[0;34m\u001b[0m\u001b[0m\n\u001b[0m\u001b[1;32m    189\u001b[0m \u001b[0;34m\u001b[0m\u001b[0m\n\u001b[1;32m    190\u001b[0m         \u001b[0;32mif\u001b[0m \u001b[0mcallable\u001b[0m\u001b[0;34m(\u001b[0m\u001b[0marg\u001b[0m\u001b[0;34m)\u001b[0m\u001b[0;34m:\u001b[0m\u001b[0;34m\u001b[0m\u001b[0;34m\u001b[0m\u001b[0m\n",
            "\u001b[0;32m/usr/local/lib/python3.6/dist-packages/IPython/core/magics/execution.py\u001b[0m in \u001b[0;36mtime\u001b[0;34m(self, line, cell, local_ns)\u001b[0m\n\u001b[1;32m   1191\u001b[0m         \u001b[0;32melse\u001b[0m\u001b[0;34m:\u001b[0m\u001b[0;34m\u001b[0m\u001b[0;34m\u001b[0m\u001b[0m\n\u001b[1;32m   1192\u001b[0m             \u001b[0mst\u001b[0m \u001b[0;34m=\u001b[0m \u001b[0mclock2\u001b[0m\u001b[0;34m(\u001b[0m\u001b[0;34m)\u001b[0m\u001b[0;34m\u001b[0m\u001b[0;34m\u001b[0m\u001b[0m\n\u001b[0;32m-> 1193\u001b[0;31m             \u001b[0mexec\u001b[0m\u001b[0;34m(\u001b[0m\u001b[0mcode\u001b[0m\u001b[0;34m,\u001b[0m \u001b[0mglob\u001b[0m\u001b[0;34m,\u001b[0m \u001b[0mlocal_ns\u001b[0m\u001b[0;34m)\u001b[0m\u001b[0;34m\u001b[0m\u001b[0;34m\u001b[0m\u001b[0m\n\u001b[0m\u001b[1;32m   1194\u001b[0m             \u001b[0mend\u001b[0m \u001b[0;34m=\u001b[0m \u001b[0mclock2\u001b[0m\u001b[0;34m(\u001b[0m\u001b[0;34m)\u001b[0m\u001b[0;34m\u001b[0m\u001b[0;34m\u001b[0m\u001b[0m\n\u001b[1;32m   1195\u001b[0m             \u001b[0mout\u001b[0m \u001b[0;34m=\u001b[0m \u001b[0;32mNone\u001b[0m\u001b[0;34m\u001b[0m\u001b[0;34m\u001b[0m\u001b[0m\n",
            "\u001b[0;32m<timed exec>\u001b[0m in \u001b[0;36m<module>\u001b[0;34m()\u001b[0m\n",
            "\u001b[0;31mNameError\u001b[0m: name 'debug_mode' is not defined"
          ]
        }
      ]
    },
    {
      "cell_type": "code",
      "metadata": {
        "id": "Eij2FPF2vuTF",
        "colab_type": "code",
        "colab": {}
      },
      "source": [
        "train.head(5)"
      ],
      "execution_count": null,
      "outputs": []
    },
    {
      "cell_type": "code",
      "metadata": {
        "id": "T5631wMlv9FY",
        "colab_type": "code",
        "colab": {}
      },
      "source": [
        "test.head(5)"
      ],
      "execution_count": null,
      "outputs": []
    },
    {
      "cell_type": "markdown",
      "metadata": {
        "id": "o_WXW01AHlC4",
        "colab_type": "text"
      },
      "source": [
        "# 3. Data Cleaning"
      ]
    },
    {
      "cell_type": "code",
      "metadata": {
        "id": "6Ka9ezhECWv0",
        "colab_type": "code",
        "colab": {
          "base_uri": "https://localhost:8080/",
          "height": 209
        },
        "outputId": "e42d119c-c3a9-457d-af95-606e1fb47659"
      },
      "source": [
        "#Drop Nan Values\n",
        "train.nans_to_nulls()\n",
        "train = train.dropna()"
      ],
      "execution_count": 1,
      "outputs": [
        {
          "output_type": "error",
          "ename": "NameError",
          "evalue": "ignored",
          "traceback": [
            "\u001b[0;31m---------------------------------------------------------------------------\u001b[0m",
            "\u001b[0;31mNameError\u001b[0m                                 Traceback (most recent call last)",
            "\u001b[0;32m<ipython-input-1-5108b15bb15b>\u001b[0m in \u001b[0;36m<module>\u001b[0;34m()\u001b[0m\n\u001b[1;32m      1\u001b[0m \u001b[0;31m#Drop Nan Values\u001b[0m\u001b[0;34m\u001b[0m\u001b[0;34m\u001b[0m\u001b[0;34m\u001b[0m\u001b[0m\n\u001b[0;32m----> 2\u001b[0;31m \u001b[0mtrain\u001b[0m\u001b[0;34m.\u001b[0m\u001b[0mnans_to_nulls\u001b[0m\u001b[0;34m(\u001b[0m\u001b[0;34m)\u001b[0m\u001b[0;34m\u001b[0m\u001b[0;34m\u001b[0m\u001b[0m\n\u001b[0m\u001b[1;32m      3\u001b[0m \u001b[0mtrain\u001b[0m \u001b[0;34m=\u001b[0m \u001b[0mtrain\u001b[0m\u001b[0;34m.\u001b[0m\u001b[0mdropna\u001b[0m\u001b[0;34m(\u001b[0m\u001b[0;34m)\u001b[0m\u001b[0;34m\u001b[0m\u001b[0;34m\u001b[0m\u001b[0m\n",
            "\u001b[0;31mNameError\u001b[0m: name 'train' is not defined"
          ]
        }
      ]
    },
    {
      "cell_type": "code",
      "metadata": {
        "id": "J3ZMKboWCGD1",
        "colab_type": "code",
        "colab": {
          "base_uri": "https://localhost:8080/",
          "height": 209
        },
        "outputId": "735b84ec-bcda-4ed8-edc9-1c07530a9c7d"
      },
      "source": [
        "#Checking shape of the data\n",
        "print(\"Train: \" + str(train.shape))\n",
        "print(\"Test: \" + str(test.shape))"
      ],
      "execution_count": 2,
      "outputs": [
        {
          "output_type": "error",
          "ename": "NameError",
          "evalue": "ignored",
          "traceback": [
            "\u001b[0;31m---------------------------------------------------------------------------\u001b[0m",
            "\u001b[0;31mNameError\u001b[0m                                 Traceback (most recent call last)",
            "\u001b[0;32m<ipython-input-2-fffe86c03a1d>\u001b[0m in \u001b[0;36m<module>\u001b[0;34m()\u001b[0m\n\u001b[1;32m      1\u001b[0m \u001b[0;31m#Checking shape of the data\u001b[0m\u001b[0;34m\u001b[0m\u001b[0;34m\u001b[0m\u001b[0;34m\u001b[0m\u001b[0m\n\u001b[0;32m----> 2\u001b[0;31m \u001b[0mprint\u001b[0m\u001b[0;34m(\u001b[0m\u001b[0;34m\"Train: \"\u001b[0m \u001b[0;34m+\u001b[0m \u001b[0mstr\u001b[0m\u001b[0;34m(\u001b[0m\u001b[0mtrain\u001b[0m\u001b[0;34m.\u001b[0m\u001b[0mshape\u001b[0m\u001b[0;34m)\u001b[0m\u001b[0;34m)\u001b[0m\u001b[0;34m\u001b[0m\u001b[0;34m\u001b[0m\u001b[0m\n\u001b[0m\u001b[1;32m      3\u001b[0m \u001b[0mprint\u001b[0m\u001b[0;34m(\u001b[0m\u001b[0;34m\"Test: \"\u001b[0m \u001b[0;34m+\u001b[0m \u001b[0mstr\u001b[0m\u001b[0;34m(\u001b[0m\u001b[0mtest\u001b[0m\u001b[0;34m.\u001b[0m\u001b[0mshape\u001b[0m\u001b[0;34m)\u001b[0m\u001b[0;34m)\u001b[0m\u001b[0;34m\u001b[0m\u001b[0;34m\u001b[0m\u001b[0m\n",
            "\u001b[0;31mNameError\u001b[0m: name 'train' is not defined"
          ]
        }
      ]
    },
    {
      "cell_type": "code",
      "metadata": {
        "id": "Xko9RCA4v_Hc",
        "colab_type": "code",
        "colab": {}
      },
      "source": [
        "#Changing the data format of pickup_datetime and adding additional information about pickup time\n",
        "train['pickup_datetime'] = train['pickup_datetime'].astype('datetime64[ns]')\n",
        "\n",
        "train[\"hour\"] = train.pickup_datetime.dt.hour\n",
        "train[\"weekday\"] = train.pickup_datetime.dt.weekday\n",
        "train[\"month\"] = train.pickup_datetime.dt.month\n",
        "train[\"year\"] = train.pickup_datetime.dt.year\n",
        "\n",
        "\n",
        "test['pickup_datetime'] = test['pickup_datetime'].astype('datetime64[ns]')\n",
        "\n",
        "test[\"hour\"] = test.pickup_datetime.dt.hour\n",
        "test[\"weekday\"] = test.pickup_datetime.dt.weekday\n",
        "test[\"month\"] = test.pickup_datetime.dt.month\n",
        "test[\"year\"] = test.pickup_datetime.dt.year"
      ],
      "execution_count": null,
      "outputs": []
    },
    {
      "cell_type": "code",
      "metadata": {
        "id": "4iUREXQ5CEzn",
        "colab_type": "code",
        "colab": {}
      },
      "source": [
        "#calculate trip distance in miles\n",
        "def distance(lat1, lon1, lat2, lon2):\n",
        "    p = 0.017453292519943295 # Pi/180\n",
        "    a = 0.5 - np.cos((lat2 - lat1) * p)/2 + np.cos(lat1 * p) * np.cos(lat2 * p) * (1 - np.cos((lon2 - lon1) * p)) / 2\n",
        "    return 0.6213712 * 12742 * np.arcsin(np.sqrt(a))"
      ],
      "execution_count": null,
      "outputs": []
    },
    {
      "cell_type": "code",
      "metadata": {
        "id": "ymO-WYlaCGS3",
        "colab_type": "code",
        "colab": {}
      },
      "source": [
        "train['distance'] = distance(train['pickup_latitude'], train['pickup_longitude'], train['dropoff_latitude'], train['dropoff_longitude'] )\n",
        "test['distance'] = distance(test['pickup_latitude'], test['pickup_longitude'], test['dropoff_latitude'], test['dropoff_longitude'] )\n",
        "train['distance'].describe()"
      ],
      "execution_count": null,
      "outputs": []
    },
    {
      "cell_type": "code",
      "metadata": {
        "id": "oZliSrMSwyJW",
        "colab_type": "code",
        "colab": {}
      },
      "source": [
        "#check if everything worked\n",
        "train.head(10)"
      ],
      "execution_count": null,
      "outputs": []
    },
    {
      "cell_type": "code",
      "metadata": {
        "id": "9FpQJz9Zxxd2",
        "colab_type": "code",
        "colab": {}
      },
      "source": [
        "test.head(2)"
      ],
      "execution_count": null,
      "outputs": []
    },
    {
      "cell_type": "code",
      "metadata": {
        "id": "CFYnmMIiDfyJ",
        "colab_type": "code",
        "colab": {}
      },
      "source": [
        "print(\"Ararage fare amount: \" + str(train['fare_amount'].mean()))\n",
        "print(\"Standard deviation fare amount: \" + str(train['fare_amount'].std()))\n",
        "print(\"Ararage distance: \" + str(train['distance'].mean()) + \" miles\")\n",
        "print(\"Standard deviation distance: \" + str(train['distance'].std()) + \" miles\")"
      ],
      "execution_count": null,
      "outputs": []
    },
    {
      "cell_type": "code",
      "metadata": {
        "id": "KB5A0x0iPBkA",
        "colab_type": "code",
        "colab": {}
      },
      "source": [
        "train.describe()"
      ],
      "execution_count": null,
      "outputs": []
    },
    {
      "cell_type": "markdown",
      "metadata": {
        "id": "2F3ZtZtgCt87",
        "colab_type": "text"
      },
      "source": [
        "Visualization of the data <br>\n",
        "\n",
        "The following things were noticed (while using 500k datapoints):\n",
        "*   The minimal fare_amount is negative. As this does not seem to be realistic I will drop them from the dataset.\n",
        "*   Some of the minimum and maximum longitude/lattitude coordinates are way off. These  will also be remove from the dataset. (bounding box will be defined)\n",
        "*   The average fare_amount is about 9.79 USD with a standard deviation of 7.48 USD. When building a predictive model we want to be better than 7.48 USD.\n",
        "\n"
      ]
    },
    {
      "cell_type": "code",
      "metadata": {
        "id": "T-Wu8kZoB-0s",
        "colab_type": "code",
        "colab": {}
      },
      "source": [
        "train = train[train.fare_amount>=0]\n",
        "train = train[(train['distance'] < 30) & (train['distance'] >=0 )]"
      ],
      "execution_count": null,
      "outputs": []
    },
    {
      "cell_type": "code",
      "metadata": {
        "id": "u7Bp_uZoGIqU",
        "colab_type": "code",
        "colab": {}
      },
      "source": [
        "fare_amount = train['fare_amount'].to_array()\n",
        "passenger_count = train['passenger_count'].to_array()\n",
        "distance = train['distance'].to_array()"
      ],
      "execution_count": null,
      "outputs": []
    },
    {
      "cell_type": "code",
      "metadata": {
        "id": "4JcWhshbET0g",
        "colab_type": "code",
        "colab": {}
      },
      "source": [
        "plt.figure(figsize=(8,5))\n",
        "sns.kdeplot(fare_amount).set_title(\"Verteilung des Fahrpreises\")"
      ],
      "execution_count": null,
      "outputs": []
    },
    {
      "cell_type": "code",
      "metadata": {
        "id": "LQuUhTOR_xj2",
        "colab_type": "code",
        "colab": {}
      },
      "source": [
        "plt.figure(figsize=(8,5))\n",
        "sns.kdeplot(distance).set_title(\"Distanz\")"
      ],
      "execution_count": null,
      "outputs": []
    },
    {
      "cell_type": "code",
      "metadata": {
        "id": "ctVL7b6XQr6i",
        "colab_type": "code",
        "colab": {}
      },
      "source": [
        "#check max latitude und max longitude of test data\n",
        "print(\"Max lat pickup: \" + str(test['pickup_latitude'].max()))\n",
        "print(\"Max lat dropoff: \" + str(test['dropoff_latitude'].max()))\n",
        "print(\"Max lon pickup: \" + str(test['pickup_longitude'].max()))\n",
        "print(\"Max lon dropoff: \" + str(test['dropoff_longitude'].max()))\n",
        "print(\"\")\n",
        "print(\"Min lat pickup: \" + str(test['pickup_latitude'].min()))\n",
        "print(\"Min lat dropoff: \" + str(test['dropoff_latitude'].min()))\n",
        "print(\"Min lon pickup: \" + str(test['pickup_longitude'].min()))\n",
        "print(\"Min lon dropoff: \" + str(test['dropoff_longitude'].min()))"
      ],
      "execution_count": null,
      "outputs": []
    },
    {
      "cell_type": "markdown",
      "metadata": {
        "id": "3p3pPHX4Hada",
        "colab_type": "text"
      },
      "source": [
        "Bounding Box New York\n",
        "<table>\n",
        "  <tr>\n",
        "    <th></th>\n",
        "    <th>Dropoff</th>\n",
        "    <th>Pickup</th>\n",
        "  </tr>\n",
        "  <tr>\n",
        "    <td>Max Long</td>\n",
        "    <td>-72.99096</td>\n",
        "    <td>-72.986534</td>\n",
        "   </tr>\n",
        "   <tr>\n",
        "    <td>Max Lat</td>\n",
        "    <td>41.696682</td>\n",
        "    <td>41.709553</td>\n",
        "   </tr>\n",
        "   <tr>\n",
        "    <td>Min Long</td>\n",
        "    <td>-74.26323</td>\n",
        "    <td>-74.25219</td>\n",
        "    </tr>\n",
        "   <tr>\n",
        "    <td>Min Lat</td>\n",
        "    <td>40.568974</td>\n",
        "    <td>40.57314</td>\n",
        "   </tr>\n",
        "</table>\n",
        "\n"
      ]
    },
    {
      "cell_type": "code",
      "metadata": {
        "id": "gMZUYAcDVO1x",
        "colab_type": "code",
        "colab": {}
      },
      "source": [
        "train.head(2)"
      ],
      "execution_count": null,
      "outputs": []
    },
    {
      "cell_type": "code",
      "metadata": {
        "id": "6nu3O1o0HkkC",
        "colab_type": "code",
        "colab": {}
      },
      "source": [
        "#Parts of train data are too far away, so they can be dropped\n",
        "train = train[(train['pickup_longitude'] > -74.25) & (train['pickup_longitude'] < -72.98)]\n",
        "train = train[(train['pickup_latitude'] > 40.57) & (train['pickup_latitude'] < 41.70)]\n",
        "train = train[(train['dropoff_longitude'] < -72.99) & (train['dropoff_longitude'] > -74.26)]\n",
        "train = train[(train['dropoff_latitude'] > 40.56) & (train['dropoff_latitude'] < 41.69)]"
      ],
      "execution_count": null,
      "outputs": []
    },
    {
      "cell_type": "code",
      "metadata": {
        "id": "Lh8BCPIjGDkx",
        "colab_type": "code",
        "colab": {}
      },
      "source": [
        "dropoff_longitude = train['dropoff_longitude'].to_array()\n",
        "dropoff_latitude = train['dropoff_latitude'].to_array()\n",
        "\n",
        "city_long_border = (-74.03, -73.75)\n",
        "city_lat_border = (40.63, 40.85)\n",
        "\n",
        "plt.figure(figsize=(10,6))\n",
        "plt.scatter(dropoff_longitude, dropoff_latitude,\n",
        "                color='green', \n",
        "                s=.02, alpha=.6)\n",
        "plt.title(\"Dropoffs\")\n",
        "\n",
        "plt.ylim(city_lat_border)\n",
        "plt.xlim(city_long_border)"
      ],
      "execution_count": null,
      "outputs": []
    },
    {
      "cell_type": "code",
      "metadata": {
        "id": "7ZqQoFPuGrYN",
        "colab_type": "code",
        "colab": {}
      },
      "source": [
        "unnecessary_columns=['pickup_datetime','dropoff_latitude','pickup_latitude','dropoff_longitude','pickup_longitude']\n",
        "train=train.drop(unnecessary_columns,axis=1)\n",
        "test=test.drop(unnecessary_columns,axis=1)"
      ],
      "execution_count": null,
      "outputs": []
    },
    {
      "cell_type": "code",
      "metadata": {
        "id": "zR9cNfz9ITCh",
        "colab_type": "code",
        "colab": {}
      },
      "source": [
        "train.head(2)"
      ],
      "execution_count": null,
      "outputs": []
    },
    {
      "cell_type": "code",
      "metadata": {
        "id": "TNd_cXuNg3yL",
        "colab_type": "code",
        "colab": {}
      },
      "source": [
        "test.head(2)"
      ],
      "execution_count": null,
      "outputs": []
    },
    {
      "cell_type": "markdown",
      "metadata": {
        "id": "ASbJyvwrLXEA",
        "colab_type": "text"
      },
      "source": [
        "# 4. Linear Regression"
      ]
    },
    {
      "cell_type": "code",
      "metadata": {
        "id": "NdDCPESrIYfo",
        "colab_type": "code",
        "colab": {
          "base_uri": "https://localhost:8080/",
          "height": 0
        },
        "outputId": "1fe6d5cc-8558-43f3-ac0f-ad64fb9902e7"
      },
      "source": [
        "X=train.drop(['fare_amount'],axis=1)\n",
        "y=train['fare_amount']\n",
        "\n",
        "X_train, X_test, y_train, y_test = train_test_split(X,y, test_size=0.2)\n",
        "print(\"Number of records in training data \",X_train.shape[0])\n",
        "print(\"Number of records in validation data \",X_test.shape[0])\n",
        "print(X_train.shape)\n",
        "print(X_test.shape)\n",
        "print(y_train.shape)\n",
        "print(y_test.shape)"
      ],
      "execution_count": 30,
      "outputs": [
        {
          "output_type": "stream",
          "text": [
            "Number of records in training data  39130\n",
            "Number of records in validation data  9782\n",
            "(39130, 6)\n",
            "(9782, 6)\n",
            "(39130,)\n",
            "(9782,)\n"
          ],
          "name": "stdout"
        }
      ]
    },
    {
      "cell_type": "code",
      "metadata": {
        "id": "6oVWER31Ikbs",
        "colab_type": "code",
        "colab": {
          "base_uri": "https://localhost:8080/",
          "height": 0
        },
        "outputId": "07bdc915-2cf8-4e32-e608-c340cdc40a00"
      },
      "source": [
        "lm = LinearRegression(fit_intercept = True, normalize = False,\n",
        "                      algorithm = \"eig\")\n",
        "lm.fit(X_train,y_train)\n",
        "y_pred=lm.predict(X_test)\n",
        "lm_rmse = r2_score(y_pred, y_test)\n",
        "print(\"RMSE for Linear Regression is \",lm_rmse)"
      ],
      "execution_count": 31,
      "outputs": [
        {
          "output_type": "stream",
          "text": [
            "RMSE for Linear Regression is  0.6346495151519775\n"
          ],
          "name": "stdout"
        }
      ]
    },
    {
      "cell_type": "code",
      "metadata": {
        "id": "DqMel8pKIpGj",
        "colab_type": "code",
        "colab": {
          "base_uri": "https://localhost:8080/",
          "height": 0
        },
        "outputId": "01f841b1-9373-410f-9d70-c9a162671bdb"
      },
      "source": [
        "y_pred=lm.predict(test)\n",
        "y_pred"
      ],
      "execution_count": 32,
      "outputs": [
        {
          "output_type": "execute_result",
          "data": {
            "text/plain": [
              "0       11.041992\n",
              "1       11.041992\n",
              "2        4.717896\n",
              "3       10.165771\n",
              "4       16.538208\n",
              "          ...    \n",
              "9909    11.186523\n",
              "9910    14.112183\n",
              "9911    47.256714\n",
              "9912    23.951904\n",
              "9913     6.199097\n",
              "Length: 9914, dtype: float32"
            ]
          },
          "metadata": {
            "tags": []
          },
          "execution_count": 32
        }
      ]
    },
    {
      "cell_type": "code",
      "metadata": {
        "id": "L85j0kDWI2fH",
        "colab_type": "code",
        "colab": {
          "base_uri": "https://localhost:8080/",
          "height": 0
        },
        "outputId": "bdfd49ac-63c0-424b-a2f4-01598b6854f3"
      },
      "source": [
        "gdf_submission = submission\n",
        "gdf_submission['fare_amount']= y_pred\n",
        "\n",
        "gdf_submission.head()"
      ],
      "execution_count": 33,
      "outputs": [
        {
          "output_type": "execute_result",
          "data": {
            "text/html": [
              "<div>\n",
              "<style scoped>\n",
              "    .dataframe tbody tr th:only-of-type {\n",
              "        vertical-align: middle;\n",
              "    }\n",
              "\n",
              "    .dataframe tbody tr th {\n",
              "        vertical-align: top;\n",
              "    }\n",
              "\n",
              "    .dataframe thead th {\n",
              "        text-align: right;\n",
              "    }\n",
              "</style>\n",
              "<table border=\"1\" class=\"dataframe\">\n",
              "  <thead>\n",
              "    <tr style=\"text-align: right;\">\n",
              "      <th></th>\n",
              "      <th>fare_amount</th>\n",
              "    </tr>\n",
              "  </thead>\n",
              "  <tbody>\n",
              "    <tr>\n",
              "      <th>0</th>\n",
              "      <td>11.041992</td>\n",
              "    </tr>\n",
              "    <tr>\n",
              "      <th>1</th>\n",
              "      <td>11.041992</td>\n",
              "    </tr>\n",
              "    <tr>\n",
              "      <th>2</th>\n",
              "      <td>4.717896</td>\n",
              "    </tr>\n",
              "    <tr>\n",
              "      <th>3</th>\n",
              "      <td>10.165771</td>\n",
              "    </tr>\n",
              "    <tr>\n",
              "      <th>4</th>\n",
              "      <td>16.538208</td>\n",
              "    </tr>\n",
              "  </tbody>\n",
              "</table>\n",
              "</div>"
            ],
            "text/plain": [
              "   fare_amount\n",
              "0    11.041992\n",
              "1    11.041992\n",
              "2     4.717896\n",
              "3    10.165771\n",
              "4    16.538208"
            ]
          },
          "metadata": {
            "tags": []
          },
          "execution_count": 33
        }
      ]
    },
    {
      "cell_type": "code",
      "metadata": {
        "id": "a6rpJtIjKPQ3",
        "colab_type": "code",
        "colab": {}
      },
      "source": [
        "gdf_submission.to_csv(env_submission_path+'submission_LinearReg.csv',index=False)"
      ],
      "execution_count": 34,
      "outputs": []
    },
    {
      "cell_type": "markdown",
      "metadata": {
        "id": "I8q2_b90LUju",
        "colab_type": "text"
      },
      "source": [
        "# 5. Ridge Regression"
      ]
    },
    {
      "cell_type": "code",
      "metadata": {
        "id": "uSSWCb9xPv4h",
        "colab_type": "code",
        "colab": {
          "base_uri": "https://localhost:8080/",
          "height": 127
        },
        "outputId": "5fe88779-658a-4fa6-c9dc-29a20ad167cf"
      },
      "source": [
        "X=train.drop(['fare_amount'],axis=1)\n",
        "y=train['fare_amount']\n",
        "\n",
        "X_train, X_test, y_train, y_test = train_test_split(X,y, test_size=0.2)\n",
        "print(\"Number of records in training data \",X_train.shape[0])\n",
        "print(\"Number of records in validation data \",X_test.shape[0])\n",
        "print(X_train.shape)\n",
        "print(X_test.shape)\n",
        "print(y_train.shape)\n",
        "print(y_test.shape)"
      ],
      "execution_count": 35,
      "outputs": [
        {
          "output_type": "stream",
          "text": [
            "Number of records in training data  39130\n",
            "Number of records in validation data  9782\n",
            "(39130, 6)\n",
            "(9782, 6)\n",
            "(39130,)\n",
            "(9782,)\n"
          ],
          "name": "stdout"
        }
      ]
    },
    {
      "cell_type": "code",
      "metadata": {
        "id": "jusciUoQP0_Z",
        "colab_type": "code",
        "colab": {
          "base_uri": "https://localhost:8080/",
          "height": 1000
        },
        "outputId": "38d83068-8a64-4867-f879-51c63a37b3eb"
      },
      "source": [
        "params_ridge = {\n",
        "    \"alpha\": loguniform(1e-5, 1e0), # default 1.0\n",
        "    \"solver\": ['eig', 'cd'], \n",
        "}\n",
        "ridge = Ridge()\n",
        "clf = RandomizedSearchCV(ridge, params_ridge, random_state=1, n_iter=100, cv=5, verbose=0, n_jobs=1)\n",
        "best_model = clf.fit(X_train,y_train)"
      ],
      "execution_count": 36,
      "outputs": [
        {
          "output_type": "error",
          "ename": "RuntimeError",
          "evalue": "ignored",
          "traceback": [
            "\u001b[0;31m---------------------------------------------------------------------------\u001b[0m",
            "\u001b[0;31mRuntimeError\u001b[0m                              Traceback (most recent call last)",
            "\u001b[0;32m<ipython-input-36-c8657046b942>\u001b[0m in \u001b[0;36m<module>\u001b[0;34m()\u001b[0m\n\u001b[1;32m      5\u001b[0m \u001b[0mridge\u001b[0m \u001b[0;34m=\u001b[0m \u001b[0mRidge\u001b[0m\u001b[0;34m(\u001b[0m\u001b[0;34m)\u001b[0m\u001b[0;34m\u001b[0m\u001b[0;34m\u001b[0m\u001b[0m\n\u001b[1;32m      6\u001b[0m \u001b[0mclf\u001b[0m \u001b[0;34m=\u001b[0m \u001b[0mRandomizedSearchCV\u001b[0m\u001b[0;34m(\u001b[0m\u001b[0mridge\u001b[0m\u001b[0;34m,\u001b[0m \u001b[0mparams_ridge\u001b[0m\u001b[0;34m,\u001b[0m \u001b[0mrandom_state\u001b[0m\u001b[0;34m=\u001b[0m\u001b[0;36m1\u001b[0m\u001b[0;34m,\u001b[0m \u001b[0mn_iter\u001b[0m\u001b[0;34m=\u001b[0m\u001b[0;36m100\u001b[0m\u001b[0;34m,\u001b[0m \u001b[0mcv\u001b[0m\u001b[0;34m=\u001b[0m\u001b[0;36m5\u001b[0m\u001b[0;34m,\u001b[0m \u001b[0mverbose\u001b[0m\u001b[0;34m=\u001b[0m\u001b[0;36m0\u001b[0m\u001b[0;34m,\u001b[0m \u001b[0mn_jobs\u001b[0m\u001b[0;34m=\u001b[0m\u001b[0;36m1\u001b[0m\u001b[0;34m)\u001b[0m\u001b[0;34m\u001b[0m\u001b[0;34m\u001b[0m\u001b[0m\n\u001b[0;32m----> 7\u001b[0;31m \u001b[0mbest_model\u001b[0m \u001b[0;34m=\u001b[0m \u001b[0mclf\u001b[0m\u001b[0;34m.\u001b[0m\u001b[0mfit\u001b[0m\u001b[0;34m(\u001b[0m\u001b[0mX_train\u001b[0m\u001b[0;34m,\u001b[0m\u001b[0my_train\u001b[0m\u001b[0;34m)\u001b[0m\u001b[0;34m\u001b[0m\u001b[0;34m\u001b[0m\u001b[0m\n\u001b[0m",
            "\u001b[0;32m/usr/local/lib/python3.6/site-packages/sklearn/utils/validation.py\u001b[0m in \u001b[0;36minner_f\u001b[0;34m(*args, **kwargs)\u001b[0m\n\u001b[1;32m     70\u001b[0m                           FutureWarning)\n\u001b[1;32m     71\u001b[0m         \u001b[0mkwargs\u001b[0m\u001b[0;34m.\u001b[0m\u001b[0mupdate\u001b[0m\u001b[0;34m(\u001b[0m\u001b[0;34m{\u001b[0m\u001b[0mk\u001b[0m\u001b[0;34m:\u001b[0m \u001b[0marg\u001b[0m \u001b[0;32mfor\u001b[0m \u001b[0mk\u001b[0m\u001b[0;34m,\u001b[0m \u001b[0marg\u001b[0m \u001b[0;32min\u001b[0m \u001b[0mzip\u001b[0m\u001b[0;34m(\u001b[0m\u001b[0msig\u001b[0m\u001b[0;34m.\u001b[0m\u001b[0mparameters\u001b[0m\u001b[0;34m,\u001b[0m \u001b[0margs\u001b[0m\u001b[0;34m)\u001b[0m\u001b[0;34m}\u001b[0m\u001b[0;34m)\u001b[0m\u001b[0;34m\u001b[0m\u001b[0;34m\u001b[0m\u001b[0m\n\u001b[0;32m---> 72\u001b[0;31m         \u001b[0;32mreturn\u001b[0m \u001b[0mf\u001b[0m\u001b[0;34m(\u001b[0m\u001b[0;34m**\u001b[0m\u001b[0mkwargs\u001b[0m\u001b[0;34m)\u001b[0m\u001b[0;34m\u001b[0m\u001b[0;34m\u001b[0m\u001b[0m\n\u001b[0m\u001b[1;32m     73\u001b[0m     \u001b[0;32mreturn\u001b[0m \u001b[0minner_f\u001b[0m\u001b[0;34m\u001b[0m\u001b[0;34m\u001b[0m\u001b[0m\n\u001b[1;32m     74\u001b[0m \u001b[0;34m\u001b[0m\u001b[0m\n",
            "\u001b[0;32m/usr/local/lib/python3.6/site-packages/sklearn/model_selection/_search.py\u001b[0m in \u001b[0;36mfit\u001b[0;34m(self, X, y, groups, **fit_params)\u001b[0m\n\u001b[1;32m    763\u001b[0m             \u001b[0mrefit_start_time\u001b[0m \u001b[0;34m=\u001b[0m \u001b[0mtime\u001b[0m\u001b[0;34m.\u001b[0m\u001b[0mtime\u001b[0m\u001b[0;34m(\u001b[0m\u001b[0;34m)\u001b[0m\u001b[0;34m\u001b[0m\u001b[0;34m\u001b[0m\u001b[0m\n\u001b[1;32m    764\u001b[0m             \u001b[0;32mif\u001b[0m \u001b[0my\u001b[0m \u001b[0;32mis\u001b[0m \u001b[0;32mnot\u001b[0m \u001b[0;32mNone\u001b[0m\u001b[0;34m:\u001b[0m\u001b[0;34m\u001b[0m\u001b[0;34m\u001b[0m\u001b[0m\n\u001b[0;32m--> 765\u001b[0;31m                 \u001b[0mself\u001b[0m\u001b[0;34m.\u001b[0m\u001b[0mbest_estimator_\u001b[0m\u001b[0;34m.\u001b[0m\u001b[0mfit\u001b[0m\u001b[0;34m(\u001b[0m\u001b[0mX\u001b[0m\u001b[0;34m,\u001b[0m \u001b[0my\u001b[0m\u001b[0;34m,\u001b[0m \u001b[0;34m**\u001b[0m\u001b[0mfit_params\u001b[0m\u001b[0;34m)\u001b[0m\u001b[0;34m\u001b[0m\u001b[0;34m\u001b[0m\u001b[0m\n\u001b[0m\u001b[1;32m    766\u001b[0m             \u001b[0;32melse\u001b[0m\u001b[0;34m:\u001b[0m\u001b[0;34m\u001b[0m\u001b[0;34m\u001b[0m\u001b[0m\n\u001b[1;32m    767\u001b[0m                 \u001b[0mself\u001b[0m\u001b[0;34m.\u001b[0m\u001b[0mbest_estimator_\u001b[0m\u001b[0;34m.\u001b[0m\u001b[0mfit\u001b[0m\u001b[0;34m(\u001b[0m\u001b[0mX\u001b[0m\u001b[0;34m,\u001b[0m \u001b[0;34m**\u001b[0m\u001b[0mfit_params\u001b[0m\u001b[0;34m)\u001b[0m\u001b[0;34m\u001b[0m\u001b[0;34m\u001b[0m\u001b[0m\n",
            "\u001b[0;32mcuml/linear_model/ridge.pyx\u001b[0m in \u001b[0;36mcuml.linear_model.ridge.Ridge.fit\u001b[0;34m()\u001b[0m\n",
            "\u001b[0;31mRuntimeError\u001b[0m: Exception occured! file=/conda/conda-bld/libcuml_1591208841859/work/cpp/src/glm/ridge.cuh line=176: ridgeFit: no algorithm with this id has been implemented\nObtained 64 stack frames\n#0 in /usr/local/lib/python3.6/site-packages/cuml/common/pointer_utils.cpython-36m-x86_64-linux-gnu.so(_ZN8MLCommon9Exception16collectCallStackEv+0x3e) [0x7efb7768711e]\n#1 in /usr/local/lib/python3.6/site-packages/cuml/common/pointer_utils.cpython-36m-x86_64-linux-gnu.so(_ZN8MLCommon9ExceptionC1ERKNSt7__cxx1112basic_stringIcSt11char_traitsIcESaIcEEE+0x80) [0x7efb77687c30]\n#2 in /usr/local/lib/python3.6/site-packages/cuml/common/../../../../libcuml++.so(_ZN2ML3GLM8ridgeFitIfEEvRKNS_15cumlHandle_implEPT_iiS6_S6_iS6_S6_bbP11CUstream_sti+0x3e9) [0x7efb52bad149]\n#3 in /usr/local/lib/python3.6/site-packages/cuml/common/../../../../libcuml++.so(_ZN2ML3GLM8ridgeFitERKNS_10cumlHandleEPfiiS4_S4_iS4_S4_bbi+0xb1) [0x7efb52b6af71]\n#4 in /usr/local/lib/python3.6/site-packages/cuml/linear_model/ridge.cpython-36m-x86_64-linux-gnu.so(+0x115fc) [0x7efb747f35fc]\n#5 in /usr/bin/python3() [0x59488c]\n#6 in /usr/bin/python3(PyObject_Call+0x3e) [0x59fe1e]\n#7 in /usr/bin/python3(_PyEval_EvalFrameDefault+0x17e6) [0x50d596]\n#8 in /usr/bin/python3() [0x507f24]\n#9 in /usr/bin/python3() [0x588fac]\n#10 in /usr/bin/python3(PyObject_Call+0x3e) [0x59fe1e]\n#11 in /usr/bin/python3(_PyEval_EvalFrameDefault+0x17e6) [0x50d596]\n#12 in /usr/bin/python3() [0x507f24]\n#13 in /usr/bin/python3() [0x509c50]\n#14 in /usr/bin/python3() [0x50a64d]\n#15 in /usr/bin/python3(_PyEval_EvalFrameDefault+0x444) [0x50c1f4]\n#16 in /usr/bin/python3() [0x507f24]\n#17 in /usr/bin/python3() [0x5165a5]\n#18 in /usr/bin/python3() [0x50a47f]\n#19 in /usr/bin/python3(_PyEval_EvalFrameDefault+0x444) [0x50c1f4]\n#20 in /usr/bin/python3() [0x507f24]\n#21 in /usr/bin/python3() [0x509c50]\n#22 in /usr/bin/python3() [0x50a64d]\n#23 in /usr/bin/python3(_PyEval_EvalFrameDefault+0x444) [0x50c1f4]\n#24 in /usr/bin/python3() [0x507f24]\n#25 in /usr/bin/python3() [0x509c50]\n#26 in /usr/bin/python3() [0x50a64d]\n#27 in /usr/bin/python3(_PyEval_EvalFrameDefault+0x1226) [0x50cfd6]\n#28 in /usr/bin/python3() [0x507f24]\n#29 in /usr/bin/python3(_PyFunction_FastCallDict+0x2e2) [0x509202]\n#30 in /usr/bin/python3() [0x594b01]\n#31 in /usr/bin/python3(PyObject_Call+0x3e) [0x59fe1e]\n#32 in /usr/bin/python3(_PyEval_EvalFrameDefault+0x17e6) [0x50d596]\n#33 in /usr/bin/python3() [0x507f24]\n#34 in /usr/bin/python3() [0x509c50]\n#35 in /usr/bin/python3() [0x50a64d]\n#36 in /usr/bin/python3(_PyEval_EvalFrameDefault+0x1226) [0x50cfd6]\n#37 in /usr/bin/python3() [0x507f24]\n#38 in /usr/bin/python3() [0x509c50]\n#39 in /usr/bin/python3() [0x50a64d]\n#40 in /usr/bin/python3(_PyEval_EvalFrameDefault+0x444) [0x50c1f4]\n#41 in /usr/bin/python3() [0x509918]\n#42 in /usr/bin/python3() [0x50a64d]\n#43 in /usr/bin/python3(_PyEval_EvalFrameDefault+0x444) [0x50c1f4]\n#44 in /usr/bin/python3() [0x509918]\n#45 in /usr/bin/python3() [0x50a64d]\n#46 in /usr/bin/python3(_PyEval_EvalFrameDefault+0x444) [0x50c1f4]\n#47 in /usr/bin/python3() [0x507f24]\n#48 in /usr/bin/python3() [0x588e91]\n#49 in /usr/bin/python3(PyObject_Call+0x3e) [0x59fe1e]\n#50 in /usr/bin/python3(_PyEval_EvalFrameDefault+0x17e6) [0x50d596]\n#51 in /usr/bin/python3() [0x507f24]\n#52 in /usr/bin/python3() [0x588e91]\n#53 in /usr/bin/python3(PyObject_Call+0x3e) [0x59fe1e]\n#54 in /usr/bin/python3(_PyEval_EvalFrameDefault+0x17e6) [0x50d596]\n#55 in /usr/bin/python3() [0x507f24]\n#56 in /usr/bin/python3() [0x509c50]\n#57 in /usr/bin/python3() [0x50a64d]\n#58 in /usr/bin/python3(_PyEval_EvalFrameDefault+0x444) [0x50c1f4]\n#59 in /usr/bin/python3() [0x509918]\n#60 in /usr/bin/python3() [0x50a64d]\n#61 in /usr/bin/python3(_PyEval_EvalFrameDefault+0x444) [0x50c1f4]\n#62 in /usr/bin/python3() [0x509918]\n#63 in /usr/bin/python3() [0x50a64d]\n"
          ]
        }
      ]
    },
    {
      "cell_type": "code",
      "metadata": {
        "id": "_wUP1Kc9P71y",
        "colab_type": "code",
        "colab": {}
      },
      "source": [
        "best_model.best_estimator_.get_params()"
      ],
      "execution_count": null,
      "outputs": []
    },
    {
      "cell_type": "code",
      "metadata": {
        "id": "uVSS1oaeP-hk",
        "colab_type": "code",
        "colab": {}
      },
      "source": [
        "ridge_params = {\n",
        " 'alpha': 0.240960447726532,\n",
        " 'fit_intercept': True,\n",
        " 'normalize': False,\n",
        " 'solver': 'eig'\n",
        "}\n",
        "\n",
        "ridge = Ridge(**ridge_params)\n",
        "result_ridge = ridge.fit(X_train,y_train)\n",
        "\n",
        "y_pred = result_ridge.predict(X_test)\n",
        "ridge_rmse = r2_score(y_pred, y_test)\n",
        "print(\"RMSE for Ridge_rmse Regression is \", ridge_rmse)"
      ],
      "execution_count": null,
      "outputs": []
    },
    {
      "cell_type": "code",
      "metadata": {
        "id": "UiacUjg6QDfu",
        "colab_type": "code",
        "colab": {}
      },
      "source": [
        "ridge_pred = result_ridge.predict(test)"
      ],
      "execution_count": null,
      "outputs": []
    },
    {
      "cell_type": "code",
      "metadata": {
        "id": "eO3y0SH9QKXP",
        "colab_type": "code",
        "colab": {}
      },
      "source": [
        "gdf_submission = submission\n",
        "gdf_submission['fare_amount']= ridge_pred\n",
        "\n",
        "gdf_submission.head()"
      ],
      "execution_count": null,
      "outputs": []
    },
    {
      "cell_type": "code",
      "metadata": {
        "id": "O9ZhuMwuQURQ",
        "colab_type": "code",
        "colab": {}
      },
      "source": [
        "gdf_submission.to_csv(env_submission_path+'submission_RidReg.csv',index=False)"
      ],
      "execution_count": null,
      "outputs": []
    },
    {
      "cell_type": "markdown",
      "metadata": {
        "id": "KhmGe2pIH8bs",
        "colab_type": "text"
      },
      "source": [
        "# 6. K-Nearest Neighbors Regression\n",
        "\n",
        "https://github.com/rapidsai/cuml/blob/branch-0.13/notebooks/kneighbors_regressor_demo.ipynb\n"
      ]
    },
    {
      "cell_type": "code",
      "metadata": {
        "id": "hlIw0FgjaKgP",
        "colab_type": "code",
        "colab": {}
      },
      "source": [
        "## params\n",
        "n_neighbors=4"
      ],
      "execution_count": 37,
      "outputs": []
    },
    {
      "cell_type": "code",
      "metadata": {
        "id": "Dt2ZS-EZXmAP",
        "colab_type": "code",
        "colab": {
          "base_uri": "https://localhost:8080/",
          "height": 0
        },
        "outputId": "c9f0ebe5-7c76-4387-fe0a-230ce58d7a7d"
      },
      "source": [
        "X=train.drop(['fare_amount'],axis=1)\n",
        "y=train['fare_amount']\n",
        "\n",
        "X_train, X_test, y_train, y_test = train_test_split(X,y, test_size=0.2)\n",
        "print(\"Number of records in training data \",X_train.shape[0])\n",
        "print(\"Number of records in validation data \",X_test.shape[0])\n",
        "print(X_train.shape)\n",
        "print(X_test.shape)\n",
        "print(y_train.shape)\n",
        "print(y_test.shape)"
      ],
      "execution_count": 38,
      "outputs": [
        {
          "output_type": "stream",
          "text": [
            "Number of records in training data  39130\n",
            "Number of records in validation data  9782\n",
            "(39130, 6)\n",
            "(9782, 6)\n",
            "(39130,)\n",
            "(9782,)\n"
          ],
          "name": "stdout"
        }
      ]
    },
    {
      "cell_type": "code",
      "metadata": {
        "id": "kmdzooShH-MM",
        "colab_type": "code",
        "colab": {
          "base_uri": "https://localhost:8080/",
          "height": 0
        },
        "outputId": "6189c8bd-2256-4eda-8064-f100bdfd2c3a"
      },
      "source": [
        "## inspiration: https://www.kaggle.com/cdeotte/rapids-knn-30-seconds-0-938/notebook\n",
        "\n",
        "%%time\n",
        "knn_cuml = cumlKNR(n_neighbors=n_neighbors)\n",
        "knn_cuml.fit(X_train, y_train)\n",
        "\n",
        "cuml_result = knn_cuml.predict(test)"
      ],
      "execution_count": 39,
      "outputs": [
        {
          "output_type": "stream",
          "text": [
            "CPU times: user 21.9 ms, sys: 164 ms, total: 186 ms\n",
            "Wall time: 186 ms\n"
          ],
          "name": "stdout"
        }
      ]
    },
    {
      "cell_type": "code",
      "metadata": {
        "id": "kjWTGwu_aqNH",
        "colab_type": "code",
        "colab": {
          "base_uri": "https://localhost:8080/",
          "height": 0
        },
        "outputId": "e4d7b376-0958-4993-f53e-f2abef41f9a4"
      },
      "source": [
        "#y_pred=knn_cuml.predict(X_test)\n",
        "\n",
        "y_pred = knn_cuml.predict(X_test)\n",
        "knn_cuml_rmse = cuml.metrics.regression.r2_score(y_pred, y_test)\n",
        "print(\"RMSE for K-Nearest Neighbor is \",knn_cuml_rmse)"
      ],
      "execution_count": 40,
      "outputs": [
        {
          "output_type": "stream",
          "text": [
            "RMSE for K-Nearest Neighbor is  0.6358001232147217\n"
          ],
          "name": "stdout"
        }
      ]
    },
    {
      "cell_type": "code",
      "metadata": {
        "id": "ES6Gfl_GggKb",
        "colab_type": "code",
        "colab": {}
      },
      "source": [
        ""
      ],
      "execution_count": 40,
      "outputs": []
    },
    {
      "cell_type": "code",
      "metadata": {
        "id": "fzP6K_03ZYyR",
        "colab_type": "code",
        "colab": {}
      },
      "source": [
        "gdf_submission = submission\n",
        "gdf_submission['fare_amount']= cuml_result\n",
        "\n",
        "gdf_submission.head()\n",
        "\n",
        "gdf_submission.to_csv(env_submission_path+'submission_KNearest.csv',index=False)"
      ],
      "execution_count": 41,
      "outputs": []
    },
    {
      "cell_type": "markdown",
      "metadata": {
        "id": "T0nLQZe2zzv_",
        "colab_type": "text"
      },
      "source": [
        "# Random Forest GPU\n"
      ]
    },
    {
      "cell_type": "code",
      "metadata": {
        "id": "nTlFRIbi1hly",
        "colab_type": "code",
        "colab": {}
      },
      "source": [
        "## params\n",
        "n_estimators=10\n",
        "n_jobs=-1"
      ],
      "execution_count": 42,
      "outputs": []
    },
    {
      "cell_type": "code",
      "metadata": {
        "id": "wHSZ7-CFz3Xv",
        "colab_type": "code",
        "colab": {
          "base_uri": "https://localhost:8080/",
          "height": 0
        },
        "outputId": "c60ec49b-eafc-475b-8907-c99c8c9eff77"
      },
      "source": [
        "X=train.drop(['fare_amount'],axis=1)\n",
        "y=train['fare_amount']\n",
        "\n",
        "X_train, X_test, y_train, y_test = train_test_split(X,y, test_size=0.2)\n",
        "print(\"Number of records in training data \",X_train.shape[0])\n",
        "print(\"Number of records in validation data \",X_test.shape[0])\n",
        "print(X_train.shape)\n",
        "print(X_test.shape)\n",
        "print(y_train.shape)\n",
        "print(y_test.shape)"
      ],
      "execution_count": 43,
      "outputs": [
        {
          "output_type": "stream",
          "text": [
            "Number of records in training data  39130\n",
            "Number of records in validation data  9782\n",
            "(39130, 6)\n",
            "(9782, 6)\n",
            "(39130,)\n",
            "(9782,)\n"
          ],
          "name": "stdout"
        }
      ]
    },
    {
      "cell_type": "code",
      "metadata": {
        "id": "7aJAo-cM0F3C",
        "colab_type": "code",
        "colab": {
          "base_uri": "https://localhost:8080/",
          "height": 0
        },
        "outputId": "64dbefb2-ac87-4740-d90c-4f9947f70b29"
      },
      "source": [
        "%%time\n",
        "rf_cuml = cuRF(n_estimators=n_estimators)\n",
        "rf_cuml.fit(X_train, y_train)\n",
        "\n",
        "cuRF_result = rf_cuml.predict(test)"
      ],
      "execution_count": 44,
      "outputs": [
        {
          "output_type": "stream",
          "text": [
            "CPU times: user 220 ms, sys: 104 ms, total: 324 ms\n",
            "Wall time: 279 ms\n"
          ],
          "name": "stdout"
        }
      ]
    },
    {
      "cell_type": "code",
      "metadata": {
        "id": "JopZ4B2P1vh7",
        "colab_type": "code",
        "colab": {
          "base_uri": "https://localhost:8080/",
          "height": 0
        },
        "outputId": "9f730db2-07aa-46ed-ffbe-8d577c03431e"
      },
      "source": [
        "y_pred = rf_cuml.predict(X_test)\n",
        "rf_cuml_rmse = cuml.metrics.regression.r2_score(y_pred, y_test)\n",
        "print(\"RMSE for Random Forest is \",rf_cuml_rmse)"
      ],
      "execution_count": 45,
      "outputs": [
        {
          "output_type": "stream",
          "text": [
            "RMSE for Random Forest is  0.27523255348205566\n"
          ],
          "name": "stdout"
        }
      ]
    },
    {
      "cell_type": "code",
      "metadata": {
        "id": "B0tAnJJv4T-x",
        "colab_type": "code",
        "colab": {}
      },
      "source": [
        "gdf_submission = submission\n",
        "gdf_submission['fare_amount']= cuRF_result\n",
        "\n",
        "gdf_submission.head()\n",
        "\n",
        "gdf_submission.to_csv(env_submission_path+'submission_RandomForest.csv',index=False)"
      ],
      "execution_count": 46,
      "outputs": []
    },
    {
      "cell_type": "markdown",
      "metadata": {
        "id": "BiCY_q1uPEyD",
        "colab_type": "text"
      },
      "source": [
        "# XG Boost model"
      ]
    },
    {
      "cell_type": "code",
      "metadata": {
        "id": "nfzVFTriPIEY",
        "colab_type": "code",
        "colab": {}
      },
      "source": [
        "params = {\n",
        "    'max_depth': 7,\n",
        "    'gamma' :0,\n",
        "    'eta':.03, \n",
        "    'subsample': 1,\n",
        "    'colsample_bytree': 0.9, \n",
        "    'objective':'reg:linear',\n",
        "    'eval_metric':'rmse',\n",
        "    'silent': 0\n",
        "}"
      ],
      "execution_count": 47,
      "outputs": []
    },
    {
      "cell_type": "code",
      "metadata": {
        "id": "9e56ryuTPMGG",
        "colab_type": "code",
        "colab": {
          "base_uri": "https://localhost:8080/",
          "height": 246
        },
        "outputId": "2da7e975-caef-4b0c-a66b-0efcbbdf6f92"
      },
      "source": [
        "X=train.drop(['fare_amount'],axis=1)\n",
        "y=train['fare_amount']\n",
        "\n",
        "X_train, X_test, y_train, y_test = train_test_split(X,y, test_size=0.2)\n",
        "print(\"Number of records in training data \",X_train.shape[0])\n",
        "print(\"Number of records in validation data \",X_test.shape[0])\n",
        "print(X_train.shape)\n",
        "print(X_test.shape)\n",
        "print(y_train.shape)\n",
        "print(y_test.shape)"
      ],
      "execution_count": 7,
      "outputs": [
        {
          "output_type": "error",
          "ename": "NameError",
          "evalue": "ignored",
          "traceback": [
            "\u001b[0;31m---------------------------------------------------------------------------\u001b[0m",
            "\u001b[0;31mNameError\u001b[0m                                 Traceback (most recent call last)",
            "\u001b[0;32m<ipython-input-7-fed8e555a237>\u001b[0m in \u001b[0;36m<module>\u001b[0;34m()\u001b[0m\n\u001b[0;32m----> 1\u001b[0;31m \u001b[0mX\u001b[0m\u001b[0;34m=\u001b[0m\u001b[0mtrain\u001b[0m\u001b[0;34m.\u001b[0m\u001b[0mdrop\u001b[0m\u001b[0;34m(\u001b[0m\u001b[0;34m[\u001b[0m\u001b[0;34m'fare_amount'\u001b[0m\u001b[0;34m]\u001b[0m\u001b[0;34m,\u001b[0m\u001b[0maxis\u001b[0m\u001b[0;34m=\u001b[0m\u001b[0;36m1\u001b[0m\u001b[0;34m)\u001b[0m\u001b[0;34m\u001b[0m\u001b[0;34m\u001b[0m\u001b[0m\n\u001b[0m\u001b[1;32m      2\u001b[0m \u001b[0my\u001b[0m\u001b[0;34m=\u001b[0m\u001b[0mtrain\u001b[0m\u001b[0;34m[\u001b[0m\u001b[0;34m'fare_amount'\u001b[0m\u001b[0;34m]\u001b[0m\u001b[0;34m\u001b[0m\u001b[0;34m\u001b[0m\u001b[0m\n\u001b[1;32m      3\u001b[0m \u001b[0;34m\u001b[0m\u001b[0m\n\u001b[1;32m      4\u001b[0m \u001b[0mX_train\u001b[0m\u001b[0;34m,\u001b[0m \u001b[0mX_test\u001b[0m\u001b[0;34m,\u001b[0m \u001b[0my_train\u001b[0m\u001b[0;34m,\u001b[0m \u001b[0my_test\u001b[0m \u001b[0;34m=\u001b[0m \u001b[0mtrain_test_split\u001b[0m\u001b[0;34m(\u001b[0m\u001b[0mX\u001b[0m\u001b[0;34m,\u001b[0m\u001b[0my\u001b[0m\u001b[0;34m,\u001b[0m \u001b[0mtest_size\u001b[0m\u001b[0;34m=\u001b[0m\u001b[0;36m0.2\u001b[0m\u001b[0;34m)\u001b[0m\u001b[0;34m\u001b[0m\u001b[0;34m\u001b[0m\u001b[0m\n\u001b[1;32m      5\u001b[0m \u001b[0mprint\u001b[0m\u001b[0;34m(\u001b[0m\u001b[0;34m\"Number of records in training data \"\u001b[0m\u001b[0;34m,\u001b[0m\u001b[0mX_train\u001b[0m\u001b[0;34m.\u001b[0m\u001b[0mshape\u001b[0m\u001b[0;34m[\u001b[0m\u001b[0;36m0\u001b[0m\u001b[0;34m]\u001b[0m\u001b[0;34m)\u001b[0m\u001b[0;34m\u001b[0m\u001b[0;34m\u001b[0m\u001b[0m\n",
            "\u001b[0;31mNameError\u001b[0m: name 'train' is not defined"
          ]
        }
      ]
    },
    {
      "cell_type": "code",
      "metadata": {
        "id": "TpLZNVFIPH5o",
        "colab_type": "code",
        "colab": {}
      },
      "source": [
        "def XGBmodel(X_train,X_test,y_train,y_test,params):\n",
        "    matrix_train = xgb.DMatrix(X_train,label=y_train)\n",
        "    matrix_test = xgb.DMatrix(X_test,label=y_test)\n",
        "    model=xgb.train(params=params,\n",
        "                    dtrain=matrix_train,num_boost_round=5000, \n",
        "                    early_stopping_rounds=10,evals=[(matrix_test,'test')])\n",
        "    return model\n",
        "\n",
        "XGB_model = XGBmodel(X_train,X_test,y_train,y_test,params)"
      ],
      "execution_count": null,
      "outputs": []
    },
    {
      "cell_type": "code",
      "metadata": {
        "id": "uK07JiG4PH0w",
        "colab_type": "code",
        "colab": {
          "base_uri": "https://localhost:8080/",
          "height": 172
        },
        "outputId": "fb56ff71-e93b-456e-9f16-95ae74fc2574"
      },
      "source": [
        "xgb_prediction = XGB_model.predict(xgb.DMatrix(test), ntree_limit = XGB_model.best_ntree_limit).tolist()"
      ],
      "execution_count": 1,
      "outputs": [
        {
          "output_type": "error",
          "ename": "NameError",
          "evalue": "ignored",
          "traceback": [
            "\u001b[0;31m---------------------------------------------------------------------------\u001b[0m",
            "\u001b[0;31mNameError\u001b[0m                                 Traceback (most recent call last)",
            "\u001b[0;32m<ipython-input-1-43025dcdd3c6>\u001b[0m in \u001b[0;36m<module>\u001b[0;34m()\u001b[0m\n\u001b[0;32m----> 1\u001b[0;31m \u001b[0mxgb_prediction\u001b[0m \u001b[0;34m=\u001b[0m \u001b[0mXGB_model\u001b[0m\u001b[0;34m.\u001b[0m\u001b[0mpredict\u001b[0m\u001b[0;34m(\u001b[0m\u001b[0mxgb\u001b[0m\u001b[0;34m.\u001b[0m\u001b[0mDMatrix\u001b[0m\u001b[0;34m(\u001b[0m\u001b[0mtest\u001b[0m\u001b[0;34m)\u001b[0m\u001b[0;34m,\u001b[0m \u001b[0mntree_limit\u001b[0m \u001b[0;34m=\u001b[0m \u001b[0mXGB_model\u001b[0m\u001b[0;34m.\u001b[0m\u001b[0mbest_ntree_limit\u001b[0m\u001b[0;34m)\u001b[0m\u001b[0;34m.\u001b[0m\u001b[0mtolist\u001b[0m\u001b[0;34m(\u001b[0m\u001b[0;34m)\u001b[0m\u001b[0;34m\u001b[0m\u001b[0;34m\u001b[0m\u001b[0m\n\u001b[0m",
            "\u001b[0;31mNameError\u001b[0m: name 'XGB_model' is not defined"
          ]
        }
      ]
    },
    {
      "cell_type": "code",
      "metadata": {
        "id": "LoAa0Oc8Pu4K",
        "colab_type": "code",
        "colab": {}
      },
      "source": [
        "y_pred = XGB_model.predict(xgb.DMatrix(X_test))\n",
        "XGB_rmse = cuml.metrics.regression.r2_score(y_pred, y_test)\n",
        "print(\"RMSE for Random Forest is \",XGB_rmse)"
      ],
      "execution_count": null,
      "outputs": []
    },
    {
      "cell_type": "code",
      "metadata": {
        "id": "NYIYJvOpP3Py",
        "colab_type": "code",
        "colab": {
          "base_uri": "https://localhost:8080/",
          "height": 246
        },
        "outputId": "8007c7c6-7c20-4847-9030-1cbc91891c13"
      },
      "source": [
        "xgb_submission = submission\n",
        "xgb_submission['fare_amount']= xgb_prediction\n",
        "\n",
        "xgb_submission.head()\n",
        "\n",
        "xgb_submission.to_csv(env_submission_path+'submission_XGB.csv',index=False)"
      ],
      "execution_count": 1,
      "outputs": [
        {
          "output_type": "error",
          "ename": "NameError",
          "evalue": "ignored",
          "traceback": [
            "\u001b[0;31m---------------------------------------------------------------------------\u001b[0m",
            "\u001b[0;31mNameError\u001b[0m                                 Traceback (most recent call last)",
            "\u001b[0;32m<ipython-input-1-7e99e0fd1112>\u001b[0m in \u001b[0;36m<module>\u001b[0;34m()\u001b[0m\n\u001b[0;32m----> 1\u001b[0;31m \u001b[0mxgb_submission\u001b[0m \u001b[0;34m=\u001b[0m \u001b[0msubmission\u001b[0m\u001b[0;34m\u001b[0m\u001b[0;34m\u001b[0m\u001b[0m\n\u001b[0m\u001b[1;32m      2\u001b[0m \u001b[0mxgb_submission\u001b[0m\u001b[0;34m[\u001b[0m\u001b[0;34m'fare_amount'\u001b[0m\u001b[0;34m]\u001b[0m\u001b[0;34m=\u001b[0m \u001b[0mxgb_prediction\u001b[0m\u001b[0;34m\u001b[0m\u001b[0;34m\u001b[0m\u001b[0m\n\u001b[1;32m      3\u001b[0m \u001b[0;34m\u001b[0m\u001b[0m\n\u001b[1;32m      4\u001b[0m \u001b[0mxgb_submission\u001b[0m\u001b[0;34m.\u001b[0m\u001b[0mhead\u001b[0m\u001b[0;34m(\u001b[0m\u001b[0;34m)\u001b[0m\u001b[0;34m\u001b[0m\u001b[0;34m\u001b[0m\u001b[0m\n\u001b[1;32m      5\u001b[0m \u001b[0;34m\u001b[0m\u001b[0m\n",
            "\u001b[0;31mNameError\u001b[0m: name 'submission' is not defined"
          ]
        }
      ]
    },
    {
      "cell_type": "markdown",
      "metadata": {
        "id": "dXgn5i-9r2Ih",
        "colab_type": "text"
      },
      "source": [
        "# LGBM model"
      ]
    },
    {
      "cell_type": "markdown",
      "metadata": {
        "id": "awLaNNrur6tD",
        "colab_type": "text"
      },
      "source": [
        "- https://medium.com/@pushkarmandot/https-medium-com-pushkarmandot-what-is-lightgbm-how-to-implement-it-how-to-fine-tune-the-parameters-60347819b7fc\n",
        "\n",
        "- https://www.kaggle.com/nicapotato/taxi-rides-time-analysis-and-oof-lgbm\n",
        "\n",
        "- https://www.kaggle.com/dsaichand3/lgbm-gpu\n",
        "\n",
        "- https://www.kaggle.com/aerdem4/rapids-svm-on-trends-neuroimaging\n",
        "\n",
        "\n",
        "Compared CPU vs GPU:\n",
        "- https://www.kaggle.com/ishivinal/sklearn-rapids-pandas\n"
      ]
    },
    {
      "cell_type": "markdown",
      "metadata": {
        "id": "Br4cxQ_dhhOd",
        "colab_type": "text"
      },
      "source": [
        "## Setup LGBM with GPU Support\n",
        "\n",
        "How to setup LGBM GPU Beta:\n",
        "- https://www.kaggle.com/vinhnguyen/gpu-acceleration-for-lightgbm\n"
      ]
    },
    {
      "cell_type": "code",
      "metadata": {
        "id": "LCEtHPjI3L68",
        "colab_type": "code",
        "colab": {
          "base_uri": "https://localhost:8080/",
          "height": 293
        },
        "outputId": "b5bcaca6-3415-4c52-d503-7321b454821e"
      },
      "source": [
        "!rm -r /opt/conda/lib/python3.6/site-packages/lightgbm\n",
        "!git clone --recursive https://github.com/Microsoft/LightGBM\n",
        "!apt-get install -y -qq libboost-all-dev"
      ],
      "execution_count": 53,
      "outputs": [
        {
          "output_type": "stream",
          "text": [
            "rm: cannot remove '/opt/conda/lib/python3.6/site-packages/lightgbm': No such file or directory\n",
            "Cloning into 'LightGBM'...\n",
            "remote: Enumerating objects: 47, done.\u001b[K\n",
            "remote: Counting objects: 100% (47/47), done.\u001b[K\n",
            "remote: Compressing objects: 100% (46/46), done.\u001b[K\n",
            "remote: Total 19367 (delta 13), reused 4 (delta 0), pack-reused 19320\n",
            "Receiving objects: 100% (19367/19367), 15.65 MiB | 11.91 MiB/s, done.\n",
            "Resolving deltas: 100% (14124/14124), done.\n",
            "Submodule 'include/boost/compute' (https://github.com/boostorg/compute) registered for path 'compute'\n",
            "Cloning into '/content/LightGBM/compute'...\n",
            "remote: Enumerating objects: 21728, done.        \n",
            "remote: Total 21728 (delta 0), reused 0 (delta 0), pack-reused 21728        \n",
            "Receiving objects: 100% (21728/21728), 8.51 MiB | 1.49 MiB/s, done.\n",
            "Resolving deltas: 100% (17565/17565), done.\n",
            "Submodule path 'compute': checked out '36c89134d4013b2e5e45bc55656a18bd6141995a'\n"
          ],
          "name": "stdout"
        }
      ]
    },
    {
      "cell_type": "code",
      "metadata": {
        "id": "55cYhd8bfvff",
        "colab_type": "code",
        "colab": {
          "base_uri": "https://localhost:8080/",
          "height": 1000
        },
        "outputId": "2da3c70c-aa6d-4379-e3b4-177dbd01c747"
      },
      "source": [
        "%%bash\n",
        "cd LightGBM\n",
        "rm -r build\n",
        "mkdir build\n",
        "cd build\n",
        "cmake -DUSE_GPU=1 -DOpenCL_LIBRARY=/usr/local/cuda/lib64/libOpenCL.so -DOpenCL_INCLUDE_DIR=/usr/local/cuda/include/ ..\n",
        "make -j$(nproc)"
      ],
      "execution_count": 54,
      "outputs": [
        {
          "output_type": "stream",
          "text": [
            "-- The C compiler identification is GNU 7.5.0\n",
            "-- The CXX compiler identification is GNU 7.5.0\n",
            "-- Check for working C compiler: /usr/bin/cc\n",
            "-- Check for working C compiler: /usr/bin/cc -- works\n",
            "-- Detecting C compiler ABI info\n",
            "-- Detecting C compiler ABI info - done\n",
            "-- Detecting C compile features\n",
            "-- Detecting C compile features - done\n",
            "-- Check for working CXX compiler: /usr/bin/c++\n",
            "-- Check for working CXX compiler: /usr/bin/c++ -- works\n",
            "-- Detecting CXX compiler ABI info\n",
            "-- Detecting CXX compiler ABI info - done\n",
            "-- Detecting CXX compile features\n",
            "-- Detecting CXX compile features - done\n",
            "-- Found OpenMP_C: -fopenmp (found version \"4.5\") \n",
            "-- Found OpenMP_CXX: -fopenmp (found version \"4.5\") \n",
            "-- Found OpenMP: TRUE (found version \"4.5\")  \n",
            "-- Looking for CL_VERSION_2_2\n",
            "-- Looking for CL_VERSION_2_2 - not found\n",
            "-- Looking for CL_VERSION_2_1\n",
            "-- Looking for CL_VERSION_2_1 - not found\n",
            "-- Looking for CL_VERSION_2_0\n",
            "-- Looking for CL_VERSION_2_0 - not found\n",
            "-- Looking for CL_VERSION_1_2\n",
            "-- Looking for CL_VERSION_1_2 - found\n",
            "-- Found OpenCL: /usr/local/cuda/lib64/libOpenCL.so (found version \"1.2\") \n",
            "-- OpenCL include directory: /usr/local/cuda/include\n",
            "-- Found Boost 1.70.0 at /usr/local/lib/cmake/Boost-1.70.0\n",
            "--   Requested configuration: QUIET REQUIRED COMPONENTS filesystem;system\n",
            "-- Found boost_headers 1.70.0 at /usr/local/lib/cmake/boost_headers-1.70.0\n",
            "-- Found boost_filesystem 1.70.0 at /usr/local/lib/cmake/boost_filesystem-1.70.0\n",
            "--   libboost_filesystem.a\n",
            "-- Adding boost_filesystem dependencies: headers\n",
            "-- Found boost_system 1.70.0 at /usr/local/lib/cmake/boost_system-1.70.0\n",
            "--   libboost_system.a\n",
            "-- Adding boost_system dependencies: headers\n",
            "-- Boost 1.56.0 found.\n",
            "-- Found Boost components:\n",
            "   filesystem;system\n",
            "-- Performing Test MM_PREFETCH\n",
            "-- Performing Test MM_PREFETCH - Success\n",
            "-- Using _mm_prefetch\n",
            "-- Performing Test MM_MALLOC\n",
            "-- Performing Test MM_MALLOC - Success\n",
            "-- Using _mm_malloc\n",
            "-- Configuring done\n",
            "-- Generating done\n",
            "-- Build files have been written to: /content/LightGBM/build\n",
            "Scanning dependencies of target lightgbm\n",
            "Scanning dependencies of target _lightgbm\n",
            "[  1%] Building CXX object CMakeFiles/lightgbm.dir/src/main.cpp.o\n",
            "[  3%] Building CXX object CMakeFiles/_lightgbm.dir/src/application/application.cpp.o\n",
            "[  4%] Building CXX object CMakeFiles/lightgbm.dir/src/application/application.cpp.o\n",
            "[  6%] Building CXX object CMakeFiles/_lightgbm.dir/src/boosting/boosting.cpp.o\n",
            "[  7%] Building CXX object CMakeFiles/lightgbm.dir/src/boosting/boosting.cpp.o\n",
            "[  9%] Building CXX object CMakeFiles/_lightgbm.dir/src/boosting/gbdt.cpp.o\n",
            "[ 10%] Building CXX object CMakeFiles/lightgbm.dir/src/boosting/gbdt.cpp.o\n",
            "[ 12%] Building CXX object CMakeFiles/_lightgbm.dir/src/boosting/gbdt_model_text.cpp.o\n",
            "[ 14%] Building CXX object CMakeFiles/lightgbm.dir/src/boosting/gbdt_model_text.cpp.o\n",
            "[ 15%] Building CXX object CMakeFiles/_lightgbm.dir/src/boosting/gbdt_prediction.cpp.o\n",
            "[ 17%] Building CXX object CMakeFiles/lightgbm.dir/src/boosting/gbdt_prediction.cpp.o\n",
            "[ 18%] Building CXX object CMakeFiles/_lightgbm.dir/src/boosting/prediction_early_stop.cpp.o\n",
            "[ 20%] Building CXX object CMakeFiles/_lightgbm.dir/src/io/bin.cpp.o\n",
            "[ 21%] Building CXX object CMakeFiles/lightgbm.dir/src/boosting/prediction_early_stop.cpp.o\n",
            "[ 23%] Building CXX object CMakeFiles/lightgbm.dir/src/io/bin.cpp.o\n",
            "[ 25%] Building CXX object CMakeFiles/_lightgbm.dir/src/io/config.cpp.o\n",
            "[ 26%] Building CXX object CMakeFiles/lightgbm.dir/src/io/config.cpp.o\n",
            "[ 28%] Building CXX object CMakeFiles/_lightgbm.dir/src/io/config_auto.cpp.o\n",
            "[ 29%] Building CXX object CMakeFiles/lightgbm.dir/src/io/config_auto.cpp.o\n",
            "[ 31%] Building CXX object CMakeFiles/_lightgbm.dir/src/io/dataset.cpp.o\n",
            "[ 32%] Building CXX object CMakeFiles/lightgbm.dir/src/io/dataset.cpp.o\n",
            "[ 34%] Building CXX object CMakeFiles/_lightgbm.dir/src/io/dataset_loader.cpp.o\n",
            "[ 35%] Building CXX object CMakeFiles/lightgbm.dir/src/io/dataset_loader.cpp.o\n",
            "[ 37%] Building CXX object CMakeFiles/_lightgbm.dir/src/io/file_io.cpp.o\n",
            "[ 39%] Building CXX object CMakeFiles/_lightgbm.dir/src/io/json11.cpp.o\n",
            "[ 40%] Building CXX object CMakeFiles/lightgbm.dir/src/io/file_io.cpp.o\n",
            "[ 42%] Building CXX object CMakeFiles/lightgbm.dir/src/io/json11.cpp.o\n",
            "[ 43%] Building CXX object CMakeFiles/_lightgbm.dir/src/io/metadata.cpp.o\n",
            "[ 45%] Building CXX object CMakeFiles/lightgbm.dir/src/io/metadata.cpp.o\n",
            "[ 46%] Building CXX object CMakeFiles/_lightgbm.dir/src/io/parser.cpp.o\n",
            "[ 48%] Building CXX object CMakeFiles/lightgbm.dir/src/io/parser.cpp.o\n",
            "[ 50%] Building CXX object CMakeFiles/_lightgbm.dir/src/io/tree.cpp.o\n",
            "[ 51%] Building CXX object CMakeFiles/lightgbm.dir/src/io/tree.cpp.o\n",
            "[ 53%] Building CXX object CMakeFiles/_lightgbm.dir/src/metric/dcg_calculator.cpp.o\n",
            "[ 54%] Building CXX object CMakeFiles/lightgbm.dir/src/metric/dcg_calculator.cpp.o\n",
            "[ 56%] Building CXX object CMakeFiles/_lightgbm.dir/src/metric/metric.cpp.o\n",
            "[ 57%] Building CXX object CMakeFiles/lightgbm.dir/src/metric/metric.cpp.o\n",
            "[ 59%] Building CXX object CMakeFiles/_lightgbm.dir/src/network/linker_topo.cpp.o\n",
            "[ 60%] Building CXX object CMakeFiles/_lightgbm.dir/src/network/linkers_mpi.cpp.o\n",
            "[ 62%] Building CXX object CMakeFiles/lightgbm.dir/src/network/linker_topo.cpp.o\n",
            "[ 64%] Building CXX object CMakeFiles/_lightgbm.dir/src/network/linkers_socket.cpp.o\n",
            "[ 65%] Building CXX object CMakeFiles/lightgbm.dir/src/network/linkers_mpi.cpp.o\n",
            "[ 67%] Building CXX object CMakeFiles/lightgbm.dir/src/network/linkers_socket.cpp.o\n",
            "[ 68%] Building CXX object CMakeFiles/_lightgbm.dir/src/network/network.cpp.o\n",
            "[ 70%] Building CXX object CMakeFiles/lightgbm.dir/src/network/network.cpp.o\n",
            "[ 71%] Building CXX object CMakeFiles/_lightgbm.dir/src/objective/objective_function.cpp.o\n",
            "[ 73%] Building CXX object CMakeFiles/lightgbm.dir/src/objective/objective_function.cpp.o\n",
            "[ 75%] Building CXX object CMakeFiles/_lightgbm.dir/src/treelearner/cuda_tree_learner.cpp.o\n",
            "[ 76%] Building CXX object CMakeFiles/_lightgbm.dir/src/treelearner/data_parallel_tree_learner.cpp.o\n",
            "[ 78%] Building CXX object CMakeFiles/lightgbm.dir/src/treelearner/cuda_tree_learner.cpp.o\n",
            "[ 79%] Building CXX object CMakeFiles/lightgbm.dir/src/treelearner/data_parallel_tree_learner.cpp.o\n",
            "[ 81%] Building CXX object CMakeFiles/lightgbm.dir/src/treelearner/feature_parallel_tree_learner.cpp.o\n",
            "[ 82%] Building CXX object CMakeFiles/_lightgbm.dir/src/treelearner/feature_parallel_tree_learner.cpp.o\n",
            "[ 84%] Building CXX object CMakeFiles/_lightgbm.dir/src/treelearner/gpu_tree_learner.cpp.o\n",
            "[ 85%] Building CXX object CMakeFiles/lightgbm.dir/src/treelearner/gpu_tree_learner.cpp.o\n",
            "[ 87%] Building CXX object CMakeFiles/lightgbm.dir/src/treelearner/serial_tree_learner.cpp.o\n",
            "[ 89%] Building CXX object CMakeFiles/_lightgbm.dir/src/treelearner/serial_tree_learner.cpp.o\n",
            "[ 90%] Building CXX object CMakeFiles/lightgbm.dir/src/treelearner/tree_learner.cpp.o\n",
            "[ 92%] Building CXX object CMakeFiles/_lightgbm.dir/src/treelearner/tree_learner.cpp.o\n",
            "[ 93%] Building CXX object CMakeFiles/lightgbm.dir/src/treelearner/voting_parallel_tree_learner.cpp.o\n",
            "[ 95%] Building CXX object CMakeFiles/_lightgbm.dir/src/treelearner/voting_parallel_tree_learner.cpp.o\n",
            "[ 96%] Linking CXX executable ../lightgbm\n",
            "[ 98%] Building CXX object CMakeFiles/_lightgbm.dir/src/c_api.cpp.o\n",
            "CMakeFiles/lightgbm.dir/build.make:534: recipe for target '../lightgbm' failed\n",
            "CMakeFiles/Makefile2:109: recipe for target 'CMakeFiles/lightgbm.dir/all' failed\n",
            "[100%] Linking CXX shared library ../lib_lightgbm.so\n",
            "[100%] Built target _lightgbm\n",
            "Makefile:129: recipe for target 'all' failed\n"
          ],
          "name": "stdout"
        },
        {
          "output_type": "stream",
          "text": [
            "rm: cannot remove 'build': No such file or directory\n",
            "CMakeFiles/lightgbm.dir/src/treelearner/gpu_tree_learner.cpp.o: In function `boost::compute::detail::program_binary_path(std::__cxx11::basic_string<char, std::char_traits<char>, std::allocator<char> > const&, bool)':\n",
            "gpu_tree_learner.cpp:(.text._ZN5boost7compute6detail19program_binary_pathERKNSt7__cxx1112basic_stringIcSt11char_traitsIcESaIcEEEb[_ZN5boost7compute6detail19program_binary_pathERKNSt7__cxx1112basic_stringIcSt11char_traitsIcESaIcEEEb]+0x1e5): undefined reference to `boost::filesystem::detail::status(boost::filesystem::path const&, boost::system::error_code*)'\n",
            "gpu_tree_learner.cpp:(.text._ZN5boost7compute6detail19program_binary_pathERKNSt7__cxx1112basic_stringIcSt11char_traitsIcESaIcEEEb[_ZN5boost7compute6detail19program_binary_pathERKNSt7__cxx1112basic_stringIcSt11char_traitsIcESaIcEEEb]+0x233): undefined reference to `boost::filesystem::detail::create_directories(boost::filesystem::path const&, boost::system::error_code*)'\n",
            "CMakeFiles/lightgbm.dir/src/treelearner/gpu_tree_learner.cpp.o: In function `boost::compute::detail::parameter_cache_path[abi:cxx11](bool)':\n",
            "gpu_tree_learner.cpp:(.text._ZN5boost7compute6detail20parameter_cache_pathB5cxx11Eb[_ZN5boost7compute6detail20parameter_cache_pathB5cxx11Eb]+0x70): undefined reference to `boost::filesystem::detail::status(boost::filesystem::path const&, boost::system::error_code*)'\n",
            "gpu_tree_learner.cpp:(.text._ZN5boost7compute6detail20parameter_cache_pathB5cxx11Eb[_ZN5boost7compute6detail20parameter_cache_pathB5cxx11Eb]+0xb4): undefined reference to `boost::filesystem::detail::create_directories(boost::filesystem::path const&, boost::system::error_code*)'\n",
            "CMakeFiles/lightgbm.dir/src/treelearner/gpu_tree_learner.cpp.o: In function `boost::detail::sp_if_not_array<boost::compute::detail::parameter_cache>::type boost::make_shared<boost::compute::detail::parameter_cache, boost::compute::device const&>(boost::compute::device const&)':\n",
            "gpu_tree_learner.cpp:(.text._ZN5boost11make_sharedINS_7compute6detail15parameter_cacheEJRKNS1_6deviceEEEENS_6detail15sp_if_not_arrayIT_E4typeEDpOT0_[_ZN5boost11make_sharedINS_7compute6detail15parameter_cacheEJRKNS1_6deviceEEEENS_6detail15sp_if_not_arrayIT_E4typeEDpOT0_]+0x127): undefined reference to `boost::filesystem::detail::status(boost::filesystem::path const&, boost::system::error_code*)'\n",
            "collect2: error: ld returned 1 exit status\n",
            "make[2]: *** [../lightgbm] Error 1\n",
            "make[1]: *** [CMakeFiles/lightgbm.dir/all] Error 2\n",
            "make[1]: *** Waiting for unfinished jobs....\n",
            "make: *** [all] Error 2\n"
          ],
          "name": "stderr"
        }
      ]
    },
    {
      "cell_type": "code",
      "metadata": {
        "id": "xAb6mTwwqps-",
        "colab_type": "code",
        "colab": {
          "base_uri": "https://localhost:8080/",
          "height": 1000
        },
        "outputId": "c229c029-3978-4191-8d07-07eaa99f8cb0"
      },
      "source": [
        "!cd LightGBM/python-package/;python3 setup.py install --precompile\n",
        "!mkdir -p /etc/OpenCL/vendors && echo \"libnvidia-opencl.so.1\" > /etc/OpenCL/vendors/nvidia.icd\n",
        "!rm -r LightGBM"
      ],
      "execution_count": 55,
      "outputs": [
        {
          "output_type": "stream",
          "text": [
            "running install\n",
            "running build\n",
            "running build_py\n",
            "creating build\n",
            "creating build/lib\n",
            "creating build/lib/lightgbm\n",
            "copying lightgbm/compat.py -> build/lib/lightgbm\n",
            "copying lightgbm/callback.py -> build/lib/lightgbm\n",
            "copying lightgbm/sklearn.py -> build/lib/lightgbm\n",
            "copying lightgbm/plotting.py -> build/lib/lightgbm\n",
            "copying lightgbm/__init__.py -> build/lib/lightgbm\n",
            "copying lightgbm/basic.py -> build/lib/lightgbm\n",
            "copying lightgbm/libpath.py -> build/lib/lightgbm\n",
            "copying lightgbm/engine.py -> build/lib/lightgbm\n",
            "running egg_info\n",
            "creating lightgbm.egg-info\n",
            "writing lightgbm.egg-info/PKG-INFO\n",
            "writing dependency_links to lightgbm.egg-info/dependency_links.txt\n",
            "writing requirements to lightgbm.egg-info/requires.txt\n",
            "writing top-level names to lightgbm.egg-info/top_level.txt\n",
            "writing manifest file 'lightgbm.egg-info/SOURCES.txt'\n",
            "reading manifest file 'lightgbm.egg-info/SOURCES.txt'\n",
            "reading manifest template 'MANIFEST.in'\n",
            "no previously-included directories found matching 'build'\n",
            "warning: no files found matching 'LICENSE'\n",
            "warning: no files found matching '*.txt'\n",
            "warning: no files found matching '*.so' under directory 'lightgbm'\n",
            "warning: no files found matching '*.txt' under directory 'compile'\n",
            "warning: no files found matching '*.so' under directory 'compile'\n",
            "warning: no files found matching '*.dll' under directory 'compile/Release'\n",
            "warning: no files found matching '*' under directory 'compile/compute'\n",
            "warning: no files found matching '*' under directory 'compile/include'\n",
            "warning: no files found matching '*' under directory 'compile/src'\n",
            "warning: no files found matching 'LightGBM.sln' under directory 'compile/windows'\n",
            "warning: no files found matching 'LightGBM.vcxproj' under directory 'compile/windows'\n",
            "warning: no files found matching '*.dll' under directory 'compile/windows/x64/DLL'\n",
            "warning: no previously-included files matching '*.py[co]' found anywhere in distribution\n",
            "writing manifest file 'lightgbm.egg-info/SOURCES.txt'\n",
            "copying lightgbm/VERSION.txt -> build/lib/lightgbm\n",
            "running install_lib\n",
            "creating /usr/local/lib/python3.6/site-packages/lightgbm\n",
            "copying build/lib/lightgbm/compat.py -> /usr/local/lib/python3.6/site-packages/lightgbm\n",
            "copying build/lib/lightgbm/callback.py -> /usr/local/lib/python3.6/site-packages/lightgbm\n",
            "copying build/lib/lightgbm/sklearn.py -> /usr/local/lib/python3.6/site-packages/lightgbm\n",
            "copying build/lib/lightgbm/plotting.py -> /usr/local/lib/python3.6/site-packages/lightgbm\n",
            "copying build/lib/lightgbm/__init__.py -> /usr/local/lib/python3.6/site-packages/lightgbm\n",
            "copying build/lib/lightgbm/basic.py -> /usr/local/lib/python3.6/site-packages/lightgbm\n",
            "copying build/lib/lightgbm/VERSION.txt -> /usr/local/lib/python3.6/site-packages/lightgbm\n",
            "copying build/lib/lightgbm/libpath.py -> /usr/local/lib/python3.6/site-packages/lightgbm\n",
            "copying build/lib/lightgbm/engine.py -> /usr/local/lib/python3.6/site-packages/lightgbm\n",
            "INFO:LightGBM:Installing lib_lightgbm from: ['../lib_lightgbm.so']\n",
            "copying ../lib_lightgbm.so -> /usr/local/lib/python3.6/site-packages/lightgbm\n",
            "byte-compiling /usr/local/lib/python3.6/site-packages/lightgbm/compat.py to compat.cpython-36.pyc\n",
            "byte-compiling /usr/local/lib/python3.6/site-packages/lightgbm/callback.py to callback.cpython-36.pyc\n",
            "byte-compiling /usr/local/lib/python3.6/site-packages/lightgbm/sklearn.py to sklearn.cpython-36.pyc\n",
            "byte-compiling /usr/local/lib/python3.6/site-packages/lightgbm/plotting.py to plotting.cpython-36.pyc\n",
            "byte-compiling /usr/local/lib/python3.6/site-packages/lightgbm/__init__.py to __init__.cpython-36.pyc\n",
            "byte-compiling /usr/local/lib/python3.6/site-packages/lightgbm/basic.py to basic.cpython-36.pyc\n",
            "byte-compiling /usr/local/lib/python3.6/site-packages/lightgbm/libpath.py to libpath.cpython-36.pyc\n",
            "byte-compiling /usr/local/lib/python3.6/site-packages/lightgbm/engine.py to engine.cpython-36.pyc\n",
            "running install_egg_info\n",
            "Copying lightgbm.egg-info to /usr/local/lib/python3.6/site-packages/lightgbm-3.0.0.99-py3.6.egg-info\n",
            "running install_scripts\n"
          ],
          "name": "stdout"
        }
      ]
    },
    {
      "cell_type": "code",
      "metadata": {
        "id": "eVlid4GMsy2W",
        "colab_type": "code",
        "colab": {
          "base_uri": "https://localhost:8080/",
          "height": 343
        },
        "outputId": "4e14a227-78e7-43f5-ba42-d315ef68776c"
      },
      "source": [
        "import lightgbm as lgbm"
      ],
      "execution_count": 59,
      "outputs": [
        {
          "output_type": "error",
          "ename": "OSError",
          "evalue": "ignored",
          "traceback": [
            "\u001b[0;31m---------------------------------------------------------------------------\u001b[0m",
            "\u001b[0;31mOSError\u001b[0m                                   Traceback (most recent call last)",
            "\u001b[0;32m<ipython-input-59-e129fb0ec361>\u001b[0m in \u001b[0;36m<module>\u001b[0;34m()\u001b[0m\n\u001b[0;32m----> 1\u001b[0;31m \u001b[0;32mimport\u001b[0m \u001b[0mlightgbm\u001b[0m \u001b[0;32mas\u001b[0m \u001b[0mlgbm\u001b[0m\u001b[0;34m\u001b[0m\u001b[0;34m\u001b[0m\u001b[0m\n\u001b[0m",
            "\u001b[0;32m/usr/local/lib/python3.6/site-packages/lightgbm/__init__.py\u001b[0m in \u001b[0;36m<module>\u001b[0;34m()\u001b[0m\n\u001b[1;32m      6\u001b[0m \u001b[0;32mfrom\u001b[0m \u001b[0m__future__\u001b[0m \u001b[0;32mimport\u001b[0m \u001b[0mabsolute_import\u001b[0m\u001b[0;34m\u001b[0m\u001b[0;34m\u001b[0m\u001b[0m\n\u001b[1;32m      7\u001b[0m \u001b[0;34m\u001b[0m\u001b[0m\n\u001b[0;32m----> 8\u001b[0;31m \u001b[0;32mfrom\u001b[0m \u001b[0;34m.\u001b[0m\u001b[0mbasic\u001b[0m \u001b[0;32mimport\u001b[0m \u001b[0mBooster\u001b[0m\u001b[0;34m,\u001b[0m \u001b[0mDataset\u001b[0m\u001b[0;34m\u001b[0m\u001b[0;34m\u001b[0m\u001b[0m\n\u001b[0m\u001b[1;32m      9\u001b[0m from .callback import (early_stopping, print_evaluation, record_evaluation,\n\u001b[1;32m     10\u001b[0m                        reset_parameter)\n",
            "\u001b[0;32m/usr/local/lib/python3.6/site-packages/lightgbm/basic.py\u001b[0m in \u001b[0;36m<module>\u001b[0;34m()\u001b[0m\n\u001b[1;32m     41\u001b[0m \u001b[0;34m\u001b[0m\u001b[0m\n\u001b[1;32m     42\u001b[0m \u001b[0;34m\u001b[0m\u001b[0m\n\u001b[0;32m---> 43\u001b[0;31m \u001b[0m_LIB\u001b[0m \u001b[0;34m=\u001b[0m \u001b[0m_load_lib\u001b[0m\u001b[0;34m(\u001b[0m\u001b[0;34m)\u001b[0m\u001b[0;34m\u001b[0m\u001b[0;34m\u001b[0m\u001b[0m\n\u001b[0m\u001b[1;32m     44\u001b[0m \u001b[0;34m\u001b[0m\u001b[0m\n\u001b[1;32m     45\u001b[0m \u001b[0;34m\u001b[0m\u001b[0m\n",
            "\u001b[0;32m/usr/local/lib/python3.6/site-packages/lightgbm/basic.py\u001b[0m in \u001b[0;36m_load_lib\u001b[0;34m()\u001b[0m\n\u001b[1;32m     32\u001b[0m     \u001b[0;32mif\u001b[0m \u001b[0mlen\u001b[0m\u001b[0;34m(\u001b[0m\u001b[0mlib_path\u001b[0m\u001b[0;34m)\u001b[0m \u001b[0;34m==\u001b[0m \u001b[0;36m0\u001b[0m\u001b[0;34m:\u001b[0m\u001b[0;34m\u001b[0m\u001b[0;34m\u001b[0m\u001b[0m\n\u001b[1;32m     33\u001b[0m         \u001b[0;32mreturn\u001b[0m \u001b[0;32mNone\u001b[0m\u001b[0;34m\u001b[0m\u001b[0;34m\u001b[0m\u001b[0m\n\u001b[0;32m---> 34\u001b[0;31m     \u001b[0mlib\u001b[0m \u001b[0;34m=\u001b[0m \u001b[0mctypes\u001b[0m\u001b[0;34m.\u001b[0m\u001b[0mcdll\u001b[0m\u001b[0;34m.\u001b[0m\u001b[0mLoadLibrary\u001b[0m\u001b[0;34m(\u001b[0m\u001b[0mlib_path\u001b[0m\u001b[0;34m[\u001b[0m\u001b[0;36m0\u001b[0m\u001b[0;34m]\u001b[0m\u001b[0;34m)\u001b[0m\u001b[0;34m\u001b[0m\u001b[0;34m\u001b[0m\u001b[0m\n\u001b[0m\u001b[1;32m     35\u001b[0m     \u001b[0mlib\u001b[0m\u001b[0;34m.\u001b[0m\u001b[0mLGBM_GetLastError\u001b[0m\u001b[0;34m.\u001b[0m\u001b[0mrestype\u001b[0m \u001b[0;34m=\u001b[0m \u001b[0mctypes\u001b[0m\u001b[0;34m.\u001b[0m\u001b[0mc_char_p\u001b[0m\u001b[0;34m\u001b[0m\u001b[0;34m\u001b[0m\u001b[0m\n\u001b[1;32m     36\u001b[0m     \u001b[0mcallback\u001b[0m \u001b[0;34m=\u001b[0m \u001b[0mctypes\u001b[0m\u001b[0;34m.\u001b[0m\u001b[0mCFUNCTYPE\u001b[0m\u001b[0;34m(\u001b[0m\u001b[0;32mNone\u001b[0m\u001b[0;34m,\u001b[0m \u001b[0mctypes\u001b[0m\u001b[0;34m.\u001b[0m\u001b[0mc_char_p\u001b[0m\u001b[0;34m)\u001b[0m\u001b[0;34m\u001b[0m\u001b[0;34m\u001b[0m\u001b[0m\n",
            "\u001b[0;32m/usr/lib/python3.6/ctypes/__init__.py\u001b[0m in \u001b[0;36mLoadLibrary\u001b[0;34m(self, name)\u001b[0m\n\u001b[1;32m    424\u001b[0m \u001b[0;34m\u001b[0m\u001b[0m\n\u001b[1;32m    425\u001b[0m     \u001b[0;32mdef\u001b[0m \u001b[0mLoadLibrary\u001b[0m\u001b[0;34m(\u001b[0m\u001b[0mself\u001b[0m\u001b[0;34m,\u001b[0m \u001b[0mname\u001b[0m\u001b[0;34m)\u001b[0m\u001b[0;34m:\u001b[0m\u001b[0;34m\u001b[0m\u001b[0;34m\u001b[0m\u001b[0m\n\u001b[0;32m--> 426\u001b[0;31m         \u001b[0;32mreturn\u001b[0m \u001b[0mself\u001b[0m\u001b[0;34m.\u001b[0m\u001b[0m_dlltype\u001b[0m\u001b[0;34m(\u001b[0m\u001b[0mname\u001b[0m\u001b[0;34m)\u001b[0m\u001b[0;34m\u001b[0m\u001b[0;34m\u001b[0m\u001b[0m\n\u001b[0m\u001b[1;32m    427\u001b[0m \u001b[0;34m\u001b[0m\u001b[0m\n\u001b[1;32m    428\u001b[0m \u001b[0mcdll\u001b[0m \u001b[0;34m=\u001b[0m \u001b[0mLibraryLoader\u001b[0m\u001b[0;34m(\u001b[0m\u001b[0mCDLL\u001b[0m\u001b[0;34m)\u001b[0m\u001b[0;34m\u001b[0m\u001b[0;34m\u001b[0m\u001b[0m\n",
            "\u001b[0;32m/usr/lib/python3.6/ctypes/__init__.py\u001b[0m in \u001b[0;36m__init__\u001b[0;34m(self, name, mode, handle, use_errno, use_last_error)\u001b[0m\n\u001b[1;32m    346\u001b[0m \u001b[0;34m\u001b[0m\u001b[0m\n\u001b[1;32m    347\u001b[0m         \u001b[0;32mif\u001b[0m \u001b[0mhandle\u001b[0m \u001b[0;32mis\u001b[0m \u001b[0;32mNone\u001b[0m\u001b[0;34m:\u001b[0m\u001b[0;34m\u001b[0m\u001b[0;34m\u001b[0m\u001b[0m\n\u001b[0;32m--> 348\u001b[0;31m             \u001b[0mself\u001b[0m\u001b[0;34m.\u001b[0m\u001b[0m_handle\u001b[0m \u001b[0;34m=\u001b[0m \u001b[0m_dlopen\u001b[0m\u001b[0;34m(\u001b[0m\u001b[0mself\u001b[0m\u001b[0;34m.\u001b[0m\u001b[0m_name\u001b[0m\u001b[0;34m,\u001b[0m \u001b[0mmode\u001b[0m\u001b[0;34m)\u001b[0m\u001b[0;34m\u001b[0m\u001b[0;34m\u001b[0m\u001b[0m\n\u001b[0m\u001b[1;32m    349\u001b[0m         \u001b[0;32melse\u001b[0m\u001b[0;34m:\u001b[0m\u001b[0;34m\u001b[0m\u001b[0;34m\u001b[0m\u001b[0m\n\u001b[1;32m    350\u001b[0m             \u001b[0mself\u001b[0m\u001b[0;34m.\u001b[0m\u001b[0m_handle\u001b[0m \u001b[0;34m=\u001b[0m \u001b[0mhandle\u001b[0m\u001b[0;34m\u001b[0m\u001b[0;34m\u001b[0m\u001b[0m\n",
            "\u001b[0;31mOSError\u001b[0m: /usr/local/lib/python3.6/site-packages/lightgbm/lib_lightgbm.so: undefined symbol: _ZN5boost10filesystem6detail18create_directoriesERKNS0_4pathEPNS_6system10error_codeE"
          ]
        }
      ]
    },
    {
      "cell_type": "code",
      "metadata": {
        "id": "bS403xD2hqTa",
        "colab_type": "code",
        "colab": {}
      },
      "source": [
        "## Inspiration from https://www.kaggle.com/dsaichand3/lgbm-gpu\n",
        "params = {\n",
        "        'boosting_type':'gbdt',\n",
        "        'objective': 'regression',\n",
        "        'nthread': 4,\n",
        "        'num_leaves': 31,\n",
        "        'learning_rate': 0.15,\n",
        "        'max_depth': -1,\n",
        "        'subsample': 0.8,\n",
        "        'bagging_fraction' : 1,\n",
        "        'max_bin' : 15,\n",
        "        'bagging_freq': 20,\n",
        "        'colsample_bytree': 0.6,\n",
        "        'metric': 'rmse',\n",
        "        'min_split_gain': 0.5,\n",
        "        'min_child_weight': 1,\n",
        "        'min_child_samples': 10,\n",
        "        'scale_pos_weight':1,\n",
        "        'zero_as_missing': True,\n",
        "        'seed':0,\n",
        "        'num_rounds':50000,\n",
        "        'device': 'gpu',\n",
        "        'gpu_platform_id': 0,\n",
        "        'gpu_device_id': 0\n",
        "    }"
      ],
      "execution_count": null,
      "outputs": []
    },
    {
      "cell_type": "code",
      "metadata": {
        "id": "vG0yNPRkn7Tn",
        "colab_type": "code",
        "colab": {}
      },
      "source": [
        "X=train.drop(['fare_amount'],axis=1)\n",
        "y=train['fare_amount']\n",
        "\n",
        "X_train, X_test, y_train, y_test = train_test_split(X,y, test_size=0.2)\n",
        "print(\"Number of records in training data \",X_train.shape[0])\n",
        "print(\"Number of records in validation data \",X_test.shape[0])\n",
        "print(X_train.shape)\n",
        "print(X_test.shape)\n",
        "print(y_train.shape)\n",
        "print(y_test.shape)"
      ],
      "execution_count": null,
      "outputs": []
    },
    {
      "cell_type": "code",
      "metadata": {
        "id": "1RIJOuhNoM2i",
        "colab_type": "code",
        "colab": {}
      },
      "source": [
        ""
      ],
      "execution_count": null,
      "outputs": []
    },
    {
      "cell_type": "code",
      "metadata": {
        "id": "F4ihZhGkip44",
        "colab_type": "code",
        "colab": {}
      },
      "source": [
        "%%time\n",
        "train_set = lgbm.Dataset(x_train, y_train, silent=False, categorical_feature=['year','month','day'])\n",
        "valid_set = lgbm.Dataset(x_test, y_test, silent=False, categorical_feature=['year','month','day'])\n",
        "del x_train, y_train, x_test, y_test\n",
        "gc.collect()\n",
        "model = lgbm.train(params, train_set = train_set, num_boost_round=10000, early_stopping_rounds=500, verbose_eval=500, valid_sets=valid_set)"
      ],
      "execution_count": null,
      "outputs": []
    },
    {
      "cell_type": "code",
      "metadata": {
        "id": "_PAZn171ip1s",
        "colab_type": "code",
        "colab": {}
      },
      "source": [
        "dataset = pd.read_csv(\"/kaggle/input/new-york-city-taxi-fare-prediction/train.csv\", nrows = 25000000)"
      ],
      "execution_count": null,
      "outputs": []
    },
    {
      "cell_type": "code",
      "metadata": {
        "id": "aFYM35GRhqNW",
        "colab_type": "code",
        "colab": {}
      },
      "source": [
        "LGBM_pred = model.predict(test, num_iteration = model.best_iteration)"
      ],
      "execution_count": null,
      "outputs": []
    },
    {
      "cell_type": "code",
      "metadata": {
        "id": "RpiQu9UqtgzG",
        "colab_type": "code",
        "colab": {}
      },
      "source": [
        "gdf_submission = submission\n",
        "gdf_submission['fare_amount']= LBGM_pred\n",
        "\n",
        "gdf_submission.to_csv(env_submission_path+'submission_LGBM.csv',index=False)\n",
        "\n",
        "gdf_submission.head()"
      ],
      "execution_count": null,
      "outputs": []
    },
    {
      "cell_type": "markdown",
      "metadata": {
        "id": "Qz1vk8UNVeAv",
        "colab_type": "text"
      },
      "source": [
        "# 7. Evaluation and Discussion"
      ]
    },
    {
      "cell_type": "code",
      "metadata": {
        "id": "cz0YAjbPVhMu",
        "colab_type": "code",
        "colab": {}
      },
      "source": [
        ""
      ],
      "execution_count": null,
      "outputs": []
    }
  ]
}
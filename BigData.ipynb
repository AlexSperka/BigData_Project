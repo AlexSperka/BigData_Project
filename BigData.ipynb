{
  "nbformat": 4,
  "nbformat_minor": 0,
  "metadata": {
    "colab": {
      "name": "BigData.ipynb",
      "provenance": [],
      "collapsed_sections": [],
      "toc_visible": true
    },
    "kernelspec": {
      "name": "python3",
      "display_name": "Python 3"
    },
    "accelerator": "GPU"
  },
  "cells": [
    {
      "cell_type": "markdown",
      "metadata": {
        "id": "HRInq5gOmSuC"
      },
      "source": [
        "# NYC fare prediction using Rapids and XG Boost running on GPU\n",
        "\n",
        "[This notebook](TBD) shows my approach for predicting the fare amount for a taxi ride in NYC when given the pickup and dropoff locations of the passangers regarding the [New York City Taxi Fare Prediction Challange]( https://www.kaggle.com/c/new-york-city-taxi-fare-prediction).\n",
        "\n",
        "\n",
        "\n",
        "---\n",
        "\n",
        "This notebook is seperated into different sections, relating to the common data science workflow (except the hypothesis and data collection where already done). I tested different models to get used to Rapids and Cudf by starting with simple linear models and ended up with XG Boost and Light GBM. The best performant results are deffinitely the XG Boost ones. Different other Kernels state that they achieve similar results with LGBM hence I had problems with running the model on the GPU although I installed the right version (some bug reports also suggest there is a problem with the model).\n",
        "\n",
        "\n",
        "0.   Previous Commits\n",
        "1.   Setup and Check Infrastructure\n",
        "2.   Having a first look at the Data (EDA)\n",
        "3.   Data Cleaning (Feature Engineering)\n",
        "4.   Linear Regression GPU\n",
        "5.   Ridge Regression GPU\n",
        "6.   K-Nearest Neighbor Regression GPU\n",
        "7.   Random Forest GPU\n",
        "8.   XG Boost on GPU\n",
        "9.   Light GBM on GPU (not running on Colab)\n",
        "10.   Stacked Ensemble XGB and LGBM\n",
        "11.   Evaulation\n",
        "\n",
        "---\n",
        "\n",
        "## Approach:\n",
        "\n",
        "I started with this project by getting used to the Rapids environment and the Cuda librarys and went on for more advanced models (XGB and LGBM) with testing them on common parameters mentioned in different notebooks on kaggle (see inspiration in first section) to get a feeling what influences what and how does it generelly work. After gaining some experience I combined several data cleaning approaches from differnt notebooks and general information from the internet. The most promising score yet was 3.19347 which would result in rank 432 of the public leaderboard (if the competition would still run). My kaggle notebook can be found [here, user handle: AlexS2020](https://)\n",
        "\n",
        "\n",
        "## Evaluation:\n",
        "As will be mentioned in the last section, I used to compare the different RMSE and R2 score values of different models as well as uploading the submission files to get a direct comperision via the score. Last step to evaluate are the confusion_matrices to see how many false positive/negative and true postivie/negative there are.\n",
        "\n",
        "## Conclusion:\n",
        "Overall it was an interesting project / competition which enabled me to learn new stuff and try out several tools. It is interesting to see, that the same code running on the GPU is so much faster compared to CPU implementations when looking at XGB for example. Interesting to me was also that relatively simple models like the KNN or Random Forest performed quite well in relation to the training runtime and ressource consumption. It would have been nice to directly compare the LBGM model against XGB since I read quite a bit about both. Unfortunately this was not possible within the desired scope due to runtime issues mostly. \n",
        "\n",
        "Another interesting aspect was to see the huge difference a properly cleaned dataset can make when using the same model.\n",
        "\n",
        "\n",
        "## Outlook:\n",
        "There are several ways how to improve these scores from my point of view. Some of them can be seen in other notebooks already (especially the larger ones).\n",
        "\n",
        "1.   Run the code on several GPUs to figure out how well Rapids really performs in combination with DASK compared to one GPU or CPU.\n",
        "2.   Ensemble different models based on their R2 score to test if the gap can be reduced this way (depending on the strength of the used models) An initial implementation for this is given in section 10. but I could not test it yet,\n",
        "3.   Use larger grid searches to find better parameters for the given models\n",
        "4.   An adaptive learning rate could also help with optimizing the results\n",
        "\n",
        "## Limitations:\n",
        "- It was possible to install the LBGM Version for GPU and the memory was consumed by the data but it did not run on the GPU somehow. So it was quite slow to do some training on this model and I could not compare it directly to XGB (or combine these two as intended in section 10)\n",
        "- Some of the points mentioned in Outlook were not possible since running code in browser + only 36h GPU-time per week is hardly enough\n",
        "- Automation of parameter search on large scale not feasible (not even with the GPU)\n"
      ]
    },
    {
      "cell_type": "markdown",
      "metadata": {
        "id": "5UoPjqvXe8cF"
      },
      "source": [
        "##References:\n",
        "Inspirations for implementation and design:\n",
        "\n",
        "- https://github.com/rapidsai/cuml/tree/branch-0.13/notebooks \n",
        "- https://www.kaggle.com/beniel/rapids-cudf-tutorial\n",
        "- https://www.kaggle.com/aerdem4/rapids-svm-on-trends-neuroimaging\n",
        "- https://www.kaggle.com/confirm/xfeat-cudf-lightgbm-catboost-wip\n",
        "- https://www.kaggle.com/aiswaryaramachandran/baseline-model-xgboost-3-03-rmse/data?select=train_cleaned.csv\n",
        "- https://www.kaggle.com/aiswaryaramachandran/eda-and-feature-engineering/comments\n",
        "- https://www.kaggle.com/btyuhas/bayesian-optimization-with-xgboost\n",
        "- https://www.kaggle.com/pnprabakaran/ny-city-taxi-fare-exploration-with-dask-and-dxgb\n",
        "- https://www.kaggle.com/dsaichand3/lgbm-gpu\n",
        "- https://www.kaggle.com/amar09/fare-prediction-stacked-ensemble-xgboost-lgbm/log\n",
        "- https://www.kaggle.com/nicapotato/taxi-rides-time-analysis-and-oof-lgbm\n",
        "\n",
        "Thanks to anyone whos code I have used!\n",
        "\n",
        "\n"
      ]
    },
    {
      "cell_type": "markdown",
      "metadata": {
        "id": "fVXtwXAHLD44"
      },
      "source": [
        "# 0. Previous Commits - Comparison of different Models and Scores\n",
        "\n"
      ]
    },
    {
      "cell_type": "markdown",
      "metadata": {
        "id": "-fEoMZTsLSd7"
      },
      "source": [
        "Predictions are done when using the whole data set\n",
        "\n",
        "### Linear Regression\n",
        "\n",
        "**Commit 30 (Baseline) Score: 5.15497**\n",
        "  - R2 score = 0.7166260480880737\n",
        "\n",
        "### Ridge Regression\n",
        "\n",
        "**Commit 31 Score: 5.15489**\n",
        "\n",
        "params_ridge\n",
        "  - alpha = loguniform(1e-5, 1e0)\n",
        "  - solver = ['eig', 'cd']\n",
        "  - n_iter = 100\n",
        "  - cv = 5\n",
        "  - verbose = 0\n",
        "  - n_jobs = 1\n",
        "\n",
        "ridge_params\n",
        "  - alpha = 0.240960447726532\n",
        "  - fit_intercept = True\n",
        "  - normalize = False\n",
        "  - solver = 'eig'\n",
        "\n",
        "  - R2 score = 0.7166244983673096\n",
        "\n",
        "### K-Nearest Neighbor \n",
        "**Commit 33 Score: 4.67805**\n",
        "  - n_neighbors = 4\n",
        "  - data_size = 55 Mio rows\n",
        "  - R2 score = 0.7047221660614014\n",
        "\n",
        "### Random Forest \n",
        "**Commit 34 Score: 3.96958**\n",
        "  - n_estimators=10\n",
        "  - n_jobs=-1\n",
        "  - data_size = 55 Mio rows\n",
        "  - R2 score = 0.6802817583084106\n",
        "\n",
        "### XG Boost (GPU)\n",
        "**Commit 5 Score: 3.98546**\n",
        "  - n_estimators':500,\n",
        "  - max_depth':7,\n",
        "  - learning_rate':0.0005,\n",
        "  - subsample':0.9,\n",
        "  - colsample_bytree':0.9,\n",
        "  - missing':-999,\n",
        "  - random_state':2020,\n",
        "  - objective':'reg:linear',\n",
        "  - gamma':0.3,\n",
        "  - reg_alpha':0.01,\n",
        "  - tree_method':'gpu_hist'\n",
        "\n",
        "  - data_size = 7 Mio. rows\n",
        "\n",
        "### XG Boost (GPU) BEST\n",
        "**Commit 23 Score: 3.19116**\n",
        "  - n_estimators':350,\n",
        "  - max_depth':7,\n",
        "  - learning_rate':0.003,\n",
        "  - subsample':0.9,\n",
        "  - colsample_bytree':0.9,\n",
        "  - missing':-999,\n",
        "  - random_state':2020,\n",
        "  - objective':'reg:linear',\n",
        "  - gamma':0.3,\n",
        "  - reg_alpha':0.01,\n",
        "  - tree_method':'gpu_hist'  \n",
        "\n",
        "  - rounds = 80000\n",
        "  - early stopping = 250\n",
        "  - R2 score = 0.832559\n",
        "  - Test-rmse = 3.64371\n",
        "  - Wall time = 49 min\n",
        "  - data_size = 55 Mio. rows, cleaned dataset"
      ]
    },
    {
      "cell_type": "markdown",
      "metadata": {
        "id": "m_g3Zj-nHUeR"
      },
      "source": [
        "# 1. Setup and Check Infrastructure\n",
        "The first step is to get the infrastructure up and running. Important to mention here is that it is strongly recommended to use a GPU for calculation purpose.\n"
      ]
    },
    {
      "cell_type": "markdown",
      "metadata": {
        "id": "jw7sbM1_ukTi"
      },
      "source": [
        "If you find yourself running these notebooks on Colab as well as on Kaggle you might find this placeholder thing helpful. Only thing to touch is the environment you are running on (Kaggle or Colab).\n",
        "\n",
        "Optional parameters:\n",
        "- cleaned_dataset when you are running on Kaggle an use a precleaned one\n",
        "- debug_mode for enabling a minimal row number\n",
        "- rows_datasample defining how many rows will be used in the training (irrelevant when debug_mode=True)"
      ]
    },
    {
      "cell_type": "code",
      "metadata": {
        "id": "qKBQtZzV2zNL"
      },
      "source": [
        "## Switch from Kaggle to Colab easily\n",
        "environment='Colab' ## Kaggle / Colab\n",
        "\n",
        "## Using Cleaned dataset? This can be useful when running into crashes or Cudf incompatibility, just add this to the kaggle input: https://www.kaggle.com/aiswaryaramachandran/baseline-model-xgboost-3-03-rmse/data?select=train_cleaned.csv\n",
        "cleaned_dataset=True ## Change to True or False\n",
        "\n",
        "## when True only 50.000 rows are used for debugging purpose. Set to False when doing real training\n",
        "debug_mode=True ## Change to True or False\n",
        "\n",
        "## choose how many rows of the training data sample you would like to use (only works when debug_mode=False ), max is 55423480\n",
        "rows_datasample=5542348"
      ],
      "execution_count": 2,
      "outputs": []
    },
    {
      "cell_type": "markdown",
      "metadata": {
        "id": "rtUnslYKFldR"
      },
      "source": [
        "### Installing all necessary librarys and tools"
      ]
    },
    {
      "cell_type": "markdown",
      "metadata": {
        "id": "97GsQdKHCr-8"
      },
      "source": [
        "Setting up the environment path accordingly to your choice of environment"
      ]
    },
    {
      "cell_type": "code",
      "metadata": {
        "id": "lF1XfHZiw0-e",
        "outputId": "2daed232-3e49-4a30-e255-ccea7adb741e",
        "colab": {
          "base_uri": "https://localhost:8080/",
          "height": 54
        }
      },
      "source": [
        "if environment == 'Kaggle':\n",
        "  env_submission_path='./'\n",
        "  env_path='../input/new-york-city-taxi-fare-prediction/'\n",
        "  print('The environment and paths were successfully setup for Kaggle')\n",
        "elif environment == 'Colab':\n",
        "  env_submission_path='/content/drive/My Drive/Colab Notebooks/'\n",
        "  env_path='/content/drive/My Drive/Colab Notebooks/'\n",
        "\n",
        "  from google.colab import drive\n",
        "  drive.mount('/content/drive')\n",
        "\n",
        "  print('The environment and paths were successfully setup for Colab')\n",
        "\n",
        "else:\n",
        "  print('Something went wrong here, please choose one of the options for path completion: Kaggle or Colab (or implement your own thing)')\n"
      ],
      "execution_count": 3,
      "outputs": [
        {
          "output_type": "stream",
          "text": [
            "Mounted at /content/drive\n",
            "The environment and paths were successfully setup for Colab\n"
          ],
          "name": "stdout"
        }
      ]
    },
    {
      "cell_type": "markdown",
      "metadata": {
        "id": "-Ri5Sq2eHPp7"
      },
      "source": [
        "Check for GPU"
      ]
    },
    {
      "cell_type": "code",
      "metadata": {
        "id": "Ix7egkMuVbLC",
        "outputId": "f97ae1d8-054f-46c7-cdde-a0e4194b21f8",
        "colab": {
          "base_uri": "https://localhost:8080/",
          "height": 384
        }
      },
      "source": [
        "!nvidia-smi"
      ],
      "execution_count": 4,
      "outputs": [
        {
          "output_type": "stream",
          "text": [
            "Wed Sep 30 14:09:09 2020       \n",
            "+-----------------------------------------------------------------------------+\n",
            "| NVIDIA-SMI 455.23.05    Driver Version: 418.67       CUDA Version: 10.1     |\n",
            "|-------------------------------+----------------------+----------------------+\n",
            "| GPU  Name        Persistence-M| Bus-Id        Disp.A | Volatile Uncorr. ECC |\n",
            "| Fan  Temp  Perf  Pwr:Usage/Cap|         Memory-Usage | GPU-Util  Compute M. |\n",
            "|                               |                      |               MIG M. |\n",
            "|===============================+======================+======================|\n",
            "|   0  Tesla T4            Off  | 00000000:00:04.0 Off |                    0 |\n",
            "| N/A   32C    P8    10W /  70W |      0MiB / 15079MiB |      0%      Default |\n",
            "|                               |                      |                 ERR! |\n",
            "+-------------------------------+----------------------+----------------------+\n",
            "                                                                               \n",
            "+-----------------------------------------------------------------------------+\n",
            "| Processes:                                                                  |\n",
            "|  GPU   GI   CI        PID   Type   Process name                  GPU Memory |\n",
            "|        ID   ID                                                   Usage      |\n",
            "|=============================================================================|\n",
            "|  No running processes found                                                 |\n",
            "+-----------------------------------------------------------------------------+\n"
          ],
          "name": "stdout"
        }
      ]
    },
    {
      "cell_type": "code",
      "metadata": {
        "id": "X70pCtE_c066",
        "outputId": "fc5a0ac4-c9c3-4b22-bbaf-6c557a161e5f",
        "colab": {
          "base_uri": "https://localhost:8080/",
          "height": 90
        }
      },
      "source": [
        "!lscpu | grep \"Model name:\"\n",
        "!lscpu | grep \"CPU(s)\""
      ],
      "execution_count": 5,
      "outputs": [
        {
          "output_type": "stream",
          "text": [
            "Model name:          Intel(R) Xeon(R) CPU @ 2.20GHz\n",
            "CPU(s):              2\n",
            "On-line CPU(s) list: 0,1\n",
            "NUMA node0 CPU(s):   0,1\n"
          ],
          "name": "stdout"
        }
      ]
    },
    {
      "cell_type": "markdown",
      "metadata": {
        "id": "6B6hTGa8C0EY"
      },
      "source": [
        "Depending on the environment you might want to install different packages (or just link to them)"
      ]
    },
    {
      "cell_type": "code",
      "metadata": {
        "id": "SY8-qcVuVguX",
        "outputId": "cd0ce703-49d9-4a04-e57b-106b5d48db5e",
        "colab": {
          "base_uri": "https://localhost:8080/",
          "height": 1000
        }
      },
      "source": [
        "%%time\n",
        "if environment == 'Kaggle':\n",
        "  import sys\n",
        "  !cp ../input/rapids/rapids.0.14.0 /opt/conda/envs/rapids.tar.gz\n",
        "  !cd /opt/conda/envs/ && tar -xzvf rapids.tar.gz > /dev/null\n",
        "  sys.path = [\"/opt/conda/envs/rapids/lib/python3.7/site-packages\"] + sys.path\n",
        "  sys.path = [\"/opt/conda/envs/rapids/lib/python3.7\"] + sys.path\n",
        "  sys.path = [\"/opt/conda/envs/rapids/lib\"] + sys.path \n",
        "  !cp /opt/conda/envs/rapids/lib/libxgboost.so /opt/conda/lib/\n",
        "  print('You are all set for the kaggle rapids environment')\n",
        "\n",
        "elif environment == 'Colab':\n",
        "  # Install RAPIDS and Dask_ml\n",
        "  !pip install dask_ml\n",
        "  !pip install dask_cuda\n",
        "  !git clone https://github.com/rapidsai/rapidsai-csp-utils.git\n",
        "  !bash rapidsai-csp-utils/colab/rapids-colab.sh stable\n",
        "\n",
        "  import sys, os\n",
        "  dist_package_index = sys.path.index('/usr/local/lib/python3.6/dist-packages')\n",
        "  sys.path = sys.path[:dist_package_index] + ['/usr/local/lib/python3.6/site-packages'] + sys.path[dist_package_index:]\n",
        "  sys.path\n",
        "  exec(open('rapidsai-csp-utils/colab/update_modules.py').read(), globals())\n",
        "  print('You are all set for the colab rapids environment')\n",
        "\n",
        "else:\n",
        "  print('Something went wrong here, please choose one of the options for path completion: Kaggle or Colab (or implement your own thing). If Kaggle failed please make sure you added the RAPIDS file on Kaggle to your Input!')"
      ],
      "execution_count": 6,
      "outputs": [
        {
          "output_type": "stream",
          "text": [
            "Collecting dask_ml\n",
            "\u001b[?25l  Downloading https://files.pythonhosted.org/packages/e7/b0/3d4b11fd2468dd098ab6ef2a5a094192daddb812c11da948b9f318a46073/dask_ml-1.7.0-py3-none-any.whl (141kB)\n",
            "\r\u001b[K     |██▎                             | 10kB 26.1MB/s eta 0:00:01\r\u001b[K     |████▋                           | 20kB 2.9MB/s eta 0:00:01\r\u001b[K     |███████                         | 30kB 3.9MB/s eta 0:00:01\r\u001b[K     |█████████▎                      | 40kB 4.2MB/s eta 0:00:01\r\u001b[K     |███████████▋                    | 51kB 3.4MB/s eta 0:00:01\r\u001b[K     |██████████████                  | 61kB 3.9MB/s eta 0:00:01\r\u001b[K     |████████████████▎               | 71kB 4.1MB/s eta 0:00:01\r\u001b[K     |██████████████████▋             | 81kB 4.5MB/s eta 0:00:01\r\u001b[K     |█████████████████████           | 92kB 4.8MB/s eta 0:00:01\r\u001b[K     |███████████████████████▏        | 102kB 4.6MB/s eta 0:00:01\r\u001b[K     |█████████████████████████▌      | 112kB 4.6MB/s eta 0:00:01\r\u001b[K     |███████████████████████████▉    | 122kB 4.6MB/s eta 0:00:01\r\u001b[K     |██████████████████████████████▏ | 133kB 4.6MB/s eta 0:00:01\r\u001b[K     |████████████████████████████████| 143kB 4.6MB/s \n",
            "\u001b[?25hRequirement already satisfied: packaging in /usr/local/lib/python3.6/dist-packages (from dask_ml) (20.4)\n",
            "Collecting scikit-learn>=0.23\n",
            "\u001b[?25l  Downloading https://files.pythonhosted.org/packages/5c/a1/273def87037a7fb010512bbc5901c31cfddfca8080bc63b42b26e3cc55b3/scikit_learn-0.23.2-cp36-cp36m-manylinux1_x86_64.whl (6.8MB)\n",
            "\u001b[K     |████████████████████████████████| 6.8MB 9.5MB/s \n",
            "\u001b[?25hRequirement already satisfied: scipy in /usr/local/lib/python3.6/dist-packages (from dask_ml) (1.4.1)\n",
            "Requirement already satisfied: numpy>=1.17.3 in /usr/local/lib/python3.6/dist-packages (from dask_ml) (1.18.5)\n",
            "Collecting multipledispatch>=0.4.9\n",
            "  Downloading https://files.pythonhosted.org/packages/89/79/429ecef45fd5e4504f7474d4c3c3c4668c267be3370e4c2fd33e61506833/multipledispatch-0.6.0-py3-none-any.whl\n",
            "Requirement already satisfied: numba in /usr/local/lib/python3.6/dist-packages (from dask_ml) (0.48.0)\n",
            "Collecting dask-glm>=0.2.0\n",
            "  Downloading https://files.pythonhosted.org/packages/cb/ee/36c6e0e7b51e08406e5c3bb036f35adb77bd0a89335437b2e6f03c948f1a/dask_glm-0.2.0-py2.py3-none-any.whl\n",
            "Requirement already satisfied: dask[array,dataframe]>=2.4.0 in /usr/local/lib/python3.6/dist-packages (from dask_ml) (2.12.0)\n",
            "Requirement already satisfied: pandas>=0.24.2 in /usr/local/lib/python3.6/dist-packages (from dask_ml) (1.1.2)\n",
            "Collecting distributed>=2.4.0\n",
            "\u001b[?25l  Downloading https://files.pythonhosted.org/packages/53/54/b5cd5e1a24ec0fe7dc1518fc2193c6be30c4c8175ee8c02e7e2eb07d171a/distributed-2.28.0-py3-none-any.whl (652kB)\n",
            "\u001b[K     |████████████████████████████████| 655kB 48.1MB/s \n",
            "\u001b[?25hRequirement already satisfied: six in /usr/local/lib/python3.6/dist-packages (from packaging->dask_ml) (1.15.0)\n",
            "Requirement already satisfied: pyparsing>=2.0.2 in /usr/local/lib/python3.6/dist-packages (from packaging->dask_ml) (2.4.7)\n",
            "Requirement already satisfied: joblib>=0.11 in /usr/local/lib/python3.6/dist-packages (from scikit-learn>=0.23->dask_ml) (0.16.0)\n",
            "Collecting threadpoolctl>=2.0.0\n",
            "  Downloading https://files.pythonhosted.org/packages/f7/12/ec3f2e203afa394a149911729357aa48affc59c20e2c1c8297a60f33f133/threadpoolctl-2.1.0-py3-none-any.whl\n",
            "Requirement already satisfied: llvmlite<0.32.0,>=0.31.0dev0 in /usr/local/lib/python3.6/dist-packages (from numba->dask_ml) (0.31.0)\n",
            "Requirement already satisfied: setuptools in /usr/local/lib/python3.6/dist-packages (from numba->dask_ml) (50.3.0)\n",
            "Requirement already satisfied: cloudpickle>=0.2.2 in /usr/local/lib/python3.6/dist-packages (from dask-glm>=0.2.0->dask_ml) (1.3.0)\n",
            "Requirement already satisfied: toolz>=0.7.3; extra == \"array\" in /usr/local/lib/python3.6/dist-packages (from dask[array,dataframe]>=2.4.0->dask_ml) (0.11.1)\n",
            "Collecting fsspec>=0.6.0; extra == \"dataframe\"\n",
            "\u001b[?25l  Downloading https://files.pythonhosted.org/packages/4c/38/39b83c70ff47192255c15da1b602322cb9918682199d5c1d9cf128bdd531/fsspec-0.8.3-py3-none-any.whl (88kB)\n",
            "\u001b[K     |████████████████████████████████| 92kB 11.2MB/s \n",
            "\u001b[?25hCollecting partd>=0.3.10; extra == \"dataframe\"\n",
            "  Downloading https://files.pythonhosted.org/packages/44/e1/68dbe731c9c067655bff1eca5b7d40c20ca4b23fd5ec9f3d17e201a6f36b/partd-1.1.0-py3-none-any.whl\n",
            "Requirement already satisfied: pytz>=2017.2 in /usr/local/lib/python3.6/dist-packages (from pandas>=0.24.2->dask_ml) (2018.9)\n",
            "Requirement already satisfied: python-dateutil>=2.7.3 in /usr/local/lib/python3.6/dist-packages (from pandas>=0.24.2->dask_ml) (2.8.1)\n",
            "Collecting contextvars; python_version < \"3.7\"\n",
            "  Downloading https://files.pythonhosted.org/packages/83/96/55b82d9f13763be9d672622e1b8106c85acb83edd7cc2fa5bc67cd9877e9/contextvars-2.4.tar.gz\n",
            "Requirement already satisfied: psutil>=5.0 in /usr/local/lib/python3.6/dist-packages (from distributed>=2.4.0->dask_ml) (5.4.8)\n",
            "Requirement already satisfied: zict>=0.1.3 in /usr/local/lib/python3.6/dist-packages (from distributed>=2.4.0->dask_ml) (2.0.0)\n",
            "Requirement already satisfied: click>=6.6 in /usr/local/lib/python3.6/dist-packages (from distributed>=2.4.0->dask_ml) (7.1.2)\n",
            "Requirement already satisfied: sortedcontainers!=2.0.0,!=2.0.1 in /usr/local/lib/python3.6/dist-packages (from distributed>=2.4.0->dask_ml) (2.2.2)\n",
            "Requirement already satisfied: pyyaml in /usr/local/lib/python3.6/dist-packages (from distributed>=2.4.0->dask_ml) (3.13)\n",
            "Requirement already satisfied: tblib>=1.6.0 in /usr/local/lib/python3.6/dist-packages (from distributed>=2.4.0->dask_ml) (1.7.0)\n",
            "Requirement already satisfied: tornado>=5; python_version < \"3.8\" in /usr/local/lib/python3.6/dist-packages (from distributed>=2.4.0->dask_ml) (5.1.1)\n",
            "Requirement already satisfied: msgpack>=0.6.0 in /usr/local/lib/python3.6/dist-packages (from distributed>=2.4.0->dask_ml) (1.0.0)\n",
            "Collecting locket\n",
            "  Downloading https://files.pythonhosted.org/packages/d0/22/3c0f97614e0be8386542facb3a7dcfc2584f7b83608c02333bced641281c/locket-0.2.0.tar.gz\n",
            "Collecting immutables>=0.9\n",
            "\u001b[?25l  Downloading https://files.pythonhosted.org/packages/99/e0/ea6fd4697120327d26773b5a84853f897a68e33d3f9376b00a8ff96e4f63/immutables-0.14-cp36-cp36m-manylinux1_x86_64.whl (98kB)\n",
            "\u001b[K     |████████████████████████████████| 102kB 12.7MB/s \n",
            "\u001b[?25hRequirement already satisfied: heapdict in /usr/local/lib/python3.6/dist-packages (from zict>=0.1.3->distributed>=2.4.0->dask_ml) (1.0.1)\n",
            "Building wheels for collected packages: contextvars, locket\n",
            "  Building wheel for contextvars (setup.py) ... \u001b[?25l\u001b[?25hdone\n",
            "  Created wheel for contextvars: filename=contextvars-2.4-cp36-none-any.whl size=7666 sha256=e1b694c5280aff164bf7c1407a3677fbb8f386cc47fd3a7eacd30c5859b954c0\n",
            "  Stored in directory: /root/.cache/pip/wheels/a5/7d/68/1ebae2668bda2228686e3c1cf16f2c2384cea6e9334ad5f6de\n",
            "  Building wheel for locket (setup.py) ... \u001b[?25l\u001b[?25hdone\n",
            "  Created wheel for locket: filename=locket-0.2.0-cp36-none-any.whl size=4040 sha256=f5956dc58aede7f4b78764c881b7cc4dbb9a14e0629a24d5a5502963cf447182\n",
            "  Stored in directory: /root/.cache/pip/wheels/26/1e/e8/4fa236ec931b1a0cdd61578e20d4934d7bf188858723b84698\n",
            "Successfully built contextvars locket\n",
            "\u001b[31mERROR: distributed 2.28.0 has requirement cloudpickle>=1.5.0, but you'll have cloudpickle 1.3.0 which is incompatible.\u001b[0m\n",
            "Installing collected packages: threadpoolctl, scikit-learn, multipledispatch, dask-glm, immutables, contextvars, distributed, dask-ml, fsspec, locket, partd\n",
            "  Found existing installation: scikit-learn 0.22.2.post1\n",
            "    Uninstalling scikit-learn-0.22.2.post1:\n",
            "      Successfully uninstalled scikit-learn-0.22.2.post1\n",
            "  Found existing installation: distributed 1.25.3\n",
            "    Uninstalling distributed-1.25.3:\n",
            "      Successfully uninstalled distributed-1.25.3\n",
            "Successfully installed contextvars-2.4 dask-glm-0.2.0 dask-ml-1.7.0 distributed-2.28.0 fsspec-0.8.3 immutables-0.14 locket-0.2.0 multipledispatch-0.6.0 partd-1.1.0 scikit-learn-0.23.2 threadpoolctl-2.1.0\n",
            "Collecting dask_cuda\n",
            "\u001b[?25l  Downloading https://files.pythonhosted.org/packages/10/d1/0736d90a97c9aff4c52e6fbc441f41ef76ac8513c10c1fb048b1192eac51/dask_cuda-0.15.0-py3-none-any.whl (44kB)\n",
            "\u001b[K     |████████████████████████████████| 51kB 3.0MB/s \n",
            "\u001b[?25hRequirement already satisfied: distributed>=2.18.0 in /usr/local/lib/python3.6/dist-packages (from dask_cuda) (2.28.0)\n",
            "Requirement already satisfied: numba>=0.40.1 in /usr/local/lib/python3.6/dist-packages (from dask_cuda) (0.48.0)\n",
            "Collecting pynvml>=8.0.3\n",
            "  Downloading https://files.pythonhosted.org/packages/1b/1a/a25c143e1d2f873d67edf534b269d028dd3c20be69737cca56bf28911d02/pynvml-8.0.4-py3-none-any.whl\n",
            "Requirement already satisfied: numpy>=1.16.0 in /usr/local/lib/python3.6/dist-packages (from dask_cuda) (1.18.5)\n",
            "Requirement already satisfied: dask>=2.9.0 in /usr/local/lib/python3.6/dist-packages (from dask_cuda) (2.12.0)\n",
            "Requirement already satisfied: msgpack>=0.6.0 in /usr/local/lib/python3.6/dist-packages (from distributed>=2.18.0->dask_cuda) (1.0.0)\n",
            "Collecting cloudpickle>=1.5.0\n",
            "  Downloading https://files.pythonhosted.org/packages/e7/e3/898487e5dbeb612054cf2e0c188463acb358167fef749c53c8bb8918cea1/cloudpickle-1.6.0-py3-none-any.whl\n",
            "Requirement already satisfied: zict>=0.1.3 in /usr/local/lib/python3.6/dist-packages (from distributed>=2.18.0->dask_cuda) (2.0.0)\n",
            "Requirement already satisfied: click>=6.6 in /usr/local/lib/python3.6/dist-packages (from distributed>=2.18.0->dask_cuda) (7.1.2)\n",
            "Requirement already satisfied: sortedcontainers!=2.0.0,!=2.0.1 in /usr/local/lib/python3.6/dist-packages (from distributed>=2.18.0->dask_cuda) (2.2.2)\n",
            "Requirement already satisfied: toolz>=0.8.2 in /usr/local/lib/python3.6/dist-packages (from distributed>=2.18.0->dask_cuda) (0.11.1)\n",
            "Requirement already satisfied: contextvars; python_version < \"3.7\" in /usr/local/lib/python3.6/dist-packages (from distributed>=2.18.0->dask_cuda) (2.4)\n",
            "Requirement already satisfied: tornado>=5; python_version < \"3.8\" in /usr/local/lib/python3.6/dist-packages (from distributed>=2.18.0->dask_cuda) (5.1.1)\n",
            "Requirement already satisfied: tblib>=1.6.0 in /usr/local/lib/python3.6/dist-packages (from distributed>=2.18.0->dask_cuda) (1.7.0)\n",
            "Requirement already satisfied: pyyaml in /usr/local/lib/python3.6/dist-packages (from distributed>=2.18.0->dask_cuda) (3.13)\n",
            "Requirement already satisfied: psutil>=5.0 in /usr/local/lib/python3.6/dist-packages (from distributed>=2.18.0->dask_cuda) (5.4.8)\n",
            "Requirement already satisfied: setuptools in /usr/local/lib/python3.6/dist-packages (from distributed>=2.18.0->dask_cuda) (50.3.0)\n",
            "Requirement already satisfied: llvmlite<0.32.0,>=0.31.0dev0 in /usr/local/lib/python3.6/dist-packages (from numba>=0.40.1->dask_cuda) (0.31.0)\n",
            "Requirement already satisfied: heapdict in /usr/local/lib/python3.6/dist-packages (from zict>=0.1.3->distributed>=2.18.0->dask_cuda) (1.0.1)\n",
            "Requirement already satisfied: immutables>=0.9 in /usr/local/lib/python3.6/dist-packages (from contextvars; python_version < \"3.7\"->distributed>=2.18.0->dask_cuda) (0.14)\n",
            "\u001b[31mERROR: tensorflow-probability 0.11.0 has requirement cloudpickle==1.3, but you'll have cloudpickle 1.6.0 which is incompatible.\u001b[0m\n",
            "\u001b[31mERROR: gym 0.17.2 has requirement cloudpickle<1.4.0,>=1.2.0, but you'll have cloudpickle 1.6.0 which is incompatible.\u001b[0m\n",
            "Installing collected packages: pynvml, dask-cuda, cloudpickle\n",
            "  Found existing installation: cloudpickle 1.3.0\n",
            "    Uninstalling cloudpickle-1.3.0:\n",
            "      Successfully uninstalled cloudpickle-1.3.0\n",
            "Successfully installed cloudpickle-1.6.0 dask-cuda-0.15.0 pynvml-8.0.4\n",
            "Cloning into 'rapidsai-csp-utils'...\n",
            "remote: Enumerating objects: 14, done.\u001b[K\n",
            "remote: Counting objects: 100% (14/14), done.\u001b[K\n",
            "remote: Compressing objects: 100% (14/14), done.\u001b[K\n",
            "remote: Total 185 (delta 5), reused 0 (delta 0), pack-reused 171\u001b[K\n",
            "Receiving objects: 100% (185/185), 57.14 KiB | 11.43 MiB/s, done.\n",
            "Resolving deltas: 100% (67/67), done.\n",
            "PLEASE READ\n",
            "********************************************************************************************************\n",
            "Changes:\n",
            "1. IMPORTANT CHANGES: RAPIDS on Colab will be pegged to 0.14 Stable until further notice.\n",
            "2. Default stable version is now 0.14.  Nightly will redirect to 0.14.\n",
            "3. You can now declare your RAPIDSAI version as a CLI option and skip the user prompts (ex: '0.14' or '0.15', between 0.13 to 0.14, without the quotes): \n",
            "        \"!bash rapidsai-csp-utils/colab/rapids-colab.sh <version/label>\"\n",
            "        Examples: '!bash rapidsai-csp-utils/colab/rapids-colab.sh 0.14', or '!bash rapidsai-csp-utils/colab/rapids-colab.sh stable', or '!bash rapidsai-csp-utils/colab/rapids-colab.sh s'\n",
            "                  '!bash rapidsai-csp-utils/colab/rapids-colab.sh 0.15, or '!bash rapidsai-csp-utils/colab/rapids-colab.sh nightly', or '!bash rapidsai-csp-utils/colab/rapids-colab.sh n'\n",
            "Enjoy using RAPIDS!  If you have any issues with or suggestions for RAPIDSAI on Colab, please create a bug request on https://github.com/rapidsai/rapidsai-csp-utils/issues/new.  Thanks!\n",
            "Starting to prep Colab for install RAPIDS Version 0.14 stable\n",
            "Checking for GPU type:\n",
            "***********************************************************************\n",
            "Woo! Your instance has the right kind of GPU, a 'Tesla T4'!\n",
            "***********************************************************************\n",
            "\n",
            "Removing conflicting packages, will replace with RAPIDS compatible versions\n",
            "Uninstalling xgboost-0.90:\n",
            "  Successfully uninstalled xgboost-0.90\n",
            "Uninstalling dask-2.12.0:\n",
            "  Successfully uninstalled dask-2.12.0\n",
            "Uninstalling distributed-2.28.0:\n",
            "  Successfully uninstalled distributed-2.28.0\n",
            "Installing conda\n",
            "--2020-09-30 14:09:33--  https://repo.continuum.io/miniconda/Miniconda3-4.5.4-Linux-x86_64.sh\n",
            "Resolving repo.continuum.io (repo.continuum.io)... 104.18.201.79, 104.18.200.79, 2606:4700::6812:c84f, ...\n",
            "Connecting to repo.continuum.io (repo.continuum.io)|104.18.201.79|:443... connected.\n",
            "HTTP request sent, awaiting response... 301 Moved Permanently\n",
            "Location: https://repo.anaconda.com/miniconda/Miniconda3-4.5.4-Linux-x86_64.sh [following]\n",
            "--2020-09-30 14:09:33--  https://repo.anaconda.com/miniconda/Miniconda3-4.5.4-Linux-x86_64.sh\n",
            "Resolving repo.anaconda.com (repo.anaconda.com)... 104.16.131.3, 104.16.130.3, 2606:4700::6810:8203, ...\n",
            "Connecting to repo.anaconda.com (repo.anaconda.com)|104.16.131.3|:443... connected.\n",
            "HTTP request sent, awaiting response... 200 OK\n",
            "Length: 58468498 (56M) [application/x-sh]\n",
            "Saving to: ‘Miniconda3-4.5.4-Linux-x86_64.sh’\n",
            "\n",
            "Miniconda3-4.5.4-Li 100%[===================>]  55.76M   194MB/s    in 0.3s    \n",
            "\n",
            "2020-09-30 14:09:33 (194 MB/s) - ‘Miniconda3-4.5.4-Linux-x86_64.sh’ saved [58468498/58468498]\n",
            "\n",
            "PREFIX=/usr/local\n",
            "installing: python-3.6.5-hc3d631a_2 ...\n",
            "Python 3.6.5 :: Anaconda, Inc.\n",
            "installing: ca-certificates-2018.03.07-0 ...\n",
            "installing: conda-env-2.6.0-h36134e3_1 ...\n",
            "installing: libgcc-ng-7.2.0-hdf63c60_3 ...\n",
            "installing: libstdcxx-ng-7.2.0-hdf63c60_3 ...\n",
            "installing: libffi-3.2.1-hd88cf55_4 ...\n",
            "installing: ncurses-6.1-hf484d3e_0 ...\n",
            "installing: openssl-1.0.2o-h20670df_0 ...\n",
            "installing: tk-8.6.7-hc745277_3 ...\n",
            "installing: xz-5.2.4-h14c3975_4 ...\n",
            "installing: yaml-0.1.7-had09818_2 ...\n",
            "installing: zlib-1.2.11-ha838bed_2 ...\n",
            "installing: libedit-3.1.20170329-h6b74fdf_2 ...\n",
            "installing: readline-7.0-ha6073c6_4 ...\n",
            "installing: sqlite-3.23.1-he433501_0 ...\n",
            "installing: asn1crypto-0.24.0-py36_0 ...\n",
            "installing: certifi-2018.4.16-py36_0 ...\n",
            "installing: chardet-3.0.4-py36h0f667ec_1 ...\n",
            "installing: idna-2.6-py36h82fb2a8_1 ...\n",
            "installing: pycosat-0.6.3-py36h0a5515d_0 ...\n",
            "installing: pycparser-2.18-py36hf9f622e_1 ...\n",
            "installing: pysocks-1.6.8-py36_0 ...\n",
            "installing: ruamel_yaml-0.15.37-py36h14c3975_2 ...\n",
            "installing: six-1.11.0-py36h372c433_1 ...\n",
            "installing: cffi-1.11.5-py36h9745a5d_0 ...\n",
            "installing: setuptools-39.2.0-py36_0 ...\n",
            "installing: cryptography-2.2.2-py36h14c3975_0 ...\n",
            "installing: wheel-0.31.1-py36_0 ...\n",
            "installing: pip-10.0.1-py36_0 ...\n",
            "installing: pyopenssl-18.0.0-py36_0 ...\n",
            "installing: urllib3-1.22-py36hbe7ace6_0 ...\n",
            "installing: requests-2.18.4-py36he2e5f8d_1 ...\n",
            "installing: conda-4.5.4-py36_0 ...\n",
            "installation finished.\n",
            "WARNING:\n",
            "    You currently have a PYTHONPATH environment variable set. This may cause\n",
            "    unexpected behavior when running the Python interpreter in Miniconda3.\n",
            "    For best results, please verify that your PYTHONPATH only points to\n",
            "    directories of packages that are compatible with the Python interpreter\n",
            "    in Miniconda3: /usr/local\n",
            "Solving environment: - \b\b\\ \b\b| \b\b/ \b\b- \b\b\\ \b\b| \b\b/ \b\b- \b\b\\ \b\b| \b\b/ \b\b- \b\b\\ \b\b| \b\b/ \b\b- \b\b\\ \b\b| \b\b/ \b\b- \b\b\\ \b\b| \b\b/ \b\b- \b\b\\ \b\b| \b\b/ \b\b- \b\b\\ \b\b| \b\b/ \b\b- \b\b\\ \b\b| \b\b/ \b\b- \b\b\\ \b\b| \b\b/ \b\b- \b\b\\ \b\b| \b\b/ \b\b- \b\b\\ \b\b| \b\b/ \b\b- \b\b\\ \b\b| \b\b/ \b\b- \b\b\\ \b\b| \b\b/ \b\b- \b\b\\ \b\b| \b\b/ \b\b- \b\b\\ \b\b| \b\b/ \b\b- \b\b\\ \b\b| \b\b/ \b\b- \b\b\\ \b\b| \b\b/ \b\b- \b\b\\ \b\b| \b\b/ \b\b- \b\b\\ \b\b| \b\b/ \b\b- \b\b\\ \b\b| \b\b/ \b\b- \b\b\\ \b\b| \b\b/ \b\b- \b\b\\ \b\b| \b\b/ \b\b- \b\b\\ \b\b| \b\b/ \b\b- \b\b\\ \b\b| \b\b/ \b\b- \b\b\\ \b\b| \b\b/ \b\b- \b\bdone\n",
            "\n",
            "## Package Plan ##\n",
            "\n",
            "  environment location: /usr/local\n",
            "\n",
            "  added / updated specs: \n",
            "    - conda\n",
            "    - python=3.6\n",
            "\n",
            "\n",
            "The following packages will be downloaded:\n",
            "\n",
            "    package                    |            build\n",
            "    ---------------------------|-----------------\n",
            "    xz-5.2.5                   |       h7b6447c_0         438 KB\n",
            "    pip-20.2.2                 |           py36_0         2.0 MB\n",
            "    ca-certificates-2020.7.22  |                0         132 KB\n",
            "    chardet-3.0.4              |        py36_1003         197 KB\n",
            "    libedit-3.1.20191231       |       h14c3975_1         121 KB\n",
            "    pycosat-0.6.3              |   py36h7b6447c_0         107 KB\n",
            "    python-3.6.12              |       hcff3b4d_2        34.0 MB\n",
            "    libffi-3.3                 |       he6710b0_2          54 KB\n",
            "    readline-8.0               |       h7b6447c_0         428 KB\n",
            "    conda-4.8.5                |           py36_0         3.0 MB\n",
            "    certifi-2020.6.20          |           py36_0         160 KB\n",
            "    ncurses-6.2                |       he6710b0_1         1.1 MB\n",
            "    cffi-1.14.3                |   py36he30daa8_0         224 KB\n",
            "    pyopenssl-19.1.0           |             py_1          47 KB\n",
            "    yaml-0.2.5                 |       h7b6447c_0          87 KB\n",
            "    pycparser-2.20             |             py_2          94 KB\n",
            "    idna-2.10                  |             py_0          56 KB\n",
            "    ruamel_yaml-0.15.87        |   py36h7b6447c_1         256 KB\n",
            "    tk-8.6.10                  |       hbc83047_0         3.2 MB\n",
            "    setuptools-49.6.0          |           py36_1         933 KB\n",
            "    requests-2.24.0            |             py_0          54 KB\n",
            "    tqdm-4.49.0                |             py_0          54 KB\n",
            "    libstdcxx-ng-9.1.0         |       hdf63c60_0         4.0 MB\n",
            "    pysocks-1.7.1              |           py36_0          30 KB\n",
            "    _libgcc_mutex-0.1          |             main           3 KB\n",
            "    sqlite-3.33.0              |       h62c20be_0         2.0 MB\n",
            "    wheel-0.35.1               |             py_0          36 KB\n",
            "    zlib-1.2.11                |       h7b6447c_3         120 KB\n",
            "    six-1.15.0                 |             py_0          13 KB\n",
            "    cryptography-3.1.1         |   py36h1ba5d50_0         612 KB\n",
            "    brotlipy-0.7.0             |py36h7b6447c_1000         348 KB\n",
            "    urllib3-1.25.10            |             py_0          93 KB\n",
            "    ld_impl_linux-64-2.33.1    |       h53a641e_7         645 KB\n",
            "    conda-package-handling-1.6.1|   py36h7b6447c_0         886 KB\n",
            "    openssl-1.1.1h             |       h7b6447c_0         3.8 MB\n",
            "    libgcc-ng-9.1.0            |       hdf63c60_0         8.1 MB\n",
            "    ------------------------------------------------------------\n",
            "                                           Total:        67.5 MB\n",
            "\n",
            "The following NEW packages will be INSTALLED:\n",
            "\n",
            "    _libgcc_mutex:          0.1-main               \n",
            "    brotlipy:               0.7.0-py36h7b6447c_1000\n",
            "    conda-package-handling: 1.6.1-py36h7b6447c_0   \n",
            "    ld_impl_linux-64:       2.33.1-h53a641e_7      \n",
            "    tqdm:                   4.49.0-py_0            \n",
            "\n",
            "The following packages will be UPDATED:\n",
            "\n",
            "    ca-certificates:        2018.03.07-0            --> 2020.7.22-0            \n",
            "    certifi:                2018.4.16-py36_0        --> 2020.6.20-py36_0       \n",
            "    cffi:                   1.11.5-py36h9745a5d_0   --> 1.14.3-py36he30daa8_0  \n",
            "    chardet:                3.0.4-py36h0f667ec_1    --> 3.0.4-py36_1003        \n",
            "    conda:                  4.5.4-py36_0            --> 4.8.5-py36_0           \n",
            "    cryptography:           2.2.2-py36h14c3975_0    --> 3.1.1-py36h1ba5d50_0   \n",
            "    idna:                   2.6-py36h82fb2a8_1      --> 2.10-py_0              \n",
            "    libedit:                3.1.20170329-h6b74fdf_2 --> 3.1.20191231-h14c3975_1\n",
            "    libffi:                 3.2.1-hd88cf55_4        --> 3.3-he6710b0_2         \n",
            "    libgcc-ng:              7.2.0-hdf63c60_3        --> 9.1.0-hdf63c60_0       \n",
            "    libstdcxx-ng:           7.2.0-hdf63c60_3        --> 9.1.0-hdf63c60_0       \n",
            "    ncurses:                6.1-hf484d3e_0          --> 6.2-he6710b0_1         \n",
            "    openssl:                1.0.2o-h20670df_0       --> 1.1.1h-h7b6447c_0      \n",
            "    pip:                    10.0.1-py36_0           --> 20.2.2-py36_0          \n",
            "    pycosat:                0.6.3-py36h0a5515d_0    --> 0.6.3-py36h7b6447c_0   \n",
            "    pycparser:              2.18-py36hf9f622e_1     --> 2.20-py_2              \n",
            "    pyopenssl:              18.0.0-py36_0           --> 19.1.0-py_1            \n",
            "    pysocks:                1.6.8-py36_0            --> 1.7.1-py36_0           \n",
            "    python:                 3.6.5-hc3d631a_2        --> 3.6.12-hcff3b4d_2      \n",
            "    readline:               7.0-ha6073c6_4          --> 8.0-h7b6447c_0         \n",
            "    requests:               2.18.4-py36he2e5f8d_1   --> 2.24.0-py_0            \n",
            "    ruamel_yaml:            0.15.37-py36h14c3975_2  --> 0.15.87-py36h7b6447c_1 \n",
            "    setuptools:             39.2.0-py36_0           --> 49.6.0-py36_1          \n",
            "    six:                    1.11.0-py36h372c433_1   --> 1.15.0-py_0            \n",
            "    sqlite:                 3.23.1-he433501_0       --> 3.33.0-h62c20be_0      \n",
            "    tk:                     8.6.7-hc745277_3        --> 8.6.10-hbc83047_0      \n",
            "    urllib3:                1.22-py36hbe7ace6_0     --> 1.25.10-py_0           \n",
            "    wheel:                  0.31.1-py36_0           --> 0.35.1-py_0            \n",
            "    xz:                     5.2.4-h14c3975_4        --> 5.2.5-h7b6447c_0       \n",
            "    yaml:                   0.1.7-had09818_2        --> 0.2.5-h7b6447c_0       \n",
            "    zlib:                   1.2.11-ha838bed_2       --> 1.2.11-h7b6447c_3      \n",
            "\n",
            "\n",
            "Downloading and Extracting Packages\n",
            "xz-5.2.5             |  438 KB | : 100% 1.0/1 [00:00<00:00,  7.79it/s]               \n",
            "pip-20.2.2           |  2.0 MB | : 100% 1.0/1 [00:00<00:00,  1.72it/s]               \n",
            "ca-certificates-2020 |  132 KB | : 100% 1.0/1 [00:00<00:00, 25.87it/s]\n",
            "chardet-3.0.4        |  197 KB | : 100% 1.0/1 [00:00<00:00, 12.47it/s]\n",
            "libedit-3.1.20191231 |  121 KB | : 100% 1.0/1 [00:00<00:00, 21.22it/s]\n",
            "pycosat-0.6.3        |  107 KB | : 100% 1.0/1 [00:00<00:00, 25.04it/s]\n",
            "python-3.6.12        | 34.0 MB | : 100% 1.0/1 [00:04<00:00,  4.56s/it]               \n",
            "libffi-3.3           |   54 KB | : 100% 1.0/1 [00:00<00:00, 25.33it/s]\n",
            "readline-8.0         |  428 KB | : 100% 1.0/1 [00:00<00:00,  8.41it/s]\n",
            "conda-4.8.5          |  3.0 MB | : 100% 1.0/1 [00:00<00:00,  1.52it/s]             \n",
            "certifi-2020.6.20    |  160 KB | : 100% 1.0/1 [00:00<00:00, 19.38it/s]\n",
            "ncurses-6.2          |  1.1 MB | : 100% 1.0/1 [00:00<00:00,  1.34it/s]               \n",
            "cffi-1.14.3          |  224 KB | : 100% 1.0/1 [00:00<00:00, 15.06it/s]\n",
            "pyopenssl-19.1.0     |   47 KB | : 100% 1.0/1 [00:00<00:00, 30.78it/s]\n",
            "yaml-0.2.5           |   87 KB | : 100% 1.0/1 [00:00<00:00, 19.60it/s]\n",
            "pycparser-2.20       |   94 KB | : 100% 1.0/1 [00:00<00:00, 13.96it/s]\n",
            "idna-2.10            |   56 KB | : 100% 1.0/1 [00:00<00:00, 19.90it/s]\n",
            "ruamel_yaml-0.15.87  |  256 KB | : 100% 1.0/1 [00:00<00:00, 10.37it/s]\n",
            "tk-8.6.10            |  3.2 MB | : 100% 1.0/1 [00:00<00:00,  1.68it/s]               \n",
            "setuptools-49.6.0    |  933 KB | : 100% 1.0/1 [00:00<00:00,  3.83it/s]               \n",
            "requests-2.24.0      |   54 KB | : 100% 1.0/1 [00:00<00:00, 24.52it/s]\n",
            "tqdm-4.49.0          |   54 KB | : 100% 1.0/1 [00:00<00:00, 21.88it/s]\n",
            "libstdcxx-ng-9.1.0   |  4.0 MB | : 100% 1.0/1 [00:00<00:00,  1.70it/s]              \n",
            "pysocks-1.7.1        |   30 KB | : 100% 1.0/1 [00:00<00:00, 34.24it/s]\n",
            "_libgcc_mutex-0.1    |    3 KB | : 100% 1.0/1 [00:00<00:00, 33.58it/s]\n",
            "sqlite-3.33.0        |  2.0 MB | : 100% 1.0/1 [00:00<00:00,  3.32it/s]               \n",
            "wheel-0.35.1         |   36 KB | : 100% 1.0/1 [00:00<00:00, 21.77it/s]\n",
            "zlib-1.2.11          |  120 KB | : 100% 1.0/1 [00:00<00:00, 19.61it/s]\n",
            "six-1.15.0           |   13 KB | : 100% 1.0/1 [00:00<00:00, 30.91it/s]\n",
            "cryptography-3.1.1   |  612 KB | : 100% 1.0/1 [00:00<00:00,  4.44it/s]               \n",
            "brotlipy-0.7.0       |  348 KB | : 100% 1.0/1 [00:00<00:00, 12.88it/s]\n",
            "urllib3-1.25.10      |   93 KB | : 100% 1.0/1 [00:00<00:00, 16.17it/s]\n",
            "ld_impl_linux-64-2.3 |  645 KB | : 100% 1.0/1 [00:00<00:00,  5.38it/s]               \n",
            "conda-package-handli |  886 KB | : 100% 1.0/1 [00:00<00:00,  7.05it/s]               \n",
            "openssl-1.1.1h       |  3.8 MB | : 100% 1.0/1 [00:00<00:00,  1.51it/s]               \n",
            "libgcc-ng-9.1.0      |  8.1 MB | : 100% 1.0/1 [00:01<00:00,  1.17s/it]               \n",
            "Preparing transaction: | \b\b/ \b\b- \b\b\\ \b\bdone\n",
            "Verifying transaction: / \b\b- \b\b\\ \b\b| \b\b/ \b\b- \b\b\\ \b\b| \b\b/ \b\b- \b\b\\ \b\b| \b\b/ \b\b- \b\b\\ \b\b| \b\b/ \b\bdone\n",
            "Executing transaction: \\ \b\b| \b\b/ \b\b- \b\b\\ \b\b| \b\b/ \b\b- \b\b\\ \b\b| \b\b/ \b\b- \b\b\\ \b\b| \b\b/ \b\b- \b\b\\ \b\b| \b\b/ \b\b- \b\b\\ \b\b| \b\b/ \b\b- \b\b\\ \b\b| \b\b/ \b\b- \b\b\\ \b\b| \b\b/ \b\b- \b\b\\ \b\b| \b\b/ \b\b- \b\b\\ \b\b| \b\b/ \b\b- \b\b\\ \b\b| \b\b/ \b\b- \b\b\\ \b\b| \b\b/ \b\b- \b\b\\ \b\b| \b\b/ \b\b- \b\b\\ \b\b| \b\b/ \b\b- \b\b\\ \b\b| \b\b/ \b\b- \b\bdone\n",
            "Collecting package metadata (current_repodata.json): - \b\b\\ \b\b| \b\b/ \b\b- \b\b\\ \b\b| \b\b/ \b\b- \b\b\\ \b\b| \b\b/ \b\b- \b\b\\ \b\b| \b\b/ \b\b- \b\b\\ \b\b| \b\b/ \b\b- \b\b\\ \b\b| \b\b/ \b\b- \b\b\\ \b\b| \b\b/ \b\b- \b\b\\ \b\b| \b\b/ \b\b- \b\b\\ \b\b| \b\b/ \b\b- \b\b\\ \b\b| \b\b/ \b\b- \b\b\\ \b\b| \b\b/ \b\b- \b\b\\ \b\b| \b\b/ \b\b- \b\b\\ \b\b| \b\b/ \b\b- \b\bdone\n",
            "Solving environment: | \b\b/ \b\b- \b\b\\ \b\b| \b\b/ \b\b- \b\b\\ \b\b| \b\b/ \b\b- \b\bdone\n",
            "\n",
            "## Package Plan ##\n",
            "\n",
            "  environment location: /usr/local\n",
            "\n",
            "\n",
            "The following packages will be downloaded:\n",
            "\n",
            "    package                    |            build\n",
            "    ---------------------------|-----------------\n",
            "    _libgcc_mutex-0.1          |      conda_forge           3 KB  conda-forge\n",
            "    _openmp_mutex-4.5          |            1_gnu          22 KB  conda-forge\n",
            "    brotlipy-0.7.0             |py36h8c4c3a4_1000         346 KB  conda-forge\n",
            "    ca-certificates-2020.6.20  |       hecda079_0         145 KB  conda-forge\n",
            "    certifi-2020.6.20          |   py36h9f0ad1d_0         151 KB  conda-forge\n",
            "    cffi-1.11.5                |           py36_0         406 KB  conda-forge\n",
            "    chardet-3.0.4              |py36h9f0ad1d_1007         187 KB  conda-forge\n",
            "    conda-4.8.5                |   py36h9f0ad1d_1         3.0 MB  conda-forge\n",
            "    conda-package-handling-1.7.0|   py36h8c4c3a4_5         934 KB  conda-forge\n",
            "    cryptography-3.1.1         |   py36h45558ae_0         617 KB  conda-forge\n",
            "    idna-2.10                  |     pyh9f0ad1d_0          52 KB  conda-forge\n",
            "    ld_impl_linux-64-2.35      |       h769bd43_9         617 KB  conda-forge\n",
            "    libgcc-ng-9.3.0            |      h24d8f2e_16         7.8 MB  conda-forge\n",
            "    libgomp-9.3.0              |      h24d8f2e_16         378 KB  conda-forge\n",
            "    libstdcxx-ng-9.3.0         |      hdf63c60_16         4.0 MB  conda-forge\n",
            "    ncurses-6.2                |       he1b5a44_1         993 KB  conda-forge\n",
            "    openssl-1.1.1h             |       h516909a_0         2.1 MB  conda-forge\n",
            "    pip-20.2.3                 |             py_0         1.1 MB  conda-forge\n",
            "    pycosat-0.6.3              |py36h8c4c3a4_1004         107 KB  conda-forge\n",
            "    pycparser-2.20             |     pyh9f0ad1d_2          94 KB  conda-forge\n",
            "    pyopenssl-19.1.0           |             py_1          47 KB  conda-forge\n",
            "    pysocks-1.7.1              |   py36h9f0ad1d_1          27 KB  conda-forge\n",
            "    python_abi-3.6             |          1_cp36m           4 KB  conda-forge\n",
            "    readline-8.0               |       he28a2e2_2         281 KB  conda-forge\n",
            "    requests-2.24.0            |     pyh9f0ad1d_0          47 KB  conda-forge\n",
            "    ruamel_yaml-0.15.80        |py36h8c4c3a4_1002         254 KB  conda-forge\n",
            "    setuptools-49.6.0          |   py36h9f0ad1d_1         934 KB  conda-forge\n",
            "    six-1.15.0                 |     pyh9f0ad1d_0          14 KB  conda-forge\n",
            "    sqlite-3.33.0              |       h4cf870e_0         1.4 MB  conda-forge\n",
            "    tk-8.6.10                  |       hed695b0_0         3.2 MB  conda-forge\n",
            "    tqdm-4.50.0                |     pyh9f0ad1d_0          54 KB  conda-forge\n",
            "    urllib3-1.25.10            |             py_0          92 KB  conda-forge\n",
            "    wheel-0.35.1               |     pyh9f0ad1d_0          29 KB  conda-forge\n",
            "    xz-5.2.5                   |       h516909a_1         343 KB  conda-forge\n",
            "    yaml-0.2.5                 |       h516909a_0          82 KB  conda-forge\n",
            "    zlib-1.2.11                |    h516909a_1009         106 KB  conda-forge\n",
            "    ------------------------------------------------------------\n",
            "                                           Total:        29.9 MB\n",
            "\n",
            "The following NEW packages will be INSTALLED:\n",
            "\n",
            "  _openmp_mutex      conda-forge/linux-64::_openmp_mutex-4.5-1_gnu\n",
            "  libgomp            conda-forge/linux-64::libgomp-9.3.0-h24d8f2e_16\n",
            "  python_abi         conda-forge/linux-64::python_abi-3.6-1_cp36m\n",
            "\n",
            "The following packages will be REMOVED:\n",
            "\n",
            "  asn1crypto-0.24.0-py36_0\n",
            "  conda-env-2.6.0-h36134e3_1\n",
            "  libedit-3.1.20191231-h14c3975_1\n",
            "\n",
            "The following packages will be UPDATED:\n",
            "\n",
            "  chardet                pkgs/main::chardet-3.0.4-py36_1003 --> conda-forge::chardet-3.0.4-py36h9f0ad1d_1007\n",
            "  conda                       pkgs/main::conda-4.8.5-py36_0 --> conda-forge::conda-4.8.5-py36h9f0ad1d_1\n",
            "  conda-package-han~ pkgs/main::conda-package-handling-1.6~ --> conda-forge::conda-package-handling-1.7.0-py36h8c4c3a4_5\n",
            "  ld_impl_linux-64   pkgs/main::ld_impl_linux-64-2.33.1-h5~ --> conda-forge::ld_impl_linux-64-2.35-h769bd43_9\n",
            "  libgcc-ng           pkgs/main::libgcc-ng-9.1.0-hdf63c60_0 --> conda-forge::libgcc-ng-9.3.0-h24d8f2e_16\n",
            "  libstdcxx-ng       pkgs/main::libstdcxx-ng-9.1.0-hdf63c6~ --> conda-forge::libstdcxx-ng-9.3.0-hdf63c60_16\n",
            "  pip                 pkgs/main/linux-64::pip-20.2.2-py36_0 --> conda-forge/noarch::pip-20.2.3-py_0\n",
            "  pycosat            pkgs/main::pycosat-0.6.3-py36h7b6447c~ --> conda-forge::pycosat-0.6.3-py36h8c4c3a4_1004\n",
            "  pysocks                   pkgs/main::pysocks-1.7.1-py36_0 --> conda-forge::pysocks-1.7.1-py36h9f0ad1d_1\n",
            "  readline               pkgs/main::readline-8.0-h7b6447c_0 --> conda-forge::readline-8.0-he28a2e2_2\n",
            "  tqdm                          pkgs/main::tqdm-4.49.0-py_0 --> conda-forge::tqdm-4.50.0-pyh9f0ad1d_0\n",
            "  xz                         pkgs/main::xz-5.2.5-h7b6447c_0 --> conda-forge::xz-5.2.5-h516909a_1\n",
            "  zlib                    pkgs/main::zlib-1.2.11-h7b6447c_3 --> conda-forge::zlib-1.2.11-h516909a_1009\n",
            "\n",
            "The following packages will be SUPERSEDED by a higher-priority channel:\n",
            "\n",
            "  _libgcc_mutex           pkgs/main::_libgcc_mutex-0.1-main --> conda-forge::_libgcc_mutex-0.1-conda_forge\n",
            "  brotlipy           pkgs/main::brotlipy-0.7.0-py36h7b6447~ --> conda-forge::brotlipy-0.7.0-py36h8c4c3a4_1000\n",
            "  ca-certificates    pkgs/main::ca-certificates-2020.7.22-0 --> conda-forge::ca-certificates-2020.6.20-hecda079_0\n",
            "  certifi               pkgs/main::certifi-2020.6.20-py36_0 --> conda-forge::certifi-2020.6.20-py36h9f0ad1d_0\n",
            "  cffi                pkgs/main::cffi-1.14.3-py36he30daa8_0 --> conda-forge::cffi-1.11.5-py36_0\n",
            "  cryptography       pkgs/main::cryptography-3.1.1-py36h1b~ --> conda-forge::cryptography-3.1.1-py36h45558ae_0\n",
            "  idna                            pkgs/main::idna-2.10-py_0 --> conda-forge::idna-2.10-pyh9f0ad1d_0\n",
            "  ncurses                 pkgs/main::ncurses-6.2-he6710b0_1 --> conda-forge::ncurses-6.2-he1b5a44_1\n",
            "  openssl              pkgs/main::openssl-1.1.1h-h7b6447c_0 --> conda-forge::openssl-1.1.1h-h516909a_0\n",
            "  pycparser                  pkgs/main::pycparser-2.20-py_2 --> conda-forge::pycparser-2.20-pyh9f0ad1d_2\n",
            "  pyopenssl                                       pkgs/main --> conda-forge\n",
            "  requests                  pkgs/main::requests-2.24.0-py_0 --> conda-forge::requests-2.24.0-pyh9f0ad1d_0\n",
            "  ruamel_yaml        pkgs/main::ruamel_yaml-0.15.87-py36h7~ --> conda-forge::ruamel_yaml-0.15.80-py36h8c4c3a4_1002\n",
            "  setuptools            pkgs/main::setuptools-49.6.0-py36_1 --> conda-forge::setuptools-49.6.0-py36h9f0ad1d_1\n",
            "  six                            pkgs/main::six-1.15.0-py_0 --> conda-forge::six-1.15.0-pyh9f0ad1d_0\n",
            "  sqlite                pkgs/main::sqlite-3.33.0-h62c20be_0 --> conda-forge::sqlite-3.33.0-h4cf870e_0\n",
            "  tk                        pkgs/main::tk-8.6.10-hbc83047_0 --> conda-forge::tk-8.6.10-hed695b0_0\n",
            "  urllib3                                         pkgs/main --> conda-forge\n",
            "  wheel                        pkgs/main::wheel-0.35.1-py_0 --> conda-forge::wheel-0.35.1-pyh9f0ad1d_0\n",
            "  yaml                     pkgs/main::yaml-0.2.5-h7b6447c_0 --> conda-forge::yaml-0.2.5-h516909a_0\n",
            "\n",
            "\n",
            "\n",
            "Downloading and Extracting Packages\n",
            "six-1.15.0           | 14 KB     | : 100% 1.0/1 [00:00<00:00, 10.10it/s]\n",
            "libstdcxx-ng-9.3.0   | 4.0 MB    | : 100% 1.0/1 [00:00<00:00,  1.63it/s]\n",
            "cffi-1.11.5          | 406 KB    | : 100% 1.0/1 [00:00<00:00, 11.12it/s]\n",
            "ld_impl_linux-64-2.3 | 617 KB    | : 100% 1.0/1 [00:00<00:00,  7.26it/s]\n",
            "python_abi-3.6       | 4 KB      | : 100% 1.0/1 [00:00<00:00, 27.46it/s]\n",
            "ca-certificates-2020 | 145 KB    | : 100% 1.0/1 [00:00<00:00, 22.42it/s]\n",
            "libgomp-9.3.0        | 378 KB    | : 100% 1.0/1 [00:00<00:00, 12.70it/s]\n",
            "pysocks-1.7.1        | 27 KB     | : 100% 1.0/1 [00:00<00:00, 28.19it/s]\n",
            "chardet-3.0.4        | 187 KB    | : 100% 1.0/1 [00:00<00:00, 15.36it/s]\n",
            "xz-5.2.5             | 343 KB    | : 100% 1.0/1 [00:00<00:00, 10.94it/s]\n",
            "requests-2.24.0      | 47 KB     | : 100% 1.0/1 [00:00<00:00, 26.24it/s]\n",
            "pyopenssl-19.1.0     | 47 KB     | : 100% 1.0/1 [00:00<00:00, 17.38it/s]\n",
            "brotlipy-0.7.0       | 346 KB    | : 100% 1.0/1 [00:00<00:00, 13.30it/s]\n",
            "tk-8.6.10            | 3.2 MB    | : 100% 1.0/1 [00:00<00:00,  1.98it/s]\n",
            "_libgcc_mutex-0.1    | 3 KB      | : 100% 1.0/1 [00:00<00:00, 29.38it/s]\n",
            "ncurses-6.2          | 993 KB    | : 100% 1.0/1 [00:00<00:00,  2.74it/s]\n",
            "conda-package-handli | 934 KB    | : 100% 1.0/1 [00:00<00:00,  7.01it/s]\n",
            "certifi-2020.6.20    | 151 KB    | : 100% 1.0/1 [00:00<00:00, 16.71it/s]\n",
            "libgcc-ng-9.3.0      | 7.8 MB    | : 100% 1.0/1 [00:01<00:00,  1.15s/it]               \n",
            "pycparser-2.20       | 94 KB     | : 100% 1.0/1 [00:00<00:00, 16.05it/s]\n",
            "pycosat-0.6.3        | 107 KB    | : 100% 1.0/1 [00:00<00:00, 18.94it/s]\n",
            "ruamel_yaml-0.15.80  | 254 KB    | : 100% 1.0/1 [00:00<00:00, 14.00it/s]\n",
            "setuptools-49.6.0    | 934 KB    | : 100% 1.0/1 [00:00<00:00,  4.62it/s]\n",
            "zlib-1.2.11          | 106 KB    | : 100% 1.0/1 [00:00<00:00, 24.85it/s]\n",
            "cryptography-3.1.1   | 617 KB    | : 100% 1.0/1 [00:00<00:00,  6.35it/s]\n",
            "conda-4.8.5          | 3.0 MB    | : 100% 1.0/1 [00:00<00:00,  1.87it/s]\n",
            "openssl-1.1.1h       | 2.1 MB    | : 100% 1.0/1 [00:00<00:00,  3.05it/s]\n",
            "pip-20.2.3           | 1.1 MB    | : 100% 1.0/1 [00:00<00:00,  4.21it/s]\n",
            "yaml-0.2.5           | 82 KB     | : 100% 1.0/1 [00:00<00:00, 22.65it/s]\n",
            "wheel-0.35.1         | 29 KB     | : 100% 1.0/1 [00:00<00:00, 26.09it/s]\n",
            "urllib3-1.25.10      | 92 KB     | : 100% 1.0/1 [00:00<00:00, 15.51it/s]\n",
            "idna-2.10            | 52 KB     | : 100% 1.0/1 [00:00<00:00, 26.30it/s]\n",
            "readline-8.0         | 281 KB    | : 100% 1.0/1 [00:00<00:00, 11.48it/s]\n",
            "tqdm-4.50.0          | 54 KB     | : 100% 1.0/1 [00:00<00:00, 24.41it/s]\n",
            "sqlite-3.33.0        | 1.4 MB    | : 100% 1.0/1 [00:00<00:00,  4.59it/s]\n",
            "_openmp_mutex-4.5    | 22 KB     | : 100% 1.0/1 [00:00<00:00, 33.44it/s]\n",
            "Preparing transaction: | \b\b/ \b\b- \b\bdone\n",
            "Verifying transaction: | \b\b/ \b\b- \b\b\\ \b\b| \b\b/ \b\b- \b\bdone\n",
            "Executing transaction: | \b\b/ \b\b- \b\b\\ \b\b| \b\b/ \b\b- \b\b\\ \b\b| \b\b/ \b\b- \b\b\\ \b\b| \b\b/ \b\b- \b\b\\ \b\b| \b\b/ \b\b- \b\b\\ \b\bdone\n",
            "Collecting package metadata (current_repodata.json): - \b\b\\ \b\b| \b\b/ \b\b- \b\b\\ \b\b| \b\b/ \b\b- \b\b\\ \b\bdone\n",
            "Solving environment: / \b\b- \b\b\\ \b\b| \b\b/ \b\b- \b\b\\ \b\bdone\n",
            "\n",
            "# All requested packages already installed.\n",
            "\n",
            "Installing RAPIDS 0.14 packages from the stable release channel\n",
            "Please standby, this will take a few minutes...\n",
            "Collecting package metadata (current_repodata.json): - \b\b\\ \b\b| \b\b/ \b\b- \b\b\\ \b\b| \b\b/ \b\b- \b\b\\ \b\b| \b\b/ \b\b- \b\b\\ \b\b| \b\b/ \b\b- \b\b\\ \b\b| \b\b/ \b\b- \b\b\\ \b\b| \b\b/ \b\b- \b\b\\ \b\b| \b\b/ \b\b- \b\b\\ \b\b| \b\b/ \b\b- \b\b\\ \b\b| \b\bdone\n",
            "Solving environment: - \b\b\\ \b\b| \b\b/ \b\b- \b\b\\ \b\b| \b\b/ \b\b- \b\b\\ \b\b| \b\b/ \b\b- \b\b\\ \b\b| \b\b/ \b\b- \b\b\\ \b\b| \b\b/ \b\b- \b\b\\ \b\b| \b\b/ \b\b- \b\b\\ \b\b| \b\b/ \b\b- \b\b\\ \b\b| \b\b/ \b\b- \b\b\\ \b\b| \b\b/ \b\b- \b\b\\ \b\b| \b\b/ \b\b- \b\b\\ \b\b| \b\b/ \b\b- \b\b\\ \b\b| \b\b/ \b\b- \b\b\\ \b\b| \b\b/ \b\b- \b\b\\ \b\b| \b\b/ \b\b- \b\b\\ \b\b| \b\b/ \b\b- \b\b\\ \b\b| \b\b/ \b\b- \b\b\\ \b\b| \b\b/ \b\b- \b\b\\ \b\b| \b\b/ \b\b- \b\b\\ \b\b| \b\b/ \b\b- \b\b\\ \b\b| \b\b/ \b\b- \b\b\\ \b\b| \b\b/ \b\b- \b\b\\ \b\b| \b\b/ \b\b- \b\b\\ \b\b| \b\b/ \b\b- \b\b\\ \b\b| \b\b/ \b\b- \b\bfailed with initial frozen solve. Retrying with flexible solve.\n",
            "Solving environment: | \b\b/ \b\b- \b\b\\ \b\b| \b\b/ \b\b- \b\b\\ \b\b| \b\b/ \b\b- \b\b\\ \b\b| \b\b/ \b\b- \b\b\\ \b\b| \b\b/ \b\b- \b\b\\ \b\b| \b\b/ \b\b- \b\b\\ \b\b| \b\b/ \b\b- \b\b\\ \b\b| \b\b/ \b\b- \b\b\\ \b\b| \b\b/ \b\b- \b\b\\ \b\b| \b\b/ \b\b- \b\b\\ \b\b| \b\b/ \b\b- \b\b\\ \b\b| \b\b/ \b\b- \b\b\\ \b\b| \b\b/ \b\b- \b\b\\ \b\b| \b\b/ \b\b- \b\b\\ \b\b| \b\b/ \b\b- \b\b\\ \b\b| \b\b/ \b\b- \b\b\\ \b\b| \b\b/ \b\b- \b\b\\ \b\b| \b\b/ \b\b- \b\b\\ \b\b| \b\b/ \b\b- \b\b\\ \b\b| \b\b/ \b\b- \b\b\\ \b\b| \b\b/ \b\b- \b\b\\ \b\b| \b\b/ \b\b- \b\b\\ \b\b| \b\b/ \b\b- \b\b\\ \b\b| \b\b/ \b\b- \b\b\\ \b\b| \b\b/ \b\b- \b\b\\ \b\b| \b\b/ \b\b- \b\b\\ \b\b| \b\b/ \b\b- \b\b\\ \b\b| \b\b/ \b\b- \b\b\\ \b\b| \b\b/ \b\b- \b\b\\ \b\b| \b\b/ \b\b- \b\b\\ \b\b| \b\b/ \b\b- \b\b\\ \b\b| \b\b/ \b\b- \b\b\\ \b\b| \b\b/ \b\b- \b\b\\ \b\b| \b\b/ \b\b- \b\b\\ \b\b| \b\b/ \b\bfailed with repodata from current_repodata.json, will retry with next repodata source.\n",
            "Collecting package metadata (repodata.json): \\ \b\b| \b\b/ \b\b- \b\b\\ \b\b| \b\b/ \b\b- \b\b\\ \b\b| \b\b/ \b\b- \b\b\\ \b\b| \b\b/ \b\b- \b\b\\ \b\b| \b\b/ \b\b- \b\b\\ \b\b| \b\b/ \b\b- \b\b\\ \b\b| \b\b/ \b\b- \b\b\\ \b\b| \b\b/ \b\b- \b\b\\ \b\b| \b\b/ \b\b- \b\b\\ \b\b| \b\b/ \b\b- \b\b\\ \b\b| \b\b/ \b\b- \b\b\\ \b\b| \b\b/ \b\b- \b\b\\ \b\b| \b\b/ \b\b- \b\b\\ \b\b| \b\b/ \b\b- \b\b\\ \b\b| \b\b/ \b\b- \b\b\\ \b\b| \b\b/ \b\b- \b\b\\ \b\b| \b\b/ \b\b- \b\b\\ \b\b| \b\b/ \b\b- \b\b\\ \b\b| \b\b/ \b\b- \b\b\\ \b\b| \b\b/ \b\b- \b\b\\ \b\b| \b\b/ \b\b- \b\b\\ \b\b| \b\b/ \b\b- \b\b\\ \b\b| \b\b/ \b\b- \b\b\\ \b\b| \b\b/ \b\b- \b\b\\ \b\b| \b\b/ \b\b- \b\b\\ \b\b| \b\b/ \b\b- \b\b\\ \b\b| \b\b/ \b\b- \b\b\\ \b\b| \b\b/ \b\b- \b\b\\ \b\b| \b\b/ \b\b- \b\b\\ \b\b| \b\b/ \b\b- \b\b\\ \b\b| \b\b/ \b\b- \b\b\\ \b\b| \b\b/ \b\b- \b\b\\ \b\b| \b\b/ \b\b- \b\b\\ \b\b| \b\b/ \b\b- \b\b\\ \b\b| \b\b/ \b\b- \b\b\\ \b\b| \b\b/ \b\b- \b\b\\ \b\b| \b\b/ \b\b- \b\b\\ \b\b| \b\b/ \b\b- \b\b\\ \b\b| \b\b/ \b\b- \b\b\\ \b\b| \b\b/ \b\b- \b\b\\ \b\b| \b\b/ \b\b- \b\b\\ \b\b| \b\b/ \b\b- \b\b\\ \b\b| \b\b/ \b\b- \b\b\\ \b\b| \b\b/ \b\b- \b\b\\ \b\b| \b\b/ \b\b- \b\b\\ \b\b| \b\b/ \b\b- \b\b\\ \b\b| \b\b/ \b\b- \b\b\\ \b\b| \b\b/ \b\b- \b\bdone\n",
            "Solving environment: | \b\b/ \b\b- \b\b\\ \b\b| \b\b/ \b\b- \b\b\\ \b\b| \b\b/ \b\b- \b\b\\ \b\b| \b\b/ \b\b- \b\b\\ \b\b| \b\b/ \b\b- \b\b\\ \b\b| \b\b/ \b\b- \b\b\\ \b\b| \b\b/ \b\b- \b\b\\ \b\b| \b\b/ \b\b- \b\b\\ \b\b| \b\b/ \b\b- \b\b\\ \b\b| \b\b/ \b\b- \b\b\\ \b\b| \b\b/ \b\b- \b\b\\ \b\b| \b\b/ \b\b- \b\b\\ \b\b| \b\b/ \b\b- \b\b\\ \b\b| \b\b/ \b\b- \b\b\\ \b\b| \b\b/ \b\b- \b\b\\ \b\b| \b\b/ \b\b- \b\b\\ \b\b| \b\b/ \b\b- \b\b\\ \b\b| \b\b/ \b\b- \b\b\\ \b\b| \b\b/ \b\b- \b\b\\ \b\b| \b\b/ \b\b- \b\b\\ \b\b| \b\b/ \b\b- \b\b\\ \b\b| \b\b/ \b\b- \b\b\\ \b\b| \b\b/ \b\b- \b\b\\ \b\b| \b\b/ \b\b- \b\b\\ \b\b| \b\b/ \b\b- \b\b\\ \b\b| \b\b/ \b\b- \b\b\\ \b\b| \b\b/ \b\b- \b\b\\ \b\b| \b\b/ \b\b- \b\b\\ \b\b| \b\b/ \b\b- \b\b\\ \b\b| \b\b/ \b\b- \b\b\\ \b\b| \b\b/ \b\b- \b\b\\ \b\b| \b\b/ \b\b- \b\b\\ \b\b| \b\b/ \b\b- \b\b\\ \b\b| \b\b/ \b\b- \b\b\\ \b\b| \b\b/ \b\b- \b\b\\ \b\b| \b\b/ \b\b- \b\b\\ \b\b| \b\b/ \b\b- \b\b\\ \b\b| \b\b/ \b\b- \b\b\\ \b\b| \b\b/ \b\b- \b\b\\ \b\b| \b\b/ \b\b- \b\b\\ \b\b| \b\b/ \b\b- \b\b\\ \b\b| \b\b/ \b\b- \b\b\\ \b\b| \b\b/ \b\b- \b\b\\ \b\b| \b\b/ \b\b- \b\b\\ \b\b| \b\b/ \b\b- \b\b\\ \b\bdone\n",
            "\n",
            "## Package Plan ##\n",
            "\n",
            "  environment location: /usr/local\n",
            "\n",
            "  added / updated specs:\n",
            "    - cudatoolkit=10.1\n",
            "    - cudf=0.14\n",
            "    - cugraph\n",
            "    - cuml\n",
            "    - cusignal\n",
            "    - cuspatial\n",
            "    - dask-cudf\n",
            "    - gcsfs\n",
            "    - gdal=3.0.4\n",
            "    - pynvml\n",
            "    - python=3.6\n",
            "    - xgboost=1.1.0dev.rapidsai0.14\n",
            "\n",
            "\n",
            "The following packages will be downloaded:\n",
            "\n",
            "    package                    |            build\n",
            "    ---------------------------|-----------------\n",
            "    aiohttp-3.6.2              |   py36h516909a_0         605 KB  conda-forge\n",
            "    arrow-cpp-0.15.0           |   py36h090bef1_2        18.1 MB  conda-forge\n",
            "    async-timeout-3.0.1        |          py_1000          11 KB  conda-forge\n",
            "    attrs-20.2.0               |     pyh9f0ad1d_0          41 KB  conda-forge\n",
            "    blinker-1.4                |             py_1          13 KB  conda-forge\n",
            "    bokeh-2.2.1                |   py36h9f0ad1d_0         6.9 MB  conda-forge\n",
            "    boost-1.70.0               |   py36h9de70de_1         337 KB  conda-forge\n",
            "    boost-cpp-1.70.0           |       h8e57a91_2        21.1 MB  conda-forge\n",
            "    brotli-1.0.9               |       he1b5a44_0         394 KB  conda-forge\n",
            "    bzip2-1.0.8                |       h516909a_3         398 KB  conda-forge\n",
            "    c-ares-1.16.1              |       h516909a_3         107 KB  conda-forge\n",
            "    cachetools-4.1.1           |             py_0          12 KB  conda-forge\n",
            "    cairo-1.16.0               |    hcf35c78_1003         1.5 MB  conda-forge\n",
            "    cfitsio-3.470              |       hce51eda_6         1.3 MB  conda-forge\n",
            "    click-7.1.2                |     pyh9f0ad1d_0          64 KB  conda-forge\n",
            "    cloudpickle-1.6.0          |             py_0          22 KB  conda-forge\n",
            "    contextvars-2.4            |             py_0          11 KB  conda-forge\n",
            "    cudatoolkit-10.1.243       |       h6bb024c_0       513.2 MB  nvidia\n",
            "    cudf-0.14.0                |           py36_0        25.7 MB  rapidsai/label/main\n",
            "    cudnn-7.6.0                |       cuda10.1_0       240.9 MB  nvidia\n",
            "    cugraph-0.14.0             |           py36_0         6.9 MB  rapidsai/label/main\n",
            "    cuml-0.14.0                |  cuda10.1_py36_0         9.6 MB  rapidsai/label/main\n",
            "    cupy-7.8.0                 |   py36h5c369b2_1        20.6 MB  conda-forge\n",
            "    curl-7.71.1                |       he644dc0_8         139 KB  conda-forge\n",
            "    cusignal-0.14.1            |           py36_0          87 KB  rapidsai/label/main\n",
            "    cuspatial-0.14.0           |           py36_0         3.6 MB  rapidsai/label/main\n",
            "    cytoolz-0.11.0             |   py36h8c4c3a4_0         377 KB  conda-forge\n",
            "    dask-2.28.0                |             py_0           4 KB  conda-forge\n",
            "    dask-core-2.28.0           |             py_0         640 KB  conda-forge\n",
            "    dask-cudf-0.14.0           |           py36_0          81 KB  rapidsai/label/main\n",
            "    distributed-2.28.0         |   py36h9f0ad1d_0         1.0 MB  conda-forge\n",
            "    dlpack-0.3                 |       he1b5a44_1          13 KB  conda-forge\n",
            "    double-conversion-3.1.5    |       he1b5a44_2          85 KB  conda-forge\n",
            "    expat-2.2.9                |       he1b5a44_2         191 KB  conda-forge\n",
            "    fastavro-1.0.0.post1       |   py36h8c4c3a4_0         395 KB  conda-forge\n",
            "    fastrlock-0.5              |   py36h831f99a_0          31 KB  conda-forge\n",
            "    fontconfig-2.13.1          |    h86ecdb6_1001         340 KB  conda-forge\n",
            "    freetype-2.10.2            |       he06d7ca_0         905 KB  conda-forge\n",
            "    freexl-1.0.5               |    h516909a_1002          46 KB  conda-forge\n",
            "    fsspec-0.8.3               |             py_0          64 KB  conda-forge\n",
            "    gcsfs-0.7.1                |             py_0          22 KB  conda-forge\n",
            "    gdal-3.0.4                 |  py36hd60729c_10         1.3 MB  conda-forge\n",
            "    geos-3.8.1                 |       he1b5a44_0         1.0 MB  conda-forge\n",
            "    geotiff-1.6.0              |       h05acad5_0         280 KB  conda-forge\n",
            "    gflags-2.2.2               |    he1b5a44_1004         114 KB  conda-forge\n",
            "    giflib-5.2.1               |       h516909a_2          80 KB  conda-forge\n",
            "    glib-2.65.0                |       h3eb4bd4_0         2.9 MB\n",
            "    glog-0.4.0                 |       h49b9bf7_3         104 KB  conda-forge\n",
            "    google-auth-1.21.2         |             py_0          56 KB  conda-forge\n",
            "    google-auth-oauthlib-0.4.1 |             py_2          18 KB  conda-forge\n",
            "    grpc-cpp-1.23.0            |       h18db393_0         4.5 MB  conda-forge\n",
            "    hdf4-4.2.13                |    hf30be14_1003         964 KB  conda-forge\n",
            "    hdf5-1.10.6                |nompi_h3c11f04_101         3.0 MB  conda-forge\n",
            "    heapdict-1.0.1             |             py_0           7 KB  conda-forge\n",
            "    icu-64.2                   |       he1b5a44_1        12.6 MB  conda-forge\n",
            "    idna_ssl-1.1.0             |        py36_1000           6 KB  conda-forge\n",
            "    immutables-0.14            |   py36h8c4c3a4_0          68 KB  conda-forge\n",
            "    jinja2-2.11.2              |     pyh9f0ad1d_0          93 KB  conda-forge\n",
            "    joblib-0.16.0              |             py_0         203 KB  conda-forge\n",
            "    jpeg-9d                    |       h516909a_0         266 KB  conda-forge\n",
            "    json-c-0.13.1              |    hbfbb72e_1002          76 KB  conda-forge\n",
            "    kealib-1.4.13              |       h33137a7_1         172 KB  conda-forge\n",
            "    krb5-1.17.1                |       hfafb76e_3         1.5 MB  conda-forge\n",
            "    lcms2-2.11                 |       hbd6801e_0         431 KB  conda-forge\n",
            "    libblas-3.8.0              |      17_openblas          11 KB  conda-forge\n",
            "    libcblas-3.8.0             |      17_openblas          11 KB  conda-forge\n",
            "    libcudf-0.14.0             |       cuda10.1_0       101.5 MB  rapidsai/label/main\n",
            "    libcugraph-0.14.0          |       cuda10.1_0        14.3 MB  rapidsai/label/main\n",
            "    libcuml-0.14.0             |       cuda10.1_0        42.4 MB  rapidsai/label/main\n",
            "    libcumlprims-0.14.1        |       cuda10.1_0         6.0 MB  nvidia\n",
            "    libcurl-7.71.1             |       hcdd3856_8         312 KB  conda-forge\n",
            "    libcuspatial-0.14.0        |       cuda10.1_0         3.4 MB  rapidsai/label/main\n",
            "    libdap4-3.20.6             |       h1d1bd15_1         7.9 MB  conda-forge\n",
            "    libedit-3.1.20191231       |       he28a2e2_2         121 KB  conda-forge\n",
            "    libev-4.33                 |       h516909a_1         104 KB  conda-forge\n",
            "    libevent-2.1.10            |       hcdb4288_2         1.1 MB  conda-forge\n",
            "    libgdal-3.0.4              |      he6a97d6_10        18.8 MB  conda-forge\n",
            "    libgfortran-ng-7.5.0       |      hdf63c60_16         1.3 MB  conda-forge\n",
            "    libhwloc-2.1.0             |       h3c4fd83_0         2.7 MB  conda-forge\n",
            "    libiconv-1.16              |       h516909a_0         1.4 MB  conda-forge\n",
            "    libkml-1.3.0               |    h4fcabce_1010         643 KB  conda-forge\n",
            "    liblapack-3.8.0            |      17_openblas          11 KB  conda-forge\n",
            "    libllvm9-9.0.1             |       he513fc3_1        25.1 MB  conda-forge\n",
            "    libnetcdf-4.7.4            |nompi_h84807e1_105         1.3 MB  conda-forge\n",
            "    libnghttp2-1.41.0          |       h8cfc5f6_2         774 KB  conda-forge\n",
            "    libnvstrings-0.14.0        |       cuda10.1_0        30.1 MB  rapidsai/label/main\n",
            "    libopenblas-0.3.10         |pthreads_hb3c22a3_4         7.8 MB  conda-forge\n",
            "    libpng-1.6.37              |       hed695b0_2         359 KB  conda-forge\n",
            "    libpq-12.3                 |       h5513abc_0         2.6 MB  conda-forge\n",
            "    libprotobuf-3.8.0          |       h8b12597_0         4.7 MB  conda-forge\n",
            "    librmm-0.14.0              |       cuda10.1_0         189 KB  rapidsai/label/main\n",
            "    libspatialite-4.3.0a       |    h2482549_1038         3.1 MB  conda-forge\n",
            "    libssh2-1.9.0              |       hab1572f_5         225 KB  conda-forge\n",
            "    libtiff-4.1.0              |       hc7e4089_6         668 KB  conda-forge\n",
            "    libuuid-2.32.1             |    h14c3975_1000          26 KB  conda-forge\n",
            "    libwebp-base-1.1.0         |       h516909a_3         845 KB  conda-forge\n",
            "    libxcb-1.13                |    h14c3975_1002         396 KB  conda-forge\n",
            "    libxgboost-1.1.0dev.rapidsai0.14|       cuda10.1_0        31.1 MB  rapidsai/label/main\n",
            "    libxml2-2.9.10             |       hee79883_0         1.3 MB  conda-forge\n",
            "    llvmlite-0.33.0            |   py36hfa65bc7_1         329 KB  conda-forge\n",
            "    locket-0.2.0               |             py_2           6 KB  conda-forge\n",
            "    lz4-c-1.8.3                |    he1b5a44_1001         187 KB  conda-forge\n",
            "    markupsafe-1.1.1           |   py36h8c4c3a4_1          26 KB  conda-forge\n",
            "    msgpack-python-1.0.0       |   py36hdb11119_1          91 KB  conda-forge\n",
            "    multidict-4.7.5            |   py36h8c4c3a4_1          69 KB  conda-forge\n",
            "    nccl-2.5.7.1               |       h51cf6c1_0        98.4 MB  conda-forge\n",
            "    numba-0.50.1               |   py36h0573a6f_1         3.1 MB\n",
            "    numpy-1.19.1               |   py36h3849536_2         5.2 MB  conda-forge\n",
            "    nvstrings-0.14.0           |           py36_0         129 KB  rapidsai/label/main\n",
            "    oauthlib-3.0.1             |             py_0          82 KB  conda-forge\n",
            "    olefile-0.46               |             py_0          31 KB  conda-forge\n",
            "    openjpeg-2.3.1             |       h981e76c_3         475 KB  conda-forge\n",
            "    packaging-20.4             |     pyh9f0ad1d_0          32 KB  conda-forge\n",
            "    pandas-0.25.3              |   py36hb3f55d8_0        11.4 MB  conda-forge\n",
            "    parquet-cpp-1.5.1          |                2           3 KB  conda-forge\n",
            "    partd-1.1.0                |             py_0          17 KB  conda-forge\n",
            "    pcre-8.44                  |       he1b5a44_0         261 KB  conda-forge\n",
            "    pillow-7.2.0               |   py36h8328e55_1         670 KB  conda-forge\n",
            "    pixman-0.38.0              |    h516909a_1003         594 KB  conda-forge\n",
            "    poppler-0.87.0             |       h4190859_1        12.9 MB  conda-forge\n",
            "    poppler-data-0.4.9         |                1         3.4 MB  conda-forge\n",
            "    postgresql-12.3            |       h8573dbc_0         5.0 MB  conda-forge\n",
            "    proj-7.0.0                 |       h966b41f_5         3.7 MB  conda-forge\n",
            "    psutil-5.7.2               |   py36h8c4c3a4_0         336 KB  conda-forge\n",
            "    pthread-stubs-0.4          |    h14c3975_1001           5 KB  conda-forge\n",
            "    py-xgboost-1.1.0dev.rapidsai0.14|   cuda10.1py36_0         106 KB  rapidsai/label/main\n",
            "    pyarrow-0.15.0             |   py36h8b68381_1         3.2 MB  conda-forge\n",
            "    pyasn1-0.4.8               |             py_0          53 KB  conda-forge\n",
            "    pyasn1-modules-0.2.7       |             py_0          60 KB  conda-forge\n",
            "    pyjwt-1.7.1                |             py_0          17 KB  conda-forge\n",
            "    pynvml-8.0.4               |             py_1          31 KB  conda-forge\n",
            "    pyparsing-2.4.7            |     pyh9f0ad1d_0          60 KB  conda-forge\n",
            "    python-dateutil-2.8.1      |             py_0         220 KB  conda-forge\n",
            "    pytz-2020.1                |     pyh9f0ad1d_0         227 KB  conda-forge\n",
            "    pyyaml-5.3.1               |   py36h8c4c3a4_0         186 KB  conda-forge\n",
            "    re2-2020.04.01             |       he1b5a44_0         438 KB  conda-forge\n",
            "    requests-oauthlib-1.3.0    |     pyh9f0ad1d_0          21 KB  conda-forge\n",
            "    rmm-0.14.0                 |           py36_0         684 KB  rapidsai/label/main\n",
            "    rsa-4.6                    |     pyh9f0ad1d_0          27 KB  conda-forge\n",
            "    scikit-learn-0.23.2        |   py36hfb379a7_0         6.8 MB  conda-forge\n",
            "    scipy-1.4.1                |   py36h2d22cac_3        18.9 MB  conda-forge\n",
            "    snappy-1.1.8               |       he1b5a44_3          32 KB  conda-forge\n",
            "    sortedcontainers-2.2.2     |     pyh9f0ad1d_0          25 KB  conda-forge\n",
            "    spdlog-1.8.0               |       hc9558a2_0         316 KB  conda-forge\n",
            "    tbb-2018.0.5               |       h2d50403_0         1.1 MB  conda-forge\n",
            "    tblib-1.6.0                |             py_0          14 KB  conda-forge\n",
            "    threadpoolctl-2.1.0        |     pyh5ca1d4c_0          15 KB  conda-forge\n",
            "    thrift-cpp-0.12.0          |    hf3afdfd_1004         2.4 MB  conda-forge\n",
            "    tiledb-1.7.7               |       hcde45ca_0         2.0 MB  conda-forge\n",
            "    toolz-0.11.1               |             py_0          46 KB  conda-forge\n",
            "    tornado-6.0.4              |   py36h8c4c3a4_1         639 KB  conda-forge\n",
            "    typing_extensions-3.7.4.2  |             py_0          25 KB  conda-forge\n",
            "    tzcode-2020a               |       h516909a_0         425 KB  conda-forge\n",
            "    ucx-1.8.0+gf6ec8d4         |      cuda10.1_20         8.9 MB  rapidsai/label/main\n",
            "    ucx-py-0.14.0+gf6ec8d4     |           py36_0         137 KB  rapidsai/label/main\n",
            "    uriparser-0.9.3            |       he1b5a44_1          49 KB  conda-forge\n",
            "    xerces-c-3.2.2             |    h8412b87_1004         1.7 MB  conda-forge\n",
            "    xgboost-1.1.0dev.rapidsai0.14|   cuda10.1py36_0          12 KB  rapidsai/label/main\n",
            "    xorg-kbproto-1.0.7         |    h14c3975_1002          26 KB  conda-forge\n",
            "    xorg-libice-1.0.10         |       h516909a_0          57 KB  conda-forge\n",
            "    xorg-libsm-1.2.3           |    h84519dc_1000          25 KB  conda-forge\n",
            "    xorg-libx11-1.6.12         |       h516909a_0         917 KB  conda-forge\n",
            "    xorg-libxau-1.0.9          |       h14c3975_0          13 KB  conda-forge\n",
            "    xorg-libxdmcp-1.1.3        |       h516909a_0          18 KB  conda-forge\n",
            "    xorg-libxext-1.3.4         |       h516909a_0          51 KB  conda-forge\n",
            "    xorg-libxrender-0.9.10     |    h516909a_1002          31 KB  conda-forge\n",
            "    xorg-renderproto-0.11.1    |    h14c3975_1002           8 KB  conda-forge\n",
            "    xorg-xextproto-7.3.0       |    h14c3975_1002          27 KB  conda-forge\n",
            "    xorg-xproto-7.0.31         |    h14c3975_1007          72 KB  conda-forge\n",
            "    yarl-1.4.2                 |   py36h516909a_0         135 KB  conda-forge\n",
            "    zict-2.0.0                 |             py_0          10 KB  conda-forge\n",
            "    zstd-1.4.4                 |       h3b9ef0a_2         982 KB  conda-forge\n",
            "    ------------------------------------------------------------\n",
            "                                           Total:        1.38 GB\n",
            "\n",
            "The following NEW packages will be INSTALLED:\n",
            "\n",
            "  aiohttp            conda-forge/linux-64::aiohttp-3.6.2-py36h516909a_0\n",
            "  arrow-cpp          conda-forge/linux-64::arrow-cpp-0.15.0-py36h090bef1_2\n",
            "  async-timeout      conda-forge/noarch::async-timeout-3.0.1-py_1000\n",
            "  attrs              conda-forge/noarch::attrs-20.2.0-pyh9f0ad1d_0\n",
            "  blinker            conda-forge/noarch::blinker-1.4-py_1\n",
            "  bokeh              conda-forge/linux-64::bokeh-2.2.1-py36h9f0ad1d_0\n",
            "  boost              conda-forge/linux-64::boost-1.70.0-py36h9de70de_1\n",
            "  boost-cpp          conda-forge/linux-64::boost-cpp-1.70.0-h8e57a91_2\n",
            "  brotli             conda-forge/linux-64::brotli-1.0.9-he1b5a44_0\n",
            "  bzip2              conda-forge/linux-64::bzip2-1.0.8-h516909a_3\n",
            "  c-ares             conda-forge/linux-64::c-ares-1.16.1-h516909a_3\n",
            "  cachetools         conda-forge/noarch::cachetools-4.1.1-py_0\n",
            "  cairo              conda-forge/linux-64::cairo-1.16.0-hcf35c78_1003\n",
            "  cfitsio            conda-forge/linux-64::cfitsio-3.470-hce51eda_6\n",
            "  click              conda-forge/noarch::click-7.1.2-pyh9f0ad1d_0\n",
            "  cloudpickle        conda-forge/noarch::cloudpickle-1.6.0-py_0\n",
            "  contextvars        conda-forge/noarch::contextvars-2.4-py_0\n",
            "  cudatoolkit        nvidia/linux-64::cudatoolkit-10.1.243-h6bb024c_0\n",
            "  cudf               rapidsai/label/main/linux-64::cudf-0.14.0-py36_0\n",
            "  cudnn              nvidia/linux-64::cudnn-7.6.0-cuda10.1_0\n",
            "  cugraph            rapidsai/label/main/linux-64::cugraph-0.14.0-py36_0\n",
            "  cuml               rapidsai/label/main/linux-64::cuml-0.14.0-cuda10.1_py36_0\n",
            "  cupy               conda-forge/linux-64::cupy-7.8.0-py36h5c369b2_1\n",
            "  curl               conda-forge/linux-64::curl-7.71.1-he644dc0_8\n",
            "  cusignal           rapidsai/label/main/noarch::cusignal-0.14.1-py36_0\n",
            "  cuspatial          rapidsai/label/main/linux-64::cuspatial-0.14.0-py36_0\n",
            "  cytoolz            conda-forge/linux-64::cytoolz-0.11.0-py36h8c4c3a4_0\n",
            "  dask               conda-forge/noarch::dask-2.28.0-py_0\n",
            "  dask-core          conda-forge/noarch::dask-core-2.28.0-py_0\n",
            "  dask-cudf          rapidsai/label/main/linux-64::dask-cudf-0.14.0-py36_0\n",
            "  distributed        conda-forge/linux-64::distributed-2.28.0-py36h9f0ad1d_0\n",
            "  dlpack             conda-forge/linux-64::dlpack-0.3-he1b5a44_1\n",
            "  double-conversion  conda-forge/linux-64::double-conversion-3.1.5-he1b5a44_2\n",
            "  expat              conda-forge/linux-64::expat-2.2.9-he1b5a44_2\n",
            "  fastavro           conda-forge/linux-64::fastavro-1.0.0.post1-py36h8c4c3a4_0\n",
            "  fastrlock          conda-forge/linux-64::fastrlock-0.5-py36h831f99a_0\n",
            "  fontconfig         conda-forge/linux-64::fontconfig-2.13.1-h86ecdb6_1001\n",
            "  freetype           conda-forge/linux-64::freetype-2.10.2-he06d7ca_0\n",
            "  freexl             conda-forge/linux-64::freexl-1.0.5-h516909a_1002\n",
            "  fsspec             conda-forge/noarch::fsspec-0.8.3-py_0\n",
            "  gcsfs              conda-forge/noarch::gcsfs-0.7.1-py_0\n",
            "  gdal               conda-forge/linux-64::gdal-3.0.4-py36hd60729c_10\n",
            "  geos               conda-forge/linux-64::geos-3.8.1-he1b5a44_0\n",
            "  geotiff            conda-forge/linux-64::geotiff-1.6.0-h05acad5_0\n",
            "  gflags             conda-forge/linux-64::gflags-2.2.2-he1b5a44_1004\n",
            "  giflib             conda-forge/linux-64::giflib-5.2.1-h516909a_2\n",
            "  glib               pkgs/main/linux-64::glib-2.65.0-h3eb4bd4_0\n",
            "  glog               conda-forge/linux-64::glog-0.4.0-h49b9bf7_3\n",
            "  google-auth        conda-forge/noarch::google-auth-1.21.2-py_0\n",
            "  google-auth-oauth~ conda-forge/noarch::google-auth-oauthlib-0.4.1-py_2\n",
            "  grpc-cpp           conda-forge/linux-64::grpc-cpp-1.23.0-h18db393_0\n",
            "  hdf4               conda-forge/linux-64::hdf4-4.2.13-hf30be14_1003\n",
            "  hdf5               conda-forge/linux-64::hdf5-1.10.6-nompi_h3c11f04_101\n",
            "  heapdict           conda-forge/noarch::heapdict-1.0.1-py_0\n",
            "  icu                conda-forge/linux-64::icu-64.2-he1b5a44_1\n",
            "  idna_ssl           conda-forge/linux-64::idna_ssl-1.1.0-py36_1000\n",
            "  immutables         conda-forge/linux-64::immutables-0.14-py36h8c4c3a4_0\n",
            "  jinja2             conda-forge/noarch::jinja2-2.11.2-pyh9f0ad1d_0\n",
            "  joblib             conda-forge/noarch::joblib-0.16.0-py_0\n",
            "  jpeg               conda-forge/linux-64::jpeg-9d-h516909a_0\n",
            "  json-c             conda-forge/linux-64::json-c-0.13.1-hbfbb72e_1002\n",
            "  kealib             conda-forge/linux-64::kealib-1.4.13-h33137a7_1\n",
            "  krb5               conda-forge/linux-64::krb5-1.17.1-hfafb76e_3\n",
            "  lcms2              conda-forge/linux-64::lcms2-2.11-hbd6801e_0\n",
            "  libblas            conda-forge/linux-64::libblas-3.8.0-17_openblas\n",
            "  libcblas           conda-forge/linux-64::libcblas-3.8.0-17_openblas\n",
            "  libcudf            rapidsai/label/main/linux-64::libcudf-0.14.0-cuda10.1_0\n",
            "  libcugraph         rapidsai/label/main/linux-64::libcugraph-0.14.0-cuda10.1_0\n",
            "  libcuml            rapidsai/label/main/linux-64::libcuml-0.14.0-cuda10.1_0\n",
            "  libcumlprims       nvidia/linux-64::libcumlprims-0.14.1-cuda10.1_0\n",
            "  libcurl            conda-forge/linux-64::libcurl-7.71.1-hcdd3856_8\n",
            "  libcuspatial       rapidsai/label/main/linux-64::libcuspatial-0.14.0-cuda10.1_0\n",
            "  libdap4            conda-forge/linux-64::libdap4-3.20.6-h1d1bd15_1\n",
            "  libedit            conda-forge/linux-64::libedit-3.1.20191231-he28a2e2_2\n",
            "  libev              conda-forge/linux-64::libev-4.33-h516909a_1\n",
            "  libevent           conda-forge/linux-64::libevent-2.1.10-hcdb4288_2\n",
            "  libgdal            conda-forge/linux-64::libgdal-3.0.4-he6a97d6_10\n",
            "  libgfortran-ng     conda-forge/linux-64::libgfortran-ng-7.5.0-hdf63c60_16\n",
            "  libhwloc           conda-forge/linux-64::libhwloc-2.1.0-h3c4fd83_0\n",
            "  libiconv           conda-forge/linux-64::libiconv-1.16-h516909a_0\n",
            "  libkml             conda-forge/linux-64::libkml-1.3.0-h4fcabce_1010\n",
            "  liblapack          conda-forge/linux-64::liblapack-3.8.0-17_openblas\n",
            "  libllvm9           conda-forge/linux-64::libllvm9-9.0.1-he513fc3_1\n",
            "  libnetcdf          conda-forge/linux-64::libnetcdf-4.7.4-nompi_h84807e1_105\n",
            "  libnghttp2         conda-forge/linux-64::libnghttp2-1.41.0-h8cfc5f6_2\n",
            "  libnvstrings       rapidsai/label/main/linux-64::libnvstrings-0.14.0-cuda10.1_0\n",
            "  libopenblas        conda-forge/linux-64::libopenblas-0.3.10-pthreads_hb3c22a3_4\n",
            "  libpng             conda-forge/linux-64::libpng-1.6.37-hed695b0_2\n",
            "  libpq              conda-forge/linux-64::libpq-12.3-h5513abc_0\n",
            "  libprotobuf        conda-forge/linux-64::libprotobuf-3.8.0-h8b12597_0\n",
            "  librmm             rapidsai/label/main/linux-64::librmm-0.14.0-cuda10.1_0\n",
            "  libspatialite      conda-forge/linux-64::libspatialite-4.3.0a-h2482549_1038\n",
            "  libssh2            conda-forge/linux-64::libssh2-1.9.0-hab1572f_5\n",
            "  libtiff            conda-forge/linux-64::libtiff-4.1.0-hc7e4089_6\n",
            "  libuuid            conda-forge/linux-64::libuuid-2.32.1-h14c3975_1000\n",
            "  libwebp-base       conda-forge/linux-64::libwebp-base-1.1.0-h516909a_3\n",
            "  libxcb             conda-forge/linux-64::libxcb-1.13-h14c3975_1002\n",
            "  libxgboost         rapidsai/label/main/linux-64::libxgboost-1.1.0dev.rapidsai0.14-cuda10.1_0\n",
            "  libxml2            conda-forge/linux-64::libxml2-2.9.10-hee79883_0\n",
            "  llvmlite           conda-forge/linux-64::llvmlite-0.33.0-py36hfa65bc7_1\n",
            "  locket             conda-forge/noarch::locket-0.2.0-py_2\n",
            "  lz4-c              conda-forge/linux-64::lz4-c-1.8.3-he1b5a44_1001\n",
            "  markupsafe         conda-forge/linux-64::markupsafe-1.1.1-py36h8c4c3a4_1\n",
            "  msgpack-python     conda-forge/linux-64::msgpack-python-1.0.0-py36hdb11119_1\n",
            "  multidict          conda-forge/linux-64::multidict-4.7.5-py36h8c4c3a4_1\n",
            "  nccl               conda-forge/linux-64::nccl-2.5.7.1-h51cf6c1_0\n",
            "  numba              pkgs/main/linux-64::numba-0.50.1-py36h0573a6f_1\n",
            "  numpy              conda-forge/linux-64::numpy-1.19.1-py36h3849536_2\n",
            "  nvstrings          rapidsai/label/main/linux-64::nvstrings-0.14.0-py36_0\n",
            "  oauthlib           conda-forge/noarch::oauthlib-3.0.1-py_0\n",
            "  olefile            conda-forge/noarch::olefile-0.46-py_0\n",
            "  openjpeg           conda-forge/linux-64::openjpeg-2.3.1-h981e76c_3\n",
            "  packaging          conda-forge/noarch::packaging-20.4-pyh9f0ad1d_0\n",
            "  pandas             conda-forge/linux-64::pandas-0.25.3-py36hb3f55d8_0\n",
            "  parquet-cpp        conda-forge/noarch::parquet-cpp-1.5.1-2\n",
            "  partd              conda-forge/noarch::partd-1.1.0-py_0\n",
            "  pcre               conda-forge/linux-64::pcre-8.44-he1b5a44_0\n",
            "  pillow             conda-forge/linux-64::pillow-7.2.0-py36h8328e55_1\n",
            "  pixman             conda-forge/linux-64::pixman-0.38.0-h516909a_1003\n",
            "  poppler            conda-forge/linux-64::poppler-0.87.0-h4190859_1\n",
            "  poppler-data       conda-forge/noarch::poppler-data-0.4.9-1\n",
            "  postgresql         conda-forge/linux-64::postgresql-12.3-h8573dbc_0\n",
            "  proj               conda-forge/linux-64::proj-7.0.0-h966b41f_5\n",
            "  psutil             conda-forge/linux-64::psutil-5.7.2-py36h8c4c3a4_0\n",
            "  pthread-stubs      conda-forge/linux-64::pthread-stubs-0.4-h14c3975_1001\n",
            "  py-xgboost         rapidsai/label/main/linux-64::py-xgboost-1.1.0dev.rapidsai0.14-cuda10.1py36_0\n",
            "  pyarrow            conda-forge/linux-64::pyarrow-0.15.0-py36h8b68381_1\n",
            "  pyasn1             conda-forge/noarch::pyasn1-0.4.8-py_0\n",
            "  pyasn1-modules     conda-forge/noarch::pyasn1-modules-0.2.7-py_0\n",
            "  pyjwt              conda-forge/noarch::pyjwt-1.7.1-py_0\n",
            "  pynvml             conda-forge/noarch::pynvml-8.0.4-py_1\n",
            "  pyparsing          conda-forge/noarch::pyparsing-2.4.7-pyh9f0ad1d_0\n",
            "  python-dateutil    conda-forge/noarch::python-dateutil-2.8.1-py_0\n",
            "  pytz               conda-forge/noarch::pytz-2020.1-pyh9f0ad1d_0\n",
            "  pyyaml             conda-forge/linux-64::pyyaml-5.3.1-py36h8c4c3a4_0\n",
            "  re2                conda-forge/linux-64::re2-2020.04.01-he1b5a44_0\n",
            "  requests-oauthlib  conda-forge/noarch::requests-oauthlib-1.3.0-pyh9f0ad1d_0\n",
            "  rmm                rapidsai/label/main/linux-64::rmm-0.14.0-py36_0\n",
            "  rsa                conda-forge/noarch::rsa-4.6-pyh9f0ad1d_0\n",
            "  scikit-learn       conda-forge/linux-64::scikit-learn-0.23.2-py36hfb379a7_0\n",
            "  scipy              conda-forge/linux-64::scipy-1.4.1-py36h2d22cac_3\n",
            "  snappy             conda-forge/linux-64::snappy-1.1.8-he1b5a44_3\n",
            "  sortedcontainers   conda-forge/noarch::sortedcontainers-2.2.2-pyh9f0ad1d_0\n",
            "  spdlog             conda-forge/linux-64::spdlog-1.8.0-hc9558a2_0\n",
            "  tbb                conda-forge/linux-64::tbb-2018.0.5-h2d50403_0\n",
            "  tblib              conda-forge/noarch::tblib-1.6.0-py_0\n",
            "  threadpoolctl      conda-forge/noarch::threadpoolctl-2.1.0-pyh5ca1d4c_0\n",
            "  thrift-cpp         conda-forge/linux-64::thrift-cpp-0.12.0-hf3afdfd_1004\n",
            "  tiledb             conda-forge/linux-64::tiledb-1.7.7-hcde45ca_0\n",
            "  toolz              conda-forge/noarch::toolz-0.11.1-py_0\n",
            "  tornado            conda-forge/linux-64::tornado-6.0.4-py36h8c4c3a4_1\n",
            "  typing_extensions  conda-forge/noarch::typing_extensions-3.7.4.2-py_0\n",
            "  tzcode             conda-forge/linux-64::tzcode-2020a-h516909a_0\n",
            "  ucx                rapidsai/label/main/linux-64::ucx-1.8.0+gf6ec8d4-cuda10.1_20\n",
            "  ucx-py             rapidsai/label/main/linux-64::ucx-py-0.14.0+gf6ec8d4-py36_0\n",
            "  uriparser          conda-forge/linux-64::uriparser-0.9.3-he1b5a44_1\n",
            "  xerces-c           conda-forge/linux-64::xerces-c-3.2.2-h8412b87_1004\n",
            "  xgboost            rapidsai/label/main/linux-64::xgboost-1.1.0dev.rapidsai0.14-cuda10.1py36_0\n",
            "  xorg-kbproto       conda-forge/linux-64::xorg-kbproto-1.0.7-h14c3975_1002\n",
            "  xorg-libice        conda-forge/linux-64::xorg-libice-1.0.10-h516909a_0\n",
            "  xorg-libsm         conda-forge/linux-64::xorg-libsm-1.2.3-h84519dc_1000\n",
            "  xorg-libx11        conda-forge/linux-64::xorg-libx11-1.6.12-h516909a_0\n",
            "  xorg-libxau        conda-forge/linux-64::xorg-libxau-1.0.9-h14c3975_0\n",
            "  xorg-libxdmcp      conda-forge/linux-64::xorg-libxdmcp-1.1.3-h516909a_0\n",
            "  xorg-libxext       conda-forge/linux-64::xorg-libxext-1.3.4-h516909a_0\n",
            "  xorg-libxrender    conda-forge/linux-64::xorg-libxrender-0.9.10-h516909a_1002\n",
            "  xorg-renderproto   conda-forge/linux-64::xorg-renderproto-0.11.1-h14c3975_1002\n",
            "  xorg-xextproto     conda-forge/linux-64::xorg-xextproto-7.3.0-h14c3975_1002\n",
            "  xorg-xproto        conda-forge/linux-64::xorg-xproto-7.0.31-h14c3975_1007\n",
            "  yarl               conda-forge/linux-64::yarl-1.4.2-py36h516909a_0\n",
            "  zict               conda-forge/noarch::zict-2.0.0-py_0\n",
            "  zstd               conda-forge/linux-64::zstd-1.4.4-h3b9ef0a_2\n",
            "\n",
            "\n",
            "\n",
            "Downloading and Extracting Packages\n",
            "multidict-4.7.5      | 69 KB     | : 100% 1.0/1 [00:00<00:00, 10.41it/s]\n",
            "liblapack-3.8.0      | 11 KB     | : 100% 1.0/1 [00:00<00:00, 25.32it/s]\n",
            "dask-cudf-0.14.0     | 81 KB     | : 100% 1.0/1 [00:00<00:00,  1.02it/s]               \n",
            "krb5-1.17.1          | 1.5 MB    | : 100% 1.0/1 [00:00<00:00,  3.59it/s]\n",
            "cachetools-4.1.1     | 12 KB     | : 100% 1.0/1 [00:00<00:00, 29.05it/s]\n",
            "zstd-1.4.4           | 982 KB    | : 100% 1.0/1 [00:00<00:00,  5.99it/s]\n",
            "libev-4.33           | 104 KB    | : 100% 1.0/1 [00:00<00:00, 16.87it/s]\n",
            "xgboost-1.1.0dev.rap | 12 KB     | : 100% 1.0/1 [00:00<00:00,  1.58it/s]\n",
            "thrift-cpp-0.12.0    | 2.4 MB    | : 100% 1.0/1 [00:00<00:00,  2.35it/s]\n",
            "cloudpickle-1.6.0    | 22 KB     | : 100% 1.0/1 [00:00<00:00, 22.56it/s]\n",
            "fastrlock-0.5        | 31 KB     | : 100% 1.0/1 [00:00<00:00, 25.97it/s]\n",
            "heapdict-1.0.1       | 7 KB      | : 100% 1.0/1 [00:00<00:00, 28.22it/s]\n",
            "expat-2.2.9          | 191 KB    | : 100% 1.0/1 [00:00<00:00, 17.54it/s]\n",
            "bzip2-1.0.8          | 398 KB    | : 100% 1.0/1 [00:00<00:00, 10.08it/s]\n",
            "pyarrow-0.15.0       | 3.2 MB    | : 100% 1.0/1 [00:00<00:00,  1.32it/s]\n",
            "pcre-8.44            | 261 KB    | : 100% 1.0/1 [00:00<00:00, 13.18it/s]\n",
            "packaging-20.4       | 32 KB     | : 100% 1.0/1 [00:00<00:00, 21.90it/s]\n",
            "libkml-1.3.0         | 643 KB    | : 100% 1.0/1 [00:00<00:00,  6.77it/s]\n",
            "libllvm9-9.0.1       | 25.1 MB   | : 100% 1.0/1 [00:03<00:00,  3.81s/it]               \n",
            "parquet-cpp-1.5.1    | 3 KB      | : 100% 1.0/1 [00:00<00:00, 34.11it/s]\n",
            "tbb-2018.0.5         | 1.1 MB    | : 100% 1.0/1 [00:00<00:00,  5.60it/s]\n",
            "xorg-libice-1.0.10   | 57 KB     | : 100% 1.0/1 [00:00<00:00, 25.74it/s]\n",
            "openjpeg-2.3.1       | 475 KB    | : 100% 1.0/1 [00:00<00:00,  9.63it/s]\n",
            "click-7.1.2          | 64 KB     | : 100% 1.0/1 [00:00<00:00, 26.36it/s]\n",
            "postgresql-12.3      | 5.0 MB    | : 100% 1.0/1 [00:00<00:00,  1.34it/s]\n",
            "libnghttp2-1.41.0    | 774 KB    | : 100% 1.0/1 [00:00<00:00,  7.60it/s]\n",
            "tornado-6.0.4        | 639 KB    | : 100% 1.0/1 [00:00<00:00,  5.62it/s]\n",
            "py-xgboost-1.1.0dev. | 106 KB    | : 100% 1.0/1 [00:00<00:00,  1.41it/s]               \n",
            "pyasn1-modules-0.2.7 | 60 KB     | : 100% 1.0/1 [00:00<00:00, 18.99it/s]\n",
            "pthread-stubs-0.4    | 5 KB      | : 100% 1.0/1 [00:00<00:00, 35.56it/s]\n",
            "xorg-libxau-1.0.9    | 13 KB     | : 100% 1.0/1 [00:00<00:00, 33.79it/s]\n",
            "pyjwt-1.7.1          | 17 KB     | : 100% 1.0/1 [00:00<00:00, 27.92it/s]\n",
            "locket-0.2.0         | 6 KB      | : 100% 1.0/1 [00:00<00:00, 26.34it/s]\n",
            "giflib-5.2.1         | 80 KB     | : 100% 1.0/1 [00:00<00:00, 25.10it/s]\n",
            "cudnn-7.6.0          | 240.9 MB  | : 100% 1.0/1 [00:50<00:00, 50.69s/it]\n",
            "xorg-kbproto-1.0.7   | 26 KB     | : 100% 1.0/1 [00:00<00:00, 23.24it/s]\n",
            "xorg-libsm-1.2.3     | 25 KB     | : 100% 1.0/1 [00:00<00:00, 33.96it/s]\n",
            "jinja2-2.11.2        | 93 KB     | : 100% 1.0/1 [00:00<00:00, 18.93it/s]\n",
            "gcsfs-0.7.1          | 22 KB     | : 100% 1.0/1 [00:00<00:00, 32.46it/s]\n",
            "lcms2-2.11           | 431 KB    | : 100% 1.0/1 [00:00<00:00, 11.35it/s]\n",
            "libdap4-3.20.6       | 7.9 MB    | : 100% 1.0/1 [00:01<00:00,  1.10s/it]\n",
            "glib-2.65.0          | 2.9 MB    | : 100% 1.0/1 [00:00<00:00,  3.51it/s]\n",
            "cuspatial-0.14.0     | 3.6 MB    | : 100% 1.0/1 [00:01<00:00,  1.81s/it]\n",
            "icu-64.2             | 12.6 MB   | : 100% 1.0/1 [00:01<00:00,  1.73s/it]               \n",
            "tblib-1.6.0          | 14 KB     | : 100% 1.0/1 [00:00<00:00, 34.92it/s]\n",
            "immutables-0.14      | 68 KB     | : 100% 1.0/1 [00:00<00:00, 20.38it/s]\n",
            "typing_extensions-3. | 25 KB     | : 100% 1.0/1 [00:00<00:00, 27.23it/s]\n",
            "joblib-0.16.0        | 203 KB    | : 100% 1.0/1 [00:00<00:00, 13.95it/s]\n",
            "scikit-learn-0.23.2  | 6.8 MB    | : 100% 1.0/1 [00:01<00:00,  1.23s/it]\n",
            "ucx-1.8.0+gf6ec8d4   | 8.9 MB    | : 100% 1.0/1 [00:01<00:00,  1.94s/it] \n",
            "libprotobuf-3.8.0    | 4.7 MB    | : 100% 1.0/1 [00:00<00:00,  1.11it/s]\n",
            "dask-core-2.28.0     | 640 KB    | : 100% 1.0/1 [00:00<00:00,  6.37it/s]\n",
            "cudatoolkit-10.1.243 | 513.2 MB  | : 100% 1.0/1 [01:24<00:00, 84.89s/it]\n",
            "python-dateutil-2.8. | 220 KB    | : 100% 1.0/1 [00:00<00:00, 17.01it/s]\n",
            "libnvstrings-0.14.0  | 30.1 MB   | : 100% 1.0/1 [00:07<00:00,  7.52s/it]\n",
            "boost-cpp-1.70.0     | 21.1 MB   | : 100% 1.0/1 [00:05<00:00,  5.92s/it]\n",
            "markupsafe-1.1.1     | 26 KB     | : 100% 1.0/1 [00:00<00:00, 28.90it/s]\n",
            "libxgboost-1.1.0dev. | 31.1 MB   | : 100% 1.0/1 [00:07<00:00,  7.26s/it]               \n",
            "libcurl-7.71.1       | 312 KB    | : 100% 1.0/1 [00:00<00:00, 13.62it/s]\n",
            "ucx-py-0.14.0+gf6ec8 | 137 KB    | : 100% 1.0/1 [00:01<00:00,  1.16s/it]             \n",
            "libevent-2.1.10      | 1.1 MB    | : 100% 1.0/1 [00:00<00:00,  3.40it/s]\n",
            "libpq-12.3           | 2.6 MB    | : 100% 1.0/1 [00:00<00:00,  2.03it/s]\n",
            "kealib-1.4.13        | 172 KB    | : 100% 1.0/1 [00:00<00:00, 13.71it/s]\n",
            "libtiff-4.1.0        | 668 KB    | : 100% 1.0/1 [00:00<00:00,  7.94it/s]\n",
            "libssh2-1.9.0        | 225 KB    | : 100% 1.0/1 [00:00<00:00, 13.03it/s]\n",
            "proj-7.0.0           | 3.7 MB    | : 100% 1.0/1 [00:00<00:00,  1.50it/s]\n",
            "nccl-2.5.7.1         | 98.4 MB   | : 100% 1.0/1 [00:11<00:00, 11.89s/it]               \n",
            "libxcb-1.13          | 396 KB    | : 100% 1.0/1 [00:00<00:00,  7.99it/s]\n",
            "toolz-0.11.1         | 46 KB     | : 100% 1.0/1 [00:00<00:00, 30.20it/s]\n",
            "gdal-3.0.4           | 1.3 MB    | : 100% 1.0/1 [00:00<00:00,  4.33it/s]\n",
            "snappy-1.1.8         | 32 KB     | : 100% 1.0/1 [00:00<00:00, 28.79it/s]\n",
            "cugraph-0.14.0       | 6.9 MB    | : 100% 1.0/1 [00:02<00:00,  2.56s/it]\n",
            "cuml-0.14.0          | 9.6 MB    | : 100% 1.0/1 [00:01<00:00,  1.91s/it]               \n",
            "rmm-0.14.0           | 684 KB    | : 100% 1.0/1 [00:00<00:00,  1.41it/s]                \n",
            "tiledb-1.7.7         | 2.0 MB    | : 100% 1.0/1 [00:00<00:00,  2.50it/s]\n",
            "freexl-1.0.5         | 46 KB     | : 100% 1.0/1 [00:00<00:00, 27.41it/s]\n",
            "aiohttp-3.6.2        | 605 KB    | : 100% 1.0/1 [00:00<00:00,  6.03it/s]\n",
            "libopenblas-0.3.10   | 7.8 MB    | : 100% 1.0/1 [00:01<00:00,  1.26s/it]\n",
            "distributed-2.28.0   | 1.0 MB    | : 100% 1.0/1 [00:00<00:00,  4.17it/s]\n",
            "pandas-0.25.3        | 11.4 MB   | : 100% 1.0/1 [00:02<00:00,  2.17s/it]\n",
            "libcuml-0.14.0       | 42.4 MB   | : 100% 1.0/1 [00:08<00:00,  8.93s/it]               \n",
            "cytoolz-0.11.0       | 377 KB    | : 100% 1.0/1 [00:00<00:00, 10.19it/s]\n",
            "numba-0.50.1         | 3.1 MB    | : 100% 1.0/1 [00:00<00:00,  3.70it/s]\n",
            "arrow-cpp-0.15.0     | 18.1 MB   | : 100% 1.0/1 [00:02<00:00,  2.76s/it]\n",
            "brotli-1.0.9         | 394 KB    | : 100% 1.0/1 [00:00<00:00,  8.87it/s]\n",
            "gflags-2.2.2         | 114 KB    | : 100% 1.0/1 [00:00<00:00, 23.37it/s]\n",
            "hdf4-4.2.13          | 964 KB    | : 100% 1.0/1 [00:00<00:00,  5.24it/s]\n",
            "pytz-2020.1          | 227 KB    | : 100% 1.0/1 [00:00<00:00,  9.83it/s]\n",
            "hdf5-1.10.6          | 3.0 MB    | : 100% 1.0/1 [00:00<00:00,  2.28it/s]\n",
            "libpng-1.6.37        | 359 KB    | : 100% 1.0/1 [00:00<00:00, 12.03it/s]\n",
            "poppler-0.87.0       | 12.9 MB   | : 100% 1.0/1 [00:01<00:00,  1.89s/it]               \n",
            "google-auth-oauthlib | 18 KB     | : 100% 1.0/1 [00:00<00:00, 28.80it/s]\n",
            "libhwloc-2.1.0       | 2.7 MB    | : 100% 1.0/1 [00:00<00:00,  2.94it/s]\n",
            "lz4-c-1.8.3          | 187 KB    | : 100% 1.0/1 [00:00<00:00, 15.40it/s]\n",
            "idna_ssl-1.1.0       | 6 KB      | : 100% 1.0/1 [00:00<00:00, 31.23it/s]\n",
            "libuuid-2.32.1       | 26 KB     | : 100% 1.0/1 [00:00<00:00, 27.37it/s]\n",
            "freetype-2.10.2      | 905 KB    | : 100% 1.0/1 [00:00<00:00,  6.10it/s]\n",
            "libgfortran-ng-7.5.0 | 1.3 MB    | : 100% 1.0/1 [00:00<00:00,  4.24it/s]\n",
            "pyparsing-2.4.7      | 60 KB     | : 100% 1.0/1 [00:00<00:00, 27.38it/s]\n",
            "libcblas-3.8.0       | 11 KB     | : 100% 1.0/1 [00:00<00:00, 34.17it/s]\n",
            "sortedcontainers-2.2 | 25 KB     | : 100% 1.0/1 [00:00<00:00, 30.62it/s]\n",
            "geos-3.8.1           | 1.0 MB    | : 100% 1.0/1 [00:00<00:00,  4.14it/s]\n",
            "google-auth-1.21.2   | 56 KB     | : 100% 1.0/1 [00:00<00:00, 24.05it/s]\n",
            "libnetcdf-4.7.4      | 1.3 MB    | : 100% 1.0/1 [00:00<00:00,  4.63it/s]\n",
            "double-conversion-3. | 85 KB     | : 100% 1.0/1 [00:00<00:00, 21.09it/s]\n",
            "libgdal-3.0.4        | 18.8 MB   | : 100% 1.0/1 [00:03<00:00,  3.13s/it]               \n",
            "glog-0.4.0           | 104 KB    | : 100% 1.0/1 [00:00<00:00, 22.78it/s]\n",
            "oauthlib-3.0.1       | 82 KB     | : 100% 1.0/1 [00:00<00:00, 17.56it/s]\n",
            "re2-2020.04.01       | 438 KB    | : 100% 1.0/1 [00:00<00:00, 10.54it/s]\n",
            "yarl-1.4.2           | 135 KB    | : 100% 1.0/1 [00:00<00:00, 14.14it/s]\n",
            "spdlog-1.8.0         | 316 KB    | : 100% 1.0/1 [00:00<00:00, 10.55it/s]\n",
            "attrs-20.2.0         | 41 KB     | : 100% 1.0/1 [00:00<00:00, 25.25it/s]\n",
            "fastavro-1.0.0.post1 | 395 KB    | : 100% 1.0/1 [00:00<00:00, 11.59it/s]\n",
            "xorg-libx11-1.6.12   | 917 KB    | : 100% 1.0/1 [00:00<00:00,  6.11it/s]\n",
            "xerces-c-3.2.2       | 1.7 MB    | : 100% 1.0/1 [00:00<00:00,  2.50it/s]\n",
            "nvstrings-0.14.0     | 129 KB    | : 100% 1.0/1 [00:00<00:00,  1.29it/s]                \n",
            "tzcode-2020a         | 425 KB    | : 100% 1.0/1 [00:00<00:00,  6.15it/s]\n",
            "requests-oauthlib-1. | 21 KB     | : 100% 1.0/1 [00:00<00:00, 29.52it/s]\n",
            "cfitsio-3.470        | 1.3 MB    | : 100% 1.0/1 [00:00<00:00,  4.62it/s]\n",
            "fontconfig-2.13.1    | 340 KB    | : 100% 1.0/1 [00:00<00:00, 12.50it/s]\n",
            "olefile-0.46         | 31 KB     | : 100% 1.0/1 [00:00<00:00, 34.59it/s]\n",
            "xorg-libxext-1.3.4   | 51 KB     | : 100% 1.0/1 [00:00<00:00, 25.37it/s]\n",
            "msgpack-python-1.0.0 | 91 KB     | : 100% 1.0/1 [00:00<00:00, 24.28it/s]\n",
            "numpy-1.19.1         | 5.2 MB    | : 100% 1.0/1 [00:00<00:00,  1.08it/s]\n",
            "poppler-data-0.4.9   | 3.4 MB    | : 100% 1.0/1 [00:00<00:00,  1.87it/s]\n",
            "pynvml-8.0.4         | 31 KB     | : 100% 1.0/1 [00:00<00:00, 23.87it/s]\n",
            "async-timeout-3.0.1  | 11 KB     | : 100% 1.0/1 [00:00<00:00, 34.46it/s]\n",
            "libxml2-2.9.10       | 1.3 MB    | : 100% 1.0/1 [00:00<00:00,  3.07it/s]\n",
            "boost-1.70.0         | 337 KB    | : 100% 1.0/1 [00:00<00:00,  8.96it/s]\n",
            "cupy-7.8.0           | 20.6 MB   | : 100% 1.0/1 [00:02<00:00,  2.95s/it]               \n",
            "uriparser-0.9.3      | 49 KB     | : 100% 1.0/1 [00:00<00:00, 28.60it/s]\n",
            "pyasn1-0.4.8         | 53 KB     | : 100% 1.0/1 [00:00<00:00, 20.82it/s]\n",
            "dlpack-0.3           | 13 KB     | : 100% 1.0/1 [00:00<00:00, 20.40it/s]\n",
            "xorg-renderproto-0.1 | 8 KB      | : 100% 1.0/1 [00:00<00:00, 36.36it/s]\n",
            "pillow-7.2.0         | 670 KB    | : 100% 1.0/1 [00:00<00:00,  7.12it/s]\n",
            "xorg-xextproto-7.3.0 | 27 KB     | : 100% 1.0/1 [00:00<00:00, 21.84it/s]\n",
            "curl-7.71.1          | 139 KB    | : 100% 1.0/1 [00:00<00:00, 23.81it/s]\n",
            "scipy-1.4.1          | 18.9 MB   | : 100% 1.0/1 [00:03<00:00,  3.02s/it]               \n",
            "cusignal-0.14.1      | 87 KB     | : 100% 1.0/1 [00:00<00:00,  1.02it/s]               \n",
            "libwebp-base-1.1.0   | 845 KB    | : 100% 1.0/1 [00:00<00:00,  6.12it/s]\n",
            "libcumlprims-0.14.1  | 6.0 MB    | : 100% 1.0/1 [00:03<00:00,  3.28s/it]\n",
            "libcuspatial-0.14.0  | 3.4 MB    | : 100% 1.0/1 [00:01<00:00,  1.68s/it]\n",
            "fsspec-0.8.3         | 64 KB     | : 100% 1.0/1 [00:00<00:00, 19.11it/s]\n",
            "jpeg-9d              | 266 KB    | : 100% 1.0/1 [00:00<00:00, 13.24it/s]\n",
            "xorg-libxdmcp-1.1.3  | 18 KB     | : 100% 1.0/1 [00:00<00:00, 35.66it/s]\n",
            "dask-2.28.0          | 4 KB      | : 100% 1.0/1 [00:00<00:00, 36.04it/s]\n",
            "librmm-0.14.0        | 189 KB    | : 100% 1.0/1 [00:00<00:00,  1.70it/s]                \n",
            "libedit-3.1.20191231 | 121 KB    | : 100% 1.0/1 [00:00<00:00, 19.85it/s]\n",
            "llvmlite-0.33.0      | 329 KB    | : 100% 1.0/1 [00:00<00:00, 12.10it/s]\n",
            "bokeh-2.2.1          | 6.9 MB    | : 100% 1.0/1 [00:01<00:00,  1.59s/it]\n",
            "partd-1.1.0          | 17 KB     | : 100% 1.0/1 [00:00<00:00, 29.95it/s]\n",
            "geotiff-1.6.0        | 280 KB    | : 100% 1.0/1 [00:00<00:00, 13.39it/s]\n",
            "pyyaml-5.3.1         | 186 KB    | : 100% 1.0/1 [00:00<00:00, 17.61it/s]\n",
            "c-ares-1.16.1        | 107 KB    | : 100% 1.0/1 [00:00<00:00, 15.05it/s]\n",
            "psutil-5.7.2         | 336 KB    | : 100% 1.0/1 [00:00<00:00, 10.06it/s]\n",
            "libblas-3.8.0        | 11 KB     | : 100% 1.0/1 [00:00<00:00, 32.33it/s]\n",
            "xorg-xproto-7.0.31   | 72 KB     | : 100% 1.0/1 [00:00<00:00, 22.85it/s]\n",
            "libiconv-1.16        | 1.4 MB    | : 100% 1.0/1 [00:00<00:00,  4.57it/s]\n",
            "libcudf-0.14.0       | 101.5 MB  | : 100% 1.0/1 [00:24<00:00, 24.23s/it]               \n",
            "libcugraph-0.14.0    | 14.3 MB   | : 100% 1.0/1 [00:03<00:00,  3.24s/it]\n",
            "json-c-0.13.1        | 76 KB     | : 100% 1.0/1 [00:00<00:00, 21.03it/s]\n",
            "cairo-1.16.0         | 1.5 MB    | : 100% 1.0/1 [00:00<00:00,  3.24it/s]\n",
            "rsa-4.6              | 27 KB     | : 100% 1.0/1 [00:00<00:00, 24.17it/s]\n",
            "grpc-cpp-1.23.0      | 4.5 MB    | : 100% 1.0/1 [00:00<00:00,  1.17it/s]\n",
            "pixman-0.38.0        | 594 KB    | : 100% 1.0/1 [00:00<00:00,  6.36it/s]\n",
            "xorg-libxrender-0.9. | 31 KB     | : 100% 1.0/1 [00:00<00:00, 19.04it/s]\n",
            "blinker-1.4          | 13 KB     | : 100% 1.0/1 [00:00<00:00, 34.08it/s]\n",
            "zict-2.0.0           | 10 KB     | : 100% 1.0/1 [00:00<00:00, 33.76it/s]\n",
            "contextvars-2.4      | 11 KB     | : 100% 1.0/1 [00:00<00:00, 25.36it/s]\n",
            "cudf-0.14.0          | 25.7 MB   | : 100% 1.0/1 [00:04<00:00,  4.55s/it] \n",
            "threadpoolctl-2.1.0  | 15 KB     | : 100% 1.0/1 [00:00<00:00, 27.07it/s]\n",
            "libspatialite-4.3.0a | 3.1 MB    | : 100% 1.0/1 [00:00<00:00,  1.78it/s]\n",
            "Preparing transaction: / \b\b- \b\b\\ \b\b| \b\b/ \b\b- \b\b\\ \b\b| \b\b/ \b\b- \b\b\\ \b\b| \b\b/ \b\b- \b\b\\ \b\b| \b\b/ \b\b- \b\b\\ \b\bdone\n",
            "Verifying transaction: / \b\b- \b\b\\ \b\b| \b\b/ \b\b- \b\b\\ \b\b| \b\b/ \b\b- \b\b\\ \b\b| \b\b/ \b\b- \b\b\\ \b\b| \b\b/ \b\b- \b\b\\ \b\b| \b\b/ \b\b- \b\b\\ \b\b| \b\b/ \b\b- \b\b\\ \b\b| \b\b/ \b\b- \b\b\\ \b\b| \b\b/ \b\b- \b\b\\ \b\b| \b\b/ \b\b- \b\b\\ \b\b| \b\b/ \b\b- \b\b\\ \b\b| \b\b/ \b\b- \b\b\\ \b\b| \b\b/ \b\b- \b\b\\ \b\b| \b\b/ \b\b- \b\b\\ \b\b| \b\b/ \b\b- \b\b\\ \b\b| \b\b/ \b\b- \b\b\\ \b\b| \b\b/ \b\b- \b\b\\ \b\b| \b\b/ \b\b- \b\b\\ \b\b| \b\b/ \b\b- \b\b\\ \b\b| \b\b/ \b\b- \b\b\\ \b\b| \b\b/ \b\b- \b\b\\ \b\b| \b\b/ \b\b- \b\b\\ \b\b| \b\b/ \b\b- \b\b\\ \b\b| \b\b/ \b\b- \b\b\\ \b\b| \b\b/ \b\b- \b\b\\ \b\b| \b\b/ \b\b- \b\b\\ \b\b| \b\b/ \b\b- \b\b\\ \b\b| \b\b/ \b\b- \b\b\\ \b\b| \b\b/ \b\b- \b\b\\ \b\b| \b\b/ \b\b- \b\b\\ \b\b| \b\b/ \b\b- \b\b\\ \b\b| \b\b/ \b\b- \b\b\\ \b\b| \b\b/ \b\b- \b\b\\ \b\b| \b\b/ \b\b- \b\b\\ \b\b| \b\b/ \b\b- \b\b\\ \b\b| \b\b/ \b\b- \b\b\\ \b\b| \b\b/ \b\b- \b\b\\ \b\b| \b\b/ \b\b- \b\b\\ \b\b| \b\b/ \b\b- \b\b\\ \b\b| \b\b/ \b\b- \b\b\\ \b\b| \b\b/ \b\b- \b\b\\ \b\b| \b\b/ \b\b- \b\b\\ \b\b| \b\b/ \b\b- \b\b\\ \b\b| \b\b/ \b\b- \b\b\\ \b\b| \b\b/ \b\b- \b\b\\ \b\b| \b\b/ \b\b- \b\b\\ \b\b| \b\b/ \b\b- \b\b\\ \b\b| \b\b/ \b\b- \b\b\\ \b\b| \b\b/ \b\b- \b\b\\ \b\b| \b\b/ \b\b- \b\b\\ \b\b| \b\b/ \b\b- \b\b\\ \b\b| \b\b/ \b\b- \b\b\\ \b\b| \b\b/ \b\b- \b\b\\ \b\b| \b\b/ \b\b- \b\b\\ \b\b| \b\b/ \b\b- \b\b\\ \b\b| \b\b/ \b\b- \b\b\\ \b\b| \b\b/ \b\b- \b\b\\ \b\b| \b\b/ \b\b- \b\b\\ \b\b| \b\b/ \b\b- \b\b\\ \b\b| \b\b/ \b\b- \b\b\\ \b\b| \b\b/ \b\b- \b\b\\ \b\b| \b\b/ \b\b- \b\b\\ \b\b| \b\b/ \b\b- \b\b\\ \b\b| \b\b/ \b\b- \b\b\\ \b\b| \b\b/ \b\bdone\n",
            "Executing transaction: \\ \b\b| \b\b/ \b\b- \b\b\\ \b\b| \b\b/ \b\b- \b\b\\ \b\b| \b\b/ \b\b- \b\b\\ \b\b| \b\b/ \b\b- \b\b\\ \b\b| \b\b/ \b\b- \b\b\\ \b\b| \b\b/ \b\b- \b\b\\ \b\b| \b\b/ \b\b- \b\b\\ \b\b| \b\b/ \b\b- \b\b\\ \b\b| \b\b/ \b\b- \b\b\\ \b\b| \b\b/ \b\b- \b\b\\ \b\b| \b\b/ \b\b- \b\b\\ \b\b| \b\b/ \b\b- \b\b\\ \b\b| \b\b/ \b\b- \b\b\\ \b\b| \b\b/ \b\b- \b\b\\ \b\b| \b\b/ \b\b- \b\b\\ \b\b| \b\b/ \b\b- \b\b\\ \b\b| \b\b/ \b\b- \b\b\\ \b\b| \b\b/ \b\b- \b\b\\ \b\b| \b\b/ \b\b- \b\b\\ \b\b| \b\b/ \b\b- \b\b\\ \b\b| \b\b/ \b\b- \b\b\\ \b\b| \b\b/ \b\b- \b\b\\ \b\b| \b\b/ \b\b- \b\b\\ \b\b| \b\b/ \b\b- \b\b\\ \b\b| \b\b/ \b\b- \b\b\\ \b\b| \b\b/ \b\b- \b\b\\ \b\b| \b\b/ \b\b- \b\b\\ \b\b| \b\bdone\n",
            "Copying shared object files to /usr/lib\n",
            "Copying RAPIDS compatible xgboost\n",
            "\n",
            "************************************************\n",
            "Your Google Colab instance has RAPIDS installed!\n",
            "************************************************\n",
            "***********************************************************************\n",
            "Let us check on those pyarrow and cffi versions...\n",
            "***********************************************************************\n",
            "\n",
            "You're don't have pyarrow.\n",
            "unloaded cffi 1.14.3\n",
            "loaded cffi 1.11.5\n",
            "You are all set for the colab rapids environment\n",
            "CPU times: user 1.83 s, sys: 383 ms, total: 2.22 s\n",
            "Wall time: 8min 43s\n"
          ],
          "name": "stdout"
        }
      ]
    },
    {
      "cell_type": "markdown",
      "metadata": {
        "id": "OVCRVg_XC6vd"
      },
      "source": [
        "Library import, important to notice here is we are using mostly cuml librarys for GPU access"
      ]
    },
    {
      "cell_type": "code",
      "metadata": {
        "id": "BTWeyn2qYyl5",
        "outputId": "c2a98ca5-309e-475f-d690-99433b02932a",
        "colab": {
          "base_uri": "https://localhost:8080/",
          "height": 54
        }
      },
      "source": [
        "import nvstrings\n",
        "import numpy as np\n",
        "import cudf, cuml\n",
        "import dask_cudf\n",
        "import io, requests\n",
        "import math\n",
        "import gc\n",
        "import cupy as cp\n",
        "import pandas as pd\n",
        "\n",
        "import time \n",
        "import itertools\n",
        "\n",
        "#Plotting\n",
        "import matplotlib.pyplot as plt\n",
        "import seaborn as sns \n",
        "\n",
        "#Learning\n",
        "from cuml.preprocessing.model_selection import train_test_split\n",
        "from scipy.stats import uniform\n",
        "\n",
        "# Linear Models https://github.com/rapidsai/cuml/tree/branch-0.13/notebooks\n",
        "from cuml.linear_model import LinearRegression # Linear\n",
        "from cuml.linear_model import LogisticRegression # Logisitc\n",
        "from cuml.linear_model import ElasticNet # Elastic\n",
        "from cuml.linear_model import Ridge # Ridge\n",
        "from cuml.linear_model import Lasso # Lasso\n",
        "from cuml.linear_model import MBSGDRegressor as cumlMBSGDRegressor # Mini Batch SGD Regressor\n",
        "\n",
        "from cuml.solvers import SGD as cumlSGD # Stochastic Gradient Descent\n",
        "from cuml.ensemble import RandomForestRegressor as cuRF # Random Forest\n",
        "from cuml.dask.ensemble import RandomForestClassifier as cumlDaskRF # RandomForest\n",
        "\n",
        "from cuml.neighbors import KNeighborsRegressor as cumlKNR # Nearest Neighbours\n",
        "from cuml.svm import SVC # Support Vector Machines\n",
        "\n",
        "from cuml import ForestInference\n",
        "import xgboost as xgb\n",
        "\n",
        "from sklearn.model_selection import RandomizedSearchCV\n",
        "from sklearn.model_selection import GridSearchCV\n",
        "\n",
        "from cuml.metrics.regression import r2_score\n",
        "from cuml.metrics.accuracy import accuracy_score\n",
        "from sklearn.metrics import make_scorer\n",
        "from sklearn.metrics import accuracy_score as sk_acc\n",
        "from sklearn.utils.fixes import loguniform"
      ],
      "execution_count": 7,
      "outputs": [
        {
          "output_type": "stream",
          "text": [
            "/usr/local/lib/python3.6/dist-packages/ipykernel_launcher.py:1: DeprecationWarning: nvstrings will be removed in 0.15. Please use equivalent from libcudf\n",
            "  \"\"\"Entry point for launching an IPython kernel.\n"
          ],
          "name": "stderr"
        }
      ]
    },
    {
      "cell_type": "markdown",
      "metadata": {
        "id": "EdLK3KjiDF9v"
      },
      "source": [
        "When running XG Boost distributed on several GPUs you need to install Dask_xgboost. Did this for some benchmarking, although it did not run on one GPU. You can spare this installation if you only have one GPU."
      ]
    },
    {
      "cell_type": "code",
      "metadata": {
        "id": "em2GLYc-FnAx",
        "outputId": "26e1a75c-17dc-42b6-935c-572e4e8218ca",
        "colab": {
          "base_uri": "https://localhost:8080/",
          "height": 790
        }
      },
      "source": [
        "#!pip install -U xgboost\n",
        "!pip install dask-xgboost\n",
        "import dask_xgboost as dxgb\n",
        "\n",
        "import dask; print('Dask Version:', dask.__version__)\n",
        "\n",
        "from dask.distributed import Client\n",
        "from dask_cuda import LocalCUDACluster\n",
        "\n",
        "# create a local cluster with 4 workers\n",
        "n_workers = 1\n",
        "# create a local CUDA cluster\n",
        "cluster = LocalCUDACluster()\n",
        "client = Client(cluster)\n",
        "client\n",
        "\n",
        "from dask.delayed import delayed\n",
        "\n",
        "import dask.dataframe as dd\n",
        "import dask.array as da\n",
        "\n",
        "import cudf; print('cuDF Version:', cudf.__version__)\n",
        "import numpy as np; print('NumPy Version:', np.__version__)"
      ],
      "execution_count": 8,
      "outputs": [
        {
          "output_type": "stream",
          "text": [
            "Collecting dask-xgboost\n",
            "  Downloading dask_xgboost-0.1.11-py2.py3-none-any.whl (13 kB)\n",
            "Collecting xgboost<=0.90\n",
            "  Downloading xgboost-0.90-py2.py3-none-manylinux1_x86_64.whl (142.8 MB)\n",
            "\u001b[K     |████████████████████████████████| 142.8 MB 50 kB/s \n",
            "\u001b[?25hRequirement already satisfied: dask in /usr/local/lib/python3.6/site-packages (from dask-xgboost) (2.28.0)\n",
            "Requirement already satisfied: distributed>=1.15.2 in /usr/local/lib/python3.6/site-packages (from dask-xgboost) (2.28.0)\n",
            "Requirement already satisfied: numpy in /usr/local/lib/python3.6/site-packages (from xgboost<=0.90->dask-xgboost) (1.19.1)\n",
            "Requirement already satisfied: scipy in /usr/local/lib/python3.6/site-packages (from xgboost<=0.90->dask-xgboost) (1.4.1)\n",
            "Requirement already satisfied: pyyaml in /usr/local/lib/python3.6/site-packages (from dask->dask-xgboost) (5.3.1)\n",
            "Requirement already satisfied: click>=6.6 in /usr/local/lib/python3.6/site-packages (from distributed>=1.15.2->dask-xgboost) (7.1.2)\n",
            "Requirement already satisfied: toolz>=0.8.2 in /usr/local/lib/python3.6/site-packages (from distributed>=1.15.2->dask-xgboost) (0.11.1)\n",
            "Requirement already satisfied: msgpack>=0.6.0 in /usr/local/lib/python3.6/site-packages (from distributed>=1.15.2->dask-xgboost) (1.0.0)\n",
            "Requirement already satisfied: tblib>=1.6.0 in /usr/local/lib/python3.6/site-packages (from distributed>=1.15.2->dask-xgboost) (1.6.0)\n",
            "Requirement already satisfied: setuptools in /usr/local/lib/python3.6/site-packages (from distributed>=1.15.2->dask-xgboost) (49.6.0.post20200917)\n",
            "Requirement already satisfied: zict>=0.1.3 in /usr/local/lib/python3.6/site-packages (from distributed>=1.15.2->dask-xgboost) (2.0.0)\n",
            "Requirement already satisfied: tornado>=5; python_version < \"3.8\" in /usr/local/lib/python3.6/site-packages (from distributed>=1.15.2->dask-xgboost) (6.0.4)\n",
            "Requirement already satisfied: cloudpickle>=1.5.0 in /usr/local/lib/python3.6/site-packages (from distributed>=1.15.2->dask-xgboost) (1.6.0)\n",
            "Requirement already satisfied: sortedcontainers!=2.0.0,!=2.0.1 in /usr/local/lib/python3.6/site-packages (from distributed>=1.15.2->dask-xgboost) (2.2.2)\n",
            "Requirement already satisfied: psutil>=5.0 in /usr/local/lib/python3.6/site-packages (from distributed>=1.15.2->dask-xgboost) (5.7.2)\n",
            "Requirement already satisfied: contextvars; python_version < \"3.7\" in /usr/local/lib/python3.6/site-packages (from distributed>=1.15.2->dask-xgboost) (2.4)\n",
            "Requirement already satisfied: heapdict in /usr/local/lib/python3.6/site-packages (from zict>=0.1.3->distributed>=1.15.2->dask-xgboost) (1.0.1)\n",
            "Requirement already satisfied: immutables>=0.9 in /usr/local/lib/python3.6/site-packages (from contextvars; python_version < \"3.7\"->distributed>=1.15.2->dask-xgboost) (0.14)\n",
            "Installing collected packages: xgboost, dask-xgboost\n",
            "  Attempting uninstall: xgboost\n",
            "    Found existing installation: xgboost 1.1.0\n",
            "    Uninstalling xgboost-1.1.0:\n",
            "      Successfully uninstalled xgboost-1.1.0\n",
            "Successfully installed dask-xgboost-0.1.11 xgboost-0.90\n",
            "Dask Version: 2.28.0\n",
            "cuDF Version: 0.14.0\n",
            "NumPy Version: 1.18.5\n"
          ],
          "name": "stdout"
        },
        {
          "output_type": "stream",
          "text": [
            "/usr/local/lib/python3.6/site-packages/distributed/client.py:1130: VersionMismatchWarning: Mismatched versions found\n",
            "\n",
            "+---------+--------+-----------+---------+\n",
            "| Package | client | scheduler | workers |\n",
            "+---------+--------+-----------+---------+\n",
            "| numpy   | 1.18.5 | 1.18.5    | 1.19.1  |\n",
            "| tornado | 5.1.1  | 5.1.1     | 6.0.4   |\n",
            "+---------+--------+-----------+---------+\n",
            "  warnings.warn(version_module.VersionMismatchWarning(msg[0][\"warning\"]))\n"
          ],
          "name": "stderr"
        }
      ]
    },
    {
      "cell_type": "markdown",
      "metadata": {
        "id": "YzPMX0svDfuM"
      },
      "source": [
        "### Helper Functions\n",
        "\n",
        "Since the save to CSV file and the calculation of the R2 score show up quite often during this kernel I decided to place them in small functions for an easy and reusable approach."
      ]
    },
    {
      "cell_type": "code",
      "metadata": {
        "id": "gvenGtnaBI66"
      },
      "source": [
        "def save_model_csv(y_pred, csv_name):\n",
        "  save_submission = submission\n",
        "  save_submission['fare_amount']=y_pred\n",
        "  save_submission.to_csv(env_submission_path+csv_name, index=False)\n",
        "  return save_submission.head(2)"
      ],
      "execution_count": 9,
      "outputs": []
    },
    {
      "cell_type": "code",
      "metadata": {
        "id": "K1_w-_sks9sY"
      },
      "source": [
        "def calc_R2(y_pred, model_name):\n",
        "  score = r2_score(y_pred, y_test)\n",
        "  print(\"R2 Score for the \"+model_name+\" model is: \",score)\n",
        "  return score"
      ],
      "execution_count": 10,
      "outputs": []
    },
    {
      "cell_type": "code",
      "metadata": {
        "id": "3_XnscokeAc4"
      },
      "source": [
        "## initializing the r2 scores so there will be no errors at the end when comparing them even if we do not run all models\n",
        "score_linear_reg=0\n",
        "score_ridge_reg=0\n",
        "score_KNN=0\n",
        "score_Rand_For=0\n",
        "score_XGB_GPU=0\n",
        "score_LGBM=0"
      ],
      "execution_count": null,
      "outputs": []
    },
    {
      "cell_type": "markdown",
      "metadata": {
        "id": "ysZh0eaaHZT4"
      },
      "source": [
        "# 2. First look at the Data (EDA)\n",
        "\n",
        "The inital step to getting used to the data is having a look at it and loading it in a useable structure."
      ]
    },
    {
      "cell_type": "markdown",
      "metadata": {
        "id": "lQL3PBsOEoA7"
      },
      "source": [
        "Before we can train something which predicts the taxi fares we first have to take a look what data we have available. We start by loading the data into cudf dataframes by selecting the relevant columns first. \n",
        "\n",
        "---\n",
        "It happens that the system crashes if you choose a row number which is too large so that the data overflows your RAM / GPU (especially on colab, max 5 Mio rows). On Kaggle you can go up to max. 41 Mio. rows. If you choose to use the precleaned dataset you can use all the available data."
      ]
    },
    {
      "cell_type": "code",
      "metadata": {
        "id": "N9AE7Djfw8uN"
      },
      "source": [
        "cudf.set_allocator(\"managed\")\n",
        "\n",
        "## Check if using cleaned dataset or not\n",
        "if cleaned_dataset==False:\n",
        "    dtype = {     \n",
        "        'key':'str',\n",
        "        'fare_amount': 'float32',\n",
        "        'pickup_datetime':'str',\n",
        "        'pickup_longitude': 'float32',\n",
        "        'pickup_latitude': 'float32',\n",
        "        'dropoff_longitude': 'float32',\n",
        "        'dropoff_latitude': 'float32',\n",
        "        'passenger_count': 'int8'}\n",
        "else:\n",
        "    dtype = {     \n",
        "        'key':'str',\n",
        "        'fare_amount': 'float32',\n",
        "        'pickup_datetime':'str',\n",
        "        'pickup_longitude': 'float32',\n",
        "        'pickup_latitude': 'float32',\n",
        "        'dropoff_longitude': 'float32',\n",
        "        'dropoff_latitude': 'float32',\n",
        "        'passenger_count': 'int8',\n",
        "        'pickup_latitude_round3': 'float32',\n",
        "        'pickup_longitude_round3': 'float32',\n",
        "        'dropoff_latitude_round3': 'float32',\n",
        "        'dropoff_longitude_round3': 'float32',\n",
        "        'is_pickup_JFK': 'int8',\n",
        "        'is_dropoff_JFK': 'int8',\n",
        "        'is_pickup_EWR': 'int8',\n",
        "        'is_dropoff_EWR': 'int8',\n",
        "        'is_pickup_la_guardia': 'int8',\n",
        "        'is_dropoff_la_guardia': 'int8',\n",
        "        'is_pickup_lower_manhattan': 'int8',\n",
        "        'is_dropoff_lower_manhattan': 'int8'\n",
        "    }\n",
        "\n",
        "usecols = list(dtype.keys())"
      ],
      "execution_count": 98,
      "outputs": []
    },
    {
      "cell_type": "markdown",
      "metadata": {
        "id": "QkuiqTqmGNmR"
      },
      "source": [
        "Load the data using cudf. Path variables are adjusted accordingly "
      ]
    },
    {
      "cell_type": "code",
      "metadata": {
        "id": "VlQ0urKVpLfB",
        "outputId": "6132b840-44e7-4c09-f277-d9f5cf8f9a47",
        "colab": {
          "base_uri": "https://localhost:8080/",
          "height": 54
        }
      },
      "source": [
        "%%time\n",
        "# use a subset with 50.000 rows, max is nrows = 55423480\n",
        "\n",
        "if debug_mode == True:\n",
        "  ## using 1% (or how much you like)\n",
        "  nrows = 50000\n",
        "    \n",
        "#del X_train, X_test, y_train, y_test\n",
        "#gc.collect()\n",
        "\n",
        "## Check if using cleaned dataset or not and adjusting the links accordingly\n",
        "if cleaned_dataset==False:\n",
        "    test = cudf.read_csv(env_path+'test.csv', usecols=usecols, dtype=dtype)\n",
        "    train = cudf.read_csv(env_path+'train.csv', nrows=nrows, usecols=usecols, dtype=dtype)\n",
        "else:\n",
        "    nrows=55000000\n",
        "    test = cudf.read_csv('../input/eda-and-feature-engineering/test_cleaned.csv', usecols=usecols, dtype=dtype)\n",
        "    train = cudf.read_csv('../input/eda-and-feature-engineering/train_cleaned.csv', nrows=nrows, usecols=usecols, dtype=dtype)\n",
        "    \n",
        "submission = cudf.read_csv(env_path+'sample_submission.csv', usecols=usecols, dtype=dtype)"
      ],
      "execution_count": 99,
      "outputs": [
        {
          "output_type": "stream",
          "text": [
            "CPU times: user 311 ms, sys: 421 ms, total: 732 ms\n",
            "Wall time: 1.26 s\n"
          ],
          "name": "stdout"
        }
      ]
    },
    {
      "cell_type": "code",
      "metadata": {
        "id": "Eij2FPF2vuTF",
        "outputId": "405857c7-d190-418b-a2e5-82702d25a94c",
        "colab": {
          "base_uri": "https://localhost:8080/",
          "height": 206
        }
      },
      "source": [
        "train.head(5)"
      ],
      "execution_count": 100,
      "outputs": [
        {
          "output_type": "execute_result",
          "data": {
            "text/html": [
              "<div>\n",
              "<style scoped>\n",
              "    .dataframe tbody tr th:only-of-type {\n",
              "        vertical-align: middle;\n",
              "    }\n",
              "\n",
              "    .dataframe tbody tr th {\n",
              "        vertical-align: top;\n",
              "    }\n",
              "\n",
              "    .dataframe thead th {\n",
              "        text-align: right;\n",
              "    }\n",
              "</style>\n",
              "<table border=\"1\" class=\"dataframe\">\n",
              "  <thead>\n",
              "    <tr style=\"text-align: right;\">\n",
              "      <th></th>\n",
              "      <th>key</th>\n",
              "      <th>fare_amount</th>\n",
              "      <th>pickup_datetime</th>\n",
              "      <th>pickup_longitude</th>\n",
              "      <th>pickup_latitude</th>\n",
              "      <th>dropoff_longitude</th>\n",
              "      <th>dropoff_latitude</th>\n",
              "      <th>passenger_count</th>\n",
              "    </tr>\n",
              "  </thead>\n",
              "  <tbody>\n",
              "    <tr>\n",
              "      <th>0</th>\n",
              "      <td>2009-06-15 17:26:21.0000001</td>\n",
              "      <td>4.5</td>\n",
              "      <td>2009-06-15 17:26:21 UTC</td>\n",
              "      <td>-73.844307</td>\n",
              "      <td>40.721321</td>\n",
              "      <td>-73.841614</td>\n",
              "      <td>40.712273</td>\n",
              "      <td>1</td>\n",
              "    </tr>\n",
              "    <tr>\n",
              "      <th>1</th>\n",
              "      <td>2010-01-05 16:52:16.0000002</td>\n",
              "      <td>16.9</td>\n",
              "      <td>2010-01-05 16:52:16 UTC</td>\n",
              "      <td>-74.016045</td>\n",
              "      <td>40.711304</td>\n",
              "      <td>-73.979271</td>\n",
              "      <td>40.782005</td>\n",
              "      <td>1</td>\n",
              "    </tr>\n",
              "    <tr>\n",
              "      <th>2</th>\n",
              "      <td>2011-08-18 00:35:00.00000049</td>\n",
              "      <td>5.7</td>\n",
              "      <td>2011-08-18 00:35:00 UTC</td>\n",
              "      <td>-73.982742</td>\n",
              "      <td>40.761269</td>\n",
              "      <td>-73.991234</td>\n",
              "      <td>40.750565</td>\n",
              "      <td>2</td>\n",
              "    </tr>\n",
              "    <tr>\n",
              "      <th>3</th>\n",
              "      <td>2012-04-21 04:30:42.0000001</td>\n",
              "      <td>7.7</td>\n",
              "      <td>2012-04-21 04:30:42 UTC</td>\n",
              "      <td>-73.987137</td>\n",
              "      <td>40.733139</td>\n",
              "      <td>-73.991570</td>\n",
              "      <td>40.758095</td>\n",
              "      <td>1</td>\n",
              "    </tr>\n",
              "    <tr>\n",
              "      <th>4</th>\n",
              "      <td>2010-03-09 07:51:00.000000135</td>\n",
              "      <td>5.3</td>\n",
              "      <td>2010-03-09 07:51:00 UTC</td>\n",
              "      <td>-73.968102</td>\n",
              "      <td>40.768009</td>\n",
              "      <td>-73.956665</td>\n",
              "      <td>40.783768</td>\n",
              "      <td>1</td>\n",
              "    </tr>\n",
              "  </tbody>\n",
              "</table>\n",
              "</div>"
            ],
            "text/plain": [
              "                             key  ...  passenger_count\n",
              "0    2009-06-15 17:26:21.0000001  ...                1\n",
              "1    2010-01-05 16:52:16.0000002  ...                1\n",
              "2   2011-08-18 00:35:00.00000049  ...                2\n",
              "3    2012-04-21 04:30:42.0000001  ...                1\n",
              "4  2010-03-09 07:51:00.000000135  ...                1\n",
              "\n",
              "[5 rows x 8 columns]"
            ]
          },
          "metadata": {
            "tags": []
          },
          "execution_count": 100
        }
      ]
    },
    {
      "cell_type": "code",
      "metadata": {
        "id": "T5631wMlv9FY",
        "outputId": "8155b831-fdef-4a46-fc83-5934a59f80b1",
        "colab": {
          "base_uri": "https://localhost:8080/",
          "height": 206
        }
      },
      "source": [
        "test.head(5)"
      ],
      "execution_count": 101,
      "outputs": [
        {
          "output_type": "execute_result",
          "data": {
            "text/html": [
              "<div>\n",
              "<style scoped>\n",
              "    .dataframe tbody tr th:only-of-type {\n",
              "        vertical-align: middle;\n",
              "    }\n",
              "\n",
              "    .dataframe tbody tr th {\n",
              "        vertical-align: top;\n",
              "    }\n",
              "\n",
              "    .dataframe thead th {\n",
              "        text-align: right;\n",
              "    }\n",
              "</style>\n",
              "<table border=\"1\" class=\"dataframe\">\n",
              "  <thead>\n",
              "    <tr style=\"text-align: right;\">\n",
              "      <th></th>\n",
              "      <th>key</th>\n",
              "      <th>pickup_datetime</th>\n",
              "      <th>pickup_longitude</th>\n",
              "      <th>pickup_latitude</th>\n",
              "      <th>dropoff_longitude</th>\n",
              "      <th>dropoff_latitude</th>\n",
              "      <th>passenger_count</th>\n",
              "    </tr>\n",
              "  </thead>\n",
              "  <tbody>\n",
              "    <tr>\n",
              "      <th>0</th>\n",
              "      <td>2015-01-27 13:08:24.0000002</td>\n",
              "      <td>2015-01-27 13:08:24 UTC</td>\n",
              "      <td>-73.973320</td>\n",
              "      <td>40.763805</td>\n",
              "      <td>-73.981430</td>\n",
              "      <td>40.743835</td>\n",
              "      <td>1</td>\n",
              "    </tr>\n",
              "    <tr>\n",
              "      <th>1</th>\n",
              "      <td>2015-01-27 13:08:24.0000003</td>\n",
              "      <td>2015-01-27 13:08:24 UTC</td>\n",
              "      <td>-73.986862</td>\n",
              "      <td>40.719383</td>\n",
              "      <td>-73.998886</td>\n",
              "      <td>40.739197</td>\n",
              "      <td>1</td>\n",
              "    </tr>\n",
              "    <tr>\n",
              "      <th>2</th>\n",
              "      <td>2011-10-08 11:53:44.0000002</td>\n",
              "      <td>2011-10-08 11:53:44 UTC</td>\n",
              "      <td>-73.982536</td>\n",
              "      <td>40.751259</td>\n",
              "      <td>-73.979668</td>\n",
              "      <td>40.746140</td>\n",
              "      <td>1</td>\n",
              "    </tr>\n",
              "    <tr>\n",
              "      <th>3</th>\n",
              "      <td>2012-12-01 21:12:12.0000002</td>\n",
              "      <td>2012-12-01 21:12:12 UTC</td>\n",
              "      <td>-73.981163</td>\n",
              "      <td>40.767811</td>\n",
              "      <td>-73.990440</td>\n",
              "      <td>40.751633</td>\n",
              "      <td>1</td>\n",
              "    </tr>\n",
              "    <tr>\n",
              "      <th>4</th>\n",
              "      <td>2012-12-01 21:12:12.0000003</td>\n",
              "      <td>2012-12-01 21:12:12 UTC</td>\n",
              "      <td>-73.966042</td>\n",
              "      <td>40.789776</td>\n",
              "      <td>-73.988579</td>\n",
              "      <td>40.744431</td>\n",
              "      <td>1</td>\n",
              "    </tr>\n",
              "  </tbody>\n",
              "</table>\n",
              "</div>"
            ],
            "text/plain": [
              "                           key  ... passenger_count\n",
              "0  2015-01-27 13:08:24.0000002  ...               1\n",
              "1  2015-01-27 13:08:24.0000003  ...               1\n",
              "2  2011-10-08 11:53:44.0000002  ...               1\n",
              "3  2012-12-01 21:12:12.0000002  ...               1\n",
              "4  2012-12-01 21:12:12.0000003  ...               1\n",
              "\n",
              "[5 rows x 7 columns]"
            ]
          },
          "metadata": {
            "tags": []
          },
          "execution_count": 101
        }
      ]
    },
    {
      "cell_type": "markdown",
      "metadata": {
        "id": "o_WXW01AHlC4"
      },
      "source": [
        "# 3. Data Cleaning\n",
        "\n",
        "Before being able to start with the predictions, the data should be cleaned up and extended/enriched by relevant columns to achieve better results. For this, we are splitting the key (date & time) into seperate columns and add new features like the driven distance. This approch showed the best results so far. There are some limitations given that cudf and pandas are partly incompatible so I decided to test it out with a precleaned dataset as well to see the improvements later."
      ]
    },
    {
      "cell_type": "code",
      "metadata": {
        "id": "6Ka9ezhECWv0"
      },
      "source": [
        "#Drop Nan Values\n",
        "train.nans_to_nulls()\n",
        "train = train.dropna()"
      ],
      "execution_count": 102,
      "outputs": []
    },
    {
      "cell_type": "code",
      "metadata": {
        "id": "J3ZMKboWCGD1",
        "outputId": "a395d467-43ec-4b59-d1f0-e56c691559e4",
        "colab": {
          "base_uri": "https://localhost:8080/",
          "height": 54
        }
      },
      "source": [
        "#Checking shape of the data\n",
        "print(\"Train: \" + str(train.shape))\n",
        "print(\"Test: \" + str(test.shape))"
      ],
      "execution_count": 103,
      "outputs": [
        {
          "output_type": "stream",
          "text": [
            "Train: (4999964, 8)\n",
            "Test: (9914, 7)\n"
          ],
          "name": "stdout"
        }
      ]
    },
    {
      "cell_type": "markdown",
      "metadata": {
        "id": "eeUIVIjUZSt2"
      },
      "source": [
        "Not available in Cudf datetime which could have improved results:\n",
        "- Dayofyear, Weekofyear, Weekday, Quarter, day of month"
      ]
    },
    {
      "cell_type": "code",
      "metadata": {
        "id": "Xko9RCA4v_Hc"
      },
      "source": [
        "#Changing the data format of pickup_datetime and adding additional information about pickup time\n",
        "train['pickup_datetime'] = train['pickup_datetime'].astype('datetime64[ns]')\n",
        "\n",
        "train[\"hour\"] = train.pickup_datetime.dt.hour\n",
        "train[\"weekday\"] = train.pickup_datetime.dt.weekday\n",
        "train[\"month\"] = train.pickup_datetime.dt.month\n",
        "train[\"year\"] = train.pickup_datetime.dt.year\n",
        "\n",
        "\n",
        "test['pickup_datetime'] = test['pickup_datetime'].astype('datetime64[ns]')\n",
        "\n",
        "test[\"hour\"] = test.pickup_datetime.dt.hour\n",
        "test[\"weekday\"] = test.pickup_datetime.dt.weekday\n",
        "test[\"month\"] = test.pickup_datetime.dt.month\n",
        "test[\"year\"] = test.pickup_datetime.dt.year"
      ],
      "execution_count": 104,
      "outputs": []
    },
    {
      "cell_type": "markdown",
      "metadata": {
        "id": "ZP0BBWszZjlU"
      },
      "source": [
        "Adding distances to airports does not work using cudf due to data type error (Series, Float) although the normal distance function (as below) works well. Tried different converting approaches including .astype(...) as you can see below at one example."
      ]
    },
    {
      "cell_type": "code",
      "metadata": {
        "id": "4iUREXQ5CEzn"
      },
      "source": [
        "def dist(pickup_lat, pickup_long, dropoff_lat, dropoff_long):  \n",
        "    distance = np.abs(dropoff_lat - 40.7141667) + np.abs(dropoff_long - -74.0063889) ## not even working when putting the coordinates right in\n",
        "    return distance\n",
        "\n",
        "#calculate trip distance in miles\n",
        "def calc_distance(data):\n",
        "\n",
        "    # Distances to nearby airports, and city center\n",
        "    # By reporting distances to these points, the model can somewhat triangulate other locations of interest\n",
        "    nyc = (-74.0063889, 40.7141667)\n",
        "    jfk = (-73.7822222222, 40.6441666667)\n",
        "    ewr = (-74.175, 40.69)\n",
        "    lgr = (-73.87, 40.77)\n",
        "    data['distance_to_center'] = dist(40.7141667, -74.0063889, data['pickup_latitude'].astype(float, copy=False, errors='ignore'), data['pickup_longitude'].astype(float, copy=False, errors='ignore'))\n",
        "    #data['pickup_distance_to_jfk'] = dist(jfk[1], jfk[0], data['pickup_latitude'], data['pickup_longitude'])\n",
        "    #data['dropoff_distance_to_jfk'] = dist(jfk[1], jfk[0], data['dropoff_latitude'], data['dropoff_longitude'])\n",
        "    #data['pickup_distance_to_ewr'] = dist(ewr[1], ewr[0],  data['pickup_latitude'], data['pickup_longitude'])\n",
        "    #data['dropoff_distance_to_ewr'] = dist(ewr[1], ewr[0], data['dropoff_latitude'], data['dropoff_longitude'])\n",
        "    #data['pickup_distance_to_lgr'] = dist(lgr[1], lgr[0],  data['pickup_latitude'], data['pickup_longitude'])\n",
        "    #data['dropoff_distance_to_lgr'] = dist(lgr[1], lgr[0], data['dropoff_latitude'], data['dropoff_longitude'])\n",
        "    \n",
        "    data['long_dist'] = data['pickup_longitude'] - data['dropoff_longitude']\n",
        "    data['lat_dist'] = data['pickup_latitude'] - data['dropoff_latitude']\n",
        "    \n",
        "    data['dist'] = dist(data['pickup_latitude'], data['pickup_longitude'],\n",
        "                        data['dropoff_latitude'], data['dropoff_longitude'])\n",
        "    \n",
        "    return data\n",
        "\n",
        "#calc_distance(train)\n",
        "#train.head(2)"
      ],
      "execution_count": 105,
      "outputs": []
    },
    {
      "cell_type": "code",
      "metadata": {
        "id": "_-hqvFJnhi_s"
      },
      "source": [
        "#calculate trip distance in miles\n",
        "def distance(lat1, lon1, lat2, lon2):\n",
        "    p = 0.017453292519943295 # Pi/180\n",
        "    a = 0.5 - np.cos((lat2 - lat1) * p)/2 + np.cos(lat1 * p) * np.cos(lat2 * p) * (1 - np.cos((lon2 - lon1) * p)) / 2\n",
        "    return 0.6213712 * 12742 * np.arcsin(np.sqrt(a))"
      ],
      "execution_count": 106,
      "outputs": []
    },
    {
      "cell_type": "code",
      "metadata": {
        "id": "ymO-WYlaCGS3",
        "outputId": "00114204-abc9-4464-e664-39d5e2deb76a",
        "colab": {
          "base_uri": "https://localhost:8080/",
          "height": 182
        }
      },
      "source": [
        "train['distance'] = distance(train['pickup_latitude'], train['pickup_longitude'], train['dropoff_latitude'], train['dropoff_longitude'] )\n",
        "test['distance'] = distance(test['pickup_latitude'], test['pickup_longitude'], test['dropoff_latitude'], test['dropoff_longitude'] )\n",
        "train['distance'].describe()"
      ],
      "execution_count": 107,
      "outputs": [
        {
          "output_type": "execute_result",
          "data": {
            "text/plain": [
              "count    4.999964e+06\n",
              "mean     1.214851e+01\n",
              "std      2.308634e+02\n",
              "min      0.000000e+00\n",
              "25%      0.000000e+00\n",
              "50%      1.366828e+00\n",
              "75%      2.367415e+00\n",
              "max      1.187364e+04\n",
              "Name: distance, dtype: float64"
            ]
          },
          "metadata": {
            "tags": []
          },
          "execution_count": 107
        }
      ]
    },
    {
      "cell_type": "code",
      "metadata": {
        "id": "oZliSrMSwyJW",
        "outputId": "56c939a0-f1b4-4be4-f851-173c0401ea30",
        "colab": {
          "base_uri": "https://localhost:8080/",
          "height": 557
        }
      },
      "source": [
        "#check if everything worked\n",
        "train.head(10)"
      ],
      "execution_count": 108,
      "outputs": [
        {
          "output_type": "execute_result",
          "data": {
            "text/html": [
              "<div>\n",
              "<style scoped>\n",
              "    .dataframe tbody tr th:only-of-type {\n",
              "        vertical-align: middle;\n",
              "    }\n",
              "\n",
              "    .dataframe tbody tr th {\n",
              "        vertical-align: top;\n",
              "    }\n",
              "\n",
              "    .dataframe thead th {\n",
              "        text-align: right;\n",
              "    }\n",
              "</style>\n",
              "<table border=\"1\" class=\"dataframe\">\n",
              "  <thead>\n",
              "    <tr style=\"text-align: right;\">\n",
              "      <th></th>\n",
              "      <th>key</th>\n",
              "      <th>fare_amount</th>\n",
              "      <th>pickup_datetime</th>\n",
              "      <th>pickup_longitude</th>\n",
              "      <th>pickup_latitude</th>\n",
              "      <th>dropoff_longitude</th>\n",
              "      <th>dropoff_latitude</th>\n",
              "      <th>passenger_count</th>\n",
              "      <th>hour</th>\n",
              "      <th>weekday</th>\n",
              "      <th>month</th>\n",
              "      <th>year</th>\n",
              "      <th>distance</th>\n",
              "    </tr>\n",
              "  </thead>\n",
              "  <tbody>\n",
              "    <tr>\n",
              "      <th>0</th>\n",
              "      <td>2009-06-15 17:26:21.0000001</td>\n",
              "      <td>4.5</td>\n",
              "      <td>2009-06-15 17:26:21</td>\n",
              "      <td>-73.844307</td>\n",
              "      <td>40.721321</td>\n",
              "      <td>-73.841614</td>\n",
              "      <td>40.712273</td>\n",
              "      <td>1</td>\n",
              "      <td>17</td>\n",
              "      <td>0</td>\n",
              "      <td>6</td>\n",
              "      <td>2009</td>\n",
              "      <td>0.000000</td>\n",
              "    </tr>\n",
              "    <tr>\n",
              "      <th>1</th>\n",
              "      <td>2010-01-05 16:52:16.0000002</td>\n",
              "      <td>16.9</td>\n",
              "      <td>2010-01-05 16:52:16</td>\n",
              "      <td>-74.016045</td>\n",
              "      <td>40.711304</td>\n",
              "      <td>-73.979271</td>\n",
              "      <td>40.782005</td>\n",
              "      <td>1</td>\n",
              "      <td>16</td>\n",
              "      <td>1</td>\n",
              "      <td>1</td>\n",
              "      <td>2010</td>\n",
              "      <td>5.244397</td>\n",
              "    </tr>\n",
              "    <tr>\n",
              "      <th>2</th>\n",
              "      <td>2011-08-18 00:35:00.00000049</td>\n",
              "      <td>5.7</td>\n",
              "      <td>2011-08-18 00:35:00</td>\n",
              "      <td>-73.982742</td>\n",
              "      <td>40.761269</td>\n",
              "      <td>-73.991234</td>\n",
              "      <td>40.750565</td>\n",
              "      <td>2</td>\n",
              "      <td>0</td>\n",
              "      <td>3</td>\n",
              "      <td>8</td>\n",
              "      <td>2011</td>\n",
              "      <td>0.000000</td>\n",
              "    </tr>\n",
              "    <tr>\n",
              "      <th>3</th>\n",
              "      <td>2012-04-21 04:30:42.0000001</td>\n",
              "      <td>7.7</td>\n",
              "      <td>2012-04-21 04:30:42</td>\n",
              "      <td>-73.987137</td>\n",
              "      <td>40.733139</td>\n",
              "      <td>-73.991570</td>\n",
              "      <td>40.758095</td>\n",
              "      <td>1</td>\n",
              "      <td>4</td>\n",
              "      <td>5</td>\n",
              "      <td>4</td>\n",
              "      <td>2012</td>\n",
              "      <td>1.932986</td>\n",
              "    </tr>\n",
              "    <tr>\n",
              "      <th>4</th>\n",
              "      <td>2010-03-09 07:51:00.000000135</td>\n",
              "      <td>5.3</td>\n",
              "      <td>2010-03-09 07:51:00</td>\n",
              "      <td>-73.968102</td>\n",
              "      <td>40.768009</td>\n",
              "      <td>-73.956665</td>\n",
              "      <td>40.783768</td>\n",
              "      <td>1</td>\n",
              "      <td>7</td>\n",
              "      <td>1</td>\n",
              "      <td>3</td>\n",
              "      <td>2010</td>\n",
              "      <td>1.366828</td>\n",
              "    </tr>\n",
              "    <tr>\n",
              "      <th>5</th>\n",
              "      <td>2011-01-06 09:50:45.0000002</td>\n",
              "      <td>12.1</td>\n",
              "      <td>2011-01-06 09:50:45</td>\n",
              "      <td>-74.000969</td>\n",
              "      <td>40.731628</td>\n",
              "      <td>-73.972893</td>\n",
              "      <td>40.758232</td>\n",
              "      <td>1</td>\n",
              "      <td>9</td>\n",
              "      <td>3</td>\n",
              "      <td>1</td>\n",
              "      <td>2011</td>\n",
              "      <td>2.425102</td>\n",
              "    </tr>\n",
              "    <tr>\n",
              "      <th>6</th>\n",
              "      <td>2012-11-20 20:35:00.0000001</td>\n",
              "      <td>7.5</td>\n",
              "      <td>2012-11-20 20:35:00</td>\n",
              "      <td>-73.980003</td>\n",
              "      <td>40.751663</td>\n",
              "      <td>-73.973801</td>\n",
              "      <td>40.764847</td>\n",
              "      <td>1</td>\n",
              "      <td>20</td>\n",
              "      <td>1</td>\n",
              "      <td>11</td>\n",
              "      <td>2012</td>\n",
              "      <td>0.000000</td>\n",
              "    </tr>\n",
              "    <tr>\n",
              "      <th>7</th>\n",
              "      <td>2012-01-04 17:22:00.00000081</td>\n",
              "      <td>16.5</td>\n",
              "      <td>2012-01-04 17:22:00</td>\n",
              "      <td>-73.951302</td>\n",
              "      <td>40.774139</td>\n",
              "      <td>-73.990097</td>\n",
              "      <td>40.751045</td>\n",
              "      <td>1</td>\n",
              "      <td>17</td>\n",
              "      <td>2</td>\n",
              "      <td>1</td>\n",
              "      <td>2012</td>\n",
              "      <td>2.480990</td>\n",
              "    </tr>\n",
              "    <tr>\n",
              "      <th>8</th>\n",
              "      <td>2012-12-03 13:10:00.000000125</td>\n",
              "      <td>9.0</td>\n",
              "      <td>2012-12-03 13:10:00</td>\n",
              "      <td>-74.006454</td>\n",
              "      <td>40.726719</td>\n",
              "      <td>-73.993073</td>\n",
              "      <td>40.731625</td>\n",
              "      <td>1</td>\n",
              "      <td>13</td>\n",
              "      <td>0</td>\n",
              "      <td>12</td>\n",
              "      <td>2012</td>\n",
              "      <td>0.000000</td>\n",
              "    </tr>\n",
              "    <tr>\n",
              "      <th>9</th>\n",
              "      <td>2009-09-02 01:11:00.00000083</td>\n",
              "      <td>8.9</td>\n",
              "      <td>2009-09-02 01:11:00</td>\n",
              "      <td>-73.980667</td>\n",
              "      <td>40.733871</td>\n",
              "      <td>-73.991539</td>\n",
              "      <td>40.758137</td>\n",
              "      <td>2</td>\n",
              "      <td>1</td>\n",
              "      <td>2</td>\n",
              "      <td>9</td>\n",
              "      <td>2009</td>\n",
              "      <td>1.932986</td>\n",
              "    </tr>\n",
              "  </tbody>\n",
              "</table>\n",
              "</div>"
            ],
            "text/plain": [
              "                             key  fare_amount  ...  year  distance\n",
              "0    2009-06-15 17:26:21.0000001          4.5  ...  2009  0.000000\n",
              "1    2010-01-05 16:52:16.0000002         16.9  ...  2010  5.244397\n",
              "2   2011-08-18 00:35:00.00000049          5.7  ...  2011  0.000000\n",
              "3    2012-04-21 04:30:42.0000001          7.7  ...  2012  1.932986\n",
              "4  2010-03-09 07:51:00.000000135          5.3  ...  2010  1.366828\n",
              "5    2011-01-06 09:50:45.0000002         12.1  ...  2011  2.425102\n",
              "6    2012-11-20 20:35:00.0000001          7.5  ...  2012  0.000000\n",
              "7   2012-01-04 17:22:00.00000081         16.5  ...  2012  2.480990\n",
              "8  2012-12-03 13:10:00.000000125          9.0  ...  2012  0.000000\n",
              "9   2009-09-02 01:11:00.00000083          8.9  ...  2009  1.932986\n",
              "\n",
              "[10 rows x 13 columns]"
            ]
          },
          "metadata": {
            "tags": []
          },
          "execution_count": 108
        }
      ]
    },
    {
      "cell_type": "code",
      "metadata": {
        "id": "9FpQJz9Zxxd2",
        "outputId": "92ac558b-e230-4e94-9c31-b61287e7a3f1",
        "colab": {
          "base_uri": "https://localhost:8080/",
          "height": 147
        }
      },
      "source": [
        "test.head(2)"
      ],
      "execution_count": 109,
      "outputs": [
        {
          "output_type": "execute_result",
          "data": {
            "text/html": [
              "<div>\n",
              "<style scoped>\n",
              "    .dataframe tbody tr th:only-of-type {\n",
              "        vertical-align: middle;\n",
              "    }\n",
              "\n",
              "    .dataframe tbody tr th {\n",
              "        vertical-align: top;\n",
              "    }\n",
              "\n",
              "    .dataframe thead th {\n",
              "        text-align: right;\n",
              "    }\n",
              "</style>\n",
              "<table border=\"1\" class=\"dataframe\">\n",
              "  <thead>\n",
              "    <tr style=\"text-align: right;\">\n",
              "      <th></th>\n",
              "      <th>key</th>\n",
              "      <th>pickup_datetime</th>\n",
              "      <th>pickup_longitude</th>\n",
              "      <th>pickup_latitude</th>\n",
              "      <th>dropoff_longitude</th>\n",
              "      <th>dropoff_latitude</th>\n",
              "      <th>passenger_count</th>\n",
              "      <th>hour</th>\n",
              "      <th>weekday</th>\n",
              "      <th>month</th>\n",
              "      <th>year</th>\n",
              "      <th>distance</th>\n",
              "    </tr>\n",
              "  </thead>\n",
              "  <tbody>\n",
              "    <tr>\n",
              "      <th>0</th>\n",
              "      <td>2015-01-27 13:08:24.0000002</td>\n",
              "      <td>2015-01-27 13:08:24</td>\n",
              "      <td>-73.973320</td>\n",
              "      <td>40.763805</td>\n",
              "      <td>-73.981430</td>\n",
              "      <td>40.743835</td>\n",
              "      <td>1</td>\n",
              "      <td>13</td>\n",
              "      <td>1</td>\n",
              "      <td>1</td>\n",
              "      <td>2015</td>\n",
              "      <td>1.366828</td>\n",
              "    </tr>\n",
              "    <tr>\n",
              "      <th>1</th>\n",
              "      <td>2015-01-27 13:08:24.0000003</td>\n",
              "      <td>2015-01-27 13:08:24</td>\n",
              "      <td>-73.986862</td>\n",
              "      <td>40.719383</td>\n",
              "      <td>-73.998886</td>\n",
              "      <td>40.739197</td>\n",
              "      <td>1</td>\n",
              "      <td>13</td>\n",
              "      <td>1</td>\n",
              "      <td>1</td>\n",
              "      <td>2015</td>\n",
              "      <td>1.366828</td>\n",
              "    </tr>\n",
              "  </tbody>\n",
              "</table>\n",
              "</div>"
            ],
            "text/plain": [
              "                           key     pickup_datetime  ...  year  distance\n",
              "0  2015-01-27 13:08:24.0000002 2015-01-27 13:08:24  ...  2015  1.366828\n",
              "1  2015-01-27 13:08:24.0000003 2015-01-27 13:08:24  ...  2015  1.366828\n",
              "\n",
              "[2 rows x 12 columns]"
            ]
          },
          "metadata": {
            "tags": []
          },
          "execution_count": 109
        }
      ]
    },
    {
      "cell_type": "code",
      "metadata": {
        "id": "CFYnmMIiDfyJ",
        "outputId": "057ee898-926a-44dc-9fc2-ec5dda10e579",
        "colab": {
          "base_uri": "https://localhost:8080/",
          "height": 90
        }
      },
      "source": [
        "print(\"Ararage fare amount: \" + str(train['fare_amount'].mean()))\n",
        "print(\"Standard deviation fare amount: \" + str(train['fare_amount'].std()))\n",
        "print(\"Ararage distance: \" + str(train['distance'].mean()) + \" miles\")\n",
        "print(\"Standard deviation distance: \" + str(train['distance'].std()) + \" miles\")"
      ],
      "execution_count": 110,
      "outputs": [
        {
          "output_type": "stream",
          "text": [
            "Ararage fare amount: 11.340743534360291\n",
            "Standard deviation fare amount: 9.820065758732818\n",
            "Ararage distance: 12.148504865121742 miles\n",
            "Standard deviation distance: 230.86339215143522 miles\n"
          ],
          "name": "stdout"
        }
      ]
    },
    {
      "cell_type": "code",
      "metadata": {
        "id": "KB5A0x0iPBkA",
        "outputId": "4ec44787-1a85-45ae-8c3f-13ddc00148ba",
        "colab": {
          "base_uri": "https://localhost:8080/",
          "height": 320
        }
      },
      "source": [
        "train.describe()"
      ],
      "execution_count": 111,
      "outputs": [
        {
          "output_type": "execute_result",
          "data": {
            "text/html": [
              "<div>\n",
              "<style scoped>\n",
              "    .dataframe tbody tr th:only-of-type {\n",
              "        vertical-align: middle;\n",
              "    }\n",
              "\n",
              "    .dataframe tbody tr th {\n",
              "        vertical-align: top;\n",
              "    }\n",
              "\n",
              "    .dataframe thead th {\n",
              "        text-align: right;\n",
              "    }\n",
              "</style>\n",
              "<table border=\"1\" class=\"dataframe\">\n",
              "  <thead>\n",
              "    <tr style=\"text-align: right;\">\n",
              "      <th></th>\n",
              "      <th>fare_amount</th>\n",
              "      <th>pickup_longitude</th>\n",
              "      <th>pickup_latitude</th>\n",
              "      <th>dropoff_longitude</th>\n",
              "      <th>dropoff_latitude</th>\n",
              "      <th>passenger_count</th>\n",
              "      <th>hour</th>\n",
              "      <th>weekday</th>\n",
              "      <th>month</th>\n",
              "      <th>year</th>\n",
              "      <th>distance</th>\n",
              "    </tr>\n",
              "  </thead>\n",
              "  <tbody>\n",
              "    <tr>\n",
              "      <th>count</th>\n",
              "      <td>4.999964e+06</td>\n",
              "      <td>4.999964e+06</td>\n",
              "      <td>4.999964e+06</td>\n",
              "      <td>4.999964e+06</td>\n",
              "      <td>4.999964e+06</td>\n",
              "      <td>4.999964e+06</td>\n",
              "      <td>4.999964e+06</td>\n",
              "      <td>4.999964e+06</td>\n",
              "      <td>4.999964e+06</td>\n",
              "      <td>4.999964e+06</td>\n",
              "      <td>4.999964e+06</td>\n",
              "    </tr>\n",
              "    <tr>\n",
              "      <th>mean</th>\n",
              "      <td>1.134074e+01</td>\n",
              "      <td>-7.250681e+01</td>\n",
              "      <td>3.991976e+01</td>\n",
              "      <td>-7.250652e+01</td>\n",
              "      <td>3.991725e+01</td>\n",
              "      <td>1.684297e+00</td>\n",
              "      <td>1.351062e+01</td>\n",
              "      <td>3.041885e+00</td>\n",
              "      <td>6.266933e+00</td>\n",
              "      <td>2.011739e+03</td>\n",
              "      <td>1.214851e+01</td>\n",
              "    </tr>\n",
              "    <tr>\n",
              "      <th>std</th>\n",
              "      <td>9.820066e+00</td>\n",
              "      <td>1.280962e+01</td>\n",
              "      <td>8.963488e+00</td>\n",
              "      <td>1.284777e+01</td>\n",
              "      <td>9.486767e+00</td>\n",
              "      <td>1.310633e+00</td>\n",
              "      <td>6.516342e+00</td>\n",
              "      <td>1.949259e+00</td>\n",
              "      <td>3.435217e+00</td>\n",
              "      <td>1.860233e+00</td>\n",
              "      <td>2.308634e+02</td>\n",
              "    </tr>\n",
              "    <tr>\n",
              "      <th>min</th>\n",
              "      <td>-1.000000e+02</td>\n",
              "      <td>-3.426609e+03</td>\n",
              "      <td>-3.488080e+03</td>\n",
              "      <td>-3.412653e+03</td>\n",
              "      <td>-3.488080e+03</td>\n",
              "      <td>-1.270000e+02</td>\n",
              "      <td>0.000000e+00</td>\n",
              "      <td>0.000000e+00</td>\n",
              "      <td>1.000000e+00</td>\n",
              "      <td>2.009000e+03</td>\n",
              "      <td>0.000000e+00</td>\n",
              "    </tr>\n",
              "    <tr>\n",
              "      <th>25%</th>\n",
              "      <td>6.000000e+00</td>\n",
              "      <td>-7.399206e+01</td>\n",
              "      <td>4.073491e+01</td>\n",
              "      <td>-7.399139e+01</td>\n",
              "      <td>4.073404e+01</td>\n",
              "      <td>1.000000e+00</td>\n",
              "      <td>9.000000e+00</td>\n",
              "      <td>1.000000e+00</td>\n",
              "      <td>3.000000e+00</td>\n",
              "      <td>2.010000e+03</td>\n",
              "      <td>0.000000e+00</td>\n",
              "    </tr>\n",
              "    <tr>\n",
              "      <th>50%</th>\n",
              "      <td>8.500000e+00</td>\n",
              "      <td>-7.398181e+01</td>\n",
              "      <td>4.075263e+01</td>\n",
              "      <td>-7.398016e+01</td>\n",
              "      <td>4.075315e+01</td>\n",
              "      <td>1.000000e+00</td>\n",
              "      <td>1.400000e+01</td>\n",
              "      <td>3.000000e+00</td>\n",
              "      <td>6.000000e+00</td>\n",
              "      <td>2.012000e+03</td>\n",
              "      <td>1.366828e+00</td>\n",
              "    </tr>\n",
              "    <tr>\n",
              "      <th>75%</th>\n",
              "      <td>1.250000e+01</td>\n",
              "      <td>-7.396711e+01</td>\n",
              "      <td>4.076712e+01</td>\n",
              "      <td>-7.396367e+01</td>\n",
              "      <td>4.076811e+01</td>\n",
              "      <td>2.000000e+00</td>\n",
              "      <td>1.900000e+01</td>\n",
              "      <td>5.000000e+00</td>\n",
              "      <td>9.000000e+00</td>\n",
              "      <td>2.013000e+03</td>\n",
              "      <td>2.367415e+00</td>\n",
              "    </tr>\n",
              "    <tr>\n",
              "      <th>max</th>\n",
              "      <td>1.273310e+03</td>\n",
              "      <td>3.439425e+03</td>\n",
              "      <td>3.310365e+03</td>\n",
              "      <td>3.457622e+03</td>\n",
              "      <td>3.345917e+03</td>\n",
              "      <td>5.100000e+01</td>\n",
              "      <td>2.300000e+01</td>\n",
              "      <td>6.000000e+00</td>\n",
              "      <td>1.200000e+01</td>\n",
              "      <td>2.015000e+03</td>\n",
              "      <td>1.187364e+04</td>\n",
              "    </tr>\n",
              "  </tbody>\n",
              "</table>\n",
              "</div>"
            ],
            "text/plain": [
              "        fare_amount  pickup_longitude  ...          year      distance\n",
              "count  4.999964e+06      4.999964e+06  ...  4.999964e+06  4.999964e+06\n",
              "mean   1.134074e+01     -7.250681e+01  ...  2.011739e+03  1.214851e+01\n",
              "std    9.820066e+00      1.280962e+01  ...  1.860233e+00  2.308634e+02\n",
              "min   -1.000000e+02     -3.426609e+03  ...  2.009000e+03  0.000000e+00\n",
              "25%    6.000000e+00     -7.399206e+01  ...  2.010000e+03  0.000000e+00\n",
              "50%    8.500000e+00     -7.398181e+01  ...  2.012000e+03  1.366828e+00\n",
              "75%    1.250000e+01     -7.396711e+01  ...  2.013000e+03  2.367415e+00\n",
              "max    1.273310e+03      3.439425e+03  ...  2.015000e+03  1.187364e+04\n",
              "\n",
              "[8 rows x 11 columns]"
            ]
          },
          "metadata": {
            "tags": []
          },
          "execution_count": 111
        }
      ]
    },
    {
      "cell_type": "markdown",
      "metadata": {
        "id": "2F3ZtZtgCt87"
      },
      "source": [
        "Visualization of the data <br>\n",
        "\n",
        "The following things were noticed (while using 500k datapoints):\n",
        "*   The minimal fare_amount is negative. As this does not seem to be realistic I will drop them from the dataset.\n",
        "*   Some of the minimum and maximum longitude/lattitude coordinates are way off. These  will also be remove from the dataset. (bounding box will be defined)\n",
        "*   The average fare_amount is about 9.79 USD with a standard deviation of 7.48 USD. When building a predictive model we want to be better than 7.48 USD.\n",
        "\n"
      ]
    },
    {
      "cell_type": "code",
      "metadata": {
        "id": "T-Wu8kZoB-0s"
      },
      "source": [
        "train = train[train.fare_amount>=0]\n",
        "train = train[(train['distance'] < 30) & (train['distance'] >=0 )]"
      ],
      "execution_count": 112,
      "outputs": []
    },
    {
      "cell_type": "code",
      "metadata": {
        "id": "u7Bp_uZoGIqU"
      },
      "source": [
        "fare_amount = train['fare_amount'].to_array()\n",
        "passenger_count = train['passenger_count'].to_array()\n",
        "distance = train['distance'].to_array()"
      ],
      "execution_count": 113,
      "outputs": []
    },
    {
      "cell_type": "code",
      "metadata": {
        "id": "4JcWhshbET0g",
        "outputId": "2085396d-c701-4b8e-da83-c6fc2b773a5e",
        "colab": {
          "base_uri": "https://localhost:8080/",
          "height": 354
        }
      },
      "source": [
        "plt.figure(figsize=(8,5))\n",
        "sns.kdeplot(fare_amount).set_title(\"Verteilung des Fahrpreises\")"
      ],
      "execution_count": 114,
      "outputs": [
        {
          "output_type": "execute_result",
          "data": {
            "text/plain": [
              "Text(0.5, 1.0, 'Verteilung des Fahrpreises')"
            ]
          },
          "metadata": {
            "tags": []
          },
          "execution_count": 114
        },
        {
          "output_type": "display_data",
          "data": {
            "image/png": "[encoded data removed]",
            "text/plain": [
              "<Figure size 576x360 with 1 Axes>"
            ]
          },
          "metadata": {
            "tags": [],
            "needs_background": "light"
          }
        }
      ]
    },
    {
      "cell_type": "code",
      "metadata": {
        "id": "LQuUhTOR_xj2",
        "outputId": "0d22822b-b2e6-4013-a39a-d9877d8ceee0",
        "colab": {
          "base_uri": "https://localhost:8080/",
          "height": 354
        }
      },
      "source": [
        "plt.figure(figsize=(8,5))\n",
        "sns.kdeplot(distance).set_title(\"Distanz\")"
      ],
      "execution_count": 115,
      "outputs": [
        {
          "output_type": "execute_result",
          "data": {
            "text/plain": [
              "Text(0.5, 1.0, 'Distanz')"
            ]
          },
          "metadata": {
            "tags": []
          },
          "execution_count": 115
        },
        {
          "output_type": "display_data",
          "data": {
            "image/png": "[encoded data removed]",
            "text/plain": [
              "<Figure size 576x360 with 1 Axes>"
            ]
          },
          "metadata": {
            "tags": [],
            "needs_background": "light"
          }
        }
      ]
    },
    {
      "cell_type": "code",
      "metadata": {
        "id": "ctVL7b6XQr6i",
        "outputId": "2e2e75bf-dd50-4899-b405-2e1444975e3e",
        "colab": {
          "base_uri": "https://localhost:8080/",
          "height": 182
        }
      },
      "source": [
        "#check max latitude und max longitude of test data\n",
        "print(\"Max lat pickup: \" + str(test['pickup_latitude'].max()))\n",
        "print(\"Max lat dropoff: \" + str(test['dropoff_latitude'].max()))\n",
        "print(\"Max lon pickup: \" + str(test['pickup_longitude'].max()))\n",
        "print(\"Max lon dropoff: \" + str(test['dropoff_longitude'].max()))\n",
        "print(\"\")\n",
        "print(\"Min lat pickup: \" + str(test['pickup_latitude'].min()))\n",
        "print(\"Min lat dropoff: \" + str(test['dropoff_latitude'].min()))\n",
        "print(\"Min lon pickup: \" + str(test['pickup_longitude'].min()))\n",
        "print(\"Min lon dropoff: \" + str(test['dropoff_longitude'].min()))"
      ],
      "execution_count": 116,
      "outputs": [
        {
          "output_type": "stream",
          "text": [
            "Max lat pickup: 41.709553\n",
            "Max lat dropoff: 41.696682\n",
            "Max lon pickup: -72.986534\n",
            "Max lon dropoff: -72.99096\n",
            "\n",
            "Min lat pickup: 40.57314\n",
            "Min lat dropoff: 40.568974\n",
            "Min lon pickup: -74.25219\n",
            "Min lon dropoff: -74.26323\n"
          ],
          "name": "stdout"
        }
      ]
    },
    {
      "cell_type": "markdown",
      "metadata": {
        "id": "3p3pPHX4Hada"
      },
      "source": [
        "Bounding Box New York\n",
        "<table>\n",
        "  <tr>\n",
        "    <th></th>\n",
        "    <th>Dropoff</th>\n",
        "    <th>Pickup</th>\n",
        "  </tr>\n",
        "  <tr>\n",
        "    <td>Max Long</td>\n",
        "    <td>-72.99096</td>\n",
        "    <td>-72.986534</td>\n",
        "   </tr>\n",
        "   <tr>\n",
        "    <td>Max Lat</td>\n",
        "    <td>41.696682</td>\n",
        "    <td>41.709553</td>\n",
        "   </tr>\n",
        "   <tr>\n",
        "    <td>Min Long</td>\n",
        "    <td>-74.26323</td>\n",
        "    <td>-74.25219</td>\n",
        "    </tr>\n",
        "   <tr>\n",
        "    <td>Min Lat</td>\n",
        "    <td>40.568974</td>\n",
        "    <td>40.57314</td>\n",
        "   </tr>\n",
        "</table>\n",
        "\n"
      ]
    },
    {
      "cell_type": "code",
      "metadata": {
        "id": "gMZUYAcDVO1x",
        "outputId": "12ec5d8d-ffef-4b23-d9b7-49c9996425e4",
        "colab": {
          "base_uri": "https://localhost:8080/",
          "height": 167
        }
      },
      "source": [
        "train.head(2)"
      ],
      "execution_count": 117,
      "outputs": [
        {
          "output_type": "execute_result",
          "data": {
            "text/html": [
              "<div>\n",
              "<style scoped>\n",
              "    .dataframe tbody tr th:only-of-type {\n",
              "        vertical-align: middle;\n",
              "    }\n",
              "\n",
              "    .dataframe tbody tr th {\n",
              "        vertical-align: top;\n",
              "    }\n",
              "\n",
              "    .dataframe thead th {\n",
              "        text-align: right;\n",
              "    }\n",
              "</style>\n",
              "<table border=\"1\" class=\"dataframe\">\n",
              "  <thead>\n",
              "    <tr style=\"text-align: right;\">\n",
              "      <th></th>\n",
              "      <th>key</th>\n",
              "      <th>fare_amount</th>\n",
              "      <th>pickup_datetime</th>\n",
              "      <th>pickup_longitude</th>\n",
              "      <th>pickup_latitude</th>\n",
              "      <th>dropoff_longitude</th>\n",
              "      <th>dropoff_latitude</th>\n",
              "      <th>passenger_count</th>\n",
              "      <th>hour</th>\n",
              "      <th>weekday</th>\n",
              "      <th>month</th>\n",
              "      <th>year</th>\n",
              "      <th>distance</th>\n",
              "    </tr>\n",
              "  </thead>\n",
              "  <tbody>\n",
              "    <tr>\n",
              "      <th>0</th>\n",
              "      <td>2009-06-15 17:26:21.0000001</td>\n",
              "      <td>4.5</td>\n",
              "      <td>2009-06-15 17:26:21</td>\n",
              "      <td>-73.844307</td>\n",
              "      <td>40.721321</td>\n",
              "      <td>-73.841614</td>\n",
              "      <td>40.712273</td>\n",
              "      <td>1</td>\n",
              "      <td>17</td>\n",
              "      <td>0</td>\n",
              "      <td>6</td>\n",
              "      <td>2009</td>\n",
              "      <td>0.000000</td>\n",
              "    </tr>\n",
              "    <tr>\n",
              "      <th>1</th>\n",
              "      <td>2010-01-05 16:52:16.0000002</td>\n",
              "      <td>16.9</td>\n",
              "      <td>2010-01-05 16:52:16</td>\n",
              "      <td>-74.016045</td>\n",
              "      <td>40.711304</td>\n",
              "      <td>-73.979271</td>\n",
              "      <td>40.782005</td>\n",
              "      <td>1</td>\n",
              "      <td>16</td>\n",
              "      <td>1</td>\n",
              "      <td>1</td>\n",
              "      <td>2010</td>\n",
              "      <td>5.244397</td>\n",
              "    </tr>\n",
              "  </tbody>\n",
              "</table>\n",
              "</div>"
            ],
            "text/plain": [
              "                           key  fare_amount  ...  year  distance\n",
              "0  2009-06-15 17:26:21.0000001          4.5  ...  2009  0.000000\n",
              "1  2010-01-05 16:52:16.0000002         16.9  ...  2010  5.244397\n",
              "\n",
              "[2 rows x 13 columns]"
            ]
          },
          "metadata": {
            "tags": []
          },
          "execution_count": 117
        }
      ]
    },
    {
      "cell_type": "code",
      "metadata": {
        "id": "6nu3O1o0HkkC"
      },
      "source": [
        "#Parts of train data are too far away, so they can be dropped\n",
        "train = train[(train['pickup_longitude'] > -74.25) & (train['pickup_longitude'] < -72.98)]\n",
        "train = train[(train['pickup_latitude'] > 40.57) & (train['pickup_latitude'] < 41.70)]\n",
        "train = train[(train['dropoff_longitude'] < -72.99) & (train['dropoff_longitude'] > -74.26)]\n",
        "train = train[(train['dropoff_latitude'] > 40.56) & (train['dropoff_latitude'] < 41.69)]"
      ],
      "execution_count": 118,
      "outputs": []
    },
    {
      "cell_type": "code",
      "metadata": {
        "id": "Lh8BCPIjGDkx",
        "outputId": "0f0c56a5-ea1b-424f-d78d-634143f2b94c",
        "colab": {
          "base_uri": "https://localhost:8080/",
          "height": 408
        }
      },
      "source": [
        "dropoff_longitude = train['dropoff_longitude'].to_array()\n",
        "dropoff_latitude = train['dropoff_latitude'].to_array()\n",
        "\n",
        "city_long_border = (-74.03, -73.75)\n",
        "city_lat_border = (40.63, 40.85)\n",
        "\n",
        "plt.figure(figsize=(10,6))\n",
        "plt.scatter(dropoff_longitude, dropoff_latitude,\n",
        "                color='green', \n",
        "                s=.02, alpha=.6)\n",
        "plt.title(\"Dropoffs\")\n",
        "\n",
        "plt.ylim(city_lat_border)\n",
        "plt.xlim(city_long_border)"
      ],
      "execution_count": 119,
      "outputs": [
        {
          "output_type": "execute_result",
          "data": {
            "text/plain": [
              "(-74.03, -73.75)"
            ]
          },
          "metadata": {
            "tags": []
          },
          "execution_count": 119
        },
        {
          "output_type": "display_data",
          "data": {
            "image/png": "[encoded data removed]",
            "text/plain": [
              "<Figure size 720x432 with 1 Axes>"
            ]
          },
          "metadata": {
            "tags": [],
            "needs_background": "light"
          }
        }
      ]
    },
    {
      "cell_type": "markdown",
      "metadata": {
        "id": "U2dpIvoAIe33"
      },
      "source": [
        "Tested different columns to see which have the most impact. Pickup_datetime seems to be irrelevant for the predictions so dropping it together with key."
      ]
    },
    {
      "cell_type": "code",
      "metadata": {
        "id": "7ZqQoFPuGrYN"
      },
      "source": [
        "## Kicking out unrelevant columns\n",
        "unnecessary_columns=['key','pickup_datetime']\n",
        "train=train.drop(unnecessary_columns,axis=1)\n",
        "test=test.drop(unnecessary_columns,axis=1)"
      ],
      "execution_count": 120,
      "outputs": []
    },
    {
      "cell_type": "code",
      "metadata": {
        "id": "zR9cNfz9ITCh",
        "outputId": "d07017cd-5cc9-4639-87f9-2337574a8d22",
        "colab": {
          "base_uri": "https://localhost:8080/",
          "height": 112
        }
      },
      "source": [
        "train.head(2)"
      ],
      "execution_count": 121,
      "outputs": [
        {
          "output_type": "execute_result",
          "data": {
            "text/html": [
              "<div>\n",
              "<style scoped>\n",
              "    .dataframe tbody tr th:only-of-type {\n",
              "        vertical-align: middle;\n",
              "    }\n",
              "\n",
              "    .dataframe tbody tr th {\n",
              "        vertical-align: top;\n",
              "    }\n",
              "\n",
              "    .dataframe thead th {\n",
              "        text-align: right;\n",
              "    }\n",
              "</style>\n",
              "<table border=\"1\" class=\"dataframe\">\n",
              "  <thead>\n",
              "    <tr style=\"text-align: right;\">\n",
              "      <th></th>\n",
              "      <th>key</th>\n",
              "      <th>fare_amount</th>\n",
              "      <th>pickup_longitude</th>\n",
              "      <th>pickup_latitude</th>\n",
              "      <th>dropoff_longitude</th>\n",
              "      <th>passenger_count</th>\n",
              "      <th>hour</th>\n",
              "      <th>weekday</th>\n",
              "      <th>month</th>\n",
              "      <th>year</th>\n",
              "      <th>distance</th>\n",
              "    </tr>\n",
              "  </thead>\n",
              "  <tbody>\n",
              "    <tr>\n",
              "      <th>0</th>\n",
              "      <td>2009-06-15 17:26:21.0000001</td>\n",
              "      <td>4.5</td>\n",
              "      <td>-73.844307</td>\n",
              "      <td>40.721321</td>\n",
              "      <td>-73.841614</td>\n",
              "      <td>1</td>\n",
              "      <td>17</td>\n",
              "      <td>0</td>\n",
              "      <td>6</td>\n",
              "      <td>2009</td>\n",
              "      <td>0.000000</td>\n",
              "    </tr>\n",
              "    <tr>\n",
              "      <th>1</th>\n",
              "      <td>2010-01-05 16:52:16.0000002</td>\n",
              "      <td>16.9</td>\n",
              "      <td>-74.016045</td>\n",
              "      <td>40.711304</td>\n",
              "      <td>-73.979271</td>\n",
              "      <td>1</td>\n",
              "      <td>16</td>\n",
              "      <td>1</td>\n",
              "      <td>1</td>\n",
              "      <td>2010</td>\n",
              "      <td>5.244397</td>\n",
              "    </tr>\n",
              "  </tbody>\n",
              "</table>\n",
              "</div>"
            ],
            "text/plain": [
              "                           key  fare_amount  ...  year  distance\n",
              "0  2009-06-15 17:26:21.0000001          4.5  ...  2009  0.000000\n",
              "1  2010-01-05 16:52:16.0000002         16.9  ...  2010  5.244397\n",
              "\n",
              "[2 rows x 11 columns]"
            ]
          },
          "metadata": {
            "tags": []
          },
          "execution_count": 121
        }
      ]
    },
    {
      "cell_type": "code",
      "metadata": {
        "id": "TNd_cXuNg3yL",
        "outputId": "544f5ce5-6213-49fc-8d39-a817f94c5b40",
        "colab": {
          "base_uri": "https://localhost:8080/",
          "height": 112
        }
      },
      "source": [
        "test.head(2)"
      ],
      "execution_count": 122,
      "outputs": [
        {
          "output_type": "execute_result",
          "data": {
            "text/html": [
              "<div>\n",
              "<style scoped>\n",
              "    .dataframe tbody tr th:only-of-type {\n",
              "        vertical-align: middle;\n",
              "    }\n",
              "\n",
              "    .dataframe tbody tr th {\n",
              "        vertical-align: top;\n",
              "    }\n",
              "\n",
              "    .dataframe thead th {\n",
              "        text-align: right;\n",
              "    }\n",
              "</style>\n",
              "<table border=\"1\" class=\"dataframe\">\n",
              "  <thead>\n",
              "    <tr style=\"text-align: right;\">\n",
              "      <th></th>\n",
              "      <th>key</th>\n",
              "      <th>pickup_longitude</th>\n",
              "      <th>pickup_latitude</th>\n",
              "      <th>dropoff_longitude</th>\n",
              "      <th>passenger_count</th>\n",
              "      <th>hour</th>\n",
              "      <th>weekday</th>\n",
              "      <th>month</th>\n",
              "      <th>year</th>\n",
              "      <th>distance</th>\n",
              "    </tr>\n",
              "  </thead>\n",
              "  <tbody>\n",
              "    <tr>\n",
              "      <th>0</th>\n",
              "      <td>2015-01-27 13:08:24.0000002</td>\n",
              "      <td>-73.973320</td>\n",
              "      <td>40.763805</td>\n",
              "      <td>-73.981430</td>\n",
              "      <td>1</td>\n",
              "      <td>13</td>\n",
              "      <td>1</td>\n",
              "      <td>1</td>\n",
              "      <td>2015</td>\n",
              "      <td>1.366828</td>\n",
              "    </tr>\n",
              "    <tr>\n",
              "      <th>1</th>\n",
              "      <td>2015-01-27 13:08:24.0000003</td>\n",
              "      <td>-73.986862</td>\n",
              "      <td>40.719383</td>\n",
              "      <td>-73.998886</td>\n",
              "      <td>1</td>\n",
              "      <td>13</td>\n",
              "      <td>1</td>\n",
              "      <td>1</td>\n",
              "      <td>2015</td>\n",
              "      <td>1.366828</td>\n",
              "    </tr>\n",
              "  </tbody>\n",
              "</table>\n",
              "</div>"
            ],
            "text/plain": [
              "                           key  pickup_longitude  ...  year  distance\n",
              "0  2015-01-27 13:08:24.0000002        -73.973320  ...  2015  1.366828\n",
              "1  2015-01-27 13:08:24.0000003        -73.986862  ...  2015  1.366828\n",
              "\n",
              "[2 rows x 10 columns]"
            ]
          },
          "metadata": {
            "tags": []
          },
          "execution_count": 122
        }
      ]
    },
    {
      "cell_type": "markdown",
      "metadata": {
        "id": "SwKEOq2fI963"
      },
      "source": [
        "Splitting the train data here"
      ]
    },
    {
      "cell_type": "code",
      "metadata": {
        "id": "NdDCPESrIYfo",
        "outputId": "64b0cc0f-c6b1-49ee-bf84-424739b8b08a",
        "colab": {
          "base_uri": "https://localhost:8080/",
          "height": 146
        }
      },
      "source": [
        "X=train.drop(['fare_amount'],axis=1)\n",
        "y=train['fare_amount']\n",
        "\n",
        "## getting the columns into the same order since XGB and LGBM seems to have a problem if they are not aligned\n",
        "test = test[train.columns.drop(['fare_amount'])]\n",
        "\n",
        "X_train, X_test, y_train, y_test = train_test_split(X,y, test_size=0.2)\n",
        "print(\"Number of records in training data \",X_train.shape[0])\n",
        "print(\"Number of records in validation data \",X_test.shape[0])\n",
        "print(X_train.shape)\n",
        "print(X_test.shape)\n",
        "print(y_train.shape)\n",
        "print(y_test.shape)\n",
        "\n",
        "## free some storage by cleaning up the previous unneeded variables\n",
        "del X, y\n",
        "gc.collect()"
      ],
      "execution_count": 124,
      "outputs": [
        {
          "output_type": "stream",
          "text": [
            "Number of records in training data  3913464\n",
            "Number of records in validation data  978366\n",
            "(3913464, 10)\n",
            "(978366, 10)\n",
            "(3913464,)\n",
            "(978366,)\n"
          ],
          "name": "stdout"
        },
        {
          "output_type": "execute_result",
          "data": {
            "text/plain": [
              "2469"
            ]
          },
          "metadata": {
            "tags": []
          },
          "execution_count": 124
        }
      ]
    },
    {
      "cell_type": "markdown",
      "metadata": {
        "id": "ASbJyvwrLXEA"
      },
      "source": [
        "# 4. Linear Regression\n",
        "This counts as our baseline model and showcases the most simple model here."
      ]
    },
    {
      "cell_type": "code",
      "metadata": {
        "id": "6oVWER31Ikbs",
        "outputId": "cf78d0a3-c890-417c-806e-4270e9434ad5",
        "colab": {
          "base_uri": "https://localhost:8080/",
          "height": 55
        }
      },
      "source": [
        "lm = LinearRegression(fit_intercept = True, \n",
        "                      normalize = False,\n",
        "                      algorithm = \"eig\")\n",
        "lm.fit(X_train,y_train)"
      ],
      "execution_count": null,
      "outputs": [
        {
          "output_type": "execute_result",
          "data": {
            "text/plain": [
              "LinearRegression(algorithm='eig', fit_intercept=True, normalize=False, handle=<cuml.common.handle.Handle object at 0x7f82c6967650>, verbose=2, output_type='cudf')"
            ]
          },
          "metadata": {
            "tags": []
          },
          "execution_count": 168
        }
      ]
    },
    {
      "cell_type": "code",
      "metadata": {
        "id": "Bnc_Qa9StqWa",
        "outputId": "696f9867-74d0-4361-ae3c-374be533104b",
        "colab": {
          "base_uri": "https://localhost:8080/",
          "height": 35
        }
      },
      "source": [
        "y_test_pred=lm.predict(X_test)\n",
        "score_linear_reg = calc_R2(y_test_pred, 'Linear Regression')"
      ],
      "execution_count": null,
      "outputs": [
        {
          "output_type": "stream",
          "text": [
            "RMSE for the Linear Regression model is:  0.6146653890609741\n"
          ],
          "name": "stdout"
        }
      ]
    },
    {
      "cell_type": "code",
      "metadata": {
        "id": "L85j0kDWI2fH",
        "outputId": "c9602aad-e4ba-44bc-f596-73fb149b6104",
        "colab": {
          "base_uri": "https://localhost:8080/",
          "height": 112
        }
      },
      "source": [
        "y_pred_LR=lm.predict(test)\n",
        "\n",
        "save_model_csv(y_pred_LR, 'submission_LinearReg')"
      ],
      "execution_count": null,
      "outputs": [
        {
          "output_type": "execute_result",
          "data": {
            "text/html": [
              "<div>\n",
              "<style scoped>\n",
              "    .dataframe tbody tr th:only-of-type {\n",
              "        vertical-align: middle;\n",
              "    }\n",
              "\n",
              "    .dataframe tbody tr th {\n",
              "        vertical-align: top;\n",
              "    }\n",
              "\n",
              "    .dataframe thead th {\n",
              "        text-align: right;\n",
              "    }\n",
              "</style>\n",
              "<table border=\"1\" class=\"dataframe\">\n",
              "  <thead>\n",
              "    <tr style=\"text-align: right;\">\n",
              "      <th></th>\n",
              "      <th>fare_amount</th>\n",
              "    </tr>\n",
              "  </thead>\n",
              "  <tbody>\n",
              "    <tr>\n",
              "      <th>0</th>\n",
              "      <td>11.064941</td>\n",
              "    </tr>\n",
              "    <tr>\n",
              "      <th>1</th>\n",
              "      <td>11.064941</td>\n",
              "    </tr>\n",
              "  </tbody>\n",
              "</table>\n",
              "</div>"
            ],
            "text/plain": [
              "   fare_amount\n",
              "0    11.064941\n",
              "1    11.064941"
            ]
          },
          "metadata": {
            "tags": []
          },
          "execution_count": 170
        }
      ]
    },
    {
      "cell_type": "markdown",
      "metadata": {
        "id": "I8q2_b90LUju"
      },
      "source": [
        "# 5. Ridge Regression\n",
        "\n",
        "This model is a little buggy and fails every second time to load. The results compared to the linear regression are not really an improvement here with R2 values and submission score being pretty much identical and still having longer training time."
      ]
    },
    {
      "cell_type": "code",
      "metadata": {
        "id": "jusciUoQP0_Z",
        "outputId": "2d09e96d-096d-4af6-95d8-4f0b2890d0d4",
        "colab": {
          "base_uri": "https://localhost:8080/",
          "height": 1000
        }
      },
      "source": [
        "params_ridge = {\n",
        "    \"alpha\": loguniform(1e-5, 1e0), # default 1.0\n",
        "    \"solver\": ['eig', 'cd'], \n",
        "}\n",
        "ridge = Ridge()\n",
        "clf = RandomizedSearchCV(ridge, params_ridge, random_state=1, n_iter=100, cv=5, verbose=0, n_jobs=1)\n",
        "best_model = clf.fit(X_train,y_train)"
      ],
      "execution_count": null,
      "outputs": [
        {
          "output_type": "error",
          "ename": "RuntimeError",
          "evalue": "ignored",
          "traceback": [
            "\u001b[0;31m---------------------------------------------------------------------------\u001b[0m",
            "\u001b[0;31mRuntimeError\u001b[0m                              Traceback (most recent call last)",
            "\u001b[0;32m<ipython-input-116-c8657046b942>\u001b[0m in \u001b[0;36m<module>\u001b[0;34m()\u001b[0m\n\u001b[1;32m      5\u001b[0m \u001b[0mridge\u001b[0m \u001b[0;34m=\u001b[0m \u001b[0mRidge\u001b[0m\u001b[0;34m(\u001b[0m\u001b[0;34m)\u001b[0m\u001b[0;34m\u001b[0m\u001b[0;34m\u001b[0m\u001b[0m\n\u001b[1;32m      6\u001b[0m \u001b[0mclf\u001b[0m \u001b[0;34m=\u001b[0m \u001b[0mRandomizedSearchCV\u001b[0m\u001b[0;34m(\u001b[0m\u001b[0mridge\u001b[0m\u001b[0;34m,\u001b[0m \u001b[0mparams_ridge\u001b[0m\u001b[0;34m,\u001b[0m \u001b[0mrandom_state\u001b[0m\u001b[0;34m=\u001b[0m\u001b[0;36m1\u001b[0m\u001b[0;34m,\u001b[0m \u001b[0mn_iter\u001b[0m\u001b[0;34m=\u001b[0m\u001b[0;36m100\u001b[0m\u001b[0;34m,\u001b[0m \u001b[0mcv\u001b[0m\u001b[0;34m=\u001b[0m\u001b[0;36m5\u001b[0m\u001b[0;34m,\u001b[0m \u001b[0mverbose\u001b[0m\u001b[0;34m=\u001b[0m\u001b[0;36m0\u001b[0m\u001b[0;34m,\u001b[0m \u001b[0mn_jobs\u001b[0m\u001b[0;34m=\u001b[0m\u001b[0;36m1\u001b[0m\u001b[0;34m)\u001b[0m\u001b[0;34m\u001b[0m\u001b[0;34m\u001b[0m\u001b[0m\n\u001b[0;32m----> 7\u001b[0;31m \u001b[0mbest_model\u001b[0m \u001b[0;34m=\u001b[0m \u001b[0mclf\u001b[0m\u001b[0;34m.\u001b[0m\u001b[0mfit\u001b[0m\u001b[0;34m(\u001b[0m\u001b[0mX_train\u001b[0m\u001b[0;34m,\u001b[0m\u001b[0my_train\u001b[0m\u001b[0;34m)\u001b[0m\u001b[0;34m\u001b[0m\u001b[0;34m\u001b[0m\u001b[0m\n\u001b[0m",
            "\u001b[0;32m/usr/local/lib/python3.6/site-packages/sklearn/utils/validation.py\u001b[0m in \u001b[0;36minner_f\u001b[0;34m(*args, **kwargs)\u001b[0m\n\u001b[1;32m     70\u001b[0m                           FutureWarning)\n\u001b[1;32m     71\u001b[0m         \u001b[0mkwargs\u001b[0m\u001b[0;34m.\u001b[0m\u001b[0mupdate\u001b[0m\u001b[0;34m(\u001b[0m\u001b[0;34m{\u001b[0m\u001b[0mk\u001b[0m\u001b[0;34m:\u001b[0m \u001b[0marg\u001b[0m \u001b[0;32mfor\u001b[0m \u001b[0mk\u001b[0m\u001b[0;34m,\u001b[0m \u001b[0marg\u001b[0m \u001b[0;32min\u001b[0m \u001b[0mzip\u001b[0m\u001b[0;34m(\u001b[0m\u001b[0msig\u001b[0m\u001b[0;34m.\u001b[0m\u001b[0mparameters\u001b[0m\u001b[0;34m,\u001b[0m \u001b[0margs\u001b[0m\u001b[0;34m)\u001b[0m\u001b[0;34m}\u001b[0m\u001b[0;34m)\u001b[0m\u001b[0;34m\u001b[0m\u001b[0;34m\u001b[0m\u001b[0m\n\u001b[0;32m---> 72\u001b[0;31m         \u001b[0;32mreturn\u001b[0m \u001b[0mf\u001b[0m\u001b[0;34m(\u001b[0m\u001b[0;34m**\u001b[0m\u001b[0mkwargs\u001b[0m\u001b[0;34m)\u001b[0m\u001b[0;34m\u001b[0m\u001b[0;34m\u001b[0m\u001b[0m\n\u001b[0m\u001b[1;32m     73\u001b[0m     \u001b[0;32mreturn\u001b[0m \u001b[0minner_f\u001b[0m\u001b[0;34m\u001b[0m\u001b[0;34m\u001b[0m\u001b[0m\n\u001b[1;32m     74\u001b[0m \u001b[0;34m\u001b[0m\u001b[0m\n",
            "\u001b[0;32m/usr/local/lib/python3.6/site-packages/sklearn/model_selection/_search.py\u001b[0m in \u001b[0;36mfit\u001b[0;34m(self, X, y, groups, **fit_params)\u001b[0m\n\u001b[1;32m    763\u001b[0m             \u001b[0mrefit_start_time\u001b[0m \u001b[0;34m=\u001b[0m \u001b[0mtime\u001b[0m\u001b[0;34m.\u001b[0m\u001b[0mtime\u001b[0m\u001b[0;34m(\u001b[0m\u001b[0;34m)\u001b[0m\u001b[0;34m\u001b[0m\u001b[0;34m\u001b[0m\u001b[0m\n\u001b[1;32m    764\u001b[0m             \u001b[0;32mif\u001b[0m \u001b[0my\u001b[0m \u001b[0;32mis\u001b[0m \u001b[0;32mnot\u001b[0m \u001b[0;32mNone\u001b[0m\u001b[0;34m:\u001b[0m\u001b[0;34m\u001b[0m\u001b[0;34m\u001b[0m\u001b[0m\n\u001b[0;32m--> 765\u001b[0;31m                 \u001b[0mself\u001b[0m\u001b[0;34m.\u001b[0m\u001b[0mbest_estimator_\u001b[0m\u001b[0;34m.\u001b[0m\u001b[0mfit\u001b[0m\u001b[0;34m(\u001b[0m\u001b[0mX\u001b[0m\u001b[0;34m,\u001b[0m \u001b[0my\u001b[0m\u001b[0;34m,\u001b[0m \u001b[0;34m**\u001b[0m\u001b[0mfit_params\u001b[0m\u001b[0;34m)\u001b[0m\u001b[0;34m\u001b[0m\u001b[0;34m\u001b[0m\u001b[0m\n\u001b[0m\u001b[1;32m    766\u001b[0m             \u001b[0;32melse\u001b[0m\u001b[0;34m:\u001b[0m\u001b[0;34m\u001b[0m\u001b[0;34m\u001b[0m\u001b[0m\n\u001b[1;32m    767\u001b[0m                 \u001b[0mself\u001b[0m\u001b[0;34m.\u001b[0m\u001b[0mbest_estimator_\u001b[0m\u001b[0;34m.\u001b[0m\u001b[0mfit\u001b[0m\u001b[0;34m(\u001b[0m\u001b[0mX\u001b[0m\u001b[0;34m,\u001b[0m \u001b[0;34m**\u001b[0m\u001b[0mfit_params\u001b[0m\u001b[0;34m)\u001b[0m\u001b[0;34m\u001b[0m\u001b[0;34m\u001b[0m\u001b[0m\n",
            "\u001b[0;32mcuml/linear_model/ridge.pyx\u001b[0m in \u001b[0;36mcuml.linear_model.ridge.Ridge.fit\u001b[0;34m()\u001b[0m\n",
            "\u001b[0;31mRuntimeError\u001b[0m: Exception occured! file=/conda/conda-bld/libcuml_1591208841859/work/cpp/src/glm/ridge.cuh line=176: ridgeFit: no algorithm with this id has been implemented\nObtained 64 stack frames\n#0 in /usr/local/lib/python3.6/site-packages/cuml/common/pointer_utils.cpython-36m-x86_64-linux-gnu.so(_ZN8MLCommon9Exception16collectCallStackEv+0x3e) [0x7f8312e0911e]\n#1 in /usr/local/lib/python3.6/site-packages/cuml/common/pointer_utils.cpython-36m-x86_64-linux-gnu.so(_ZN8MLCommon9ExceptionC1ERKNSt7__cxx1112basic_stringIcSt11char_traitsIcESaIcEEE+0x80) [0x7f8312e09c30]\n#2 in /usr/local/lib/python3.6/site-packages/cuml/common/../../../../libcuml++.so(_ZN2ML3GLM8ridgeFitIfEEvRKNS_15cumlHandle_implEPT_iiS6_S6_iS6_S6_bbP11CUstream_sti+0x3e9) [0x7f82f2bad149]\n#3 in /usr/local/lib/python3.6/site-packages/cuml/common/../../../../libcuml++.so(_ZN2ML3GLM8ridgeFitERKNS_10cumlHandleEPfiiS4_S4_iS4_S4_bbi+0xb1) [0x7f82f2b6af71]\n#4 in /usr/local/lib/python3.6/site-packages/cuml/linear_model/ridge.cpython-36m-x86_64-linux-gnu.so(+0x115fc) [0x7f8310ef65fc]\n#5 in /usr/bin/python3() [0x59488c]\n#6 in /usr/bin/python3(PyObject_Call+0x3e) [0x59fe1e]\n#7 in /usr/bin/python3(_PyEval_EvalFrameDefault+0x17e6) [0x50d596]\n#8 in /usr/bin/python3() [0x507f24]\n#9 in /usr/bin/python3() [0x588fac]\n#10 in /usr/bin/python3(PyObject_Call+0x3e) [0x59fe1e]\n#11 in /usr/bin/python3(_PyEval_EvalFrameDefault+0x17e6) [0x50d596]\n#12 in /usr/bin/python3() [0x507f24]\n#13 in /usr/bin/python3() [0x509c50]\n#14 in /usr/bin/python3() [0x50a64d]\n#15 in /usr/bin/python3(_PyEval_EvalFrameDefault+0x444) [0x50c1f4]\n#16 in /usr/bin/python3() [0x507f24]\n#17 in /usr/bin/python3() [0x5165a5]\n#18 in /usr/bin/python3() [0x50a47f]\n#19 in /usr/bin/python3(_PyEval_EvalFrameDefault+0x444) [0x50c1f4]\n#20 in /usr/bin/python3() [0x507f24]\n#21 in /usr/bin/python3() [0x509c50]\n#22 in /usr/bin/python3() [0x50a64d]\n#23 in /usr/bin/python3(_PyEval_EvalFrameDefault+0x444) [0x50c1f4]\n#24 in /usr/bin/python3() [0x507f24]\n#25 in /usr/bin/python3() [0x509c50]\n#26 in /usr/bin/python3() [0x50a64d]\n#27 in /usr/bin/python3(_PyEval_EvalFrameDefault+0x1226) [0x50cfd6]\n#28 in /usr/bin/python3() [0x507f24]\n#29 in /usr/bin/python3(_PyFunction_FastCallDict+0x2e2) [0x509202]\n#30 in /usr/bin/python3() [0x594b01]\n#31 in /usr/bin/python3(PyObject_Call+0x3e) [0x59fe1e]\n#32 in /usr/bin/python3(_PyEval_EvalFrameDefault+0x17e6) [0x50d596]\n#33 in /usr/bin/python3() [0x507f24]\n#34 in /usr/bin/python3() [0x509c50]\n#35 in /usr/bin/python3() [0x50a64d]\n#36 in /usr/bin/python3(_PyEval_EvalFrameDefault+0x1226) [0x50cfd6]\n#37 in /usr/bin/python3() [0x507f24]\n#38 in /usr/bin/python3() [0x509c50]\n#39 in /usr/bin/python3() [0x50a64d]\n#40 in /usr/bin/python3(_PyEval_EvalFrameDefault+0x444) [0x50c1f4]\n#41 in /usr/bin/python3() [0x509918]\n#42 in /usr/bin/python3() [0x50a64d]\n#43 in /usr/bin/python3(_PyEval_EvalFrameDefault+0x444) [0x50c1f4]\n#44 in /usr/bin/python3() [0x509918]\n#45 in /usr/bin/python3() [0x50a64d]\n#46 in /usr/bin/python3(_PyEval_EvalFrameDefault+0x444) [0x50c1f4]\n#47 in /usr/bin/python3() [0x507f24]\n#48 in /usr/bin/python3() [0x588e91]\n#49 in /usr/bin/python3(PyObject_Call+0x3e) [0x59fe1e]\n#50 in /usr/bin/python3(_PyEval_EvalFrameDefault+0x17e6) [0x50d596]\n#51 in /usr/bin/python3() [0x507f24]\n#52 in /usr/bin/python3() [0x588e91]\n#53 in /usr/bin/python3(PyObject_Call+0x3e) [0x59fe1e]\n#54 in /usr/bin/python3(_PyEval_EvalFrameDefault+0x17e6) [0x50d596]\n#55 in /usr/bin/python3() [0x507f24]\n#56 in /usr/bin/python3() [0x509c50]\n#57 in /usr/bin/python3() [0x50a64d]\n#58 in /usr/bin/python3(_PyEval_EvalFrameDefault+0x444) [0x50c1f4]\n#59 in /usr/bin/python3() [0x509918]\n#60 in /usr/bin/python3() [0x50a64d]\n#61 in /usr/bin/python3(_PyEval_EvalFrameDefault+0x444) [0x50c1f4]\n#62 in /usr/bin/python3(_PyFunction_FastCallDict+0xf5) [0x509015]\n#63 in /usr/bin/python3() [0x594b01]\n"
          ]
        }
      ]
    },
    {
      "cell_type": "code",
      "metadata": {
        "id": "_wUP1Kc9P71y"
      },
      "source": [
        "best_model.best_estimator_.get_params()"
      ],
      "execution_count": null,
      "outputs": []
    },
    {
      "cell_type": "code",
      "metadata": {
        "id": "uVSS1oaeP-hk"
      },
      "source": [
        "ridge_params = {\n",
        " 'alpha': 0.240960447726532,\n",
        " 'fit_intercept': True,\n",
        " 'normalize': False,\n",
        " 'solver': 'eig'\n",
        "}\n",
        "\n",
        "ridge = Ridge(**ridge_params)\n",
        "result_ridge = ridge.fit(X_train,y_train)"
      ],
      "execution_count": null,
      "outputs": []
    },
    {
      "cell_type": "code",
      "metadata": {
        "id": "QbKIojsO2zmv"
      },
      "source": [
        "y_test_pred = result_ridge.predict(X_test)\n",
        "score_ridge_reg =calc_R2(y_test_pred, 'Ridge Regression')"
      ],
      "execution_count": null,
      "outputs": []
    },
    {
      "cell_type": "code",
      "metadata": {
        "id": "UiacUjg6QDfu"
      },
      "source": [
        "y_pred_RR = result_ridge.predict(test)\n",
        "save_model_csv(y_pred_RR, 'submission_RidgeReg')"
      ],
      "execution_count": null,
      "outputs": []
    },
    {
      "cell_type": "markdown",
      "metadata": {
        "id": "KhmGe2pIH8bs"
      },
      "source": [
        "# 6. K-Nearest Neighbors Regression\n",
        "\n"
      ]
    },
    {
      "cell_type": "markdown",
      "metadata": {
        "id": "Wdt0rWylZ8Zx"
      },
      "source": [
        "https://github.com/rapidsai/cuml/blob/branch-0.13/notebooks/kneighbors_regressor_demo.ipynb\n",
        "\n"
      ]
    },
    {
      "cell_type": "code",
      "metadata": {
        "id": "hlIw0FgjaKgP"
      },
      "source": [
        "## params\n",
        "n_neighbors=4"
      ],
      "execution_count": null,
      "outputs": []
    },
    {
      "cell_type": "markdown",
      "metadata": {
        "id": "U_wb1epTjqW4"
      },
      "source": [
        "inspiration: https://www.kaggle.com/cdeotte/rapids-knn-30-seconds-0-938/notebook"
      ]
    },
    {
      "cell_type": "code",
      "metadata": {
        "id": "kmdzooShH-MM",
        "outputId": "62c723e1-c1a6-44b7-84cb-de84857fa4b1",
        "colab": {
          "base_uri": "https://localhost:8080/",
          "height": 54
        }
      },
      "source": [
        "%%time\n",
        "knn_cuml = cumlKNR(n_neighbors=n_neighbors)\n",
        "knn_cuml.fit(X_train, y_train)"
      ],
      "execution_count": null,
      "outputs": [
        {
          "output_type": "stream",
          "text": [
            "CPU times: user 2.08 ms, sys: 1.99 ms, total: 4.06 ms\n",
            "Wall time: 4.16 ms\n"
          ],
          "name": "stdout"
        }
      ]
    },
    {
      "cell_type": "code",
      "metadata": {
        "id": "kjWTGwu_aqNH",
        "outputId": "e567b011-2e5c-4ee9-de68-bd8e416fb826",
        "colab": {
          "base_uri": "https://localhost:8080/",
          "height": 35
        }
      },
      "source": [
        "y_test_pred = knn_cuml.predict(X_test)\n",
        "score_KNN = calc_R2(y_test_pred, 'K-nearest Neigbors Regression')"
      ],
      "execution_count": null,
      "outputs": [
        {
          "output_type": "stream",
          "text": [
            "RMSE for the K-nearest Neigbors Regression model is:  0.5835455060005188\n"
          ],
          "name": "stdout"
        }
      ]
    },
    {
      "cell_type": "code",
      "metadata": {
        "id": "fzP6K_03ZYyR",
        "outputId": "37ea0b17-4469-4885-85d1-61ab77f3407b",
        "colab": {
          "base_uri": "https://localhost:8080/",
          "height": 112
        }
      },
      "source": [
        "y_pred_KNN = knn_cuml.predict(test)\n",
        "\n",
        "save_model_csv(y_pred_KNN, 'submission_KNN')"
      ],
      "execution_count": null,
      "outputs": [
        {
          "output_type": "execute_result",
          "data": {
            "text/html": [
              "<div>\n",
              "<style scoped>\n",
              "    .dataframe tbody tr th:only-of-type {\n",
              "        vertical-align: middle;\n",
              "    }\n",
              "\n",
              "    .dataframe tbody tr th {\n",
              "        vertical-align: top;\n",
              "    }\n",
              "\n",
              "    .dataframe thead th {\n",
              "        text-align: right;\n",
              "    }\n",
              "</style>\n",
              "<table border=\"1\" class=\"dataframe\">\n",
              "  <thead>\n",
              "    <tr style=\"text-align: right;\">\n",
              "      <th></th>\n",
              "      <th>fare_amount</th>\n",
              "    </tr>\n",
              "  </thead>\n",
              "  <tbody>\n",
              "    <tr>\n",
              "      <th>0</th>\n",
              "      <td>10.0</td>\n",
              "    </tr>\n",
              "    <tr>\n",
              "      <th>1</th>\n",
              "      <td>10.0</td>\n",
              "    </tr>\n",
              "  </tbody>\n",
              "</table>\n",
              "</div>"
            ],
            "text/plain": [
              "   fare_amount\n",
              "0         10.0\n",
              "1         10.0"
            ]
          },
          "metadata": {
            "tags": []
          },
          "execution_count": 174
        }
      ]
    },
    {
      "cell_type": "markdown",
      "metadata": {
        "id": "T0nLQZe2zzv_"
      },
      "source": [
        "# 7. Random Forest GPU\n"
      ]
    },
    {
      "cell_type": "code",
      "metadata": {
        "id": "nTlFRIbi1hly"
      },
      "source": [
        "## params\n",
        "n_estimators=10\n",
        "n_jobs=-1"
      ],
      "execution_count": null,
      "outputs": []
    },
    {
      "cell_type": "code",
      "metadata": {
        "id": "7aJAo-cM0F3C",
        "outputId": "1af19e1f-4a8d-4e26-a900-0b65a15851af",
        "colab": {
          "base_uri": "https://localhost:8080/",
          "height": 54
        }
      },
      "source": [
        "%%time\n",
        "rf_cuml = cuRF(n_estimators=n_estimators)\n",
        "rf_cuml.fit(X_train, y_train)"
      ],
      "execution_count": null,
      "outputs": [
        {
          "output_type": "stream",
          "text": [
            "CPU times: user 114 ms, sys: 95.6 ms, total: 210 ms\n",
            "Wall time: 140 ms\n"
          ],
          "name": "stdout"
        }
      ]
    },
    {
      "cell_type": "code",
      "metadata": {
        "id": "JopZ4B2P1vh7",
        "outputId": "f1d3492e-2ce9-4519-b6d7-d29fec4f1357",
        "colab": {
          "base_uri": "https://localhost:8080/",
          "height": 35
        }
      },
      "source": [
        "y_test_pred = rf_cuml.predict(X_test)\n",
        "score_Rand_For =calc_R2(y_test_pred, 'Random Forest')"
      ],
      "execution_count": null,
      "outputs": [
        {
          "output_type": "stream",
          "text": [
            "RMSE for the Random Forest model is:  0.2536487579345703\n"
          ],
          "name": "stdout"
        }
      ]
    },
    {
      "cell_type": "code",
      "metadata": {
        "id": "B0tAnJJv4T-x",
        "outputId": "b5888bcc-ebd6-49c3-8d24-cb00c9b6c831",
        "colab": {
          "base_uri": "https://localhost:8080/",
          "height": 112
        }
      },
      "source": [
        "y_pred_RF = rf_cuml.predict(test)\n",
        "save_model_csv(y_pred_RF, 'submission_RandomForest')"
      ],
      "execution_count": null,
      "outputs": [
        {
          "output_type": "execute_result",
          "data": {
            "text/html": [
              "<div>\n",
              "<style scoped>\n",
              "    .dataframe tbody tr th:only-of-type {\n",
              "        vertical-align: middle;\n",
              "    }\n",
              "\n",
              "    .dataframe tbody tr th {\n",
              "        vertical-align: top;\n",
              "    }\n",
              "\n",
              "    .dataframe thead th {\n",
              "        text-align: right;\n",
              "    }\n",
              "</style>\n",
              "<table border=\"1\" class=\"dataframe\">\n",
              "  <thead>\n",
              "    <tr style=\"text-align: right;\">\n",
              "      <th></th>\n",
              "      <th>fare_amount</th>\n",
              "    </tr>\n",
              "  </thead>\n",
              "  <tbody>\n",
              "    <tr>\n",
              "      <th>0</th>\n",
              "      <td>9.172441</td>\n",
              "    </tr>\n",
              "    <tr>\n",
              "      <th>1</th>\n",
              "      <td>9.172441</td>\n",
              "    </tr>\n",
              "  </tbody>\n",
              "</table>\n",
              "</div>"
            ],
            "text/plain": [
              "   fare_amount\n",
              "0     9.172441\n",
              "1     9.172441"
            ]
          },
          "metadata": {
            "tags": []
          },
          "execution_count": 178
        }
      ]
    },
    {
      "cell_type": "markdown",
      "metadata": {
        "id": "pAxqf2LObvT4"
      },
      "source": [
        "# 8. XG Boost"
      ]
    },
    {
      "cell_type": "code",
      "metadata": {
        "id": "nfzVFTriPIEY"
      },
      "source": [
        "params_gpu = {\n",
        "    'n_estimators':350,  \n",
        "    'max_depth':7,    \n",
        "    'learning_rate':0.003, \n",
        "    'subsample':0.9,    \n",
        "    'colsample_bytree':0.9,    \n",
        "    'missing':-999,    \n",
        "    'random_state':2020,    \n",
        "    'objective':'reg:linear',    \n",
        "    'gamma':0.3,    \n",
        "    'reg_alpha':0.01,    \n",
        "    'tree_method':'gpu_hist'  # THE MAGICAL PARAMETER\n",
        "}\n",
        "\n",
        "## if you would like to compare runtime on CPU choose this one:\n",
        "params_cpu = {\n",
        "    'n_estimators':500,\n",
        "    'max_depth':7,\n",
        "    'learning_rate':0.0005,\n",
        "    'subsample':0.9,\n",
        "    'colsample_bytree':0.9,\n",
        "    'missing':-999,\n",
        "    'random_state':2020,\n",
        "    'objective':'reg:linear',\n",
        "    'gamma':0.3,\n",
        "    'reg_alpha':0.01,\n",
        "}"
      ],
      "execution_count": null,
      "outputs": []
    },
    {
      "cell_type": "markdown",
      "metadata": {
        "id": "WJYL-gIrbYZ0"
      },
      "source": [
        "## XG Boost model GPU"
      ]
    },
    {
      "cell_type": "code",
      "metadata": {
        "id": "iQeDs79peA7C",
        "outputId": "b4b05815-73b2-46bc-fbe0-dc745722feaf",
        "colab": {
          "base_uri": "https://localhost:8080/",
          "height": 35
        }
      },
      "source": [
        "start_time=time.time()\n",
        "timetaken_gpu_xgb=time.time()-start_time\n",
        "timetaken_gpu_xgb"
      ],
      "execution_count": null,
      "outputs": [
        {
          "output_type": "execute_result",
          "data": {
            "text/plain": [
              "4.172325134277344e-05"
            ]
          },
          "metadata": {
            "tags": []
          },
          "execution_count": 180
        }
      ]
    },
    {
      "cell_type": "markdown",
      "metadata": {
        "id": "T-V-WY0qxxRg"
      },
      "source": [
        "Running nicely in Kaggle but not in Colab\n",
        "- TypeError: can not initialize DMatrix from DataFrame"
      ]
    },
    {
      "cell_type": "code",
      "metadata": {
        "id": "TpLZNVFIPH5o",
        "outputId": "c899caac-cf67-4193-e5e9-f02d8c71e77d",
        "colab": {
          "base_uri": "https://localhost:8080/",
          "height": 710
        }
      },
      "source": [
        "%%time\n",
        "def XGBmodel(X_train,X_test,y_train,y_test,params):\n",
        "    matrix_train = xgb.DMatrix(X_train,label=y_train)\n",
        "    matrix_test = xgb.DMatrix(X_test,label=y_test)\n",
        "    model=xgb.train(params=params_gpu,\n",
        "                    dtrain=matrix_train,num_boost_round=1000, \n",
        "                    early_stopping_rounds=100,evals=[(matrix_test,'test')])\n",
        "    return model\n",
        "\n",
        "XGB_model = XGBmodel(X_train,X_test,y_train,y_test,params)"
      ],
      "execution_count": null,
      "outputs": [
        {
          "output_type": "error",
          "ename": "TypeError",
          "evalue": "ignored",
          "traceback": [
            "\u001b[0;31m---------------------------------------------------------------------------\u001b[0m",
            "\u001b[0;31mTypeError\u001b[0m                                 Traceback (most recent call last)",
            "\u001b[0;32m/usr/local/lib/python3.6/site-packages/scipy/sparse/compressed.py\u001b[0m in \u001b[0;36m__init__\u001b[0;34m(self, arg1, shape, dtype, copy)\u001b[0m\n\u001b[1;32m     82\u001b[0m             \u001b[0;32mtry\u001b[0m\u001b[0;34m:\u001b[0m\u001b[0;34m\u001b[0m\u001b[0;34m\u001b[0m\u001b[0m\n\u001b[0;32m---> 83\u001b[0;31m                 \u001b[0marg1\u001b[0m \u001b[0;34m=\u001b[0m \u001b[0mnp\u001b[0m\u001b[0;34m.\u001b[0m\u001b[0masarray\u001b[0m\u001b[0;34m(\u001b[0m\u001b[0marg1\u001b[0m\u001b[0;34m)\u001b[0m\u001b[0;34m\u001b[0m\u001b[0;34m\u001b[0m\u001b[0m\n\u001b[0m\u001b[1;32m     84\u001b[0m             \u001b[0;32mexcept\u001b[0m \u001b[0mException\u001b[0m\u001b[0;34m:\u001b[0m\u001b[0;34m\u001b[0m\u001b[0;34m\u001b[0m\u001b[0m\n",
            "\u001b[0;32m/usr/local/lib/python3.6/dist-packages/numpy/core/_asarray.py\u001b[0m in \u001b[0;36masarray\u001b[0;34m(a, dtype, order)\u001b[0m\n\u001b[1;32m     84\u001b[0m     \"\"\"\n\u001b[0;32m---> 85\u001b[0;31m     \u001b[0;32mreturn\u001b[0m \u001b[0marray\u001b[0m\u001b[0;34m(\u001b[0m\u001b[0ma\u001b[0m\u001b[0;34m,\u001b[0m \u001b[0mdtype\u001b[0m\u001b[0;34m,\u001b[0m \u001b[0mcopy\u001b[0m\u001b[0;34m=\u001b[0m\u001b[0;32mFalse\u001b[0m\u001b[0;34m,\u001b[0m \u001b[0morder\u001b[0m\u001b[0;34m=\u001b[0m\u001b[0morder\u001b[0m\u001b[0;34m)\u001b[0m\u001b[0;34m\u001b[0m\u001b[0;34m\u001b[0m\u001b[0m\n\u001b[0m\u001b[1;32m     86\u001b[0m \u001b[0;34m\u001b[0m\u001b[0m\n",
            "\u001b[0;32m/usr/local/lib/python3.6/site-packages/cudf/core/dataframe.py\u001b[0m in \u001b[0;36m__array__\u001b[0;34m(self, dtype)\u001b[0m\n\u001b[1;32m    764\u001b[0m             \u001b[0;34m.\u001b[0m\u001b[0mas_gpu_matrix\u001b[0m\u001b[0;34m(\u001b[0m\u001b[0;34m)\u001b[0m\u001b[0;31m\\\u001b[0m\u001b[0mnTo\u001b[0m \u001b[0mexplicitly\u001b[0m \u001b[0mconstruct\u001b[0m \u001b[0ma\u001b[0m \u001b[0mhost\u001b[0m\u001b[0;31m \u001b[0m\u001b[0;31m\\\u001b[0m\u001b[0;34m\u001b[0m\u001b[0;34m\u001b[0m\u001b[0m\n\u001b[0;32m--> 765\u001b[0;31m             \u001b[0mmatrix\u001b[0m\u001b[0;34m,\u001b[0m \u001b[0mconsider\u001b[0m \u001b[0musing\u001b[0m \u001b[0;34m.\u001b[0m\u001b[0mas_matrix\u001b[0m\u001b[0;34m(\u001b[0m\u001b[0;34m)\u001b[0m\u001b[0;31m\"\u001b[0m\u001b[0;34m\u001b[0m\u001b[0;34m\u001b[0m\u001b[0m\n\u001b[0m\u001b[1;32m    766\u001b[0m         )\n",
            "\u001b[0;31mTypeError\u001b[0m: Implicit conversion to a host NumPy array via __array__ is not allowed,             To explicitly construct a GPU matrix, consider using             .as_gpu_matrix()\nTo explicitly construct a host             matrix, consider using .as_matrix()",
            "\nDuring handling of the above exception, another exception occurred:\n",
            "\u001b[0;31mValueError\u001b[0m                                Traceback (most recent call last)",
            "\u001b[0;32m/usr/local/lib/python3.6/site-packages/xgboost/core.py\u001b[0m in \u001b[0;36m__init__\u001b[0;34m(self, data, label, missing, weight, silent, feature_names, feature_types, nthread)\u001b[0m\n\u001b[1;32m    408\u001b[0m             \u001b[0;32mtry\u001b[0m\u001b[0;34m:\u001b[0m\u001b[0;34m\u001b[0m\u001b[0;34m\u001b[0m\u001b[0m\n\u001b[0;32m--> 409\u001b[0;31m                 \u001b[0mcsr\u001b[0m \u001b[0;34m=\u001b[0m \u001b[0mscipy\u001b[0m\u001b[0;34m.\u001b[0m\u001b[0msparse\u001b[0m\u001b[0;34m.\u001b[0m\u001b[0mcsr_matrix\u001b[0m\u001b[0;34m(\u001b[0m\u001b[0mdata\u001b[0m\u001b[0;34m)\u001b[0m\u001b[0;34m\u001b[0m\u001b[0;34m\u001b[0m\u001b[0m\n\u001b[0m\u001b[1;32m    410\u001b[0m                 \u001b[0mself\u001b[0m\u001b[0;34m.\u001b[0m\u001b[0m_init_from_csr\u001b[0m\u001b[0;34m(\u001b[0m\u001b[0mcsr\u001b[0m\u001b[0;34m)\u001b[0m\u001b[0;34m\u001b[0m\u001b[0;34m\u001b[0m\u001b[0m\n",
            "\u001b[0;32m/usr/local/lib/python3.6/site-packages/scipy/sparse/compressed.py\u001b[0m in \u001b[0;36m__init__\u001b[0;34m(self, arg1, shape, dtype, copy)\u001b[0m\n\u001b[1;32m     85\u001b[0m                 raise ValueError(\"unrecognized {}_matrix constructor usage\"\n\u001b[0;32m---> 86\u001b[0;31m                                  \"\".format(self.format))\n\u001b[0m\u001b[1;32m     87\u001b[0m             \u001b[0;32mfrom\u001b[0m \u001b[0;34m.\u001b[0m\u001b[0mcoo\u001b[0m \u001b[0;32mimport\u001b[0m \u001b[0mcoo_matrix\u001b[0m\u001b[0;34m\u001b[0m\u001b[0;34m\u001b[0m\u001b[0m\n",
            "\u001b[0;31mValueError\u001b[0m: unrecognized csr_matrix constructor usage",
            "\nDuring handling of the above exception, another exception occurred:\n",
            "\u001b[0;31mTypeError\u001b[0m                                 Traceback (most recent call last)",
            "\u001b[0;32m<ipython-input-181-512de301b5d5>\u001b[0m in \u001b[0;36m<module>\u001b[0;34m()\u001b[0m\n\u001b[0;32m----> 1\u001b[0;31m \u001b[0mget_ipython\u001b[0m\u001b[0;34m(\u001b[0m\u001b[0;34m)\u001b[0m\u001b[0;34m.\u001b[0m\u001b[0mrun_cell_magic\u001b[0m\u001b[0;34m(\u001b[0m\u001b[0;34m'time'\u001b[0m\u001b[0;34m,\u001b[0m \u001b[0;34m''\u001b[0m\u001b[0;34m,\u001b[0m \u001b[0;34m\"def XGBmodel(X_train,X_test,y_train,y_test,params):\\n    matrix_train = xgb.DMatrix(X_train,label=y_train)\\n    matrix_test = xgb.DMatrix(X_test,label=y_test)\\n    model=xgb.train(params=params_cpu,\\n                    dtrain=matrix_train,num_boost_round=50000, \\n                    early_stopping_rounds=100,evals=[(matrix_test,'test')])\\n    return model\\n\\nXGB_model = XGBmodel(X_train,X_test,y_train,y_test,params)\"\u001b[0m\u001b[0;34m)\u001b[0m\u001b[0;34m\u001b[0m\u001b[0;34m\u001b[0m\u001b[0m\n\u001b[0m",
            "\u001b[0;32m/usr/local/lib/python3.6/dist-packages/IPython/core/interactiveshell.py\u001b[0m in \u001b[0;36mrun_cell_magic\u001b[0;34m(self, magic_name, line, cell)\u001b[0m\n\u001b[1;32m   2115\u001b[0m             \u001b[0mmagic_arg_s\u001b[0m \u001b[0;34m=\u001b[0m \u001b[0mself\u001b[0m\u001b[0;34m.\u001b[0m\u001b[0mvar_expand\u001b[0m\u001b[0;34m(\u001b[0m\u001b[0mline\u001b[0m\u001b[0;34m,\u001b[0m \u001b[0mstack_depth\u001b[0m\u001b[0;34m)\u001b[0m\u001b[0;34m\u001b[0m\u001b[0;34m\u001b[0m\u001b[0m\n\u001b[1;32m   2116\u001b[0m             \u001b[0;32mwith\u001b[0m \u001b[0mself\u001b[0m\u001b[0;34m.\u001b[0m\u001b[0mbuiltin_trap\u001b[0m\u001b[0;34m:\u001b[0m\u001b[0;34m\u001b[0m\u001b[0;34m\u001b[0m\u001b[0m\n\u001b[0;32m-> 2117\u001b[0;31m                 \u001b[0mresult\u001b[0m \u001b[0;34m=\u001b[0m \u001b[0mfn\u001b[0m\u001b[0;34m(\u001b[0m\u001b[0mmagic_arg_s\u001b[0m\u001b[0;34m,\u001b[0m \u001b[0mcell\u001b[0m\u001b[0;34m)\u001b[0m\u001b[0;34m\u001b[0m\u001b[0;34m\u001b[0m\u001b[0m\n\u001b[0m\u001b[1;32m   2118\u001b[0m             \u001b[0;32mreturn\u001b[0m \u001b[0mresult\u001b[0m\u001b[0;34m\u001b[0m\u001b[0;34m\u001b[0m\u001b[0m\n\u001b[1;32m   2119\u001b[0m \u001b[0;34m\u001b[0m\u001b[0m\n",
            "\u001b[0;32m<decorator-gen-60>\u001b[0m in \u001b[0;36mtime\u001b[0;34m(self, line, cell, local_ns)\u001b[0m\n",
            "\u001b[0;32m/usr/local/lib/python3.6/dist-packages/IPython/core/magic.py\u001b[0m in \u001b[0;36m<lambda>\u001b[0;34m(f, *a, **k)\u001b[0m\n\u001b[1;32m    186\u001b[0m     \u001b[0;31m# but it's overkill for just that one bit of state.\u001b[0m\u001b[0;34m\u001b[0m\u001b[0;34m\u001b[0m\u001b[0;34m\u001b[0m\u001b[0m\n\u001b[1;32m    187\u001b[0m     \u001b[0;32mdef\u001b[0m \u001b[0mmagic_deco\u001b[0m\u001b[0;34m(\u001b[0m\u001b[0marg\u001b[0m\u001b[0;34m)\u001b[0m\u001b[0;34m:\u001b[0m\u001b[0;34m\u001b[0m\u001b[0;34m\u001b[0m\u001b[0m\n\u001b[0;32m--> 188\u001b[0;31m         \u001b[0mcall\u001b[0m \u001b[0;34m=\u001b[0m \u001b[0;32mlambda\u001b[0m \u001b[0mf\u001b[0m\u001b[0;34m,\u001b[0m \u001b[0;34m*\u001b[0m\u001b[0ma\u001b[0m\u001b[0;34m,\u001b[0m \u001b[0;34m**\u001b[0m\u001b[0mk\u001b[0m\u001b[0;34m:\u001b[0m \u001b[0mf\u001b[0m\u001b[0;34m(\u001b[0m\u001b[0;34m*\u001b[0m\u001b[0ma\u001b[0m\u001b[0;34m,\u001b[0m \u001b[0;34m**\u001b[0m\u001b[0mk\u001b[0m\u001b[0;34m)\u001b[0m\u001b[0;34m\u001b[0m\u001b[0;34m\u001b[0m\u001b[0m\n\u001b[0m\u001b[1;32m    189\u001b[0m \u001b[0;34m\u001b[0m\u001b[0m\n\u001b[1;32m    190\u001b[0m         \u001b[0;32mif\u001b[0m \u001b[0mcallable\u001b[0m\u001b[0;34m(\u001b[0m\u001b[0marg\u001b[0m\u001b[0;34m)\u001b[0m\u001b[0;34m:\u001b[0m\u001b[0;34m\u001b[0m\u001b[0;34m\u001b[0m\u001b[0m\n",
            "\u001b[0;32m/usr/local/lib/python3.6/dist-packages/IPython/core/magics/execution.py\u001b[0m in \u001b[0;36mtime\u001b[0;34m(self, line, cell, local_ns)\u001b[0m\n\u001b[1;32m   1191\u001b[0m         \u001b[0;32melse\u001b[0m\u001b[0;34m:\u001b[0m\u001b[0;34m\u001b[0m\u001b[0;34m\u001b[0m\u001b[0m\n\u001b[1;32m   1192\u001b[0m             \u001b[0mst\u001b[0m \u001b[0;34m=\u001b[0m \u001b[0mclock2\u001b[0m\u001b[0;34m(\u001b[0m\u001b[0;34m)\u001b[0m\u001b[0;34m\u001b[0m\u001b[0;34m\u001b[0m\u001b[0m\n\u001b[0;32m-> 1193\u001b[0;31m             \u001b[0mexec\u001b[0m\u001b[0;34m(\u001b[0m\u001b[0mcode\u001b[0m\u001b[0;34m,\u001b[0m \u001b[0mglob\u001b[0m\u001b[0;34m,\u001b[0m \u001b[0mlocal_ns\u001b[0m\u001b[0;34m)\u001b[0m\u001b[0;34m\u001b[0m\u001b[0;34m\u001b[0m\u001b[0m\n\u001b[0m\u001b[1;32m   1194\u001b[0m             \u001b[0mend\u001b[0m \u001b[0;34m=\u001b[0m \u001b[0mclock2\u001b[0m\u001b[0;34m(\u001b[0m\u001b[0;34m)\u001b[0m\u001b[0;34m\u001b[0m\u001b[0;34m\u001b[0m\u001b[0m\n\u001b[1;32m   1195\u001b[0m             \u001b[0mout\u001b[0m \u001b[0;34m=\u001b[0m \u001b[0;32mNone\u001b[0m\u001b[0;34m\u001b[0m\u001b[0;34m\u001b[0m\u001b[0m\n",
            "\u001b[0;32m<timed exec>\u001b[0m in \u001b[0;36m<module>\u001b[0;34m()\u001b[0m\n",
            "\u001b[0;32m<timed exec>\u001b[0m in \u001b[0;36mXGBmodel\u001b[0;34m(X_train, X_test, y_train, y_test, params)\u001b[0m\n",
            "\u001b[0;32m/usr/local/lib/python3.6/site-packages/xgboost/core.py\u001b[0m in \u001b[0;36m__init__\u001b[0;34m(self, data, label, missing, weight, silent, feature_names, feature_types, nthread)\u001b[0m\n\u001b[1;32m    411\u001b[0m             \u001b[0;32mexcept\u001b[0m\u001b[0;34m:\u001b[0m\u001b[0;34m\u001b[0m\u001b[0;34m\u001b[0m\u001b[0m\n\u001b[1;32m    412\u001b[0m                 raise TypeError('can not initialize DMatrix from'\n\u001b[0;32m--> 413\u001b[0;31m                                 ' {}'.format(type(data).__name__))\n\u001b[0m\u001b[1;32m    414\u001b[0m \u001b[0;34m\u001b[0m\u001b[0m\n\u001b[1;32m    415\u001b[0m         \u001b[0;32mif\u001b[0m \u001b[0mlabel\u001b[0m \u001b[0;32mis\u001b[0m \u001b[0;32mnot\u001b[0m \u001b[0;32mNone\u001b[0m\u001b[0;34m:\u001b[0m\u001b[0;34m\u001b[0m\u001b[0;34m\u001b[0m\u001b[0m\n",
            "\u001b[0;31mTypeError\u001b[0m: can not initialize DMatrix from DataFrame"
          ]
        }
      ]
    },
    {
      "cell_type": "markdown",
      "metadata": {
        "id": "TiLcYHdhPrM9"
      },
      "source": [
        "- https://docs.dask.org/en/latest/dataframe-api.html#dask.dataframe.DataFrame.to_delayed\n",
        "\n",
        "- https://github.com/dask/dask-ml/issues/521"
      ]
    },
    {
      "cell_type": "code",
      "metadata": {
        "id": "ZRx5rkVTeCLV"
      },
      "source": [
        "timetaken_gpu=time.time()-starttime\n",
        "print(\"GPU time taken for XG Boost model: \",timetaken_gpu_xgb)"
      ],
      "execution_count": null,
      "outputs": []
    },
    {
      "cell_type": "code",
      "metadata": {
        "id": "Ng3ZjuQbxPlR"
      },
      "source": [
        "y_test_pred = XGB_model.predict(xgb.DMatrix(X_test))\n",
        "score_XGB_GPU = calc_R2(y_test_pred, 'XGBoost GPU')\n",
        "\n",
        "y_test_pred_xgb = y_test_pred"
      ],
      "execution_count": null,
      "outputs": []
    },
    {
      "cell_type": "code",
      "metadata": {
        "id": "NYIYJvOpP3Py"
      },
      "source": [
        "y_pred_XGB = XGB_model.predict(xgb.DMatrix(test), ntree_limit = XGB_model.best_ntree_limit).tolist()\n",
        "\n",
        "save_model_csv(y_pred_XGB, 'submission_XGboost_GPU')"
      ],
      "execution_count": null,
      "outputs": []
    },
    {
      "cell_type": "markdown",
      "metadata": {
        "id": "BiCY_q1uPEyD"
      },
      "source": [
        "## XG Boost Dask model for distributed clients (Not running with one client)\n",
        "\n",
        "- https://www.kaggle.com/sandeepkumar121995/eda-data-cleaning-xg-boost\n",
        "- https://www.kaggle.com/gunbl4d3/xgboost-ing-taxi-fares\n",
        "- https://www.kaggle.com/aerdem4/m5-lofo-importance-on-gpu-via-rapids-xgboost\n",
        "- https://www.kaggle.com/xhlulu/ieee-fraud-xgboost-with-gpu-fit-in-40s\n",
        "\n"
      ]
    },
    {
      "cell_type": "markdown",
      "metadata": {
        "id": "oCWFrhxye0Aw"
      },
      "source": [
        "Running into several problems with XG Boost. Python Kernel stops witout error message \t\n",
        "- what(): parallel_for failed: cudaErrorNoKernelImageForDevice: no kernel image is available for execution on the device\n",
        "- https://www.kaggle.com/c/otto-group-product-classification-challenge/discussion/13308\n",
        "- https://github.com/CannyLab/tsne-cuda/issues/18\n",
        "\n",
        "Hypothesis: There could be an error when loading a cudf dataset in XGBoost. Seems to not happen when using pandas"
      ]
    },
    {
      "cell_type": "code",
      "metadata": {
        "id": "Rbl8J8_fFc_b"
      },
      "source": [
        ""
      ],
      "execution_count": null,
      "outputs": []
    },
    {
      "cell_type": "code",
      "metadata": {
        "id": "9e56ryuTPMGG",
        "outputId": "0d67c55f-29e0-4b8d-a10e-874fcff042ef",
        "colab": {
          "base_uri": "https://localhost:8080/",
          "height": 127
        }
      },
      "source": [
        "X=train.drop(['fare_amount'],axis=1)\n",
        "y=train['fare_amount']\n",
        "\n",
        "X_train, X_test, y_train, y_test = train_test_split(X,y, test_size=0.2)\n",
        "print(\"Number of records in training data \",X_train.shape[0])\n",
        "print(\"Number of records in validation data \",X_test.shape[0])\n",
        "print(X_train.shape)\n",
        "print(X_test.shape)\n",
        "print(y_train.shape)\n",
        "print(y_test.shape)"
      ],
      "execution_count": null,
      "outputs": [
        {
          "output_type": "stream",
          "text": [
            "Number of records in training data  39130\n",
            "Number of records in validation data  9782\n",
            "(39130, 6)\n",
            "(9782, 6)\n",
            "(39130,)\n",
            "(9782,)\n"
          ],
          "name": "stdout"
        }
      ]
    },
    {
      "cell_type": "code",
      "metadata": {
        "id": "xmtoJuiDRiZ8",
        "outputId": "3b77ae70-3e07-4a41-f257-c5f6e6d65397",
        "colab": {
          "base_uri": "https://localhost:8080/",
          "height": 582
        }
      },
      "source": [
        "y_train['fare_amount']"
      ],
      "execution_count": null,
      "outputs": [
        {
          "output_type": "error",
          "ename": "TypingError",
          "evalue": "ignored",
          "traceback": [
            "\u001b[0;31m---------------------------------------------------------------------------\u001b[0m",
            "\u001b[0;31mTypingError\u001b[0m                               Traceback (most recent call last)",
            "\u001b[0;32m<ipython-input-110-826cb3240a05>\u001b[0m in \u001b[0;36m<module>\u001b[0;34m()\u001b[0m\n\u001b[0;32m----> 1\u001b[0;31m \u001b[0my_train\u001b[0m\u001b[0;34m[\u001b[0m\u001b[0;34m'fare_amount'\u001b[0m\u001b[0;34m]\u001b[0m\u001b[0;34m\u001b[0m\u001b[0;34m\u001b[0m\u001b[0m\n\u001b[0m",
            "\u001b[0;32m/usr/local/lib/python3.6/site-packages/cudf/core/series.py\u001b[0m in \u001b[0;36m__getitem__\u001b[0;34m(self, arg)\u001b[0m\n\u001b[1;32m    755\u001b[0m             \u001b[0;32mreturn\u001b[0m \u001b[0mself\u001b[0m\u001b[0;34m.\u001b[0m\u001b[0miloc\u001b[0m\u001b[0;34m[\u001b[0m\u001b[0marg\u001b[0m\u001b[0;34m]\u001b[0m\u001b[0;34m\u001b[0m\u001b[0;34m\u001b[0m\u001b[0m\n\u001b[1;32m    756\u001b[0m         \u001b[0;32melse\u001b[0m\u001b[0;34m:\u001b[0m\u001b[0;34m\u001b[0m\u001b[0;34m\u001b[0m\u001b[0m\n\u001b[0;32m--> 757\u001b[0;31m             \u001b[0;32mreturn\u001b[0m \u001b[0mself\u001b[0m\u001b[0;34m.\u001b[0m\u001b[0mloc\u001b[0m\u001b[0;34m[\u001b[0m\u001b[0marg\u001b[0m\u001b[0;34m]\u001b[0m\u001b[0;34m\u001b[0m\u001b[0;34m\u001b[0m\u001b[0m\n\u001b[0m\u001b[1;32m    758\u001b[0m \u001b[0;34m\u001b[0m\u001b[0m\n\u001b[1;32m    759\u001b[0m     \u001b[0;32mdef\u001b[0m \u001b[0m__setitem__\u001b[0m\u001b[0;34m(\u001b[0m\u001b[0mself\u001b[0m\u001b[0;34m,\u001b[0m \u001b[0mkey\u001b[0m\u001b[0;34m,\u001b[0m \u001b[0mvalue\u001b[0m\u001b[0;34m)\u001b[0m\u001b[0;34m:\u001b[0m\u001b[0;34m\u001b[0m\u001b[0;34m\u001b[0m\u001b[0m\n",
            "\u001b[0;32m/usr/local/lib/python3.6/site-packages/cudf/core/indexing.py\u001b[0m in \u001b[0;36m__getitem__\u001b[0;34m(self, arg)\u001b[0m\n\u001b[1;32m     92\u001b[0m     \u001b[0;32mdef\u001b[0m \u001b[0m__getitem__\u001b[0m\u001b[0;34m(\u001b[0m\u001b[0mself\u001b[0m\u001b[0;34m,\u001b[0m \u001b[0marg\u001b[0m\u001b[0;34m)\u001b[0m\u001b[0;34m:\u001b[0m\u001b[0;34m\u001b[0m\u001b[0;34m\u001b[0m\u001b[0m\n\u001b[1;32m     93\u001b[0m         \u001b[0;32mtry\u001b[0m\u001b[0;34m:\u001b[0m\u001b[0;34m\u001b[0m\u001b[0;34m\u001b[0m\u001b[0m\n\u001b[0;32m---> 94\u001b[0;31m             \u001b[0marg\u001b[0m \u001b[0;34m=\u001b[0m \u001b[0mself\u001b[0m\u001b[0;34m.\u001b[0m\u001b[0m_loc_to_iloc\u001b[0m\u001b[0;34m(\u001b[0m\u001b[0marg\u001b[0m\u001b[0;34m)\u001b[0m\u001b[0;34m\u001b[0m\u001b[0;34m\u001b[0m\u001b[0m\n\u001b[0m\u001b[1;32m     95\u001b[0m         \u001b[0;32mexcept\u001b[0m \u001b[0;34m(\u001b[0m\u001b[0mTypeError\u001b[0m\u001b[0;34m,\u001b[0m \u001b[0mKeyError\u001b[0m\u001b[0;34m,\u001b[0m \u001b[0mIndexError\u001b[0m\u001b[0;34m,\u001b[0m \u001b[0mValueError\u001b[0m\u001b[0;34m)\u001b[0m\u001b[0;34m:\u001b[0m\u001b[0;34m\u001b[0m\u001b[0;34m\u001b[0m\u001b[0m\n\u001b[1;32m     96\u001b[0m             \u001b[0;32mraise\u001b[0m \u001b[0mIndexError\u001b[0m\u001b[0;34m(\u001b[0m\u001b[0;34m\"Failed to convert index to appropirate row\"\u001b[0m\u001b[0;34m)\u001b[0m\u001b[0;34m\u001b[0m\u001b[0;34m\u001b[0m\u001b[0m\n",
            "\u001b[0;32m/usr/local/lib/python3.6/site-packages/cudf/core/indexing.py\u001b[0m in \u001b[0;36m_loc_to_iloc\u001b[0;34m(self, arg)\u001b[0m\n\u001b[1;32m    109\u001b[0m             \u001b[0;32mtry\u001b[0m\u001b[0;34m:\u001b[0m\u001b[0;34m\u001b[0m\u001b[0;34m\u001b[0m\u001b[0m\n\u001b[1;32m    110\u001b[0m                 found_index = self._sr.index._values.find_first_value(\n\u001b[0;32m--> 111\u001b[0;31m                     \u001b[0marg\u001b[0m\u001b[0;34m,\u001b[0m \u001b[0mclosest\u001b[0m\u001b[0;34m=\u001b[0m\u001b[0;32mFalse\u001b[0m\u001b[0;34m\u001b[0m\u001b[0;34m\u001b[0m\u001b[0m\n\u001b[0m\u001b[1;32m    112\u001b[0m                 )\n\u001b[1;32m    113\u001b[0m                 \u001b[0;32mreturn\u001b[0m \u001b[0mfound_index\u001b[0m\u001b[0;34m\u001b[0m\u001b[0;34m\u001b[0m\u001b[0m\n",
            "\u001b[0;32m/usr/local/lib/python3.6/site-packages/cudf/core/column/numerical.py\u001b[0m in \u001b[0;36mfind_first_value\u001b[0;34m(self, value, closest)\u001b[0m\n\u001b[1;32m    326\u001b[0m         \u001b[0mfound\u001b[0m \u001b[0;34m=\u001b[0m \u001b[0;36m0\u001b[0m\u001b[0;34m\u001b[0m\u001b[0;34m\u001b[0m\u001b[0m\n\u001b[1;32m    327\u001b[0m         \u001b[0;32mif\u001b[0m \u001b[0mlen\u001b[0m\u001b[0;34m(\u001b[0m\u001b[0mself\u001b[0m\u001b[0;34m)\u001b[0m\u001b[0;34m:\u001b[0m\u001b[0;34m\u001b[0m\u001b[0;34m\u001b[0m\u001b[0m\n\u001b[0;32m--> 328\u001b[0;31m             \u001b[0mfound\u001b[0m \u001b[0;34m=\u001b[0m \u001b[0mcudautils\u001b[0m\u001b[0;34m.\u001b[0m\u001b[0mfind_first\u001b[0m\u001b[0;34m(\u001b[0m\u001b[0mself\u001b[0m\u001b[0;34m.\u001b[0m\u001b[0mdata_array_view\u001b[0m\u001b[0;34m,\u001b[0m \u001b[0mvalue\u001b[0m\u001b[0;34m)\u001b[0m\u001b[0;34m\u001b[0m\u001b[0;34m\u001b[0m\u001b[0m\n\u001b[0m\u001b[1;32m    329\u001b[0m         \u001b[0;32mif\u001b[0m \u001b[0mfound\u001b[0m \u001b[0;34m==\u001b[0m \u001b[0;34m-\u001b[0m\u001b[0;36m1\u001b[0m \u001b[0;32mand\u001b[0m \u001b[0mself\u001b[0m\u001b[0;34m.\u001b[0m\u001b[0mis_monotonic\u001b[0m \u001b[0;32mand\u001b[0m \u001b[0mclosest\u001b[0m\u001b[0;34m:\u001b[0m\u001b[0;34m\u001b[0m\u001b[0;34m\u001b[0m\u001b[0m\n\u001b[1;32m    330\u001b[0m             \u001b[0;32mif\u001b[0m \u001b[0mvalue\u001b[0m \u001b[0;34m<\u001b[0m \u001b[0mself\u001b[0m\u001b[0;34m.\u001b[0m\u001b[0mmin\u001b[0m\u001b[0;34m(\u001b[0m\u001b[0;34m)\u001b[0m\u001b[0;34m:\u001b[0m\u001b[0;34m\u001b[0m\u001b[0;34m\u001b[0m\u001b[0m\n",
            "\u001b[0;32m/usr/local/lib/python3.6/site-packages/cudf/utils/cudautils.py\u001b[0m in \u001b[0;36mfind_first\u001b[0;34m(arr, val, compare)\u001b[0m\n\u001b[1;32m    200\u001b[0m             \u001b[0;32melse\u001b[0m\u001b[0;34m:\u001b[0m\u001b[0;34m\u001b[0m\u001b[0;34m\u001b[0m\u001b[0m\n\u001b[1;32m    201\u001b[0m                 gpu_mark_found_int.forall(found.size)(\n\u001b[0;32m--> 202\u001b[0;31m                     \u001b[0marr\u001b[0m\u001b[0;34m,\u001b[0m \u001b[0mval\u001b[0m\u001b[0;34m,\u001b[0m \u001b[0mfound\u001b[0m\u001b[0;34m,\u001b[0m \u001b[0marr\u001b[0m\u001b[0;34m.\u001b[0m\u001b[0msize\u001b[0m\u001b[0;34m\u001b[0m\u001b[0;34m\u001b[0m\u001b[0m\n\u001b[0m\u001b[1;32m    203\u001b[0m                 )\n\u001b[1;32m    204\u001b[0m     \u001b[0;32mfrom\u001b[0m \u001b[0mcudf\u001b[0m\u001b[0;34m.\u001b[0m\u001b[0mcore\u001b[0m\u001b[0;34m.\u001b[0m\u001b[0mcolumn\u001b[0m \u001b[0;32mimport\u001b[0m \u001b[0mas_column\u001b[0m\u001b[0;34m\u001b[0m\u001b[0;34m\u001b[0m\u001b[0m\n",
            "\u001b[0;32m/usr/local/lib/python3.6/site-packages/numba/cuda/compiler.py\u001b[0m in \u001b[0;36m__call__\u001b[0;34m(self, *args)\u001b[0m\n\u001b[1;32m    338\u001b[0m \u001b[0;34m\u001b[0m\u001b[0m\n\u001b[1;32m    339\u001b[0m         \u001b[0;32mif\u001b[0m \u001b[0misinstance\u001b[0m\u001b[0;34m(\u001b[0m\u001b[0mself\u001b[0m\u001b[0;34m.\u001b[0m\u001b[0mkernel\u001b[0m\u001b[0;34m,\u001b[0m \u001b[0mAutoJitCUDAKernel\u001b[0m\u001b[0;34m)\u001b[0m\u001b[0;34m:\u001b[0m\u001b[0;34m\u001b[0m\u001b[0;34m\u001b[0m\u001b[0m\n\u001b[0;32m--> 340\u001b[0;31m             \u001b[0mkernel\u001b[0m \u001b[0;34m=\u001b[0m \u001b[0mself\u001b[0m\u001b[0;34m.\u001b[0m\u001b[0mkernel\u001b[0m\u001b[0;34m.\u001b[0m\u001b[0mspecialize\u001b[0m\u001b[0;34m(\u001b[0m\u001b[0;34m*\u001b[0m\u001b[0margs\u001b[0m\u001b[0;34m)\u001b[0m\u001b[0;34m\u001b[0m\u001b[0;34m\u001b[0m\u001b[0m\n\u001b[0m\u001b[1;32m    341\u001b[0m         \u001b[0;32melse\u001b[0m\u001b[0;34m:\u001b[0m\u001b[0;34m\u001b[0m\u001b[0;34m\u001b[0m\u001b[0m\n\u001b[1;32m    342\u001b[0m             \u001b[0mkernel\u001b[0m \u001b[0;34m=\u001b[0m \u001b[0mself\u001b[0m\u001b[0;34m.\u001b[0m\u001b[0mkernel\u001b[0m\u001b[0;34m\u001b[0m\u001b[0;34m\u001b[0m\u001b[0m\n",
            "\u001b[0;32m/usr/local/lib/python3.6/site-packages/numba/cuda/compiler.py\u001b[0m in \u001b[0;36mspecialize\u001b[0;34m(self, *args)\u001b[0m\n\u001b[1;32m    842\u001b[0m         argtypes = tuple(\n\u001b[1;32m    843\u001b[0m             [self.typingctx.resolve_argument_type(a) for a in args])\n\u001b[0;32m--> 844\u001b[0;31m         \u001b[0mkernel\u001b[0m \u001b[0;34m=\u001b[0m \u001b[0mself\u001b[0m\u001b[0;34m.\u001b[0m\u001b[0mcompile\u001b[0m\u001b[0;34m(\u001b[0m\u001b[0margtypes\u001b[0m\u001b[0;34m)\u001b[0m\u001b[0;34m\u001b[0m\u001b[0;34m\u001b[0m\u001b[0m\n\u001b[0m\u001b[1;32m    845\u001b[0m         \u001b[0;32mreturn\u001b[0m \u001b[0mkernel\u001b[0m\u001b[0;34m\u001b[0m\u001b[0;34m\u001b[0m\u001b[0m\n\u001b[1;32m    846\u001b[0m \u001b[0;34m\u001b[0m\u001b[0m\n",
            "\u001b[0;32m/usr/local/lib/python3.6/site-packages/numba/cuda/compiler.py\u001b[0m in \u001b[0;36mcompile\u001b[0;34m(self, sig)\u001b[0m\n\u001b[1;32m    858\u001b[0m                 \u001b[0mself\u001b[0m\u001b[0;34m.\u001b[0m\u001b[0mtargetoptions\u001b[0m\u001b[0;34m[\u001b[0m\u001b[0;34m'link'\u001b[0m\u001b[0;34m]\u001b[0m \u001b[0;34m=\u001b[0m \u001b[0;34m(\u001b[0m\u001b[0;34m)\u001b[0m\u001b[0;34m\u001b[0m\u001b[0;34m\u001b[0m\u001b[0m\n\u001b[1;32m    859\u001b[0m             kernel = compile_kernel(self.py_func, argtypes,\n\u001b[0;32m--> 860\u001b[0;31m                                     **self.targetoptions)\n\u001b[0m\u001b[1;32m    861\u001b[0m             \u001b[0mself\u001b[0m\u001b[0;34m.\u001b[0m\u001b[0mdefinitions\u001b[0m\u001b[0;34m[\u001b[0m\u001b[0;34m(\u001b[0m\u001b[0mcc\u001b[0m\u001b[0;34m,\u001b[0m \u001b[0margtypes\u001b[0m\u001b[0;34m)\u001b[0m\u001b[0;34m]\u001b[0m \u001b[0;34m=\u001b[0m \u001b[0mkernel\u001b[0m\u001b[0;34m\u001b[0m\u001b[0;34m\u001b[0m\u001b[0m\n\u001b[1;32m    862\u001b[0m             \u001b[0;32mif\u001b[0m \u001b[0mself\u001b[0m\u001b[0;34m.\u001b[0m\u001b[0mbind\u001b[0m\u001b[0;34m:\u001b[0m\u001b[0;34m\u001b[0m\u001b[0;34m\u001b[0m\u001b[0m\n",
            "\u001b[0;32m/usr/local/lib/python3.6/site-packages/numba/core/compiler_lock.py\u001b[0m in \u001b[0;36m_acquire_compile_lock\u001b[0;34m(*args, **kwargs)\u001b[0m\n\u001b[1;32m     30\u001b[0m         \u001b[0;32mdef\u001b[0m \u001b[0m_acquire_compile_lock\u001b[0m\u001b[0;34m(\u001b[0m\u001b[0;34m*\u001b[0m\u001b[0margs\u001b[0m\u001b[0;34m,\u001b[0m \u001b[0;34m**\u001b[0m\u001b[0mkwargs\u001b[0m\u001b[0;34m)\u001b[0m\u001b[0;34m:\u001b[0m\u001b[0;34m\u001b[0m\u001b[0;34m\u001b[0m\u001b[0m\n\u001b[1;32m     31\u001b[0m             \u001b[0;32mwith\u001b[0m \u001b[0mself\u001b[0m\u001b[0;34m:\u001b[0m\u001b[0;34m\u001b[0m\u001b[0;34m\u001b[0m\u001b[0m\n\u001b[0;32m---> 32\u001b[0;31m                 \u001b[0;32mreturn\u001b[0m \u001b[0mfunc\u001b[0m\u001b[0;34m(\u001b[0m\u001b[0;34m*\u001b[0m\u001b[0margs\u001b[0m\u001b[0;34m,\u001b[0m \u001b[0;34m**\u001b[0m\u001b[0mkwargs\u001b[0m\u001b[0;34m)\u001b[0m\u001b[0;34m\u001b[0m\u001b[0;34m\u001b[0m\u001b[0m\n\u001b[0m\u001b[1;32m     33\u001b[0m         \u001b[0;32mreturn\u001b[0m \u001b[0m_acquire_compile_lock\u001b[0m\u001b[0;34m\u001b[0m\u001b[0;34m\u001b[0m\u001b[0m\n\u001b[1;32m     34\u001b[0m \u001b[0;34m\u001b[0m\u001b[0m\n",
            "\u001b[0;32m/usr/local/lib/python3.6/site-packages/numba/cuda/compiler.py\u001b[0m in \u001b[0;36mcompile_kernel\u001b[0;34m(pyfunc, args, link, debug, inline, fastmath, extensions, max_registers)\u001b[0m\n\u001b[1;32m     53\u001b[0m def compile_kernel(pyfunc, args, link, debug=False, inline=False,\n\u001b[1;32m     54\u001b[0m                    fastmath=False, extensions=[], max_registers=None):\n\u001b[0;32m---> 55\u001b[0;31m     \u001b[0mcres\u001b[0m \u001b[0;34m=\u001b[0m \u001b[0mcompile_cuda\u001b[0m\u001b[0;34m(\u001b[0m\u001b[0mpyfunc\u001b[0m\u001b[0;34m,\u001b[0m \u001b[0mtypes\u001b[0m\u001b[0;34m.\u001b[0m\u001b[0mvoid\u001b[0m\u001b[0;34m,\u001b[0m \u001b[0margs\u001b[0m\u001b[0;34m,\u001b[0m \u001b[0mdebug\u001b[0m\u001b[0;34m=\u001b[0m\u001b[0mdebug\u001b[0m\u001b[0;34m,\u001b[0m \u001b[0minline\u001b[0m\u001b[0;34m=\u001b[0m\u001b[0minline\u001b[0m\u001b[0;34m)\u001b[0m\u001b[0;34m\u001b[0m\u001b[0;34m\u001b[0m\u001b[0m\n\u001b[0m\u001b[1;32m     56\u001b[0m     \u001b[0mfname\u001b[0m \u001b[0;34m=\u001b[0m \u001b[0mcres\u001b[0m\u001b[0;34m.\u001b[0m\u001b[0mfndesc\u001b[0m\u001b[0;34m.\u001b[0m\u001b[0mllvm_func_name\u001b[0m\u001b[0;34m\u001b[0m\u001b[0;34m\u001b[0m\u001b[0m\n\u001b[1;32m     57\u001b[0m     lib, kernel = cres.target_context.prepare_cuda_kernel(cres.library, fname,\n",
            "\u001b[0;32m/usr/local/lib/python3.6/site-packages/numba/core/compiler_lock.py\u001b[0m in \u001b[0;36m_acquire_compile_lock\u001b[0;34m(*args, **kwargs)\u001b[0m\n\u001b[1;32m     30\u001b[0m         \u001b[0;32mdef\u001b[0m \u001b[0m_acquire_compile_lock\u001b[0m\u001b[0;34m(\u001b[0m\u001b[0;34m*\u001b[0m\u001b[0margs\u001b[0m\u001b[0;34m,\u001b[0m \u001b[0;34m**\u001b[0m\u001b[0mkwargs\u001b[0m\u001b[0;34m)\u001b[0m\u001b[0;34m:\u001b[0m\u001b[0;34m\u001b[0m\u001b[0;34m\u001b[0m\u001b[0m\n\u001b[1;32m     31\u001b[0m             \u001b[0;32mwith\u001b[0m \u001b[0mself\u001b[0m\u001b[0;34m:\u001b[0m\u001b[0;34m\u001b[0m\u001b[0;34m\u001b[0m\u001b[0m\n\u001b[0;32m---> 32\u001b[0;31m                 \u001b[0;32mreturn\u001b[0m \u001b[0mfunc\u001b[0m\u001b[0;34m(\u001b[0m\u001b[0;34m*\u001b[0m\u001b[0margs\u001b[0m\u001b[0;34m,\u001b[0m \u001b[0;34m**\u001b[0m\u001b[0mkwargs\u001b[0m\u001b[0;34m)\u001b[0m\u001b[0;34m\u001b[0m\u001b[0;34m\u001b[0m\u001b[0m\n\u001b[0m\u001b[1;32m     33\u001b[0m         \u001b[0;32mreturn\u001b[0m \u001b[0m_acquire_compile_lock\u001b[0m\u001b[0;34m\u001b[0m\u001b[0;34m\u001b[0m\u001b[0m\n\u001b[1;32m     34\u001b[0m \u001b[0;34m\u001b[0m\u001b[0m\n",
            "\u001b[0;32m/usr/local/lib/python3.6/site-packages/numba/cuda/compiler.py\u001b[0m in \u001b[0;36mcompile_cuda\u001b[0;34m(pyfunc, return_type, args, debug, inline)\u001b[0m\n\u001b[1;32m     42\u001b[0m                                   \u001b[0mreturn_type\u001b[0m\u001b[0;34m=\u001b[0m\u001b[0mreturn_type\u001b[0m\u001b[0;34m,\u001b[0m\u001b[0;34m\u001b[0m\u001b[0;34m\u001b[0m\u001b[0m\n\u001b[1;32m     43\u001b[0m                                   \u001b[0mflags\u001b[0m\u001b[0;34m=\u001b[0m\u001b[0mflags\u001b[0m\u001b[0;34m,\u001b[0m\u001b[0;34m\u001b[0m\u001b[0;34m\u001b[0m\u001b[0m\n\u001b[0;32m---> 44\u001b[0;31m                                   locals={})\n\u001b[0m\u001b[1;32m     45\u001b[0m \u001b[0;34m\u001b[0m\u001b[0m\n\u001b[1;32m     46\u001b[0m     \u001b[0mlibrary\u001b[0m \u001b[0;34m=\u001b[0m \u001b[0mcres\u001b[0m\u001b[0;34m.\u001b[0m\u001b[0mlibrary\u001b[0m\u001b[0;34m\u001b[0m\u001b[0;34m\u001b[0m\u001b[0m\n",
            "\u001b[0;32m/usr/local/lib/python3.6/site-packages/numba/core/compiler.py\u001b[0m in \u001b[0;36mcompile_extra\u001b[0;34m(typingctx, targetctx, func, args, return_type, flags, locals, library, pipeline_class)\u001b[0m\n\u001b[1;32m    601\u001b[0m     pipeline = pipeline_class(typingctx, targetctx, library,\n\u001b[1;32m    602\u001b[0m                               args, return_type, flags, locals)\n\u001b[0;32m--> 603\u001b[0;31m     \u001b[0;32mreturn\u001b[0m \u001b[0mpipeline\u001b[0m\u001b[0;34m.\u001b[0m\u001b[0mcompile_extra\u001b[0m\u001b[0;34m(\u001b[0m\u001b[0mfunc\u001b[0m\u001b[0;34m)\u001b[0m\u001b[0;34m\u001b[0m\u001b[0;34m\u001b[0m\u001b[0m\n\u001b[0m\u001b[1;32m    604\u001b[0m \u001b[0;34m\u001b[0m\u001b[0m\n\u001b[1;32m    605\u001b[0m \u001b[0;34m\u001b[0m\u001b[0m\n",
            "\u001b[0;32m/usr/local/lib/python3.6/site-packages/numba/core/compiler.py\u001b[0m in \u001b[0;36mcompile_extra\u001b[0;34m(self, func)\u001b[0m\n\u001b[1;32m    337\u001b[0m         \u001b[0mself\u001b[0m\u001b[0;34m.\u001b[0m\u001b[0mstate\u001b[0m\u001b[0;34m.\u001b[0m\u001b[0mlifted\u001b[0m \u001b[0;34m=\u001b[0m \u001b[0;34m(\u001b[0m\u001b[0;34m)\u001b[0m\u001b[0;34m\u001b[0m\u001b[0;34m\u001b[0m\u001b[0m\n\u001b[1;32m    338\u001b[0m         \u001b[0mself\u001b[0m\u001b[0;34m.\u001b[0m\u001b[0mstate\u001b[0m\u001b[0;34m.\u001b[0m\u001b[0mlifted_from\u001b[0m \u001b[0;34m=\u001b[0m \u001b[0;32mNone\u001b[0m\u001b[0;34m\u001b[0m\u001b[0;34m\u001b[0m\u001b[0m\n\u001b[0;32m--> 339\u001b[0;31m         \u001b[0;32mreturn\u001b[0m \u001b[0mself\u001b[0m\u001b[0;34m.\u001b[0m\u001b[0m_compile_bytecode\u001b[0m\u001b[0;34m(\u001b[0m\u001b[0;34m)\u001b[0m\u001b[0;34m\u001b[0m\u001b[0;34m\u001b[0m\u001b[0m\n\u001b[0m\u001b[1;32m    340\u001b[0m \u001b[0;34m\u001b[0m\u001b[0m\n\u001b[1;32m    341\u001b[0m     \u001b[0;32mdef\u001b[0m \u001b[0mcompile_ir\u001b[0m\u001b[0;34m(\u001b[0m\u001b[0mself\u001b[0m\u001b[0;34m,\u001b[0m \u001b[0mfunc_ir\u001b[0m\u001b[0;34m,\u001b[0m \u001b[0mlifted\u001b[0m\u001b[0;34m=\u001b[0m\u001b[0;34m(\u001b[0m\u001b[0;34m)\u001b[0m\u001b[0;34m,\u001b[0m \u001b[0mlifted_from\u001b[0m\u001b[0;34m=\u001b[0m\u001b[0;32mNone\u001b[0m\u001b[0;34m)\u001b[0m\u001b[0;34m:\u001b[0m\u001b[0;34m\u001b[0m\u001b[0;34m\u001b[0m\u001b[0m\n",
            "\u001b[0;32m/usr/local/lib/python3.6/site-packages/numba/core/compiler.py\u001b[0m in \u001b[0;36m_compile_bytecode\u001b[0;34m(self)\u001b[0m\n\u001b[1;32m    399\u001b[0m         \"\"\"\n\u001b[1;32m    400\u001b[0m         \u001b[0;32massert\u001b[0m \u001b[0mself\u001b[0m\u001b[0;34m.\u001b[0m\u001b[0mstate\u001b[0m\u001b[0;34m.\u001b[0m\u001b[0mfunc_ir\u001b[0m \u001b[0;32mis\u001b[0m \u001b[0;32mNone\u001b[0m\u001b[0;34m\u001b[0m\u001b[0;34m\u001b[0m\u001b[0m\n\u001b[0;32m--> 401\u001b[0;31m         \u001b[0;32mreturn\u001b[0m \u001b[0mself\u001b[0m\u001b[0;34m.\u001b[0m\u001b[0m_compile_core\u001b[0m\u001b[0;34m(\u001b[0m\u001b[0;34m)\u001b[0m\u001b[0;34m\u001b[0m\u001b[0;34m\u001b[0m\u001b[0m\n\u001b[0m\u001b[1;32m    402\u001b[0m \u001b[0;34m\u001b[0m\u001b[0m\n\u001b[1;32m    403\u001b[0m     \u001b[0;32mdef\u001b[0m \u001b[0m_compile_ir\u001b[0m\u001b[0;34m(\u001b[0m\u001b[0mself\u001b[0m\u001b[0;34m)\u001b[0m\u001b[0;34m:\u001b[0m\u001b[0;34m\u001b[0m\u001b[0;34m\u001b[0m\u001b[0m\n",
            "\u001b[0;32m/usr/local/lib/python3.6/site-packages/numba/core/compiler.py\u001b[0m in \u001b[0;36m_compile_core\u001b[0;34m(self)\u001b[0m\n\u001b[1;32m    379\u001b[0m                 \u001b[0mself\u001b[0m\u001b[0;34m.\u001b[0m\u001b[0mstate\u001b[0m\u001b[0;34m.\u001b[0m\u001b[0mstatus\u001b[0m\u001b[0;34m.\u001b[0m\u001b[0mfail_reason\u001b[0m \u001b[0;34m=\u001b[0m \u001b[0me\u001b[0m\u001b[0;34m\u001b[0m\u001b[0;34m\u001b[0m\u001b[0m\n\u001b[1;32m    380\u001b[0m                 \u001b[0;32mif\u001b[0m \u001b[0mis_final_pipeline\u001b[0m\u001b[0;34m:\u001b[0m\u001b[0;34m\u001b[0m\u001b[0;34m\u001b[0m\u001b[0m\n\u001b[0;32m--> 381\u001b[0;31m                     \u001b[0;32mraise\u001b[0m \u001b[0me\u001b[0m\u001b[0;34m\u001b[0m\u001b[0;34m\u001b[0m\u001b[0m\n\u001b[0m\u001b[1;32m    382\u001b[0m         \u001b[0;32melse\u001b[0m\u001b[0;34m:\u001b[0m\u001b[0;34m\u001b[0m\u001b[0;34m\u001b[0m\u001b[0m\n\u001b[1;32m    383\u001b[0m             \u001b[0;32mraise\u001b[0m \u001b[0mCompilerError\u001b[0m\u001b[0;34m(\u001b[0m\u001b[0;34m\"All available pipelines exhausted\"\u001b[0m\u001b[0;34m)\u001b[0m\u001b[0;34m\u001b[0m\u001b[0;34m\u001b[0m\u001b[0m\n",
            "\u001b[0;32m/usr/local/lib/python3.6/site-packages/numba/core/compiler.py\u001b[0m in \u001b[0;36m_compile_core\u001b[0;34m(self)\u001b[0m\n\u001b[1;32m    370\u001b[0m             \u001b[0mres\u001b[0m \u001b[0;34m=\u001b[0m \u001b[0;32mNone\u001b[0m\u001b[0;34m\u001b[0m\u001b[0;34m\u001b[0m\u001b[0m\n\u001b[1;32m    371\u001b[0m             \u001b[0;32mtry\u001b[0m\u001b[0;34m:\u001b[0m\u001b[0;34m\u001b[0m\u001b[0;34m\u001b[0m\u001b[0m\n\u001b[0;32m--> 372\u001b[0;31m                 \u001b[0mpm\u001b[0m\u001b[0;34m.\u001b[0m\u001b[0mrun\u001b[0m\u001b[0;34m(\u001b[0m\u001b[0mself\u001b[0m\u001b[0;34m.\u001b[0m\u001b[0mstate\u001b[0m\u001b[0;34m)\u001b[0m\u001b[0;34m\u001b[0m\u001b[0;34m\u001b[0m\u001b[0m\n\u001b[0m\u001b[1;32m    373\u001b[0m                 \u001b[0;32mif\u001b[0m \u001b[0mself\u001b[0m\u001b[0;34m.\u001b[0m\u001b[0mstate\u001b[0m\u001b[0;34m.\u001b[0m\u001b[0mcr\u001b[0m \u001b[0;32mis\u001b[0m \u001b[0;32mnot\u001b[0m \u001b[0;32mNone\u001b[0m\u001b[0;34m:\u001b[0m\u001b[0;34m\u001b[0m\u001b[0;34m\u001b[0m\u001b[0m\n\u001b[1;32m    374\u001b[0m                     \u001b[0;32mbreak\u001b[0m\u001b[0;34m\u001b[0m\u001b[0;34m\u001b[0m\u001b[0m\n",
            "\u001b[0;32m/usr/local/lib/python3.6/site-packages/numba/core/compiler_machinery.py\u001b[0m in \u001b[0;36mrun\u001b[0;34m(self, state)\u001b[0m\n\u001b[1;32m    339\u001b[0m                     \u001b[0;34m(\u001b[0m\u001b[0mself\u001b[0m\u001b[0;34m.\u001b[0m\u001b[0mpipeline_name\u001b[0m\u001b[0;34m,\u001b[0m \u001b[0mpass_desc\u001b[0m\u001b[0;34m)\u001b[0m\u001b[0;34m\u001b[0m\u001b[0;34m\u001b[0m\u001b[0m\n\u001b[1;32m    340\u001b[0m                 \u001b[0mpatched_exception\u001b[0m \u001b[0;34m=\u001b[0m \u001b[0mself\u001b[0m\u001b[0;34m.\u001b[0m\u001b[0m_patch_error\u001b[0m\u001b[0;34m(\u001b[0m\u001b[0mmsg\u001b[0m\u001b[0;34m,\u001b[0m \u001b[0me\u001b[0m\u001b[0;34m)\u001b[0m\u001b[0;34m\u001b[0m\u001b[0;34m\u001b[0m\u001b[0m\n\u001b[0;32m--> 341\u001b[0;31m                 \u001b[0;32mraise\u001b[0m \u001b[0mpatched_exception\u001b[0m\u001b[0;34m\u001b[0m\u001b[0;34m\u001b[0m\u001b[0m\n\u001b[0m\u001b[1;32m    342\u001b[0m \u001b[0;34m\u001b[0m\u001b[0m\n\u001b[1;32m    343\u001b[0m     \u001b[0;32mdef\u001b[0m \u001b[0mdependency_analysis\u001b[0m\u001b[0;34m(\u001b[0m\u001b[0mself\u001b[0m\u001b[0;34m)\u001b[0m\u001b[0;34m:\u001b[0m\u001b[0;34m\u001b[0m\u001b[0;34m\u001b[0m\u001b[0m\n",
            "\u001b[0;32m/usr/local/lib/python3.6/site-packages/numba/core/compiler_machinery.py\u001b[0m in \u001b[0;36mrun\u001b[0;34m(self, state)\u001b[0m\n\u001b[1;32m    330\u001b[0m                 \u001b[0mpass_inst\u001b[0m \u001b[0;34m=\u001b[0m \u001b[0m_pass_registry\u001b[0m\u001b[0;34m.\u001b[0m\u001b[0mget\u001b[0m\u001b[0;34m(\u001b[0m\u001b[0mpss\u001b[0m\u001b[0;34m)\u001b[0m\u001b[0;34m.\u001b[0m\u001b[0mpass_inst\u001b[0m\u001b[0;34m\u001b[0m\u001b[0;34m\u001b[0m\u001b[0m\n\u001b[1;32m    331\u001b[0m                 \u001b[0;32mif\u001b[0m \u001b[0misinstance\u001b[0m\u001b[0;34m(\u001b[0m\u001b[0mpass_inst\u001b[0m\u001b[0;34m,\u001b[0m \u001b[0mCompilerPass\u001b[0m\u001b[0;34m)\u001b[0m\u001b[0;34m:\u001b[0m\u001b[0;34m\u001b[0m\u001b[0;34m\u001b[0m\u001b[0m\n\u001b[0;32m--> 332\u001b[0;31m                     \u001b[0mself\u001b[0m\u001b[0;34m.\u001b[0m\u001b[0m_runPass\u001b[0m\u001b[0;34m(\u001b[0m\u001b[0midx\u001b[0m\u001b[0;34m,\u001b[0m \u001b[0mpass_inst\u001b[0m\u001b[0;34m,\u001b[0m \u001b[0mstate\u001b[0m\u001b[0;34m)\u001b[0m\u001b[0;34m\u001b[0m\u001b[0;34m\u001b[0m\u001b[0m\n\u001b[0m\u001b[1;32m    333\u001b[0m                 \u001b[0;32melse\u001b[0m\u001b[0;34m:\u001b[0m\u001b[0;34m\u001b[0m\u001b[0;34m\u001b[0m\u001b[0m\n\u001b[1;32m    334\u001b[0m                     \u001b[0;32mraise\u001b[0m \u001b[0mBaseException\u001b[0m\u001b[0;34m(\u001b[0m\u001b[0;34m\"Legacy pass in use\"\u001b[0m\u001b[0;34m)\u001b[0m\u001b[0;34m\u001b[0m\u001b[0;34m\u001b[0m\u001b[0m\n",
            "\u001b[0;32m/usr/local/lib/python3.6/site-packages/numba/core/compiler_lock.py\u001b[0m in \u001b[0;36m_acquire_compile_lock\u001b[0;34m(*args, **kwargs)\u001b[0m\n\u001b[1;32m     30\u001b[0m         \u001b[0;32mdef\u001b[0m \u001b[0m_acquire_compile_lock\u001b[0m\u001b[0;34m(\u001b[0m\u001b[0;34m*\u001b[0m\u001b[0margs\u001b[0m\u001b[0;34m,\u001b[0m \u001b[0;34m**\u001b[0m\u001b[0mkwargs\u001b[0m\u001b[0;34m)\u001b[0m\u001b[0;34m:\u001b[0m\u001b[0;34m\u001b[0m\u001b[0;34m\u001b[0m\u001b[0m\n\u001b[1;32m     31\u001b[0m             \u001b[0;32mwith\u001b[0m \u001b[0mself\u001b[0m\u001b[0;34m:\u001b[0m\u001b[0;34m\u001b[0m\u001b[0;34m\u001b[0m\u001b[0m\n\u001b[0;32m---> 32\u001b[0;31m                 \u001b[0;32mreturn\u001b[0m \u001b[0mfunc\u001b[0m\u001b[0;34m(\u001b[0m\u001b[0;34m*\u001b[0m\u001b[0margs\u001b[0m\u001b[0;34m,\u001b[0m \u001b[0;34m**\u001b[0m\u001b[0mkwargs\u001b[0m\u001b[0;34m)\u001b[0m\u001b[0;34m\u001b[0m\u001b[0;34m\u001b[0m\u001b[0m\n\u001b[0m\u001b[1;32m     33\u001b[0m         \u001b[0;32mreturn\u001b[0m \u001b[0m_acquire_compile_lock\u001b[0m\u001b[0;34m\u001b[0m\u001b[0;34m\u001b[0m\u001b[0m\n\u001b[1;32m     34\u001b[0m \u001b[0;34m\u001b[0m\u001b[0m\n",
            "\u001b[0;32m/usr/local/lib/python3.6/site-packages/numba/core/compiler_machinery.py\u001b[0m in \u001b[0;36m_runPass\u001b[0;34m(self, index, pss, internal_state)\u001b[0m\n\u001b[1;32m    289\u001b[0m             \u001b[0mmutated\u001b[0m \u001b[0;34m|=\u001b[0m \u001b[0mcheck\u001b[0m\u001b[0;34m(\u001b[0m\u001b[0mpss\u001b[0m\u001b[0;34m.\u001b[0m\u001b[0mrun_initialization\u001b[0m\u001b[0;34m,\u001b[0m \u001b[0minternal_state\u001b[0m\u001b[0;34m)\u001b[0m\u001b[0;34m\u001b[0m\u001b[0;34m\u001b[0m\u001b[0m\n\u001b[1;32m    290\u001b[0m         \u001b[0;32mwith\u001b[0m \u001b[0mSimpleTimer\u001b[0m\u001b[0;34m(\u001b[0m\u001b[0;34m)\u001b[0m \u001b[0;32mas\u001b[0m \u001b[0mpass_time\u001b[0m\u001b[0;34m:\u001b[0m\u001b[0;34m\u001b[0m\u001b[0;34m\u001b[0m\u001b[0m\n\u001b[0;32m--> 291\u001b[0;31m             \u001b[0mmutated\u001b[0m \u001b[0;34m|=\u001b[0m \u001b[0mcheck\u001b[0m\u001b[0;34m(\u001b[0m\u001b[0mpss\u001b[0m\u001b[0;34m.\u001b[0m\u001b[0mrun_pass\u001b[0m\u001b[0;34m,\u001b[0m \u001b[0minternal_state\u001b[0m\u001b[0;34m)\u001b[0m\u001b[0;34m\u001b[0m\u001b[0;34m\u001b[0m\u001b[0m\n\u001b[0m\u001b[1;32m    292\u001b[0m         \u001b[0;32mwith\u001b[0m \u001b[0mSimpleTimer\u001b[0m\u001b[0;34m(\u001b[0m\u001b[0;34m)\u001b[0m \u001b[0;32mas\u001b[0m \u001b[0mfinalize_time\u001b[0m\u001b[0;34m:\u001b[0m\u001b[0;34m\u001b[0m\u001b[0;34m\u001b[0m\u001b[0m\n\u001b[1;32m    293\u001b[0m             \u001b[0mmutated\u001b[0m \u001b[0;34m|=\u001b[0m \u001b[0mcheck\u001b[0m\u001b[0;34m(\u001b[0m\u001b[0mpss\u001b[0m\u001b[0;34m.\u001b[0m\u001b[0mrun_finalizer\u001b[0m\u001b[0;34m,\u001b[0m \u001b[0minternal_state\u001b[0m\u001b[0;34m)\u001b[0m\u001b[0;34m\u001b[0m\u001b[0;34m\u001b[0m\u001b[0m\n",
            "\u001b[0;32m/usr/local/lib/python3.6/site-packages/numba/core/compiler_machinery.py\u001b[0m in \u001b[0;36mcheck\u001b[0;34m(func, compiler_state)\u001b[0m\n\u001b[1;32m    262\u001b[0m \u001b[0;34m\u001b[0m\u001b[0m\n\u001b[1;32m    263\u001b[0m         \u001b[0;32mdef\u001b[0m \u001b[0mcheck\u001b[0m\u001b[0;34m(\u001b[0m\u001b[0mfunc\u001b[0m\u001b[0;34m,\u001b[0m \u001b[0mcompiler_state\u001b[0m\u001b[0;34m)\u001b[0m\u001b[0;34m:\u001b[0m\u001b[0;34m\u001b[0m\u001b[0;34m\u001b[0m\u001b[0m\n\u001b[0;32m--> 264\u001b[0;31m             \u001b[0mmangled\u001b[0m \u001b[0;34m=\u001b[0m \u001b[0mfunc\u001b[0m\u001b[0;34m(\u001b[0m\u001b[0mcompiler_state\u001b[0m\u001b[0;34m)\u001b[0m\u001b[0;34m\u001b[0m\u001b[0;34m\u001b[0m\u001b[0m\n\u001b[0m\u001b[1;32m    265\u001b[0m             \u001b[0;32mif\u001b[0m \u001b[0mmangled\u001b[0m \u001b[0;32mnot\u001b[0m \u001b[0;32min\u001b[0m \u001b[0;34m(\u001b[0m\u001b[0;32mTrue\u001b[0m\u001b[0;34m,\u001b[0m \u001b[0;32mFalse\u001b[0m\u001b[0;34m)\u001b[0m\u001b[0;34m:\u001b[0m\u001b[0;34m\u001b[0m\u001b[0;34m\u001b[0m\u001b[0m\n\u001b[1;32m    266\u001b[0m                 msg = (\"CompilerPass implementations should return True/False. \"\n",
            "\u001b[0;32m/usr/local/lib/python3.6/site-packages/numba/core/typed_passes.py\u001b[0m in \u001b[0;36mrun_pass\u001b[0;34m(self, state)\u001b[0m\n\u001b[1;32m     96\u001b[0m                 \u001b[0mstate\u001b[0m\u001b[0;34m.\u001b[0m\u001b[0mreturn_type\u001b[0m\u001b[0;34m,\u001b[0m\u001b[0;34m\u001b[0m\u001b[0;34m\u001b[0m\u001b[0m\n\u001b[1;32m     97\u001b[0m                 \u001b[0mstate\u001b[0m\u001b[0;34m.\u001b[0m\u001b[0mlocals\u001b[0m\u001b[0;34m,\u001b[0m\u001b[0;34m\u001b[0m\u001b[0;34m\u001b[0m\u001b[0m\n\u001b[0;32m---> 98\u001b[0;31m                 raise_errors=self._raise_errors)\n\u001b[0m\u001b[1;32m     99\u001b[0m             \u001b[0mstate\u001b[0m\u001b[0;34m.\u001b[0m\u001b[0mtypemap\u001b[0m \u001b[0;34m=\u001b[0m \u001b[0mtypemap\u001b[0m\u001b[0;34m\u001b[0m\u001b[0;34m\u001b[0m\u001b[0m\n\u001b[1;32m    100\u001b[0m             \u001b[0;32mif\u001b[0m \u001b[0mself\u001b[0m\u001b[0;34m.\u001b[0m\u001b[0m_raise_errors\u001b[0m\u001b[0;34m:\u001b[0m\u001b[0;34m\u001b[0m\u001b[0;34m\u001b[0m\u001b[0m\n",
            "\u001b[0;32m/usr/local/lib/python3.6/site-packages/numba/core/typed_passes.py\u001b[0m in \u001b[0;36mtype_inference_stage\u001b[0;34m(typingctx, interp, args, return_type, locals, raise_errors)\u001b[0m\n\u001b[1;32m     68\u001b[0m \u001b[0;34m\u001b[0m\u001b[0m\n\u001b[1;32m     69\u001b[0m         \u001b[0minfer\u001b[0m\u001b[0;34m.\u001b[0m\u001b[0mbuild_constraint\u001b[0m\u001b[0;34m(\u001b[0m\u001b[0;34m)\u001b[0m\u001b[0;34m\u001b[0m\u001b[0;34m\u001b[0m\u001b[0m\n\u001b[0;32m---> 70\u001b[0;31m         \u001b[0minfer\u001b[0m\u001b[0;34m.\u001b[0m\u001b[0mpropagate\u001b[0m\u001b[0;34m(\u001b[0m\u001b[0mraise_errors\u001b[0m\u001b[0;34m=\u001b[0m\u001b[0mraise_errors\u001b[0m\u001b[0;34m)\u001b[0m\u001b[0;34m\u001b[0m\u001b[0;34m\u001b[0m\u001b[0m\n\u001b[0m\u001b[1;32m     71\u001b[0m         \u001b[0mtypemap\u001b[0m\u001b[0;34m,\u001b[0m \u001b[0mrestype\u001b[0m\u001b[0;34m,\u001b[0m \u001b[0mcalltypes\u001b[0m \u001b[0;34m=\u001b[0m \u001b[0minfer\u001b[0m\u001b[0;34m.\u001b[0m\u001b[0munify\u001b[0m\u001b[0;34m(\u001b[0m\u001b[0mraise_errors\u001b[0m\u001b[0;34m=\u001b[0m\u001b[0mraise_errors\u001b[0m\u001b[0;34m)\u001b[0m\u001b[0;34m\u001b[0m\u001b[0;34m\u001b[0m\u001b[0m\n\u001b[1;32m     72\u001b[0m \u001b[0;34m\u001b[0m\u001b[0m\n",
            "\u001b[0;32m/usr/local/lib/python3.6/site-packages/numba/core/typeinfer.py\u001b[0m in \u001b[0;36mpropagate\u001b[0;34m(self, raise_errors)\u001b[0m\n\u001b[1;32m    992\u001b[0m                                   if isinstance(e, ForceLiteralArg)]\n\u001b[1;32m    993\u001b[0m                 \u001b[0;32mif\u001b[0m \u001b[0;32mnot\u001b[0m \u001b[0mforce_lit_args\u001b[0m\u001b[0;34m:\u001b[0m\u001b[0;34m\u001b[0m\u001b[0;34m\u001b[0m\u001b[0m\n\u001b[0;32m--> 994\u001b[0;31m                     \u001b[0;32mraise\u001b[0m \u001b[0merrors\u001b[0m\u001b[0;34m[\u001b[0m\u001b[0;36m0\u001b[0m\u001b[0;34m]\u001b[0m\u001b[0;34m\u001b[0m\u001b[0;34m\u001b[0m\u001b[0m\n\u001b[0m\u001b[1;32m    995\u001b[0m                 \u001b[0;32melse\u001b[0m\u001b[0;34m:\u001b[0m\u001b[0;34m\u001b[0m\u001b[0;34m\u001b[0m\u001b[0m\n\u001b[1;32m    996\u001b[0m                     \u001b[0;32mraise\u001b[0m \u001b[0mreduce\u001b[0m\u001b[0;34m(\u001b[0m\u001b[0moperator\u001b[0m\u001b[0;34m.\u001b[0m\u001b[0mor_\u001b[0m\u001b[0;34m,\u001b[0m \u001b[0mforce_lit_args\u001b[0m\u001b[0;34m)\u001b[0m\u001b[0;34m\u001b[0m\u001b[0;34m\u001b[0m\u001b[0m\n",
            "\u001b[0;31mTypingError\u001b[0m: Failed in nopython mode pipeline (step: nopython frontend)\nInternal error at <numba.core.typeinfer.CallConstraint object at 0x7efeab697c18>.\nCPUDispatcher(<function check_equals_int at 0x7eff2b8f4730>) is not a module, class, method, function, traceback, frame, or code object\nDuring: resolving callee type: Function(<numba.cuda.compiler.DeviceFunctionTemplate object at 0x7efead362828>)\nDuring: typing of call at /usr/local/lib/python3.6/site-packages/cudf/utils/cudautils.py (141)\n\nEnable logging at debug level for details.\n\nFile \"../usr/local/lib/python3.6/site-packages/cudf/utils/cudautils.py\", line 141:\ndef gpu_mark_found_int(arr, val, out, not_found):\n    <source elided>\n    if i < arr.size:\n        if check_equals_int(arr[i], val):\n        ^\n"
          ]
        }
      ]
    },
    {
      "cell_type": "markdown",
      "metadata": {
        "id": "AoOH4NOySqS8"
      },
      "source": [
        "Error when using evals, turning it off results in Value Error. Not possible to convert matrix_test to something running, tested with pandas df, cudf, numpy. NaN cleanup again, still...\n",
        "- https://github.com/dmlc/xgboost/issues/2274\n",
        "- https://github.com/rapidsai/cudf/issues/2892"
      ]
    },
    {
      "cell_type": "code",
      "metadata": {
        "id": "_iGPi7zcEEjD",
        "outputId": "698b5044-7896-48bc-e80d-c04e76ee44a6",
        "colab": {
          "base_uri": "https://localhost:8080/",
          "height": 564
        }
      },
      "source": [
        "%%time\n",
        "def dask_XGBmodel(X_train,X_test,y_train,y_test,params):\n",
        "    #matrix_test = xgb.DMatrix(data=dd.from_pandas(X_test.to_pandas(),1), label=dd.from_pandas(y_test.to_pandas(), 1))\n",
        "\n",
        "    #Drop Nan Values\n",
        "    X_test.nans_to_nulls()\n",
        "    X_test = X_test.dropna()\n",
        "\n",
        "    matrix_test = xgb.DMatrix(X_test,label=y_test)\n",
        "    model = dxgb.train(client, params=params, \n",
        "                       data=dd.from_pandas(X_train, 1), \n",
        "                       labels=dd.from_pandas(y_train, 1), \n",
        "                       num_boost_round=5000,\n",
        "                       early_stopping_rounds=10,\n",
        "                       evals=[(matrix_test,'test')]\n",
        "                      )\n",
        "    return model\n",
        "\n",
        "dask_XGB_model = dask_XGBmodel(X_train,X_test,y_train,y_test,params)\n",
        "\n",
        "#y_pred = dask_XGB_model.predict(testDGX)"
      ],
      "execution_count": null,
      "outputs": [
        {
          "output_type": "error",
          "ename": "ValueError",
          "evalue": "ignored",
          "traceback": [
            "\u001b[0;31m---------------------------------------------------------------------------\u001b[0m",
            "\u001b[0;31mValueError\u001b[0m                                Traceback (most recent call last)",
            "\u001b[0;32m/usr/local/lib/python3.6/site-packages/distributed/protocol/pickle.py\u001b[0m in \u001b[0;36mdumps\u001b[0;34m(x, buffer_callback, protocol)\u001b[0m\n\u001b[1;32m     48\u001b[0m         \u001b[0mbuffers\u001b[0m\u001b[0;34m.\u001b[0m\u001b[0mclear\u001b[0m\u001b[0;34m(\u001b[0m\u001b[0;34m)\u001b[0m\u001b[0;34m\u001b[0m\u001b[0;34m\u001b[0m\u001b[0m\n\u001b[0;32m---> 49\u001b[0;31m         \u001b[0mresult\u001b[0m \u001b[0;34m=\u001b[0m \u001b[0mpickle\u001b[0m\u001b[0;34m.\u001b[0m\u001b[0mdumps\u001b[0m\u001b[0;34m(\u001b[0m\u001b[0mx\u001b[0m\u001b[0;34m,\u001b[0m \u001b[0;34m**\u001b[0m\u001b[0mdump_kwargs\u001b[0m\u001b[0;34m)\u001b[0m\u001b[0;34m\u001b[0m\u001b[0;34m\u001b[0m\u001b[0m\n\u001b[0m\u001b[1;32m     50\u001b[0m         \u001b[0;32mif\u001b[0m \u001b[0mlen\u001b[0m\u001b[0;34m(\u001b[0m\u001b[0mresult\u001b[0m\u001b[0;34m)\u001b[0m \u001b[0;34m<\u001b[0m \u001b[0;36m1000\u001b[0m\u001b[0;34m:\u001b[0m\u001b[0;34m\u001b[0m\u001b[0;34m\u001b[0m\u001b[0m\n",
            "\u001b[0;31mValueError\u001b[0m: ctypes objects containing pointers cannot be pickled",
            "\nDuring handling of the above exception, another exception occurred:\n",
            "\u001b[0;31mValueError\u001b[0m                                Traceback (most recent call last)",
            "\u001b[0;32m<ipython-input-123-3d3ec344d958>\u001b[0m in \u001b[0;36m<module>\u001b[0;34m()\u001b[0m\n\u001b[0;32m----> 1\u001b[0;31m \u001b[0mget_ipython\u001b[0m\u001b[0;34m(\u001b[0m\u001b[0;34m)\u001b[0m\u001b[0;34m.\u001b[0m\u001b[0mrun_cell_magic\u001b[0m\u001b[0;34m(\u001b[0m\u001b[0;34m'time'\u001b[0m\u001b[0;34m,\u001b[0m \u001b[0;34m''\u001b[0m\u001b[0;34m,\u001b[0m \u001b[0;34m\"def dask_XGBmodel(X_train,X_test,y_train,y_test,params):\\n    #matrix_test = xgb.DMatrix(data=dd.from_pandas(X_test.to_pandas(),1), label=dd.from_pandas(y_test.to_pandas(), 1))\\n\\n    #Drop Nan Values\\n    X_test.nans_to_nulls()\\n    X_test = X_test.dropna()\\n\\n    matrix_test = xgb.DMatrix(X_test,label=y_test)\\n    model = dxgb.train(client, params=params, \\n                       data=dd.from_pandas(X_train, 1), \\n                       labels=dd.from_pandas(y_train, 1), \\n                       num_boost_round=5000,\\n                       early_stopping_rounds=10,\\n                       evals=[(matrix_test,'test')]\\n                      )\\n    return model\\n\\ndask_XGB_model = dask_XGBmodel(X_train,X_test,y_train,y_test,params)\\n\\n#y_pred = dask_XGB_model.predict(testDGX)\"\u001b[0m\u001b[0;34m)\u001b[0m\u001b[0;34m\u001b[0m\u001b[0;34m\u001b[0m\u001b[0m\n\u001b[0m",
            "\u001b[0;32m/usr/local/lib/python3.6/dist-packages/IPython/core/interactiveshell.py\u001b[0m in \u001b[0;36mrun_cell_magic\u001b[0;34m(self, magic_name, line, cell)\u001b[0m\n\u001b[1;32m   2115\u001b[0m             \u001b[0mmagic_arg_s\u001b[0m \u001b[0;34m=\u001b[0m \u001b[0mself\u001b[0m\u001b[0;34m.\u001b[0m\u001b[0mvar_expand\u001b[0m\u001b[0;34m(\u001b[0m\u001b[0mline\u001b[0m\u001b[0;34m,\u001b[0m \u001b[0mstack_depth\u001b[0m\u001b[0;34m)\u001b[0m\u001b[0;34m\u001b[0m\u001b[0;34m\u001b[0m\u001b[0m\n\u001b[1;32m   2116\u001b[0m             \u001b[0;32mwith\u001b[0m \u001b[0mself\u001b[0m\u001b[0;34m.\u001b[0m\u001b[0mbuiltin_trap\u001b[0m\u001b[0;34m:\u001b[0m\u001b[0;34m\u001b[0m\u001b[0;34m\u001b[0m\u001b[0m\n\u001b[0;32m-> 2117\u001b[0;31m                 \u001b[0mresult\u001b[0m \u001b[0;34m=\u001b[0m \u001b[0mfn\u001b[0m\u001b[0;34m(\u001b[0m\u001b[0mmagic_arg_s\u001b[0m\u001b[0;34m,\u001b[0m \u001b[0mcell\u001b[0m\u001b[0;34m)\u001b[0m\u001b[0;34m\u001b[0m\u001b[0;34m\u001b[0m\u001b[0m\n\u001b[0m\u001b[1;32m   2118\u001b[0m             \u001b[0;32mreturn\u001b[0m \u001b[0mresult\u001b[0m\u001b[0;34m\u001b[0m\u001b[0;34m\u001b[0m\u001b[0m\n\u001b[1;32m   2119\u001b[0m \u001b[0;34m\u001b[0m\u001b[0m\n",
            "\u001b[0;32m<decorator-gen-60>\u001b[0m in \u001b[0;36mtime\u001b[0;34m(self, line, cell, local_ns)\u001b[0m\n",
            "\u001b[0;32m/usr/local/lib/python3.6/dist-packages/IPython/core/magic.py\u001b[0m in \u001b[0;36m<lambda>\u001b[0;34m(f, *a, **k)\u001b[0m\n\u001b[1;32m    186\u001b[0m     \u001b[0;31m# but it's overkill for just that one bit of state.\u001b[0m\u001b[0;34m\u001b[0m\u001b[0;34m\u001b[0m\u001b[0;34m\u001b[0m\u001b[0m\n\u001b[1;32m    187\u001b[0m     \u001b[0;32mdef\u001b[0m \u001b[0mmagic_deco\u001b[0m\u001b[0;34m(\u001b[0m\u001b[0marg\u001b[0m\u001b[0;34m)\u001b[0m\u001b[0;34m:\u001b[0m\u001b[0;34m\u001b[0m\u001b[0;34m\u001b[0m\u001b[0m\n\u001b[0;32m--> 188\u001b[0;31m         \u001b[0mcall\u001b[0m \u001b[0;34m=\u001b[0m \u001b[0;32mlambda\u001b[0m \u001b[0mf\u001b[0m\u001b[0;34m,\u001b[0m \u001b[0;34m*\u001b[0m\u001b[0ma\u001b[0m\u001b[0;34m,\u001b[0m \u001b[0;34m**\u001b[0m\u001b[0mk\u001b[0m\u001b[0;34m:\u001b[0m \u001b[0mf\u001b[0m\u001b[0;34m(\u001b[0m\u001b[0;34m*\u001b[0m\u001b[0ma\u001b[0m\u001b[0;34m,\u001b[0m \u001b[0;34m**\u001b[0m\u001b[0mk\u001b[0m\u001b[0;34m)\u001b[0m\u001b[0;34m\u001b[0m\u001b[0;34m\u001b[0m\u001b[0m\n\u001b[0m\u001b[1;32m    189\u001b[0m \u001b[0;34m\u001b[0m\u001b[0m\n\u001b[1;32m    190\u001b[0m         \u001b[0;32mif\u001b[0m \u001b[0mcallable\u001b[0m\u001b[0;34m(\u001b[0m\u001b[0marg\u001b[0m\u001b[0;34m)\u001b[0m\u001b[0;34m:\u001b[0m\u001b[0;34m\u001b[0m\u001b[0;34m\u001b[0m\u001b[0m\n",
            "\u001b[0;32m/usr/local/lib/python3.6/dist-packages/IPython/core/magics/execution.py\u001b[0m in \u001b[0;36mtime\u001b[0;34m(self, line, cell, local_ns)\u001b[0m\n\u001b[1;32m   1191\u001b[0m         \u001b[0;32melse\u001b[0m\u001b[0;34m:\u001b[0m\u001b[0;34m\u001b[0m\u001b[0;34m\u001b[0m\u001b[0m\n\u001b[1;32m   1192\u001b[0m             \u001b[0mst\u001b[0m \u001b[0;34m=\u001b[0m \u001b[0mclock2\u001b[0m\u001b[0;34m(\u001b[0m\u001b[0;34m)\u001b[0m\u001b[0;34m\u001b[0m\u001b[0;34m\u001b[0m\u001b[0m\n\u001b[0;32m-> 1193\u001b[0;31m             \u001b[0mexec\u001b[0m\u001b[0;34m(\u001b[0m\u001b[0mcode\u001b[0m\u001b[0;34m,\u001b[0m \u001b[0mglob\u001b[0m\u001b[0;34m,\u001b[0m \u001b[0mlocal_ns\u001b[0m\u001b[0;34m)\u001b[0m\u001b[0;34m\u001b[0m\u001b[0;34m\u001b[0m\u001b[0m\n\u001b[0m\u001b[1;32m   1194\u001b[0m             \u001b[0mend\u001b[0m \u001b[0;34m=\u001b[0m \u001b[0mclock2\u001b[0m\u001b[0;34m(\u001b[0m\u001b[0;34m)\u001b[0m\u001b[0;34m\u001b[0m\u001b[0;34m\u001b[0m\u001b[0m\n\u001b[1;32m   1195\u001b[0m             \u001b[0mout\u001b[0m \u001b[0;34m=\u001b[0m \u001b[0;32mNone\u001b[0m\u001b[0;34m\u001b[0m\u001b[0;34m\u001b[0m\u001b[0m\n",
            "\u001b[0;32m<timed exec>\u001b[0m in \u001b[0;36m<module>\u001b[0;34m()\u001b[0m\n",
            "\u001b[0;32m<timed exec>\u001b[0m in \u001b[0;36mdask_XGBmodel\u001b[0;34m(X_train, X_test, y_train, y_test, params)\u001b[0m\n",
            "\u001b[0;32m/usr/local/lib/python3.6/site-packages/dask_xgboost/core.py\u001b[0m in \u001b[0;36mtrain\u001b[0;34m(client, params, data, labels, dmatrix_kwargs, evals_result, sample_weight, **kwargs)\u001b[0m\n\u001b[1;32m    307\u001b[0m         \u001b[0mevals_result\u001b[0m\u001b[0;34m,\u001b[0m\u001b[0;34m\u001b[0m\u001b[0;34m\u001b[0m\u001b[0m\n\u001b[1;32m    308\u001b[0m         \u001b[0msample_weight\u001b[0m\u001b[0;34m,\u001b[0m\u001b[0;34m\u001b[0m\u001b[0;34m\u001b[0m\u001b[0m\n\u001b[0;32m--> 309\u001b[0;31m         \u001b[0;34m**\u001b[0m\u001b[0mkwargs\u001b[0m\u001b[0;34m\u001b[0m\u001b[0;34m\u001b[0m\u001b[0m\n\u001b[0m\u001b[1;32m    310\u001b[0m     )\n\u001b[1;32m    311\u001b[0m \u001b[0;34m\u001b[0m\u001b[0m\n",
            "\u001b[0;32m/usr/local/lib/python3.6/site-packages/distributed/client.py\u001b[0m in \u001b[0;36msync\u001b[0;34m(self, func, asynchronous, callback_timeout, *args, **kwargs)\u001b[0m\n\u001b[1;32m    832\u001b[0m         \u001b[0;32melse\u001b[0m\u001b[0;34m:\u001b[0m\u001b[0;34m\u001b[0m\u001b[0;34m\u001b[0m\u001b[0m\n\u001b[1;32m    833\u001b[0m             return sync(\n\u001b[0;32m--> 834\u001b[0;31m                 \u001b[0mself\u001b[0m\u001b[0;34m.\u001b[0m\u001b[0mloop\u001b[0m\u001b[0;34m,\u001b[0m \u001b[0mfunc\u001b[0m\u001b[0;34m,\u001b[0m \u001b[0;34m*\u001b[0m\u001b[0margs\u001b[0m\u001b[0;34m,\u001b[0m \u001b[0mcallback_timeout\u001b[0m\u001b[0;34m=\u001b[0m\u001b[0mcallback_timeout\u001b[0m\u001b[0;34m,\u001b[0m \u001b[0;34m**\u001b[0m\u001b[0mkwargs\u001b[0m\u001b[0;34m\u001b[0m\u001b[0;34m\u001b[0m\u001b[0m\n\u001b[0m\u001b[1;32m    835\u001b[0m             )\n\u001b[1;32m    836\u001b[0m \u001b[0;34m\u001b[0m\u001b[0m\n",
            "\u001b[0;32m/usr/local/lib/python3.6/site-packages/distributed/utils.py\u001b[0m in \u001b[0;36msync\u001b[0;34m(loop, func, callback_timeout, *args, **kwargs)\u001b[0m\n\u001b[1;32m    337\u001b[0m     \u001b[0;32mif\u001b[0m \u001b[0merror\u001b[0m\u001b[0;34m[\u001b[0m\u001b[0;36m0\u001b[0m\u001b[0;34m]\u001b[0m\u001b[0;34m:\u001b[0m\u001b[0;34m\u001b[0m\u001b[0;34m\u001b[0m\u001b[0m\n\u001b[1;32m    338\u001b[0m         \u001b[0mtyp\u001b[0m\u001b[0;34m,\u001b[0m \u001b[0mexc\u001b[0m\u001b[0;34m,\u001b[0m \u001b[0mtb\u001b[0m \u001b[0;34m=\u001b[0m \u001b[0merror\u001b[0m\u001b[0;34m[\u001b[0m\u001b[0;36m0\u001b[0m\u001b[0;34m]\u001b[0m\u001b[0;34m\u001b[0m\u001b[0;34m\u001b[0m\u001b[0m\n\u001b[0;32m--> 339\u001b[0;31m         \u001b[0;32mraise\u001b[0m \u001b[0mexc\u001b[0m\u001b[0;34m.\u001b[0m\u001b[0mwith_traceback\u001b[0m\u001b[0;34m(\u001b[0m\u001b[0mtb\u001b[0m\u001b[0;34m)\u001b[0m\u001b[0;34m\u001b[0m\u001b[0;34m\u001b[0m\u001b[0m\n\u001b[0m\u001b[1;32m    340\u001b[0m     \u001b[0;32melse\u001b[0m\u001b[0;34m:\u001b[0m\u001b[0;34m\u001b[0m\u001b[0;34m\u001b[0m\u001b[0m\n\u001b[1;32m    341\u001b[0m         \u001b[0;32mreturn\u001b[0m \u001b[0mresult\u001b[0m\u001b[0;34m[\u001b[0m\u001b[0;36m0\u001b[0m\u001b[0;34m]\u001b[0m\u001b[0;34m\u001b[0m\u001b[0;34m\u001b[0m\u001b[0m\n",
            "\u001b[0;32m/usr/local/lib/python3.6/site-packages/distributed/utils.py\u001b[0m in \u001b[0;36mf\u001b[0;34m()\u001b[0m\n\u001b[1;32m    321\u001b[0m             \u001b[0;32mif\u001b[0m \u001b[0mcallback_timeout\u001b[0m \u001b[0;32mis\u001b[0m \u001b[0;32mnot\u001b[0m \u001b[0;32mNone\u001b[0m\u001b[0;34m:\u001b[0m\u001b[0;34m\u001b[0m\u001b[0;34m\u001b[0m\u001b[0m\n\u001b[1;32m    322\u001b[0m                 \u001b[0mfuture\u001b[0m \u001b[0;34m=\u001b[0m \u001b[0masyncio\u001b[0m\u001b[0;34m.\u001b[0m\u001b[0mwait_for\u001b[0m\u001b[0;34m(\u001b[0m\u001b[0mfuture\u001b[0m\u001b[0;34m,\u001b[0m \u001b[0mcallback_timeout\u001b[0m\u001b[0;34m)\u001b[0m\u001b[0;34m\u001b[0m\u001b[0;34m\u001b[0m\u001b[0m\n\u001b[0;32m--> 323\u001b[0;31m             \u001b[0mresult\u001b[0m\u001b[0;34m[\u001b[0m\u001b[0;36m0\u001b[0m\u001b[0;34m]\u001b[0m \u001b[0;34m=\u001b[0m \u001b[0;32myield\u001b[0m \u001b[0mfuture\u001b[0m\u001b[0;34m\u001b[0m\u001b[0;34m\u001b[0m\u001b[0m\n\u001b[0m\u001b[1;32m    324\u001b[0m         \u001b[0;32mexcept\u001b[0m \u001b[0mException\u001b[0m \u001b[0;32mas\u001b[0m \u001b[0mexc\u001b[0m\u001b[0;34m:\u001b[0m\u001b[0;34m\u001b[0m\u001b[0;34m\u001b[0m\u001b[0m\n\u001b[1;32m    325\u001b[0m             \u001b[0merror\u001b[0m\u001b[0;34m[\u001b[0m\u001b[0;36m0\u001b[0m\u001b[0;34m]\u001b[0m \u001b[0;34m=\u001b[0m \u001b[0msys\u001b[0m\u001b[0;34m.\u001b[0m\u001b[0mexc_info\u001b[0m\u001b[0;34m(\u001b[0m\u001b[0;34m)\u001b[0m\u001b[0;34m\u001b[0m\u001b[0;34m\u001b[0m\u001b[0m\n",
            "\u001b[0;32m/usr/local/lib/python3.6/dist-packages/tornado/gen.py\u001b[0m in \u001b[0;36mrun\u001b[0;34m(self)\u001b[0m\n\u001b[1;32m   1131\u001b[0m \u001b[0;34m\u001b[0m\u001b[0m\n\u001b[1;32m   1132\u001b[0m                     \u001b[0;32mtry\u001b[0m\u001b[0;34m:\u001b[0m\u001b[0;34m\u001b[0m\u001b[0;34m\u001b[0m\u001b[0m\n\u001b[0;32m-> 1133\u001b[0;31m                         \u001b[0mvalue\u001b[0m \u001b[0;34m=\u001b[0m \u001b[0mfuture\u001b[0m\u001b[0;34m.\u001b[0m\u001b[0mresult\u001b[0m\u001b[0;34m(\u001b[0m\u001b[0;34m)\u001b[0m\u001b[0;34m\u001b[0m\u001b[0;34m\u001b[0m\u001b[0m\n\u001b[0m\u001b[1;32m   1134\u001b[0m                     \u001b[0;32mexcept\u001b[0m \u001b[0mException\u001b[0m\u001b[0;34m:\u001b[0m\u001b[0;34m\u001b[0m\u001b[0;34m\u001b[0m\u001b[0m\n\u001b[1;32m   1135\u001b[0m                         \u001b[0mself\u001b[0m\u001b[0;34m.\u001b[0m\u001b[0mhad_exception\u001b[0m \u001b[0;34m=\u001b[0m \u001b[0;32mTrue\u001b[0m\u001b[0;34m\u001b[0m\u001b[0;34m\u001b[0m\u001b[0m\n",
            "\u001b[0;32m/usr/local/lib/python3.6/dist-packages/tornado/gen.py\u001b[0m in \u001b[0;36mrun\u001b[0;34m(self)\u001b[0m\n\u001b[1;32m   1145\u001b[0m                             \u001b[0mexc_info\u001b[0m \u001b[0;34m=\u001b[0m \u001b[0;32mNone\u001b[0m\u001b[0;34m\u001b[0m\u001b[0;34m\u001b[0m\u001b[0m\n\u001b[1;32m   1146\u001b[0m                     \u001b[0;32melse\u001b[0m\u001b[0;34m:\u001b[0m\u001b[0;34m\u001b[0m\u001b[0;34m\u001b[0m\u001b[0m\n\u001b[0;32m-> 1147\u001b[0;31m                         \u001b[0myielded\u001b[0m \u001b[0;34m=\u001b[0m \u001b[0mself\u001b[0m\u001b[0;34m.\u001b[0m\u001b[0mgen\u001b[0m\u001b[0;34m.\u001b[0m\u001b[0msend\u001b[0m\u001b[0;34m(\u001b[0m\u001b[0mvalue\u001b[0m\u001b[0;34m)\u001b[0m\u001b[0;34m\u001b[0m\u001b[0;34m\u001b[0m\u001b[0m\n\u001b[0m\u001b[1;32m   1148\u001b[0m \u001b[0;34m\u001b[0m\u001b[0m\n\u001b[1;32m   1149\u001b[0m                     \u001b[0;32mif\u001b[0m \u001b[0mstack_context\u001b[0m\u001b[0;34m.\u001b[0m\u001b[0m_state\u001b[0m\u001b[0;34m.\u001b[0m\u001b[0mcontexts\u001b[0m \u001b[0;32mis\u001b[0m \u001b[0;32mnot\u001b[0m \u001b[0morig_stack_contexts\u001b[0m\u001b[0;34m:\u001b[0m\u001b[0;34m\u001b[0m\u001b[0;34m\u001b[0m\u001b[0m\n",
            "\u001b[0;32m/usr/local/lib/python3.6/site-packages/dask_xgboost/core.py\u001b[0m in \u001b[0;36m_train\u001b[0;34m(client, params, data, labels, dmatrix_kwargs, evals_result, sample_weight, **kwargs)\u001b[0m\n\u001b[1;32m    239\u001b[0m             \u001b[0;34m**\u001b[0m\u001b[0mkwargs\u001b[0m\u001b[0;34m\u001b[0m\u001b[0;34m\u001b[0m\u001b[0m\n\u001b[1;32m    240\u001b[0m         )\n\u001b[0;32m--> 241\u001b[0;31m         \u001b[0;32mfor\u001b[0m \u001b[0mworker\u001b[0m\u001b[0;34m,\u001b[0m \u001b[0mlist_of_parts\u001b[0m \u001b[0;32min\u001b[0m \u001b[0mworker_map\u001b[0m\u001b[0;34m.\u001b[0m\u001b[0mitems\u001b[0m\u001b[0;34m(\u001b[0m\u001b[0;34m)\u001b[0m\u001b[0;34m\u001b[0m\u001b[0;34m\u001b[0m\u001b[0m\n\u001b[0m\u001b[1;32m    242\u001b[0m     ]\n\u001b[1;32m    243\u001b[0m \u001b[0;34m\u001b[0m\u001b[0m\n",
            "\u001b[0;32m/usr/local/lib/python3.6/site-packages/dask_xgboost/core.py\u001b[0m in \u001b[0;36m<listcomp>\u001b[0;34m(.0)\u001b[0m\n\u001b[1;32m    239\u001b[0m             \u001b[0;34m**\u001b[0m\u001b[0mkwargs\u001b[0m\u001b[0;34m\u001b[0m\u001b[0;34m\u001b[0m\u001b[0m\n\u001b[1;32m    240\u001b[0m         )\n\u001b[0;32m--> 241\u001b[0;31m         \u001b[0;32mfor\u001b[0m \u001b[0mworker\u001b[0m\u001b[0;34m,\u001b[0m \u001b[0mlist_of_parts\u001b[0m \u001b[0;32min\u001b[0m \u001b[0mworker_map\u001b[0m\u001b[0;34m.\u001b[0m\u001b[0mitems\u001b[0m\u001b[0;34m(\u001b[0m\u001b[0;34m)\u001b[0m\u001b[0;34m\u001b[0m\u001b[0;34m\u001b[0m\u001b[0m\n\u001b[0m\u001b[1;32m    242\u001b[0m     ]\n\u001b[1;32m    243\u001b[0m \u001b[0;34m\u001b[0m\u001b[0m\n",
            "\u001b[0;32m/usr/local/lib/python3.6/site-packages/distributed/client.py\u001b[0m in \u001b[0;36msubmit\u001b[0;34m(self, func, key, workers, resources, retries, priority, fifo_timeout, allow_other_workers, actor, actors, pure, *args, **kwargs)\u001b[0m\n\u001b[1;32m   1588\u001b[0m             \u001b[0mretries\u001b[0m\u001b[0;34m=\u001b[0m\u001b[0mretries\u001b[0m\u001b[0;34m,\u001b[0m\u001b[0;34m\u001b[0m\u001b[0;34m\u001b[0m\u001b[0m\n\u001b[1;32m   1589\u001b[0m             \u001b[0mfifo_timeout\u001b[0m\u001b[0;34m=\u001b[0m\u001b[0mfifo_timeout\u001b[0m\u001b[0;34m,\u001b[0m\u001b[0;34m\u001b[0m\u001b[0;34m\u001b[0m\u001b[0m\n\u001b[0;32m-> 1590\u001b[0;31m             \u001b[0mactors\u001b[0m\u001b[0;34m=\u001b[0m\u001b[0mactor\u001b[0m\u001b[0;34m,\u001b[0m\u001b[0;34m\u001b[0m\u001b[0;34m\u001b[0m\u001b[0m\n\u001b[0m\u001b[1;32m   1591\u001b[0m         )\n\u001b[1;32m   1592\u001b[0m \u001b[0;34m\u001b[0m\u001b[0m\n",
            "\u001b[0;32m/usr/local/lib/python3.6/site-packages/distributed/client.py\u001b[0m in \u001b[0;36m_graph_to_futures\u001b[0;34m(self, dsk, keys, restrictions, loose_restrictions, priority, user_priority, resources, retries, fifo_timeout, actors)\u001b[0m\n\u001b[1;32m   2628\u001b[0m                 {\n\u001b[1;32m   2629\u001b[0m                     \u001b[0;34m\"op\"\u001b[0m\u001b[0;34m:\u001b[0m \u001b[0;34m\"update-graph\"\u001b[0m\u001b[0;34m,\u001b[0m\u001b[0;34m\u001b[0m\u001b[0;34m\u001b[0m\u001b[0m\n\u001b[0;32m-> 2630\u001b[0;31m                     \u001b[0;34m\"tasks\"\u001b[0m\u001b[0;34m:\u001b[0m \u001b[0mvalmap\u001b[0m\u001b[0;34m(\u001b[0m\u001b[0mdumps_task\u001b[0m\u001b[0;34m,\u001b[0m \u001b[0mdsk3\u001b[0m\u001b[0;34m)\u001b[0m\u001b[0;34m,\u001b[0m\u001b[0;34m\u001b[0m\u001b[0;34m\u001b[0m\u001b[0m\n\u001b[0m\u001b[1;32m   2631\u001b[0m                     \u001b[0;34m\"dependencies\"\u001b[0m\u001b[0;34m:\u001b[0m \u001b[0mdependencies\u001b[0m\u001b[0;34m,\u001b[0m\u001b[0;34m\u001b[0m\u001b[0;34m\u001b[0m\u001b[0m\n\u001b[1;32m   2632\u001b[0m                     \u001b[0;34m\"keys\"\u001b[0m\u001b[0;34m:\u001b[0m \u001b[0mlist\u001b[0m\u001b[0;34m(\u001b[0m\u001b[0mmap\u001b[0m\u001b[0;34m(\u001b[0m\u001b[0mtokey\u001b[0m\u001b[0;34m,\u001b[0m \u001b[0mkeys\u001b[0m\u001b[0;34m)\u001b[0m\u001b[0;34m)\u001b[0m\u001b[0;34m,\u001b[0m\u001b[0;34m\u001b[0m\u001b[0;34m\u001b[0m\u001b[0m\n",
            "\u001b[0;32m/usr/local/lib/python3.6/site-packages/cytoolz/dicttoolz.pyx\u001b[0m in \u001b[0;36mcytoolz.dicttoolz.valmap\u001b[0;34m()\u001b[0m\n",
            "\u001b[0;32m/usr/local/lib/python3.6/site-packages/cytoolz/dicttoolz.pyx\u001b[0m in \u001b[0;36mcytoolz.dicttoolz.valmap\u001b[0;34m()\u001b[0m\n",
            "\u001b[0;32m/usr/local/lib/python3.6/site-packages/distributed/worker.py\u001b[0m in \u001b[0;36mdumps_task\u001b[0;34m(task)\u001b[0m\n\u001b[1;32m   3353\u001b[0m             \u001b[0md\u001b[0m \u001b[0;34m=\u001b[0m \u001b[0;34m{\u001b[0m\u001b[0;34m\"function\"\u001b[0m\u001b[0;34m:\u001b[0m \u001b[0mdumps_function\u001b[0m\u001b[0;34m(\u001b[0m\u001b[0mtask\u001b[0m\u001b[0;34m[\u001b[0m\u001b[0;36m1\u001b[0m\u001b[0;34m]\u001b[0m\u001b[0;34m)\u001b[0m\u001b[0;34m,\u001b[0m \u001b[0;34m\"args\"\u001b[0m\u001b[0;34m:\u001b[0m \u001b[0mwarn_dumps\u001b[0m\u001b[0;34m(\u001b[0m\u001b[0mtask\u001b[0m\u001b[0;34m[\u001b[0m\u001b[0;36m2\u001b[0m\u001b[0;34m]\u001b[0m\u001b[0;34m)\u001b[0m\u001b[0;34m}\u001b[0m\u001b[0;34m\u001b[0m\u001b[0;34m\u001b[0m\u001b[0m\n\u001b[1;32m   3354\u001b[0m             \u001b[0;32mif\u001b[0m \u001b[0mlen\u001b[0m\u001b[0;34m(\u001b[0m\u001b[0mtask\u001b[0m\u001b[0;34m)\u001b[0m \u001b[0;34m==\u001b[0m \u001b[0;36m4\u001b[0m\u001b[0;34m:\u001b[0m\u001b[0;34m\u001b[0m\u001b[0;34m\u001b[0m\u001b[0m\n\u001b[0;32m-> 3355\u001b[0;31m                 \u001b[0md\u001b[0m\u001b[0;34m[\u001b[0m\u001b[0;34m\"kwargs\"\u001b[0m\u001b[0;34m]\u001b[0m \u001b[0;34m=\u001b[0m \u001b[0mwarn_dumps\u001b[0m\u001b[0;34m(\u001b[0m\u001b[0mtask\u001b[0m\u001b[0;34m[\u001b[0m\u001b[0;36m3\u001b[0m\u001b[0;34m]\u001b[0m\u001b[0;34m)\u001b[0m\u001b[0;34m\u001b[0m\u001b[0;34m\u001b[0m\u001b[0m\n\u001b[0m\u001b[1;32m   3356\u001b[0m             \u001b[0;32mreturn\u001b[0m \u001b[0md\u001b[0m\u001b[0;34m\u001b[0m\u001b[0;34m\u001b[0m\u001b[0m\n\u001b[1;32m   3357\u001b[0m         \u001b[0;32melif\u001b[0m \u001b[0;32mnot\u001b[0m \u001b[0many\u001b[0m\u001b[0;34m(\u001b[0m\u001b[0mmap\u001b[0m\u001b[0;34m(\u001b[0m\u001b[0m_maybe_complex\u001b[0m\u001b[0;34m,\u001b[0m \u001b[0mtask\u001b[0m\u001b[0;34m[\u001b[0m\u001b[0;36m1\u001b[0m\u001b[0;34m:\u001b[0m\u001b[0;34m]\u001b[0m\u001b[0;34m)\u001b[0m\u001b[0;34m)\u001b[0m\u001b[0;34m:\u001b[0m\u001b[0;34m\u001b[0m\u001b[0;34m\u001b[0m\u001b[0m\n",
            "\u001b[0;32m/usr/local/lib/python3.6/site-packages/distributed/worker.py\u001b[0m in \u001b[0;36mwarn_dumps\u001b[0;34m(obj, dumps, limit)\u001b[0m\n\u001b[1;32m   3365\u001b[0m \u001b[0;32mdef\u001b[0m \u001b[0mwarn_dumps\u001b[0m\u001b[0;34m(\u001b[0m\u001b[0mobj\u001b[0m\u001b[0;34m,\u001b[0m \u001b[0mdumps\u001b[0m\u001b[0;34m=\u001b[0m\u001b[0mpickle\u001b[0m\u001b[0;34m.\u001b[0m\u001b[0mdumps\u001b[0m\u001b[0;34m,\u001b[0m \u001b[0mlimit\u001b[0m\u001b[0;34m=\u001b[0m\u001b[0;36m1e6\u001b[0m\u001b[0;34m)\u001b[0m\u001b[0;34m:\u001b[0m\u001b[0;34m\u001b[0m\u001b[0;34m\u001b[0m\u001b[0m\n\u001b[1;32m   3366\u001b[0m     \u001b[0;34m\"\"\" Dump an object to bytes, warn if those bytes are large \"\"\"\u001b[0m\u001b[0;34m\u001b[0m\u001b[0;34m\u001b[0m\u001b[0m\n\u001b[0;32m-> 3367\u001b[0;31m     \u001b[0mb\u001b[0m \u001b[0;34m=\u001b[0m \u001b[0mdumps\u001b[0m\u001b[0;34m(\u001b[0m\u001b[0mobj\u001b[0m\u001b[0;34m,\u001b[0m \u001b[0mprotocol\u001b[0m\u001b[0;34m=\u001b[0m\u001b[0;36m4\u001b[0m\u001b[0;34m)\u001b[0m\u001b[0;34m\u001b[0m\u001b[0;34m\u001b[0m\u001b[0m\n\u001b[0m\u001b[1;32m   3368\u001b[0m     \u001b[0;32mif\u001b[0m \u001b[0;32mnot\u001b[0m \u001b[0m_warn_dumps_warned\u001b[0m\u001b[0;34m[\u001b[0m\u001b[0;36m0\u001b[0m\u001b[0;34m]\u001b[0m \u001b[0;32mand\u001b[0m \u001b[0mlen\u001b[0m\u001b[0;34m(\u001b[0m\u001b[0mb\u001b[0m\u001b[0;34m)\u001b[0m \u001b[0;34m>\u001b[0m \u001b[0mlimit\u001b[0m\u001b[0;34m:\u001b[0m\u001b[0;34m\u001b[0m\u001b[0;34m\u001b[0m\u001b[0m\n\u001b[1;32m   3369\u001b[0m         \u001b[0m_warn_dumps_warned\u001b[0m\u001b[0;34m[\u001b[0m\u001b[0;36m0\u001b[0m\u001b[0;34m]\u001b[0m \u001b[0;34m=\u001b[0m \u001b[0;32mTrue\u001b[0m\u001b[0;34m\u001b[0m\u001b[0;34m\u001b[0m\u001b[0m\n",
            "\u001b[0;32m/usr/local/lib/python3.6/site-packages/distributed/protocol/pickle.py\u001b[0m in \u001b[0;36mdumps\u001b[0;34m(x, buffer_callback, protocol)\u001b[0m\n\u001b[1;32m     58\u001b[0m         \u001b[0;32mtry\u001b[0m\u001b[0;34m:\u001b[0m\u001b[0;34m\u001b[0m\u001b[0;34m\u001b[0m\u001b[0m\n\u001b[1;32m     59\u001b[0m             \u001b[0mbuffers\u001b[0m\u001b[0;34m.\u001b[0m\u001b[0mclear\u001b[0m\u001b[0;34m(\u001b[0m\u001b[0;34m)\u001b[0m\u001b[0;34m\u001b[0m\u001b[0;34m\u001b[0m\u001b[0m\n\u001b[0;32m---> 60\u001b[0;31m             \u001b[0mresult\u001b[0m \u001b[0;34m=\u001b[0m \u001b[0mcloudpickle\u001b[0m\u001b[0;34m.\u001b[0m\u001b[0mdumps\u001b[0m\u001b[0;34m(\u001b[0m\u001b[0mx\u001b[0m\u001b[0;34m,\u001b[0m \u001b[0;34m**\u001b[0m\u001b[0mdump_kwargs\u001b[0m\u001b[0;34m)\u001b[0m\u001b[0;34m\u001b[0m\u001b[0;34m\u001b[0m\u001b[0m\n\u001b[0m\u001b[1;32m     61\u001b[0m         \u001b[0;32mexcept\u001b[0m \u001b[0mException\u001b[0m \u001b[0;32mas\u001b[0m \u001b[0me\u001b[0m\u001b[0;34m:\u001b[0m\u001b[0;34m\u001b[0m\u001b[0;34m\u001b[0m\u001b[0m\n\u001b[1;32m     62\u001b[0m             \u001b[0mlogger\u001b[0m\u001b[0;34m.\u001b[0m\u001b[0minfo\u001b[0m\u001b[0;34m(\u001b[0m\u001b[0;34m\"Failed to serialize %s. Exception: %s\"\u001b[0m\u001b[0;34m,\u001b[0m \u001b[0mx\u001b[0m\u001b[0;34m,\u001b[0m \u001b[0me\u001b[0m\u001b[0;34m)\u001b[0m\u001b[0;34m\u001b[0m\u001b[0;34m\u001b[0m\u001b[0m\n",
            "\u001b[0;32m/usr/local/lib/python3.6/site-packages/cloudpickle/cloudpickle_fast.py\u001b[0m in \u001b[0;36mdumps\u001b[0;34m(obj, protocol)\u001b[0m\n\u001b[1;32m    100\u001b[0m         \u001b[0;32mwith\u001b[0m \u001b[0mio\u001b[0m\u001b[0;34m.\u001b[0m\u001b[0mBytesIO\u001b[0m\u001b[0;34m(\u001b[0m\u001b[0;34m)\u001b[0m \u001b[0;32mas\u001b[0m \u001b[0mfile\u001b[0m\u001b[0;34m:\u001b[0m\u001b[0;34m\u001b[0m\u001b[0;34m\u001b[0m\u001b[0m\n\u001b[1;32m    101\u001b[0m             \u001b[0mcp\u001b[0m \u001b[0;34m=\u001b[0m \u001b[0mCloudPickler\u001b[0m\u001b[0;34m(\u001b[0m\u001b[0mfile\u001b[0m\u001b[0;34m,\u001b[0m \u001b[0mprotocol\u001b[0m\u001b[0;34m=\u001b[0m\u001b[0mprotocol\u001b[0m\u001b[0;34m)\u001b[0m\u001b[0;34m\u001b[0m\u001b[0;34m\u001b[0m\u001b[0m\n\u001b[0;32m--> 102\u001b[0;31m             \u001b[0mcp\u001b[0m\u001b[0;34m.\u001b[0m\u001b[0mdump\u001b[0m\u001b[0;34m(\u001b[0m\u001b[0mobj\u001b[0m\u001b[0;34m)\u001b[0m\u001b[0;34m\u001b[0m\u001b[0;34m\u001b[0m\u001b[0m\n\u001b[0m\u001b[1;32m    103\u001b[0m             \u001b[0;32mreturn\u001b[0m \u001b[0mfile\u001b[0m\u001b[0;34m.\u001b[0m\u001b[0mgetvalue\u001b[0m\u001b[0;34m(\u001b[0m\u001b[0;34m)\u001b[0m\u001b[0;34m\u001b[0m\u001b[0;34m\u001b[0m\u001b[0m\n\u001b[1;32m    104\u001b[0m \u001b[0;34m\u001b[0m\u001b[0m\n",
            "\u001b[0;32m/usr/local/lib/python3.6/site-packages/cloudpickle/cloudpickle_fast.py\u001b[0m in \u001b[0;36mdump\u001b[0;34m(self, obj)\u001b[0m\n\u001b[1;32m    561\u001b[0m     \u001b[0;32mdef\u001b[0m \u001b[0mdump\u001b[0m\u001b[0;34m(\u001b[0m\u001b[0mself\u001b[0m\u001b[0;34m,\u001b[0m \u001b[0mobj\u001b[0m\u001b[0;34m)\u001b[0m\u001b[0;34m:\u001b[0m\u001b[0;34m\u001b[0m\u001b[0;34m\u001b[0m\u001b[0m\n\u001b[1;32m    562\u001b[0m         \u001b[0;32mtry\u001b[0m\u001b[0;34m:\u001b[0m\u001b[0;34m\u001b[0m\u001b[0;34m\u001b[0m\u001b[0m\n\u001b[0;32m--> 563\u001b[0;31m             \u001b[0;32mreturn\u001b[0m \u001b[0mPickler\u001b[0m\u001b[0;34m.\u001b[0m\u001b[0mdump\u001b[0m\u001b[0;34m(\u001b[0m\u001b[0mself\u001b[0m\u001b[0;34m,\u001b[0m \u001b[0mobj\u001b[0m\u001b[0;34m)\u001b[0m\u001b[0;34m\u001b[0m\u001b[0;34m\u001b[0m\u001b[0m\n\u001b[0m\u001b[1;32m    564\u001b[0m         \u001b[0;32mexcept\u001b[0m \u001b[0mRuntimeError\u001b[0m \u001b[0;32mas\u001b[0m \u001b[0me\u001b[0m\u001b[0;34m:\u001b[0m\u001b[0;34m\u001b[0m\u001b[0;34m\u001b[0m\u001b[0m\n\u001b[1;32m    565\u001b[0m             \u001b[0;32mif\u001b[0m \u001b[0;34m\"recursion\"\u001b[0m \u001b[0;32min\u001b[0m \u001b[0me\u001b[0m\u001b[0;34m.\u001b[0m\u001b[0margs\u001b[0m\u001b[0;34m[\u001b[0m\u001b[0;36m0\u001b[0m\u001b[0;34m]\u001b[0m\u001b[0;34m:\u001b[0m\u001b[0;34m\u001b[0m\u001b[0;34m\u001b[0m\u001b[0m\n",
            "\u001b[0;32m/usr/lib/python3.6/pickle.py\u001b[0m in \u001b[0;36mdump\u001b[0;34m(self, obj)\u001b[0m\n\u001b[1;32m    407\u001b[0m         \u001b[0;32mif\u001b[0m \u001b[0mself\u001b[0m\u001b[0;34m.\u001b[0m\u001b[0mproto\u001b[0m \u001b[0;34m>=\u001b[0m \u001b[0;36m4\u001b[0m\u001b[0;34m:\u001b[0m\u001b[0;34m\u001b[0m\u001b[0;34m\u001b[0m\u001b[0m\n\u001b[1;32m    408\u001b[0m             \u001b[0mself\u001b[0m\u001b[0;34m.\u001b[0m\u001b[0mframer\u001b[0m\u001b[0;34m.\u001b[0m\u001b[0mstart_framing\u001b[0m\u001b[0;34m(\u001b[0m\u001b[0;34m)\u001b[0m\u001b[0;34m\u001b[0m\u001b[0;34m\u001b[0m\u001b[0m\n\u001b[0;32m--> 409\u001b[0;31m         \u001b[0mself\u001b[0m\u001b[0;34m.\u001b[0m\u001b[0msave\u001b[0m\u001b[0;34m(\u001b[0m\u001b[0mobj\u001b[0m\u001b[0;34m)\u001b[0m\u001b[0;34m\u001b[0m\u001b[0;34m\u001b[0m\u001b[0m\n\u001b[0m\u001b[1;32m    410\u001b[0m         \u001b[0mself\u001b[0m\u001b[0;34m.\u001b[0m\u001b[0mwrite\u001b[0m\u001b[0;34m(\u001b[0m\u001b[0mSTOP\u001b[0m\u001b[0;34m)\u001b[0m\u001b[0;34m\u001b[0m\u001b[0;34m\u001b[0m\u001b[0m\n\u001b[1;32m    411\u001b[0m         \u001b[0mself\u001b[0m\u001b[0;34m.\u001b[0m\u001b[0mframer\u001b[0m\u001b[0;34m.\u001b[0m\u001b[0mend_framing\u001b[0m\u001b[0;34m(\u001b[0m\u001b[0;34m)\u001b[0m\u001b[0;34m\u001b[0m\u001b[0;34m\u001b[0m\u001b[0m\n",
            "\u001b[0;32m/usr/lib/python3.6/pickle.py\u001b[0m in \u001b[0;36msave\u001b[0;34m(self, obj, save_persistent_id)\u001b[0m\n\u001b[1;32m    474\u001b[0m         \u001b[0mf\u001b[0m \u001b[0;34m=\u001b[0m \u001b[0mself\u001b[0m\u001b[0;34m.\u001b[0m\u001b[0mdispatch\u001b[0m\u001b[0;34m.\u001b[0m\u001b[0mget\u001b[0m\u001b[0;34m(\u001b[0m\u001b[0mt\u001b[0m\u001b[0;34m)\u001b[0m\u001b[0;34m\u001b[0m\u001b[0;34m\u001b[0m\u001b[0m\n\u001b[1;32m    475\u001b[0m         \u001b[0;32mif\u001b[0m \u001b[0mf\u001b[0m \u001b[0;32mis\u001b[0m \u001b[0;32mnot\u001b[0m \u001b[0;32mNone\u001b[0m\u001b[0;34m:\u001b[0m\u001b[0;34m\u001b[0m\u001b[0;34m\u001b[0m\u001b[0m\n\u001b[0;32m--> 476\u001b[0;31m             \u001b[0mf\u001b[0m\u001b[0;34m(\u001b[0m\u001b[0mself\u001b[0m\u001b[0;34m,\u001b[0m \u001b[0mobj\u001b[0m\u001b[0;34m)\u001b[0m \u001b[0;31m# Call unbound method with explicit self\u001b[0m\u001b[0;34m\u001b[0m\u001b[0;34m\u001b[0m\u001b[0m\n\u001b[0m\u001b[1;32m    477\u001b[0m             \u001b[0;32mreturn\u001b[0m\u001b[0;34m\u001b[0m\u001b[0;34m\u001b[0m\u001b[0m\n\u001b[1;32m    478\u001b[0m \u001b[0;34m\u001b[0m\u001b[0m\n",
            "\u001b[0;32m/usr/lib/python3.6/pickle.py\u001b[0m in \u001b[0;36msave_dict\u001b[0;34m(self, obj)\u001b[0m\n\u001b[1;32m    819\u001b[0m \u001b[0;34m\u001b[0m\u001b[0m\n\u001b[1;32m    820\u001b[0m         \u001b[0mself\u001b[0m\u001b[0;34m.\u001b[0m\u001b[0mmemoize\u001b[0m\u001b[0;34m(\u001b[0m\u001b[0mobj\u001b[0m\u001b[0;34m)\u001b[0m\u001b[0;34m\u001b[0m\u001b[0;34m\u001b[0m\u001b[0m\n\u001b[0;32m--> 821\u001b[0;31m         \u001b[0mself\u001b[0m\u001b[0;34m.\u001b[0m\u001b[0m_batch_setitems\u001b[0m\u001b[0;34m(\u001b[0m\u001b[0mobj\u001b[0m\u001b[0;34m.\u001b[0m\u001b[0mitems\u001b[0m\u001b[0;34m(\u001b[0m\u001b[0;34m)\u001b[0m\u001b[0;34m)\u001b[0m\u001b[0;34m\u001b[0m\u001b[0;34m\u001b[0m\u001b[0m\n\u001b[0m\u001b[1;32m    822\u001b[0m \u001b[0;34m\u001b[0m\u001b[0m\n\u001b[1;32m    823\u001b[0m     \u001b[0mdispatch\u001b[0m\u001b[0;34m[\u001b[0m\u001b[0mdict\u001b[0m\u001b[0;34m]\u001b[0m \u001b[0;34m=\u001b[0m \u001b[0msave_dict\u001b[0m\u001b[0;34m\u001b[0m\u001b[0;34m\u001b[0m\u001b[0m\n",
            "\u001b[0;32m/usr/lib/python3.6/pickle.py\u001b[0m in \u001b[0;36m_batch_setitems\u001b[0;34m(self, items)\u001b[0m\n\u001b[1;32m    845\u001b[0m                 \u001b[0;32mfor\u001b[0m \u001b[0mk\u001b[0m\u001b[0;34m,\u001b[0m \u001b[0mv\u001b[0m \u001b[0;32min\u001b[0m \u001b[0mtmp\u001b[0m\u001b[0;34m:\u001b[0m\u001b[0;34m\u001b[0m\u001b[0;34m\u001b[0m\u001b[0m\n\u001b[1;32m    846\u001b[0m                     \u001b[0msave\u001b[0m\u001b[0;34m(\u001b[0m\u001b[0mk\u001b[0m\u001b[0;34m)\u001b[0m\u001b[0;34m\u001b[0m\u001b[0;34m\u001b[0m\u001b[0m\n\u001b[0;32m--> 847\u001b[0;31m                     \u001b[0msave\u001b[0m\u001b[0;34m(\u001b[0m\u001b[0mv\u001b[0m\u001b[0;34m)\u001b[0m\u001b[0;34m\u001b[0m\u001b[0;34m\u001b[0m\u001b[0m\n\u001b[0m\u001b[1;32m    848\u001b[0m                 \u001b[0mwrite\u001b[0m\u001b[0;34m(\u001b[0m\u001b[0mSETITEMS\u001b[0m\u001b[0;34m)\u001b[0m\u001b[0;34m\u001b[0m\u001b[0;34m\u001b[0m\u001b[0m\n\u001b[1;32m    849\u001b[0m             \u001b[0;32melif\u001b[0m \u001b[0mn\u001b[0m\u001b[0;34m:\u001b[0m\u001b[0;34m\u001b[0m\u001b[0;34m\u001b[0m\u001b[0m\n",
            "\u001b[0;32m/usr/lib/python3.6/pickle.py\u001b[0m in \u001b[0;36msave\u001b[0;34m(self, obj, save_persistent_id)\u001b[0m\n\u001b[1;32m    474\u001b[0m         \u001b[0mf\u001b[0m \u001b[0;34m=\u001b[0m \u001b[0mself\u001b[0m\u001b[0;34m.\u001b[0m\u001b[0mdispatch\u001b[0m\u001b[0;34m.\u001b[0m\u001b[0mget\u001b[0m\u001b[0;34m(\u001b[0m\u001b[0mt\u001b[0m\u001b[0;34m)\u001b[0m\u001b[0;34m\u001b[0m\u001b[0;34m\u001b[0m\u001b[0m\n\u001b[1;32m    475\u001b[0m         \u001b[0;32mif\u001b[0m \u001b[0mf\u001b[0m \u001b[0;32mis\u001b[0m \u001b[0;32mnot\u001b[0m \u001b[0;32mNone\u001b[0m\u001b[0;34m:\u001b[0m\u001b[0;34m\u001b[0m\u001b[0;34m\u001b[0m\u001b[0m\n\u001b[0;32m--> 476\u001b[0;31m             \u001b[0mf\u001b[0m\u001b[0;34m(\u001b[0m\u001b[0mself\u001b[0m\u001b[0;34m,\u001b[0m \u001b[0mobj\u001b[0m\u001b[0;34m)\u001b[0m \u001b[0;31m# Call unbound method with explicit self\u001b[0m\u001b[0;34m\u001b[0m\u001b[0;34m\u001b[0m\u001b[0m\n\u001b[0m\u001b[1;32m    477\u001b[0m             \u001b[0;32mreturn\u001b[0m\u001b[0;34m\u001b[0m\u001b[0;34m\u001b[0m\u001b[0m\n\u001b[1;32m    478\u001b[0m \u001b[0;34m\u001b[0m\u001b[0m\n",
            "\u001b[0;32m/usr/lib/python3.6/pickle.py\u001b[0m in \u001b[0;36msave_list\u001b[0;34m(self, obj)\u001b[0m\n\u001b[1;32m    779\u001b[0m \u001b[0;34m\u001b[0m\u001b[0m\n\u001b[1;32m    780\u001b[0m         \u001b[0mself\u001b[0m\u001b[0;34m.\u001b[0m\u001b[0mmemoize\u001b[0m\u001b[0;34m(\u001b[0m\u001b[0mobj\u001b[0m\u001b[0;34m)\u001b[0m\u001b[0;34m\u001b[0m\u001b[0;34m\u001b[0m\u001b[0m\n\u001b[0;32m--> 781\u001b[0;31m         \u001b[0mself\u001b[0m\u001b[0;34m.\u001b[0m\u001b[0m_batch_appends\u001b[0m\u001b[0;34m(\u001b[0m\u001b[0mobj\u001b[0m\u001b[0;34m)\u001b[0m\u001b[0;34m\u001b[0m\u001b[0;34m\u001b[0m\u001b[0m\n\u001b[0m\u001b[1;32m    782\u001b[0m \u001b[0;34m\u001b[0m\u001b[0m\n\u001b[1;32m    783\u001b[0m     \u001b[0mdispatch\u001b[0m\u001b[0;34m[\u001b[0m\u001b[0mlist\u001b[0m\u001b[0;34m]\u001b[0m \u001b[0;34m=\u001b[0m \u001b[0msave_list\u001b[0m\u001b[0;34m\u001b[0m\u001b[0;34m\u001b[0m\u001b[0m\n",
            "\u001b[0;32m/usr/lib/python3.6/pickle.py\u001b[0m in \u001b[0;36m_batch_appends\u001b[0;34m(self, items)\u001b[0m\n\u001b[1;32m    806\u001b[0m                 \u001b[0mwrite\u001b[0m\u001b[0;34m(\u001b[0m\u001b[0mAPPENDS\u001b[0m\u001b[0;34m)\u001b[0m\u001b[0;34m\u001b[0m\u001b[0;34m\u001b[0m\u001b[0m\n\u001b[1;32m    807\u001b[0m             \u001b[0;32melif\u001b[0m \u001b[0mn\u001b[0m\u001b[0;34m:\u001b[0m\u001b[0;34m\u001b[0m\u001b[0;34m\u001b[0m\u001b[0m\n\u001b[0;32m--> 808\u001b[0;31m                 \u001b[0msave\u001b[0m\u001b[0;34m(\u001b[0m\u001b[0mtmp\u001b[0m\u001b[0;34m[\u001b[0m\u001b[0;36m0\u001b[0m\u001b[0;34m]\u001b[0m\u001b[0;34m)\u001b[0m\u001b[0;34m\u001b[0m\u001b[0;34m\u001b[0m\u001b[0m\n\u001b[0m\u001b[1;32m    809\u001b[0m                 \u001b[0mwrite\u001b[0m\u001b[0;34m(\u001b[0m\u001b[0mAPPEND\u001b[0m\u001b[0;34m)\u001b[0m\u001b[0;34m\u001b[0m\u001b[0;34m\u001b[0m\u001b[0m\n\u001b[1;32m    810\u001b[0m             \u001b[0;31m# else tmp is empty, and we're done\u001b[0m\u001b[0;34m\u001b[0m\u001b[0;34m\u001b[0m\u001b[0;34m\u001b[0m\u001b[0m\n",
            "\u001b[0;32m/usr/lib/python3.6/pickle.py\u001b[0m in \u001b[0;36msave\u001b[0;34m(self, obj, save_persistent_id)\u001b[0m\n\u001b[1;32m    474\u001b[0m         \u001b[0mf\u001b[0m \u001b[0;34m=\u001b[0m \u001b[0mself\u001b[0m\u001b[0;34m.\u001b[0m\u001b[0mdispatch\u001b[0m\u001b[0;34m.\u001b[0m\u001b[0mget\u001b[0m\u001b[0;34m(\u001b[0m\u001b[0mt\u001b[0m\u001b[0;34m)\u001b[0m\u001b[0;34m\u001b[0m\u001b[0;34m\u001b[0m\u001b[0m\n\u001b[1;32m    475\u001b[0m         \u001b[0;32mif\u001b[0m \u001b[0mf\u001b[0m \u001b[0;32mis\u001b[0m \u001b[0;32mnot\u001b[0m \u001b[0;32mNone\u001b[0m\u001b[0;34m:\u001b[0m\u001b[0;34m\u001b[0m\u001b[0;34m\u001b[0m\u001b[0m\n\u001b[0;32m--> 476\u001b[0;31m             \u001b[0mf\u001b[0m\u001b[0;34m(\u001b[0m\u001b[0mself\u001b[0m\u001b[0;34m,\u001b[0m \u001b[0mobj\u001b[0m\u001b[0;34m)\u001b[0m \u001b[0;31m# Call unbound method with explicit self\u001b[0m\u001b[0;34m\u001b[0m\u001b[0;34m\u001b[0m\u001b[0m\n\u001b[0m\u001b[1;32m    477\u001b[0m             \u001b[0;32mreturn\u001b[0m\u001b[0;34m\u001b[0m\u001b[0;34m\u001b[0m\u001b[0m\n\u001b[1;32m    478\u001b[0m \u001b[0;34m\u001b[0m\u001b[0m\n",
            "\u001b[0;32m/usr/lib/python3.6/pickle.py\u001b[0m in \u001b[0;36msave_tuple\u001b[0;34m(self, obj)\u001b[0m\n\u001b[1;32m    734\u001b[0m         \u001b[0;32mif\u001b[0m \u001b[0mn\u001b[0m \u001b[0;34m<=\u001b[0m \u001b[0;36m3\u001b[0m \u001b[0;32mand\u001b[0m \u001b[0mself\u001b[0m\u001b[0;34m.\u001b[0m\u001b[0mproto\u001b[0m \u001b[0;34m>=\u001b[0m \u001b[0;36m2\u001b[0m\u001b[0;34m:\u001b[0m\u001b[0;34m\u001b[0m\u001b[0;34m\u001b[0m\u001b[0m\n\u001b[1;32m    735\u001b[0m             \u001b[0;32mfor\u001b[0m \u001b[0melement\u001b[0m \u001b[0;32min\u001b[0m \u001b[0mobj\u001b[0m\u001b[0;34m:\u001b[0m\u001b[0;34m\u001b[0m\u001b[0;34m\u001b[0m\u001b[0m\n\u001b[0;32m--> 736\u001b[0;31m                 \u001b[0msave\u001b[0m\u001b[0;34m(\u001b[0m\u001b[0melement\u001b[0m\u001b[0;34m)\u001b[0m\u001b[0;34m\u001b[0m\u001b[0;34m\u001b[0m\u001b[0m\n\u001b[0m\u001b[1;32m    737\u001b[0m             \u001b[0;31m# Subtle.  Same as in the big comment below.\u001b[0m\u001b[0;34m\u001b[0m\u001b[0;34m\u001b[0m\u001b[0;34m\u001b[0m\u001b[0m\n\u001b[1;32m    738\u001b[0m             \u001b[0;32mif\u001b[0m \u001b[0mid\u001b[0m\u001b[0;34m(\u001b[0m\u001b[0mobj\u001b[0m\u001b[0;34m)\u001b[0m \u001b[0;32min\u001b[0m \u001b[0mmemo\u001b[0m\u001b[0;34m:\u001b[0m\u001b[0;34m\u001b[0m\u001b[0;34m\u001b[0m\u001b[0m\n",
            "\u001b[0;32m/usr/lib/python3.6/pickle.py\u001b[0m in \u001b[0;36msave\u001b[0;34m(self, obj, save_persistent_id)\u001b[0m\n\u001b[1;32m    519\u001b[0m \u001b[0;34m\u001b[0m\u001b[0m\n\u001b[1;32m    520\u001b[0m         \u001b[0;31m# Save the reduce() output and finally memoize the object\u001b[0m\u001b[0;34m\u001b[0m\u001b[0;34m\u001b[0m\u001b[0;34m\u001b[0m\u001b[0m\n\u001b[0;32m--> 521\u001b[0;31m         \u001b[0mself\u001b[0m\u001b[0;34m.\u001b[0m\u001b[0msave_reduce\u001b[0m\u001b[0;34m(\u001b[0m\u001b[0mobj\u001b[0m\u001b[0;34m=\u001b[0m\u001b[0mobj\u001b[0m\u001b[0;34m,\u001b[0m \u001b[0;34m*\u001b[0m\u001b[0mrv\u001b[0m\u001b[0;34m)\u001b[0m\u001b[0;34m\u001b[0m\u001b[0;34m\u001b[0m\u001b[0m\n\u001b[0m\u001b[1;32m    522\u001b[0m \u001b[0;34m\u001b[0m\u001b[0m\n\u001b[1;32m    523\u001b[0m     \u001b[0;32mdef\u001b[0m \u001b[0mpersistent_id\u001b[0m\u001b[0;34m(\u001b[0m\u001b[0mself\u001b[0m\u001b[0;34m,\u001b[0m \u001b[0mobj\u001b[0m\u001b[0;34m)\u001b[0m\u001b[0;34m:\u001b[0m\u001b[0;34m\u001b[0m\u001b[0;34m\u001b[0m\u001b[0m\n",
            "\u001b[0;32m/usr/lib/python3.6/pickle.py\u001b[0m in \u001b[0;36msave_reduce\u001b[0;34m(self, func, args, state, listitems, dictitems, obj)\u001b[0m\n\u001b[1;32m    632\u001b[0m \u001b[0;34m\u001b[0m\u001b[0m\n\u001b[1;32m    633\u001b[0m         \u001b[0;32mif\u001b[0m \u001b[0mstate\u001b[0m \u001b[0;32mis\u001b[0m \u001b[0;32mnot\u001b[0m \u001b[0;32mNone\u001b[0m\u001b[0;34m:\u001b[0m\u001b[0;34m\u001b[0m\u001b[0;34m\u001b[0m\u001b[0m\n\u001b[0;32m--> 634\u001b[0;31m             \u001b[0msave\u001b[0m\u001b[0;34m(\u001b[0m\u001b[0mstate\u001b[0m\u001b[0;34m)\u001b[0m\u001b[0;34m\u001b[0m\u001b[0;34m\u001b[0m\u001b[0m\n\u001b[0m\u001b[1;32m    635\u001b[0m             \u001b[0mwrite\u001b[0m\u001b[0;34m(\u001b[0m\u001b[0mBUILD\u001b[0m\u001b[0;34m)\u001b[0m\u001b[0;34m\u001b[0m\u001b[0;34m\u001b[0m\u001b[0m\n\u001b[1;32m    636\u001b[0m \u001b[0;34m\u001b[0m\u001b[0m\n",
            "\u001b[0;32m/usr/lib/python3.6/pickle.py\u001b[0m in \u001b[0;36msave\u001b[0;34m(self, obj, save_persistent_id)\u001b[0m\n\u001b[1;32m    474\u001b[0m         \u001b[0mf\u001b[0m \u001b[0;34m=\u001b[0m \u001b[0mself\u001b[0m\u001b[0;34m.\u001b[0m\u001b[0mdispatch\u001b[0m\u001b[0;34m.\u001b[0m\u001b[0mget\u001b[0m\u001b[0;34m(\u001b[0m\u001b[0mt\u001b[0m\u001b[0;34m)\u001b[0m\u001b[0;34m\u001b[0m\u001b[0;34m\u001b[0m\u001b[0m\n\u001b[1;32m    475\u001b[0m         \u001b[0;32mif\u001b[0m \u001b[0mf\u001b[0m \u001b[0;32mis\u001b[0m \u001b[0;32mnot\u001b[0m \u001b[0;32mNone\u001b[0m\u001b[0;34m:\u001b[0m\u001b[0;34m\u001b[0m\u001b[0;34m\u001b[0m\u001b[0m\n\u001b[0;32m--> 476\u001b[0;31m             \u001b[0mf\u001b[0m\u001b[0;34m(\u001b[0m\u001b[0mself\u001b[0m\u001b[0;34m,\u001b[0m \u001b[0mobj\u001b[0m\u001b[0;34m)\u001b[0m \u001b[0;31m# Call unbound method with explicit self\u001b[0m\u001b[0;34m\u001b[0m\u001b[0;34m\u001b[0m\u001b[0m\n\u001b[0m\u001b[1;32m    477\u001b[0m             \u001b[0;32mreturn\u001b[0m\u001b[0;34m\u001b[0m\u001b[0;34m\u001b[0m\u001b[0m\n\u001b[1;32m    478\u001b[0m \u001b[0;34m\u001b[0m\u001b[0m\n",
            "\u001b[0;32m/usr/lib/python3.6/pickle.py\u001b[0m in \u001b[0;36msave_dict\u001b[0;34m(self, obj)\u001b[0m\n\u001b[1;32m    819\u001b[0m \u001b[0;34m\u001b[0m\u001b[0m\n\u001b[1;32m    820\u001b[0m         \u001b[0mself\u001b[0m\u001b[0;34m.\u001b[0m\u001b[0mmemoize\u001b[0m\u001b[0;34m(\u001b[0m\u001b[0mobj\u001b[0m\u001b[0;34m)\u001b[0m\u001b[0;34m\u001b[0m\u001b[0;34m\u001b[0m\u001b[0m\n\u001b[0;32m--> 821\u001b[0;31m         \u001b[0mself\u001b[0m\u001b[0;34m.\u001b[0m\u001b[0m_batch_setitems\u001b[0m\u001b[0;34m(\u001b[0m\u001b[0mobj\u001b[0m\u001b[0;34m.\u001b[0m\u001b[0mitems\u001b[0m\u001b[0;34m(\u001b[0m\u001b[0;34m)\u001b[0m\u001b[0;34m)\u001b[0m\u001b[0;34m\u001b[0m\u001b[0;34m\u001b[0m\u001b[0m\n\u001b[0m\u001b[1;32m    822\u001b[0m \u001b[0;34m\u001b[0m\u001b[0m\n\u001b[1;32m    823\u001b[0m     \u001b[0mdispatch\u001b[0m\u001b[0;34m[\u001b[0m\u001b[0mdict\u001b[0m\u001b[0;34m]\u001b[0m \u001b[0;34m=\u001b[0m \u001b[0msave_dict\u001b[0m\u001b[0;34m\u001b[0m\u001b[0;34m\u001b[0m\u001b[0m\n",
            "\u001b[0;32m/usr/lib/python3.6/pickle.py\u001b[0m in \u001b[0;36m_batch_setitems\u001b[0;34m(self, items)\u001b[0m\n\u001b[1;32m    845\u001b[0m                 \u001b[0;32mfor\u001b[0m \u001b[0mk\u001b[0m\u001b[0;34m,\u001b[0m \u001b[0mv\u001b[0m \u001b[0;32min\u001b[0m \u001b[0mtmp\u001b[0m\u001b[0;34m:\u001b[0m\u001b[0;34m\u001b[0m\u001b[0;34m\u001b[0m\u001b[0m\n\u001b[1;32m    846\u001b[0m                     \u001b[0msave\u001b[0m\u001b[0;34m(\u001b[0m\u001b[0mk\u001b[0m\u001b[0;34m)\u001b[0m\u001b[0;34m\u001b[0m\u001b[0;34m\u001b[0m\u001b[0m\n\u001b[0;32m--> 847\u001b[0;31m                     \u001b[0msave\u001b[0m\u001b[0;34m(\u001b[0m\u001b[0mv\u001b[0m\u001b[0;34m)\u001b[0m\u001b[0;34m\u001b[0m\u001b[0;34m\u001b[0m\u001b[0m\n\u001b[0m\u001b[1;32m    848\u001b[0m                 \u001b[0mwrite\u001b[0m\u001b[0;34m(\u001b[0m\u001b[0mSETITEMS\u001b[0m\u001b[0;34m)\u001b[0m\u001b[0;34m\u001b[0m\u001b[0;34m\u001b[0m\u001b[0m\n\u001b[1;32m    849\u001b[0m             \u001b[0;32melif\u001b[0m \u001b[0mn\u001b[0m\u001b[0;34m:\u001b[0m\u001b[0;34m\u001b[0m\u001b[0;34m\u001b[0m\u001b[0m\n",
            "\u001b[0;32m/usr/lib/python3.6/pickle.py\u001b[0m in \u001b[0;36msave\u001b[0;34m(self, obj, save_persistent_id)\u001b[0m\n\u001b[1;32m    494\u001b[0m             \u001b[0mreduce\u001b[0m \u001b[0;34m=\u001b[0m \u001b[0mgetattr\u001b[0m\u001b[0;34m(\u001b[0m\u001b[0mobj\u001b[0m\u001b[0;34m,\u001b[0m \u001b[0;34m\"__reduce_ex__\"\u001b[0m\u001b[0;34m,\u001b[0m \u001b[0;32mNone\u001b[0m\u001b[0;34m)\u001b[0m\u001b[0;34m\u001b[0m\u001b[0;34m\u001b[0m\u001b[0m\n\u001b[1;32m    495\u001b[0m             \u001b[0;32mif\u001b[0m \u001b[0mreduce\u001b[0m \u001b[0;32mis\u001b[0m \u001b[0;32mnot\u001b[0m \u001b[0;32mNone\u001b[0m\u001b[0;34m:\u001b[0m\u001b[0;34m\u001b[0m\u001b[0;34m\u001b[0m\u001b[0m\n\u001b[0;32m--> 496\u001b[0;31m                 \u001b[0mrv\u001b[0m \u001b[0;34m=\u001b[0m \u001b[0mreduce\u001b[0m\u001b[0;34m(\u001b[0m\u001b[0mself\u001b[0m\u001b[0;34m.\u001b[0m\u001b[0mproto\u001b[0m\u001b[0;34m)\u001b[0m\u001b[0;34m\u001b[0m\u001b[0;34m\u001b[0m\u001b[0m\n\u001b[0m\u001b[1;32m    497\u001b[0m             \u001b[0;32melse\u001b[0m\u001b[0;34m:\u001b[0m\u001b[0;34m\u001b[0m\u001b[0;34m\u001b[0m\u001b[0m\n\u001b[1;32m    498\u001b[0m                 \u001b[0mreduce\u001b[0m \u001b[0;34m=\u001b[0m \u001b[0mgetattr\u001b[0m\u001b[0;34m(\u001b[0m\u001b[0mobj\u001b[0m\u001b[0;34m,\u001b[0m \u001b[0;34m\"__reduce__\"\u001b[0m\u001b[0;34m,\u001b[0m \u001b[0;32mNone\u001b[0m\u001b[0;34m)\u001b[0m\u001b[0;34m\u001b[0m\u001b[0;34m\u001b[0m\u001b[0m\n",
            "\u001b[0;31mValueError\u001b[0m: ctypes objects containing pointers cannot be pickled"
          ]
        }
      ]
    },
    {
      "cell_type": "markdown",
      "metadata": {
        "id": "dXgn5i-9r2Ih"
      },
      "source": [
        "# 9. LGBM model (only runs on Kaggle)"
      ]
    },
    {
      "cell_type": "markdown",
      "metadata": {
        "id": "awLaNNrur6tD"
      },
      "source": [
        "- https://medium.com/@pushkarmandot/https-medium-com-pushkarmandot-what-is-lightgbm-how-to-implement-it-how-to-fine-tune-the-parameters-60347819b7fc\n",
        "\n",
        "- https://www.kaggle.com/nicapotato/taxi-rides-time-analysis-and-oof-lgbm\n",
        "\n",
        "- https://www.kaggle.com/dsaichand3/lgbm-gpu\n",
        "\n",
        "- https://www.kaggle.com/aerdem4/rapids-svm-on-trends-neuroimaging\n",
        "\n",
        "\n",
        "Compared CPU vs GPU:\n",
        "- https://www.kaggle.com/ishivinal/sklearn-rapids-pandas\n"
      ]
    },
    {
      "cell_type": "markdown",
      "metadata": {
        "id": "Br4cxQ_dhhOd"
      },
      "source": [
        "## Setup LGBM with GPU Support (only working on Kaggle, not Colab)\n",
        "\n",
        "How to setup LGBM GPU Beta:\n",
        "- https://www.kaggle.com/vinhnguyen/gpu-acceleration-for-lightgbm\n"
      ]
    },
    {
      "cell_type": "code",
      "metadata": {
        "id": "LCEtHPjI3L68",
        "outputId": "451b0ad2-8c87-4694-afc8-e6b50e870c5b",
        "colab": {
          "base_uri": "https://localhost:8080/",
          "height": 293
        }
      },
      "source": [
        "!rm -r /opt/conda/lib/python3.6/site-packages/lightgbm\n",
        "!git clone --recursive https://github.com/Microsoft/LightGBM\n",
        "!apt-get install -y -qq libboost-all-dev"
      ],
      "execution_count": 125,
      "outputs": [
        {
          "output_type": "stream",
          "text": [
            "rm: cannot remove '/opt/conda/lib/python3.6/site-packages/lightgbm': No such file or directory\n",
            "Cloning into 'LightGBM'...\n",
            "remote: Enumerating objects: 19, done.\u001b[K\n",
            "remote: Counting objects: 100% (19/19), done.\u001b[K\n",
            "remote: Compressing objects: 100% (18/18), done.\u001b[K\n",
            "remote: Total 19759 (delta 4), reused 0 (delta 0), pack-reused 19740\u001b[K\n",
            "Receiving objects: 100% (19759/19759), 15.74 MiB | 30.24 MiB/s, done.\n",
            "Resolving deltas: 100% (14390/14390), done.\n",
            "Submodule 'include/boost/compute' (https://github.com/boostorg/compute) registered for path 'compute'\n",
            "Cloning into '/content/LightGBM/compute'...\n",
            "remote: Enumerating objects: 21728, done.        \n",
            "remote: Total 21728 (delta 0), reused 0 (delta 0), pack-reused 21728        \n",
            "Receiving objects: 100% (21728/21728), 8.50 MiB | 28.46 MiB/s, done.\n",
            "Resolving deltas: 100% (17565/17565), done.\n",
            "Submodule path 'compute': checked out '36c89134d4013b2e5e45bc55656a18bd6141995a'\n"
          ],
          "name": "stdout"
        }
      ]
    },
    {
      "cell_type": "code",
      "metadata": {
        "id": "55cYhd8bfvff",
        "outputId": "b4734e31-d583-423a-d7af-0c047bf6c77b",
        "colab": {
          "base_uri": "https://localhost:8080/",
          "height": 1000
        }
      },
      "source": [
        "%%bash\n",
        "cd LightGBM\n",
        "rm -r build\n",
        "mkdir build\n",
        "cd build\n",
        "cmake -DUSE_GPU=1 -DOpenCL_LIBRARY=/usr/local/cuda/lib64/libOpenCL.so -DOpenCL_INCLUDE_DIR=/usr/local/cuda/include/ ..\n",
        "make -j$(nproc)"
      ],
      "execution_count": 126,
      "outputs": [
        {
          "output_type": "stream",
          "text": [
            "-- The C compiler identification is GNU 7.5.0\n",
            "-- The CXX compiler identification is GNU 7.5.0\n",
            "-- Check for working C compiler: /usr/bin/cc\n",
            "-- Check for working C compiler: /usr/bin/cc -- works\n",
            "-- Detecting C compiler ABI info\n",
            "-- Detecting C compiler ABI info - done\n",
            "-- Detecting C compile features\n",
            "-- Detecting C compile features - done\n",
            "-- Check for working CXX compiler: /usr/bin/c++\n",
            "-- Check for working CXX compiler: /usr/bin/c++ -- works\n",
            "-- Detecting CXX compiler ABI info\n",
            "-- Detecting CXX compiler ABI info - done\n",
            "-- Detecting CXX compile features\n",
            "-- Detecting CXX compile features - done\n",
            "-- Found OpenMP_C: -fopenmp (found version \"4.5\") \n",
            "-- Found OpenMP_CXX: -fopenmp (found version \"4.5\") \n",
            "-- Found OpenMP: TRUE (found version \"4.5\")  \n",
            "-- Looking for CL_VERSION_2_2\n",
            "-- Looking for CL_VERSION_2_2 - not found\n",
            "-- Looking for CL_VERSION_2_1\n",
            "-- Looking for CL_VERSION_2_1 - not found\n",
            "-- Looking for CL_VERSION_2_0\n",
            "-- Looking for CL_VERSION_2_0 - not found\n",
            "-- Looking for CL_VERSION_1_2\n",
            "-- Looking for CL_VERSION_1_2 - found\n",
            "-- Found OpenCL: /usr/local/cuda/lib64/libOpenCL.so (found version \"1.2\") \n",
            "-- OpenCL include directory: /usr/local/cuda/include\n",
            "-- Found Boost 1.70.0 at /usr/local/lib/cmake/Boost-1.70.0\n",
            "--   Requested configuration: QUIET REQUIRED COMPONENTS filesystem;system\n",
            "-- Found boost_headers 1.70.0 at /usr/local/lib/cmake/boost_headers-1.70.0\n",
            "-- Found boost_filesystem 1.70.0 at /usr/local/lib/cmake/boost_filesystem-1.70.0\n",
            "--   libboost_filesystem.a\n",
            "-- Adding boost_filesystem dependencies: headers\n",
            "-- Found boost_system 1.70.0 at /usr/local/lib/cmake/boost_system-1.70.0\n",
            "--   libboost_system.a\n",
            "-- Adding boost_system dependencies: headers\n",
            "-- Boost 1.56.0 found.\n",
            "-- Found Boost components:\n",
            "   filesystem;system\n",
            "-- Performing Test MM_PREFETCH\n",
            "-- Performing Test MM_PREFETCH - Success\n",
            "-- Using _mm_prefetch\n",
            "-- Performing Test MM_MALLOC\n",
            "-- Performing Test MM_MALLOC - Success\n",
            "-- Using _mm_malloc\n",
            "-- Configuring done\n",
            "-- Generating done\n",
            "-- Build files have been written to: /content/LightGBM/build\n",
            "Scanning dependencies of target lightgbm\n",
            "Scanning dependencies of target _lightgbm\n",
            "[  1%] Building CXX object CMakeFiles/lightgbm.dir/src/main.cpp.o\n",
            "[  3%] Building CXX object CMakeFiles/_lightgbm.dir/src/application/application.cpp.o\n",
            "[  4%] Building CXX object CMakeFiles/lightgbm.dir/src/application/application.cpp.o\n",
            "[  6%] Building CXX object CMakeFiles/_lightgbm.dir/src/boosting/boosting.cpp.o\n",
            "[  7%] Building CXX object CMakeFiles/lightgbm.dir/src/boosting/boosting.cpp.o\n",
            "[  9%] Building CXX object CMakeFiles/_lightgbm.dir/src/boosting/gbdt.cpp.o\n",
            "[ 10%] Building CXX object CMakeFiles/lightgbm.dir/src/boosting/gbdt.cpp.o\n",
            "[ 12%] Building CXX object CMakeFiles/_lightgbm.dir/src/boosting/gbdt_model_text.cpp.o\n",
            "[ 14%] Building CXX object CMakeFiles/lightgbm.dir/src/boosting/gbdt_model_text.cpp.o\n",
            "[ 15%] Building CXX object CMakeFiles/_lightgbm.dir/src/boosting/gbdt_prediction.cpp.o\n",
            "[ 17%] Building CXX object CMakeFiles/lightgbm.dir/src/boosting/gbdt_prediction.cpp.o\n",
            "[ 18%] Building CXX object CMakeFiles/_lightgbm.dir/src/boosting/prediction_early_stop.cpp.o\n",
            "[ 20%] Building CXX object CMakeFiles/lightgbm.dir/src/boosting/prediction_early_stop.cpp.o\n",
            "[ 21%] Building CXX object CMakeFiles/_lightgbm.dir/src/io/bin.cpp.o\n",
            "[ 23%] Building CXX object CMakeFiles/lightgbm.dir/src/io/bin.cpp.o\n",
            "[ 25%] Building CXX object CMakeFiles/_lightgbm.dir/src/io/config.cpp.o\n",
            "[ 26%] Building CXX object CMakeFiles/lightgbm.dir/src/io/config.cpp.o\n",
            "[ 28%] Building CXX object CMakeFiles/_lightgbm.dir/src/io/config_auto.cpp.o\n",
            "[ 29%] Building CXX object CMakeFiles/lightgbm.dir/src/io/config_auto.cpp.o\n",
            "[ 31%] Building CXX object CMakeFiles/_lightgbm.dir/src/io/dataset.cpp.o\n",
            "[ 32%] Building CXX object CMakeFiles/lightgbm.dir/src/io/dataset.cpp.o\n",
            "[ 34%] Building CXX object CMakeFiles/_lightgbm.dir/src/io/dataset_loader.cpp.o\n",
            "[ 35%] Building CXX object CMakeFiles/lightgbm.dir/src/io/dataset_loader.cpp.o\n",
            "[ 37%] Building CXX object CMakeFiles/_lightgbm.dir/src/io/file_io.cpp.o\n",
            "[ 39%] Building CXX object CMakeFiles/_lightgbm.dir/src/io/json11.cpp.o\n",
            "[ 40%] Building CXX object CMakeFiles/lightgbm.dir/src/io/file_io.cpp.o\n",
            "[ 42%] Building CXX object CMakeFiles/lightgbm.dir/src/io/json11.cpp.o\n",
            "[ 43%] Building CXX object CMakeFiles/_lightgbm.dir/src/io/metadata.cpp.o\n",
            "[ 45%] Building CXX object CMakeFiles/lightgbm.dir/src/io/metadata.cpp.o\n",
            "[ 46%] Building CXX object CMakeFiles/_lightgbm.dir/src/io/parser.cpp.o\n",
            "[ 48%] Building CXX object CMakeFiles/lightgbm.dir/src/io/parser.cpp.o\n",
            "[ 50%] Building CXX object CMakeFiles/_lightgbm.dir/src/io/tree.cpp.o\n",
            "[ 51%] Building CXX object CMakeFiles/lightgbm.dir/src/io/tree.cpp.o\n",
            "[ 53%] Building CXX object CMakeFiles/_lightgbm.dir/src/metric/dcg_calculator.cpp.o\n",
            "[ 54%] Building CXX object CMakeFiles/lightgbm.dir/src/metric/dcg_calculator.cpp.o\n",
            "[ 56%] Building CXX object CMakeFiles/_lightgbm.dir/src/metric/metric.cpp.o\n",
            "[ 57%] Building CXX object CMakeFiles/lightgbm.dir/src/metric/metric.cpp.o\n",
            "[ 59%] Building CXX object CMakeFiles/_lightgbm.dir/src/network/linker_topo.cpp.o\n",
            "[ 60%] Building CXX object CMakeFiles/lightgbm.dir/src/network/linker_topo.cpp.o\n",
            "[ 62%] Building CXX object CMakeFiles/_lightgbm.dir/src/network/linkers_mpi.cpp.o\n",
            "[ 64%] Building CXX object CMakeFiles/_lightgbm.dir/src/network/linkers_socket.cpp.o\n",
            "[ 65%] Building CXX object CMakeFiles/lightgbm.dir/src/network/linkers_mpi.cpp.o\n",
            "[ 67%] Building CXX object CMakeFiles/lightgbm.dir/src/network/linkers_socket.cpp.o\n",
            "[ 68%] Building CXX object CMakeFiles/_lightgbm.dir/src/network/network.cpp.o\n",
            "[ 70%] Building CXX object CMakeFiles/lightgbm.dir/src/network/network.cpp.o\n",
            "[ 71%] Building CXX object CMakeFiles/_lightgbm.dir/src/objective/objective_function.cpp.o\n",
            "[ 73%] Building CXX object CMakeFiles/lightgbm.dir/src/objective/objective_function.cpp.o\n",
            "[ 75%] Building CXX object CMakeFiles/_lightgbm.dir/src/treelearner/cuda_tree_learner.cpp.o\n",
            "[ 76%] Building CXX object CMakeFiles/_lightgbm.dir/src/treelearner/data_parallel_tree_learner.cpp.o\n",
            "[ 78%] Building CXX object CMakeFiles/lightgbm.dir/src/treelearner/cuda_tree_learner.cpp.o\n",
            "[ 79%] Building CXX object CMakeFiles/lightgbm.dir/src/treelearner/data_parallel_tree_learner.cpp.o\n",
            "[ 81%] Building CXX object CMakeFiles/_lightgbm.dir/src/treelearner/feature_parallel_tree_learner.cpp.o\n",
            "[ 82%] Building CXX object CMakeFiles/lightgbm.dir/src/treelearner/feature_parallel_tree_learner.cpp.o\n",
            "[ 84%] Building CXX object CMakeFiles/_lightgbm.dir/src/treelearner/gpu_tree_learner.cpp.o\n",
            "[ 85%] Building CXX object CMakeFiles/lightgbm.dir/src/treelearner/gpu_tree_learner.cpp.o\n",
            "[ 87%] Building CXX object CMakeFiles/_lightgbm.dir/src/treelearner/serial_tree_learner.cpp.o\n",
            "[ 89%] Building CXX object CMakeFiles/lightgbm.dir/src/treelearner/serial_tree_learner.cpp.o\n",
            "[ 90%] Building CXX object CMakeFiles/lightgbm.dir/src/treelearner/tree_learner.cpp.o\n",
            "[ 92%] Building CXX object CMakeFiles/_lightgbm.dir/src/treelearner/tree_learner.cpp.o\n",
            "[ 93%] Building CXX object CMakeFiles/lightgbm.dir/src/treelearner/voting_parallel_tree_learner.cpp.o\n",
            "[ 95%] Building CXX object CMakeFiles/_lightgbm.dir/src/treelearner/voting_parallel_tree_learner.cpp.o\n",
            "[ 96%] Building CXX object CMakeFiles/_lightgbm.dir/src/c_api.cpp.o\n",
            "[ 98%] Linking CXX executable ../lightgbm\n",
            "CMakeFiles/lightgbm.dir/build.make:534: recipe for target '../lightgbm' failed\n",
            "CMakeFiles/Makefile2:109: recipe for target 'CMakeFiles/lightgbm.dir/all' failed\n",
            "[100%] Linking CXX shared library ../lib_lightgbm.so\n",
            "[100%] Built target _lightgbm\n",
            "Makefile:129: recipe for target 'all' failed\n"
          ],
          "name": "stdout"
        },
        {
          "output_type": "stream",
          "text": [
            "rm: cannot remove 'build': No such file or directory\n",
            "CMakeFiles/lightgbm.dir/src/treelearner/gpu_tree_learner.cpp.o: In function `boost::compute::detail::program_binary_path(std::__cxx11::basic_string<char, std::char_traits<char>, std::allocator<char> > const&, bool)':\n",
            "gpu_tree_learner.cpp:(.text._ZN5boost7compute6detail19program_binary_pathERKNSt7__cxx1112basic_stringIcSt11char_traitsIcESaIcEEEb[_ZN5boost7compute6detail19program_binary_pathERKNSt7__cxx1112basic_stringIcSt11char_traitsIcESaIcEEEb]+0x1e5): undefined reference to `boost::filesystem::detail::status(boost::filesystem::path const&, boost::system::error_code*)'\n",
            "gpu_tree_learner.cpp:(.text._ZN5boost7compute6detail19program_binary_pathERKNSt7__cxx1112basic_stringIcSt11char_traitsIcESaIcEEEb[_ZN5boost7compute6detail19program_binary_pathERKNSt7__cxx1112basic_stringIcSt11char_traitsIcESaIcEEEb]+0x233): undefined reference to `boost::filesystem::detail::create_directories(boost::filesystem::path const&, boost::system::error_code*)'\n",
            "CMakeFiles/lightgbm.dir/src/treelearner/gpu_tree_learner.cpp.o: In function `boost::compute::detail::parameter_cache_path[abi:cxx11](bool)':\n",
            "gpu_tree_learner.cpp:(.text._ZN5boost7compute6detail20parameter_cache_pathB5cxx11Eb[_ZN5boost7compute6detail20parameter_cache_pathB5cxx11Eb]+0x70): undefined reference to `boost::filesystem::detail::status(boost::filesystem::path const&, boost::system::error_code*)'\n",
            "gpu_tree_learner.cpp:(.text._ZN5boost7compute6detail20parameter_cache_pathB5cxx11Eb[_ZN5boost7compute6detail20parameter_cache_pathB5cxx11Eb]+0xb4): undefined reference to `boost::filesystem::detail::create_directories(boost::filesystem::path const&, boost::system::error_code*)'\n",
            "CMakeFiles/lightgbm.dir/src/treelearner/gpu_tree_learner.cpp.o: In function `boost::detail::sp_if_not_array<boost::compute::detail::parameter_cache>::type boost::make_shared<boost::compute::detail::parameter_cache, boost::compute::device const&>(boost::compute::device const&)':\n",
            "gpu_tree_learner.cpp:(.text._ZN5boost11make_sharedINS_7compute6detail15parameter_cacheEJRKNS1_6deviceEEEENS_6detail15sp_if_not_arrayIT_E4typeEDpOT0_[_ZN5boost11make_sharedINS_7compute6detail15parameter_cacheEJRKNS1_6deviceEEEENS_6detail15sp_if_not_arrayIT_E4typeEDpOT0_]+0x127): undefined reference to `boost::filesystem::detail::status(boost::filesystem::path const&, boost::system::error_code*)'\n",
            "collect2: error: ld returned 1 exit status\n",
            "make[2]: *** [../lightgbm] Error 1\n",
            "make[1]: *** [CMakeFiles/lightgbm.dir/all] Error 2\n",
            "make[1]: *** Waiting for unfinished jobs....\n",
            "make: *** [all] Error 2\n"
          ],
          "name": "stderr"
        }
      ]
    },
    {
      "cell_type": "code",
      "metadata": {
        "id": "xAb6mTwwqps-",
        "outputId": "71a39339-15cb-4cf6-d6ae-61d611e4f0bb",
        "colab": {
          "base_uri": "https://localhost:8080/",
          "height": 1000
        }
      },
      "source": [
        "!cd LightGBM/python-package/;python3 setup.py install --precompile\n",
        "!mkdir -p /etc/OpenCL/vendors && echo \"libnvidia-opencl.so.1\" > /etc/OpenCL/vendors/nvidia.icd\n",
        "!rm -r LightGBM"
      ],
      "execution_count": 127,
      "outputs": [
        {
          "output_type": "stream",
          "text": [
            "running install\n",
            "running build\n",
            "running build_py\n",
            "creating build\n",
            "creating build/lib\n",
            "creating build/lib/lightgbm\n",
            "copying lightgbm/callback.py -> build/lib/lightgbm\n",
            "copying lightgbm/sklearn.py -> build/lib/lightgbm\n",
            "copying lightgbm/plotting.py -> build/lib/lightgbm\n",
            "copying lightgbm/libpath.py -> build/lib/lightgbm\n",
            "copying lightgbm/engine.py -> build/lib/lightgbm\n",
            "copying lightgbm/basic.py -> build/lib/lightgbm\n",
            "copying lightgbm/compat.py -> build/lib/lightgbm\n",
            "copying lightgbm/__init__.py -> build/lib/lightgbm\n",
            "running egg_info\n",
            "creating lightgbm.egg-info\n",
            "writing lightgbm.egg-info/PKG-INFO\n",
            "writing dependency_links to lightgbm.egg-info/dependency_links.txt\n",
            "writing requirements to lightgbm.egg-info/requires.txt\n",
            "writing top-level names to lightgbm.egg-info/top_level.txt\n",
            "writing manifest file 'lightgbm.egg-info/SOURCES.txt'\n",
            "reading manifest file 'lightgbm.egg-info/SOURCES.txt'\n",
            "reading manifest template 'MANIFEST.in'\n",
            "no previously-included directories found matching 'build'\n",
            "warning: no files found matching 'LICENSE'\n",
            "warning: no files found matching '*.txt'\n",
            "warning: no files found matching '*.so' under directory 'lightgbm'\n",
            "warning: no files found matching '*.txt' under directory 'compile'\n",
            "warning: no files found matching '*.so' under directory 'compile'\n",
            "warning: no files found matching '*.dll' under directory 'compile/Release'\n",
            "warning: no files found matching '*' under directory 'compile/compute'\n",
            "warning: no files found matching '*' under directory 'compile/include'\n",
            "warning: no files found matching '*' under directory 'compile/src'\n",
            "warning: no files found matching 'LightGBM.sln' under directory 'compile/windows'\n",
            "warning: no files found matching 'LightGBM.vcxproj' under directory 'compile/windows'\n",
            "warning: no files found matching '*.dll' under directory 'compile/windows/x64/DLL'\n",
            "warning: no previously-included files matching '*.py[co]' found anywhere in distribution\n",
            "writing manifest file 'lightgbm.egg-info/SOURCES.txt'\n",
            "copying lightgbm/VERSION.txt -> build/lib/lightgbm\n",
            "running install_lib\n",
            "creating /usr/local/lib/python3.6/site-packages/lightgbm\n",
            "copying build/lib/lightgbm/callback.py -> /usr/local/lib/python3.6/site-packages/lightgbm\n",
            "copying build/lib/lightgbm/sklearn.py -> /usr/local/lib/python3.6/site-packages/lightgbm\n",
            "copying build/lib/lightgbm/VERSION.txt -> /usr/local/lib/python3.6/site-packages/lightgbm\n",
            "copying build/lib/lightgbm/plotting.py -> /usr/local/lib/python3.6/site-packages/lightgbm\n",
            "copying build/lib/lightgbm/libpath.py -> /usr/local/lib/python3.6/site-packages/lightgbm\n",
            "copying build/lib/lightgbm/engine.py -> /usr/local/lib/python3.6/site-packages/lightgbm\n",
            "copying build/lib/lightgbm/basic.py -> /usr/local/lib/python3.6/site-packages/lightgbm\n",
            "copying build/lib/lightgbm/compat.py -> /usr/local/lib/python3.6/site-packages/lightgbm\n",
            "copying build/lib/lightgbm/__init__.py -> /usr/local/lib/python3.6/site-packages/lightgbm\n",
            "INFO:LightGBM:Installing lib_lightgbm from: ['../lib_lightgbm.so']\n",
            "copying ../lib_lightgbm.so -> /usr/local/lib/python3.6/site-packages/lightgbm\n",
            "byte-compiling /usr/local/lib/python3.6/site-packages/lightgbm/callback.py to callback.cpython-36.pyc\n",
            "byte-compiling /usr/local/lib/python3.6/site-packages/lightgbm/sklearn.py to sklearn.cpython-36.pyc\n",
            "byte-compiling /usr/local/lib/python3.6/site-packages/lightgbm/plotting.py to plotting.cpython-36.pyc\n",
            "byte-compiling /usr/local/lib/python3.6/site-packages/lightgbm/libpath.py to libpath.cpython-36.pyc\n",
            "byte-compiling /usr/local/lib/python3.6/site-packages/lightgbm/engine.py to engine.cpython-36.pyc\n",
            "byte-compiling /usr/local/lib/python3.6/site-packages/lightgbm/basic.py to basic.cpython-36.pyc\n",
            "byte-compiling /usr/local/lib/python3.6/site-packages/lightgbm/compat.py to compat.cpython-36.pyc\n",
            "byte-compiling /usr/local/lib/python3.6/site-packages/lightgbm/__init__.py to __init__.cpython-36.pyc\n",
            "running install_egg_info\n",
            "Copying lightgbm.egg-info to /usr/local/lib/python3.6/site-packages/lightgbm-3.0.0.99-py3.6.egg-info\n",
            "running install_scripts\n"
          ],
          "name": "stdout"
        }
      ]
    },
    {
      "cell_type": "code",
      "metadata": {
        "id": "JlFpAHIgjZwF"
      },
      "source": [
        "%%bash\n",
        "cd .."
      ],
      "execution_count": 131,
      "outputs": []
    },
    {
      "cell_type": "code",
      "metadata": {
        "id": "0V8mfpqxktdZ",
        "outputId": "6d2b343a-10f9-4330-89fc-45a1d57571ae",
        "colab": {
          "base_uri": "https://localhost:8080/",
          "height": 1000
        }
      },
      "source": [
        "#!pip install lightgbm --install-option=--gpu --force-reinstall"
      ],
      "execution_count": 136,
      "outputs": [
        {
          "output_type": "stream",
          "text": [
            "/usr/local/lib/python3.6/site-packages/pip/_internal/commands/install.py:235: UserWarning: Disabling all use of wheels due to the use of --build-option / --global-option / --install-option.\n",
            "  cmdoptions.check_install_build_global(options)\n",
            "Collecting lightgbm\n",
            "  Downloading lightgbm-3.0.0.tar.gz (711 kB)\n",
            "\u001b[K     |████████████████████████████████| 711 kB 4.4 MB/s \n",
            "\u001b[?25hCollecting numpy\n",
            "  Downloading numpy-1.19.2.zip (7.3 MB)\n",
            "\u001b[K     |████████████████████████████████| 7.3 MB 11.3 MB/s \n",
            "\u001b[?25h  Installing build dependencies ... \u001b[?25l\u001b[?25hdone\n",
            "  Getting requirements to build wheel ... \u001b[?25l\u001b[?25hdone\n",
            "    Preparing wheel metadata ... \u001b[?25l\u001b[?25hdone\n",
            "Collecting scipy\n",
            "  Downloading scipy-1.5.2.tar.gz (25.4 MB)\n",
            "\u001b[K     |████████████████████████████████| 25.4 MB 97 kB/s \n",
            "\u001b[?25h  Installing build dependencies ... \u001b[?25l\u001b[?25hdone\n",
            "  Getting requirements to build wheel ... \u001b[?25l\u001b[?25hdone\n",
            "    Preparing wheel metadata ... \u001b[?25l\u001b[?25hdone\n",
            "Collecting scikit-learn!=0.22.0\n",
            "  Downloading scikit-learn-0.23.2.tar.gz (7.2 MB)\n",
            "\u001b[K     |████████████████████████████████| 7.2 MB 55.4 MB/s \n",
            "\u001b[?25h  Installing build dependencies ... \u001b[?25l\u001b[?25hdone\n",
            "  Getting requirements to build wheel ... \u001b[?25l\u001b[?25hdone\n",
            "    Preparing wheel metadata ... \u001b[?25l\u001b[?25hdone\n",
            "Collecting threadpoolctl>=2.0.0\n",
            "  Downloading threadpoolctl-2.1.0.tar.gz (26 kB)\n",
            "  Installing build dependencies ... \u001b[?25l\u001b[?25hdone\n",
            "  Getting requirements to build wheel ... \u001b[?25l\u001b[?25hdone\n",
            "    Preparing wheel metadata ... \u001b[?25l\u001b[?25hdone\n",
            "Collecting joblib>=0.11\n",
            "  Downloading joblib-0.16.0.tar.gz (349 kB)\n",
            "\u001b[K     |████████████████████████████████| 349 kB 7.6 MB/s \n",
            "\u001b[?25hSkipping wheel build for lightgbm, due to binaries being disabled for it.\n",
            "Skipping wheel build for joblib, due to binaries being disabled for it.\n",
            "Building wheels for collected packages: numpy, scipy, scikit-learn, threadpoolctl\n",
            "  Building wheel for numpy (PEP 517) ... \u001b[?25l\u001b[?25hdone\n",
            "  Created wheel for numpy: filename=numpy-1.19.2-cp36-cp36m-linux_x86_64.whl size=11872360 sha256=4154c364a43dcfb965a3f28d9053db44ad7bd5878daca81f606fccf5d424f0f5\n",
            "  Stored in directory: /root/.cache/pip/wheels/36/48/58/cb2cea5eca0aaefdfcd071d2ce93e43a120ae8c34f31557172\n",
            "  Building wheel for scipy (PEP 517) ... \u001b[?25l\u001b[?25hdone\n",
            "  Created wheel for scipy: filename=scipy-1.5.2-cp36-cp36m-linux_x86_64.whl size=47012945 sha256=a395a3acf93b8f01ba8868b9ea72701be0ce31ae2e2c98bfea205e6f5bbff720\n",
            "  Stored in directory: /root/.cache/pip/wheels/3d/40/b0/634b364529b66a3ff21498f605cd6aad00d9868a14276cdd2f\n",
            "  Building wheel for scikit-learn (PEP 517) ... \u001b[?25l\u001b[?25hdone\n",
            "  Created wheel for scikit-learn: filename=scikit_learn-0.23.2-cp36-cp36m-linux_x86_64.whl size=18200801 sha256=1fb27d0c5a186ae66494d88dfc6caec1b4002727a272e3674ea604859375d10e\n",
            "  Stored in directory: /root/.cache/pip/wheels/4a/1d/70/144051ea034c445bf6c9926fe01897ed1d6c92782722fcf010\n",
            "  Building wheel for threadpoolctl (PEP 517) ... \u001b[?25l\u001b[?25hdone\n",
            "  Created wheel for threadpoolctl: filename=threadpoolctl-2.1.0-py3-none-any.whl size=12640 sha256=8186279a53eda9af1c2ecbc76767da77906cf99ed1573c5ae8a60d8b193d810a\n",
            "  Stored in directory: /root/.cache/pip/wheels/8f/49/c9/d79a7d596f93f6bec36aac6c588c7b81ed4b9a503fe3700efe\n",
            "Successfully built numpy scipy scikit-learn threadpoolctl\n",
            "Installing collected packages: numpy, scipy, threadpoolctl, joblib, scikit-learn, lightgbm\n",
            "  Attempting uninstall: numpy\n",
            "    Found existing installation: numpy 1.19.1\n",
            "    Uninstalling numpy-1.19.1:\n",
            "      Successfully uninstalled numpy-1.19.1\n",
            "  Attempting uninstall: scipy\n",
            "    Found existing installation: scipy 1.4.1\n",
            "    Uninstalling scipy-1.4.1:\n",
            "      Successfully uninstalled scipy-1.4.1\n",
            "  Attempting uninstall: threadpoolctl\n",
            "    Found existing installation: threadpoolctl 2.1.0\n",
            "    Uninstalling threadpoolctl-2.1.0:\n",
            "      Successfully uninstalled threadpoolctl-2.1.0\n",
            "  Attempting uninstall: joblib\n",
            "    Found existing installation: joblib 0.16.0\n",
            "    Uninstalling joblib-0.16.0:\n",
            "      Successfully uninstalled joblib-0.16.0\n",
            "    Running setup.py install for joblib ... \u001b[?25l\u001b[?25herror\n",
            "  Rolling back uninstall of joblib\n",
            "  Moving to /usr/local/lib/python3.6/site-packages/joblib-0.16.0.dist-info/\n",
            "   from /usr/local/lib/python3.6/site-packages/~oblib-0.16.0.dist-info\n",
            "  Moving to /usr/local/lib/python3.6/site-packages/joblib/\n",
            "   from /usr/local/lib/python3.6/site-packages/~oblib\n",
            "\u001b[31mERROR: Command errored out with exit status 1: /usr/local/bin/python3.6 -u -c 'import sys, setuptools, tokenize; sys.argv[0] = '\"'\"'/tmp/pip-install-8p239s_v/joblib/setup.py'\"'\"'; __file__='\"'\"'/tmp/pip-install-8p239s_v/joblib/setup.py'\"'\"';f=getattr(tokenize, '\"'\"'open'\"'\"', open)(__file__);code=f.read().replace('\"'\"'\\r\\n'\"'\"', '\"'\"'\\n'\"'\"');f.close();exec(compile(code, __file__, '\"'\"'exec'\"'\"'))' install --record /tmp/pip-record-5a37pofh/install-record.txt --single-version-externally-managed --compile --install-headers /usr/local/include/python3.6m/joblib --gpu Check the logs for full command output.\u001b[0m\n"
          ],
          "name": "stdout"
        }
      ]
    },
    {
      "cell_type": "code",
      "metadata": {
        "id": "eVlid4GMsy2W",
        "outputId": "a0212327-656b-445a-f814-cd0a12f3d745",
        "colab": {
          "base_uri": "https://localhost:8080/",
          "height": 343
        }
      },
      "source": [
        "import lightgbm as lgbm"
      ],
      "execution_count": 137,
      "outputs": [
        {
          "output_type": "error",
          "ename": "OSError",
          "evalue": "ignored",
          "traceback": [
            "\u001b[0;31m---------------------------------------------------------------------------\u001b[0m",
            "\u001b[0;31mOSError\u001b[0m                                   Traceback (most recent call last)",
            "\u001b[0;32m<ipython-input-137-e129fb0ec361>\u001b[0m in \u001b[0;36m<module>\u001b[0;34m()\u001b[0m\n\u001b[0;32m----> 1\u001b[0;31m \u001b[0;32mimport\u001b[0m \u001b[0mlightgbm\u001b[0m \u001b[0;32mas\u001b[0m \u001b[0mlgbm\u001b[0m\u001b[0;34m\u001b[0m\u001b[0;34m\u001b[0m\u001b[0m\n\u001b[0m",
            "\u001b[0;32m/usr/local/lib/python3.6/site-packages/lightgbm/__init__.py\u001b[0m in \u001b[0;36m<module>\u001b[0;34m()\u001b[0m\n\u001b[1;32m      6\u001b[0m \u001b[0;32mfrom\u001b[0m \u001b[0m__future__\u001b[0m \u001b[0;32mimport\u001b[0m \u001b[0mabsolute_import\u001b[0m\u001b[0;34m\u001b[0m\u001b[0;34m\u001b[0m\u001b[0m\n\u001b[1;32m      7\u001b[0m \u001b[0;34m\u001b[0m\u001b[0m\n\u001b[0;32m----> 8\u001b[0;31m \u001b[0;32mfrom\u001b[0m \u001b[0;34m.\u001b[0m\u001b[0mbasic\u001b[0m \u001b[0;32mimport\u001b[0m \u001b[0mBooster\u001b[0m\u001b[0;34m,\u001b[0m \u001b[0mDataset\u001b[0m\u001b[0;34m\u001b[0m\u001b[0;34m\u001b[0m\u001b[0m\n\u001b[0m\u001b[1;32m      9\u001b[0m from .callback import (early_stopping, print_evaluation, record_evaluation,\n\u001b[1;32m     10\u001b[0m                        reset_parameter)\n",
            "\u001b[0;32m/usr/local/lib/python3.6/site-packages/lightgbm/basic.py\u001b[0m in \u001b[0;36m<module>\u001b[0;34m()\u001b[0m\n\u001b[1;32m     41\u001b[0m \u001b[0;34m\u001b[0m\u001b[0m\n\u001b[1;32m     42\u001b[0m \u001b[0;34m\u001b[0m\u001b[0m\n\u001b[0;32m---> 43\u001b[0;31m \u001b[0m_LIB\u001b[0m \u001b[0;34m=\u001b[0m \u001b[0m_load_lib\u001b[0m\u001b[0;34m(\u001b[0m\u001b[0;34m)\u001b[0m\u001b[0;34m\u001b[0m\u001b[0;34m\u001b[0m\u001b[0m\n\u001b[0m\u001b[1;32m     44\u001b[0m \u001b[0;34m\u001b[0m\u001b[0m\n\u001b[1;32m     45\u001b[0m \u001b[0;34m\u001b[0m\u001b[0m\n",
            "\u001b[0;32m/usr/local/lib/python3.6/site-packages/lightgbm/basic.py\u001b[0m in \u001b[0;36m_load_lib\u001b[0;34m()\u001b[0m\n\u001b[1;32m     32\u001b[0m     \u001b[0;32mif\u001b[0m \u001b[0mlen\u001b[0m\u001b[0;34m(\u001b[0m\u001b[0mlib_path\u001b[0m\u001b[0;34m)\u001b[0m \u001b[0;34m==\u001b[0m \u001b[0;36m0\u001b[0m\u001b[0;34m:\u001b[0m\u001b[0;34m\u001b[0m\u001b[0;34m\u001b[0m\u001b[0m\n\u001b[1;32m     33\u001b[0m         \u001b[0;32mreturn\u001b[0m \u001b[0;32mNone\u001b[0m\u001b[0;34m\u001b[0m\u001b[0;34m\u001b[0m\u001b[0m\n\u001b[0;32m---> 34\u001b[0;31m     \u001b[0mlib\u001b[0m \u001b[0;34m=\u001b[0m \u001b[0mctypes\u001b[0m\u001b[0;34m.\u001b[0m\u001b[0mcdll\u001b[0m\u001b[0;34m.\u001b[0m\u001b[0mLoadLibrary\u001b[0m\u001b[0;34m(\u001b[0m\u001b[0mlib_path\u001b[0m\u001b[0;34m[\u001b[0m\u001b[0;36m0\u001b[0m\u001b[0;34m]\u001b[0m\u001b[0;34m)\u001b[0m\u001b[0;34m\u001b[0m\u001b[0;34m\u001b[0m\u001b[0m\n\u001b[0m\u001b[1;32m     35\u001b[0m     \u001b[0mlib\u001b[0m\u001b[0;34m.\u001b[0m\u001b[0mLGBM_GetLastError\u001b[0m\u001b[0;34m.\u001b[0m\u001b[0mrestype\u001b[0m \u001b[0;34m=\u001b[0m \u001b[0mctypes\u001b[0m\u001b[0;34m.\u001b[0m\u001b[0mc_char_p\u001b[0m\u001b[0;34m\u001b[0m\u001b[0;34m\u001b[0m\u001b[0m\n\u001b[1;32m     36\u001b[0m     \u001b[0mcallback\u001b[0m \u001b[0;34m=\u001b[0m \u001b[0mctypes\u001b[0m\u001b[0;34m.\u001b[0m\u001b[0mCFUNCTYPE\u001b[0m\u001b[0;34m(\u001b[0m\u001b[0;32mNone\u001b[0m\u001b[0;34m,\u001b[0m \u001b[0mctypes\u001b[0m\u001b[0;34m.\u001b[0m\u001b[0mc_char_p\u001b[0m\u001b[0;34m)\u001b[0m\u001b[0;34m\u001b[0m\u001b[0;34m\u001b[0m\u001b[0m\n",
            "\u001b[0;32m/usr/lib/python3.6/ctypes/__init__.py\u001b[0m in \u001b[0;36mLoadLibrary\u001b[0;34m(self, name)\u001b[0m\n\u001b[1;32m    424\u001b[0m \u001b[0;34m\u001b[0m\u001b[0m\n\u001b[1;32m    425\u001b[0m     \u001b[0;32mdef\u001b[0m \u001b[0mLoadLibrary\u001b[0m\u001b[0;34m(\u001b[0m\u001b[0mself\u001b[0m\u001b[0;34m,\u001b[0m \u001b[0mname\u001b[0m\u001b[0;34m)\u001b[0m\u001b[0;34m:\u001b[0m\u001b[0;34m\u001b[0m\u001b[0;34m\u001b[0m\u001b[0m\n\u001b[0;32m--> 426\u001b[0;31m         \u001b[0;32mreturn\u001b[0m \u001b[0mself\u001b[0m\u001b[0;34m.\u001b[0m\u001b[0m_dlltype\u001b[0m\u001b[0;34m(\u001b[0m\u001b[0mname\u001b[0m\u001b[0;34m)\u001b[0m\u001b[0;34m\u001b[0m\u001b[0;34m\u001b[0m\u001b[0m\n\u001b[0m\u001b[1;32m    427\u001b[0m \u001b[0;34m\u001b[0m\u001b[0m\n\u001b[1;32m    428\u001b[0m \u001b[0mcdll\u001b[0m \u001b[0;34m=\u001b[0m \u001b[0mLibraryLoader\u001b[0m\u001b[0;34m(\u001b[0m\u001b[0mCDLL\u001b[0m\u001b[0;34m)\u001b[0m\u001b[0;34m\u001b[0m\u001b[0;34m\u001b[0m\u001b[0m\n",
            "\u001b[0;32m/usr/lib/python3.6/ctypes/__init__.py\u001b[0m in \u001b[0;36m__init__\u001b[0;34m(self, name, mode, handle, use_errno, use_last_error)\u001b[0m\n\u001b[1;32m    346\u001b[0m \u001b[0;34m\u001b[0m\u001b[0m\n\u001b[1;32m    347\u001b[0m         \u001b[0;32mif\u001b[0m \u001b[0mhandle\u001b[0m \u001b[0;32mis\u001b[0m \u001b[0;32mNone\u001b[0m\u001b[0;34m:\u001b[0m\u001b[0;34m\u001b[0m\u001b[0;34m\u001b[0m\u001b[0m\n\u001b[0;32m--> 348\u001b[0;31m             \u001b[0mself\u001b[0m\u001b[0;34m.\u001b[0m\u001b[0m_handle\u001b[0m \u001b[0;34m=\u001b[0m \u001b[0m_dlopen\u001b[0m\u001b[0;34m(\u001b[0m\u001b[0mself\u001b[0m\u001b[0;34m.\u001b[0m\u001b[0m_name\u001b[0m\u001b[0;34m,\u001b[0m \u001b[0mmode\u001b[0m\u001b[0;34m)\u001b[0m\u001b[0;34m\u001b[0m\u001b[0;34m\u001b[0m\u001b[0m\n\u001b[0m\u001b[1;32m    349\u001b[0m         \u001b[0;32melse\u001b[0m\u001b[0;34m:\u001b[0m\u001b[0;34m\u001b[0m\u001b[0;34m\u001b[0m\u001b[0m\n\u001b[1;32m    350\u001b[0m             \u001b[0mself\u001b[0m\u001b[0;34m.\u001b[0m\u001b[0m_handle\u001b[0m \u001b[0;34m=\u001b[0m \u001b[0mhandle\u001b[0m\u001b[0;34m\u001b[0m\u001b[0;34m\u001b[0m\u001b[0m\n",
            "\u001b[0;31mOSError\u001b[0m: /usr/local/lib/python3.6/site-packages/lightgbm/lib_lightgbm.so: undefined symbol: _ZN5boost10filesystem6detail18create_directoriesERKNS0_4pathEPNS_6system10error_codeE"
          ]
        }
      ]
    },
    {
      "cell_type": "code",
      "metadata": {
        "id": "bS403xD2hqTa"
      },
      "source": [
        "## Inspiration from https://www.kaggle.com/dsaichand3/lgbm-gpu\n",
        "params = {\n",
        "        'boosting_type':'gbdt',\n",
        "        'objective': 'regression',\n",
        "        'nthread': 4,\n",
        "        'num_leaves': 31,\n",
        "        'learning_rate': 0.15,\n",
        "        'max_depth': -1,\n",
        "        'subsample': 0.8,\n",
        "        'bagging_fraction' : 1,\n",
        "        'max_bin' : 15,\n",
        "        'bagging_freq': 20,\n",
        "        'colsample_bytree': 0.6,\n",
        "        'metric': 'rmse',\n",
        "        'min_split_gain': 0.5,\n",
        "        'min_child_weight': 1,\n",
        "        'min_child_samples': 10,\n",
        "        'scale_pos_weight':1,\n",
        "        'zero_as_missing': True,\n",
        "        'seed':0,\n",
        "        'num_rounds':50000,\n",
        "        'device': 'gpu',\n",
        "        'gpu_platform_id': 0,\n",
        "        'gpu_device_id': 0\n",
        "    }"
      ],
      "execution_count": null,
      "outputs": []
    },
    {
      "cell_type": "code",
      "metadata": {
        "id": "-YpUXS4JUBlj"
      },
      "source": [
        "col_cat = X_train.select_dtypes('object').columns.tolist()\n",
        "\n",
        "d_train = lgbm.Dataset(X_train.to_pandas(), label = y_train.to_pandas(), categorical_feature = col_cat, free_raw_data=False)\n",
        "d_valid = lgbm.Dataset(X_test.to_pandas(), label = y_test.to_pandas(), categorical_feature = col_cat, free_raw_data=False)"
      ],
      "execution_count": null,
      "outputs": []
    },
    {
      "cell_type": "markdown",
      "metadata": {
        "id": "lz9YxT4jURRU"
      },
      "source": [
        "Strange thing is, \"GPU Memory consumption\" is almost at limit with 41 Mio rows (15.1 GB, max. 15.9 GB) but \"Cumulative GPU usage\" still shows 0.00 %\"."
      ]
    },
    {
      "cell_type": "code",
      "metadata": {
        "id": "F4ihZhGkip44"
      },
      "source": [
        "%%time\n",
        "model = lgbm.train(params_1, train_set = d_train, num_boost_round=10000, early_stopping_rounds=100, verbose_eval=10, valid_sets=d_valid)"
      ],
      "execution_count": null,
      "outputs": []
    },
    {
      "cell_type": "code",
      "metadata": {
        "id": "RTtrGcjXyqbc"
      },
      "source": [
        "y_test_pred = model.predict(X_test, num_iteration = model.best_iteration)\n",
        "\n",
        "score_LGBM = calc_R2(y_test_pred, 'LGBM GPU')\n",
        "\n",
        "y_test_pred_lgbm = y_test_pred"
      ],
      "execution_count": null,
      "outputs": []
    },
    {
      "cell_type": "code",
      "metadata": {
        "id": "RpiQu9UqtgzG"
      },
      "source": [
        "y_pred_LGBM = model.predict(test, num_iteration = model.best_iteration)\n",
        "\n",
        "save_model_csv(y_pred_LGBM, 'submission_LGBM_GPU')"
      ],
      "execution_count": null,
      "outputs": []
    },
    {
      "cell_type": "markdown",
      "metadata": {
        "id": "Vw6a5lCQVWwV"
      },
      "source": [
        "# 10. Stacked Ensemble XGB and LGBM"
      ]
    },
    {
      "cell_type": "markdown",
      "metadata": {
        "id": "rCtBZjlSWWr4"
      },
      "source": [
        "In my approach to further improve the predictions I tried to combine the two most advanced models as suggested by https://www.kaggle.com/amar09/fare-prediction-stacked-ensemble-xgboost-lgbm/log."
      ]
    },
    {
      "cell_type": "code",
      "metadata": {
        "id": "cn1vn7fxVVEC"
      },
      "source": [
        "## ensembled prediction over splitted test data, 50 / 50 split between XGB and LGBM\n",
        "ensembled_prediction = (0.5*np.expm1(y_test_pred_xgb))+(0.5*np.expm1(y_test_pred_lgbm))\n",
        "\n",
        "score_LGBM_XGB = =calc_R2(ensembled_prediction, 'LGBM XGB ensemble')"
      ],
      "execution_count": null,
      "outputs": []
    },
    {
      "cell_type": "code",
      "metadata": {
        "id": "MnNzkk8TWjpf"
      },
      "source": [
        "## submitting the combined prediction, weighted 50 / 50\n",
        "ensembled_prediction = (0.5*y_pred_XGB)+(0.5*y_pred_LGBM)\n",
        "\n",
        "save_model_csv(ensembled_prediction, 'submission_ensemble.csv')"
      ],
      "execution_count": null,
      "outputs": []
    },
    {
      "cell_type": "markdown",
      "metadata": {
        "id": "Qz1vk8UNVeAv"
      },
      "source": [
        "# 11. Evaluation\n",
        "\n",
        "Show R2 Scores of the different models, makes it more convenient to compare in one graph.\n"
      ]
    },
    {
      "cell_type": "code",
      "metadata": {
        "id": "cz0YAjbPVhMu"
      },
      "source": [
        "r2_score=[\n",
        "    score_linear_reg,\n",
        "    score_ridge_reg,\n",
        "    score_KNN,\n",
        "    score_Rand_For,\n",
        "    score_XGB_GPU,\n",
        "    score_LGBM,\n",
        "    #score_LGBM_XGB\n",
        "]\n",
        "\n",
        "col={'R2 score':r2_score}\n",
        "models=[\n",
        "    'Linear Regression',\n",
        "    'Ridge Regression',\n",
        "    'KNN',\n",
        "    'Random Forest',\n",
        "    'XGB',\n",
        "    'LGBM',\n",
        "    #'LGBM & XGB'\n",
        "]\n",
        "df=pd.DataFrame(data=col,index=models)\n",
        "df\n",
        "\n",
        "df.plot(kind='bar')"
      ],
      "execution_count": null,
      "outputs": []
    }
  ]
}
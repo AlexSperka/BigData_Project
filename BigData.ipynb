{
  "nbformat": 4,
  "nbformat_minor": 0,
  "metadata": {
    "colab": {
      "name": "BigData.ipynb",
      "provenance": [],
      "collapsed_sections": [],
      "toc_visible": true
    },
    "kernelspec": {
      "name": "python3",
      "display_name": "Python 3"
    },
    "accelerator": "GPU"
  },
  "cells": [
    {
      "cell_type": "markdown",
      "metadata": {
        "id": "HRInq5gOmSuC",
        "colab_type": "text"
      },
      "source": [
        "# NYC fare prediction\n",
        "\n",
        "[This notebook](TBD) shows my approach for predicting the fare amount for a taxi ride in NYC when given the pickup and dropoff locations of the passangers regarding the [New York City Taxi Fare Prediction Challange]( https://www.kaggle.com/c/new-york-city-taxi-fare-prediction).\n",
        "\n",
        "\n",
        "\n",
        "---\n",
        "\n",
        "This notebook is seperated into different sections, relating to the common data science workflow (except the hypothesis and data collection where already done).\n",
        "\n",
        "\n",
        "0.   Previous Commits\n",
        "1.   Setup and Check Infrastructure\n",
        "2.   Having a first look at the Data (EDA)\n",
        "3.   Data Cleaning (Feature Engineering)\n",
        "4.   Linear Regression\n",
        "5.   Ridge Regression\n",
        "6.   Model ...\n",
        "7.   Evaulation and Discussion\n",
        "\n",
        "---\n",
        "\n"
      ]
    },
    {
      "cell_type": "markdown",
      "metadata": {
        "id": "fVXtwXAHLD44",
        "colab_type": "text"
      },
      "source": [
        "# 0. Previous Commits - Comparison of different Models:\n",
        "\n"
      ]
    },
    {
      "cell_type": "markdown",
      "metadata": {
        "id": "-fEoMZTsLSd7",
        "colab_type": "text"
      },
      "source": [
        "Predictions are done when using the whole data set\n",
        "\n",
        "### Linear Regression\n",
        "\n",
        "**Commit 1 (Baseline) Score: 5.67093**\n",
        "- 5.67093\n",
        " \n",
        "\n",
        "### Ridge Regression\n",
        "\n",
        "**Commit 2 Score: 12.54277**\n",
        "\n",
        "params_ridge\n",
        "  - alpha = loguniform(1e-5, 1e0)\n",
        "  - solver = ['eig', 'cd']\n",
        "  - n_iter = 100\n",
        "  - cv = 5\n",
        "  - verbose = 0\n",
        "  - n_jobs = 1\n",
        "\n",
        "ridge_params\n",
        "  - alpha = 0.240960447726532\n",
        "  - fit_intercept = True\n",
        "  - normalize = False\n",
        "  - solver = 'eig'\n",
        "\n",
        "RMSE for Ridge_rmse Regression is  -7.212150573730469\n",
        "\n",
        "\n",
        "### K-Nearest Neighbor \n",
        "**Commit 3 Score: 4.86790**\n",
        "  - n_neighbors = 4\n",
        "  - data_size = 5.5 Mio rows (1 %)\n",
        "\n",
        "### Random Forest \n",
        "**Commit 4 Score: 5.95518**\n",
        "  - n_estimators=10\n",
        "  - n_jobs=-1\n",
        "  - data_size = 1 Mio. rows\n",
        "\n"
      ]
    },
    {
      "cell_type": "markdown",
      "metadata": {
        "id": "m_g3Zj-nHUeR",
        "colab_type": "text"
      },
      "source": [
        "# 1. Setup and Check Infrastructure"
      ]
    },
    {
      "cell_type": "markdown",
      "metadata": {
        "id": "-Ri5Sq2eHPp7",
        "colab_type": "text"
      },
      "source": [
        "Check for GPU"
      ]
    },
    {
      "cell_type": "code",
      "metadata": {
        "id": "Ix7egkMuVbLC",
        "colab_type": "code",
        "colab": {
          "base_uri": "https://localhost:8080/",
          "height": 384
        },
        "outputId": "0f45d09d-c526-4a02-b95a-1a5b00a94694"
      },
      "source": [
        "!nvidia-smi"
      ],
      "execution_count": 1,
      "outputs": [
        {
          "output_type": "stream",
          "text": [
            "Mon Sep 21 12:56:47 2020       \n",
            "+-----------------------------------------------------------------------------+\n",
            "| NVIDIA-SMI 450.66       Driver Version: 418.67       CUDA Version: 10.1     |\n",
            "|-------------------------------+----------------------+----------------------+\n",
            "| GPU  Name        Persistence-M| Bus-Id        Disp.A | Volatile Uncorr. ECC |\n",
            "| Fan  Temp  Perf  Pwr:Usage/Cap|         Memory-Usage | GPU-Util  Compute M. |\n",
            "|                               |                      |               MIG M. |\n",
            "|===============================+======================+======================|\n",
            "|   0  Tesla T4            Off  | 00000000:00:04.0 Off |                    0 |\n",
            "| N/A   67C    P8    11W /  70W |      0MiB / 15079MiB |      0%      Default |\n",
            "|                               |                      |                 ERR! |\n",
            "+-------------------------------+----------------------+----------------------+\n",
            "                                                                               \n",
            "+-----------------------------------------------------------------------------+\n",
            "| Processes:                                                                  |\n",
            "|  GPU   GI   CI        PID   Type   Process name                  GPU Memory |\n",
            "|        ID   ID                                                   Usage      |\n",
            "|=============================================================================|\n",
            "|  No running processes found                                                 |\n",
            "+-----------------------------------------------------------------------------+\n"
          ],
          "name": "stdout"
        }
      ]
    },
    {
      "cell_type": "code",
      "metadata": {
        "id": "SY8-qcVuVguX",
        "colab_type": "code",
        "colab": {
          "base_uri": "https://localhost:8080/",
          "height": 1000
        },
        "outputId": "b1739992-48d8-47b6-939e-a22a86577009"
      },
      "source": [
        "# Install RAPIDS and Dask_ml\n",
        "!pip install dask_ml\n",
        "!pip install dask_cuda\n",
        "\n",
        "!git clone https://github.com/rapidsai/rapidsai-csp-utils.git\n",
        "!bash rapidsai-csp-utils/colab/rapids-colab.sh stable\n",
        "\n",
        "\n",
        "import sys, os\n",
        "\n",
        "dist_package_index = sys.path.index('/usr/local/lib/python3.6/dist-packages')\n",
        "sys.path = sys.path[:dist_package_index] + ['/usr/local/lib/python3.6/site-packages'] + sys.path[dist_package_index:]\n",
        "sys.path\n",
        "exec(open('rapidsai-csp-utils/colab/update_modules.py').read(), globals())"
      ],
      "execution_count": null,
      "outputs": [
        {
          "output_type": "stream",
          "text": [
            "Requirement already satisfied: dask_ml in /usr/local/lib/python3.6/site-packages (1.6.0)\n",
            "Requirement already satisfied: packaging in /usr/local/lib/python3.6/site-packages (from dask_ml) (20.4)\n",
            "Requirement already satisfied: distributed>=2.4.0 in /usr/local/lib/python3.6/site-packages (from dask_ml) (2.27.0)\n",
            "Requirement already satisfied: numpy>=1.17.3 in /usr/local/lib/python3.6/site-packages (from dask_ml) (1.19.1)\n",
            "Requirement already satisfied: multipledispatch>=0.4.9 in /usr/local/lib/python3.6/site-packages (from dask_ml) (0.6.0)\n",
            "Requirement already satisfied: numba in /usr/local/lib/python3.6/site-packages (from dask_ml) (0.50.1)\n",
            "Requirement already satisfied: pandas>=0.23.4 in /usr/local/lib/python3.6/site-packages (from dask_ml) (0.25.3)\n",
            "Requirement already satisfied: scikit-learn>=0.23 in /usr/local/lib/python3.6/site-packages (from dask_ml) (0.23.2)\n",
            "Requirement already satisfied: scipy in /usr/local/lib/python3.6/site-packages (from dask_ml) (1.4.1)\n",
            "Requirement already satisfied: dask-glm>=0.2.0 in /usr/local/lib/python3.6/site-packages (from dask_ml) (0.2.0)\n",
            "Requirement already satisfied: dask[array,dataframe]>=2.4.0 in /usr/local/lib/python3.6/site-packages (from dask_ml) (2.27.0)\n",
            "Requirement already satisfied: six in /usr/local/lib/python3.6/site-packages (from packaging->dask_ml) (1.15.0)\n",
            "Requirement already satisfied: pyparsing>=2.0.2 in /usr/local/lib/python3.6/site-packages (from packaging->dask_ml) (2.4.7)\n",
            "Requirement already satisfied: toolz>=0.8.2 in /usr/local/lib/python3.6/site-packages (from distributed>=2.4.0->dask_ml) (0.10.0)\n",
            "Requirement already satisfied: zict>=0.1.3 in /usr/local/lib/python3.6/site-packages (from distributed>=2.4.0->dask_ml) (2.0.0)\n",
            "Requirement already satisfied: setuptools in /usr/local/lib/python3.6/site-packages (from distributed>=2.4.0->dask_ml) (49.6.0.post20200917)\n",
            "Requirement already satisfied: tblib>=1.6.0 in /usr/local/lib/python3.6/site-packages (from distributed>=2.4.0->dask_ml) (1.6.0)\n",
            "Requirement already satisfied: contextvars; python_version < \"3.7\" in /usr/local/lib/python3.6/site-packages (from distributed>=2.4.0->dask_ml) (2.4)\n",
            "Requirement already satisfied: click>=6.6 in /usr/local/lib/python3.6/site-packages (from distributed>=2.4.0->dask_ml) (7.1.2)\n",
            "Requirement already satisfied: psutil>=5.0 in /usr/local/lib/python3.6/site-packages (from distributed>=2.4.0->dask_ml) (5.7.2)\n",
            "Requirement already satisfied: msgpack>=0.6.0 in /usr/local/lib/python3.6/site-packages (from distributed>=2.4.0->dask_ml) (1.0.0)\n",
            "Requirement already satisfied: cloudpickle>=1.5.0 in /usr/local/lib/python3.6/site-packages (from distributed>=2.4.0->dask_ml) (1.6.0)\n",
            "Requirement already satisfied: tornado>=5; python_version < \"3.8\" in /usr/local/lib/python3.6/site-packages (from distributed>=2.4.0->dask_ml) (6.0.4)\n",
            "Requirement already satisfied: sortedcontainers!=2.0.0,!=2.0.1 in /usr/local/lib/python3.6/site-packages (from distributed>=2.4.0->dask_ml) (2.2.2)\n",
            "Requirement already satisfied: pyyaml in /usr/local/lib/python3.6/site-packages (from distributed>=2.4.0->dask_ml) (5.3.1)\n",
            "Requirement already satisfied: llvmlite<0.34,>=0.33.0.dev0 in /usr/local/lib/python3.6/site-packages (from numba->dask_ml) (0.33.0)\n",
            "Requirement already satisfied: pytz>=2017.2 in /usr/local/lib/python3.6/site-packages (from pandas>=0.23.4->dask_ml) (2020.1)\n",
            "Requirement already satisfied: python-dateutil>=2.6.1 in /usr/local/lib/python3.6/site-packages (from pandas>=0.23.4->dask_ml) (2.8.1)\n",
            "Requirement already satisfied: threadpoolctl>=2.0.0 in /usr/local/lib/python3.6/site-packages (from scikit-learn>=0.23->dask_ml) (2.1.0)\n",
            "Requirement already satisfied: joblib>=0.11 in /usr/local/lib/python3.6/site-packages (from scikit-learn>=0.23->dask_ml) (0.16.0)\n",
            "Requirement already satisfied: fsspec>=0.6.0; extra == \"dataframe\" in /usr/local/lib/python3.6/site-packages (from dask[array,dataframe]>=2.4.0->dask_ml) (0.8.2)\n",
            "Requirement already satisfied: partd>=0.3.10; extra == \"dataframe\" in /usr/local/lib/python3.6/site-packages (from dask[array,dataframe]>=2.4.0->dask_ml) (1.1.0)\n",
            "Requirement already satisfied: heapdict in /usr/local/lib/python3.6/site-packages (from zict>=0.1.3->distributed>=2.4.0->dask_ml) (1.0.1)\n",
            "Requirement already satisfied: immutables>=0.9 in /usr/local/lib/python3.6/site-packages (from contextvars; python_version < \"3.7\"->distributed>=2.4.0->dask_ml) (0.14)\n",
            "Requirement already satisfied: locket in /usr/local/lib/python3.6/site-packages (from partd>=0.3.10; extra == \"dataframe\"->dask[array,dataframe]>=2.4.0->dask_ml) (0.2.0)\n",
            "Requirement already satisfied: dask_cuda in /usr/local/lib/python3.6/site-packages (0.15.0)\n",
            "Requirement already satisfied: numpy>=1.16.0 in /usr/local/lib/python3.6/site-packages (from dask_cuda) (1.19.1)\n",
            "Requirement already satisfied: dask>=2.9.0 in /usr/local/lib/python3.6/site-packages (from dask_cuda) (2.27.0)\n",
            "Requirement already satisfied: pynvml>=8.0.3 in /usr/local/lib/python3.6/site-packages (from dask_cuda) (8.0.4)\n",
            "Requirement already satisfied: distributed>=2.18.0 in /usr/local/lib/python3.6/site-packages (from dask_cuda) (2.27.0)\n",
            "Requirement already satisfied: numba>=0.40.1 in /usr/local/lib/python3.6/site-packages (from dask_cuda) (0.50.1)\n",
            "Requirement already satisfied: pyyaml in /usr/local/lib/python3.6/site-packages (from dask>=2.9.0->dask_cuda) (5.3.1)\n",
            "Requirement already satisfied: contextvars; python_version < \"3.7\" in /usr/local/lib/python3.6/site-packages (from distributed>=2.18.0->dask_cuda) (2.4)\n",
            "Requirement already satisfied: setuptools in /usr/local/lib/python3.6/site-packages (from distributed>=2.18.0->dask_cuda) (49.6.0.post20200917)\n",
            "Requirement already satisfied: click>=6.6 in /usr/local/lib/python3.6/site-packages (from distributed>=2.18.0->dask_cuda) (7.1.2)\n",
            "Requirement already satisfied: tblib>=1.6.0 in /usr/local/lib/python3.6/site-packages (from distributed>=2.18.0->dask_cuda) (1.6.0)\n",
            "Requirement already satisfied: tornado>=5; python_version < \"3.8\" in /usr/local/lib/python3.6/site-packages (from distributed>=2.18.0->dask_cuda) (6.0.4)\n",
            "Requirement already satisfied: toolz>=0.8.2 in /usr/local/lib/python3.6/site-packages (from distributed>=2.18.0->dask_cuda) (0.10.0)\n",
            "Requirement already satisfied: sortedcontainers!=2.0.0,!=2.0.1 in /usr/local/lib/python3.6/site-packages (from distributed>=2.18.0->dask_cuda) (2.2.2)\n",
            "Requirement already satisfied: msgpack>=0.6.0 in /usr/local/lib/python3.6/site-packages (from distributed>=2.18.0->dask_cuda) (1.0.0)\n",
            "Requirement already satisfied: psutil>=5.0 in /usr/local/lib/python3.6/site-packages (from distributed>=2.18.0->dask_cuda) (5.7.2)\n",
            "Requirement already satisfied: cloudpickle>=1.5.0 in /usr/local/lib/python3.6/site-packages (from distributed>=2.18.0->dask_cuda) (1.6.0)\n",
            "Requirement already satisfied: zict>=0.1.3 in /usr/local/lib/python3.6/site-packages (from distributed>=2.18.0->dask_cuda) (2.0.0)\n",
            "Requirement already satisfied: llvmlite<0.34,>=0.33.0.dev0 in /usr/local/lib/python3.6/site-packages (from numba>=0.40.1->dask_cuda) (0.33.0)\n",
            "Requirement already satisfied: immutables>=0.9 in /usr/local/lib/python3.6/site-packages (from contextvars; python_version < \"3.7\"->distributed>=2.18.0->dask_cuda) (0.14)\n",
            "Requirement already satisfied: heapdict in /usr/local/lib/python3.6/site-packages (from zict>=0.1.3->distributed>=2.18.0->dask_cuda) (1.0.1)\n",
            "fatal: destination path 'rapidsai-csp-utils' already exists and is not an empty directory.\n",
            "PLEASE READ\n",
            "********************************************************************************************************\n",
            "Changes:\n",
            "1. IMPORTANT CHANGES: RAPIDS on Colab will be pegged to 0.14 Stable until further notice.\n",
            "2. Default stable version is now 0.14.  Nightly will redirect to 0.14.\n",
            "3. You can now declare your RAPIDSAI version as a CLI option and skip the user prompts (ex: '0.14' or '0.15', between 0.13 to 0.14, without the quotes): \n",
            "        \"!bash rapidsai-csp-utils/colab/rapids-colab.sh <version/label>\"\n",
            "        Examples: '!bash rapidsai-csp-utils/colab/rapids-colab.sh 0.14', or '!bash rapidsai-csp-utils/colab/rapids-colab.sh stable', or '!bash rapidsai-csp-utils/colab/rapids-colab.sh s'\n",
            "                  '!bash rapidsai-csp-utils/colab/rapids-colab.sh 0.15, or '!bash rapidsai-csp-utils/colab/rapids-colab.sh nightly', or '!bash rapidsai-csp-utils/colab/rapids-colab.sh n'\n",
            "Enjoy using RAPIDS!  If you have any issues with or suggestions for RAPIDSAI on Colab, please create a bug request on https://github.com/rapidsai/rapidsai-csp-utils/issues/new.  Thanks!\n",
            "Starting to prep Colab for install RAPIDS Version 0.14 stable\n",
            "Checking for GPU type:\n",
            "***********************************************************************\n",
            "Woo! Your instance has the right kind of GPU, a 'Tesla P100-PCIE-16GB'!\n",
            "***********************************************************************\n",
            "\n",
            "\n",
            "************************************************\n",
            "Your Google Colab instance has RAPIDS installed!\n",
            "************************************************\n",
            "***********************************************************************\n",
            "Let us check on those pyarrow and cffi versions...\n",
            "***********************************************************************\n",
            "\n",
            "You're don't have pyarrow.\n",
            "unloaded cffi 1.14.2\n",
            "loaded cffi 1.11.5\n"
          ],
          "name": "stdout"
        }
      ]
    },
    {
      "cell_type": "code",
      "metadata": {
        "id": "BTWeyn2qYyl5",
        "colab_type": "code",
        "colab": {
          "base_uri": "https://localhost:8080/",
          "height": 393
        },
        "outputId": "54ca05f5-7411-4568-f1cb-6c9998914199"
      },
      "source": [
        "import nvstrings\n",
        "import numpy as np\n",
        "import cudf, cuml\n",
        "import dask_cudf\n",
        "import io, requests\n",
        "import math\n",
        "import gc\n",
        "import cupy as cp\n",
        "import pandas as pd\n",
        "\n",
        "#Plotting\n",
        "import matplotlib.pyplot as plt\n",
        "import seaborn as sns \n",
        "\n",
        "#Learning\n",
        "from cuml.preprocessing.model_selection import train_test_split\n",
        "from scipy.stats import uniform\n",
        "\n",
        "# Linear Models https://github.com/rapidsai/cuml/tree/branch-0.13/notebooks\n",
        "from cuml.linear_model import LinearRegression # Linear\n",
        "from cuml.linear_model import LogisticRegression # Logisitc\n",
        "from cuml.linear_model import ElasticNet # Elastic\n",
        "from cuml.linear_model import Ridge # Ridge\n",
        "from cuml.linear_model import Lasso # Lasso\n",
        "from cuml.linear_model import MBSGDRegressor as cumlMBSGDRegressor # Mini Batch SGD Regressor\n",
        "\n",
        "from cuml.solvers import SGD as cumlSGD # Stochastic Gradient Descent\n",
        "from cuml.ensemble import RandomForestRegressor as cuRF # Random Forest\n",
        "from cuml.dask.ensemble import RandomForestClassifier as cumlDaskRF # RandomForest\n",
        "\n",
        "from cuml.neighbors import KNeighborsRegressor as cumlKNR # Nearest Neighbours\n",
        "from cuml.svm import SVC # Support Vector Machines\n",
        "\n",
        "from cuml import ForestInference\n",
        "import xgboost as xgb\n",
        "\n",
        "from sklearn.model_selection import RandomizedSearchCV\n",
        "from sklearn.model_selection import GridSearchCV\n",
        "\n",
        "from cuml.metrics.regression import r2_score\n",
        "from cuml.metrics.accuracy import accuracy_score\n",
        "from sklearn.metrics import make_scorer\n",
        "from sklearn.metrics import accuracy_score as sk_acc\n",
        "from sklearn.utils.fixes import loguniform"
      ],
      "execution_count": 4,
      "outputs": [
        {
          "output_type": "error",
          "ename": "ModuleNotFoundError",
          "evalue": "ignored",
          "traceback": [
            "\u001b[0;31m---------------------------------------------------------------------------\u001b[0m",
            "\u001b[0;31mModuleNotFoundError\u001b[0m                       Traceback (most recent call last)",
            "\u001b[0;32m<ipython-input-4-c417b419b770>\u001b[0m in \u001b[0;36m<module>\u001b[0;34m()\u001b[0m\n\u001b[1;32m      2\u001b[0m \u001b[0;32mimport\u001b[0m \u001b[0mnumpy\u001b[0m \u001b[0;32mas\u001b[0m \u001b[0mnp\u001b[0m\u001b[0;34m\u001b[0m\u001b[0;34m\u001b[0m\u001b[0m\n\u001b[1;32m      3\u001b[0m \u001b[0;31m#import cudf, cuml\u001b[0m\u001b[0;34m\u001b[0m\u001b[0;34m\u001b[0m\u001b[0;34m\u001b[0m\u001b[0m\n\u001b[0;32m----> 4\u001b[0;31m \u001b[0;32mimport\u001b[0m \u001b[0mdask_cudf\u001b[0m\u001b[0;34m\u001b[0m\u001b[0;34m\u001b[0m\u001b[0m\n\u001b[0m\u001b[1;32m      5\u001b[0m \u001b[0;32mimport\u001b[0m \u001b[0mio\u001b[0m\u001b[0;34m,\u001b[0m \u001b[0mrequests\u001b[0m\u001b[0;34m\u001b[0m\u001b[0;34m\u001b[0m\u001b[0m\n\u001b[1;32m      6\u001b[0m \u001b[0;32mimport\u001b[0m \u001b[0mmath\u001b[0m\u001b[0;34m\u001b[0m\u001b[0;34m\u001b[0m\u001b[0m\n",
            "\u001b[0;31mModuleNotFoundError\u001b[0m: No module named 'dask_cudf'",
            "",
            "\u001b[0;31m---------------------------------------------------------------------------\u001b[0;32m\nNOTE: If your import is failing due to a missing package, you can\nmanually install dependencies using either !pip or !apt.\n\nTo view examples of installing some common dependencies, click the\n\"Open Examples\" button below.\n\u001b[0;31m---------------------------------------------------------------------------\u001b[0m\n"
          ]
        }
      ]
    },
    {
      "cell_type": "markdown",
      "metadata": {
        "id": "jw7sbM1_ukTi",
        "colab_type": "text"
      },
      "source": [
        "If you find yourself running these notebooks on Colab as well as on Kaggle you might find this placeholder thing helpful. Only thing to touch ist the environment you are running on (Kaggle or Colab)"
      ]
    },
    {
      "cell_type": "code",
      "metadata": {
        "id": "lF1XfHZiw0-e",
        "colab_type": "code",
        "colab": {
          "base_uri": "https://localhost:8080/",
          "height": 35
        },
        "outputId": "16f77be5-f5fc-4e87-a983-42c6af2465c3"
      },
      "source": [
        "## Switch from Kaggle \n",
        "environment='Kaggle'\n",
        "\n",
        "if environment == 'Kaggle':\n",
        "  env_submission_path='./'\n",
        "  env_path='../input/new-york-city-taxi-fare-prediction/'\n",
        "  print('The paths were successfully setup for Kaggle')\n",
        "elif environment == 'Colab':\n",
        "  env_submission_path='/content/drive/My Drive/Colab Notebooks/'\n",
        "  env_path='/content/drive/My Drive/Colab Notebooks/'\n",
        "\n",
        "  from google.colab import drive\n",
        "  drive.mount('/content/drive')\n",
        "\n",
        "  print('The paths were successfully setup for Colab')\n",
        "\n",
        "else:\n",
        "  print('Something went wrong here, please choose one of the options for path completion: Kaggle or Colab (or implement your own thing)')\n"
      ],
      "execution_count": 8,
      "outputs": [
        {
          "output_type": "stream",
          "text": [
            "The paths were successfully setup for Kaggle\n"
          ],
          "name": "stdout"
        }
      ]
    },
    {
      "cell_type": "markdown",
      "metadata": {
        "id": "ysZh0eaaHZT4",
        "colab_type": "text"
      },
      "source": [
        "# 2. First look at the Data"
      ]
    },
    {
      "cell_type": "code",
      "metadata": {
        "id": "N9AE7Djfw8uN",
        "colab_type": "code",
        "colab": {}
      },
      "source": [
        "cudf.set_allocator(\"managed\")\n",
        "dtype = {'fare_amount': 'float32',\n",
        "              'pickup_datetime':'str',\n",
        "              'pickup_longitude': 'float32',\n",
        "              'pickup_latitude': 'float32',\n",
        "              'dropoff_longitude': 'float32',\n",
        "              'dropoff_latitude': 'float32',\n",
        "              'passenger_count': 'int8'}\n",
        "\n",
        "usecols = list(dtype.keys())"
      ],
      "execution_count": null,
      "outputs": []
    },
    {
      "cell_type": "code",
      "metadata": {
        "id": "VlQ0urKVpLfB",
        "colab_type": "code",
        "colab": {
          "base_uri": "https://localhost:8080/",
          "height": 54
        },
        "outputId": "837ee067-3a39-4300-d742-f1083c973162"
      },
      "source": [
        "%%time\n",
        "# use a subset with 50.000 rows, max is nrows = 55423480\n",
        "## using 1%\n",
        "nrows = 1042348\n",
        "\n",
        "test = cudf.read_csv(env_path+'test_taxi.csv', nrows=nrows, usecols=usecols, dtype=dtype)\n",
        "train = cudf.read_csv(env_path+'train.csv', nrows=nrows, usecols=usecols, dtype=dtype)\n",
        "submission = cudf.read_csv(env_path+'sample_submission.csv', usecols=usecols, dtype=dtype)"
      ],
      "execution_count": null,
      "outputs": [
        {
          "output_type": "stream",
          "text": [
            "CPU times: user 858 ms, sys: 539 ms, total: 1.4 s\n",
            "Wall time: 1.5 s\n"
          ],
          "name": "stdout"
        }
      ]
    },
    {
      "cell_type": "code",
      "metadata": {
        "id": "Eij2FPF2vuTF",
        "colab_type": "code",
        "colab": {
          "base_uri": "https://localhost:8080/",
          "height": 313
        },
        "outputId": "133756f9-52b7-4216-ccf7-c57987d526c5"
      },
      "source": [
        "train.head(5)"
      ],
      "execution_count": null,
      "outputs": [
        {
          "output_type": "execute_result",
          "data": {
            "text/html": [
              "<div>\n",
              "<style scoped>\n",
              "    .dataframe tbody tr th:only-of-type {\n",
              "        vertical-align: middle;\n",
              "    }\n",
              "\n",
              "    .dataframe tbody tr th {\n",
              "        vertical-align: top;\n",
              "    }\n",
              "\n",
              "    .dataframe thead th {\n",
              "        text-align: right;\n",
              "    }\n",
              "</style>\n",
              "<table border=\"1\" class=\"dataframe\">\n",
              "  <thead>\n",
              "    <tr style=\"text-align: right;\">\n",
              "      <th></th>\n",
              "      <th>fare_amount</th>\n",
              "      <th>pickup_datetime</th>\n",
              "      <th>pickup_longitude</th>\n",
              "      <th>pickup_latitude</th>\n",
              "      <th>dropoff_longitude</th>\n",
              "      <th>dropoff_latitude</th>\n",
              "      <th>passenger_count</th>\n",
              "    </tr>\n",
              "  </thead>\n",
              "  <tbody>\n",
              "    <tr>\n",
              "      <th>0</th>\n",
              "      <td>4.5</td>\n",
              "      <td>2009-06-15 17:26:21 UTC</td>\n",
              "      <td>-73.844307</td>\n",
              "      <td>40.721321</td>\n",
              "      <td>-73.841614</td>\n",
              "      <td>40.712273</td>\n",
              "      <td>1</td>\n",
              "    </tr>\n",
              "    <tr>\n",
              "      <th>1</th>\n",
              "      <td>16.9</td>\n",
              "      <td>2010-01-05 16:52:16 UTC</td>\n",
              "      <td>-74.016045</td>\n",
              "      <td>40.711304</td>\n",
              "      <td>-73.979271</td>\n",
              "      <td>40.782005</td>\n",
              "      <td>1</td>\n",
              "    </tr>\n",
              "    <tr>\n",
              "      <th>2</th>\n",
              "      <td>5.7</td>\n",
              "      <td>2011-08-18 00:35:00 UTC</td>\n",
              "      <td>-73.982742</td>\n",
              "      <td>40.761269</td>\n",
              "      <td>-73.991234</td>\n",
              "      <td>40.750565</td>\n",
              "      <td>2</td>\n",
              "    </tr>\n",
              "    <tr>\n",
              "      <th>3</th>\n",
              "      <td>7.7</td>\n",
              "      <td>2012-04-21 04:30:42 UTC</td>\n",
              "      <td>-73.987137</td>\n",
              "      <td>40.733139</td>\n",
              "      <td>-73.991570</td>\n",
              "      <td>40.758095</td>\n",
              "      <td>1</td>\n",
              "    </tr>\n",
              "    <tr>\n",
              "      <th>4</th>\n",
              "      <td>5.3</td>\n",
              "      <td>2010-03-09 07:51:00 UTC</td>\n",
              "      <td>-73.968102</td>\n",
              "      <td>40.768009</td>\n",
              "      <td>-73.956665</td>\n",
              "      <td>40.783768</td>\n",
              "      <td>1</td>\n",
              "    </tr>\n",
              "  </tbody>\n",
              "</table>\n",
              "</div>"
            ],
            "text/plain": [
              "   fare_amount          pickup_datetime  ...  dropoff_latitude  passenger_count\n",
              "0          4.5  2009-06-15 17:26:21 UTC  ...         40.712273                1\n",
              "1         16.9  2010-01-05 16:52:16 UTC  ...         40.782005                1\n",
              "2          5.7  2011-08-18 00:35:00 UTC  ...         40.750565                2\n",
              "3          7.7  2012-04-21 04:30:42 UTC  ...         40.758095                1\n",
              "4          5.3  2010-03-09 07:51:00 UTC  ...         40.783768                1\n",
              "\n",
              "[5 rows x 7 columns]"
            ]
          },
          "metadata": {
            "tags": []
          },
          "execution_count": 7
        }
      ]
    },
    {
      "cell_type": "code",
      "metadata": {
        "id": "T5631wMlv9FY",
        "colab_type": "code",
        "colab": {
          "base_uri": "https://localhost:8080/",
          "height": 313
        },
        "outputId": "4137eae4-77d6-46e6-d6eb-3d902e2ed582"
      },
      "source": [
        "test.head(5)"
      ],
      "execution_count": null,
      "outputs": [
        {
          "output_type": "execute_result",
          "data": {
            "text/html": [
              "<div>\n",
              "<style scoped>\n",
              "    .dataframe tbody tr th:only-of-type {\n",
              "        vertical-align: middle;\n",
              "    }\n",
              "\n",
              "    .dataframe tbody tr th {\n",
              "        vertical-align: top;\n",
              "    }\n",
              "\n",
              "    .dataframe thead th {\n",
              "        text-align: right;\n",
              "    }\n",
              "</style>\n",
              "<table border=\"1\" class=\"dataframe\">\n",
              "  <thead>\n",
              "    <tr style=\"text-align: right;\">\n",
              "      <th></th>\n",
              "      <th>pickup_datetime</th>\n",
              "      <th>pickup_longitude</th>\n",
              "      <th>pickup_latitude</th>\n",
              "      <th>dropoff_longitude</th>\n",
              "      <th>dropoff_latitude</th>\n",
              "      <th>passenger_count</th>\n",
              "    </tr>\n",
              "  </thead>\n",
              "  <tbody>\n",
              "    <tr>\n",
              "      <th>0</th>\n",
              "      <td>2015-01-27 13:08:24 UTC</td>\n",
              "      <td>-73.973320</td>\n",
              "      <td>40.763805</td>\n",
              "      <td>-73.981430</td>\n",
              "      <td>40.743835</td>\n",
              "      <td>1</td>\n",
              "    </tr>\n",
              "    <tr>\n",
              "      <th>1</th>\n",
              "      <td>2015-01-27 13:08:24 UTC</td>\n",
              "      <td>-73.986862</td>\n",
              "      <td>40.719383</td>\n",
              "      <td>-73.998886</td>\n",
              "      <td>40.739197</td>\n",
              "      <td>1</td>\n",
              "    </tr>\n",
              "    <tr>\n",
              "      <th>2</th>\n",
              "      <td>2011-10-08 11:53:44 UTC</td>\n",
              "      <td>-73.982536</td>\n",
              "      <td>40.751259</td>\n",
              "      <td>-73.979668</td>\n",
              "      <td>40.746140</td>\n",
              "      <td>1</td>\n",
              "    </tr>\n",
              "    <tr>\n",
              "      <th>3</th>\n",
              "      <td>2012-12-01 21:12:12 UTC</td>\n",
              "      <td>-73.981163</td>\n",
              "      <td>40.767811</td>\n",
              "      <td>-73.990440</td>\n",
              "      <td>40.751633</td>\n",
              "      <td>1</td>\n",
              "    </tr>\n",
              "    <tr>\n",
              "      <th>4</th>\n",
              "      <td>2012-12-01 21:12:12 UTC</td>\n",
              "      <td>-73.966042</td>\n",
              "      <td>40.789776</td>\n",
              "      <td>-73.988579</td>\n",
              "      <td>40.744431</td>\n",
              "      <td>1</td>\n",
              "    </tr>\n",
              "  </tbody>\n",
              "</table>\n",
              "</div>"
            ],
            "text/plain": [
              "           pickup_datetime  pickup_longitude  ...  dropoff_latitude  passenger_count\n",
              "0  2015-01-27 13:08:24 UTC        -73.973320  ...         40.743835                1\n",
              "1  2015-01-27 13:08:24 UTC        -73.986862  ...         40.739197                1\n",
              "2  2011-10-08 11:53:44 UTC        -73.982536  ...         40.746140                1\n",
              "3  2012-12-01 21:12:12 UTC        -73.981163  ...         40.751633                1\n",
              "4  2012-12-01 21:12:12 UTC        -73.966042  ...         40.744431                1\n",
              "\n",
              "[5 rows x 6 columns]"
            ]
          },
          "metadata": {
            "tags": []
          },
          "execution_count": 8
        }
      ]
    },
    {
      "cell_type": "markdown",
      "metadata": {
        "id": "o_WXW01AHlC4",
        "colab_type": "text"
      },
      "source": [
        "# 3. Data Cleaning"
      ]
    },
    {
      "cell_type": "code",
      "metadata": {
        "id": "6Ka9ezhECWv0",
        "colab_type": "code",
        "colab": {}
      },
      "source": [
        "#Drop Nan Values\n",
        "train.nans_to_nulls()\n",
        "train = train.dropna()"
      ],
      "execution_count": null,
      "outputs": []
    },
    {
      "cell_type": "code",
      "metadata": {
        "id": "J3ZMKboWCGD1",
        "colab_type": "code",
        "colab": {
          "base_uri": "https://localhost:8080/"
        },
        "outputId": "b81175a1-3e35-4d20-ef02-56bb07359e6d"
      },
      "source": [
        "#Checking shape of the data\n",
        "print(\"Train: \" + str(train.shape))\n",
        "print(\"Test: \" + str(test.shape))"
      ],
      "execution_count": null,
      "outputs": [
        {
          "output_type": "stream",
          "text": [
            "Train: (1042338, 7)\n",
            "Test: (9914, 6)\n"
          ],
          "name": "stdout"
        }
      ]
    },
    {
      "cell_type": "code",
      "metadata": {
        "id": "Xko9RCA4v_Hc",
        "colab_type": "code",
        "colab": {}
      },
      "source": [
        "#Changing the data format of pickup_datetime and adding additional information about pickup time\n",
        "train['pickup_datetime'] = train['pickup_datetime'].astype('datetime64[ns]')\n",
        "\n",
        "train[\"hour\"] = train.pickup_datetime.dt.hour\n",
        "train[\"weekday\"] = train.pickup_datetime.dt.weekday\n",
        "train[\"month\"] = train.pickup_datetime.dt.month\n",
        "train[\"year\"] = train.pickup_datetime.dt.year\n",
        "\n",
        "\n",
        "test['pickup_datetime'] = test['pickup_datetime'].astype('datetime64[ns]')\n",
        "\n",
        "test[\"hour\"] = test.pickup_datetime.dt.hour\n",
        "test[\"weekday\"] = test.pickup_datetime.dt.weekday\n",
        "test[\"month\"] = test.pickup_datetime.dt.month\n",
        "test[\"year\"] = test.pickup_datetime.dt.year"
      ],
      "execution_count": null,
      "outputs": []
    },
    {
      "cell_type": "code",
      "metadata": {
        "id": "4iUREXQ5CEzn",
        "colab_type": "code",
        "colab": {}
      },
      "source": [
        "#calculate trip distance in miles\n",
        "def distance(lat1, lon1, lat2, lon2):\n",
        "    p = 0.017453292519943295 # Pi/180\n",
        "    a = 0.5 - np.cos((lat2 - lat1) * p)/2 + np.cos(lat1 * p) * np.cos(lat2 * p) * (1 - np.cos((lon2 - lon1) * p)) / 2\n",
        "    return 0.6213712 * 12742 * np.arcsin(np.sqrt(a))"
      ],
      "execution_count": null,
      "outputs": []
    },
    {
      "cell_type": "code",
      "metadata": {
        "id": "ymO-WYlaCGS3",
        "colab_type": "code",
        "colab": {
          "base_uri": "https://localhost:8080/"
        },
        "outputId": "e5682673-f449-4b33-a7ea-75d8a6b5de88"
      },
      "source": [
        "train['distance'] = distance(train['pickup_latitude'], train['pickup_longitude'], train['dropoff_latitude'], train['dropoff_longitude'] )\n",
        "test['distance'] = distance(test['pickup_latitude'], test['pickup_longitude'], test['dropoff_latitude'], test['dropoff_longitude'] )\n",
        "train['distance'].describe()"
      ],
      "execution_count": null,
      "outputs": [
        {
          "output_type": "execute_result",
          "data": {
            "text/plain": [
              "count    1.042338e+06\n",
              "mean     1.166205e+01\n",
              "std      2.252111e+02\n",
              "min      0.000000e+00\n",
              "25%      0.000000e+00\n",
              "50%      1.366828e+00\n",
              "75%      2.367415e+00\n",
              "max      1.048769e+04\n",
              "Name: distance, dtype: float64"
            ]
          },
          "metadata": {
            "tags": []
          },
          "execution_count": 11
        }
      ]
    },
    {
      "cell_type": "code",
      "metadata": {
        "id": "oZliSrMSwyJW",
        "colab_type": "code",
        "colab": {
          "base_uri": "https://localhost:8080/"
        },
        "outputId": "a134056b-1e68-4827-aa2e-529e670d212a"
      },
      "source": [
        "#check if everything worked\n",
        "train.head(10)"
      ],
      "execution_count": null,
      "outputs": [
        {
          "output_type": "execute_result",
          "data": {
            "text/html": [
              "<div>\n",
              "<style scoped>\n",
              "    .dataframe tbody tr th:only-of-type {\n",
              "        vertical-align: middle;\n",
              "    }\n",
              "\n",
              "    .dataframe tbody tr th {\n",
              "        vertical-align: top;\n",
              "    }\n",
              "\n",
              "    .dataframe thead th {\n",
              "        text-align: right;\n",
              "    }\n",
              "</style>\n",
              "<table border=\"1\" class=\"dataframe\">\n",
              "  <thead>\n",
              "    <tr style=\"text-align: right;\">\n",
              "      <th></th>\n",
              "      <th>fare_amount</th>\n",
              "      <th>pickup_datetime</th>\n",
              "      <th>pickup_longitude</th>\n",
              "      <th>pickup_latitude</th>\n",
              "      <th>dropoff_longitude</th>\n",
              "      <th>dropoff_latitude</th>\n",
              "      <th>passenger_count</th>\n",
              "      <th>hour</th>\n",
              "      <th>weekday</th>\n",
              "      <th>month</th>\n",
              "      <th>year</th>\n",
              "      <th>distance</th>\n",
              "    </tr>\n",
              "  </thead>\n",
              "  <tbody>\n",
              "    <tr>\n",
              "      <th>0</th>\n",
              "      <td>4.5</td>\n",
              "      <td>2009-06-15 17:26:21</td>\n",
              "      <td>-73.844307</td>\n",
              "      <td>40.721321</td>\n",
              "      <td>-73.841614</td>\n",
              "      <td>40.712273</td>\n",
              "      <td>1</td>\n",
              "      <td>17</td>\n",
              "      <td>0</td>\n",
              "      <td>6</td>\n",
              "      <td>2009</td>\n",
              "      <td>0.000000</td>\n",
              "    </tr>\n",
              "    <tr>\n",
              "      <th>1</th>\n",
              "      <td>16.9</td>\n",
              "      <td>2010-01-05 16:52:16</td>\n",
              "      <td>-74.016045</td>\n",
              "      <td>40.711304</td>\n",
              "      <td>-73.979271</td>\n",
              "      <td>40.782005</td>\n",
              "      <td>1</td>\n",
              "      <td>16</td>\n",
              "      <td>1</td>\n",
              "      <td>1</td>\n",
              "      <td>2010</td>\n",
              "      <td>5.244397</td>\n",
              "    </tr>\n",
              "    <tr>\n",
              "      <th>2</th>\n",
              "      <td>5.7</td>\n",
              "      <td>2011-08-18 00:35:00</td>\n",
              "      <td>-73.982742</td>\n",
              "      <td>40.761269</td>\n",
              "      <td>-73.991234</td>\n",
              "      <td>40.750565</td>\n",
              "      <td>2</td>\n",
              "      <td>0</td>\n",
              "      <td>3</td>\n",
              "      <td>8</td>\n",
              "      <td>2011</td>\n",
              "      <td>0.000000</td>\n",
              "    </tr>\n",
              "    <tr>\n",
              "      <th>3</th>\n",
              "      <td>7.7</td>\n",
              "      <td>2012-04-21 04:30:42</td>\n",
              "      <td>-73.987137</td>\n",
              "      <td>40.733139</td>\n",
              "      <td>-73.991570</td>\n",
              "      <td>40.758095</td>\n",
              "      <td>1</td>\n",
              "      <td>4</td>\n",
              "      <td>5</td>\n",
              "      <td>4</td>\n",
              "      <td>2012</td>\n",
              "      <td>1.932986</td>\n",
              "    </tr>\n",
              "    <tr>\n",
              "      <th>4</th>\n",
              "      <td>5.3</td>\n",
              "      <td>2010-03-09 07:51:00</td>\n",
              "      <td>-73.968102</td>\n",
              "      <td>40.768009</td>\n",
              "      <td>-73.956665</td>\n",
              "      <td>40.783768</td>\n",
              "      <td>1</td>\n",
              "      <td>7</td>\n",
              "      <td>1</td>\n",
              "      <td>3</td>\n",
              "      <td>2010</td>\n",
              "      <td>1.366828</td>\n",
              "    </tr>\n",
              "    <tr>\n",
              "      <th>5</th>\n",
              "      <td>12.1</td>\n",
              "      <td>2011-01-06 09:50:45</td>\n",
              "      <td>-74.000969</td>\n",
              "      <td>40.731628</td>\n",
              "      <td>-73.972893</td>\n",
              "      <td>40.758232</td>\n",
              "      <td>1</td>\n",
              "      <td>9</td>\n",
              "      <td>3</td>\n",
              "      <td>1</td>\n",
              "      <td>2011</td>\n",
              "      <td>2.425102</td>\n",
              "    </tr>\n",
              "    <tr>\n",
              "      <th>6</th>\n",
              "      <td>7.5</td>\n",
              "      <td>2012-11-20 20:35:00</td>\n",
              "      <td>-73.980003</td>\n",
              "      <td>40.751663</td>\n",
              "      <td>-73.973801</td>\n",
              "      <td>40.764847</td>\n",
              "      <td>1</td>\n",
              "      <td>20</td>\n",
              "      <td>1</td>\n",
              "      <td>11</td>\n",
              "      <td>2012</td>\n",
              "      <td>0.000000</td>\n",
              "    </tr>\n",
              "    <tr>\n",
              "      <th>7</th>\n",
              "      <td>16.5</td>\n",
              "      <td>2012-01-04 17:22:00</td>\n",
              "      <td>-73.951302</td>\n",
              "      <td>40.774139</td>\n",
              "      <td>-73.990097</td>\n",
              "      <td>40.751045</td>\n",
              "      <td>1</td>\n",
              "      <td>17</td>\n",
              "      <td>2</td>\n",
              "      <td>1</td>\n",
              "      <td>2012</td>\n",
              "      <td>2.480990</td>\n",
              "    </tr>\n",
              "    <tr>\n",
              "      <th>8</th>\n",
              "      <td>9.0</td>\n",
              "      <td>2012-12-03 13:10:00</td>\n",
              "      <td>-74.006454</td>\n",
              "      <td>40.726719</td>\n",
              "      <td>-73.993073</td>\n",
              "      <td>40.731625</td>\n",
              "      <td>1</td>\n",
              "      <td>13</td>\n",
              "      <td>0</td>\n",
              "      <td>12</td>\n",
              "      <td>2012</td>\n",
              "      <td>0.000000</td>\n",
              "    </tr>\n",
              "    <tr>\n",
              "      <th>9</th>\n",
              "      <td>8.9</td>\n",
              "      <td>2009-09-02 01:11:00</td>\n",
              "      <td>-73.980667</td>\n",
              "      <td>40.733871</td>\n",
              "      <td>-73.991539</td>\n",
              "      <td>40.758137</td>\n",
              "      <td>2</td>\n",
              "      <td>1</td>\n",
              "      <td>2</td>\n",
              "      <td>9</td>\n",
              "      <td>2009</td>\n",
              "      <td>1.932986</td>\n",
              "    </tr>\n",
              "  </tbody>\n",
              "</table>\n",
              "</div>"
            ],
            "text/plain": [
              "   fare_amount     pickup_datetime  pickup_longitude  ...  month  year  distance\n",
              "0          4.5 2009-06-15 17:26:21        -73.844307  ...      6  2009  0.000000\n",
              "1         16.9 2010-01-05 16:52:16        -74.016045  ...      1  2010  5.244397\n",
              "2          5.7 2011-08-18 00:35:00        -73.982742  ...      8  2011  0.000000\n",
              "3          7.7 2012-04-21 04:30:42        -73.987137  ...      4  2012  1.932986\n",
              "4          5.3 2010-03-09 07:51:00        -73.968102  ...      3  2010  1.366828\n",
              "5         12.1 2011-01-06 09:50:45        -74.000969  ...      1  2011  2.425102\n",
              "6          7.5 2012-11-20 20:35:00        -73.980003  ...     11  2012  0.000000\n",
              "7         16.5 2012-01-04 17:22:00        -73.951302  ...      1  2012  2.480990\n",
              "8          9.0 2012-12-03 13:10:00        -74.006454  ...     12  2012  0.000000\n",
              "9          8.9 2009-09-02 01:11:00        -73.980667  ...      9  2009  1.932986\n",
              "\n",
              "[10 rows x 12 columns]"
            ]
          },
          "metadata": {
            "tags": []
          },
          "execution_count": 12
        }
      ]
    },
    {
      "cell_type": "code",
      "metadata": {
        "id": "9FpQJz9Zxxd2",
        "colab_type": "code",
        "colab": {
          "base_uri": "https://localhost:8080/"
        },
        "outputId": "c374dc2f-08f9-41e2-8bb8-731bd3cb277f"
      },
      "source": [
        "test.head(2)"
      ],
      "execution_count": null,
      "outputs": [
        {
          "output_type": "execute_result",
          "data": {
            "text/html": [
              "<div>\n",
              "<style scoped>\n",
              "    .dataframe tbody tr th:only-of-type {\n",
              "        vertical-align: middle;\n",
              "    }\n",
              "\n",
              "    .dataframe tbody tr th {\n",
              "        vertical-align: top;\n",
              "    }\n",
              "\n",
              "    .dataframe thead th {\n",
              "        text-align: right;\n",
              "    }\n",
              "</style>\n",
              "<table border=\"1\" class=\"dataframe\">\n",
              "  <thead>\n",
              "    <tr style=\"text-align: right;\">\n",
              "      <th></th>\n",
              "      <th>pickup_datetime</th>\n",
              "      <th>pickup_longitude</th>\n",
              "      <th>pickup_latitude</th>\n",
              "      <th>dropoff_longitude</th>\n",
              "      <th>dropoff_latitude</th>\n",
              "      <th>passenger_count</th>\n",
              "      <th>hour</th>\n",
              "      <th>weekday</th>\n",
              "      <th>month</th>\n",
              "      <th>year</th>\n",
              "      <th>distance</th>\n",
              "    </tr>\n",
              "  </thead>\n",
              "  <tbody>\n",
              "    <tr>\n",
              "      <th>0</th>\n",
              "      <td>2015-01-27 13:08:24</td>\n",
              "      <td>-73.973320</td>\n",
              "      <td>40.763805</td>\n",
              "      <td>-73.981430</td>\n",
              "      <td>40.743835</td>\n",
              "      <td>1</td>\n",
              "      <td>13</td>\n",
              "      <td>1</td>\n",
              "      <td>1</td>\n",
              "      <td>2015</td>\n",
              "      <td>1.366828</td>\n",
              "    </tr>\n",
              "    <tr>\n",
              "      <th>1</th>\n",
              "      <td>2015-01-27 13:08:24</td>\n",
              "      <td>-73.986862</td>\n",
              "      <td>40.719383</td>\n",
              "      <td>-73.998886</td>\n",
              "      <td>40.739197</td>\n",
              "      <td>1</td>\n",
              "      <td>13</td>\n",
              "      <td>1</td>\n",
              "      <td>1</td>\n",
              "      <td>2015</td>\n",
              "      <td>1.366828</td>\n",
              "    </tr>\n",
              "  </tbody>\n",
              "</table>\n",
              "</div>"
            ],
            "text/plain": [
              "      pickup_datetime  pickup_longitude  pickup_latitude  ...  month  year  distance\n",
              "0 2015-01-27 13:08:24        -73.973320        40.763805  ...      1  2015  1.366828\n",
              "1 2015-01-27 13:08:24        -73.986862        40.719383  ...      1  2015  1.366828\n",
              "\n",
              "[2 rows x 11 columns]"
            ]
          },
          "metadata": {
            "tags": []
          },
          "execution_count": 13
        }
      ]
    },
    {
      "cell_type": "code",
      "metadata": {
        "id": "CFYnmMIiDfyJ",
        "colab_type": "code",
        "colab": {
          "base_uri": "https://localhost:8080/"
        },
        "outputId": "57d1470d-67d1-482a-bf4e-daecf08732b3"
      },
      "source": [
        "print(\"Ararage fare amount: \" + str(train['fare_amount'].mean()))\n",
        "print(\"Standard deviation fare amount: \" + str(train['fare_amount'].std()))\n",
        "print(\"Ararage distance: \" + str(train['distance'].mean()) + \" miles\")\n",
        "print(\"Standard deviation distance: \" + str(train['distance'].std()) + \" miles\")"
      ],
      "execution_count": null,
      "outputs": [
        {
          "output_type": "stream",
          "text": [
            "Ararage fare amount: 11.344459746938186\n",
            "Standard deviation fare amount: 9.818480022306119\n",
            "Ararage distance: 11.662054041372972 miles\n",
            "Standard deviation distance: 225.2111130194817 miles\n"
          ],
          "name": "stdout"
        }
      ]
    },
    {
      "cell_type": "code",
      "metadata": {
        "id": "KB5A0x0iPBkA",
        "colab_type": "code",
        "colab": {
          "base_uri": "https://localhost:8080/"
        },
        "outputId": "fcb78c6b-ee43-4cb4-acbf-e2160d1031bb"
      },
      "source": [
        "train.describe()"
      ],
      "execution_count": null,
      "outputs": [
        {
          "output_type": "execute_result",
          "data": {
            "text/html": [
              "<div>\n",
              "<style scoped>\n",
              "    .dataframe tbody tr th:only-of-type {\n",
              "        vertical-align: middle;\n",
              "    }\n",
              "\n",
              "    .dataframe tbody tr th {\n",
              "        vertical-align: top;\n",
              "    }\n",
              "\n",
              "    .dataframe thead th {\n",
              "        text-align: right;\n",
              "    }\n",
              "</style>\n",
              "<table border=\"1\" class=\"dataframe\">\n",
              "  <thead>\n",
              "    <tr style=\"text-align: right;\">\n",
              "      <th></th>\n",
              "      <th>fare_amount</th>\n",
              "      <th>pickup_longitude</th>\n",
              "      <th>pickup_latitude</th>\n",
              "      <th>dropoff_longitude</th>\n",
              "      <th>dropoff_latitude</th>\n",
              "      <th>passenger_count</th>\n",
              "      <th>hour</th>\n",
              "      <th>weekday</th>\n",
              "      <th>month</th>\n",
              "      <th>year</th>\n",
              "      <th>distance</th>\n",
              "    </tr>\n",
              "  </thead>\n",
              "  <tbody>\n",
              "    <tr>\n",
              "      <th>count</th>\n",
              "      <td>1.042338e+06</td>\n",
              "      <td>1.042338e+06</td>\n",
              "      <td>1.042338e+06</td>\n",
              "      <td>1.042338e+06</td>\n",
              "      <td>1.042338e+06</td>\n",
              "      <td>1.042338e+06</td>\n",
              "      <td>1.042338e+06</td>\n",
              "      <td>1.042338e+06</td>\n",
              "      <td>1.042338e+06</td>\n",
              "      <td>1.042338e+06</td>\n",
              "      <td>1.042338e+06</td>\n",
              "    </tr>\n",
              "    <tr>\n",
              "      <th>mean</th>\n",
              "      <td>1.134446e+01</td>\n",
              "      <td>-7.252647e+01</td>\n",
              "      <td>3.993093e+01</td>\n",
              "      <td>-7.252710e+01</td>\n",
              "      <td>3.992477e+01</td>\n",
              "      <td>1.684628e+00</td>\n",
              "      <td>1.350942e+01</td>\n",
              "      <td>3.039528e+00</td>\n",
              "      <td>6.267507e+00</td>\n",
              "      <td>2.011741e+03</td>\n",
              "      <td>1.166205e+01</td>\n",
              "    </tr>\n",
              "    <tr>\n",
              "      <th>std</th>\n",
              "      <td>9.818480e+00</td>\n",
              "      <td>1.199978e+01</td>\n",
              "      <td>7.734151e+00</td>\n",
              "      <td>1.141861e+01</td>\n",
              "      <td>8.542040e+00</td>\n",
              "      <td>1.308595e+00</td>\n",
              "      <td>6.513691e+00</td>\n",
              "      <td>1.949922e+00</td>\n",
              "      <td>3.436094e+00</td>\n",
              "      <td>1.860606e+00</td>\n",
              "      <td>2.252111e+02</td>\n",
              "    </tr>\n",
              "    <tr>\n",
              "      <th>min</th>\n",
              "      <td>-4.490000e+01</td>\n",
              "      <td>-3.377681e+03</td>\n",
              "      <td>-3.116285e+03</td>\n",
              "      <td>-3.383297e+03</td>\n",
              "      <td>-3.114339e+03</td>\n",
              "      <td>-4.800000e+01</td>\n",
              "      <td>0.000000e+00</td>\n",
              "      <td>0.000000e+00</td>\n",
              "      <td>1.000000e+00</td>\n",
              "      <td>2.009000e+03</td>\n",
              "      <td>0.000000e+00</td>\n",
              "    </tr>\n",
              "    <tr>\n",
              "      <th>25%</th>\n",
              "      <td>6.000000e+00</td>\n",
              "      <td>-7.399206e+01</td>\n",
              "      <td>4.073497e+01</td>\n",
              "      <td>-7.399138e+01</td>\n",
              "      <td>4.073407e+01</td>\n",
              "      <td>1.000000e+00</td>\n",
              "      <td>9.000000e+00</td>\n",
              "      <td>1.000000e+00</td>\n",
              "      <td>3.000000e+00</td>\n",
              "      <td>2.010000e+03</td>\n",
              "      <td>0.000000e+00</td>\n",
              "    </tr>\n",
              "    <tr>\n",
              "      <th>50%</th>\n",
              "      <td>8.500000e+00</td>\n",
              "      <td>-7.398180e+01</td>\n",
              "      <td>4.075267e+01</td>\n",
              "      <td>-7.398014e+01</td>\n",
              "      <td>4.075317e+01</td>\n",
              "      <td>1.000000e+00</td>\n",
              "      <td>1.400000e+01</td>\n",
              "      <td>3.000000e+00</td>\n",
              "      <td>6.000000e+00</td>\n",
              "      <td>2.012000e+03</td>\n",
              "      <td>1.366828e+00</td>\n",
              "    </tr>\n",
              "    <tr>\n",
              "      <th>75%</th>\n",
              "      <td>1.250000e+01</td>\n",
              "      <td>-7.396711e+01</td>\n",
              "      <td>4.076715e+01</td>\n",
              "      <td>-7.396367e+01</td>\n",
              "      <td>4.076813e+01</td>\n",
              "      <td>2.000000e+00</td>\n",
              "      <td>1.900000e+01</td>\n",
              "      <td>5.000000e+00</td>\n",
              "      <td>9.000000e+00</td>\n",
              "      <td>2.013000e+03</td>\n",
              "      <td>2.367415e+00</td>\n",
              "    </tr>\n",
              "    <tr>\n",
              "      <th>max</th>\n",
              "      <td>5.000000e+02</td>\n",
              "      <td>2.522271e+03</td>\n",
              "      <td>2.621629e+03</td>\n",
              "      <td>1.717003e+03</td>\n",
              "      <td>1.989728e+03</td>\n",
              "      <td>9.000000e+00</td>\n",
              "      <td>2.300000e+01</td>\n",
              "      <td>6.000000e+00</td>\n",
              "      <td>1.200000e+01</td>\n",
              "      <td>2.015000e+03</td>\n",
              "      <td>1.048769e+04</td>\n",
              "    </tr>\n",
              "  </tbody>\n",
              "</table>\n",
              "</div>"
            ],
            "text/plain": [
              "        fare_amount  pickup_longitude  ...          year      distance\n",
              "count  1.042338e+06      1.042338e+06  ...  1.042338e+06  1.042338e+06\n",
              "mean   1.134446e+01     -7.252647e+01  ...  2.011741e+03  1.166205e+01\n",
              "std    9.818480e+00      1.199978e+01  ...  1.860606e+00  2.252111e+02\n",
              "min   -4.490000e+01     -3.377681e+03  ...  2.009000e+03  0.000000e+00\n",
              "25%    6.000000e+00     -7.399206e+01  ...  2.010000e+03  0.000000e+00\n",
              "50%    8.500000e+00     -7.398180e+01  ...  2.012000e+03  1.366828e+00\n",
              "75%    1.250000e+01     -7.396711e+01  ...  2.013000e+03  2.367415e+00\n",
              "max    5.000000e+02      2.522271e+03  ...  2.015000e+03  1.048769e+04\n",
              "\n",
              "[8 rows x 11 columns]"
            ]
          },
          "metadata": {
            "tags": []
          },
          "execution_count": 15
        }
      ]
    },
    {
      "cell_type": "markdown",
      "metadata": {
        "id": "2F3ZtZtgCt87",
        "colab_type": "text"
      },
      "source": [
        "Visualization of the data <br>\n",
        "\n",
        "The following things were noticed (while using 500k datapoints):\n",
        "*   The minimal fare_amount is negative. As this does not seem to be realistic I will drop them from the dataset.\n",
        "*   Some of the minimum and maximum longitude/lattitude coordinates are way off. These  will also be remove from the dataset. (bounding box will be defined)\n",
        "*   The average fare_amount is about 9.79 USD with a standard deviation of 7.48 USD. When building a predictive model we want to be better than 7.48 USD.\n",
        "\n"
      ]
    },
    {
      "cell_type": "code",
      "metadata": {
        "id": "T-Wu8kZoB-0s",
        "colab_type": "code",
        "colab": {}
      },
      "source": [
        "train = train[train.fare_amount>=0]\n",
        "train = train[(train['distance'] < 30) & (train['distance'] >=0 )]"
      ],
      "execution_count": null,
      "outputs": []
    },
    {
      "cell_type": "code",
      "metadata": {
        "id": "u7Bp_uZoGIqU",
        "colab_type": "code",
        "colab": {}
      },
      "source": [
        "fare_amount = train['fare_amount'].to_array()\n",
        "passenger_count = train['passenger_count'].to_array()\n",
        "distance = train['distance'].to_array()"
      ],
      "execution_count": null,
      "outputs": []
    },
    {
      "cell_type": "code",
      "metadata": {
        "id": "4JcWhshbET0g",
        "colab_type": "code",
        "colab": {
          "base_uri": "https://localhost:8080/"
        },
        "outputId": "d84bb12a-83b5-401b-bc0c-8e5915ef7106"
      },
      "source": [
        "plt.figure(figsize=(8,5))\n",
        "sns.kdeplot(fare_amount).set_title(\"Verteilung des Fahrpreises\")"
      ],
      "execution_count": null,
      "outputs": [
        {
          "output_type": "execute_result",
          "data": {
            "text/plain": [
              "Text(0.5, 1.0, 'Verteilung des Fahrpreises')"
            ]
          },
          "metadata": {
            "tags": []
          },
          "execution_count": 18
        },
        {
          "output_type": "display_data",
          "data": {
            "image/png": "[encoded data removed]",
            "text/plain": [
              "<Figure size 576x360 with 1 Axes>"
            ]
          },
          "metadata": {
            "tags": [],
            "needs_background": "light"
          }
        }
      ]
    },
    {
      "cell_type": "code",
      "metadata": {
        "id": "LQuUhTOR_xj2",
        "colab_type": "code",
        "colab": {
          "base_uri": "https://localhost:8080/"
        },
        "outputId": "dcd003d8-718c-4fbb-f63d-ea15bff2c11e"
      },
      "source": [
        "plt.figure(figsize=(8,5))\n",
        "sns.kdeplot(distance).set_title(\"Distanz\")"
      ],
      "execution_count": null,
      "outputs": [
        {
          "output_type": "execute_result",
          "data": {
            "text/plain": [
              "Text(0.5, 1.0, 'Distanz')"
            ]
          },
          "metadata": {
            "tags": []
          },
          "execution_count": 19
        },
        {
          "output_type": "display_data",
          "data": {
            "image/png": "[encoded data removed]",
            "text/plain": [
              "<Figure size 576x360 with 1 Axes>"
            ]
          },
          "metadata": {
            "tags": [],
            "needs_background": "light"
          }
        }
      ]
    },
    {
      "cell_type": "code",
      "metadata": {
        "id": "ctVL7b6XQr6i",
        "colab_type": "code",
        "colab": {
          "base_uri": "https://localhost:8080/"
        },
        "outputId": "8ccfb4df-ac84-47b8-aa1b-b9a2df946728"
      },
      "source": [
        "#check max latitude und max longitude of test data\n",
        "print(\"Max lat pickup: \" + str(test['pickup_latitude'].max()))\n",
        "print(\"Max lat dropoff: \" + str(test['dropoff_latitude'].max()))\n",
        "print(\"Max lon pickup: \" + str(test['pickup_longitude'].max()))\n",
        "print(\"Max lon dropoff: \" + str(test['dropoff_longitude'].max()))\n",
        "print(\"\")\n",
        "print(\"Min lat pickup: \" + str(test['pickup_latitude'].min()))\n",
        "print(\"Min lat dropoff: \" + str(test['dropoff_latitude'].min()))\n",
        "print(\"Min lon pickup: \" + str(test['pickup_longitude'].min()))\n",
        "print(\"Min lon dropoff: \" + str(test['dropoff_longitude'].min()))"
      ],
      "execution_count": null,
      "outputs": [
        {
          "output_type": "stream",
          "text": [
            "Max lat pickup: 41.709553\n",
            "Max lat dropoff: 41.696682\n",
            "Max lon pickup: -72.986534\n",
            "Max lon dropoff: -72.99096\n",
            "\n",
            "Min lat pickup: 40.57314\n",
            "Min lat dropoff: 40.568974\n",
            "Min lon pickup: -74.25219\n",
            "Min lon dropoff: -74.26323\n"
          ],
          "name": "stdout"
        }
      ]
    },
    {
      "cell_type": "markdown",
      "metadata": {
        "id": "3p3pPHX4Hada",
        "colab_type": "text"
      },
      "source": [
        "Bounding Box New York\n",
        "<table>\n",
        "  <tr>\n",
        "    <th></th>\n",
        "    <th>Dropoff</th>\n",
        "    <th>Pickup</th>\n",
        "  </tr>\n",
        "  <tr>\n",
        "    <td>Max Long</td>\n",
        "    <td>-72.99096</td>\n",
        "    <td>-72.986534</td>\n",
        "   </tr>\n",
        "   <tr>\n",
        "    <td>Max Lat</td>\n",
        "    <td>41.696682</td>\n",
        "    <td>41.709553</td>\n",
        "   </tr>\n",
        "   <tr>\n",
        "    <td>Min Long</td>\n",
        "    <td>-74.26323</td>\n",
        "    <td>-74.25219</td>\n",
        "    </tr>\n",
        "   <tr>\n",
        "    <td>Min Lat</td>\n",
        "    <td>40.568974</td>\n",
        "    <td>40.57314</td>\n",
        "   </tr>\n",
        "</table>\n",
        "\n"
      ]
    },
    {
      "cell_type": "code",
      "metadata": {
        "id": "gMZUYAcDVO1x",
        "colab_type": "code",
        "colab": {
          "base_uri": "https://localhost:8080/"
        },
        "outputId": "cf95def8-fc39-4b24-8cb5-51723172f675"
      },
      "source": [
        "train.head(2)"
      ],
      "execution_count": null,
      "outputs": [
        {
          "output_type": "execute_result",
          "data": {
            "text/html": [
              "<div>\n",
              "<style scoped>\n",
              "    .dataframe tbody tr th:only-of-type {\n",
              "        vertical-align: middle;\n",
              "    }\n",
              "\n",
              "    .dataframe tbody tr th {\n",
              "        vertical-align: top;\n",
              "    }\n",
              "\n",
              "    .dataframe thead th {\n",
              "        text-align: right;\n",
              "    }\n",
              "</style>\n",
              "<table border=\"1\" class=\"dataframe\">\n",
              "  <thead>\n",
              "    <tr style=\"text-align: right;\">\n",
              "      <th></th>\n",
              "      <th>fare_amount</th>\n",
              "      <th>pickup_datetime</th>\n",
              "      <th>pickup_longitude</th>\n",
              "      <th>pickup_latitude</th>\n",
              "      <th>dropoff_longitude</th>\n",
              "      <th>dropoff_latitude</th>\n",
              "      <th>passenger_count</th>\n",
              "      <th>hour</th>\n",
              "      <th>weekday</th>\n",
              "      <th>month</th>\n",
              "      <th>year</th>\n",
              "      <th>distance</th>\n",
              "    </tr>\n",
              "  </thead>\n",
              "  <tbody>\n",
              "    <tr>\n",
              "      <th>0</th>\n",
              "      <td>4.5</td>\n",
              "      <td>2009-06-15 17:26:21</td>\n",
              "      <td>-73.844307</td>\n",
              "      <td>40.721321</td>\n",
              "      <td>-73.841614</td>\n",
              "      <td>40.712273</td>\n",
              "      <td>1</td>\n",
              "      <td>17</td>\n",
              "      <td>0</td>\n",
              "      <td>6</td>\n",
              "      <td>2009</td>\n",
              "      <td>0.000000</td>\n",
              "    </tr>\n",
              "    <tr>\n",
              "      <th>1</th>\n",
              "      <td>16.9</td>\n",
              "      <td>2010-01-05 16:52:16</td>\n",
              "      <td>-74.016045</td>\n",
              "      <td>40.711304</td>\n",
              "      <td>-73.979271</td>\n",
              "      <td>40.782005</td>\n",
              "      <td>1</td>\n",
              "      <td>16</td>\n",
              "      <td>1</td>\n",
              "      <td>1</td>\n",
              "      <td>2010</td>\n",
              "      <td>5.244397</td>\n",
              "    </tr>\n",
              "  </tbody>\n",
              "</table>\n",
              "</div>"
            ],
            "text/plain": [
              "   fare_amount     pickup_datetime  pickup_longitude  ...  month  year  distance\n",
              "0          4.5 2009-06-15 17:26:21        -73.844307  ...      6  2009  0.000000\n",
              "1         16.9 2010-01-05 16:52:16        -74.016045  ...      1  2010  5.244397\n",
              "\n",
              "[2 rows x 12 columns]"
            ]
          },
          "metadata": {
            "tags": []
          },
          "execution_count": 21
        }
      ]
    },
    {
      "cell_type": "code",
      "metadata": {
        "id": "6nu3O1o0HkkC",
        "colab_type": "code",
        "colab": {}
      },
      "source": [
        "#Parts of train data are too far away, so they can be dropped\n",
        "train = train[(train['pickup_longitude'] > -74.25) & (train['pickup_longitude'] < -72.98)]\n",
        "train = train[(train['pickup_latitude'] > 40.57) & (train['pickup_latitude'] < 41.70)]\n",
        "train = train[(train['dropoff_longitude'] < -72.99) & (train['dropoff_longitude'] > -74.26)]\n",
        "train = train[(train['dropoff_latitude'] > 40.56) & (train['dropoff_latitude'] < 41.69)]"
      ],
      "execution_count": null,
      "outputs": []
    },
    {
      "cell_type": "code",
      "metadata": {
        "id": "Lh8BCPIjGDkx",
        "colab_type": "code",
        "colab": {
          "base_uri": "https://localhost:8080/"
        },
        "outputId": "c514bda9-9f3a-4017-b487-a4a9706e43dd"
      },
      "source": [
        "dropoff_longitude = train['dropoff_longitude'].to_array()\n",
        "dropoff_latitude = train['dropoff_latitude'].to_array()\n",
        "\n",
        "city_long_border = (-74.03, -73.75)\n",
        "city_lat_border = (40.63, 40.85)\n",
        "\n",
        "plt.figure(figsize=(10,6))\n",
        "plt.scatter(dropoff_longitude, dropoff_latitude,\n",
        "                color='green', \n",
        "                s=.02, alpha=.6)\n",
        "plt.title(\"Dropoffs\")\n",
        "\n",
        "plt.ylim(city_lat_border)\n",
        "plt.xlim(city_long_border)"
      ],
      "execution_count": null,
      "outputs": [
        {
          "output_type": "execute_result",
          "data": {
            "text/plain": [
              "(-74.03, -73.75)"
            ]
          },
          "metadata": {
            "tags": []
          },
          "execution_count": 23
        },
        {
          "output_type": "display_data",
          "data": {
            "image/png": "[encoded data removed]",
            "text/plain": [
              "<Figure size 720x432 with 1 Axes>"
            ]
          },
          "metadata": {
            "tags": [],
            "needs_background": "light"
          }
        }
      ]
    },
    {
      "cell_type": "code",
      "metadata": {
        "id": "7ZqQoFPuGrYN",
        "colab_type": "code",
        "colab": {}
      },
      "source": [
        "unnecessary_columns=['pickup_datetime','dropoff_latitude','pickup_latitude','dropoff_longitude','pickup_longitude']\n",
        "train=train.drop(unnecessary_columns,axis=1)\n",
        "test=test.drop(unnecessary_columns,axis=1)"
      ],
      "execution_count": null,
      "outputs": []
    },
    {
      "cell_type": "code",
      "metadata": {
        "id": "zR9cNfz9ITCh",
        "colab_type": "code",
        "colab": {
          "base_uri": "https://localhost:8080/"
        },
        "outputId": "29115f9f-b822-45c0-9283-8664667bbdd1"
      },
      "source": [
        "train.head(2)"
      ],
      "execution_count": null,
      "outputs": [
        {
          "output_type": "execute_result",
          "data": {
            "text/html": [
              "<div>\n",
              "<style scoped>\n",
              "    .dataframe tbody tr th:only-of-type {\n",
              "        vertical-align: middle;\n",
              "    }\n",
              "\n",
              "    .dataframe tbody tr th {\n",
              "        vertical-align: top;\n",
              "    }\n",
              "\n",
              "    .dataframe thead th {\n",
              "        text-align: right;\n",
              "    }\n",
              "</style>\n",
              "<table border=\"1\" class=\"dataframe\">\n",
              "  <thead>\n",
              "    <tr style=\"text-align: right;\">\n",
              "      <th></th>\n",
              "      <th>fare_amount</th>\n",
              "      <th>passenger_count</th>\n",
              "      <th>hour</th>\n",
              "      <th>weekday</th>\n",
              "      <th>month</th>\n",
              "      <th>year</th>\n",
              "      <th>distance</th>\n",
              "    </tr>\n",
              "  </thead>\n",
              "  <tbody>\n",
              "    <tr>\n",
              "      <th>0</th>\n",
              "      <td>4.5</td>\n",
              "      <td>1</td>\n",
              "      <td>17</td>\n",
              "      <td>0</td>\n",
              "      <td>6</td>\n",
              "      <td>2009</td>\n",
              "      <td>0.000000</td>\n",
              "    </tr>\n",
              "    <tr>\n",
              "      <th>1</th>\n",
              "      <td>16.9</td>\n",
              "      <td>1</td>\n",
              "      <td>16</td>\n",
              "      <td>1</td>\n",
              "      <td>1</td>\n",
              "      <td>2010</td>\n",
              "      <td>5.244397</td>\n",
              "    </tr>\n",
              "  </tbody>\n",
              "</table>\n",
              "</div>"
            ],
            "text/plain": [
              "   fare_amount  passenger_count  hour  weekday  month  year  distance\n",
              "0          4.5                1    17        0      6  2009  0.000000\n",
              "1         16.9                1    16        1      1  2010  5.244397"
            ]
          },
          "metadata": {
            "tags": []
          },
          "execution_count": 25
        }
      ]
    },
    {
      "cell_type": "code",
      "metadata": {
        "id": "TNd_cXuNg3yL",
        "colab_type": "code",
        "colab": {
          "base_uri": "https://localhost:8080/"
        },
        "outputId": "023f12a6-b3d8-418e-e009-36708401fdc6"
      },
      "source": [
        "test.head(2)"
      ],
      "execution_count": null,
      "outputs": [
        {
          "output_type": "execute_result",
          "data": {
            "text/html": [
              "<div>\n",
              "<style scoped>\n",
              "    .dataframe tbody tr th:only-of-type {\n",
              "        vertical-align: middle;\n",
              "    }\n",
              "\n",
              "    .dataframe tbody tr th {\n",
              "        vertical-align: top;\n",
              "    }\n",
              "\n",
              "    .dataframe thead th {\n",
              "        text-align: right;\n",
              "    }\n",
              "</style>\n",
              "<table border=\"1\" class=\"dataframe\">\n",
              "  <thead>\n",
              "    <tr style=\"text-align: right;\">\n",
              "      <th></th>\n",
              "      <th>passenger_count</th>\n",
              "      <th>hour</th>\n",
              "      <th>weekday</th>\n",
              "      <th>month</th>\n",
              "      <th>year</th>\n",
              "      <th>distance</th>\n",
              "    </tr>\n",
              "  </thead>\n",
              "  <tbody>\n",
              "    <tr>\n",
              "      <th>0</th>\n",
              "      <td>1</td>\n",
              "      <td>13</td>\n",
              "      <td>1</td>\n",
              "      <td>1</td>\n",
              "      <td>2015</td>\n",
              "      <td>1.366828</td>\n",
              "    </tr>\n",
              "    <tr>\n",
              "      <th>1</th>\n",
              "      <td>1</td>\n",
              "      <td>13</td>\n",
              "      <td>1</td>\n",
              "      <td>1</td>\n",
              "      <td>2015</td>\n",
              "      <td>1.366828</td>\n",
              "    </tr>\n",
              "  </tbody>\n",
              "</table>\n",
              "</div>"
            ],
            "text/plain": [
              "   passenger_count  hour  weekday  month  year  distance\n",
              "0                1    13        1      1  2015  1.366828\n",
              "1                1    13        1      1  2015  1.366828"
            ]
          },
          "metadata": {
            "tags": []
          },
          "execution_count": 26
        }
      ]
    },
    {
      "cell_type": "markdown",
      "metadata": {
        "id": "ASbJyvwrLXEA",
        "colab_type": "text"
      },
      "source": [
        "# 4. Linear Regression"
      ]
    },
    {
      "cell_type": "code",
      "metadata": {
        "id": "NdDCPESrIYfo",
        "colab_type": "code",
        "colab": {
          "base_uri": "https://localhost:8080/",
          "height": 127
        },
        "outputId": "a6aece79-8556-41a0-919d-c033e4a0e1c9"
      },
      "source": [
        "X=train.drop(['fare_amount'],axis=1)\n",
        "y=train['fare_amount']\n",
        "\n",
        "X_train, X_test, y_train, y_test = train_test_split(X,y, test_size=0.2)\n",
        "print(\"Number of records in training data \",X_train.shape[0])\n",
        "print(\"Number of records in validation data \",X_test.shape[0])\n",
        "print(X_train.shape)\n",
        "print(X_test.shape)\n",
        "print(y_train.shape)\n",
        "print(y_test.shape)"
      ],
      "execution_count": null,
      "outputs": [
        {
          "output_type": "stream",
          "text": [
            "Number of records in training data  4338063\n",
            "Number of records in validation data  1084515\n",
            "(4338063, 6)\n",
            "(1084515, 6)\n",
            "(4338063,)\n",
            "(1084515,)\n"
          ],
          "name": "stdout"
        }
      ]
    },
    {
      "cell_type": "code",
      "metadata": {
        "id": "6oVWER31Ikbs",
        "colab_type": "code",
        "colab": {
          "base_uri": "https://localhost:8080/",
          "height": 35
        },
        "outputId": "aac26fb1-7a94-4950-c385-ed73f09e0556"
      },
      "source": [
        "lm = LinearRegression(fit_intercept = True, normalize = False,\n",
        "                      algorithm = \"eig\")\n",
        "lm.fit(X_train,y_train)\n",
        "y_pred=lm.predict(X_test)\n",
        "lm_rmse = r2_score(y_pred, y_test)\n",
        "print(\"RMSE for Linear Regression is \",lm_rmse)"
      ],
      "execution_count": null,
      "outputs": [
        {
          "output_type": "stream",
          "text": [
            "RMSE for Linear Regression is  0.6513239145278931\n"
          ],
          "name": "stdout"
        }
      ]
    },
    {
      "cell_type": "code",
      "metadata": {
        "id": "DqMel8pKIpGj",
        "colab_type": "code",
        "colab": {
          "base_uri": "https://localhost:8080/",
          "height": 237
        },
        "outputId": "5f41c6dd-71d8-4028-edbc-da27613b5ab2"
      },
      "source": [
        "y_pred=lm.predict(test)\n",
        "y_pred"
      ],
      "execution_count": null,
      "outputs": [
        {
          "output_type": "execute_result",
          "data": {
            "text/plain": [
              "0       11.075806\n",
              "1       11.075806\n",
              "2        4.637329\n",
              "3       10.121460\n",
              "4       16.556641\n",
              "          ...    \n",
              "9909    11.159302\n",
              "9910    14.171509\n",
              "9911    47.609009\n",
              "9912    24.075684\n",
              "9913     6.169189\n",
              "Length: 9914, dtype: float32"
            ]
          },
          "metadata": {
            "tags": []
          },
          "execution_count": 31
        }
      ]
    },
    {
      "cell_type": "code",
      "metadata": {
        "id": "L85j0kDWI2fH",
        "colab_type": "code",
        "colab": {
          "base_uri": "https://localhost:8080/",
          "height": 206
        },
        "outputId": "2510bf21-af8b-4fe3-d68b-29029cb97412"
      },
      "source": [
        "gdf_submission = submission\n",
        "gdf_submission['fare_amount']= y_pred\n",
        "\n",
        "gdf_submission.head()"
      ],
      "execution_count": null,
      "outputs": [
        {
          "output_type": "execute_result",
          "data": {
            "text/html": [
              "<div>\n",
              "<style scoped>\n",
              "    .dataframe tbody tr th:only-of-type {\n",
              "        vertical-align: middle;\n",
              "    }\n",
              "\n",
              "    .dataframe tbody tr th {\n",
              "        vertical-align: top;\n",
              "    }\n",
              "\n",
              "    .dataframe thead th {\n",
              "        text-align: right;\n",
              "    }\n",
              "</style>\n",
              "<table border=\"1\" class=\"dataframe\">\n",
              "  <thead>\n",
              "    <tr style=\"text-align: right;\">\n",
              "      <th></th>\n",
              "      <th>key</th>\n",
              "      <th>fare_amount</th>\n",
              "    </tr>\n",
              "  </thead>\n",
              "  <tbody>\n",
              "    <tr>\n",
              "      <th>0</th>\n",
              "      <td>2015-01-27 13:08:24.0000002</td>\n",
              "      <td>11.075806</td>\n",
              "    </tr>\n",
              "    <tr>\n",
              "      <th>1</th>\n",
              "      <td>2015-01-27 13:08:24.0000003</td>\n",
              "      <td>11.075806</td>\n",
              "    </tr>\n",
              "    <tr>\n",
              "      <th>2</th>\n",
              "      <td>2011-10-08 11:53:44.0000002</td>\n",
              "      <td>4.637329</td>\n",
              "    </tr>\n",
              "    <tr>\n",
              "      <th>3</th>\n",
              "      <td>2012-12-01 21:12:12.0000002</td>\n",
              "      <td>10.121460</td>\n",
              "    </tr>\n",
              "    <tr>\n",
              "      <th>4</th>\n",
              "      <td>2012-12-01 21:12:12.0000003</td>\n",
              "      <td>16.556641</td>\n",
              "    </tr>\n",
              "  </tbody>\n",
              "</table>\n",
              "</div>"
            ],
            "text/plain": [
              "                           key  fare_amount\n",
              "0  2015-01-27 13:08:24.0000002    11.075806\n",
              "1  2015-01-27 13:08:24.0000003    11.075806\n",
              "2  2011-10-08 11:53:44.0000002     4.637329\n",
              "3  2012-12-01 21:12:12.0000002    10.121460\n",
              "4  2012-12-01 21:12:12.0000003    16.556641"
            ]
          },
          "metadata": {
            "tags": []
          },
          "execution_count": 32
        }
      ]
    },
    {
      "cell_type": "code",
      "metadata": {
        "id": "a6rpJtIjKPQ3",
        "colab_type": "code",
        "colab": {}
      },
      "source": [
        "gdf_submission.to_csv(env_submission_path+'submission_LinearReg.csv',index=False)"
      ],
      "execution_count": null,
      "outputs": []
    },
    {
      "cell_type": "markdown",
      "metadata": {
        "id": "I8q2_b90LUju",
        "colab_type": "text"
      },
      "source": [
        "# 5. Ridge Regression"
      ]
    },
    {
      "cell_type": "code",
      "metadata": {
        "id": "uSSWCb9xPv4h",
        "colab_type": "code",
        "colab": {
          "base_uri": "https://localhost:8080/",
          "height": 127
        },
        "outputId": "246cba63-da81-4dff-91bb-874ad26edf3d"
      },
      "source": [
        "X=train.drop(['fare_amount'],axis=1)\n",
        "y=train['fare_amount']\n",
        "\n",
        "X_train, X_test, y_train, y_test = train_test_split(X,y, test_size=0.2)\n",
        "print(\"Number of records in training data \",X_train.shape[0])\n",
        "print(\"Number of records in validation data \",X_test.shape[0])\n",
        "print(X_train.shape)\n",
        "print(X_test.shape)\n",
        "print(y_train.shape)\n",
        "print(y_test.shape)"
      ],
      "execution_count": null,
      "outputs": [
        {
          "output_type": "stream",
          "text": [
            "Number of records in training data  4338063\n",
            "Number of records in validation data  1084515\n",
            "(4338063, 6)\n",
            "(1084515, 6)\n",
            "(4338063,)\n",
            "(1084515,)\n"
          ],
          "name": "stdout"
        }
      ]
    },
    {
      "cell_type": "code",
      "metadata": {
        "id": "jusciUoQP0_Z",
        "colab_type": "code",
        "colab": {
          "base_uri": "https://localhost:8080/",
          "height": 1000
        },
        "outputId": "a972d335-0ea7-4741-bf51-20f761377894"
      },
      "source": [
        "params_ridge = {\n",
        "    \"alpha\": loguniform(1e-5, 1e0), # default 1.0\n",
        "    \"solver\": ['eig', 'cd'], \n",
        "}\n",
        "ridge = Ridge()\n",
        "clf = RandomizedSearchCV(ridge, params_ridge, random_state=1, n_iter=100, cv=5, verbose=0, n_jobs=1)\n",
        "best_model = clf.fit(X_train,y_train)"
      ],
      "execution_count": null,
      "outputs": [
        {
          "output_type": "error",
          "ename": "RuntimeError",
          "evalue": "ignored",
          "traceback": [
            "\u001b[0;31m---------------------------------------------------------------------------\u001b[0m",
            "\u001b[0;31mRuntimeError\u001b[0m                              Traceback (most recent call last)",
            "\u001b[0;32m<ipython-input-35-c8657046b942>\u001b[0m in \u001b[0;36m<module>\u001b[0;34m()\u001b[0m\n\u001b[1;32m      5\u001b[0m \u001b[0mridge\u001b[0m \u001b[0;34m=\u001b[0m \u001b[0mRidge\u001b[0m\u001b[0;34m(\u001b[0m\u001b[0;34m)\u001b[0m\u001b[0;34m\u001b[0m\u001b[0;34m\u001b[0m\u001b[0m\n\u001b[1;32m      6\u001b[0m \u001b[0mclf\u001b[0m \u001b[0;34m=\u001b[0m \u001b[0mRandomizedSearchCV\u001b[0m\u001b[0;34m(\u001b[0m\u001b[0mridge\u001b[0m\u001b[0;34m,\u001b[0m \u001b[0mparams_ridge\u001b[0m\u001b[0;34m,\u001b[0m \u001b[0mrandom_state\u001b[0m\u001b[0;34m=\u001b[0m\u001b[0;36m1\u001b[0m\u001b[0;34m,\u001b[0m \u001b[0mn_iter\u001b[0m\u001b[0;34m=\u001b[0m\u001b[0;36m100\u001b[0m\u001b[0;34m,\u001b[0m \u001b[0mcv\u001b[0m\u001b[0;34m=\u001b[0m\u001b[0;36m5\u001b[0m\u001b[0;34m,\u001b[0m \u001b[0mverbose\u001b[0m\u001b[0;34m=\u001b[0m\u001b[0;36m0\u001b[0m\u001b[0;34m,\u001b[0m \u001b[0mn_jobs\u001b[0m\u001b[0;34m=\u001b[0m\u001b[0;36m1\u001b[0m\u001b[0;34m)\u001b[0m\u001b[0;34m\u001b[0m\u001b[0;34m\u001b[0m\u001b[0m\n\u001b[0;32m----> 7\u001b[0;31m \u001b[0mbest_model\u001b[0m \u001b[0;34m=\u001b[0m \u001b[0mclf\u001b[0m\u001b[0;34m.\u001b[0m\u001b[0mfit\u001b[0m\u001b[0;34m(\u001b[0m\u001b[0mX_train\u001b[0m\u001b[0;34m,\u001b[0m\u001b[0my_train\u001b[0m\u001b[0;34m)\u001b[0m\u001b[0;34m\u001b[0m\u001b[0;34m\u001b[0m\u001b[0m\n\u001b[0m",
            "\u001b[0;32m/usr/local/lib/python3.6/site-packages/sklearn/utils/validation.py\u001b[0m in \u001b[0;36minner_f\u001b[0;34m(*args, **kwargs)\u001b[0m\n\u001b[1;32m     70\u001b[0m                           FutureWarning)\n\u001b[1;32m     71\u001b[0m         \u001b[0mkwargs\u001b[0m\u001b[0;34m.\u001b[0m\u001b[0mupdate\u001b[0m\u001b[0;34m(\u001b[0m\u001b[0;34m{\u001b[0m\u001b[0mk\u001b[0m\u001b[0;34m:\u001b[0m \u001b[0marg\u001b[0m \u001b[0;32mfor\u001b[0m \u001b[0mk\u001b[0m\u001b[0;34m,\u001b[0m \u001b[0marg\u001b[0m \u001b[0;32min\u001b[0m \u001b[0mzip\u001b[0m\u001b[0;34m(\u001b[0m\u001b[0msig\u001b[0m\u001b[0;34m.\u001b[0m\u001b[0mparameters\u001b[0m\u001b[0;34m,\u001b[0m \u001b[0margs\u001b[0m\u001b[0;34m)\u001b[0m\u001b[0;34m}\u001b[0m\u001b[0;34m)\u001b[0m\u001b[0;34m\u001b[0m\u001b[0;34m\u001b[0m\u001b[0m\n\u001b[0;32m---> 72\u001b[0;31m         \u001b[0;32mreturn\u001b[0m \u001b[0mf\u001b[0m\u001b[0;34m(\u001b[0m\u001b[0;34m**\u001b[0m\u001b[0mkwargs\u001b[0m\u001b[0;34m)\u001b[0m\u001b[0;34m\u001b[0m\u001b[0;34m\u001b[0m\u001b[0m\n\u001b[0m\u001b[1;32m     73\u001b[0m     \u001b[0;32mreturn\u001b[0m \u001b[0minner_f\u001b[0m\u001b[0;34m\u001b[0m\u001b[0;34m\u001b[0m\u001b[0m\n\u001b[1;32m     74\u001b[0m \u001b[0;34m\u001b[0m\u001b[0m\n",
            "\u001b[0;32m/usr/local/lib/python3.6/site-packages/sklearn/model_selection/_search.py\u001b[0m in \u001b[0;36mfit\u001b[0;34m(self, X, y, groups, **fit_params)\u001b[0m\n\u001b[1;32m    763\u001b[0m             \u001b[0mrefit_start_time\u001b[0m \u001b[0;34m=\u001b[0m \u001b[0mtime\u001b[0m\u001b[0;34m.\u001b[0m\u001b[0mtime\u001b[0m\u001b[0;34m(\u001b[0m\u001b[0;34m)\u001b[0m\u001b[0;34m\u001b[0m\u001b[0;34m\u001b[0m\u001b[0m\n\u001b[1;32m    764\u001b[0m             \u001b[0;32mif\u001b[0m \u001b[0my\u001b[0m \u001b[0;32mis\u001b[0m \u001b[0;32mnot\u001b[0m \u001b[0;32mNone\u001b[0m\u001b[0;34m:\u001b[0m\u001b[0;34m\u001b[0m\u001b[0;34m\u001b[0m\u001b[0m\n\u001b[0;32m--> 765\u001b[0;31m                 \u001b[0mself\u001b[0m\u001b[0;34m.\u001b[0m\u001b[0mbest_estimator_\u001b[0m\u001b[0;34m.\u001b[0m\u001b[0mfit\u001b[0m\u001b[0;34m(\u001b[0m\u001b[0mX\u001b[0m\u001b[0;34m,\u001b[0m \u001b[0my\u001b[0m\u001b[0;34m,\u001b[0m \u001b[0;34m**\u001b[0m\u001b[0mfit_params\u001b[0m\u001b[0;34m)\u001b[0m\u001b[0;34m\u001b[0m\u001b[0;34m\u001b[0m\u001b[0m\n\u001b[0m\u001b[1;32m    766\u001b[0m             \u001b[0;32melse\u001b[0m\u001b[0;34m:\u001b[0m\u001b[0;34m\u001b[0m\u001b[0;34m\u001b[0m\u001b[0m\n\u001b[1;32m    767\u001b[0m                 \u001b[0mself\u001b[0m\u001b[0;34m.\u001b[0m\u001b[0mbest_estimator_\u001b[0m\u001b[0;34m.\u001b[0m\u001b[0mfit\u001b[0m\u001b[0;34m(\u001b[0m\u001b[0mX\u001b[0m\u001b[0;34m,\u001b[0m \u001b[0;34m**\u001b[0m\u001b[0mfit_params\u001b[0m\u001b[0;34m)\u001b[0m\u001b[0;34m\u001b[0m\u001b[0;34m\u001b[0m\u001b[0m\n",
            "\u001b[0;32mcuml/linear_model/ridge.pyx\u001b[0m in \u001b[0;36mcuml.linear_model.ridge.Ridge.fit\u001b[0;34m()\u001b[0m\n",
            "\u001b[0;31mRuntimeError\u001b[0m: Exception occured! file=/conda/conda-bld/libcuml_1591208841859/work/cpp/src/glm/ridge.cuh line=176: ridgeFit: no algorithm with this id has been implemented\nObtained 64 stack frames\n#0 in /usr/local/lib/python3.6/site-packages/cuml/common/pointer_utils.cpython-36m-x86_64-linux-gnu.so(_ZN8MLCommon9Exception16collectCallStackEv+0x3e) [0x7f1874e6a11e]\n#1 in /usr/local/lib/python3.6/site-packages/cuml/common/pointer_utils.cpython-36m-x86_64-linux-gnu.so(_ZN8MLCommon9ExceptionC1ERKNSt7__cxx1112basic_stringIcSt11char_traitsIcESaIcEEE+0x80) [0x7f1874e6ac30]\n#2 in /usr/local/lib/python3.6/site-packages/cuml/common/../../../../libcuml++.so(_ZN2ML3GLM8ridgeFitIfEEvRKNS_15cumlHandle_implEPT_iiS6_S6_iS6_S6_bbP11CUstream_sti+0x3e9) [0x7f1852bad149]\n#3 in /usr/local/lib/python3.6/site-packages/cuml/common/../../../../libcuml++.so(_ZN2ML3GLM8ridgeFitERKNS_10cumlHandleEPfiiS4_S4_iS4_S4_bbi+0xb1) [0x7f1852b6af71]\n#4 in /usr/local/lib/python3.6/site-packages/cuml/linear_model/ridge.cpython-36m-x86_64-linux-gnu.so(+0x115fc) [0x7f1871fd65fc]\n#5 in /usr/bin/python3() [0x59488c]\n#6 in /usr/bin/python3(PyObject_Call+0x3e) [0x59fe1e]\n#7 in /usr/bin/python3(_PyEval_EvalFrameDefault+0x17e6) [0x50d596]\n#8 in /usr/bin/python3() [0x507f24]\n#9 in /usr/bin/python3() [0x588fac]\n#10 in /usr/bin/python3(PyObject_Call+0x3e) [0x59fe1e]\n#11 in /usr/bin/python3(_PyEval_EvalFrameDefault+0x17e6) [0x50d596]\n#12 in /usr/bin/python3() [0x507f24]\n#13 in /usr/bin/python3() [0x509c50]\n#14 in /usr/bin/python3() [0x50a64d]\n#15 in /usr/bin/python3(_PyEval_EvalFrameDefault+0x444) [0x50c1f4]\n#16 in /usr/bin/python3() [0x507f24]\n#17 in /usr/bin/python3() [0x5165a5]\n#18 in /usr/bin/python3() [0x50a47f]\n#19 in /usr/bin/python3(_PyEval_EvalFrameDefault+0x444) [0x50c1f4]\n#20 in /usr/bin/python3() [0x507f24]\n#21 in /usr/bin/python3() [0x509c50]\n#22 in /usr/bin/python3() [0x50a64d]\n#23 in /usr/bin/python3(_PyEval_EvalFrameDefault+0x444) [0x50c1f4]\n#24 in /usr/bin/python3() [0x507f24]\n#25 in /usr/bin/python3() [0x509c50]\n#26 in /usr/bin/python3() [0x50a64d]\n#27 in /usr/bin/python3(_PyEval_EvalFrameDefault+0x1226) [0x50cfd6]\n#28 in /usr/bin/python3() [0x507f24]\n#29 in /usr/bin/python3(_PyFunction_FastCallDict+0x2e2) [0x509202]\n#30 in /usr/bin/python3() [0x594b01]\n#31 in /usr/bin/python3(PyObject_Call+0x3e) [0x59fe1e]\n#32 in /usr/bin/python3(_PyEval_EvalFrameDefault+0x17e6) [0x50d596]\n#33 in /usr/bin/python3() [0x507f24]\n#34 in /usr/bin/python3() [0x509c50]\n#35 in /usr/bin/python3() [0x50a64d]\n#36 in /usr/bin/python3(_PyEval_EvalFrameDefault+0x1226) [0x50cfd6]\n#37 in /usr/bin/python3() [0x507f24]\n#38 in /usr/bin/python3() [0x509c50]\n#39 in /usr/bin/python3() [0x50a64d]\n#40 in /usr/bin/python3(_PyEval_EvalFrameDefault+0x444) [0x50c1f4]\n#41 in /usr/bin/python3() [0x509918]\n#42 in /usr/bin/python3() [0x50a64d]\n#43 in /usr/bin/python3(_PyEval_EvalFrameDefault+0x444) [0x50c1f4]\n#44 in /usr/bin/python3() [0x509918]\n#45 in /usr/bin/python3() [0x50a64d]\n#46 in /usr/bin/python3(_PyEval_EvalFrameDefault+0x444) [0x50c1f4]\n#47 in /usr/bin/python3() [0x507f24]\n#48 in /usr/bin/python3() [0x588e91]\n#49 in /usr/bin/python3(PyObject_Call+0x3e) [0x59fe1e]\n#50 in /usr/bin/python3(_PyEval_EvalFrameDefault+0x17e6) [0x50d596]\n#51 in /usr/bin/python3() [0x507f24]\n#52 in /usr/bin/python3() [0x588e91]\n#53 in /usr/bin/python3(PyObject_Call+0x3e) [0x59fe1e]\n#54 in /usr/bin/python3(_PyEval_EvalFrameDefault+0x17e6) [0x50d596]\n#55 in /usr/bin/python3() [0x507f24]\n#56 in /usr/bin/python3() [0x509c50]\n#57 in /usr/bin/python3() [0x50a64d]\n#58 in /usr/bin/python3(_PyEval_EvalFrameDefault+0x444) [0x50c1f4]\n#59 in /usr/bin/python3() [0x509918]\n#60 in /usr/bin/python3() [0x50a64d]\n#61 in /usr/bin/python3(_PyEval_EvalFrameDefault+0x444) [0x50c1f4]\n#62 in /usr/bin/python3() [0x509918]\n#63 in /usr/bin/python3() [0x50a64d]\n"
          ]
        }
      ]
    },
    {
      "cell_type": "code",
      "metadata": {
        "id": "_wUP1Kc9P71y",
        "colab_type": "code",
        "colab": {}
      },
      "source": [
        "best_model.best_estimator_.get_params()"
      ],
      "execution_count": null,
      "outputs": []
    },
    {
      "cell_type": "code",
      "metadata": {
        "id": "uVSS1oaeP-hk",
        "colab_type": "code",
        "colab": {}
      },
      "source": [
        "ridge_params = {\n",
        " 'alpha': 0.240960447726532,\n",
        " 'fit_intercept': True,\n",
        " 'normalize': False,\n",
        " 'solver': 'eig'\n",
        "}\n",
        "\n",
        "ridge = Ridge(**ridge_params)\n",
        "result_ridge = ridge.fit(X_train,y_train)\n",
        "\n",
        "y_pred = result_ridge.predict(X_test)\n",
        "ridge_rmse = r2_score(y_pred, y_test)\n",
        "print(\"RMSE for Ridge_rmse Regression is \", ridge_rmse)"
      ],
      "execution_count": null,
      "outputs": []
    },
    {
      "cell_type": "code",
      "metadata": {
        "id": "UiacUjg6QDfu",
        "colab_type": "code",
        "colab": {}
      },
      "source": [
        "ridge_pred = result_ridge.predict(test)"
      ],
      "execution_count": null,
      "outputs": []
    },
    {
      "cell_type": "code",
      "metadata": {
        "id": "eO3y0SH9QKXP",
        "colab_type": "code",
        "colab": {}
      },
      "source": [
        "gdf_submission = submission\n",
        "gdf_submission['fare_amount']= ridge_pred\n",
        "\n",
        "gdf_submission.head()"
      ],
      "execution_count": null,
      "outputs": []
    },
    {
      "cell_type": "code",
      "metadata": {
        "id": "O9ZhuMwuQURQ",
        "colab_type": "code",
        "colab": {}
      },
      "source": [
        "gdf_submission.to_csv(env_submission_path+'submission_RidReg.csv',index=False)"
      ],
      "execution_count": null,
      "outputs": []
    },
    {
      "cell_type": "markdown",
      "metadata": {
        "id": "KhmGe2pIH8bs",
        "colab_type": "text"
      },
      "source": [
        "# 6. K-Nearest Neighbors Regression\n",
        "\n",
        "https://github.com/rapidsai/cuml/blob/branch-0.13/notebooks/kneighbors_regressor_demo.ipynb\n"
      ]
    },
    {
      "cell_type": "code",
      "metadata": {
        "id": "hlIw0FgjaKgP",
        "colab_type": "code",
        "colab": {}
      },
      "source": [
        "## params\n",
        "n_neighbors=4"
      ],
      "execution_count": null,
      "outputs": []
    },
    {
      "cell_type": "code",
      "metadata": {
        "id": "Dt2ZS-EZXmAP",
        "colab_type": "code",
        "colab": {
          "base_uri": "https://localhost:8080/",
          "height": 127
        },
        "outputId": "b32cf87f-b3f4-4410-e848-6ea92d4a238c"
      },
      "source": [
        "X=train.drop(['fare_amount'],axis=1)\n",
        "y=train['fare_amount']\n",
        "\n",
        "X_train, X_test, y_train, y_test = train_test_split(X,y, test_size=0.2)\n",
        "print(\"Number of records in training data \",X_train.shape[0])\n",
        "print(\"Number of records in validation data \",X_test.shape[0])\n",
        "print(X_train.shape)\n",
        "print(X_test.shape)\n",
        "print(y_train.shape)\n",
        "print(y_test.shape)"
      ],
      "execution_count": null,
      "outputs": [
        {
          "output_type": "stream",
          "text": [
            "Number of records in training data  4338063\n",
            "Number of records in validation data  1084515\n",
            "(4338063, 6)\n",
            "(1084515, 6)\n",
            "(4338063,)\n",
            "(1084515,)\n"
          ],
          "name": "stdout"
        }
      ]
    },
    {
      "cell_type": "code",
      "metadata": {
        "id": "kmdzooShH-MM",
        "colab_type": "code",
        "colab": {
          "base_uri": "https://localhost:8080/",
          "height": 54
        },
        "outputId": "251c6079-16cf-44df-db2e-0a098514aab6"
      },
      "source": [
        "## inspiration: https://www.kaggle.com/cdeotte/rapids-knn-30-seconds-0-938/notebook\n",
        "\n",
        "%%time\n",
        "knn_cuml = cumlKNR(n_neighbors=n_neighbors)\n",
        "knn_cuml.fit(X_train, y_train)\n",
        "\n",
        "cuml_result = knn_cuml.predict(test)"
      ],
      "execution_count": null,
      "outputs": [
        {
          "output_type": "stream",
          "text": [
            "CPU times: user 1.19 s, sys: 847 ms, total: 2.03 s\n",
            "Wall time: 2.04 s\n"
          ],
          "name": "stdout"
        }
      ]
    },
    {
      "cell_type": "code",
      "metadata": {
        "id": "kjWTGwu_aqNH",
        "colab_type": "code",
        "colab": {
          "base_uri": "https://localhost:8080/",
          "height": 35
        },
        "outputId": "ceb7ff40-6991-4db2-982c-7bbdb9179ba6"
      },
      "source": [
        "#y_pred=knn_cuml.predict(X_test)\n",
        "\n",
        "y_pred = knn_cuml.predict(X_test)\n",
        "knn_cuml_rmse = cuml.metrics.regression.r2_score(y_pred, y_test)\n",
        "print(\"RMSE for K-Nearest Neighbor is \",knn_cuml_rmse)"
      ],
      "execution_count": null,
      "outputs": [
        {
          "output_type": "stream",
          "text": [
            "RMSE for K-Nearest Neighbor is  0.6598584651947021\n"
          ],
          "name": "stdout"
        }
      ]
    },
    {
      "cell_type": "code",
      "metadata": {
        "id": "ES6Gfl_GggKb",
        "colab_type": "code",
        "colab": {}
      },
      "source": [
        ""
      ],
      "execution_count": null,
      "outputs": []
    },
    {
      "cell_type": "code",
      "metadata": {
        "id": "fzP6K_03ZYyR",
        "colab_type": "code",
        "colab": {}
      },
      "source": [
        "gdf_submission = submission\n",
        "gdf_submission['fare_amount']= cuml_result\n",
        "\n",
        "gdf_submission.head()\n",
        "\n",
        "gdf_submission.to_csv(env_submission_path+'submission_KNearest.csv',index=False)"
      ],
      "execution_count": null,
      "outputs": []
    },
    {
      "cell_type": "markdown",
      "metadata": {
        "id": "T0nLQZe2zzv_",
        "colab_type": "text"
      },
      "source": [
        "# Random Forest GPU\n"
      ]
    },
    {
      "cell_type": "code",
      "metadata": {
        "id": "nTlFRIbi1hly",
        "colab_type": "code",
        "colab": {}
      },
      "source": [
        "## params\n",
        "n_estimators=10\n",
        "n_jobs=-1"
      ],
      "execution_count": null,
      "outputs": []
    },
    {
      "cell_type": "code",
      "metadata": {
        "id": "wHSZ7-CFz3Xv",
        "colab_type": "code",
        "colab": {
          "base_uri": "https://localhost:8080/",
          "height": 127
        },
        "outputId": "ae56096f-911a-4beb-ed47-bf2237105b9e"
      },
      "source": [
        "X=train.drop(['fare_amount'],axis=1)\n",
        "y=train['fare_amount']\n",
        "\n",
        "X_train, X_test, y_train, y_test = train_test_split(X,y, test_size=0.2)\n",
        "print(\"Number of records in training data \",X_train.shape[0])\n",
        "print(\"Number of records in validation data \",X_test.shape[0])\n",
        "print(X_train.shape)\n",
        "print(X_test.shape)\n",
        "print(y_train.shape)\n",
        "print(y_test.shape)"
      ],
      "execution_count": null,
      "outputs": [
        {
          "output_type": "stream",
          "text": [
            "Number of records in training data  816084\n",
            "Number of records in validation data  204020\n",
            "(816084, 6)\n",
            "(204020, 6)\n",
            "(816084,)\n",
            "(204020,)\n"
          ],
          "name": "stdout"
        }
      ]
    },
    {
      "cell_type": "code",
      "metadata": {
        "id": "7aJAo-cM0F3C",
        "colab_type": "code",
        "colab": {
          "base_uri": "https://localhost:8080/",
          "height": 54
        },
        "outputId": "63a13802-781d-4141-94c4-7eb345b2ea15"
      },
      "source": [
        "%%time\n",
        "rf_cuml = cuRF(n_estimators=n_estimators)\n",
        "rf_cuml.fit(X_train, y_train)\n",
        "\n",
        "cuRF_result = rf_cuml.predict(test)"
      ],
      "execution_count": null,
      "outputs": [
        {
          "output_type": "stream",
          "text": [
            "CPU times: user 934 ms, sys: 531 ms, total: 1.47 s\n",
            "Wall time: 1 s\n"
          ],
          "name": "stdout"
        }
      ]
    },
    {
      "cell_type": "code",
      "metadata": {
        "id": "JopZ4B2P1vh7",
        "colab_type": "code",
        "colab": {
          "base_uri": "https://localhost:8080/",
          "height": 35
        },
        "outputId": "54842e8d-3b4b-4ce7-8039-bb9d8d48462f"
      },
      "source": [
        "y_pred = rf_cuml.predict(X_test)\n",
        "rf_cuml_rmse = cuml.metrics.regression.r2_score(y_pred, y_test)\n",
        "print(\"RMSE for Random Forest is \",rf_cuml_rmse)"
      ],
      "execution_count": null,
      "outputs": [
        {
          "output_type": "stream",
          "text": [
            "RMSE for Random Forest is  0.24728357791900635\n"
          ],
          "name": "stdout"
        }
      ]
    },
    {
      "cell_type": "code",
      "metadata": {
        "id": "B0tAnJJv4T-x",
        "colab_type": "code",
        "colab": {}
      },
      "source": [
        "gdf_submission = submission\n",
        "gdf_submission['fare_amount']= cuRF_result\n",
        "\n",
        "gdf_submission.head()\n",
        "\n",
        "gdf_submission.to_csv(env_submission_path+'submission_RandomForest.csv',index=False)"
      ],
      "execution_count": null,
      "outputs": []
    },
    {
      "cell_type": "markdown",
      "metadata": {
        "id": "dXgn5i-9r2Ih",
        "colab_type": "text"
      },
      "source": [
        "# LGBM model"
      ]
    },
    {
      "cell_type": "markdown",
      "metadata": {
        "id": "awLaNNrur6tD",
        "colab_type": "text"
      },
      "source": [
        "- https://medium.com/@pushkarmandot/https-medium-com-pushkarmandot-what-is-lightgbm-how-to-implement-it-how-to-fine-tune-the-parameters-60347819b7fc\n",
        "\n",
        "- https://www.kaggle.com/nicapotato/taxi-rides-time-analysis-and-oof-lgbm\n",
        "\n",
        "- https://www.kaggle.com/dsaichand3/lgbm-gpu\n",
        "\n",
        "- https://www.kaggle.com/aerdem4/rapids-svm-on-trends-neuroimaging\n",
        "\n",
        "\n",
        "Compared CPU vs GPU:\n",
        "- https://www.kaggle.com/ishivinal/sklearn-rapids-pandas\n"
      ]
    },
    {
      "cell_type": "markdown",
      "metadata": {
        "id": "Br4cxQ_dhhOd",
        "colab_type": "text"
      },
      "source": [
        "## Setup LGBM with GPU Support\n",
        "\n",
        "How to setup LGBM GPU Beta:\n",
        "- https://www.kaggle.com/vinhnguyen/gpu-acceleration-for-lightgbm\n"
      ]
    },
    {
      "cell_type": "code",
      "metadata": {
        "id": "LCEtHPjI3L68",
        "colab_type": "code",
        "colab": {
          "base_uri": "https://localhost:8080/",
          "height": 293
        },
        "outputId": "d778d572-cf05-4a50-c863-6397b4daaba3"
      },
      "source": [
        "!rm -r /opt/conda/lib/python3.6/site-packages/lightgbm\n",
        "!git clone --recursive https://github.com/Microsoft/LightGBM\n",
        "!apt-get install -y -qq libboost-all-dev"
      ],
      "execution_count": null,
      "outputs": [
        {
          "output_type": "stream",
          "text": [
            "rm: cannot remove '/opt/conda/lib/python3.6/site-packages/lightgbm': No such file or directory\n",
            "Cloning into 'LightGBM'...\n",
            "remote: Enumerating objects: 47, done.\u001b[K\n",
            "remote: Counting objects: 100% (47/47), done.\u001b[K\n",
            "remote: Compressing objects: 100% (46/46), done.\u001b[K\n",
            "remote: Total 19367 (delta 13), reused 0 (delta 0), pack-reused 19320\u001b[K\n",
            "Receiving objects: 100% (19367/19367), 15.63 MiB | 9.64 MiB/s, done.\n",
            "Resolving deltas: 100% (14126/14126), done.\n",
            "Submodule 'include/boost/compute' (https://github.com/boostorg/compute) registered for path 'compute'\n",
            "Cloning into '/content/LightGBM/compute'...\n",
            "remote: Enumerating objects: 21728, done.        \n",
            "remote: Total 21728 (delta 0), reused 0 (delta 0), pack-reused 21728        \n",
            "Receiving objects: 100% (21728/21728), 8.51 MiB | 6.42 MiB/s, done.\n",
            "Resolving deltas: 100% (17565/17565), done.\n",
            "Submodule path 'compute': checked out '36c89134d4013b2e5e45bc55656a18bd6141995a'\n"
          ],
          "name": "stdout"
        }
      ]
    },
    {
      "cell_type": "code",
      "metadata": {
        "id": "55cYhd8bfvff",
        "colab_type": "code",
        "colab": {
          "base_uri": "https://localhost:8080/",
          "height": 1000
        },
        "outputId": "93f2ff6f-6fb9-4eb3-eaa9-b91bc1e36d19"
      },
      "source": [
        "%%bash\n",
        "cd LightGBM\n",
        "rm -r build\n",
        "mkdir build\n",
        "cd build\n",
        "cmake -DUSE_GPU=1 -DOpenCL_LIBRARY=/usr/local/cuda/lib64/libOpenCL.so -DOpenCL_INCLUDE_DIR=/usr/local/cuda/include/ ..\n",
        "make -j$(nproc)"
      ],
      "execution_count": null,
      "outputs": [
        {
          "output_type": "stream",
          "text": [
            "-- The C compiler identification is GNU 7.5.0\n",
            "-- The CXX compiler identification is GNU 7.5.0\n",
            "-- Check for working C compiler: /usr/bin/cc\n",
            "-- Check for working C compiler: /usr/bin/cc -- works\n",
            "-- Detecting C compiler ABI info\n",
            "-- Detecting C compiler ABI info - done\n",
            "-- Detecting C compile features\n",
            "-- Detecting C compile features - done\n",
            "-- Check for working CXX compiler: /usr/bin/c++\n",
            "-- Check for working CXX compiler: /usr/bin/c++ -- works\n",
            "-- Detecting CXX compiler ABI info\n",
            "-- Detecting CXX compiler ABI info - done\n",
            "-- Detecting CXX compile features\n",
            "-- Detecting CXX compile features - done\n",
            "-- Found OpenMP_C: -fopenmp (found version \"4.5\") \n",
            "-- Found OpenMP_CXX: -fopenmp (found version \"4.5\") \n",
            "-- Found OpenMP: TRUE (found version \"4.5\")  \n",
            "-- Looking for CL_VERSION_2_2\n",
            "-- Looking for CL_VERSION_2_2 - not found\n",
            "-- Looking for CL_VERSION_2_1\n",
            "-- Looking for CL_VERSION_2_1 - not found\n",
            "-- Looking for CL_VERSION_2_0\n",
            "-- Looking for CL_VERSION_2_0 - not found\n",
            "-- Looking for CL_VERSION_1_2\n",
            "-- Looking for CL_VERSION_1_2 - found\n",
            "-- Found OpenCL: /usr/local/cuda/lib64/libOpenCL.so (found version \"1.2\") \n",
            "-- OpenCL include directory: /usr/local/cuda/include\n",
            "-- Found Boost 1.70.0 at /usr/local/lib/cmake/Boost-1.70.0\n",
            "--   Requested configuration: QUIET REQUIRED COMPONENTS filesystem;system\n",
            "-- Found boost_headers 1.70.0 at /usr/local/lib/cmake/boost_headers-1.70.0\n",
            "-- Found boost_filesystem 1.70.0 at /usr/local/lib/cmake/boost_filesystem-1.70.0\n",
            "--   libboost_filesystem.a\n",
            "-- Adding boost_filesystem dependencies: headers\n",
            "-- Found boost_system 1.70.0 at /usr/local/lib/cmake/boost_system-1.70.0\n",
            "--   libboost_system.a\n",
            "-- Adding boost_system dependencies: headers\n",
            "-- Boost 1.56.0 found.\n",
            "-- Found Boost components:\n",
            "   filesystem;system\n",
            "-- Performing Test MM_PREFETCH\n",
            "-- Performing Test MM_PREFETCH - Success\n",
            "-- Using _mm_prefetch\n",
            "-- Performing Test MM_MALLOC\n",
            "-- Performing Test MM_MALLOC - Success\n",
            "-- Using _mm_malloc\n",
            "-- Configuring done\n",
            "-- Generating done\n",
            "-- Build files have been written to: /content/LightGBM/build\n",
            "Scanning dependencies of target _lightgbm\n",
            "Scanning dependencies of target lightgbm\n",
            "[  1%] Building CXX object CMakeFiles/lightgbm.dir/src/main.cpp.o\n",
            "[  3%] Building CXX object CMakeFiles/_lightgbm.dir/src/application/application.cpp.o\n",
            "[  4%] Building CXX object CMakeFiles/lightgbm.dir/src/application/application.cpp.o\n",
            "[  6%] Building CXX object CMakeFiles/_lightgbm.dir/src/boosting/boosting.cpp.o\n",
            "[  7%] Building CXX object CMakeFiles/lightgbm.dir/src/boosting/boosting.cpp.o\n",
            "[  9%] Building CXX object CMakeFiles/_lightgbm.dir/src/boosting/gbdt.cpp.o\n",
            "[ 10%] Building CXX object CMakeFiles/lightgbm.dir/src/boosting/gbdt.cpp.o\n",
            "[ 12%] Building CXX object CMakeFiles/_lightgbm.dir/src/boosting/gbdt_model_text.cpp.o\n",
            "[ 14%] Building CXX object CMakeFiles/lightgbm.dir/src/boosting/gbdt_model_text.cpp.o\n",
            "[ 15%] Building CXX object CMakeFiles/_lightgbm.dir/src/boosting/gbdt_prediction.cpp.o\n",
            "[ 17%] Building CXX object CMakeFiles/lightgbm.dir/src/boosting/gbdt_prediction.cpp.o\n",
            "[ 18%] Building CXX object CMakeFiles/_lightgbm.dir/src/boosting/prediction_early_stop.cpp.o\n",
            "[ 20%] Building CXX object CMakeFiles/_lightgbm.dir/src/io/bin.cpp.o\n",
            "[ 21%] Building CXX object CMakeFiles/lightgbm.dir/src/boosting/prediction_early_stop.cpp.o\n",
            "[ 23%] Building CXX object CMakeFiles/lightgbm.dir/src/io/bin.cpp.o\n",
            "[ 25%] Building CXX object CMakeFiles/_lightgbm.dir/src/io/config.cpp.o\n",
            "[ 26%] Building CXX object CMakeFiles/lightgbm.dir/src/io/config.cpp.o\n",
            "[ 28%] Building CXX object CMakeFiles/_lightgbm.dir/src/io/config_auto.cpp.o\n",
            "[ 29%] Building CXX object CMakeFiles/lightgbm.dir/src/io/config_auto.cpp.o\n",
            "[ 31%] Building CXX object CMakeFiles/_lightgbm.dir/src/io/dataset.cpp.o\n",
            "[ 32%] Building CXX object CMakeFiles/lightgbm.dir/src/io/dataset.cpp.o\n",
            "[ 34%] Building CXX object CMakeFiles/_lightgbm.dir/src/io/dataset_loader.cpp.o\n",
            "[ 35%] Building CXX object CMakeFiles/lightgbm.dir/src/io/dataset_loader.cpp.o\n",
            "[ 37%] Building CXX object CMakeFiles/_lightgbm.dir/src/io/file_io.cpp.o\n",
            "[ 39%] Building CXX object CMakeFiles/_lightgbm.dir/src/io/json11.cpp.o\n",
            "[ 40%] Building CXX object CMakeFiles/lightgbm.dir/src/io/file_io.cpp.o\n",
            "[ 42%] Building CXX object CMakeFiles/lightgbm.dir/src/io/json11.cpp.o\n",
            "[ 43%] Building CXX object CMakeFiles/_lightgbm.dir/src/io/metadata.cpp.o\n",
            "[ 45%] Building CXX object CMakeFiles/lightgbm.dir/src/io/metadata.cpp.o\n",
            "[ 46%] Building CXX object CMakeFiles/_lightgbm.dir/src/io/parser.cpp.o\n",
            "[ 48%] Building CXX object CMakeFiles/lightgbm.dir/src/io/parser.cpp.o\n",
            "[ 50%] Building CXX object CMakeFiles/_lightgbm.dir/src/io/tree.cpp.o\n",
            "[ 51%] Building CXX object CMakeFiles/lightgbm.dir/src/io/tree.cpp.o\n",
            "[ 53%] Building CXX object CMakeFiles/_lightgbm.dir/src/metric/dcg_calculator.cpp.o\n",
            "[ 54%] Building CXX object CMakeFiles/lightgbm.dir/src/metric/dcg_calculator.cpp.o\n",
            "[ 56%] Building CXX object CMakeFiles/_lightgbm.dir/src/metric/metric.cpp.o\n",
            "[ 57%] Building CXX object CMakeFiles/lightgbm.dir/src/metric/metric.cpp.o\n",
            "[ 59%] Building CXX object CMakeFiles/_lightgbm.dir/src/network/linker_topo.cpp.o\n",
            "[ 60%] Building CXX object CMakeFiles/lightgbm.dir/src/network/linker_topo.cpp.o\n",
            "[ 62%] Building CXX object CMakeFiles/_lightgbm.dir/src/network/linkers_mpi.cpp.o\n",
            "[ 64%] Building CXX object CMakeFiles/_lightgbm.dir/src/network/linkers_socket.cpp.o\n",
            "[ 65%] Building CXX object CMakeFiles/lightgbm.dir/src/network/linkers_mpi.cpp.o\n",
            "[ 67%] Building CXX object CMakeFiles/lightgbm.dir/src/network/linkers_socket.cpp.o\n",
            "[ 68%] Building CXX object CMakeFiles/_lightgbm.dir/src/network/network.cpp.o\n",
            "[ 70%] Building CXX object CMakeFiles/lightgbm.dir/src/network/network.cpp.o\n",
            "[ 71%] Building CXX object CMakeFiles/_lightgbm.dir/src/objective/objective_function.cpp.o\n",
            "[ 73%] Building CXX object CMakeFiles/lightgbm.dir/src/objective/objective_function.cpp.o\n",
            "[ 75%] Building CXX object CMakeFiles/_lightgbm.dir/src/treelearner/cuda_tree_learner.cpp.o\n",
            "[ 76%] Building CXX object CMakeFiles/_lightgbm.dir/src/treelearner/data_parallel_tree_learner.cpp.o\n",
            "[ 78%] Building CXX object CMakeFiles/lightgbm.dir/src/treelearner/cuda_tree_learner.cpp.o\n",
            "[ 79%] Building CXX object CMakeFiles/lightgbm.dir/src/treelearner/data_parallel_tree_learner.cpp.o\n",
            "[ 81%] Building CXX object CMakeFiles/_lightgbm.dir/src/treelearner/feature_parallel_tree_learner.cpp.o\n",
            "[ 82%] Building CXX object CMakeFiles/lightgbm.dir/src/treelearner/feature_parallel_tree_learner.cpp.o\n",
            "[ 84%] Building CXX object CMakeFiles/_lightgbm.dir/src/treelearner/gpu_tree_learner.cpp.o\n",
            "[ 85%] Building CXX object CMakeFiles/lightgbm.dir/src/treelearner/gpu_tree_learner.cpp.o\n",
            "[ 87%] Building CXX object CMakeFiles/_lightgbm.dir/src/treelearner/serial_tree_learner.cpp.o\n",
            "[ 89%] Building CXX object CMakeFiles/lightgbm.dir/src/treelearner/serial_tree_learner.cpp.o\n",
            "[ 90%] Building CXX object CMakeFiles/_lightgbm.dir/src/treelearner/tree_learner.cpp.o\n",
            "[ 92%] Building CXX object CMakeFiles/lightgbm.dir/src/treelearner/tree_learner.cpp.o\n",
            "[ 93%] Building CXX object CMakeFiles/_lightgbm.dir/src/treelearner/voting_parallel_tree_learner.cpp.o\n",
            "[ 95%] Building CXX object CMakeFiles/lightgbm.dir/src/treelearner/voting_parallel_tree_learner.cpp.o\n",
            "[ 96%] Building CXX object CMakeFiles/_lightgbm.dir/src/c_api.cpp.o\n",
            "[ 98%] Linking CXX executable ../lightgbm\n",
            "CMakeFiles/lightgbm.dir/build.make:534: recipe for target '../lightgbm' failed\n",
            "CMakeFiles/Makefile2:109: recipe for target 'CMakeFiles/lightgbm.dir/all' failed\n",
            "[100%] Linking CXX shared library ../lib_lightgbm.so\n",
            "[100%] Built target _lightgbm\n",
            "Makefile:129: recipe for target 'all' failed\n"
          ],
          "name": "stdout"
        },
        {
          "output_type": "stream",
          "text": [
            "rm: cannot remove 'build': No such file or directory\n",
            "CMakeFiles/lightgbm.dir/src/treelearner/gpu_tree_learner.cpp.o: In function `boost::compute::detail::program_binary_path(std::__cxx11::basic_string<char, std::char_traits<char>, std::allocator<char> > const&, bool)':\n",
            "gpu_tree_learner.cpp:(.text._ZN5boost7compute6detail19program_binary_pathERKNSt7__cxx1112basic_stringIcSt11char_traitsIcESaIcEEEb[_ZN5boost7compute6detail19program_binary_pathERKNSt7__cxx1112basic_stringIcSt11char_traitsIcESaIcEEEb]+0x1e5): undefined reference to `boost::filesystem::detail::status(boost::filesystem::path const&, boost::system::error_code*)'\n",
            "gpu_tree_learner.cpp:(.text._ZN5boost7compute6detail19program_binary_pathERKNSt7__cxx1112basic_stringIcSt11char_traitsIcESaIcEEEb[_ZN5boost7compute6detail19program_binary_pathERKNSt7__cxx1112basic_stringIcSt11char_traitsIcESaIcEEEb]+0x233): undefined reference to `boost::filesystem::detail::create_directories(boost::filesystem::path const&, boost::system::error_code*)'\n",
            "CMakeFiles/lightgbm.dir/src/treelearner/gpu_tree_learner.cpp.o: In function `boost::compute::detail::parameter_cache_path[abi:cxx11](bool)':\n",
            "gpu_tree_learner.cpp:(.text._ZN5boost7compute6detail20parameter_cache_pathB5cxx11Eb[_ZN5boost7compute6detail20parameter_cache_pathB5cxx11Eb]+0x70): undefined reference to `boost::filesystem::detail::status(boost::filesystem::path const&, boost::system::error_code*)'\n",
            "gpu_tree_learner.cpp:(.text._ZN5boost7compute6detail20parameter_cache_pathB5cxx11Eb[_ZN5boost7compute6detail20parameter_cache_pathB5cxx11Eb]+0xb4): undefined reference to `boost::filesystem::detail::create_directories(boost::filesystem::path const&, boost::system::error_code*)'\n",
            "CMakeFiles/lightgbm.dir/src/treelearner/gpu_tree_learner.cpp.o: In function `boost::detail::sp_if_not_array<boost::compute::detail::parameter_cache>::type boost::make_shared<boost::compute::detail::parameter_cache, boost::compute::device const&>(boost::compute::device const&)':\n",
            "gpu_tree_learner.cpp:(.text._ZN5boost11make_sharedINS_7compute6detail15parameter_cacheEJRKNS1_6deviceEEEENS_6detail15sp_if_not_arrayIT_E4typeEDpOT0_[_ZN5boost11make_sharedINS_7compute6detail15parameter_cacheEJRKNS1_6deviceEEEENS_6detail15sp_if_not_arrayIT_E4typeEDpOT0_]+0x127): undefined reference to `boost::filesystem::detail::status(boost::filesystem::path const&, boost::system::error_code*)'\n",
            "collect2: error: ld returned 1 exit status\n",
            "make[2]: *** [../lightgbm] Error 1\n",
            "make[1]: *** [CMakeFiles/lightgbm.dir/all] Error 2\n",
            "make[1]: *** Waiting for unfinished jobs....\n",
            "make: *** [all] Error 2\n"
          ],
          "name": "stderr"
        }
      ]
    },
    {
      "cell_type": "code",
      "metadata": {
        "id": "xAb6mTwwqps-",
        "colab_type": "code",
        "colab": {
          "base_uri": "https://localhost:8080/",
          "height": 72
        },
        "outputId": "1d1e799e-922a-41f2-8994-7c62c8f6f508"
      },
      "source": [
        "!cd LightGBM/python-package/;python3 setup.py install --precompile\n",
        "!mkdir -p /etc/OpenCL/vendors && echo \"libnvidia-opencl.so.1\" > /etc/OpenCL/vendors/nvidia.icd\n",
        "!rm -r LightGBM"
      ],
      "execution_count": null,
      "outputs": [
        {
          "output_type": "stream",
          "text": [
            "/bin/bash: line 0: cd: content/LightGBM/python-package/: No such file or directory\n",
            "python3: can't open file 'setup.py': [Errno 2] No such file or directory\n",
            "rm: cannot remove 'LightGBM': No such file or directory\n"
          ],
          "name": "stdout"
        }
      ]
    },
    {
      "cell_type": "code",
      "metadata": {
        "id": "eVlid4GMsy2W",
        "colab_type": "code",
        "colab": {}
      },
      "source": [
        "import lightgbm as lgbm"
      ],
      "execution_count": null,
      "outputs": []
    },
    {
      "cell_type": "code",
      "metadata": {
        "id": "bS403xD2hqTa",
        "colab_type": "code",
        "colab": {}
      },
      "source": [
        "## Inspiration from https://www.kaggle.com/dsaichand3/lgbm-gpu\n",
        "params = {\n",
        "        'boosting_type':'gbdt',\n",
        "        'objective': 'regression',\n",
        "        'nthread': 4,\n",
        "        'num_leaves': 31,\n",
        "        'learning_rate': 0.15,\n",
        "        'max_depth': -1,\n",
        "        'subsample': 0.8,\n",
        "        'bagging_fraction' : 1,\n",
        "        'max_bin' : 15,\n",
        "        'bagging_freq': 20,\n",
        "        'colsample_bytree': 0.6,\n",
        "        'metric': 'rmse',\n",
        "        'min_split_gain': 0.5,\n",
        "        'min_child_weight': 1,\n",
        "        'min_child_samples': 10,\n",
        "        'scale_pos_weight':1,\n",
        "        'zero_as_missing': True,\n",
        "        'seed':0,\n",
        "        'num_rounds':50000,\n",
        "        'device': 'gpu',\n",
        "        'gpu_platform_id': 0,\n",
        "        'gpu_device_id': 0\n",
        "    }"
      ],
      "execution_count": null,
      "outputs": []
    },
    {
      "cell_type": "code",
      "metadata": {
        "id": "vG0yNPRkn7Tn",
        "colab_type": "code",
        "colab": {}
      },
      "source": [
        "X=train.drop(['fare_amount'],axis=1)\n",
        "y=train['fare_amount']\n",
        "\n",
        "X_train, X_test, y_train, y_test = train_test_split(X,y, test_size=0.2)\n",
        "print(\"Number of records in training data \",X_train.shape[0])\n",
        "print(\"Number of records in validation data \",X_test.shape[0])\n",
        "print(X_train.shape)\n",
        "print(X_test.shape)\n",
        "print(y_train.shape)\n",
        "print(y_test.shape)"
      ],
      "execution_count": null,
      "outputs": []
    },
    {
      "cell_type": "code",
      "metadata": {
        "id": "1RIJOuhNoM2i",
        "colab_type": "code",
        "colab": {}
      },
      "source": [
        ""
      ],
      "execution_count": null,
      "outputs": []
    },
    {
      "cell_type": "code",
      "metadata": {
        "id": "F4ihZhGkip44",
        "colab_type": "code",
        "colab": {}
      },
      "source": [
        "%%time\n",
        "train_set = lgbm.Dataset(x_train, y_train, silent=False, categorical_feature=['year','month','day'])\n",
        "valid_set = lgbm.Dataset(x_test, y_test, silent=False, categorical_feature=['year','month','day'])\n",
        "del x_train, y_train, x_test, y_test\n",
        "gc.collect()\n",
        "model = lgbm.train(params, train_set = train_set, num_boost_round=10000, early_stopping_rounds=500, verbose_eval=500, valid_sets=valid_set)"
      ],
      "execution_count": null,
      "outputs": []
    },
    {
      "cell_type": "code",
      "metadata": {
        "id": "_PAZn171ip1s",
        "colab_type": "code",
        "colab": {}
      },
      "source": [
        "dataset = pd.read_csv(\"/kaggle/input/new-york-city-taxi-fare-prediction/train.csv\", nrows = 25000000)"
      ],
      "execution_count": null,
      "outputs": []
    },
    {
      "cell_type": "code",
      "metadata": {
        "id": "aFYM35GRhqNW",
        "colab_type": "code",
        "colab": {}
      },
      "source": [
        "LGBM_pred = model.predict(test, num_iteration = model.best_iteration)"
      ],
      "execution_count": null,
      "outputs": []
    },
    {
      "cell_type": "code",
      "metadata": {
        "id": "RpiQu9UqtgzG",
        "colab_type": "code",
        "colab": {}
      },
      "source": [
        "gdf_submission = submission\n",
        "gdf_submission['fare_amount']= LBGM_pred\n",
        "\n",
        "gdf_submission.to_csv(env_submission_path+'submission_LGBM.csv',index=False)\n",
        "\n",
        "gdf_submission.head()"
      ],
      "execution_count": null,
      "outputs": []
    },
    {
      "cell_type": "markdown",
      "metadata": {
        "id": "Qz1vk8UNVeAv",
        "colab_type": "text"
      },
      "source": [
        "# 7. Evaluation and Discussion"
      ]
    },
    {
      "cell_type": "code",
      "metadata": {
        "id": "cz0YAjbPVhMu",
        "colab_type": "code",
        "colab": {}
      },
      "source": [
        ""
      ],
      "execution_count": null,
      "outputs": []
    }
  ]
}